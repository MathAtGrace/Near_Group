{
 "cells": [
  {
   "cell_type": "markdown",
   "metadata": {},
   "source": [
    "# Build Metric Groups\n",
    "\n",
    "This worksheet builds an `AdditiveAbelianGroup` and a homogeneous nondegenerate quadratic form and its associated nondegenerate bilinear form given a list of tuples of the form $(p,r,d)$ where $p$ is a prime, $r$ is a positive integer, and $d$ is an integer between 1 and 2 if $p$ is odd, and $d$ is between 1 and 6 if $p=2$.  The number $d$ determines the type of quadratic form as defined by Miranda.\n",
    "\n",
    "To create the quadratic form, it is necessesary to create the smallest possible cyclotomic field that will be needed for the quadratic form, and will also contain 4th or 8th roots for Gauss sums and the square root of the order of the group."
   ]
  },
  {
   "cell_type": "code",
   "execution_count": 2,
   "metadata": {},
   "outputs": [],
   "source": [
    "import itertools"
   ]
  },
  {
   "cell_type": "code",
   "execution_count": 3,
   "metadata": {},
   "outputs": [],
   "source": [
    "def cyclotomic_n(pr_orders):\n",
    "    n = prod(pr_orders)\n",
    "    n1 = lcm(pr_orders)\n",
    "    #n1 corresponds to denominator of the quadratic form\n",
    "    if n1 % 2 == 0:\n",
    "        n1 = n1*2\n",
    "    #if n1 is odd, gauss sums will exist in QQ(i)\n",
    "    else:\n",
    "        n1 = n1*4\n",
    "    #We need a cyclotomic field that contains sqrt(n)\n",
    "    n2 = n.squarefree_part()\n",
    "    if n2 % 2 == 0:\n",
    "        n2 = n2 * 4\n",
    "    n3 = lcm(n1,n2)\n",
    "    return n3"
   ]
  },
  {
   "cell_type": "code",
   "execution_count": 4,
   "metadata": {},
   "outputs": [],
   "source": [
    "def build_metric_group(prd_tuples):\n",
    "    orders = [p^r for (p,r,d) in prd_tuples for i in range(int(d/5)+1)]\n",
    "    n = cyclotomic_n(orders)\n",
    "    G = AdditiveAbelianGroup(orders)\n",
    "    Z = CyclotomicField(n)\n",
    "    z = Z.gen()\n",
    "    Q = []\n",
    "    for tup in prd_tuples:\n",
    "        p,r,d = tup\n",
    "        if p == 2 and d == 1:\n",
    "            Q.append(matrix([[n*p^(-r-1)]]))\n",
    "        elif p == 2 and d == 2:\n",
    "            Q.append(matrix([[-n*p^(-r-1)]]))\n",
    "        elif p == 2 and d == 3:\n",
    "            Q.append(matrix([[5*n*p^(-r-1)]]))\n",
    "        elif p == 2 and d == 4:\n",
    "            Q.append(matrix([[-5*n*p^(-r-1)]]))\n",
    "        elif p == 2 and d == 5:\n",
    "            Q.append(n*p^(-r-1)*matrix([[0,1],[1,0]]))\n",
    "        elif p == 2 and d == 6:\n",
    "            Q.append(n*p^(-r-1)*matrix([[2,1],[1,2]]))\n",
    "        elif d == 1:\n",
    "            v = (p^r + 1)/2 #v is 2^(-1) in Z/p^rZ\n",
    "            Q.append(matrix([[ZZ(v*n*p^(-r))]]))\n",
    "        elif d == 2:\n",
    "            v = (p^r + 1)/2 #v is 2^(-1) in Z/p^rZ\n",
    "            u = ZZ(Zmod(p).multiplicative_generator())\n",
    "            Q.append(matrix([[ZZ(u*v*n*p^(-r))]]))\n",
    "        else:\n",
    "            print(\"Build error: \", p, r, d)\n",
    "    return [G,block_diagonal_matrix(Q, subdivide=False),z]"
   ]
  },
  {
   "cell_type": "markdown",
   "metadata": {},
   "source": [
    "The functions `q` and `b` are multiplicative and the functions `q2` and `b2` are additive."
   ]
  },
  {
   "cell_type": "code",
   "execution_count": 5,
   "metadata": {},
   "outputs": [],
   "source": [
    "def q(g,Q,z):\n",
    "    x = vector(g.lift())\n",
    "    return z^(x*Q*x)\n",
    "\n",
    "def b(g,h,Q,z):\n",
    "    return q(g+h,Q,z)/q(g,Q,z)/q(h,Q,z)\n",
    "\n",
    "def q2(g,Q,z):\n",
    "    n = z.multiplicative_order()\n",
    "    x = vector(g.lift())\n",
    "    return 1/n*(x*Q*x % n)\n",
    "\n",
    "def b2(g,h,Q,z):\n",
    "    return q2(g+h,Q,z)-q2(g,Q,z)-q2(h,Q,z)"
   ]
  },
  {
   "cell_type": "code",
   "execution_count": 13,
   "metadata": {},
   "outputs": [
    {
     "data": {
      "text/html": [
       "<html><script type=\"math/tex; mode=display\">\\newcommand{\\Bold}[1]{\\mathbf{#1}}\\frac{\\ZZ}{12\\ZZ} \\left(\\begin{array}{rr}\n",
       "3 & 0 \\\\\n",
       "0 & 16\n",
       "\\end{array}\\right) \\zeta_{24}</script></html>"
      ],
      "text/latex": [
       "\\begin{math}\n",
       "\\newcommand{\\Bold}[1]{\\mathbf{#1}}\\frac{\\ZZ}{12\\ZZ} \\left(\\begin{array}{rr}\n",
       "3 & 0 \\\\\n",
       "0 & 16\n",
       "\\end{array}\\right) \\zeta_{24}\n",
       "\\end{math}"
      ],
      "text/plain": [
       "Additive abelian group isomorphic to Z/4 + Z/3 [ 3  0]\n",
       "[ 0 16] zeta24"
      ]
     },
     "metadata": {},
     "output_type": "display_data"
    }
   ],
   "source": [
    "G, Q, z = build_metric_group([(2,2,1),(3,1,1)])\n",
    "show(G,Q,z)"
   ]
  },
  {
   "cell_type": "code",
   "execution_count": 14,
   "metadata": {},
   "outputs": [
    {
     "data": {
      "text/html": [
       "<html><script type=\"math/tex; mode=display\">\\newcommand{\\Bold}[1]{\\mathbf{#1}}\\left(\\begin{array}{rrrrrrrrrrrr}\n",
       "0 & 0 & 0 & 0 & 0 & 0 & 0 & 0 & 0 & 0 & 0 & 0 \\\\\n",
       "0 & -\\frac{17}{12} & -\\frac{5}{6} & -\\frac{1}{4} & -\\frac{2}{3} & -\\frac{13}{12} & -\\frac{1}{2} & -\\frac{11}{12} & -\\frac{4}{3} & -\\frac{3}{4} & -\\frac{1}{6} & -\\frac{19}{12} \\\\\n",
       "0 & -\\frac{5}{6} & \\frac{1}{3} & \\frac{1}{2} & -\\frac{1}{3} & -\\frac{1}{6} & 0 & -\\frac{5}{6} & -\\frac{2}{3} & \\frac{1}{2} & -\\frac{1}{3} & -\\frac{1}{6} \\\\\n",
       "0 & -\\frac{1}{4} & \\frac{1}{2} & \\frac{1}{4} & 0 & -\\frac{1}{4} & -\\frac{1}{2} & -\\frac{3}{4} & 0 & -\\frac{1}{4} & \\frac{1}{2} & -\\frac{3}{4} \\\\\n",
       "0 & -\\frac{2}{3} & -\\frac{1}{3} & 0 & -\\frac{2}{3} & -\\frac{4}{3} & -1 & -\\frac{2}{3} & -\\frac{4}{3} & 0 & -\\frac{2}{3} & -\\frac{4}{3} \\\\\n",
       "0 & -\\frac{13}{12} & -\\frac{1}{6} & -\\frac{1}{4} & -\\frac{4}{3} & -\\frac{17}{12} & -\\frac{1}{2} & -\\frac{19}{12} & -\\frac{2}{3} & -\\frac{3}{4} & -\\frac{5}{6} & -\\frac{11}{12} \\\\\n",
       "0 & -\\frac{1}{2} & 0 & -\\frac{1}{2} & -1 & -\\frac{1}{2} & -1 & -\\frac{1}{2} & -1 & -\\frac{1}{2} & 0 & -\\frac{1}{2} \\\\\n",
       "0 & -\\frac{11}{12} & -\\frac{5}{6} & -\\frac{3}{4} & -\\frac{2}{3} & -\\frac{19}{12} & -\\frac{1}{2} & -\\frac{17}{12} & -\\frac{4}{3} & -\\frac{1}{4} & -\\frac{1}{6} & -\\frac{13}{12} \\\\\n",
       "0 & -\\frac{4}{3} & -\\frac{2}{3} & 0 & -\\frac{4}{3} & -\\frac{2}{3} & -1 & -\\frac{4}{3} & -\\frac{2}{3} & 0 & -\\frac{1}{3} & -\\frac{2}{3} \\\\\n",
       "0 & -\\frac{3}{4} & \\frac{1}{2} & -\\frac{1}{4} & 0 & -\\frac{3}{4} & -\\frac{1}{2} & -\\frac{1}{4} & 0 & \\frac{1}{4} & \\frac{1}{2} & -\\frac{1}{4} \\\\\n",
       "0 & -\\frac{1}{6} & -\\frac{1}{3} & \\frac{1}{2} & -\\frac{2}{3} & -\\frac{5}{6} & 0 & -\\frac{1}{6} & -\\frac{1}{3} & \\frac{1}{2} & \\frac{1}{3} & -\\frac{5}{6} \\\\\n",
       "0 & -\\frac{19}{12} & -\\frac{1}{6} & -\\frac{3}{4} & -\\frac{4}{3} & -\\frac{11}{12} & -\\frac{1}{2} & -\\frac{13}{12} & -\\frac{2}{3} & -\\frac{1}{4} & -\\frac{5}{6} & -\\frac{17}{12}\n",
       "\\end{array}\\right)</script></html>"
      ],
      "text/latex": [
       "\\begin{math}\n",
       "\\newcommand{\\Bold}[1]{\\mathbf{#1}}\\left(\\begin{array}{rrrrrrrrrrrr}\n",
       "0 & 0 & 0 & 0 & 0 & 0 & 0 & 0 & 0 & 0 & 0 & 0 \\\\\n",
       "0 & -\\frac{17}{12} & -\\frac{5}{6} & -\\frac{1}{4} & -\\frac{2}{3} & -\\frac{13}{12} & -\\frac{1}{2} & -\\frac{11}{12} & -\\frac{4}{3} & -\\frac{3}{4} & -\\frac{1}{6} & -\\frac{19}{12} \\\\\n",
       "0 & -\\frac{5}{6} & \\frac{1}{3} & \\frac{1}{2} & -\\frac{1}{3} & -\\frac{1}{6} & 0 & -\\frac{5}{6} & -\\frac{2}{3} & \\frac{1}{2} & -\\frac{1}{3} & -\\frac{1}{6} \\\\\n",
       "0 & -\\frac{1}{4} & \\frac{1}{2} & \\frac{1}{4} & 0 & -\\frac{1}{4} & -\\frac{1}{2} & -\\frac{3}{4} & 0 & -\\frac{1}{4} & \\frac{1}{2} & -\\frac{3}{4} \\\\\n",
       "0 & -\\frac{2}{3} & -\\frac{1}{3} & 0 & -\\frac{2}{3} & -\\frac{4}{3} & -1 & -\\frac{2}{3} & -\\frac{4}{3} & 0 & -\\frac{2}{3} & -\\frac{4}{3} \\\\\n",
       "0 & -\\frac{13}{12} & -\\frac{1}{6} & -\\frac{1}{4} & -\\frac{4}{3} & -\\frac{17}{12} & -\\frac{1}{2} & -\\frac{19}{12} & -\\frac{2}{3} & -\\frac{3}{4} & -\\frac{5}{6} & -\\frac{11}{12} \\\\\n",
       "0 & -\\frac{1}{2} & 0 & -\\frac{1}{2} & -1 & -\\frac{1}{2} & -1 & -\\frac{1}{2} & -1 & -\\frac{1}{2} & 0 & -\\frac{1}{2} \\\\\n",
       "0 & -\\frac{11}{12} & -\\frac{5}{6} & -\\frac{3}{4} & -\\frac{2}{3} & -\\frac{19}{12} & -\\frac{1}{2} & -\\frac{17}{12} & -\\frac{4}{3} & -\\frac{1}{4} & -\\frac{1}{6} & -\\frac{13}{12} \\\\\n",
       "0 & -\\frac{4}{3} & -\\frac{2}{3} & 0 & -\\frac{4}{3} & -\\frac{2}{3} & -1 & -\\frac{4}{3} & -\\frac{2}{3} & 0 & -\\frac{1}{3} & -\\frac{2}{3} \\\\\n",
       "0 & -\\frac{3}{4} & \\frac{1}{2} & -\\frac{1}{4} & 0 & -\\frac{3}{4} & -\\frac{1}{2} & -\\frac{1}{4} & 0 & \\frac{1}{4} & \\frac{1}{2} & -\\frac{1}{4} \\\\\n",
       "0 & -\\frac{1}{6} & -\\frac{1}{3} & \\frac{1}{2} & -\\frac{2}{3} & -\\frac{5}{6} & 0 & -\\frac{1}{6} & -\\frac{1}{3} & \\frac{1}{2} & \\frac{1}{3} & -\\frac{5}{6} \\\\\n",
       "0 & -\\frac{19}{12} & -\\frac{1}{6} & -\\frac{3}{4} & -\\frac{4}{3} & -\\frac{11}{12} & -\\frac{1}{2} & -\\frac{13}{12} & -\\frac{2}{3} & -\\frac{1}{4} & -\\frac{5}{6} & -\\frac{17}{12}\n",
       "\\end{array}\\right)\n",
       "\\end{math}"
      ],
      "text/plain": [
       "[     0      0      0      0      0      0      0      0      0      0      0      0]\n",
       "[     0 -17/12   -5/6   -1/4   -2/3 -13/12   -1/2 -11/12   -4/3   -3/4   -1/6 -19/12]\n",
       "[     0   -5/6    1/3    1/2   -1/3   -1/6      0   -5/6   -2/3    1/2   -1/3   -1/6]\n",
       "[     0   -1/4    1/2    1/4      0   -1/4   -1/2   -3/4      0   -1/4    1/2   -3/4]\n",
       "[     0   -2/3   -1/3      0   -2/3   -4/3     -1   -2/3   -4/3      0   -2/3   -4/3]\n",
       "[     0 -13/12   -1/6   -1/4   -4/3 -17/12   -1/2 -19/12   -2/3   -3/4   -5/6 -11/12]\n",
       "[     0   -1/2      0   -1/2     -1   -1/2     -1   -1/2     -1   -1/2      0   -1/2]\n",
       "[     0 -11/12   -5/6   -3/4   -2/3 -19/12   -1/2 -17/12   -4/3   -1/4   -1/6 -13/12]\n",
       "[     0   -4/3   -2/3      0   -4/3   -2/3     -1   -4/3   -2/3      0   -1/3   -2/3]\n",
       "[     0   -3/4    1/2   -1/4      0   -3/4   -1/2   -1/4      0    1/4    1/2   -1/4]\n",
       "[     0   -1/6   -1/3    1/2   -2/3   -5/6      0   -1/6   -1/3    1/2    1/3   -5/6]\n",
       "[     0 -19/12   -1/6   -3/4   -4/3 -11/12   -1/2 -13/12   -2/3   -1/4   -5/6 -17/12]"
      ]
     },
     "metadata": {},
     "output_type": "display_data"
    }
   ],
   "source": [
    "show(matrix([[b2(g,h,Q,z) for g in G.list()] for h in G.list()]))"
   ]
  },
  {
   "cell_type": "code",
   "execution_count": 15,
   "metadata": {},
   "outputs": [],
   "source": [
    "def signature(G,Q,z):\n",
    "    v = ZZ.valuation(2)\n",
    "    gens = G.gens()\n",
    "    #determine the power of 2 of tuple\n",
    "    ords = [v(g.order()) for g in G.gens()]\n",
    "    r = max(ords)\n",
    "    l = len(ords)\n",
    "    sqrt2 = z^ceil(2^(r-2)) + z^floor(-2^(r-2)) #ceil and floor help deal with the r=1 case\n",
    "    sigma = []\n",
    "    for k in range(r+1):\n",
    "        #Note to self: no need to build H.  We just need it's size.\n",
    "        direct_p = [[i*gens[j] for i in range(2^(max(ords[j]-k,0)))] for j in range(l)]\n",
    "        H = [sum(list(a)) for a in itertools.product(*direct_p)]\n",
    "        sqrt_H = sqrt2^(v(len(H)))\n",
    "        sigma += [sqrt_H/G.order()*sum([q(g,Q,z)^(2^k) for g in G.list()])]\n",
    "    return sigma"
   ]
  },
  {
   "cell_type": "code",
   "execution_count": 16,
   "metadata": {},
   "outputs": [
    {
     "name": "stdout",
     "output_type": "stream",
     "text": [
      "[-2/3*zeta24^7 - 1/2*zeta24^5 + 1/3*zeta24^3 + 1/2*zeta24, 1/3*zeta24^7 + 1/2*zeta24^5 - 1/6*zeta24^3 - 1/2*zeta24, 0]\n"
     ]
    }
   ],
   "source": [
    "print(signature(G,Q,z))"
   ]
  },
  {
   "cell_type": "code",
   "execution_count": 20,
   "metadata": {},
   "outputs": [
    {
     "data": {
      "text/html": [
       "<html><script type=\"math/tex; mode=display\">\\newcommand{\\Bold}[1]{\\mathbf{#1}}\\frac{\\ZZ}{12\\ZZ} \\left(\\begin{array}{rr}\n",
       "3 & 0 \\\\\n",
       "0 & 16\n",
       "\\end{array}\\right) \\zeta_{24}</script></html>"
      ],
      "text/latex": [
       "\\begin{math}\n",
       "\\newcommand{\\Bold}[1]{\\mathbf{#1}}\\frac{\\ZZ}{12\\ZZ} \\left(\\begin{array}{rr}\n",
       "3 & 0 \\\\\n",
       "0 & 16\n",
       "\\end{array}\\right) \\zeta_{24}\n",
       "\\end{math}"
      ],
      "text/plain": [
       "Additive abelian group isomorphic to Z/4 + Z/3 [ 3  0]\n",
       "[ 0 16] zeta24"
      ]
     },
     "metadata": {},
     "output_type": "display_data"
    }
   ],
   "source": [
    "G, Q, z = build_metric_group([(2,2,1),(3,1,1)])\n",
    "show(G,Q,z)"
   ]
  },
  {
   "cell_type": "code",
   "execution_count": 21,
   "metadata": {},
   "outputs": [
    {
     "name": "stdout",
     "output_type": "stream",
     "text": [
      "-zeta24^7 + zeta24^3 + zeta24 -zeta24^6 + 2*zeta24^2 + 2\n"
     ]
    }
   ],
   "source": [
    "n = G.order()\n",
    "primes = [p for (p,r) in factor(n)]\n",
    "v_p = ZZ.valuation(p)\n",
    "gens = G.gens()\n",
    "ords = [g.order() for g in G.gens()]\n",
    "ords_v = [v_p(o) for o in ords]\n",
    "#determine the power of 2 of tuple\n",
    "r = max(ords_v)\n",
    "l = len(ords_v)\n",
    "sqrt_p = G.sq\n",
    "print(sqrt2, sqrt2^2)"
   ]
  },
  {
   "cell_type": "code",
   "execution_count": 22,
   "metadata": {},
   "outputs": [
    {
     "data": {
      "text/plain": [
       "[2, 0]"
      ]
     },
     "execution_count": 22,
     "metadata": {},
     "output_type": "execute_result"
    }
   ],
   "source": [
    "ords"
   ]
  },
  {
   "cell_type": "code",
   "execution_count": 24,
   "metadata": {},
   "outputs": [
    {
     "data": {
      "text/plain": [
       "[[(0, 0), (1, 0), (2, 0), (3, 0)], [(0, 0)]]"
      ]
     },
     "execution_count": 24,
     "metadata": {},
     "output_type": "execute_result"
    }
   ],
   "source": [
    "k = 0\n",
    "direct_p = [[i*gens[j] for i in range(2^(max(ords[j]-k,0)))] for j in range(l)]\n",
    "direct_p"
   ]
  },
  {
   "cell_type": "code",
   "execution_count": 25,
   "metadata": {},
   "outputs": [
    {
     "data": {
      "text/plain": [
       "[[(0, 0), (1, 0)], [(0, 0)]]"
      ]
     },
     "execution_count": 25,
     "metadata": {},
     "output_type": "execute_result"
    }
   ],
   "source": [
    "k = 1\n",
    "direct_p = [[i*gens[j] for i in range(2^(max(ords[j]-k,0)))] for j in range(l)]\n",
    "direct_p"
   ]
  },
  {
   "cell_type": "code",
   "execution_count": 26,
   "metadata": {},
   "outputs": [
    {
     "data": {
      "text/plain": [
       "[[(0, 0)], [(0, 0)]]"
      ]
     },
     "execution_count": 26,
     "metadata": {},
     "output_type": "execute_result"
    }
   ],
   "source": [
    "k = 2\n",
    "direct_p = [[i*gens[j] for i in range(2^(max(ords[j]-k,0)))] for j in range(l)]\n",
    "direct_p"
   ]
  },
  {
   "cell_type": "code",
   "execution_count": 29,
   "metadata": {},
   "outputs": [
    {
     "data": {
      "text/plain": [
       "[(2, 2), (3, 1)]"
      ]
     },
     "execution_count": 29,
     "metadata": {},
     "output_type": "execute_result"
    }
   ],
   "source": [
    "n = 12\n",
    "[(p,r) for (p,r) in factor(n)]"
   ]
  },
  {
   "cell_type": "code",
   "execution_count": null,
   "metadata": {},
   "outputs": [],
   "source": []
  }
 ],
 "metadata": {
  "kernelspec": {
   "display_name": "SageMath 9.2",
   "language": "sage",
   "name": "sagemath"
  },
  "language_info": {
   "codemirror_mode": {
    "name": "ipython",
    "version": 3
   },
   "file_extension": ".py",
   "mimetype": "text/x-python",
   "name": "python",
   "nbconvert_exporter": "python",
   "pygments_lexer": "ipython3",
   "version": "3.7.7"
  }
 },
 "nbformat": 4,
 "nbformat_minor": 4
}
