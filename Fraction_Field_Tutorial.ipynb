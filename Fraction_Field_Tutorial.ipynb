{
 "cells": [
  {
   "cell_type": "code",
   "execution_count": 1,
   "metadata": {},
   "outputs": [],
   "source": [
    "from sage.rings.ring import Field"
   ]
  },
  {
   "cell_type": "code",
   "execution_count": 4,
   "metadata": {},
   "outputs": [
    {
     "data": {
      "text/plain": [
       "['__fraction_field',\n",
       " '__ideal_monoid',\n",
       " '__iter__',\n",
       " '__len__',\n",
       " '__pow__',\n",
       " '__rpow__',\n",
       " '__rtruediv__',\n",
       " '__rxor__',\n",
       " '__truediv__',\n",
       " '__xor__',\n",
       " '_an_element_impl',\n",
       " '_coerce_',\n",
       " '_coerce_c',\n",
       " '_coerce_impl',\n",
       " '_coerce_try',\n",
       " '_default_category',\n",
       " '_gens',\n",
       " '_ideal_class_',\n",
       " '_latex_names',\n",
       " '_list',\n",
       " '_one_element',\n",
       " '_pseudo_fraction_field',\n",
       " '_random_nonzero_element',\n",
       " '_unit_ideal',\n",
       " '_zero_element',\n",
       " '_zero_ideal',\n",
       " 'algebraic_closure',\n",
       " 'base_extend',\n",
       " 'class_group',\n",
       " 'content',\n",
       " 'derivation',\n",
       " 'derivation_module',\n",
       " 'divides',\n",
       " 'epsilon',\n",
       " 'extension',\n",
       " 'fraction_field',\n",
       " 'frobenius_endomorphism',\n",
       " 'gcd',\n",
       " 'gen',\n",
       " 'gens',\n",
       " 'ideal',\n",
       " 'ideal_monoid',\n",
       " 'integral_closure',\n",
       " 'is_commutative',\n",
       " 'is_field',\n",
       " 'is_integral_domain',\n",
       " 'is_integrally_closed',\n",
       " 'is_noetherian',\n",
       " 'is_prime_field',\n",
       " 'is_subring',\n",
       " 'krull_dimension',\n",
       " 'localization',\n",
       " 'ngens',\n",
       " 'one',\n",
       " 'order',\n",
       " 'prime_subfield',\n",
       " 'principal_ideal',\n",
       " 'quo',\n",
       " 'quotient',\n",
       " 'quotient_ring',\n",
       " 'random_element',\n",
       " 'unit_ideal',\n",
       " 'zero',\n",
       " 'zero_ideal',\n",
       " 'zeta',\n",
       " 'zeta_order']"
      ]
     },
     "execution_count": 4,
     "metadata": {},
     "output_type": "execute_result"
    }
   ],
   "source": [
    "[p for p in dir(Field) if p not in dir(Parent)]"
   ]
  },
  {
   "cell_type": "code",
   "execution_count": 5,
   "metadata": {},
   "outputs": [],
   "source": [
    "from sage.structure.unique_representation import UniqueRepresentation\n",
    "class MyFrac(UniqueRepresentation, Field):\n",
    "    def __init__(self, base):\n",
    "        if base not in IntegralDomains():\n",
    "            raise ValueError(\"%s is no integral domain\"%base)\n",
    "        Field.__init__(self, base)\n",
    "    def _repr_(self):\n",
    "        return \"NewFrac(%s)\"%repr(self.base())\n",
    "    def base_ring(self):\n",
    "        return self.base().base_ring()\n",
    "    def characteristic(self):\n",
    "        return self.base().characteristic()"
   ]
  },
  {
   "cell_type": "code",
   "execution_count": 7,
   "metadata": {},
   "outputs": [
    {
     "data": {
      "text/plain": [
       "NewFrac(Univariate Polynomial Ring in x over Integer Ring)"
      ]
     },
     "execution_count": 7,
     "metadata": {},
     "output_type": "execute_result"
    }
   ],
   "source": [
    "MyFrac(ZZ['x'])"
   ]
  },
  {
   "cell_type": "code",
   "execution_count": 9,
   "metadata": {},
   "outputs": [],
   "source": [
    "from sage.structure.element import FieldElement"
   ]
  },
  {
   "cell_type": "code",
   "execution_count": 10,
   "metadata": {},
   "outputs": [
    {
     "data": {
      "text/plain": [
       "Generic element of a structure"
      ]
     },
     "execution_count": 10,
     "metadata": {},
     "output_type": "execute_result"
    }
   ],
   "source": [
    "FieldElement(ZZ)"
   ]
  },
  {
   "cell_type": "code",
   "execution_count": 40,
   "metadata": {},
   "outputs": [],
   "source": [
    "class MyElement(FieldElement):\n",
    "    def __init__(self, parent,n,d=None):\n",
    "        B = parent.base()\n",
    "        if d is None:\n",
    "            d = B.one()\n",
    "        if n not in B or d not in B:\n",
    "            raise ValueError(\"Numerator and denominator must be elements of %s\"%B)\n",
    "        # Numerator and denominator should not just be \"in\" B,\n",
    "        # but should be defined as elements of B\n",
    "        d = B(d)\n",
    "        n = B(n)\n",
    "        if d==0:\n",
    "            raise ZeroDivisionError(\"The denominator must not be zero\")\n",
    "        if d<0:\n",
    "            self.n = -n\n",
    "            self.d = -d\n",
    "        else:\n",
    "            self.n = n\n",
    "            self.d = d\n",
    "        FieldElement.__init__(self,parent)\n",
    "    def numerator(self):\n",
    "        return self.n\n",
    "    def denominator(self):\n",
    "        return self.d\n",
    "    def _repr_(self):\n",
    "        return \"(%s):(%s)\"%(self.n,self.d)\n",
    "    def _richcmp_(self, other, op):\n",
    "        from sage.structure.richcmp import richcmp\n",
    "        return richcmp(self.n*other.denominator(), other.numerator()*self.d, op)\n",
    "    def _add_(self, other):\n",
    "        C = self.__class__\n",
    "        D = self.d*other.denominator()\n",
    "        return C(self.parent(), self.n*other.denominator()+self.d*other.numerator(), D)\n",
    "    def _sub_(self, other):\n",
    "        C = self.__class__\n",
    "        D = self.d*other.denominator()\n",
    "        return C(self.parent(), self.n*other.denominator()-self.d*other.numerator(),D)\n",
    "    def _mul_(self, other):\n",
    "        C = self.__class__\n",
    "        return C(self.parent(), self.n*other.numerator(), self.d*other.denominator())\n",
    "    def _div_(self, other):\n",
    "        C = self.__class__\n",
    "        return C(self.parent(), self.n*other.denominator(), self.d*other.numerator())"
   ]
  },
  {
   "cell_type": "code",
   "execution_count": 43,
   "metadata": {},
   "outputs": [
    {
     "name": "stdout",
     "output_type": "stream",
     "text": [
      "(3):(4) (1):(2) (10):(8) (2):(8) (3):(8) (6):(4)\n"
     ]
    }
   ],
   "source": [
    "P = MyFrac(ZZ)\n",
    "a = MyElement(P,3,4)\n",
    "b = MyElement(P,1,2)\n",
    "print(a,b,a+b,a-b,a*b,a/b)"
   ]
  },
  {
   "cell_type": "code",
   "execution_count": null,
   "metadata": {},
   "outputs": [],
   "source": []
  },
  {
   "cell_type": "code",
   "execution_count": 39,
   "metadata": {},
   "outputs": [],
   "source": [
    "from sage.groups.additive_abelian.additive_abelian_group import AdditiveAbelianGroup, AdditiveAbelianGroupElement"
   ]
  },
  {
   "cell_type": "code",
   "execution_count": 31,
   "metadata": {},
   "outputs": [
    {
     "name": "stdout",
     "output_type": "stream",
     "text": [
      "Object `AdditiveAbelianGroup_class` not found.\n"
     ]
    }
   ],
   "source": [
    "??AdditiveAbelianGroup_class"
   ]
  },
  {
   "cell_type": "code",
   "execution_count": 46,
   "metadata": {},
   "outputs": [],
   "source": [
    "G = AdditiveAbelianGroup([3])\n",
    "g = G.0\n",
    "C = G.category()"
   ]
  },
  {
   "cell_type": "code",
   "execution_count": 48,
   "metadata": {},
   "outputs": [
    {
     "data": {
      "text/plain": [
       "(<sage.categories.modules.Modules.parent_class object at 0x6ffe1f857b10>,\n",
       " <sage.categories.modules.Modules.element_class object at 0x6ffe1f857b90>)"
      ]
     },
     "execution_count": 48,
     "metadata": {},
     "output_type": "execute_result"
    }
   ],
   "source": [
    "C.parent_class(), C.element_class()"
   ]
  },
  {
   "cell_type": "code",
   "execution_count": 51,
   "metadata": {},
   "outputs": [],
   "source": [
    "from sage.misc.abstract_method import abstract_methods_of_class"
   ]
  },
  {
   "cell_type": "code",
   "execution_count": 52,
   "metadata": {},
   "outputs": [
    {
     "data": {
      "text/plain": [
       "['_add_']"
      ]
     },
     "execution_count": 52,
     "metadata": {},
     "output_type": "execute_result"
    }
   ],
   "source": [
    "abstract_methods_of_class(C.element_class)['optional']"
   ]
  },
  {
   "cell_type": "code",
   "execution_count": 53,
   "metadata": {},
   "outputs": [
    {
     "data": {
      "text/plain": [
       "['__bool__']"
      ]
     },
     "execution_count": 53,
     "metadata": {},
     "output_type": "execute_result"
    }
   ],
   "source": [
    "abstract_methods_of_class(C.element_class)['required']"
   ]
  },
  {
   "cell_type": "code",
   "execution_count": 55,
   "metadata": {},
   "outputs": [],
   "source": [
    "from sage.categories.quotient_fields import QuotientFields"
   ]
  },
  {
   "cell_type": "code",
   "execution_count": 56,
   "metadata": {},
   "outputs": [],
   "source": [
    "class MyFrac(MyFrac):\n",
    "    def __init__(self, base, category=None):\n",
    "        if base not in IntegralDomains():\n",
    "            raise ValueError(\"%s is no integral domain\" % base)\n",
    "        Field.__init__(self, base, category=category or QuotientFields())"
   ]
  },
  {
   "cell_type": "code",
   "execution_count": 58,
   "metadata": {},
   "outputs": [
    {
     "data": {
      "text/plain": [
       "<class '__main__.MyFrac_with_category'>"
      ]
     },
     "execution_count": 58,
     "metadata": {},
     "output_type": "execute_result"
    }
   ],
   "source": [
    "P = MyFrac(ZZ)\n",
    "type(P)"
   ]
  },
  {
   "cell_type": "code",
   "execution_count": 59,
   "metadata": {},
   "outputs": [
    {
     "data": {
      "text/plain": [
       "True"
      ]
     },
     "execution_count": 59,
     "metadata": {},
     "output_type": "execute_result"
    }
   ],
   "source": [
    "isinstance(P,MyFrac)"
   ]
  },
  {
   "cell_type": "code",
   "execution_count": 60,
   "metadata": {},
   "outputs": [
    {
     "data": {
      "text/plain": [
       "True"
      ]
     },
     "execution_count": 60,
     "metadata": {},
     "output_type": "execute_result"
    }
   ],
   "source": [
    "isinstance(P,QuotientFields().parent_class)"
   ]
  },
  {
   "cell_type": "code",
   "execution_count": 61,
   "metadata": {},
   "outputs": [],
   "source": [
    "class MyFrac(MyFrac):\n",
    "    Element = MyElement"
   ]
  },
  {
   "cell_type": "code",
   "execution_count": 64,
   "metadata": {},
   "outputs": [
    {
     "data": {
      "text/plain": [
       "((1):(1), (2):(3))"
      ]
     },
     "execution_count": 64,
     "metadata": {},
     "output_type": "execute_result"
    }
   ],
   "source": [
    "P = MyFrac(ZZ)\n",
    "P(1), P(2,3)"
   ]
  },
  {
   "cell_type": "code",
   "execution_count": 65,
   "metadata": {},
   "outputs": [
    {
     "data": {
      "text/plain": [
       "(0):(1)"
      ]
     },
     "execution_count": 65,
     "metadata": {},
     "output_type": "execute_result"
    }
   ],
   "source": [
    "P.zero()"
   ]
  },
  {
   "cell_type": "code",
   "execution_count": 66,
   "metadata": {},
   "outputs": [
    {
     "data": {
      "text/plain": [
       "(36):(16)"
      ]
     },
     "execution_count": 66,
     "metadata": {},
     "output_type": "execute_result"
    }
   ],
   "source": [
    "a = MyElement(P, 9, 4)\n",
    "b = MyElement(P, 1, 2)\n",
    "c = MyElement(P, -1, 2)\n",
    "P.sum([a,b,c])"
   ]
  },
  {
   "cell_type": "code",
   "execution_count": 67,
   "metadata": {},
   "outputs": [
    {
     "data": {
      "text/plain": [
       "(729):(64)"
      ]
     },
     "execution_count": 67,
     "metadata": {},
     "output_type": "execute_result"
    }
   ],
   "source": [
    "a^3"
   ]
  },
  {
   "cell_type": "code",
   "execution_count": 68,
   "metadata": {},
   "outputs": [
    {
     "data": {
      "text/plain": [
       "<sage.misc.lazy_attribute.lazy_attribute object at 0x6ffffe4d6a00>"
      ]
     },
     "execution_count": 68,
     "metadata": {},
     "output_type": "execute_result"
    }
   ],
   "source": [
    "P.__class__.element_class"
   ]
  },
  {
   "cell_type": "code",
   "execution_count": 69,
   "metadata": {},
   "outputs": [
    {
     "data": {
      "text/plain": [
       "<class '__main__.MyFrac_with_category.element_class'>"
      ]
     },
     "execution_count": 69,
     "metadata": {},
     "output_type": "execute_result"
    }
   ],
   "source": [
    "P.element_class"
   ]
  },
  {
   "cell_type": "code",
   "execution_count": 70,
   "metadata": {},
   "outputs": [
    {
     "data": {
      "text/plain": [
       "<class 'sage.structure.dynamic_class.DynamicInheritComparisonMetaclass'>"
      ]
     },
     "execution_count": 70,
     "metadata": {},
     "output_type": "execute_result"
    }
   ],
   "source": [
    "type(P.element_class)"
   ]
  },
  {
   "cell_type": "code",
   "execution_count": 71,
   "metadata": {},
   "outputs": [
    {
     "data": {
      "text/plain": [
       "True"
      ]
     },
     "execution_count": 71,
     "metadata": {},
     "output_type": "execute_result"
    }
   ],
   "source": [
    "issubclass(P.element_class, MyElement)"
   ]
  },
  {
   "cell_type": "code",
   "execution_count": 72,
   "metadata": {},
   "outputs": [
    {
     "data": {
      "text/plain": [
       "True"
      ]
     },
     "execution_count": 72,
     "metadata": {},
     "output_type": "execute_result"
    }
   ],
   "source": [
    "issubclass(P.element_class,P.category().element_class)"
   ]
  },
  {
   "cell_type": "code",
   "execution_count": 73,
   "metadata": {},
   "outputs": [
    {
     "data": {
      "text/plain": [
       "<class '__main__.MyFrac_with_category.element_class'>"
      ]
     },
     "execution_count": 73,
     "metadata": {},
     "output_type": "execute_result"
    }
   ],
   "source": [
    "type(P(2,3))"
   ]
  },
  {
   "cell_type": "code",
   "execution_count": 74,
   "metadata": {},
   "outputs": [
    {
     "data": {
      "text/plain": [
       "<class '__main__.MyElement'>"
      ]
     },
     "execution_count": 74,
     "metadata": {},
     "output_type": "execute_result"
    }
   ],
   "source": [
    "type(a)"
   ]
  },
  {
   "cell_type": "code",
   "execution_count": 75,
   "metadata": {},
   "outputs": [
    {
     "data": {
      "text/plain": [
       "False"
      ]
     },
     "execution_count": 75,
     "metadata": {},
     "output_type": "execute_result"
    }
   ],
   "source": [
    "isinstance(a,P.element_class)"
   ]
  },
  {
   "cell_type": "code",
   "execution_count": 76,
   "metadata": {},
   "outputs": [
    {
     "data": {
      "text/plain": [
       "<class '__main__.MyFrac_with_category.element_class'>"
      ]
     },
     "execution_count": 76,
     "metadata": {},
     "output_type": "execute_result"
    }
   ],
   "source": [
    "type(P.sum([a,b,c]))"
   ]
  },
  {
   "cell_type": "code",
   "execution_count": 77,
   "metadata": {},
   "outputs": [
    {
     "data": {
      "text/plain": [
       "2^-1 * 3"
      ]
     },
     "execution_count": 77,
     "metadata": {},
     "output_type": "execute_result"
    }
   ],
   "source": [
    "a; a.factor(); P(6,4).factor()"
   ]
  },
  {
   "cell_type": "code",
   "execution_count": 78,
   "metadata": {},
   "outputs": [],
   "source": [
    "class MyFrac(MyFrac):\n",
    "    def _element_constructor_(self, *args, **kwds):\n",
    "        if len(args)!=1:\n",
    "            return self.element_class(self, *args, **kwds)\n",
    "        x = args[0]\n",
    "        try:\n",
    "            P = x.parent()\n",
    "        except AttributeError:\n",
    "            return self.element_class(self, x, **kwds)\n",
    "        if P in QuotientFields() and P != self.base():\n",
    "            return self.element_class(self, x.numerator(), x.denominator(), **kwds)\n",
    "        return self.element_class(self, x, **kwds)"
   ]
  },
  {
   "cell_type": "code",
   "execution_count": 79,
   "metadata": {},
   "outputs": [
    {
     "name": "stdout",
     "output_type": "stream",
     "text": [
      "(2):(1) (2):(3) (3):(4)\n"
     ]
    }
   ],
   "source": [
    "P = MyFrac(ZZ)\n",
    "print(P(2), P(2,3), P(3/4))"
   ]
  },
  {
   "cell_type": "code",
   "execution_count": 80,
   "metadata": {},
   "outputs": [],
   "source": [
    "sage: class MyFrac(MyFrac):\n",
    "    def _coerce_map_from_(self, S):\n",
    "        if self.base().has_coerce_map_from(S):\n",
    "            return True\n",
    "        if S in QuotientFields():\n",
    "            if self.base().has_coerce_map_from(S.base()):\n",
    "                return True\n",
    "            if hasattr(S,'ring_of_integers') and self.base().has_coerce_map_from(S.ring_of_integers()):\n",
    "                return True"
   ]
  },
  {
   "cell_type": "code",
   "execution_count": 84,
   "metadata": {},
   "outputs": [
    {
     "data": {
      "text/plain": [
       "(True, True, True)"
      ]
     },
     "execution_count": 84,
     "metadata": {},
     "output_type": "execute_result"
    }
   ],
   "source": [
    "P = MyFrac(QQ['x'])\n",
    "P.has_coerce_map_from(ZZ['x']), P.has_coerce_map_from(Frac(ZZ['x'])), P.has_coerce_map_from(QQ)"
   ]
  },
  {
   "cell_type": "code",
   "execution_count": 83,
   "metadata": {},
   "outputs": [
    {
     "data": {
      "text/plain": [
       "((4*x + 11):(4), True)"
      ]
     },
     "execution_count": 83,
     "metadata": {},
     "output_type": "execute_result"
    }
   ],
   "source": [
    "3/4+P(2)+ZZ['x'].gen(), (P(2)+ZZ['x'].gen()).parent() is P"
   ]
  },
  {
   "cell_type": "code",
   "execution_count": 85,
   "metadata": {},
   "outputs": [
    {
     "data": {
      "text/plain": [
       "True"
      ]
     },
     "execution_count": 85,
     "metadata": {},
     "output_type": "execute_result"
    }
   ],
   "source": [
    "1 in P"
   ]
  },
  {
   "cell_type": "code",
   "execution_count": 87,
   "metadata": {},
   "outputs": [
    {
     "data": {
      "text/plain": [
       "(13):(6)"
      ]
     },
     "execution_count": 87,
     "metadata": {},
     "output_type": "execute_result"
    }
   ],
   "source": [
    "P = MyFrac(ZZ)\n",
    "1/2+P(2,3)+1"
   ]
  },
  {
   "cell_type": "code",
   "execution_count": 88,
   "metadata": {},
   "outputs": [
    {
     "data": {
      "text/plain": [
       "((1):(1)*x + (1):(2), True)"
      ]
     },
     "execution_count": 88,
     "metadata": {},
     "output_type": "execute_result"
    }
   ],
   "source": [
    "P(1/2) + ZZ['x'].gen(), (P(1/2) + ZZ['x'].gen()).parent() is P['x']"
   ]
  },
  {
   "cell_type": "code",
   "execution_count": 90,
   "metadata": {},
   "outputs": [
    {
     "data": {
      "text/plain": [
       "(Poly[x], Rational Field)"
      ]
     },
     "execution_count": 90,
     "metadata": {},
     "output_type": "execute_result"
    }
   ],
   "source": [
    "Poly,R = QQ['x'].construction()\n",
    "Poly,R"
   ]
  },
  {
   "cell_type": "code",
   "execution_count": 91,
   "metadata": {},
   "outputs": [
    {
     "data": {
      "text/plain": [
       "(FractionField, Integer Ring)"
      ]
     },
     "execution_count": 91,
     "metadata": {},
     "output_type": "execute_result"
    }
   ],
   "source": [
    "Fract,R = QQ.construction()\n",
    "Fract,R"
   ]
  },
  {
   "cell_type": "code",
   "execution_count": 92,
   "metadata": {},
   "outputs": [
    {
     "data": {
      "text/plain": [
       "True"
      ]
     },
     "execution_count": 92,
     "metadata": {},
     "output_type": "execute_result"
    }
   ],
   "source": [
    "Poly(QQ) is QQ['x']"
   ]
  },
  {
   "cell_type": "code",
   "execution_count": 93,
   "metadata": {},
   "outputs": [
    {
     "data": {
      "text/plain": [
       "True"
      ]
     },
     "execution_count": 93,
     "metadata": {},
     "output_type": "execute_result"
    }
   ],
   "source": [
    "Poly(ZZ) is ZZ['x']"
   ]
  },
  {
   "cell_type": "code",
   "execution_count": 94,
   "metadata": {},
   "outputs": [
    {
     "data": {
      "text/plain": [
       "True"
      ]
     },
     "execution_count": 94,
     "metadata": {},
     "output_type": "execute_result"
    }
   ],
   "source": [
    "Poly(P) is P['x']"
   ]
  },
  {
   "cell_type": "code",
   "execution_count": 95,
   "metadata": {},
   "outputs": [
    {
     "data": {
      "text/plain": [
       "Fraction Field of Univariate Polynomial Ring in x over Rational Field"
      ]
     },
     "execution_count": 95,
     "metadata": {},
     "output_type": "execute_result"
    }
   ],
   "source": [
    "Fract(QQ['x'])"
   ]
  },
  {
   "cell_type": "code",
   "execution_count": 96,
   "metadata": {},
   "outputs": [
    {
     "data": {
      "text/plain": [
       "Category of rings"
      ]
     },
     "execution_count": 96,
     "metadata": {},
     "output_type": "execute_result"
    }
   ],
   "source": [
    "Poly.domain()"
   ]
  },
  {
   "cell_type": "code",
   "execution_count": 97,
   "metadata": {},
   "outputs": [
    {
     "data": {
      "text/plain": [
       "Category of rings"
      ]
     },
     "execution_count": 97,
     "metadata": {},
     "output_type": "execute_result"
    }
   ],
   "source": [
    "Poly.codomain()"
   ]
  },
  {
   "cell_type": "code",
   "execution_count": 98,
   "metadata": {},
   "outputs": [
    {
     "data": {
      "text/plain": [
       "Category of integral domains"
      ]
     },
     "execution_count": 98,
     "metadata": {},
     "output_type": "execute_result"
    }
   ],
   "source": [
    "Fract.domain()"
   ]
  },
  {
   "cell_type": "code",
   "execution_count": 99,
   "metadata": {},
   "outputs": [
    {
     "data": {
      "text/plain": [
       "Category of fields"
      ]
     },
     "execution_count": 99,
     "metadata": {},
     "output_type": "execute_result"
    }
   ],
   "source": [
    "Fract.codomain()"
   ]
  },
  {
   "cell_type": "code",
   "execution_count": 100,
   "metadata": {},
   "outputs": [
    {
     "data": {
      "text/plain": [
       "Poly[x](FractionField(...))"
      ]
     },
     "execution_count": 100,
     "metadata": {},
     "output_type": "execute_result"
    }
   ],
   "source": [
    "Poly*Fract"
   ]
  },
  {
   "cell_type": "code",
   "execution_count": 101,
   "metadata": {},
   "outputs": [
    {
     "data": {
      "text/plain": [
       "True"
      ]
     },
     "execution_count": 101,
     "metadata": {},
     "output_type": "execute_result"
    }
   ],
   "source": [
    "(Poly*Fract)(ZZ) is QQ['x']"
   ]
  },
  {
   "cell_type": "code",
   "execution_count": 102,
   "metadata": {},
   "outputs": [
    {
     "data": {
      "text/plain": [
       "Composite map:\n",
       "  From: Integer Ring\n",
       "  To:   Univariate Polynomial Ring in x over Rational Field\n",
       "  Defn:   Natural morphism:\n",
       "          From: Integer Ring\n",
       "          To:   Rational Field\n",
       "        then\n",
       "          Polynomial base injection morphism:\n",
       "          From: Rational Field\n",
       "          To:   Univariate Polynomial Ring in x over Rational Field"
      ]
     },
     "execution_count": 102,
     "metadata": {},
     "output_type": "execute_result"
    }
   ],
   "source": [
    "((Poly*Fract)(ZZ)).coerce_map_from(ZZ)"
   ]
  },
  {
   "cell_type": "code",
   "execution_count": 103,
   "metadata": {},
   "outputs": [
    {
     "data": {
      "text/plain": [
       "Fraction Field of Univariate Polynomial Ring in x over Integer Ring"
      ]
     },
     "execution_count": 103,
     "metadata": {},
     "output_type": "execute_result"
    }
   ],
   "source": [
    "(Fract*Poly)(ZZ)"
   ]
  },
  {
   "cell_type": "code",
   "execution_count": 104,
   "metadata": {},
   "outputs": [
    {
     "data": {
      "text/plain": [
       "Univariate Polynomial Ring in x over Rational Field"
      ]
     },
     "execution_count": 104,
     "metadata": {},
     "output_type": "execute_result"
    }
   ],
   "source": [
    "from sage.categories.pushout import pushout\n",
    "pushout(Fract(ZZ),Poly(ZZ))"
   ]
  },
  {
   "cell_type": "code",
   "execution_count": 105,
   "metadata": {},
   "outputs": [
    {
     "data": {
      "text/plain": [
       "(5, 9)"
      ]
     },
     "execution_count": 105,
     "metadata": {},
     "output_type": "execute_result"
    }
   ],
   "source": [
    "Fract.rank, Poly.rank"
   ]
  },
  {
   "cell_type": "code",
   "execution_count": 106,
   "metadata": {},
   "outputs": [
    {
     "data": {
      "text/plain": [
       "(Poly[x](FractionField(...)), Poly[x](FractionField(...)))"
      ]
     },
     "execution_count": 106,
     "metadata": {},
     "output_type": "execute_result"
    }
   ],
   "source": [
    "Fract.pushout(Poly), Poly.pushout(Fract)"
   ]
  },
  {
   "cell_type": "code",
   "execution_count": 113,
   "metadata": {},
   "outputs": [],
   "source": [
    "from sage.categories.pushout import ConstructionFunctor\n",
    "class MyFracFunctor(ConstructionFunctor):\n",
    "    rank = 5\n",
    "    def __init__(self, args=None, kwds=None):\n",
    "        self.args = args or ()\n",
    "        self.kwds = kwds or {}\n",
    "        ConstructionFunctor.__init__(self, IntegralDomains(), Fields())\n",
    "    def _apply_functor(self, R):\n",
    "        return MyFrac(R,*self.args,**self.kwds)\n",
    "    def merge(self, other):\n",
    "        if isinstance(other, (type(self), sage.categories.pushout.FractionField)):\n",
    "             return self"
   ]
  },
  {
   "cell_type": "code",
   "execution_count": 115,
   "metadata": {},
   "outputs": [
    {
     "data": {
      "text/plain": [
       "NewFrac(Integer Ring)"
      ]
     },
     "execution_count": 115,
     "metadata": {},
     "output_type": "execute_result"
    }
   ],
   "source": [
    "MyFracFunctor()(ZZ)"
   ]
  },
  {
   "cell_type": "code",
   "execution_count": 116,
   "metadata": {},
   "outputs": [
    {
     "data": {
      "text/plain": [
       "MyFracFunctor"
      ]
     },
     "execution_count": 116,
     "metadata": {},
     "output_type": "execute_result"
    }
   ],
   "source": [
    "MyFracFunctor().merge(Fract)"
   ]
  },
  {
   "cell_type": "code",
   "execution_count": 117,
   "metadata": {},
   "outputs": [],
   "source": [
    "class MyFrac(MyFrac):\n",
    "    def construction(self):\n",
    "        return MyFracFunctor(self._reduction[1][1:], self._reduction[2]), self.base()"
   ]
  },
  {
   "cell_type": "code",
   "execution_count": 118,
   "metadata": {},
   "outputs": [
    {
     "data": {
      "text/plain": [
       "(MyFracFunctor, Univariate Polynomial Ring in x over Integer Ring)"
      ]
     },
     "execution_count": 118,
     "metadata": {},
     "output_type": "execute_result"
    }
   ],
   "source": [
    "MyFrac(ZZ['x']).construction()"
   ]
  },
  {
   "cell_type": "code",
   "execution_count": 119,
   "metadata": {},
   "outputs": [
    {
     "data": {
      "text/plain": [
       "NewFrac(Univariate Polynomial Ring in x over Rational Field)"
      ]
     },
     "execution_count": 119,
     "metadata": {},
     "output_type": "execute_result"
    }
   ],
   "source": [
    "pushout(MyFrac(ZZ['x']), Frac(QQ['x']))"
   ]
  },
  {
   "cell_type": "code",
   "execution_count": 120,
   "metadata": {},
   "outputs": [],
   "source": [
    "from sage.misc.abstract_method import abstract_methods_of_class"
   ]
  },
  {
   "cell_type": "code",
   "execution_count": 121,
   "metadata": {},
   "outputs": [
    {
     "data": {
      "text/plain": [
       "[]"
      ]
     },
     "execution_count": 121,
     "metadata": {},
     "output_type": "execute_result"
    }
   ],
   "source": [
    "abstract_methods_of_class(QuotientFields().parent_class)['optional']"
   ]
  },
  {
   "cell_type": "code",
   "execution_count": 122,
   "metadata": {},
   "outputs": [
    {
     "data": {
      "text/plain": [
       "['__contains__']"
      ]
     },
     "execution_count": 122,
     "metadata": {},
     "output_type": "execute_result"
    }
   ],
   "source": [
    "abstract_methods_of_class(QuotientFields().parent_class)['required']"
   ]
  },
  {
   "cell_type": "code",
   "execution_count": 123,
   "metadata": {},
   "outputs": [
    {
     "data": {
      "text/plain": [
       "['_add_', '_mul_']"
      ]
     },
     "execution_count": 123,
     "metadata": {},
     "output_type": "execute_result"
    }
   ],
   "source": [
    "abstract_methods_of_class(QuotientFields().element_class)['optional']"
   ]
  },
  {
   "cell_type": "code",
   "execution_count": 124,
   "metadata": {},
   "outputs": [
    {
     "data": {
      "text/plain": [
       "['__bool__', 'denominator', 'numerator']"
      ]
     },
     "execution_count": 124,
     "metadata": {},
     "output_type": "execute_result"
    }
   ],
   "source": [
    "abstract_methods_of_class(QuotientFields().element_class)['required']"
   ]
  },
  {
   "cell_type": "code",
   "execution_count": 125,
   "metadata": {},
   "outputs": [],
   "source": [
    "class Foo(Parent):\n",
    "    Element = sage.structure.element.Element\n",
    "    def __init__(self):\n",
    "        Parent.__init__(self, category=QuotientFields())"
   ]
  },
  {
   "cell_type": "code",
   "execution_count": 127,
   "metadata": {},
   "outputs": [
    {
     "ename": "AssertionError",
     "evalue": "Not implemented method: denominator",
     "output_type": "error",
     "traceback": [
      "\u001b[0;31m---------------------------------------------------------------------------\u001b[0m",
      "\u001b[0;31mNotImplementedError\u001b[0m                       Traceback (most recent call last)",
      "\u001b[0;32m/opt/sagemath-9.2/local/lib/python3.7/site-packages/sage/structure/sage_object.pyx\u001b[0m in \u001b[0;36msage.structure.sage_object.SageObject._test_not_implemented_methods (build/cythonized/sage/structure/sage_object.c:4586)\u001b[0;34m()\u001b[0m\n\u001b[1;32m    610\u001b[0m                 \u001b[0;32mtry\u001b[0m\u001b[0;34m:\u001b[0m\u001b[0;34m\u001b[0m\u001b[0;34m\u001b[0m\u001b[0m\n\u001b[0;32m--> 611\u001b[0;31m                     \u001b[0mgetattr\u001b[0m\u001b[0;34m(\u001b[0m\u001b[0mself\u001b[0m\u001b[0;34m,\u001b[0m \u001b[0mname\u001b[0m\u001b[0;34m)\u001b[0m\u001b[0;34m\u001b[0m\u001b[0;34m\u001b[0m\u001b[0m\n\u001b[0m\u001b[1;32m    612\u001b[0m                 \u001b[0;32mexcept\u001b[0m \u001b[0mNotImplementedError\u001b[0m \u001b[0;32mas\u001b[0m \u001b[0me\u001b[0m\u001b[0;34m:\u001b[0m\u001b[0;34m\u001b[0m\u001b[0;34m\u001b[0m\u001b[0m\n",
      "\u001b[0;32m/opt/sagemath-9.2/local/lib/python3.7/site-packages/sage/structure/element.pyx\u001b[0m in \u001b[0;36msage.structure.element.Element.__getattr__ (build/cythonized/sage/structure/element.c:4703)\u001b[0;34m()\u001b[0m\n\u001b[1;32m    492\u001b[0m         \"\"\"\n\u001b[0;32m--> 493\u001b[0;31m         \u001b[0;32mreturn\u001b[0m \u001b[0mself\u001b[0m\u001b[0;34m.\u001b[0m\u001b[0mgetattr_from_category\u001b[0m\u001b[0;34m(\u001b[0m\u001b[0mname\u001b[0m\u001b[0;34m)\u001b[0m\u001b[0;34m\u001b[0m\u001b[0;34m\u001b[0m\u001b[0m\n\u001b[0m\u001b[1;32m    494\u001b[0m \u001b[0;34m\u001b[0m\u001b[0m\n",
      "\u001b[0;32m/opt/sagemath-9.2/local/lib/python3.7/site-packages/sage/structure/element.pyx\u001b[0m in \u001b[0;36msage.structure.element.Element.getattr_from_category (build/cythonized/sage/structure/element.c:4815)\u001b[0;34m()\u001b[0m\n\u001b[1;32m    505\u001b[0m             \u001b[0mcls\u001b[0m \u001b[0;34m=\u001b[0m \u001b[0mP\u001b[0m\u001b[0;34m.\u001b[0m\u001b[0m_abstract_element_class\u001b[0m\u001b[0;34m\u001b[0m\u001b[0;34m\u001b[0m\u001b[0m\n\u001b[0;32m--> 506\u001b[0;31m         \u001b[0;32mreturn\u001b[0m \u001b[0mgetattr_from_other_class\u001b[0m\u001b[0;34m(\u001b[0m\u001b[0mself\u001b[0m\u001b[0;34m,\u001b[0m \u001b[0mcls\u001b[0m\u001b[0;34m,\u001b[0m \u001b[0mname\u001b[0m\u001b[0;34m)\u001b[0m\u001b[0;34m\u001b[0m\u001b[0;34m\u001b[0m\u001b[0m\n\u001b[0m\u001b[1;32m    507\u001b[0m \u001b[0;34m\u001b[0m\u001b[0m\n",
      "\u001b[0;32m/opt/sagemath-9.2/local/lib/python3.7/site-packages/sage/cpython/getattr.pyx\u001b[0m in \u001b[0;36msage.cpython.getattr.getattr_from_other_class (build/cythonized/sage/cpython/getattr.c:2707)\u001b[0;34m()\u001b[0m\n\u001b[1;32m    383\u001b[0m     \u001b[0;32mtry\u001b[0m\u001b[0;34m:\u001b[0m\u001b[0;34m\u001b[0m\u001b[0;34m\u001b[0m\u001b[0m\n\u001b[0;32m--> 384\u001b[0;31m         \u001b[0;32mreturn\u001b[0m \u001b[0mgetter\u001b[0m\u001b[0;34m(\u001b[0m\u001b[0mattribute\u001b[0m\u001b[0;34m,\u001b[0m \u001b[0mself\u001b[0m\u001b[0;34m,\u001b[0m \u001b[0mcls\u001b[0m\u001b[0;34m)\u001b[0m\u001b[0;34m\u001b[0m\u001b[0;34m\u001b[0m\u001b[0m\n\u001b[0m\u001b[1;32m    385\u001b[0m     \u001b[0;32mexcept\u001b[0m \u001b[0mTypeError\u001b[0m\u001b[0;34m:\u001b[0m\u001b[0;34m\u001b[0m\u001b[0;34m\u001b[0m\u001b[0m\n",
      "\u001b[0;32m/opt/sagemath-9.2/local/lib/python3.7/site-packages/sage/misc/abstract_method.py\u001b[0m in \u001b[0;36m__get__\u001b[0;34m(self, instance, cls)\u001b[0m\n\u001b[1;32m    221\u001b[0m         \u001b[0;32melse\u001b[0m\u001b[0;34m:\u001b[0m\u001b[0;34m\u001b[0m\u001b[0;34m\u001b[0m\u001b[0m\n\u001b[0;32m--> 222\u001b[0;31m             \u001b[0;32mraise\u001b[0m \u001b[0mNotImplementedError\u001b[0m\u001b[0;34m(\u001b[0m\u001b[0mrepr\u001b[0m\u001b[0;34m(\u001b[0m\u001b[0mself\u001b[0m\u001b[0;34m)\u001b[0m\u001b[0;34m)\u001b[0m\u001b[0;34m\u001b[0m\u001b[0;34m\u001b[0m\u001b[0m\n\u001b[0m\u001b[1;32m    223\u001b[0m \u001b[0;34m\u001b[0m\u001b[0m\n",
      "\u001b[0;31mNotImplementedError\u001b[0m: <abstract method denominator at 0x6ffffe13cd40>",
      "\nDuring handling of the above exception, another exception occurred:\n",
      "\u001b[0;31mAssertionError\u001b[0m                            Traceback (most recent call last)",
      "\u001b[0;32m<ipython-input-127-1751259d0a29>\u001b[0m in \u001b[0;36m<module>\u001b[0;34m\u001b[0m\n\u001b[1;32m      1\u001b[0m \u001b[0mBar\u001b[0m \u001b[0;34m=\u001b[0m \u001b[0mFoo\u001b[0m\u001b[0;34m(\u001b[0m\u001b[0;34m)\u001b[0m\u001b[0;34m\u001b[0m\u001b[0;34m\u001b[0m\u001b[0m\n\u001b[1;32m      2\u001b[0m \u001b[0mbar\u001b[0m \u001b[0;34m=\u001b[0m \u001b[0mBar\u001b[0m\u001b[0;34m.\u001b[0m\u001b[0melement_class\u001b[0m\u001b[0;34m(\u001b[0m\u001b[0mBar\u001b[0m\u001b[0;34m)\u001b[0m\u001b[0;34m\u001b[0m\u001b[0;34m\u001b[0m\u001b[0m\n\u001b[0;32m----> 3\u001b[0;31m \u001b[0mbar\u001b[0m\u001b[0;34m.\u001b[0m\u001b[0m_test_not_implemented_methods\u001b[0m\u001b[0;34m(\u001b[0m\u001b[0;34m)\u001b[0m\u001b[0;34m\u001b[0m\u001b[0;34m\u001b[0m\u001b[0m\n\u001b[0m",
      "\u001b[0;32m/opt/sagemath-9.2/local/lib/python3.7/site-packages/sage/structure/sage_object.pyx\u001b[0m in \u001b[0;36msage.structure.sage_object.SageObject._test_not_implemented_methods (build/cythonized/sage/structure/sage_object.c:4662)\u001b[0;34m()\u001b[0m\n\u001b[1;32m    612\u001b[0m                 \u001b[0;32mexcept\u001b[0m \u001b[0mNotImplementedError\u001b[0m \u001b[0;32mas\u001b[0m \u001b[0me\u001b[0m\u001b[0;34m:\u001b[0m\u001b[0;34m\u001b[0m\u001b[0;34m\u001b[0m\u001b[0m\n\u001b[1;32m    613\u001b[0m                     \u001b[0;32mif\u001b[0m \u001b[0;34m'abstract method'\u001b[0m \u001b[0;32min\u001b[0m \u001b[0mstr\u001b[0m\u001b[0;34m(\u001b[0m\u001b[0me\u001b[0m\u001b[0;34m)\u001b[0m\u001b[0;34m:\u001b[0m\u001b[0;34m\u001b[0m\u001b[0;34m\u001b[0m\u001b[0m\n\u001b[0;32m--> 614\u001b[0;31m                         \u001b[0mtester\u001b[0m\u001b[0;34m.\u001b[0m\u001b[0mfail\u001b[0m\u001b[0;34m(\u001b[0m\u001b[0;34m\"Not implemented method: %s\"\u001b[0m \u001b[0;34m%\u001b[0m \u001b[0mname\u001b[0m\u001b[0;34m)\u001b[0m\u001b[0;34m\u001b[0m\u001b[0;34m\u001b[0m\u001b[0m\n\u001b[0m\u001b[1;32m    615\u001b[0m                 \u001b[0;32mexcept\u001b[0m \u001b[0mException\u001b[0m\u001b[0;34m:\u001b[0m\u001b[0;34m\u001b[0m\u001b[0;34m\u001b[0m\u001b[0m\n\u001b[1;32m    616\u001b[0m                     \u001b[0;32mpass\u001b[0m\u001b[0;34m\u001b[0m\u001b[0;34m\u001b[0m\u001b[0m\n",
      "\u001b[0;32m/usr/lib/python3.7/unittest/case.py\u001b[0m in \u001b[0;36mfail\u001b[0;34m(self, msg)\u001b[0m\n\u001b[1;32m    691\u001b[0m     \u001b[0;32mdef\u001b[0m \u001b[0mfail\u001b[0m\u001b[0;34m(\u001b[0m\u001b[0mself\u001b[0m\u001b[0;34m,\u001b[0m \u001b[0mmsg\u001b[0m\u001b[0;34m=\u001b[0m\u001b[0;32mNone\u001b[0m\u001b[0;34m)\u001b[0m\u001b[0;34m:\u001b[0m\u001b[0;34m\u001b[0m\u001b[0;34m\u001b[0m\u001b[0m\n\u001b[1;32m    692\u001b[0m         \u001b[0;34m\"\"\"Fail immediately, with the given message.\"\"\"\u001b[0m\u001b[0;34m\u001b[0m\u001b[0;34m\u001b[0m\u001b[0m\n\u001b[0;32m--> 693\u001b[0;31m         \u001b[0;32mraise\u001b[0m \u001b[0mself\u001b[0m\u001b[0;34m.\u001b[0m\u001b[0mfailureException\u001b[0m\u001b[0;34m(\u001b[0m\u001b[0mmsg\u001b[0m\u001b[0;34m)\u001b[0m\u001b[0;34m\u001b[0m\u001b[0;34m\u001b[0m\u001b[0m\n\u001b[0m\u001b[1;32m    694\u001b[0m \u001b[0;34m\u001b[0m\u001b[0m\n\u001b[1;32m    695\u001b[0m     \u001b[0;32mdef\u001b[0m \u001b[0massertFalse\u001b[0m\u001b[0;34m(\u001b[0m\u001b[0mself\u001b[0m\u001b[0;34m,\u001b[0m \u001b[0mexpr\u001b[0m\u001b[0;34m,\u001b[0m \u001b[0mmsg\u001b[0m\u001b[0;34m=\u001b[0m\u001b[0;32mNone\u001b[0m\u001b[0;34m)\u001b[0m\u001b[0;34m:\u001b[0m\u001b[0;34m\u001b[0m\u001b[0;34m\u001b[0m\u001b[0m\n",
      "\u001b[0;31mAssertionError\u001b[0m: Not implemented method: denominator"
     ]
    }
   ],
   "source": [
    "Bar = Foo()\n",
    "bar = Bar.element_class(Bar)\n",
    "bar._test_not_implemented_methods()"
   ]
  },
  {
   "cell_type": "code",
   "execution_count": 128,
   "metadata": {},
   "outputs": [
    {
     "data": {
      "text/plain": [
       "['_test_additive_associativity',\n",
       " '_test_an_element',\n",
       " '_test_associativity',\n",
       " '_test_cardinality',\n",
       " '_test_characteristic',\n",
       " '_test_characteristic_fields',\n",
       " '_test_construction',\n",
       " '_test_distributivity',\n",
       " '_test_divides',\n",
       " '_test_elements',\n",
       " '_test_elements_eq_reflexive',\n",
       " '_test_elements_eq_symmetric',\n",
       " '_test_elements_eq_transitive',\n",
       " '_test_elements_neq',\n",
       " '_test_euclidean_degree',\n",
       " '_test_fraction_field',\n",
       " '_test_gcd_vs_xgcd',\n",
       " '_test_one',\n",
       " '_test_prod',\n",
       " '_test_quo_rem',\n",
       " '_test_some_elements',\n",
       " '_test_zero',\n",
       " '_test_zero_divisors']"
      ]
     },
     "execution_count": 128,
     "metadata": {},
     "output_type": "execute_result"
    }
   ],
   "source": [
    "[t for t in dir(QuotientFields().parent_class) if t.startswith('_test_')]"
   ]
  },
  {
   "cell_type": "code",
   "execution_count": 131,
   "metadata": {},
   "outputs": [
    {
     "name": "stdout",
     "output_type": "stream",
     "text": [
      "running ._test_additive_associativity() . . . pass\n",
      "running ._test_an_element() . . . pass\n",
      "running ._test_associativity() . . . pass\n",
      "running ._test_cardinality() . . . pass\n",
      "running ._test_category() . . . pass\n",
      "running ._test_characteristic() . . . pass\n",
      "running ._test_characteristic_fields() . . . pass\n",
      "running ._test_construction() . . . pass\n",
      "running ._test_distributivity() . . . pass\n",
      "running ._test_divides() . . . pass\n",
      "running ._test_elements() . . .\n",
      "  Running the test suite of self.an_element()\n",
      "  running ._test_category() . . . pass\n",
      "  running ._test_eq() . . . pass\n",
      "  running ._test_new() . . . pass\n",
      "  running ._test_nonzero_equal() . . . pass\n",
      "  running ._test_not_implemented_methods() . . . pass\n",
      "  running ._test_pickling() . . . pass\n",
      "  pass\n",
      "running ._test_elements_eq_reflexive() . . . pass\n",
      "running ._test_elements_eq_symmetric() . . . pass\n",
      "running ._test_elements_eq_transitive() . . . pass\n",
      "running ._test_elements_neq() . . . pass\n",
      "running ._test_eq() . . . pass\n",
      "running ._test_euclidean_degree() . . . pass\n",
      "running ._test_fraction_field() . . . pass\n",
      "running ._test_gcd_vs_xgcd() . . . pass\n",
      "running ._test_new() . . . pass\n",
      "running ._test_not_implemented_methods() . . . pass\n",
      "running ._test_one() . . . pass\n",
      "running ._test_pickling() . . . pass\n",
      "running ._test_prod() . . . pass\n",
      "running ._test_quo_rem() . . . pass\n",
      "running ._test_some_elements() . . . pass\n",
      "running ._test_zero() . . . pass\n",
      "running ._test_zero_divisors() . . . pass\n"
     ]
    }
   ],
   "source": [
    "P = MyFrac(ZZ['x'])\n",
    "TestSuite(P).run(verbose =True)"
   ]
  },
  {
   "cell_type": "code",
   "execution_count": 132,
   "metadata": {},
   "outputs": [],
   "source": [
    "class MyFrac(MyFrac):\n",
    "    def _an_element_(self):\n",
    "        a = self.base().an_element()\n",
    "        b = self.base_ring().an_element()\n",
    "        if (a+b)!=0:\n",
    "            return self(a)**2/(self(a+b)**3)\n",
    "        if b != 0:\n",
    "            return self(a)/self(b)**2\n",
    "        return self(a)**2*self(b)**3\n",
    "    def some_elements(self):\n",
    "        return [self.an_element(),self(self.base().an_element()),self(self.base_ring().an_element())]"
   ]
  },
  {
   "cell_type": "code",
   "execution_count": 133,
   "metadata": {},
   "outputs": [
    {
     "data": {
      "text/plain": [
       "[(x^2):(x^3 + 3*x^2 + 3*x + 1), (x):(1), (1):(1)]"
      ]
     },
     "execution_count": 133,
     "metadata": {},
     "output_type": "execute_result"
    }
   ],
   "source": [
    "P = MyFrac(ZZ['x'])\n",
    "P.an_element(); P.some_elements()"
   ]
  },
  {
   "cell_type": "code",
   "execution_count": 136,
   "metadata": {},
   "outputs": [],
   "source": [
    "from sage.categories.category import Category\n",
    "class QuotientFieldsWithTest(Category): # do *not* inherit from QuotientFields, but ...\n",
    "    def super_categories(self):\n",
    "        return [QuotientFields()]       # ... declare QuotientFields as a super category!\n",
    "    class ParentMethods:\n",
    "        pass\n",
    "    class ElementMethods:\n",
    "        def _test_factorisation(self, **options):\n",
    "            P = self.parent()\n",
    "            assert self == P.prod([P(b)**e for b,e in self.factor()])"
   ]
  },
  {
   "cell_type": "code",
   "execution_count": 137,
   "metadata": {},
   "outputs": [
    {
     "data": {
      "text/plain": [
       "Category of quotient fields with test"
      ]
     },
     "execution_count": 137,
     "metadata": {},
     "output_type": "execute_result"
    }
   ],
   "source": [
    "P = MyFrac(ZZ['x'], category=QuotientFieldsWithTest())\n",
    "P.category()"
   ]
  },
  {
   "cell_type": "code",
   "execution_count": 138,
   "metadata": {},
   "outputs": [
    {
     "data": {
      "text/plain": [
       "<bound method QuotientFieldsWithTest.ElementMethods._test_factorisation of (x^2):(x^3 + 3*x^2 + 3*x + 1)>"
      ]
     },
     "execution_count": 138,
     "metadata": {},
     "output_type": "execute_result"
    }
   ],
   "source": [
    "P.an_element()._test_factorisation"
   ]
  },
  {
   "cell_type": "code",
   "execution_count": 139,
   "metadata": {},
   "outputs": [
    {
     "data": {
      "text/plain": [
       "(x + 1)^-3 * x^2"
      ]
     },
     "execution_count": 139,
     "metadata": {},
     "output_type": "execute_result"
    }
   ],
   "source": [
    "P.an_element().factor()"
   ]
  },
  {
   "cell_type": "code",
   "execution_count": 140,
   "metadata": {},
   "outputs": [
    {
     "name": "stdout",
     "output_type": "stream",
     "text": [
      "running ._test_additive_associativity() . . . pass\n",
      "running ._test_an_element() . . . pass\n",
      "running ._test_associativity() . . . pass\n",
      "running ._test_cardinality() . . . pass\n",
      "running ._test_category() . . . pass\n",
      "running ._test_characteristic() . . . pass\n",
      "running ._test_characteristic_fields() . . . pass\n",
      "running ._test_construction() . . . pass\n",
      "running ._test_distributivity() . . . pass\n",
      "running ._test_divides() . . . pass\n",
      "running ._test_elements() . . .\n",
      "  Running the test suite of self.an_element()\n",
      "  running ._test_category() . . . pass\n",
      "  running ._test_eq() . . . pass\n",
      "  running ._test_factorisation() . . . pass\n",
      "  running ._test_new() . . . pass\n",
      "  running ._test_nonzero_equal() . . . pass\n",
      "  running ._test_not_implemented_methods() . . . pass\n",
      "  running ._test_pickling() . . . pass\n",
      "  pass\n",
      "running ._test_elements_eq_reflexive() . . . pass\n",
      "running ._test_elements_eq_symmetric() . . . pass\n",
      "running ._test_elements_eq_transitive() . . . pass\n",
      "running ._test_elements_neq() . . . pass\n",
      "running ._test_eq() . . . pass\n",
      "running ._test_euclidean_degree() . . . pass\n",
      "running ._test_fraction_field() . . . pass\n",
      "running ._test_gcd_vs_xgcd() . . . pass\n",
      "running ._test_new() . . . pass\n",
      "running ._test_not_implemented_methods() . . . pass\n",
      "running ._test_one() . . . pass\n",
      "running ._test_pickling() . . . pass\n",
      "running ._test_prod() . . . pass\n",
      "running ._test_quo_rem() . . . pass\n",
      "running ._test_some_elements() . . . pass\n",
      "running ._test_zero() . . . pass\n",
      "running ._test_zero_divisors() . . . pass\n"
     ]
    }
   ],
   "source": [
    "TestSuite(P).run(verbose=True)"
   ]
  },
  {
   "cell_type": "code",
   "execution_count": 1,
   "metadata": {},
   "outputs": [],
   "source": [
    "# Importing base classes, ...\n",
    "import sage\n",
    "from sage.rings.ring import Field\n",
    "from sage.structure.element import FieldElement\n",
    "from sage.categories.category import Category\n",
    "# ... the UniqueRepresentation tool,\n",
    "from sage.structure.unique_representation import UniqueRepresentation\n",
    "# ... some categories, and ...\n",
    "from sage.categories.fields import Fields\n",
    "from sage.categories.quotient_fields import QuotientFields\n",
    "from sage.categories.integral_domains import IntegralDomains\n",
    "# construction functors\n",
    "from sage.categories.pushout import ConstructionFunctor\n",
    "\n",
    "# Fraction field elements\n",
    "class MyElement(FieldElement):\n",
    "    def __init__(self, parent, n, d=None):\n",
    "        if parent is None:\n",
    "            raise ValueError(\"The parent must be provided\")\n",
    "        B = parent.base()\n",
    "        if d is None:\n",
    "            # The default denominator is one\n",
    "            d = B.one()\n",
    "        # verify that both numerator and denominator belong to the base\n",
    "        if n not in B or d not in B:\n",
    "            raise ValueError(\"Numerator and denominator must be elements of %s\"%B)\n",
    "        # Numerator and denominator should not just be \"in\" B,\n",
    "        # but should be defined as elements of B\n",
    "        d = B(d)\n",
    "        n = B(n)\n",
    "        # the denominator must not be zero\n",
    "        if d==0:\n",
    "            raise ZeroDivisionError(\"The denominator must not be zero\")\n",
    "        # normalize the denominator: WLOG, it shall be non-negative.\n",
    "        if d<0:\n",
    "            self.n = -n\n",
    "            self.d = -d\n",
    "        else:\n",
    "            self.n = n\n",
    "            self.d = d\n",
    "        FieldElement.__init__(self,parent)\n",
    "\n",
    "    # Methods required by the category of fraction fields:\n",
    "    def numerator(self):\n",
    "        return self.n\n",
    "    def denominator(self):\n",
    "        return self.d\n",
    "\n",
    "    # String representation (single underscore!)\n",
    "    def _repr_(self):\n",
    "        return \"(%s):(%s)\"%(self.n,self.d)\n",
    "\n",
    "    # Comparison: We can assume that both arguments are coerced\n",
    "    # into the same parent, which is a fraction field. Hence, we\n",
    "    # are allowed to use the denominator() and numerator() methods\n",
    "    # on the second argument.\n",
    "    def _richcmp_(self, other, op):\n",
    "        from sage.structure.richcmp import richcmp\n",
    "        return richcmp(self.n*other.denominator(), other.numerator()*self.d, op)\n",
    "\n",
    "    # Arithmetic methods, single underscore. We can assume that both\n",
    "    # arguments are coerced into the same parent.\n",
    "    # We return instances of self.__class__, because self.__class__ will\n",
    "    # eventually be a sub-class of MyElement.\n",
    "    def _add_(self, other):\n",
    "        C = self.__class__\n",
    "        D = self.d*other.denominator()\n",
    "        return C(self.parent(), self.n*other.denominator()+self.d*other.numerator(),D)\n",
    "    def _sub_(self, other):\n",
    "        C = self.__class__\n",
    "        D = self.d*other.denominator()\n",
    "        return C(self.parent(), self.n*other.denominator()-self.d*other.numerator(),D)\n",
    "    def _mul_(self, other):\n",
    "        C = self.__class__\n",
    "        return C(self.parent(), self.n*other.numerator(), self.d*other.denominator())\n",
    "    def _div_(self, other):\n",
    "        C = self.__class__\n",
    "        return C(self.parent(), self.n*other.denominator(), self.d*other.numerator())\n",
    "\n",
    "# Inheritance from UniqueRepresentation implements the unique parent\n",
    "# behaviour. Moreover, it implements pickling (provided that Python\n",
    "# succeeds to look up the class definition).\n",
    "class MyFrac(UniqueRepresentation, Field):\n",
    "    # Implement the category framework for elements, which also\n",
    "    # makes some basic conversions work.\n",
    "    Element = MyElement\n",
    "\n",
    "    # Allow to pass to a different category, by an optional argument\n",
    "    def __init__(self, base, category=None):\n",
    "        # Fraction fields only exist for integral domains\n",
    "        if base not in IntegralDomains():\n",
    "            raise ValueError(\"%s is no integral domain\" % base)\n",
    "        # Implement the category framework for the parent\n",
    "        Field.__init__(self, base, category=category or QuotientFields())\n",
    "\n",
    "    # Single-underscore method for string representation\n",
    "    def _repr_(self):\n",
    "        return \"NewFrac(%s)\"%repr(self.base())\n",
    "\n",
    "    # Two methods that are implicitly used in some tests\n",
    "    def base_ring(self):\n",
    "        return self.base().base_ring()\n",
    "    def characteristic(self):\n",
    "        return self.base().characteristic()\n",
    "\n",
    "    # Implement conversions. Do not override __call__!\n",
    "    def _element_constructor_(self, *args, **kwds):\n",
    "        if len(args)!=1:\n",
    "            return self.element_class(self, *args, **kwds)\n",
    "        x = args[0]\n",
    "        try:\n",
    "            P = x.parent()\n",
    "        except AttributeError:\n",
    "            return self.element_class(self, x, **kwds)\n",
    "        if P in QuotientFields() and P != self.base():\n",
    "            return self.element_class(self, x.numerator(), x.denominator(), **kwds)\n",
    "        return self.element_class(self, x, **kwds)\n",
    "\n",
    "    # Implement coercion from the base and from fraction fields\n",
    "    # over a ring that coerces into the base\n",
    "    def _coerce_map_from_(self, S):\n",
    "        if self.base().has_coerce_map_from(S):\n",
    "            return True\n",
    "        if S in QuotientFields():\n",
    "            if self.base().has_coerce_map_from(S.base()):\n",
    "                return True\n",
    "            if hasattr(S,'ring_of_integers') and self.base().has_coerce_map_from(S.ring_of_integers()):\n",
    "                return True\n",
    "    # Tell how this parent was constructed, in order to enable pushout constructions\n",
    "    def construction(self):\n",
    "        return MyFracFunctor(), self.base()\n",
    "\n",
    "    # return some elements of this parent\n",
    "    def _an_element_(self):\n",
    "        a = self.base().an_element()\n",
    "        b = self.base_ring().an_element()\n",
    "        if (a+b)!=0:\n",
    "            return self(a)**2/(self(a+b)**3)\n",
    "        if b != 0:\n",
    "            return self(a)/self(b)**2\n",
    "        return self(a)**2*self(b)**3\n",
    "    def some_elements(self):\n",
    "        return [self.an_element(),self(self.base().an_element()),self(self.base_ring().an_element())]\n",
    "\n",
    "\n",
    "# A construction functor for our implementation of fraction fields\n",
    "class MyFracFunctor(ConstructionFunctor):\n",
    "    # The rank is the same for Sage's original fraction field functor\n",
    "    rank = 5\n",
    "    def __init__(self):\n",
    "        # The fraction field construction is a functor\n",
    "        # from the category of integral domains into the category of\n",
    "        # fields\n",
    "        # NOTE: We could actually narrow the codomain and use the\n",
    "        # category QuotientFields()\n",
    "        ConstructionFunctor.__init__(self, IntegralDomains(), Fields())\n",
    "    # Applying the functor to an object. Do not override __call__!\n",
    "    def _apply_functor(self, R):\n",
    "        return MyFrac(R)\n",
    "    # Note: To apply the functor to morphisms, implement\n",
    "    #       _apply_functor_to_morphism\n",
    "\n",
    "    # Make sure that arithmetic involving elements of Frac(R) and\n",
    "    # MyFrac(R) works and yields elements of MyFrac(R)\n",
    "    def merge(self, other):\n",
    "        if isinstance(other, (type(self), sage.categories.pushout.FractionField)):\n",
    "            return self\n",
    "\n",
    "# A quotient field category with additional tests.\n",
    "# Notes:\n",
    "# - Category inherits from UniqueRepresentation. Hence, there\n",
    "#   is only one category for given arguments.\n",
    "# - Since QuotientFieldsWithTest is a singleton (there is only\n",
    "#   one instance of this class), we could inherit from\n",
    "#   sage.categories.category_singleton.Category_singleton\n",
    "#   rather than from sage.categories.category.Category\n",
    "class QuotientFieldsWithTest(Category):\n",
    "    # Our category is a sub-category of the category of quotient fields,\n",
    "    # by means of the following method.\n",
    "    def super_categories(self):\n",
    "        return [QuotientFields()]\n",
    "\n",
    "    # Here, we could implement methods that are available for\n",
    "    # all objects in this category.\n",
    "    class ParentMethods:\n",
    "        pass\n",
    "\n",
    "    # Here, we add a new test that is available for all elements\n",
    "    # of any object in this category.\n",
    "    class ElementMethods:\n",
    "        def _test_factorisation(self, **options):\n",
    "            P = self.parent()\n",
    "            # The methods prod() and factor() are inherited from\n",
    "            # some other categories.\n",
    "            assert self == P.prod([P(b)**e for b,e in self.factor()])"
   ]
  },
  {
   "cell_type": "code",
   "execution_count": 2,
   "metadata": {},
   "outputs": [
    {
     "data": {
      "text/plain": [
       "NewFrac(Integer Ring)"
      ]
     },
     "execution_count": 2,
     "metadata": {},
     "output_type": "execute_result"
    }
   ],
   "source": [
    "P = MyFrac(ZZ); P"
   ]
  },
  {
   "cell_type": "code",
   "execution_count": null,
   "metadata": {},
   "outputs": [],
   "source": []
  }
 ],
 "metadata": {
  "kernelspec": {
   "display_name": "SageMath 9.2",
   "language": "sage",
   "name": "sagemath"
  },
  "language_info": {
   "codemirror_mode": {
    "name": "ipython",
    "version": 3
   },
   "file_extension": ".py",
   "mimetype": "text/x-python",
   "name": "python",
   "nbconvert_exporter": "python",
   "pygments_lexer": "ipython3",
   "version": "3.7.7"
  }
 },
 "nbformat": 4,
 "nbformat_minor": 4
}
