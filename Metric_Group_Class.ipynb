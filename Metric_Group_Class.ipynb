{
 "cells": [
  {
   "cell_type": "code",
   "execution_count": 332,
   "metadata": {},
   "outputs": [],
   "source": [
    "r\"\"\"\n",
    "Metric Groups\n",
    "\"\"\"\n",
    "# ****************************************************************************\n",
    "#  Copyright (C) 2022      Ryan Johnson <johnsor@grace.edu>\n",
    "#\n",
    "#  Distributed under the terms of the GNU General Public License (GPL)\n",
    "#                  https://www.gnu.org/licenses/\n",
    "# *****************************************************************************\n",
    "import sage\n",
    "import itertools\n",
    "from sage.rings.integer_ring import IntegerRing, ZZ\n",
    "from sage.rings.number_field.number_field import CyclotomicField, NumberField_cyclotomic\n",
    "from sage.rings.finite_rings.integer_mod_ring import Zmod\n",
    "from sage.matrix.matrix_space import MatrixSpace\n",
    "from sage.matrix.constructor import matrix\n",
    "from sage.matrix.special import block_diagonal_matrix\n",
    "from sage.groups.additive_abelian.additive_abelian_group import *\n",
    "from sage.categories.category import Category\n",
    "from sage.categories.number_fields import NumberFields\n",
    "from sage.categories.modules import Modules\n",
    "from sage.sets.positive_integers import PositiveIntegers\n",
    "from sage.structure.unique_representation import UniqueRepresentation\n",
    "from sage.structure.element import is_Matrix\n",
    "from sage.misc.misc_c import prod\n",
    "from sage.arith.misc import factor, legendre_symbol\n",
    "from sage.arith.functions import lcm\n",
    "from sage.functions.other import sqrt\n",
    "from sage.modules.free_module_element import vector\n",
    "\n",
    "def good_prd_tuple(p,r,d):\n",
    "    if p == 2:\n",
    "        d_range = range(1,7)\n",
    "    else:\n",
    "        d_range = range(1,3)\n",
    "    return all((p.is_prime(), r>0, d in d_range))\n",
    "\n",
    "def MetricGroup(prd_tuples):\n",
    "    r\"\"\"\n",
    "    Construct a metric group given a list of tuples, each determining\n",
    "    an irreducible metric group.\n",
    "\n",
    "    INPUT:\n",
    "\n",
    "    - ``prd_tuples`` (list of tuples in \\ZZ^3): these tuples should each\n",
    "      be of the form `(p,r,d)` where `p` is a prime, `r` is a positive\n",
    "      integer, and `d` determines the type of irreduciblle metric group.\n",
    "      If `p` is an odd prime, then `d=1` or `d=2`.  If `p=2`, then\n",
    "      `d=1,2,3,4,5` or `6`.  These follow the types given in\n",
    "      https://arxiv.org/abs/1405.7950\n",
    "\n",
    "    - ``remember_generators`` (boolean): whether or not to fix a set of\n",
    "      generators (corresponding to the given invariants, which need not be in\n",
    "      Smith form).\n",
    "\n",
    "    OUTPUT:\n",
    "\n",
    "    The metric group where `G = \\bigoplus_i X_i(p,q)`, for each tuple `(p,r,d)` where\n",
    "    `X = A` if `d=1` and so on alphabetically.\n",
    "    \"\"\"\n",
    "    #check conditions on input\n",
    "    prd_tuples = [(ZZ(p), ZZ(r), ZZ(d)) for (p,r,d) in prd_tuples]\n",
    "    assert all(good_prd_tuple(p,r,d) for (p,r,d) in prd_tuples)\n",
    "    orders = [p**r for (p,r,d) in prd_tuples for i in range(int(d/5)+1)]\n",
    "    n = cyclotomic_n(orders)\n",
    "    G = AdditiveAbelianGroup(orders)\n",
    "    Z = CyclotomicField(n)\n",
    "    Q = []\n",
    "    for tup in prd_tuples:\n",
    "        p,r,d = tup\n",
    "        if p == 2 and d == 1:\n",
    "            Q.append(matrix(ZZ, [[n*p**(-r-1)]]))\n",
    "        elif p == 2 and d == 2:\n",
    "            Q.append(matrix(ZZ, [[-n*p**(-r-1)]]))\n",
    "        elif p == 2 and d == 3:\n",
    "            Q.append(matrix(ZZ, [[5*n*p**(-r-1)]]))\n",
    "        elif p == 2 and d == 4:\n",
    "            Q.append(matrix(ZZ, [[-5*n*p**(-r-1)]]))\n",
    "        elif p == 2 and d == 5:\n",
    "            Q.append(ZZ(n*p**(-r-1))*matrix(ZZ, [[0,1],[1,0]]))\n",
    "        elif p == 2 and d == 6:\n",
    "            Q.append(ZZ(n*p**(-r-1))*matrix(ZZ, [[2,1],[1,2]]))\n",
    "        elif d == 1:\n",
    "            v = (p**r + 1)/2 #v is 2^(-1) in Z/p^rZ\n",
    "            Q.append(matrix(ZZ, [[ZZ(v*n*p**(-r))]]))\n",
    "        elif d == 2:\n",
    "            v = (p**r + 1)/2 #v is 2^(-1) in Z/p^rZ\n",
    "            u = ZZ(Zmod(p).multiplicative_generator())\n",
    "            Q.append(matrix(ZZ, [[ZZ(u*v*n*p**(-r))]]))\n",
    "        else:\n",
    "            print(\"Build error: \", p, r, d)\n",
    "    return PreMetricGroup(G,block_diagonal_matrix(Q, subdivide=False),Z)\n",
    "\n",
    "#Finite Pre-Metric Group Element\n",
    "class PreMetricGroupElement(AdditiveAbelianGroupElement):\n",
    "    def rho(self):\n",
    "        G = self.parent()\n",
    "        Q = G._quadratic_matrix\n",
    "        z = G._zeta\n",
    "        x = vector(self.lift())\n",
    "        return z**(x*Q*x)\n",
    "    \n",
    "    def chi(self, other):\n",
    "        return (self+other).quadratic()/self.quadratic()/other.quadratic()\n",
    "    \n",
    "    def rho_a(self, other):\n",
    "        return self.quadratic()*self.bilinear(other)\n",
    "    \n",
    "    def quadratic(self):\n",
    "        G = self.parent()\n",
    "        Q = G._quadratic_matrix\n",
    "        n = G._modulo_n\n",
    "        R = Integers(n)\n",
    "        x = vector(self.lift())\n",
    "        return R(x*Q*x)\n",
    "    \n",
    "    def bilinear(self, other):\n",
    "        return (self+other).quadratic_additive()-self.quadratic_additive()-other.quadratic_additive()\n",
    "\n",
    "class PreMetricGroup(AdditiveAbelianGroup_fixed_gens):\n",
    "    Element = PreMetricGroupElement\n",
    "    \n",
    "    def __init__(self, invariants_or_group, coeffs_or_matrix, divisor_or_cyclotomic_field):        \n",
    "        #Deal with the case when input is (*,*,CyclotomicField)\n",
    "        if isinstance(divisor_or_cyclotomic_field, NumberField_cyclotomic):\n",
    "            self._cyclotomic_field = divisor_or_cyclotomic_field\n",
    "            self._modulo_n = divisor_or_cyclotomic_field._n()\n",
    "        #Deal with the case when input is (*,*,positive_integer)\n",
    "        elif divisor_or_cyclotomic_field in PositiveIntegers():\n",
    "            self._cyclotomic_field = CyclotomicField(divisor_or_cyclotomic_field)\n",
    "            self._modulo_n = ZZ(divisor_or_cyclotomic_field)\n",
    "        else:\n",
    "            raise TypeError(\"the third input must be a cyclotomic field or a positive integer\")\n",
    "        self._zeta = self._cyclotomic_field.zeta()\n",
    "            \n",
    "        #Deal with the case when input is (group,*,*)\n",
    "        if isinstance(invariants_or_group, AdditiveAbelianGroup_class):\n",
    "            cover = invariants_or_group.cover()\n",
    "            rels = invariants_or_group.relations()\n",
    "            gens = invariants_or_group.gens()\n",
    "        #Deal with the case when input is (invariants,*,*)\n",
    "        elif all([i in PositiveIntegers() for i in invariants_or_group]):\n",
    "            cover, rels = cover_and_relations_from_invariants(invariants_or_group)\n",
    "            gens = cover.gens()\n",
    "        else:\n",
    "            raise TypeError(\"the first input must be an additive abelian group or a list of invariants\")\n",
    "        \n",
    "        #The underlying set is a finite additive abelian group\n",
    "        AdditiveAbelianGroup_fixed_gens.__init__(self, cover, rels, gens)\n",
    "        assert self.is_finite()\n",
    "        \n",
    "        #Deal with the case when inputs is (*,matrix,*)\n",
    "        if is_Matrix(coeffs_or_matrix):\n",
    "            assert self._is_homogeneous_quadratic(coeffs_or_matrix)\n",
    "            self._quadratic_matrix = coeffs_or_matrix % self._modulo_n\n",
    "        #Deal with the case when inputs is (*,coefficients,*)\n",
    "        elif isinstance(coeffs_or_matrix, list):\n",
    "            n = self.ngens()\n",
    "            if len(coeffs_or_matrix) != n*(n+1)/2:\n",
    "                raise TypeError(\"need to provide n(n+1)/2 coefficients for n generators\")\n",
    "            elif not all(i in ZZ for i in coeffs_or_matrix):\n",
    "                raise TypeError(\"coefficients need to be integers\")\n",
    "            Q = matrix(ZZ, [[coeffs_or_matrix[j*n - j*(j-1)//2 + i - j] if i >=j\n",
    "                             else coeffs_or_matrix[i*n - i*(i-1)//2 + j - i]\n",
    "                             for i in range(n)] for j in range(n)])\n",
    "            assert self._is_homogeneous_quadratic(Q)\n",
    "            self._quadratic_matrix = Q % self._modulo_n\n",
    "        else:\n",
    "            raise TypeError(\"the second input must be an integer matrix or a\" +\n",
    "                            \"list of the upper triangular coefficients\")\n",
    "       \n",
    "    def _repr_(self):\n",
    "        parts = [\"Additive abelian group isomorphic to %s with quadratic form determined by \\n\"%self.short_name(),\n",
    "                str(self._quadratic_matrix), \"\\n\",\n",
    "                \"whose codomain is the %s\"%self._cyclotomic_field]\n",
    "        return \"\".join(parts)\n",
    "      \n",
    "    def sqrt(self, n):\n",
    "        #This method exists because the sqrt method from Cyclotomic Fields did not always give\n",
    "        #the positive square root in years past.\n",
    "        z = self._zeta\n",
    "        if not z.parent()(n).is_nth_power(2):\n",
    "            raise ValueError(\"n has no square root in the cyclotomic field\")\n",
    "        n3 = z.multiplicative_order()\n",
    "        sqrt_n = 1\n",
    "        for fac in factor(n.squarefree_part()):\n",
    "            if fac[0] == 2:\n",
    "                sqrt_n = z**(n3/8) + z**(7*n3/8)\n",
    "            else:\n",
    "                p = fac[0]\n",
    "                sqrt_n = sqrt_n * (1-z**(n3/4))/(1-z**(n3/4*legendre_symbol(-1,p))) * sum([legendre_symbol(i,p)*z**(n3*i/p) for i in range(p)])\n",
    "        return sqrt_n * sqrt(n/n.squarefree_part())\n",
    "    \n",
    "    def gauss(self):\n",
    "        n = self.cardinality()\n",
    "        return self.sqrt(n)/n*sum([g.rho() for g in self])\n",
    "    \n",
    "    def _invariants_to_prime_powers():\n",
    "        1+1\n",
    "        #NOT DONE\n",
    "    \n",
    "    def _is_homogeneous_quadratic(self, Q):\n",
    "        if Q.base_ring() != ZZ:\n",
    "            raise TypeError(\"Q must be a matrix over the integers\")\n",
    "        \n",
    "        #Check that Q maches the number of generators of G\n",
    "        invs = [g.order() for g in self.gens()]\n",
    "        w = len(invs)\n",
    "        if Q.dimensions() != (w, w):\n",
    "            raise TypeError(\"%s must match %s\"%(Q, self.gens()))\n",
    "        \n",
    "        #Check that Q is homogeneous\n",
    "        if not Q.is_symmetric():\n",
    "            raise TypeError(\"Q must be a symmetric matrix\")\n",
    "            \n",
    "        #Test that Q yields a bilinear form\n",
    "        n = self._modulo_n\n",
    "        non_bil = next(((i,j) for i in range(w) for j in range(w) if\n",
    "                  not ZZ(n/invs[i]).divides(gcd(2*Q[i,j],n)) or\n",
    "                  not ZZ(n/invs[j]).divides(gcd(2*Q[i,j],n))), None)\n",
    "        if non_bil:\n",
    "            raise TypeError(\"The orders of q_ij modulo %s and the orders of the\"%n+\n",
    "                            \"i-th and j-th generators don't match for i=%s and j=%s\"%non_bil)\n",
    "        \n",
    "        return True\n",
    "\n",
    "        \n",
    "def cyclotomic_n(invariants):\n",
    "    \"\"\"\n",
    "    Given the invariants of group, return the smallest possible integer n\n",
    "    such that we can define any quadratic form on the group to ZZ/nZZ,\n",
    "    (1/n)ZZ/ZZ, or Cyclotomic(n).\n",
    "    \"\"\"\n",
    "    n1 = lcm(invariants)\n",
    "    n2 = prod(invariants).squarefree_part()\n",
    "    #n1 is even, then output of quadratic form requires\n",
    "    #the next highest power of 2\n",
    "    if n1 % 2 == 0:\n",
    "        n1 = n1*2\n",
    "    #if n1 is odd, gauss sums will exist in QQ(i)\n",
    "    else:\n",
    "        n1 = n1*4\n",
    "    #We need a cyclotomic field that contains sqrt(n)\n",
    "    if n2 % 2 == 0:\n",
    "        n2 = n2 * 4\n",
    "    n3 = lcm(n1,n2)\n",
    "    return n3"
   ]
  },
  {
   "cell_type": "code",
   "execution_count": 333,
   "metadata": {},
   "outputs": [
    {
     "data": {
      "text/plain": [
       "Additive abelian group isomorphic to Z/2 + Z/4 with quadratic form determined by \n",
       "[2 2]\n",
       "[2 1]\n",
       "whose codomain is the Cyclotomic Field of order 8 and degree 4"
      ]
     },
     "execution_count": 333,
     "metadata": {},
     "output_type": "execute_result"
    }
   ],
   "source": [
    "G = PreMetricGroup([2,4], [2,2,1], 8); G"
   ]
  },
  {
   "cell_type": "code",
   "execution_count": 334,
   "metadata": {},
   "outputs": [
    {
     "data": {
      "text/plain": [
       "Additive abelian group isomorphic to Z/4 + Z/4 + Z/3 with quadratic form determined by \n",
       "[0 3 0]\n",
       "[3 0 0]\n",
       "[0 0 8]\n",
       "whose codomain is the Cyclotomic Field of order 24 and degree 8"
      ]
     },
     "execution_count": 334,
     "metadata": {},
     "output_type": "execute_result"
    }
   ],
   "source": [
    "MetricGroup([(2,2,5),(3,1,2)])"
   ]
  },
  {
   "cell_type": "markdown",
   "metadata": {},
   "source": [
    "The code below is good at double checking the signature of a matric group, but it is slow.  It would be better to diagonalize the Q matrix and classify it's block matrices."
   ]
  },
  {
   "cell_type": "code",
   "execution_count": 341,
   "metadata": {},
   "outputs": [
    {
     "name": "stdout",
     "output_type": "stream",
     "text": [
      "{1: 0, zeta8: 1, zeta8^2: 2, zeta8^3: 3, -1: 4, -zeta8: 5, -zeta8^2: 6, -zeta8^3: 7, 0: +Infinity}\n"
     ]
    }
   ],
   "source": [
    "z = Z8.zeta()\n",
    "s_additive = {z^j : j for j in range(8)}\n",
    "s_additive[0] = oo\n",
    "print(s_additive)"
   ]
  },
  {
   "cell_type": "code",
   "execution_count": 345,
   "metadata": {},
   "outputs": [
    {
     "name": "stdout",
     "output_type": "stream",
     "text": [
      "Additive abelian group isomorphic to Z/4 + Z/4 + Z/9 + Z/25 with quadratic form determined by \n",
      "[ 225    0    0    0]\n",
      "[   0 1575    0    0]\n",
      "[   0    0  200    0]\n",
      "[   0    0    0  936]\n",
      "whose codomain is the Cyclotomic Field of order 1800 and degree 480\n",
      "2  :  [1, 1, 0]\n",
      "2  :  [0, 0, +Infinity]\n",
      "3  :  [1, zeta8^2, 1]\n",
      "3  :  [0, 2, 0]\n",
      "5  :  [1, -1, 1]\n",
      "5  :  [0, 4, 0]\n"
     ]
    }
   ],
   "source": [
    "G = MetricGroup([(2,2,1),(2,2,2),(3,2,2),(5,2,1)])\n",
    "Z8 = CyclotomicField(8)\n",
    "print(G)\n",
    "n = G.order()\n",
    "gens = G.gens()\n",
    "ords = [g.order() for g in G.gens()]\n",
    "primes = [p for (p,r) in factor(n)]\n",
    "l = len(gens)\n",
    "for p in primes:\n",
    "    v_p = ZZ.valuation(p)\n",
    "    ord_v = [v_p(o) for o in ords]\n",
    "    G_p_slices = [[i*gens[j] for i in range(p^(max(ord_v[j],0)))] for j in range(l)]\n",
    "    G_p = [sum(list(a)) for a in itertools.product(*G_p_slices)]\n",
    "    #determine the power of p of tuple\n",
    "    r = max(ord_v)\n",
    "    sigma = []\n",
    "    for k in range(r+1):\n",
    "        H_len = prod([p^max(ord_v[i]-k,0) for i in range(l)])\n",
    "        sqrt_H = G.sqrt(H_len)\n",
    "        sigma += [Z8(sqrt_H/len(G_p)*sum([g.rho()^(p^k) for g in G_p]))]\n",
    "    s_a = [s_additive[x] for x in sigma]\n",
    "    print(p, \" : \", sigma)\n",
    "    print(p, \" : \", s_a)"
   ]
  },
  {
   "cell_type": "code",
   "execution_count": 5,
   "metadata": {},
   "outputs": [
    {
     "data": {
      "text/plain": [
       "[ 675    0    0    0    0]\n",
       "[   0 4725    0    0    0]\n",
       "[   0    0 1800    0    0]\n",
       "[   0    0    0  216    0]\n",
       "[   0    0    0    0 2800]"
      ]
     },
     "execution_count": 5,
     "metadata": {},
     "output_type": "execute_result"
    }
   ],
   "source": [
    "G = MetricGroup([(2,2,1),(2,2,2),(3,1,2),(5,2,2),(3,3,1)])\n",
    "G._quadratic_matrix"
   ]
  },
  {
   "cell_type": "code",
   "execution_count": 6,
   "metadata": {},
   "outputs": [
    {
     "name": "stdout",
     "output_type": "stream",
     "text": [
      "[2, 3, 5] [4, 4, 3, 25, 27]\n"
     ]
    }
   ],
   "source": [
    "n = G.order()\n",
    "gens = G.gens()\n",
    "ords = [g.order() for g in G.gens()]\n",
    "primes = [p for (p,r) in factor(n)]\n",
    "print(primes, ords)"
   ]
  },
  {
   "cell_type": "code",
   "execution_count": 7,
   "metadata": {},
   "outputs": [],
   "source": [
    "g = G.0"
   ]
  },
  {
   "cell_type": "code",
   "execution_count": 8,
   "metadata": {},
   "outputs": [
    {
     "data": {
      "text/plain": [
       "4"
      ]
     },
     "execution_count": 8,
     "metadata": {},
     "output_type": "execute_result"
    }
   ],
   "source": [
    "g.order()"
   ]
  },
  {
   "cell_type": "markdown",
   "metadata": {},
   "source": [
    "### Working on the diagonalization"
   ]
  },
  {
   "cell_type": "code",
   "execution_count": 508,
   "metadata": {},
   "outputs": [
    {
     "name": "stdout",
     "output_type": "stream",
     "text": [
      "Additive abelian group isomorphic to Z/2 + Z/2 + Z/2 with quadratic form determined by \n",
      "[4 0 0]\n",
      "[0 0 4]\n",
      "[0 4 0]\n",
      "whose codomain is the Cyclotomic Field of order 8 and degree 4\n"
     ]
    }
   ],
   "source": [
    "ords = [2,2,2] #pick powers of an odd prime\n",
    "p_r_ords = [factor(o) for o in ords]\n",
    "if all(len(pr)==1 for pr in p_r_ords):\n",
    "    p_r_ords = [o[0] for o in p_r_ords]\n",
    "    p_r_ords_sorted = sorted(p_r_ords)\n",
    "else:\n",
    "    raise TypeError(\"group generators must have prime power order\")\n",
    "n = cyclotomic_n(ords)\n",
    "coefs = [n/2,0,0,0,n/2,0]\n",
    "A = PreMetricGroup(ords, coefs, n)\n",
    "print(A)\n",
    "gens = A.gens()\n",
    "Q = A._quadratic_matrix\n",
    "w = len(ords)\n",
    "new_gens = list(gens)"
   ]
  },
  {
   "cell_type": "code",
   "execution_count": 509,
   "metadata": {},
   "outputs": [
    {
     "name": "stdout",
     "output_type": "stream",
     "text": [
      "k =  0\n",
      "p =  2\n",
      "u_p =  1\n",
      "rk =  -1\n",
      "pr =  2\n",
      "x =  1  and x_inv =  1\n",
      "a =  1\n",
      "k =  1\n",
      "p =  2\n",
      "u_p =  1\n",
      "rk =  -1\n",
      "pr =  2\n",
      "x =  1\n",
      "y =  0\n",
      "z =  0\n",
      "I stopped here\n",
      "[(1, 0, 0), (0, 1, 0), (0, 0, 1)]\n",
      "[(2, 1, 1, 0)]\n",
      "[4 0 0]\n",
      "[0 0 4]\n",
      "[0 4 0]\n"
     ]
    }
   ],
   "source": [
    "Irreps = []\n",
    "k=0\n",
    "while k < w:\n",
    "    print(\"k = \", k)\n",
    "    p,r = p_r_ords_sorted[k] #this will give our (p,r,*,*) outputs in dictionary order for p and r\n",
    "    print(\"p = \", p)\n",
    "    u_p = ZZ(Integers(p).multiplicative_generator())\n",
    "    print(\"u_p = \", u_p)\n",
    "    #find the minimum v_p(q_ij) and call it rk\n",
    "    rk = min(((q_ij/n).valuation(p) for (i,row_i) in enumerate(Q[k:])\n",
    "             for (j,q_ij) in enumerate(row_i[k:]) if p_r_ords[i+k]==(p,r) or\n",
    "             p_r_ords[j+k] == (p,r)), default=0)\n",
    "    print(\"rk = \", rk)\n",
    "    \n",
    "    #If we find only zeros\n",
    "    if rk >= 0:\n",
    "        Irreps += [(p,r,1,r)]\n",
    "        k+=1\n",
    "        continue\n",
    "    \n",
    "    #does a diagonal element realize the minimum p-valuation?\n",
    "    #if so, remember it's index\n",
    "    i = next((i for (i,q_ii) in enumerate(Q.diagonal()[k:])\n",
    "              if (q_ii/n).valuation(p)==rk and p_r_ords[i+k]==(p,r)), None)\n",
    "        \n",
    "    \n",
    "    if p != 2:\n",
    "        #if no diagonal element realizs the minimum p-valuation\n",
    "        if i == None:\n",
    "            #find the indices of an element that realizes the minimum p-valuation\n",
    "            i,j = next((i,j) for (i,row_i) in enumerate(Q[k:])\n",
    "                       for (j,q_ij) in enumerate(row_i[k:]) if(q_ij/n).valuation(p)==rk\n",
    "                      and (p_r_ords[i+k]==(p,r) or p_r_ords[j+k]==(p,r)))\n",
    "            #conjugating Q with S will make the i-th diagonal entry\n",
    "            #realize the minimum p-valuation\n",
    "            S = elementary_matrix(ZZ, w, row1=i+k, row2=j+k, scale = 1)\n",
    "            S_inv = elementary_matrix(ZZ, w, row1=i+k, row2=j+k, scale = -1)\n",
    "            print(\"----%s-%s-to-diagonal\"%(i+k,j+k))\n",
    "            print(Q);print(S)\n",
    "            Q = S*Q*S.transpose() % n\n",
    "            print(Q)\n",
    "            new_gens = [A(h.lift()*S_inv) for h in new_gens]\n",
    "            print(new_gens)\n",
    "            print([g.quadratic() for g in new_gens])\n",
    "\n",
    "        #move a diagonal element with minimum p-valuation to k,k.\n",
    "        if i>0:\n",
    "            S = elementary_matrix(ZZ, w, row1=k, row2=i+k)\n",
    "            print(\"----%s-%s-to-%s-%s\"%(i+k,i+k,k,k))\n",
    "            print(Q);print(S)\n",
    "            Q = S*Q*S.transpose() % n\n",
    "            print(Q)\n",
    "            new_gens = [A(h.lift()*S) for h in new_gens]\n",
    "            print(new_gens)\n",
    "            print([g.quadratic() for g in new_gens])\n",
    "            p_r_ords[k], p_r_ords[k+i] = p_r_ords[k+i], p_r_ords[k]\n",
    "\n",
    "        #scale the k,k entry to be 1 or u_p\n",
    "        pr = ZZ(p**(-rk))\n",
    "        print(\"pr = \", pr)\n",
    "        R = Integers(pr)\n",
    "        x = Q[k,k]*pr//n\n",
    "        x_inv = R(x).inverse_of_unit()\n",
    "        u_p_inv = R(u_p).inverse_of_unit()\n",
    "        print(\"x = \", x, \" and x_inv = \", x_inv)\n",
    "        r = new_gens[k].order().valuation(p) #after reorganizing, our first generator has order p^r\n",
    "        if R(x).is_square():\n",
    "            a = R(x).square_root()\n",
    "            Irreps += [(p,r,1,r+rk)]\n",
    "        else:\n",
    "            a = R(u_p_inv*x).square_root()\n",
    "            Irreps += [(p,r,2,r+rk)]\n",
    "        k+=1\n",
    "        print(\"a = \", a)\n",
    "        a_inv = a.inverse_of_unit()\n",
    "        if a != R(1):\n",
    "            S = elementary_matrix(ZZ, w, row1=k, scale = ZZ(a_inv))\n",
    "            S_inv = elementary_matrix(ZZ, w, row1=k, scale = ZZ(a))\n",
    "            print(\"----scale-row-&-col-%s-by-%s\"%(k,a_inv))\n",
    "            print(Q);print(S)\n",
    "            Q = S*Q*S.transpose() % n\n",
    "            print(Q)\n",
    "            new_gens = [A(h.lift()*S_inv) for h in new_gens]\n",
    "            print([g.quadratic() for g in new_gens])\n",
    "\n",
    "        #sweep out\n",
    "        x = Q[k,k]*pr//n\n",
    "        x_inv = R(x).inverse_of_unit()\n",
    "        for j in range(k+1,w):\n",
    "            y = ZZ(x_inv)*Q[k,j]*pr//n\n",
    "            if y != 0:\n",
    "                S = elementary_matrix(ZZ, w, row1=j, row2=k, scale = -y)\n",
    "                S_inv = elementary_matrix(ZZ, w, row1=j, row2=k, scale = y)\n",
    "                print(\"----sweep out-the-%s-%s-entry\"%(k,j))\n",
    "                print(\"x = \", x, \" x_inv = \", x_inv, \" y = \", y)\n",
    "                print(Q);print(S)\n",
    "                Q = S*Q*S.transpose() % n\n",
    "                print(Q)\n",
    "                new_gens = [A(h.lift()*S_inv) for h in new_gens]\n",
    "                print(new_gens)\n",
    "                print([g.quadratic() for g in new_gens])\n",
    "    else:\n",
    "        #if no diagonal element realizs the minimum p-valuation\n",
    "        if i == None:\n",
    "            #find the indices of an element that realizes the minimum p-valuation\n",
    "            i,j = next((i,j) for (i,row_i) in enumerate(Q[k:])\n",
    "                       for (j,q_ij) in enumerate(row_i[k:]) if(q_ij/n).valuation(p)==rk\n",
    "                      and (p_r_ords[i+k]==(p,r) or p_r_ords[j+k]==(p,r)))\n",
    "            #identify if type E or type F\n",
    "            pr = ZZ(p**(-rk))\n",
    "            print(\"pr = \", pr)\n",
    "            x = Q[k+i,k+j]*pr/n\n",
    "            y = Q[k+i,k+i]*pr/(2*n)\n",
    "            z = Q[k+j,k+j]*pr/(2*n)\n",
    "            print(\"x = \", x)\n",
    "            print(\"y = \", y)\n",
    "            print(\"z = \", z)\n",
    "            if (y*z).is_even():\n",
    "                Irreps += [p,r,5,r+rk]\n",
    "            else:\n",
    "                Irreps += [p,r,6,r+rk]\n",
    "            k+=2 #it's a 2-by-2 block            \n",
    "            \n",
    "            #if this block is in the upper left, we're done\n",
    "            if (i+k,j+k) == (k,k+1):\n",
    "                continue\n",
    "            \n",
    "            #If not, first move it to the upper left\n",
    "            S = elementary_matrix(ZZ, w, row1=i+k, row2=j+k)\n",
    "            print(\"----%s-%s-to-%s-%s\"%(i+k,j+k,k,k+1))\n",
    "            print(Q);print(S)\n",
    "            Q = S*Q*S.transpose() % n\n",
    "            print(Q)\n",
    "            new_gens = [A(h.lift()*S_inv) for h in new_gens]\n",
    "            print(new_gens)\n",
    "            print([g.quadratic() for g in new_gens])\n",
    "            \n",
    "            #then sweep out\n",
    "            #On 1/27/2022 I stopped here! TODO!\n",
    "            continue\n",
    "            \n",
    "        #move a diagonal element with minimum p-valuation to k,k.\n",
    "        if i>0:\n",
    "            S = elementary_matrix(ZZ, w, row1=k, row2=i+k)\n",
    "            print(\"----%s-%s-to-%s-%s\"%(i+k,i+k,k,k))\n",
    "            print(Q);print(S)\n",
    "            Q = S*Q*S.transpose() % n\n",
    "            print(Q)\n",
    "            new_gens = [A(h.lift()*S) for h in new_gens]\n",
    "            print(new_gens)\n",
    "            print([g.quadratic() for g in new_gens])\n",
    "            p_r_ords[k], p_r_ords[k+i] = p_r_ords[k+i], p_r_ords[k]\n",
    "            \n",
    "        #scale the k,k entry to be 1, -1, 5, or -5\n",
    "        pr = ZZ(p**(-rk))\n",
    "        print(\"pr = \", pr)\n",
    "        R = Integers(pr)\n",
    "        x = Q[k,k]*pr//n\n",
    "        x_inv = R(x).inverse_of_unit()\n",
    "        print(\"x = \", x, \" and x_inv = \", x_inv)\n",
    "        r = new_gens[k].order().valuation(p) #after reorganizing, our first generator has order p^r\n",
    "        if R(x).is_square():\n",
    "            a = R(x).square_root()\n",
    "            Irreps += [(p,r,1,r+rk)]\n",
    "        elif R(-x).is_square():\n",
    "            a = R(-x).square_root()\n",
    "            Irreps += [(p,r,2,r+rk)]\n",
    "        elif R(5*x).is_square():\n",
    "            a = R(5*x).square_root()\n",
    "            Irreps += [(p,r,3,r+rk)]\n",
    "        else:\n",
    "            a = R(-5*x).square_root()\n",
    "            Irreps += [(p,r,4,r+rk)]\n",
    "        k+=1\n",
    "        print(\"a = \", a)\n",
    "        a_inv = a.inverse_of_unit()\n",
    "        if a != R(1):\n",
    "            S = elementary_matrix(ZZ, w, row1=k, scale = ZZ(a_inv))\n",
    "            S_inv = elementary_matrix(ZZ, w, row1=k, scale = ZZ(a))\n",
    "            print(\"----scale-row-&-col-%s-by-%s\"%(k,a_inv))\n",
    "            print(Q);print(S)\n",
    "            Q = S*Q*S.transpose() % n\n",
    "            print(Q)\n",
    "            new_gens = [A(h.lift()*S_inv) for h in new_gens]\n",
    "            print([g.quadratic() for g in new_gens])\n",
    "            \n",
    "        #sweep out\n",
    "        x = Q[k,k]*pr//n\n",
    "        x_inv = R(x).inverse_of_unit()\n",
    "        for j in range(k+1,w):\n",
    "            y = ZZ(x_inv)*Q[k,j]*pr//n\n",
    "            if y != 0:\n",
    "                S = elementary_matrix(ZZ, w, row1=j, row2=k, scale = -y)\n",
    "                S_inv = elementary_matrix(ZZ, w, row1=j, row2=k, scale = y)\n",
    "                print(\"----sweep out-the-%s-%s-entry\"%(k,j))\n",
    "                print(\"x = \", x, \" x_inv = \", x_inv, \" y = \", y)\n",
    "                print(Q);print(S)\n",
    "                Q = S*Q*S.transpose() % n\n",
    "                print(Q)\n",
    "                new_gens = [A(h.lift()*S_inv) for h in new_gens]\n",
    "                print(new_gens)\n",
    "                print([g.quadratic() for g in new_gens])\n",
    "print(new_gens)\n",
    "print(Irreps)\n",
    "print(Q)"
   ]
  },
  {
   "cell_type": "code",
   "execution_count": null,
   "metadata": {},
   "outputs": [],
   "source": [
    "m = ords[-1]\n",
    "fac = factor(m)\n",
    "if len(fac) > 1:\n",
    "    raise TypeError(\"only works when generators have prime power order\")\n",
    "else:\n",
    "    p,r = fac[0]\n",
    "print(\"p = \", p)\n",
    "u_p = ZZ(Integers(p).multiplicative_generator())\n",
    "rk = (Q[-1,-1]/n).valuation(p)\n",
    "if rk >= 0:\n",
    "    Irreps += [(p,r,1,r)]\n",
    "else:\n",
    "    pr = ZZ(p**(-rk))\n",
    "    R = Integers(pr)\n",
    "    print(\"pr = \", pr)\n",
    "    x = Q[-1,-1]*pr//n\n",
    "    u_p_inv = R(u_p).inverse_of_unit()\n",
    "    print(\"x = \", x)\n",
    "    if R(x).is_square():\n",
    "        a = R(x).square_root()\n",
    "        Irreps += [(p,r,1,r+rk)]\n",
    "    else:\n",
    "        a = R(u_p_inv*x).square_root()\n",
    "        Irreps += [(p,r,2,r+rk)]"
   ]
  },
  {
   "cell_type": "code",
   "execution_count": 171,
   "metadata": {},
   "outputs": [],
   "source": [
    "def min_val_to_diagonal(Q,n,k,S_all,S_inv_all):\n",
    "    w = Q.nrows()\n",
    "    r1 = min([v_p(x) for x in Q.list()])\n",
    "    print(\"r1 = \", r1)\n",
    "    i = next((i for (i,q_ii) in enumerate(Q.diagonal()[k:])\n",
    "              if v_p(q_ii)==r1), None)\n",
    "    if not i:\n",
    "        i,j = next((i,j) for (i,row_i) in enumerate(Q[k:])\n",
    "                   for (j,q_ij) in enumerate(row_i[k:]) if v_p(q_ij)==r1)\n",
    "        S = elementary_matrix(ZZ, w, row1=i, row2=j, scale = 1)\n",
    "        S_inv = elementary_matrix(ZZ, w, row1=i, row2=j, scale = -1)\n",
    "        print(\"----\")\n",
    "        print(Q);print(S)\n",
    "        Q = S*Q*S.transpose() % n\n",
    "        print(Q)\n",
    "        S_all = S*S_all\n",
    "        S_inv_all = S_inv_all*S_inv\n",
    "    return Q, S_all, S_inv_all, i"
   ]
  },
  {
   "cell_type": "code",
   "execution_count": 387,
   "metadata": {},
   "outputs": [],
   "source": [
    "h = new_gens[0]"
   ]
  },
  {
   "cell_type": "code",
   "execution_count": 388,
   "metadata": {},
   "outputs": [
    {
     "data": {
      "text/plain": [
       "(6, 1, 0)"
      ]
     },
     "execution_count": 388,
     "metadata": {},
     "output_type": "execute_result"
    }
   ],
   "source": [
    "h.lift()"
   ]
  },
  {
   "cell_type": "code",
   "execution_count": 390,
   "metadata": {},
   "outputs": [
    {
     "data": {
      "text/plain": [
       "(0, 1, 0)"
      ]
     },
     "execution_count": 390,
     "metadata": {},
     "output_type": "execute_result"
    }
   ],
   "source": [
    "h._hermite_lift()"
   ]
  },
  {
   "cell_type": "code",
   "execution_count": 173,
   "metadata": {},
   "outputs": [],
   "source": [
    "def min_val_to_k_k(Q,n,k,i,S_all,S_inv_all):\n",
    "    w = Q.nrows()\n",
    "    if i>k:\n",
    "        S = elementary_matrix(ZZ, w, row1=k, row2=i)\n",
    "        print(\"----\")\n",
    "        print(Q);print(S)\n",
    "        Q = S*Q*S.transpose() % n\n",
    "        print(Q)\n",
    "        S_all = S*S_all\n",
    "        S_inv_all = S_inv_all*S_inv\n",
    "    return Q, S_all, S_inv_all"
   ]
  },
  {
   "cell_type": "code",
   "execution_count": 174,
   "metadata": {},
   "outputs": [
    {
     "name": "stdout",
     "output_type": "stream",
     "text": [
      "----\n",
      "[100 200 100]\n",
      "[200 240 120]\n",
      "[100 120 100]\n",
      "[0 1 0]\n",
      "[1 0 0]\n",
      "[0 0 1]\n",
      "[240 200 120]\n",
      "[200 100 100]\n",
      "[120 100 100]\n"
     ]
    }
   ],
   "source": [
    "Q, S_all, S_inv_all = min_val_to_k_k(Q,n,0,i,S_all,S_inv_all)"
   ]
  },
  {
   "cell_type": "code",
   "execution_count": null,
   "metadata": {},
   "outputs": [],
   "source": [
    "def scale_k_k(Q,n,k,S_all,S_inv_all):\n",
    "    r1 = \n",
    "    pr = new_gens[0].order()//p**r1\n",
    "    R = Integers(pr)\n",
    "    x = Q[0,0]*pr//n\n",
    "    u_p_inv = R(u_p).inverse_of_unit()\n",
    "    print(x)\n",
    "    if R(x).is_square():\n",
    "        a = R(x).square_root().inverse_of_unit()\n",
    "    else:\n",
    "        a = R(u_p_inv*x).square_root().inverse_of_unit()\n",
    "    print(a)\n",
    "    if a != R(1):\n",
    "        S = elementary_matrix(ZZ, l, row1=0, scale = ZZ(a))\n",
    "        S_inv = elementary_matrix(ZZ, l, row1=0, scale = ZZ(a.inverse_of_unit()))\n",
    "        print(\"----\")\n",
    "        print(Q);print(S)\n",
    "        Q = S*Q*S.transpose() % n\n",
    "        print(Q)\n",
    "        new_gens = [A(h.lift()*S_inv) for h in new_gens]\n",
    "        print(new_gens)\n",
    "        for h in new_gens:\n",
    "            x = vector(h.lift())\n",
    "            print(x*Q*x % n,)"
   ]
  },
  {
   "cell_type": "code",
   "execution_count": 11,
   "metadata": {},
   "outputs": [
    {
     "ename": "NameError",
     "evalue": "name 'min_val_to_upper_left' is not defined",
     "output_type": "error",
     "traceback": [
      "\u001b[0;31m---------------------------------------------------------------------------\u001b[0m",
      "\u001b[0;31mNameError\u001b[0m                                 Traceback (most recent call last)",
      "\u001b[0;32m<ipython-input-11-4e40bc3e52cd>\u001b[0m in \u001b[0;36m<module>\u001b[0;34m\u001b[0m\n\u001b[1;32m      1\u001b[0m \u001b[0;32mfor\u001b[0m \u001b[0mk\u001b[0m \u001b[0;32min\u001b[0m \u001b[0mrange\u001b[0m\u001b[0;34m(\u001b[0m\u001b[0mA\u001b[0m\u001b[0;34m.\u001b[0m\u001b[0mngens\u001b[0m\u001b[0;34m(\u001b[0m\u001b[0;34m)\u001b[0m\u001b[0;34m)\u001b[0m\u001b[0;34m:\u001b[0m\u001b[0;34m\u001b[0m\u001b[0;34m\u001b[0m\u001b[0m\n\u001b[0;32m----> 2\u001b[0;31m     \u001b[0mnew_Q\u001b[0m\u001b[0;34m,\u001b[0m \u001b[0mnew_gens\u001b[0m \u001b[0;34m=\u001b[0m \u001b[0mmin_val_to_upper_left\u001b[0m\u001b[0;34m(\u001b[0m\u001b[0mQ\u001b[0m\u001b[0;34m,\u001b[0m\u001b[0mnew_gens\u001b[0m\u001b[0;34m,\u001b[0m\u001b[0mn\u001b[0m\u001b[0;34m,\u001b[0m\u001b[0mk\u001b[0m\u001b[0;34m)\u001b[0m\u001b[0;34m\u001b[0m\u001b[0;34m\u001b[0m\u001b[0m\n\u001b[0m",
      "\u001b[0;31mNameError\u001b[0m: name 'min_val_to_upper_left' is not defined"
     ]
    }
   ],
   "source": [
    "for k in range(A.ngens()):\n",
    "    r1 = min([v_p(x) for x in Q.list()])\n",
    "    new_Q, new_gens = min_val_to_upper_left(Q,new_gens,n,r1)"
   ]
  },
  {
   "cell_type": "markdown",
   "metadata": {},
   "source": [
    "check if one of the diagonal entrys valuation matches r1, and if so, return the index.  Else, find the off-diagon entry that matches.\n",
    "\n",
    "### change this to a proper function, and zeros to k's"
   ]
  },
  {
   "cell_type": "markdown",
   "metadata": {},
   "source": [
    "### archive: methods that work for the first row-column operations."
   ]
  },
  {
   "cell_type": "code",
   "execution_count": 129,
   "metadata": {},
   "outputs": [
    {
     "name": "stdout",
     "output_type": "stream",
     "text": [
      "Additive abelian group isomorphic to Z/49 + Z/343 + Z/343 with quadratic form determined by \n",
      "[196 196 196]\n",
      "[196 196  28]\n",
      "[196  28 196]\n",
      "whose codomain is the Cyclotomic Field of order 1372 and degree 588\n",
      "u_p =  3\n"
     ]
    }
   ],
   "source": [
    "p = 7\n",
    "ords = [p^2,p^3,p^3] #pick powers of an odd prime\n",
    "n = cyclotomic_n(ords)\n",
    "coefs = [n//p**1, n//p**1, n//p**1, n//p**1, n//p**2, n//p**1]\n",
    "A = PreMetricGroup(ords, coefs, n)\n",
    "print(A)\n",
    "gens = A.gens()\n",
    "Q = A._quadratic_matrix\n",
    "v_p = ZZ.valuation(p)\n",
    "u_p = ZZ(Integers(p).multiplicative_generator())\n",
    "print(\"u_p = \", u_p)\n",
    "l = len(ords)\n",
    "new_gens = list(gens)"
   ]
  },
  {
   "cell_type": "code",
   "execution_count": 130,
   "metadata": {},
   "outputs": [],
   "source": [
    "next((i for (i,q_ii) in enumerate(Q.diagonal()) if v_p(q_ii)==r1), None)"
   ]
  },
  {
   "cell_type": "code",
   "execution_count": 123,
   "metadata": {},
   "outputs": [
    {
     "name": "stdout",
     "output_type": "stream",
     "text": [
      "r1 =  1\n",
      "196\n",
      "196\n",
      "196\n",
      "----\n",
      "[196 196 196]\n",
      "[196 196  28]\n",
      "[196  28 196]\n",
      "[1 0 0]\n",
      "[0 1 1]\n",
      "[0 0 1]\n",
      "[196 392 196]\n",
      "[392 448 224]\n",
      "[196 224 196]\n",
      "[(1, 0, 0), (0, 1, 342), (0, 0, 1)]\n",
      "196\n",
      "196\n",
      "196\n"
     ]
    }
   ],
   "source": [
    "r1 = min([v_p(x) for x in Q.list()])\n",
    "print(\"r1 = \", r1)\n",
    "d_indices = [i for (i,q_ii) in enumerate(Q.diagonal()) if v_p(q_ii)==r1]\n",
    "for h in new_gens:\n",
    "    x = vector(h.lift())\n",
    "    print(x*Q*x % n,)\n",
    "if not d_indices:\n",
    "    i,j = [(i,j) for (i,row_i) in enumerate(Q) for (j,q_ij) in enumerate(row_i) if v_p(q_ij)==r1][0]\n",
    "    S = elementary_matrix(ZZ, l, row1=i, row2=j, scale = 1)\n",
    "    S_inv = elementary_matrix(ZZ, l, row1=i, row2=j, scale = -1)\n",
    "    print(\"----\")\n",
    "    print(Q);print(S)\n",
    "    Q = S*Q*S.transpose() % n\n",
    "    print(Q)\n",
    "    new_gens = [A(h.lift()*S_inv) for h in new_gens]\n",
    "    print(new_gens)\n",
    "    for h in new_gens:\n",
    "        x = vector(h.lift())\n",
    "        print(x*Q*x % n,)\n",
    "else:\n",
    "    i,_ = d_indices[0]"
   ]
  },
  {
   "cell_type": "markdown",
   "metadata": {},
   "source": [
    "swap the diagonal entry whose valuation matches r1"
   ]
  },
  {
   "cell_type": "code",
   "execution_count": 106,
   "metadata": {},
   "outputs": [
    {
     "name": "stdout",
     "output_type": "stream",
     "text": [
      "----\n",
      "[196 392 196]\n",
      "[392 448 224]\n",
      "[196 224 196]\n",
      "[0 1 0]\n",
      "[1 0 0]\n",
      "[0 0 1]\n",
      "[448 392 224]\n",
      "[392 196 196]\n",
      "[224 196 196]\n",
      "[(0, 1, 0), (1, 0, 342), (0, 0, 1)]\n",
      "196\n",
      "196\n",
      "196\n"
     ]
    }
   ],
   "source": [
    "if i!=0:\n",
    "    S = elementary_matrix(ZZ, l, row1=0, row2=i)\n",
    "    print(\"----\")\n",
    "    print(Q);print(S)\n",
    "    Q = S*Q*S.transpose() % n\n",
    "    print(Q)\n",
    "    new_gens = [A(h.lift()*S) for h in new_gens]\n",
    "    print(new_gens)\n",
    "    for h in new_gens:\n",
    "        x = vector(h.lift())\n",
    "        print(x*Q*x % n,)"
   ]
  },
  {
   "cell_type": "markdown",
   "metadata": {},
   "source": [
    "scale the 0,0 entry"
   ]
  },
  {
   "cell_type": "code",
   "execution_count": 107,
   "metadata": {
    "scrolled": true
   },
   "outputs": [
    {
     "name": "stdout",
     "output_type": "stream",
     "text": [
      "16\n",
      "37\n",
      "----\n",
      "[448 392 224]\n",
      "[392 196 196]\n",
      "[224 196 196]\n",
      "[37  0  0]\n",
      "[ 0  1  0]\n",
      "[ 0  0  1]\n",
      "[ 28 784  56]\n",
      "[784 196 196]\n",
      "[ 56 196 196]\n",
      "[(0, 1, 0), (4, 0, 342), (0, 0, 1)]\n",
      "196\n",
      "196\n",
      "196\n"
     ]
    }
   ],
   "source": [
    "pr = new_gens[0].order()//p**r1\n",
    "R = Integers(pr)\n",
    "x = Q[0,0]*pr//n\n",
    "u_p_inv = R(u_p).inverse_of_unit()\n",
    "print(x)\n",
    "if R(x).is_square():\n",
    "    a = R(x).square_root().inverse_of_unit()\n",
    "else:\n",
    "    a = R(u_p_inv*x).square_root().inverse_of_unit()\n",
    "print(a)\n",
    "if a != R(1):\n",
    "    S = elementary_matrix(ZZ, l, row1=0, scale = ZZ(a))\n",
    "    S_inv = elementary_matrix(ZZ, l, row1=0, scale = ZZ(a.inverse_of_unit()))\n",
    "    print(\"----\")\n",
    "    print(Q);print(S)\n",
    "    Q = S*Q*S.transpose() % n\n",
    "    print(Q)\n",
    "    new_gens = [A(h.lift()*S_inv) for h in new_gens]\n",
    "    print(new_gens)\n",
    "    for h in new_gens:\n",
    "        x = vector(h.lift())\n",
    "        print(x*Q*x % n,)"
   ]
  },
  {
   "cell_type": "markdown",
   "metadata": {},
   "source": [
    "sweep out"
   ]
  },
  {
   "cell_type": "code",
   "execution_count": 108,
   "metadata": {},
   "outputs": [
    {
     "name": "stdout",
     "output_type": "stream",
     "text": [
      "----\n",
      "[ 28 784  56]\n",
      "[784 196 196]\n",
      "[ 56 196 196]\n",
      "[  1   0   0]\n",
      "[-28   1   0]\n",
      "[  0   0   1]\n",
      "[ 28   0  56]\n",
      "[  0 196   0]\n",
      "[ 56   0 196]\n",
      "[(28, 1, 0), (4, 0, 342), (0, 0, 1)]\n",
      "196\n",
      "196\n",
      "196\n"
     ]
    }
   ],
   "source": [
    "x = Q[0,0]*pr//n\n",
    "x_inv = R(x).inverse_of_unit()\n",
    "y = ZZ(x_inv)*Q[0,1]*pr//n\n",
    "if y != 0:\n",
    "    S = elementary_matrix(ZZ, l, row1=1, row2=0, scale = -y)\n",
    "    S_inv = elementary_matrix(ZZ, l, row1=1, row2=0, scale = y)\n",
    "    print(\"----\")\n",
    "    print(Q);print(S)\n",
    "    Q = S*Q*S.transpose() % n\n",
    "    print(Q)\n",
    "    new_gens = [A(h.lift()*S_inv) for h in new_gens]\n",
    "    print(new_gens)\n",
    "    for h in new_gens:\n",
    "        x = vector(h.lift())\n",
    "        print(x*Q*x % n,)"
   ]
  },
  {
   "cell_type": "code",
   "execution_count": 109,
   "metadata": {},
   "outputs": [
    {
     "name": "stdout",
     "output_type": "stream",
     "text": [
      "----\n",
      "[ 28   0  56]\n",
      "[  0 196   0]\n",
      "[ 56   0 196]\n",
      "[ 1  0  0]\n",
      "[ 0  1  0]\n",
      "[-2  0  1]\n",
      "[ 28   0   0]\n",
      "[  0 196   0]\n",
      "[  0   0  84]\n",
      "[(28, 1, 0), (2, 0, 342), (2, 0, 1)]\n",
      "196\n",
      "196\n",
      "196\n"
     ]
    }
   ],
   "source": [
    "x = Q[0,0]*pr//n\n",
    "x_inv = R(x).inverse_of_unit()\n",
    "y = ZZ(x_inv)*Q[0,2]*pr//n\n",
    "if y != 0:\n",
    "    S = elementary_matrix(ZZ, l, row1=2, row2=0, scale = -y)\n",
    "    S_inv = elementary_matrix(ZZ, l, row1=2, row2=0, scale = y)\n",
    "    print(\"----\")\n",
    "    print(Q);print(S)\n",
    "    Q = S*Q*S.transpose() % n\n",
    "    print(Q)\n",
    "    new_gens = [A(h.lift()*S_inv) for h in new_gens]\n",
    "    print(new_gens)\n",
    "    for h in new_gens:\n",
    "        x = vector(h.lift())\n",
    "        print(x*Q*x % n,)"
   ]
  },
  {
   "cell_type": "code",
   "execution_count": 37,
   "metadata": {},
   "outputs": [
    {
     "data": {
      "text/plain": [
       "100"
      ]
     },
     "execution_count": 37,
     "metadata": {},
     "output_type": "execute_result"
    }
   ],
   "source": [
    "n"
   ]
  },
  {
   "cell_type": "code",
   "execution_count": 38,
   "metadata": {},
   "outputs": [
    {
     "data": {
      "text/plain": [
       "13"
      ]
     },
     "execution_count": 38,
     "metadata": {},
     "output_type": "execute_result"
    }
   ],
   "source": [
    "52/4"
   ]
  },
  {
   "cell_type": "code",
   "execution_count": 50,
   "metadata": {},
   "outputs": [
    {
     "data": {
      "text/plain": [
       "13"
      ]
     },
     "execution_count": 50,
     "metadata": {},
     "output_type": "execute_result"
    }
   ],
   "source": [
    "(12*7*7) % 25"
   ]
  },
  {
   "cell_type": "code",
   "execution_count": 51,
   "metadata": {},
   "outputs": [
    {
     "data": {
      "text/plain": [
       "13"
      ]
     },
     "execution_count": 51,
     "metadata": {},
     "output_type": "execute_result"
    }
   ],
   "source": [
    "u_p_inv"
   ]
  },
  {
   "cell_type": "code",
   "execution_count": 52,
   "metadata": {},
   "outputs": [
    {
     "data": {
      "text/plain": [
       "6"
      ]
     },
     "execution_count": 52,
     "metadata": {},
     "output_type": "execute_result"
    }
   ],
   "source": [
    "(12*13) % 25"
   ]
  },
  {
   "cell_type": "code",
   "execution_count": 72,
   "metadata": {},
   "outputs": [
    {
     "data": {
      "text/plain": [
       "125"
      ]
     },
     "execution_count": 72,
     "metadata": {},
     "output_type": "execute_result"
    }
   ],
   "source": [
    "pr"
   ]
  },
  {
   "cell_type": "code",
   "execution_count": 89,
   "metadata": {},
   "outputs": [
    {
     "data": {
      "text/plain": [
       "25"
      ]
     },
     "execution_count": 89,
     "metadata": {},
     "output_type": "execute_result"
    }
   ],
   "source": [
    "pr"
   ]
  },
  {
   "cell_type": "code",
   "execution_count": null,
   "metadata": {},
   "outputs": [],
   "source": []
  }
 ],
 "metadata": {
  "kernelspec": {
   "display_name": "SageMath 9.2",
   "language": "sage",
   "name": "sagemath"
  },
  "language_info": {
   "codemirror_mode": {
    "name": "ipython",
    "version": 3
   },
   "file_extension": ".py",
   "mimetype": "text/x-python",
   "name": "python",
   "nbconvert_exporter": "python",
   "pygments_lexer": "ipython3",
   "version": "3.7.7"
  }
 },
 "nbformat": 4,
 "nbformat_minor": 4
}
