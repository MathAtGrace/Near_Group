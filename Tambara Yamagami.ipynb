{
 "cells": [
  {
   "cell_type": "markdown",
   "metadata": {},
   "source": [
    "# Center Construction for Tambara Yamagami Categories.\n",
    "The code below does the following:\n",
    "1. creates a list of all abelian groups of order within a range prescribed by the user\n",
    "2. creates all bilinear forms for each abelian group up to isomorphism\n",
    "3. for each group and bilinear form, creates the two Tambara Yamagami categories that correspond\n",
    "4. for each TB category, creates the S and T matrices of the center construction."
   ]
  },
  {
   "cell_type": "code",
   "execution_count": 1,
   "metadata": {},
   "outputs": [],
   "source": [
    "from sage.metric_groups.metric_groups import *\n",
    "import itertools, pandas as pd"
   ]
  },
  {
   "cell_type": "code",
   "execution_count": 2,
   "metadata": {},
   "outputs": [],
   "source": [
    "G = AdditiveAbelianGroup([3])\n",
    "Q = matrix([[8]])\n",
    "Z = CyclotomicField(12)\n",
    "GQ = PreMetricGroup_class(G, Q, Z)"
   ]
  },
  {
   "cell_type": "code",
   "execution_count": 3,
   "metadata": {},
   "outputs": [
    {
     "data": {
      "text/plain": [
       "Additive abelian group isomorphic to Z/3 with quadratic form determined by \n",
       "[8]\n",
       "whose codomain is the Cyclotomic Field of order 12 and degree 4"
      ]
     },
     "execution_count": 3,
     "metadata": {},
     "output_type": "execute_result"
    }
   ],
   "source": [
    "GQ"
   ]
  },
  {
   "cell_type": "code",
   "execution_count": 4,
   "metadata": {},
   "outputs": [
    {
     "data": {
      "text/plain": [
       "Additive abelian group isomorphic to Z/3 + Z/5 + Z/8 + Z/8 with quadratic form determined by \n",
       "[160   0   0   0]\n",
       "[  0 144   0   0]\n",
       "[  0   0  30  15]\n",
       "[  0   0  15  30]\n",
       "whose codomain is the Cyclotomic Field of order 240 and degree 64"
      ]
     },
     "execution_count": 4,
     "metadata": {},
     "output_type": "execute_result"
    }
   ],
   "source": [
    "GQ = MetricGroup([(3,1,1),(5,1,1),(2,3,6)]); GQ"
   ]
  },
  {
   "cell_type": "code",
   "execution_count": 6,
   "metadata": {},
   "outputs": [],
   "source": [
    "?G\n",
    "g = GQ.0"
   ]
  },
  {
   "cell_type": "code",
   "execution_count": 13,
   "metadata": {},
   "outputs": [
    {
     "data": {
      "text/plain": [
       "zeta240^40 - 1"
      ]
     },
     "execution_count": 13,
     "metadata": {},
     "output_type": "execute_result"
    }
   ],
   "source": [
    "g.bilinear(g)"
   ]
  },
  {
   "cell_type": "code",
   "execution_count": 24,
   "metadata": {},
   "outputs": [],
   "source": [
    "df = pd.read_pickle('bil_forms.pkl')"
   ]
  },
  {
   "cell_type": "code",
   "execution_count": 25,
   "metadata": {},
   "outputs": [
    {
     "data": {
      "text/html": [
       "<div>\n",
       "<style scoped>\n",
       "    .dataframe tbody tr th:only-of-type {\n",
       "        vertical-align: middle;\n",
       "    }\n",
       "\n",
       "    .dataframe tbody tr th {\n",
       "        vertical-align: top;\n",
       "    }\n",
       "\n",
       "    .dataframe thead th {\n",
       "        text-align: right;\n",
       "    }\n",
       "</style>\n",
       "<table border=\"1\" class=\"dataframe\">\n",
       "  <thead>\n",
       "    <tr style=\"text-align: right;\">\n",
       "      <th></th>\n",
       "      <th>name</th>\n",
       "      <th>group_order</th>\n",
       "      <th>prd_tuples</th>\n",
       "    </tr>\n",
       "  </thead>\n",
       "  <tbody>\n",
       "    <tr>\n",
       "      <th>0</th>\n",
       "      <td>A_2^1</td>\n",
       "      <td>2</td>\n",
       "      <td>[(2, 1, 1)]</td>\n",
       "    </tr>\n",
       "    <tr>\n",
       "      <th>1</th>\n",
       "      <td>A_3^1</td>\n",
       "      <td>3</td>\n",
       "      <td>[(3, 1, 1)]</td>\n",
       "    </tr>\n",
       "    <tr>\n",
       "      <th>2</th>\n",
       "      <td>B_3^1</td>\n",
       "      <td>3</td>\n",
       "      <td>[(3, 1, 2)]</td>\n",
       "    </tr>\n",
       "    <tr>\n",
       "      <th>3</th>\n",
       "      <td>A_2^2</td>\n",
       "      <td>4</td>\n",
       "      <td>[(2, 2, 1)]</td>\n",
       "    </tr>\n",
       "    <tr>\n",
       "      <th>4</th>\n",
       "      <td>B_2^2</td>\n",
       "      <td>4</td>\n",
       "      <td>[(2, 2, 2)]</td>\n",
       "    </tr>\n",
       "    <tr>\n",
       "      <th>...</th>\n",
       "      <td>...</td>\n",
       "      <td>...</td>\n",
       "      <td>...</td>\n",
       "    </tr>\n",
       "    <tr>\n",
       "      <th>162545</th>\n",
       "      <td>E_2^1+E_2^1+A_5^2+A_5^1+A_5^1</td>\n",
       "      <td>10000</td>\n",
       "      <td>[(2, 1, 5), (2, 1, 5), (5, 2, 1), (5, 1, 1), (...</td>\n",
       "    </tr>\n",
       "    <tr>\n",
       "      <th>162546</th>\n",
       "      <td>A_2^1+A_2^1+A_2^1+A_2^1+B_5^2+A_5^1+A_5^1</td>\n",
       "      <td>10000</td>\n",
       "      <td>[(2, 1, 1), (2, 1, 1), (2, 1, 1), (2, 1, 1), (...</td>\n",
       "    </tr>\n",
       "    <tr>\n",
       "      <th>162547</th>\n",
       "      <td>E_2^1+E_2^1+B_5^2+A_5^1+A_5^1</td>\n",
       "      <td>10000</td>\n",
       "      <td>[(2, 1, 5), (2, 1, 5), (5, 2, 2), (5, 1, 1), (...</td>\n",
       "    </tr>\n",
       "    <tr>\n",
       "      <th>162548</th>\n",
       "      <td>A_2^1+A_2^1+A_2^1+A_2^1+A_5^1+A_5^1+A_5^1+A_5^1</td>\n",
       "      <td>10000</td>\n",
       "      <td>[(2, 1, 1), (2, 1, 1), (2, 1, 1), (2, 1, 1), (...</td>\n",
       "    </tr>\n",
       "    <tr>\n",
       "      <th>162549</th>\n",
       "      <td>E_2^1+E_2^1+A_5^1+A_5^1+A_5^1+A_5^1</td>\n",
       "      <td>10000</td>\n",
       "      <td>[(2, 1, 5), (2, 1, 5), (5, 1, 1), (5, 1, 1), (...</td>\n",
       "    </tr>\n",
       "  </tbody>\n",
       "</table>\n",
       "<p>162550 rows × 3 columns</p>\n",
       "</div>"
      ],
      "text/plain": [
       "                                                   name group_order  \\\n",
       "0                                                 A_2^1           2   \n",
       "1                                                 A_3^1           3   \n",
       "2                                                 B_3^1           3   \n",
       "3                                                 A_2^2           4   \n",
       "4                                                 B_2^2           4   \n",
       "...                                                 ...         ...   \n",
       "162545                    E_2^1+E_2^1+A_5^2+A_5^1+A_5^1       10000   \n",
       "162546        A_2^1+A_2^1+A_2^1+A_2^1+B_5^2+A_5^1+A_5^1       10000   \n",
       "162547                    E_2^1+E_2^1+B_5^2+A_5^1+A_5^1       10000   \n",
       "162548  A_2^1+A_2^1+A_2^1+A_2^1+A_5^1+A_5^1+A_5^1+A_5^1       10000   \n",
       "162549              E_2^1+E_2^1+A_5^1+A_5^1+A_5^1+A_5^1       10000   \n",
       "\n",
       "                                               prd_tuples  \n",
       "0                                             [(2, 1, 1)]  \n",
       "1                                             [(3, 1, 1)]  \n",
       "2                                             [(3, 1, 2)]  \n",
       "3                                             [(2, 2, 1)]  \n",
       "4                                             [(2, 2, 2)]  \n",
       "...                                                   ...  \n",
       "162545  [(2, 1, 5), (2, 1, 5), (5, 2, 1), (5, 1, 1), (...  \n",
       "162546  [(2, 1, 1), (2, 1, 1), (2, 1, 1), (2, 1, 1), (...  \n",
       "162547  [(2, 1, 5), (2, 1, 5), (5, 2, 2), (5, 1, 1), (...  \n",
       "162548  [(2, 1, 1), (2, 1, 1), (2, 1, 1), (2, 1, 1), (...  \n",
       "162549  [(2, 1, 5), (2, 1, 5), (5, 1, 1), (5, 1, 1), (...  \n",
       "\n",
       "[162550 rows x 3 columns]"
      ]
     },
     "execution_count": 25,
     "metadata": {},
     "output_type": "execute_result"
    }
   ],
   "source": [
    "start = 2\n",
    "end = 10000\n",
    "Bilinear_Forms = df.loc[(df['group_order'] >= start) & (df['group_order'] <= end)]\n",
    "Bilinear_Forms"
   ]
  },
  {
   "cell_type": "code",
   "execution_count": 26,
   "metadata": {},
   "outputs": [],
   "source": [
    "def cyclotomic_n(pr_orders):\n",
    "    n = prod(pr_orders)\n",
    "    n1 = lcm(pr_orders)\n",
    "    #n1 corresponds to denominator of the quadratic form\n",
    "    if n1 % 2 == 0:\n",
    "        n1 = n1*2\n",
    "    #if n1 is odd, gauss sums will exist in QQ(i)\n",
    "    else:\n",
    "        n1 = n1*4\n",
    "    #We need a cyclotomic field that contains sqrt(n)\n",
    "    n2 = n.squarefree_part()\n",
    "    if n2 % 2 == 0:\n",
    "        n2 = n2 * 4\n",
    "    n3 = lcm(n1,n2)\n",
    "    return n3"
   ]
  },
  {
   "cell_type": "code",
   "execution_count": 39,
   "metadata": {},
   "outputs": [],
   "source": [
    "def build_metric_group(prd_tuples):\n",
    "    if prd_tuples in ZZ:\n",
    "        prd_tuples = list(Bilinear_Forms.prd_tuples)[prd_tuples]\n",
    "    orders = [p^r for (p,r,d) in prd_tuples for i in range(int(d/5)+1)]\n",
    "    n = cyclotomic_n(orders)\n",
    "    G = AdditiveAbelianGroup(orders)\n",
    "    Z = CyclotomicField(n)\n",
    "    z = Z.gen()\n",
    "    Q = []\n",
    "    for tup in prd_tuples:\n",
    "        p,r,d = tup\n",
    "        if p == 2 and d == 1:\n",
    "            Q.append(matrix([[n*p^(-r-1)]]))\n",
    "        elif p == 2 and d == 2:\n",
    "            Q.append(matrix([[-n*p^(-r-1)]]))\n",
    "        elif p == 2 and d == 3:\n",
    "            Q.append(matrix([[5*n*p^(-r-1)]]))\n",
    "        elif p == 2 and d == 4:\n",
    "            Q.append(matrix([[-5*n*p^(-r-1)]]))\n",
    "        elif p == 2 and d == 5:\n",
    "            Q.append(n*p^(-r-1)*matrix([[0,1],[1,0]]))\n",
    "        elif p == 2 and d == 6:\n",
    "            Q.append(n*p^(-r-1)*matrix([[2,1],[1,2]]))\n",
    "        elif d == 1:\n",
    "            v = (p^r + 1)/2 #v is 2^(-1) in Z/p^rZ\n",
    "            Q.append(matrix([[ZZ(v*n*p^(-r))]]))\n",
    "        elif d == 2:\n",
    "            v = (p^r + 1)/2 #v is 2^(-1) in Z/p^rZ\n",
    "            u = ZZ(Zmod(p).multiplicative_generator())\n",
    "            Q.append(matrix([[ZZ(u*v*n*p^(-r))]]))\n",
    "        else:\n",
    "            print(\"Build error: \", p, r, d)\n",
    "    return [G,block_diagonal_matrix(Q),z]"
   ]
  },
  {
   "cell_type": "markdown",
   "metadata": {},
   "source": [
    "The functions `q` and `b` are multiplicative and the functions `q2` and `b2` are additive."
   ]
  },
  {
   "cell_type": "code",
   "execution_count": 40,
   "metadata": {},
   "outputs": [],
   "source": [
    "def q(g,Q,z):\n",
    "    x = vector(g.lift())\n",
    "    return z^(x*Q*x)\n",
    "\n",
    "def b(g,h,Q,z):\n",
    "    return q(g+h,Q,z)/q(g,Q,z)/q(h,Q,z)\n",
    "\n",
    "def q_a(g,Q,a,z):\n",
    "    return q(g,Q,z)*b(g,a,Q,z)\n",
    "\n",
    "def q2(g,Q,z):\n",
    "    n = z.multiplicative_order()\n",
    "    x = vector(g.lift())\n",
    "    return 1/n*(x*Q*x % n)\n",
    "\n",
    "def b2(g,h,Q,z):\n",
    "    return q2(g+h,Q,z)-q2(g,Q,z)-q2(h,Q,z)"
   ]
  },
  {
   "cell_type": "code",
   "execution_count": 41,
   "metadata": {},
   "outputs": [],
   "source": [
    "def sqrt_(n,z):\n",
    "    n3 = z.multiplicative_order()\n",
    "    sqrt_n = 1\n",
    "    for fac in factor(n.squarefree_part()):\n",
    "        if fac[0] == 2:\n",
    "            sqrt_n = z^(n3/8) + z^(7*n3/8)\n",
    "        else:\n",
    "            p = fac[0]\n",
    "            sqrt_n = sqrt_n * (1-z^(n3/4))/(1-z^(n3/4*legendre_symbol(-1,p))) * sum([legendre_symbol(i,p)*z^(n3*i/p) for i in range(p)])\n",
    "    return sqrt_n * sqrt(n/n.squarefree_part())"
   ]
  },
  {
   "cell_type": "code",
   "execution_count": 42,
   "metadata": {},
   "outputs": [],
   "source": [
    "G, Q, z = build_metric_group([(3,1,1)])\n",
    "sgn_tau = 1"
   ]
  },
  {
   "cell_type": "code",
   "execution_count": 43,
   "metadata": {},
   "outputs": [
    {
     "name": "stdout",
     "output_type": "stream",
     "text": [
      "tau -1/3*zeta12^3 + 2/3*zeta12 1/3\n",
      "gauss -zeta12^3\n",
      "new cyclotomic field:  Additive abelian group isomorphic to Z/3 [16] zeta24\n",
      "Delta:  [3/8, 1/24, 1/24]\n"
     ]
    }
   ],
   "source": [
    "n = G.order()\n",
    "sqrt_n = sqrt_(n,z)\n",
    "tau = sgn_tau * sqrt_n/n\n",
    "print(\"tau\", tau, tau^2)\n",
    "\n",
    "gauss = sqrt_n/n*sum([q(g,Q,z) for g in G])\n",
    "print(\"gauss\", gauss)\n",
    "\n",
    "#Checks if we can find the Delta's by computing square roots in QQ(z_n)\n",
    "if not product([(sgn_tau*gauss/q(a,Q,z)).is_nth_power(2) for a in G]):\n",
    "    n1 = z.multiplicative_order()\n",
    "    Z1 = CyclotomicField(2*n1)\n",
    "    z = Z1.zeta()\n",
    "    tau = Z1(tau)\n",
    "    gauss = Z1(gauss)\n",
    "    sqrt_n = Z1(sqrt_n)\n",
    "    Q = 2*Q\n",
    "    print(\"new cyclotomic field: \",G,Q,z)\n",
    "Delta = [(sgn_tau*gauss/q(a,Q,z)).sqrt() for a in G]\n",
    "pows = [z^(i) for i in range(z.multiplicative_order())]\n",
    "\n",
    "Delta_pows = [pows.index(d)/z.multiplicative_order() for d in Delta]\n",
    "print(\"Delta: \", Delta_pows)"
   ]
  },
  {
   "cell_type": "code",
   "execution_count": 65,
   "metadata": {},
   "outputs": [],
   "source": [
    "TB_list = G.list() + [-1]\n",
    "TB_n = G.order() + 1\n",
    "#simple objects can be "
   ]
  },
  {
   "cell_type": "markdown",
   "metadata": {},
   "source": [
    "The following function computes $N_{X,Y}^Z$, the multiplicity of the simple object $Z$ in $X \\otimes Y$.  We have given it the same name as Matthew Titsworth's Mathematica package [here](https://mktitsworth.com/fusion-categories/).  We will continue this practice througout this notebook when we can.\n",
    "\n",
    "Each of X, Y, and Z are indices of the list `TB_simple`."
   ]
  },
  {
   "cell_type": "code",
   "execution_count": 196,
   "metadata": {},
   "outputs": [],
   "source": [
    "def nFunction(X,Y,Z):\n",
    "    x,y,z = [TB_list[i] for i in [X,Y,Z]]\n",
    "    if x in G and y in G and z in G:\n",
    "        return ZZ(x+y==z)\n",
    "    elif x in G and y in G: #thus z is the m object\n",
    "        return 0\n",
    "    elif x in G and z in G: #thus y is the m object\n",
    "        return 0\n",
    "    elif y in G and z in G: #thus x is the m object\n",
    "        return 0\n",
    "    elif x in G:            #thus y & z are m\n",
    "        return 1\n",
    "    elif y in G:            #thus x & z are m\n",
    "        return 1\n",
    "    elif z in G:            #thus x & y are m\n",
    "        return 1\n",
    "    else:                   #thus x, y, & z are m\n",
    "        return 0"
   ]
  },
  {
   "cell_type": "code",
   "execution_count": 197,
   "metadata": {},
   "outputs": [],
   "source": [
    "def nMatrix(X):\n",
    "    return matrix([[nFunction(X,Y,Z) for Y in range(TB_n)] for Z in range(TB_n)])"
   ]
  },
  {
   "cell_type": "code",
   "execution_count": 199,
   "metadata": {},
   "outputs": [
    {
     "data": {
      "text/plain": [
       "[0 0 0 1]\n",
       "[0 0 0 1]\n",
       "[0 0 0 1]\n",
       "[1 1 1 0]"
      ]
     },
     "execution_count": 199,
     "metadata": {},
     "output_type": "execute_result"
    }
   ],
   "source": [
    "nMatrix(3)"
   ]
  },
  {
   "cell_type": "code",
   "execution_count": null,
   "metadata": {},
   "outputs": [],
   "source": []
  },
  {
   "cell_type": "code",
   "execution_count": null,
   "metadata": {},
   "outputs": [],
   "source": [
    "def Phi_simple(x,y,z):\n",
    "    #(xy)z to x(yz)\n",
    "    Phi = []"
   ]
  },
  {
   "cell_type": "code",
   "execution_count": 194,
   "metadata": {},
   "outputs": [],
   "source": [
    "TB = CombinatorialFreeModule(ZZ, [str(g) for g in G.list()] + ['m'], prefix = 'TB'); TB\n",
    "b = TB.basis(); b\n",
    "a = b['(1)'] + 2*b['(2)']\n",
    "c = b['(2)'] + b['m']"
   ]
  },
  {
   "cell_type": "code",
   "execution_count": 195,
   "metadata": {},
   "outputs": [
    {
     "data": {
      "text/plain": [
       "(2)"
      ]
     },
     "execution_count": 195,
     "metadata": {},
     "output_type": "execute_result"
    }
   ],
   "source": []
  },
  {
   "cell_type": "code",
   "execution_count": 190,
   "metadata": {},
   "outputs": [
    {
     "data": {
      "text/plain": [
       "[1 0 0]\n",
       "[0 0 1]\n",
       "[0 1 0]"
      ]
     },
     "execution_count": 190,
     "metadata": {},
     "output_type": "execute_result"
    }
   ],
   "source": []
  },
  {
   "cell_type": "code",
   "execution_count": 109,
   "metadata": {},
   "outputs": [
    {
     "ename": "TypeError",
     "evalue": "unsupported operand parent(s) for *: 'Free module generated by {'(0)', '(1)', '(2)', 'm'} over Integer Ring' and 'Free module generated by {'(0)', '(1)', '(2)', 'm'} over Integer Ring'",
     "output_type": "error",
     "traceback": [
      "\u001b[0;31m---------------------------------------------------------------------------\u001b[0m",
      "\u001b[0;31mAttributeError\u001b[0m                            Traceback (most recent call last)",
      "\u001b[0;32m/opt/sagemath-9.2/local/lib/python3.7/site-packages/sage/structure/element.pyx\u001b[0m in \u001b[0;36msage.structure.element.Element._mul_ (build/cythonized/sage/structure/element.c:12481)\u001b[0;34m()\u001b[0m\n\u001b[1;32m   1554\u001b[0m         \u001b[0;32mtry\u001b[0m\u001b[0;34m:\u001b[0m\u001b[0;34m\u001b[0m\u001b[0;34m\u001b[0m\u001b[0m\n\u001b[0;32m-> 1555\u001b[0;31m             \u001b[0mpython_op\u001b[0m \u001b[0;34m=\u001b[0m \u001b[0;34m(\u001b[0m\u001b[0;34m<\u001b[0m\u001b[0mobject\u001b[0m\u001b[0;34m>\u001b[0m\u001b[0mself\u001b[0m\u001b[0;34m)\u001b[0m\u001b[0;34m.\u001b[0m\u001b[0m_mul_\u001b[0m\u001b[0;34m\u001b[0m\u001b[0;34m\u001b[0m\u001b[0m\n\u001b[0m\u001b[1;32m   1556\u001b[0m         \u001b[0;32mexcept\u001b[0m \u001b[0mAttributeError\u001b[0m\u001b[0;34m:\u001b[0m\u001b[0;34m\u001b[0m\u001b[0;34m\u001b[0m\u001b[0m\n",
      "\u001b[0;32m/opt/sagemath-9.2/local/lib/python3.7/site-packages/sage/structure/element.pyx\u001b[0m in \u001b[0;36msage.structure.element.Element.__getattr__ (build/cythonized/sage/structure/element.c:4703)\u001b[0;34m()\u001b[0m\n\u001b[1;32m    492\u001b[0m         \"\"\"\n\u001b[0;32m--> 493\u001b[0;31m         \u001b[0;32mreturn\u001b[0m \u001b[0mself\u001b[0m\u001b[0;34m.\u001b[0m\u001b[0mgetattr_from_category\u001b[0m\u001b[0;34m(\u001b[0m\u001b[0mname\u001b[0m\u001b[0;34m)\u001b[0m\u001b[0;34m\u001b[0m\u001b[0;34m\u001b[0m\u001b[0m\n\u001b[0m\u001b[1;32m    494\u001b[0m \u001b[0;34m\u001b[0m\u001b[0m\n",
      "\u001b[0;32m/opt/sagemath-9.2/local/lib/python3.7/site-packages/sage/structure/element.pyx\u001b[0m in \u001b[0;36msage.structure.element.Element.getattr_from_category (build/cythonized/sage/structure/element.c:4815)\u001b[0;34m()\u001b[0m\n\u001b[1;32m    505\u001b[0m             \u001b[0mcls\u001b[0m \u001b[0;34m=\u001b[0m \u001b[0mP\u001b[0m\u001b[0;34m.\u001b[0m\u001b[0m_abstract_element_class\u001b[0m\u001b[0;34m\u001b[0m\u001b[0;34m\u001b[0m\u001b[0m\n\u001b[0;32m--> 506\u001b[0;31m         \u001b[0;32mreturn\u001b[0m \u001b[0mgetattr_from_other_class\u001b[0m\u001b[0;34m(\u001b[0m\u001b[0mself\u001b[0m\u001b[0;34m,\u001b[0m \u001b[0mcls\u001b[0m\u001b[0;34m,\u001b[0m \u001b[0mname\u001b[0m\u001b[0;34m)\u001b[0m\u001b[0;34m\u001b[0m\u001b[0;34m\u001b[0m\u001b[0m\n\u001b[0m\u001b[1;32m    507\u001b[0m \u001b[0;34m\u001b[0m\u001b[0m\n",
      "\u001b[0;32m/opt/sagemath-9.2/local/lib/python3.7/site-packages/sage/cpython/getattr.pyx\u001b[0m in \u001b[0;36msage.cpython.getattr.getattr_from_other_class (build/cythonized/sage/cpython/getattr.c:2552)\u001b[0;34m()\u001b[0m\n\u001b[1;32m    366\u001b[0m         \u001b[0mdummy_error_message\u001b[0m\u001b[0;34m.\u001b[0m\u001b[0mname\u001b[0m \u001b[0;34m=\u001b[0m \u001b[0mname\u001b[0m\u001b[0;34m\u001b[0m\u001b[0;34m\u001b[0m\u001b[0m\n\u001b[0;32m--> 367\u001b[0;31m         \u001b[0;32mraise\u001b[0m \u001b[0mAttributeError\u001b[0m\u001b[0;34m(\u001b[0m\u001b[0mdummy_error_message\u001b[0m\u001b[0;34m)\u001b[0m\u001b[0;34m\u001b[0m\u001b[0;34m\u001b[0m\u001b[0m\n\u001b[0m\u001b[1;32m    368\u001b[0m     \u001b[0mcdef\u001b[0m \u001b[0mPyObject\u001b[0m\u001b[0;34m*\u001b[0m \u001b[0mattr\u001b[0m \u001b[0;34m=\u001b[0m \u001b[0minstance_getattr\u001b[0m\u001b[0;34m(\u001b[0m\u001b[0mcls\u001b[0m\u001b[0;34m,\u001b[0m \u001b[0mname\u001b[0m\u001b[0;34m)\u001b[0m\u001b[0;34m\u001b[0m\u001b[0;34m\u001b[0m\u001b[0m\n",
      "\u001b[0;31mAttributeError\u001b[0m: 'sage.rings.integer_ring.IntegerRing_class' object has no attribute '__custom_name'",
      "\nDuring handling of the above exception, another exception occurred:\n",
      "\u001b[0;31mTypeError\u001b[0m                                 Traceback (most recent call last)",
      "\u001b[0;32m<ipython-input-109-2d26845bea39>\u001b[0m in \u001b[0;36m<module>\u001b[0;34m\u001b[0m\n\u001b[1;32m      1\u001b[0m \u001b[0mb\u001b[0m \u001b[0;34m=\u001b[0m \u001b[0mTB\u001b[0m\u001b[0;34m.\u001b[0m\u001b[0mbasis\u001b[0m\u001b[0;34m(\u001b[0m\u001b[0;34m)\u001b[0m\u001b[0;34m\u001b[0m\u001b[0;34m\u001b[0m\u001b[0m\n\u001b[0;32m----> 2\u001b[0;31m \u001b[0mTB\u001b[0m\u001b[0;34m(\u001b[0m\u001b[0;34m'm'\u001b[0m\u001b[0;34m)\u001b[0m\u001b[0;34m*\u001b[0m\u001b[0mTB\u001b[0m\u001b[0;34m(\u001b[0m\u001b[0;34m'(1)'\u001b[0m\u001b[0;34m)\u001b[0m\u001b[0;34m\u001b[0m\u001b[0;34m\u001b[0m\u001b[0m\n\u001b[0m",
      "\u001b[0;32m/opt/sagemath-9.2/local/lib/python3.7/site-packages/sage/structure/element.pyx\u001b[0m in \u001b[0;36msage.structure.element.Element.__mul__ (build/cythonized/sage/structure/element.c:12164)\u001b[0;34m()\u001b[0m\n\u001b[1;32m   1511\u001b[0m         \u001b[0mcdef\u001b[0m \u001b[0mint\u001b[0m \u001b[0mcl\u001b[0m \u001b[0;34m=\u001b[0m \u001b[0mclassify_elements\u001b[0m\u001b[0;34m(\u001b[0m\u001b[0mleft\u001b[0m\u001b[0;34m,\u001b[0m \u001b[0mright\u001b[0m\u001b[0;34m)\u001b[0m\u001b[0;34m\u001b[0m\u001b[0;34m\u001b[0m\u001b[0m\n\u001b[1;32m   1512\u001b[0m         \u001b[0;32mif\u001b[0m \u001b[0mHAVE_SAME_PARENT\u001b[0m\u001b[0;34m(\u001b[0m\u001b[0mcl\u001b[0m\u001b[0;34m)\u001b[0m\u001b[0;34m:\u001b[0m\u001b[0;34m\u001b[0m\u001b[0;34m\u001b[0m\u001b[0m\n\u001b[0;32m-> 1513\u001b[0;31m             \u001b[0;32mreturn\u001b[0m \u001b[0;34m(\u001b[0m\u001b[0;34m<\u001b[0m\u001b[0mElement\u001b[0m\u001b[0;34m>\u001b[0m\u001b[0mleft\u001b[0m\u001b[0;34m)\u001b[0m\u001b[0;34m.\u001b[0m\u001b[0m_mul_\u001b[0m\u001b[0;34m(\u001b[0m\u001b[0mright\u001b[0m\u001b[0;34m)\u001b[0m\u001b[0;34m\u001b[0m\u001b[0;34m\u001b[0m\u001b[0m\n\u001b[0m\u001b[1;32m   1514\u001b[0m         \u001b[0;32mif\u001b[0m \u001b[0mBOTH_ARE_ELEMENT\u001b[0m\u001b[0;34m(\u001b[0m\u001b[0mcl\u001b[0m\u001b[0;34m)\u001b[0m\u001b[0;34m:\u001b[0m\u001b[0;34m\u001b[0m\u001b[0;34m\u001b[0m\u001b[0m\n\u001b[1;32m   1515\u001b[0m             \u001b[0;32mreturn\u001b[0m \u001b[0mcoercion_model\u001b[0m\u001b[0;34m.\u001b[0m\u001b[0mbin_op\u001b[0m\u001b[0;34m(\u001b[0m\u001b[0mleft\u001b[0m\u001b[0;34m,\u001b[0m \u001b[0mright\u001b[0m\u001b[0;34m,\u001b[0m \u001b[0mmul\u001b[0m\u001b[0;34m)\u001b[0m\u001b[0;34m\u001b[0m\u001b[0;34m\u001b[0m\u001b[0m\n",
      "\u001b[0;32m/opt/sagemath-9.2/local/lib/python3.7/site-packages/sage/structure/element.pyx\u001b[0m in \u001b[0;36msage.structure.element.Element._mul_ (build/cythonized/sage/structure/element.c:12553)\u001b[0;34m()\u001b[0m\n\u001b[1;32m   1555\u001b[0m             \u001b[0mpython_op\u001b[0m \u001b[0;34m=\u001b[0m \u001b[0;34m(\u001b[0m\u001b[0;34m<\u001b[0m\u001b[0mobject\u001b[0m\u001b[0;34m>\u001b[0m\u001b[0mself\u001b[0m\u001b[0;34m)\u001b[0m\u001b[0;34m.\u001b[0m\u001b[0m_mul_\u001b[0m\u001b[0;34m\u001b[0m\u001b[0;34m\u001b[0m\u001b[0m\n\u001b[1;32m   1556\u001b[0m         \u001b[0;32mexcept\u001b[0m \u001b[0mAttributeError\u001b[0m\u001b[0;34m:\u001b[0m\u001b[0;34m\u001b[0m\u001b[0;34m\u001b[0m\u001b[0m\n\u001b[0;32m-> 1557\u001b[0;31m             \u001b[0;32mraise\u001b[0m \u001b[0mbin_op_exception\u001b[0m\u001b[0;34m(\u001b[0m\u001b[0;34m'*'\u001b[0m\u001b[0;34m,\u001b[0m \u001b[0mself\u001b[0m\u001b[0;34m,\u001b[0m \u001b[0mother\u001b[0m\u001b[0;34m)\u001b[0m\u001b[0;34m\u001b[0m\u001b[0;34m\u001b[0m\u001b[0m\n\u001b[0m\u001b[1;32m   1558\u001b[0m         \u001b[0;32melse\u001b[0m\u001b[0;34m:\u001b[0m\u001b[0;34m\u001b[0m\u001b[0;34m\u001b[0m\u001b[0m\n\u001b[1;32m   1559\u001b[0m             \u001b[0;32mreturn\u001b[0m \u001b[0mpython_op\u001b[0m\u001b[0;34m(\u001b[0m\u001b[0mother\u001b[0m\u001b[0;34m)\u001b[0m\u001b[0;34m\u001b[0m\u001b[0;34m\u001b[0m\u001b[0m\n",
      "\u001b[0;31mTypeError\u001b[0m: unsupported operand parent(s) for *: 'Free module generated by {'(0)', '(1)', '(2)', 'm'} over Integer Ring' and 'Free module generated by {'(0)', '(1)', '(2)', 'm'} over Integer Ring'"
     ]
    }
   ],
   "source": [
    "#import sage\n",
    "from sage.matrix.matrix import is_Matrix\n",
    "from sage.groups.group import is_Group\n",
    "from sage.combinat.free_module import CombinatorialFreeModule\n",
    "class TBcat(CombinatorialFreeModule):\n",
    "    def __init__(self, group, quad_form, zeta, sgn_tau):\n",
    "        assert is_Group(group)\n",
    "        assert is_Matrix(quad_form)\n",
    "        assert sgn_tau == 1 or sgn_tau == -1\n",
    "        self._R = ZZ\n",
    "        self._basis_keys = [str(g) for g in group.list()] + ['m']\n",
    "        self._prefix = 'TB'\n",
    "        self.group = group\n",
    "        self.quad_form = quad_form\n",
    "        self.zeta = zeta\n",
    "        self.sgn_tau = sgn_tau\n",
    "    def __repr__(self):\n",
    "        return f\"The Grothendieck Ring of a Tambara Yamagami Category with G the {str(group)}, quadratic form defined by {str(1/zeta.multiplicative_order()*quad_form)} and tau sign equal to {sgn_tau}\"\n",
    "    def _mult_(self, right):\n",
    "        assert self in TB\n",
    "        assert right in TB\n",
    "        a = self.to_vector()\n",
    "        a_G = a[:-1]\n",
    "        a_m = a[-1]\n",
    "        b = right.to_vector()\n",
    "        b_G = b[:-1]\n",
    "        b_m = b[-1]\n",
    "        if self and right in G:\n",
    "            return "
   ]
  },
  {
   "cell_type": "code",
   "execution_count": 157,
   "metadata": {},
   "outputs": [],
   "source": [
    "from sage.combinat.free_module import CombinatorialFreeModule"
   ]
  },
  {
   "cell_type": "code",
   "execution_count": 158,
   "metadata": {},
   "outputs": [
    {
     "data": {
      "text/plain": [
       "[(0), (1), (2)]"
      ]
     },
     "execution_count": 158,
     "metadata": {},
     "output_type": "execute_result"
    }
   ],
   "source": [
    "G.list()"
   ]
  },
  {
   "cell_type": "code",
   "execution_count": 181,
   "metadata": {},
   "outputs": [
    {
     "data": {
      "text/html": [
       "<html><script type=\"math/tex; mode=display\">\\newcommand{\\Bold}[1]{\\mathbf{#1}}\\left(\\begin{array}{rrrrrr|rrr|rrrrrr}\n",
       "1 & 0 & 0 & 0 & 0 & 0 & 0 & 0 & 0 & 0 & 0 & 0 & 0 & 0 & 0 \\\\\n",
       "0 & 1 & 0 & 0 & 0 & 0 & 0 & 0 & 0 & 0 & 0 & 0 & 0 & 0 & 0 \\\\\n",
       "0 & 0 & -\\zeta_{24}^{4} & 0 & 0 & 0 & 0 & 0 & 0 & 0 & 0 & 0 & 0 & 0 & 0 \\\\\n",
       "0 & 0 & 0 & -\\zeta_{24}^{4} & 0 & 0 & 0 & 0 & 0 & 0 & 0 & 0 & 0 & 0 & 0 \\\\\n",
       "0 & 0 & 0 & 0 & -\\zeta_{24}^{4} & 0 & 0 & 0 & 0 & 0 & 0 & 0 & 0 & 0 & 0 \\\\\n",
       "0 & 0 & 0 & 0 & 0 & -\\zeta_{24}^{4} & 0 & 0 & 0 & 0 & 0 & 0 & 0 & 0 & 0 \\\\\n",
       "\\hline\n",
       " 0 & 0 & 0 & 0 & 0 & 0 & 1 & 0 & 0 & 0 & 0 & 0 & 0 & 0 & 0 \\\\\n",
       "0 & 0 & 0 & 0 & 0 & 0 & 0 & 1 & 0 & 0 & 0 & 0 & 0 & 0 & 0 \\\\\n",
       "0 & 0 & 0 & 0 & 0 & 0 & 0 & 0 & \\zeta_{24}^{4} - 1 & 0 & 0 & 0 & 0 & 0 & 0 \\\\\n",
       "\\hline\n",
       " 0 & 0 & 0 & 0 & 0 & 0 & 0 & 0 & 0 & \\zeta_{24}^{5} - \\zeta_{24} & 0 & 0 & 0 & 0 & 0 \\\\\n",
       "0 & 0 & 0 & 0 & 0 & 0 & 0 & 0 & 0 & 0 & -\\zeta_{24}^{5} + \\zeta_{24} & 0 & 0 & 0 & 0 \\\\\n",
       "0 & 0 & 0 & 0 & 0 & 0 & 0 & 0 & 0 & 0 & 0 & \\zeta_{24} & 0 & 0 & 0 \\\\\n",
       "0 & 0 & 0 & 0 & 0 & 0 & 0 & 0 & 0 & 0 & 0 & 0 & -\\zeta_{24} & 0 & 0 \\\\\n",
       "0 & 0 & 0 & 0 & 0 & 0 & 0 & 0 & 0 & 0 & 0 & 0 & 0 & \\zeta_{24} & 0 \\\\\n",
       "0 & 0 & 0 & 0 & 0 & 0 & 0 & 0 & 0 & 0 & 0 & 0 & 0 & 0 & -\\zeta_{24}\n",
       "\\end{array}\\right)</script></html>"
      ],
      "text/latex": [
       "\\begin{math}\n",
       "\\newcommand{\\Bold}[1]{\\mathbf{#1}}\\left(\\begin{array}{rrrrrr|rrr|rrrrrr}\n",
       "1 & 0 & 0 & 0 & 0 & 0 & 0 & 0 & 0 & 0 & 0 & 0 & 0 & 0 & 0 \\\\\n",
       "0 & 1 & 0 & 0 & 0 & 0 & 0 & 0 & 0 & 0 & 0 & 0 & 0 & 0 & 0 \\\\\n",
       "0 & 0 & -\\zeta_{24}^{4} & 0 & 0 & 0 & 0 & 0 & 0 & 0 & 0 & 0 & 0 & 0 & 0 \\\\\n",
       "0 & 0 & 0 & -\\zeta_{24}^{4} & 0 & 0 & 0 & 0 & 0 & 0 & 0 & 0 & 0 & 0 & 0 \\\\\n",
       "0 & 0 & 0 & 0 & -\\zeta_{24}^{4} & 0 & 0 & 0 & 0 & 0 & 0 & 0 & 0 & 0 & 0 \\\\\n",
       "0 & 0 & 0 & 0 & 0 & -\\zeta_{24}^{4} & 0 & 0 & 0 & 0 & 0 & 0 & 0 & 0 & 0 \\\\\n",
       "\\hline\n",
       " 0 & 0 & 0 & 0 & 0 & 0 & 1 & 0 & 0 & 0 & 0 & 0 & 0 & 0 & 0 \\\\\n",
       "0 & 0 & 0 & 0 & 0 & 0 & 0 & 1 & 0 & 0 & 0 & 0 & 0 & 0 & 0 \\\\\n",
       "0 & 0 & 0 & 0 & 0 & 0 & 0 & 0 & \\zeta_{24}^{4} - 1 & 0 & 0 & 0 & 0 & 0 & 0 \\\\\n",
       "\\hline\n",
       " 0 & 0 & 0 & 0 & 0 & 0 & 0 & 0 & 0 & \\zeta_{24}^{5} - \\zeta_{24} & 0 & 0 & 0 & 0 & 0 \\\\\n",
       "0 & 0 & 0 & 0 & 0 & 0 & 0 & 0 & 0 & 0 & -\\zeta_{24}^{5} + \\zeta_{24} & 0 & 0 & 0 & 0 \\\\\n",
       "0 & 0 & 0 & 0 & 0 & 0 & 0 & 0 & 0 & 0 & 0 & \\zeta_{24} & 0 & 0 & 0 \\\\\n",
       "0 & 0 & 0 & 0 & 0 & 0 & 0 & 0 & 0 & 0 & 0 & 0 & -\\zeta_{24} & 0 & 0 \\\\\n",
       "0 & 0 & 0 & 0 & 0 & 0 & 0 & 0 & 0 & 0 & 0 & 0 & 0 & \\zeta_{24} & 0 \\\\\n",
       "0 & 0 & 0 & 0 & 0 & 0 & 0 & 0 & 0 & 0 & 0 & 0 & 0 & 0 & -\\zeta_{24}\n",
       "\\end{array}\\right)\n",
       "\\end{math}"
      ],
      "text/plain": [
       "[                 1                  0                  0                  0                  0                  0|                 0                  0                  0|                 0                  0                  0                  0                  0                  0]\n",
       "[                 0                  1                  0                  0                  0                  0|                 0                  0                  0|                 0                  0                  0                  0                  0                  0]\n",
       "[                 0                  0          -zeta24^4                  0                  0                  0|                 0                  0                  0|                 0                  0                  0                  0                  0                  0]\n",
       "[                 0                  0                  0          -zeta24^4                  0                  0|                 0                  0                  0|                 0                  0                  0                  0                  0                  0]\n",
       "[                 0                  0                  0                  0          -zeta24^4                  0|                 0                  0                  0|                 0                  0                  0                  0                  0                  0]\n",
       "[                 0                  0                  0                  0                  0          -zeta24^4|                 0                  0                  0|                 0                  0                  0                  0                  0                  0]\n",
       "[-----------------------------------------------------------------------------------------------------------------+--------------------------------------------------------+-----------------------------------------------------------------------------------------------------------------]\n",
       "[                 0                  0                  0                  0                  0                  0|                 1                  0                  0|                 0                  0                  0                  0                  0                  0]\n",
       "[                 0                  0                  0                  0                  0                  0|                 0                  1                  0|                 0                  0                  0                  0                  0                  0]\n",
       "[                 0                  0                  0                  0                  0                  0|                 0                  0       zeta24^4 - 1|                 0                  0                  0                  0                  0                  0]\n",
       "[-----------------------------------------------------------------------------------------------------------------+--------------------------------------------------------+-----------------------------------------------------------------------------------------------------------------]\n",
       "[                 0                  0                  0                  0                  0                  0|                 0                  0                  0| zeta24^5 - zeta24                  0                  0                  0                  0                  0]\n",
       "[                 0                  0                  0                  0                  0                  0|                 0                  0                  0|                 0 -zeta24^5 + zeta24                  0                  0                  0                  0]\n",
       "[                 0                  0                  0                  0                  0                  0|                 0                  0                  0|                 0                  0             zeta24                  0                  0                  0]\n",
       "[                 0                  0                  0                  0                  0                  0|                 0                  0                  0|                 0                  0                  0            -zeta24                  0                  0]\n",
       "[                 0                  0                  0                  0                  0                  0|                 0                  0                  0|                 0                  0                  0                  0             zeta24                  0]\n",
       "[                 0                  0                  0                  0                  0                  0|                 0                  0                  0|                 0                  0                  0                  0                  0            -zeta24]"
      ]
     },
     "metadata": {},
     "output_type": "display_data"
    }
   ],
   "source": [
    "\n",
    "G_list = G.list()\n",
    "Gpairs = [(G_list[i],G_list[j]) for i in range(n) for j in range(i)]\n",
    "Theta_X = [b(g,-g,Q,z) for g in G_list for i in range(2)]\n",
    "Theta_Y = [b(g,-h,Q,z) for (g,h) in Gpairs]\n",
    "Theta_Z = [sgn_tau*(-1)^i*d for d in Delta for i in range(2)]\n",
    "Theta = Theta_X + Theta_Y + Theta_Z\n",
    "T = block_diagonal_matrix([diagonal_matrix(Theta_X), diagonal_matrix(Theta_Y), diagonal_matrix(Theta_Z)])\n",
    "show(T)"
   ]
  },
  {
   "cell_type": "code",
   "execution_count": 182,
   "metadata": {},
   "outputs": [
    {
     "data": {
      "text/html": [
       "<html><script type=\"math/tex; mode=display\">\\newcommand{\\Bold}[1]{\\mathbf{#1}}\\left(\\begin{array}{rrrrrrrrrrrrrrr}\n",
       "\\frac{1}{6} & \\frac{1}{6} & \\frac{1}{6} & \\frac{1}{6} & \\frac{1}{6} & \\frac{1}{6} & \\frac{1}{3} & \\frac{1}{3} & \\frac{1}{3} & -\\frac{1}{6} \\zeta_{24}^{6} + \\frac{1}{3} \\zeta_{24}^{2} & -\\frac{1}{6} \\zeta_{24}^{6} + \\frac{1}{3} \\zeta_{24}^{2} & -\\frac{1}{6} \\zeta_{24}^{6} + \\frac{1}{3} \\zeta_{24}^{2} & -\\frac{1}{6} \\zeta_{24}^{6} + \\frac{1}{3} \\zeta_{24}^{2} & -\\frac{1}{6} \\zeta_{24}^{6} + \\frac{1}{3} \\zeta_{24}^{2} & -\\frac{1}{6} \\zeta_{24}^{6} + \\frac{1}{3} \\zeta_{24}^{2} \\\\\n",
       "\\frac{1}{6} & \\frac{1}{6} & \\frac{1}{6} & \\frac{1}{6} & \\frac{1}{6} & \\frac{1}{6} & \\frac{1}{3} & \\frac{1}{3} & \\frac{1}{3} & \\frac{1}{6} \\zeta_{24}^{6} - \\frac{1}{3} \\zeta_{24}^{2} & \\frac{1}{6} \\zeta_{24}^{6} - \\frac{1}{3} \\zeta_{24}^{2} & \\frac{1}{6} \\zeta_{24}^{6} - \\frac{1}{3} \\zeta_{24}^{2} & \\frac{1}{6} \\zeta_{24}^{6} - \\frac{1}{3} \\zeta_{24}^{2} & \\frac{1}{6} \\zeta_{24}^{6} - \\frac{1}{3} \\zeta_{24}^{2} & \\frac{1}{6} \\zeta_{24}^{6} - \\frac{1}{3} \\zeta_{24}^{2} \\\\\n",
       "\\frac{1}{6} & \\frac{1}{6} & -\\frac{1}{6} \\zeta_{24}^{4} & -\\frac{1}{6} \\zeta_{24}^{4} & \\frac{1}{6} \\zeta_{24}^{4} - \\frac{1}{6} & \\frac{1}{6} \\zeta_{24}^{4} - \\frac{1}{6} & \\frac{1}{3} \\zeta_{24}^{4} - \\frac{1}{3} & -\\frac{1}{3} \\zeta_{24}^{4} & \\frac{1}{3} & -\\frac{1}{6} \\zeta_{24}^{6} + \\frac{1}{3} \\zeta_{24}^{2} & -\\frac{1}{6} \\zeta_{24}^{6} + \\frac{1}{3} \\zeta_{24}^{2} & \\frac{1}{3} \\zeta_{24}^{6} - \\frac{1}{6} \\zeta_{24}^{2} & \\frac{1}{3} \\zeta_{24}^{6} - \\frac{1}{6} \\zeta_{24}^{2} & -\\frac{1}{6} \\zeta_{24}^{6} - \\frac{1}{6} \\zeta_{24}^{2} & -\\frac{1}{6} \\zeta_{24}^{6} - \\frac{1}{6} \\zeta_{24}^{2} \\\\\n",
       "\\frac{1}{6} & \\frac{1}{6} & -\\frac{1}{6} \\zeta_{24}^{4} & -\\frac{1}{6} \\zeta_{24}^{4} & \\frac{1}{6} \\zeta_{24}^{4} - \\frac{1}{6} & \\frac{1}{6} \\zeta_{24}^{4} - \\frac{1}{6} & \\frac{1}{3} \\zeta_{24}^{4} - \\frac{1}{3} & -\\frac{1}{3} \\zeta_{24}^{4} & \\frac{1}{3} & \\frac{1}{6} \\zeta_{24}^{6} - \\frac{1}{3} \\zeta_{24}^{2} & \\frac{1}{6} \\zeta_{24}^{6} - \\frac{1}{3} \\zeta_{24}^{2} & -\\frac{1}{3} \\zeta_{24}^{6} + \\frac{1}{6} \\zeta_{24}^{2} & -\\frac{1}{3} \\zeta_{24}^{6} + \\frac{1}{6} \\zeta_{24}^{2} & \\frac{1}{6} \\zeta_{24}^{6} + \\frac{1}{6} \\zeta_{24}^{2} & \\frac{1}{6} \\zeta_{24}^{6} + \\frac{1}{6} \\zeta_{24}^{2} \\\\\n",
       "\\frac{1}{6} & \\frac{1}{6} & \\frac{1}{6} \\zeta_{24}^{4} - \\frac{1}{6} & \\frac{1}{6} \\zeta_{24}^{4} - \\frac{1}{6} & -\\frac{1}{6} \\zeta_{24}^{4} & -\\frac{1}{6} \\zeta_{24}^{4} & -\\frac{1}{3} \\zeta_{24}^{4} & \\frac{1}{3} \\zeta_{24}^{4} - \\frac{1}{3} & \\frac{1}{3} & -\\frac{1}{6} \\zeta_{24}^{6} + \\frac{1}{3} \\zeta_{24}^{2} & -\\frac{1}{6} \\zeta_{24}^{6} + \\frac{1}{3} \\zeta_{24}^{2} & -\\frac{1}{6} \\zeta_{24}^{6} - \\frac{1}{6} \\zeta_{24}^{2} & -\\frac{1}{6} \\zeta_{24}^{6} - \\frac{1}{6} \\zeta_{24}^{2} & \\frac{1}{3} \\zeta_{24}^{6} - \\frac{1}{6} \\zeta_{24}^{2} & \\frac{1}{3} \\zeta_{24}^{6} - \\frac{1}{6} \\zeta_{24}^{2} \\\\\n",
       "\\frac{1}{6} & \\frac{1}{6} & \\frac{1}{6} \\zeta_{24}^{4} - \\frac{1}{6} & \\frac{1}{6} \\zeta_{24}^{4} - \\frac{1}{6} & -\\frac{1}{6} \\zeta_{24}^{4} & -\\frac{1}{6} \\zeta_{24}^{4} & -\\frac{1}{3} \\zeta_{24}^{4} & \\frac{1}{3} \\zeta_{24}^{4} - \\frac{1}{3} & \\frac{1}{3} & \\frac{1}{6} \\zeta_{24}^{6} - \\frac{1}{3} \\zeta_{24}^{2} & \\frac{1}{6} \\zeta_{24}^{6} - \\frac{1}{3} \\zeta_{24}^{2} & \\frac{1}{6} \\zeta_{24}^{6} + \\frac{1}{6} \\zeta_{24}^{2} & \\frac{1}{6} \\zeta_{24}^{6} + \\frac{1}{6} \\zeta_{24}^{2} & -\\frac{1}{3} \\zeta_{24}^{6} + \\frac{1}{6} \\zeta_{24}^{2} & -\\frac{1}{3} \\zeta_{24}^{6} + \\frac{1}{6} \\zeta_{24}^{2} \\\\\n",
       "\\frac{1}{3} & \\frac{1}{3} & \\frac{1}{3} \\zeta_{24}^{4} - \\frac{1}{3} & \\frac{1}{3} \\zeta_{24}^{4} - \\frac{1}{3} & -\\frac{1}{3} \\zeta_{24}^{4} & -\\frac{1}{3} \\zeta_{24}^{4} & \\frac{1}{3} \\zeta_{24}^{4} & -\\frac{1}{3} \\zeta_{24}^{4} + \\frac{1}{3} & -\\frac{1}{3} & 0 & 0 & 0 & 0 & 0 & 0 \\\\\n",
       "\\frac{1}{3} & \\frac{1}{3} & -\\frac{1}{3} \\zeta_{24}^{4} & -\\frac{1}{3} \\zeta_{24}^{4} & \\frac{1}{3} \\zeta_{24}^{4} - \\frac{1}{3} & \\frac{1}{3} \\zeta_{24}^{4} - \\frac{1}{3} & -\\frac{1}{3} \\zeta_{24}^{4} + \\frac{1}{3} & \\frac{1}{3} \\zeta_{24}^{4} & -\\frac{1}{3} & 0 & 0 & 0 & 0 & 0 & 0 \\\\\n",
       "\\frac{1}{3} & \\frac{1}{3} & \\frac{1}{3} & \\frac{1}{3} & \\frac{1}{3} & \\frac{1}{3} & -\\frac{1}{3} & -\\frac{1}{3} & -\\frac{1}{3} & 0 & 0 & 0 & 0 & 0 & 0 \\\\\n",
       "-\\frac{1}{6} \\zeta_{24}^{6} + \\frac{1}{3} \\zeta_{24}^{2} & \\frac{1}{6} \\zeta_{24}^{6} - \\frac{1}{3} \\zeta_{24}^{2} & -\\frac{1}{6} \\zeta_{24}^{6} + \\frac{1}{3} \\zeta_{24}^{2} & \\frac{1}{6} \\zeta_{24}^{6} - \\frac{1}{3} \\zeta_{24}^{2} & -\\frac{1}{6} \\zeta_{24}^{6} + \\frac{1}{3} \\zeta_{24}^{2} & \\frac{1}{6} \\zeta_{24}^{6} - \\frac{1}{3} \\zeta_{24}^{2} & 0 & 0 & 0 & \\frac{1}{6} \\zeta_{24}^{6} - \\frac{1}{3} \\zeta_{24}^{2} & -\\frac{1}{6} \\zeta_{24}^{6} + \\frac{1}{3} \\zeta_{24}^{2} & \\frac{1}{6} \\zeta_{24}^{6} - \\frac{1}{3} \\zeta_{24}^{2} & -\\frac{1}{6} \\zeta_{24}^{6} + \\frac{1}{3} \\zeta_{24}^{2} & \\frac{1}{6} \\zeta_{24}^{6} - \\frac{1}{3} \\zeta_{24}^{2} & -\\frac{1}{6} \\zeta_{24}^{6} + \\frac{1}{3} \\zeta_{24}^{2} \\\\\n",
       "-\\frac{1}{6} \\zeta_{24}^{6} + \\frac{1}{3} \\zeta_{24}^{2} & \\frac{1}{6} \\zeta_{24}^{6} - \\frac{1}{3} \\zeta_{24}^{2} & -\\frac{1}{6} \\zeta_{24}^{6} + \\frac{1}{3} \\zeta_{24}^{2} & \\frac{1}{6} \\zeta_{24}^{6} - \\frac{1}{3} \\zeta_{24}^{2} & -\\frac{1}{6} \\zeta_{24}^{6} + \\frac{1}{3} \\zeta_{24}^{2} & \\frac{1}{6} \\zeta_{24}^{6} - \\frac{1}{3} \\zeta_{24}^{2} & 0 & 0 & 0 & -\\frac{1}{6} \\zeta_{24}^{6} + \\frac{1}{3} \\zeta_{24}^{2} & \\frac{1}{6} \\zeta_{24}^{6} - \\frac{1}{3} \\zeta_{24}^{2} & -\\frac{1}{6} \\zeta_{24}^{6} + \\frac{1}{3} \\zeta_{24}^{2} & \\frac{1}{6} \\zeta_{24}^{6} - \\frac{1}{3} \\zeta_{24}^{2} & -\\frac{1}{6} \\zeta_{24}^{6} + \\frac{1}{3} \\zeta_{24}^{2} & \\frac{1}{6} \\zeta_{24}^{6} - \\frac{1}{3} \\zeta_{24}^{2} \\\\\n",
       "-\\frac{1}{6} \\zeta_{24}^{6} + \\frac{1}{3} \\zeta_{24}^{2} & \\frac{1}{6} \\zeta_{24}^{6} - \\frac{1}{3} \\zeta_{24}^{2} & \\frac{1}{3} \\zeta_{24}^{6} - \\frac{1}{6} \\zeta_{24}^{2} & -\\frac{1}{3} \\zeta_{24}^{6} + \\frac{1}{6} \\zeta_{24}^{2} & -\\frac{1}{6} \\zeta_{24}^{6} - \\frac{1}{6} \\zeta_{24}^{2} & \\frac{1}{6} \\zeta_{24}^{6} + \\frac{1}{6} \\zeta_{24}^{2} & 0 & 0 & 0 & \\frac{1}{6} \\zeta_{24}^{6} - \\frac{1}{3} \\zeta_{24}^{2} & -\\frac{1}{6} \\zeta_{24}^{6} + \\frac{1}{3} \\zeta_{24}^{2} & -\\frac{1}{3} \\zeta_{24}^{6} + \\frac{1}{6} \\zeta_{24}^{2} & \\frac{1}{3} \\zeta_{24}^{6} - \\frac{1}{6} \\zeta_{24}^{2} & \\frac{1}{6} \\zeta_{24}^{6} + \\frac{1}{6} \\zeta_{24}^{2} & -\\frac{1}{6} \\zeta_{24}^{6} - \\frac{1}{6} \\zeta_{24}^{2} \\\\\n",
       "-\\frac{1}{6} \\zeta_{24}^{6} + \\frac{1}{3} \\zeta_{24}^{2} & \\frac{1}{6} \\zeta_{24}^{6} - \\frac{1}{3} \\zeta_{24}^{2} & \\frac{1}{3} \\zeta_{24}^{6} - \\frac{1}{6} \\zeta_{24}^{2} & -\\frac{1}{3} \\zeta_{24}^{6} + \\frac{1}{6} \\zeta_{24}^{2} & -\\frac{1}{6} \\zeta_{24}^{6} - \\frac{1}{6} \\zeta_{24}^{2} & \\frac{1}{6} \\zeta_{24}^{6} + \\frac{1}{6} \\zeta_{24}^{2} & 0 & 0 & 0 & -\\frac{1}{6} \\zeta_{24}^{6} + \\frac{1}{3} \\zeta_{24}^{2} & \\frac{1}{6} \\zeta_{24}^{6} - \\frac{1}{3} \\zeta_{24}^{2} & \\frac{1}{3} \\zeta_{24}^{6} - \\frac{1}{6} \\zeta_{24}^{2} & -\\frac{1}{3} \\zeta_{24}^{6} + \\frac{1}{6} \\zeta_{24}^{2} & -\\frac{1}{6} \\zeta_{24}^{6} - \\frac{1}{6} \\zeta_{24}^{2} & \\frac{1}{6} \\zeta_{24}^{6} + \\frac{1}{6} \\zeta_{24}^{2} \\\\\n",
       "-\\frac{1}{6} \\zeta_{24}^{6} + \\frac{1}{3} \\zeta_{24}^{2} & \\frac{1}{6} \\zeta_{24}^{6} - \\frac{1}{3} \\zeta_{24}^{2} & -\\frac{1}{6} \\zeta_{24}^{6} - \\frac{1}{6} \\zeta_{24}^{2} & \\frac{1}{6} \\zeta_{24}^{6} + \\frac{1}{6} \\zeta_{24}^{2} & \\frac{1}{3} \\zeta_{24}^{6} - \\frac{1}{6} \\zeta_{24}^{2} & -\\frac{1}{3} \\zeta_{24}^{6} + \\frac{1}{6} \\zeta_{24}^{2} & 0 & 0 & 0 & \\frac{1}{6} \\zeta_{24}^{6} - \\frac{1}{3} \\zeta_{24}^{2} & -\\frac{1}{6} \\zeta_{24}^{6} + \\frac{1}{3} \\zeta_{24}^{2} & \\frac{1}{6} \\zeta_{24}^{6} + \\frac{1}{6} \\zeta_{24}^{2} & -\\frac{1}{6} \\zeta_{24}^{6} - \\frac{1}{6} \\zeta_{24}^{2} & -\\frac{1}{3} \\zeta_{24}^{6} + \\frac{1}{6} \\zeta_{24}^{2} & \\frac{1}{3} \\zeta_{24}^{6} - \\frac{1}{6} \\zeta_{24}^{2} \\\\\n",
       "-\\frac{1}{6} \\zeta_{24}^{6} + \\frac{1}{3} \\zeta_{24}^{2} & \\frac{1}{6} \\zeta_{24}^{6} - \\frac{1}{3} \\zeta_{24}^{2} & -\\frac{1}{6} \\zeta_{24}^{6} - \\frac{1}{6} \\zeta_{24}^{2} & \\frac{1}{6} \\zeta_{24}^{6} + \\frac{1}{6} \\zeta_{24}^{2} & \\frac{1}{3} \\zeta_{24}^{6} - \\frac{1}{6} \\zeta_{24}^{2} & -\\frac{1}{3} \\zeta_{24}^{6} + \\frac{1}{6} \\zeta_{24}^{2} & 0 & 0 & 0 & -\\frac{1}{6} \\zeta_{24}^{6} + \\frac{1}{3} \\zeta_{24}^{2} & \\frac{1}{6} \\zeta_{24}^{6} - \\frac{1}{3} \\zeta_{24}^{2} & -\\frac{1}{6} \\zeta_{24}^{6} - \\frac{1}{6} \\zeta_{24}^{2} & \\frac{1}{6} \\zeta_{24}^{6} + \\frac{1}{6} \\zeta_{24}^{2} & \\frac{1}{3} \\zeta_{24}^{6} - \\frac{1}{6} \\zeta_{24}^{2} & -\\frac{1}{3} \\zeta_{24}^{6} + \\frac{1}{6} \\zeta_{24}^{2}\n",
       "\\end{array}\\right)</script></html>"
      ],
      "text/latex": [
       "\\begin{math}\n",
       "\\newcommand{\\Bold}[1]{\\mathbf{#1}}\\left(\\begin{array}{rrrrrrrrrrrrrrr}\n",
       "\\frac{1}{6} & \\frac{1}{6} & \\frac{1}{6} & \\frac{1}{6} & \\frac{1}{6} & \\frac{1}{6} & \\frac{1}{3} & \\frac{1}{3} & \\frac{1}{3} & -\\frac{1}{6} \\zeta_{24}^{6} + \\frac{1}{3} \\zeta_{24}^{2} & -\\frac{1}{6} \\zeta_{24}^{6} + \\frac{1}{3} \\zeta_{24}^{2} & -\\frac{1}{6} \\zeta_{24}^{6} + \\frac{1}{3} \\zeta_{24}^{2} & -\\frac{1}{6} \\zeta_{24}^{6} + \\frac{1}{3} \\zeta_{24}^{2} & -\\frac{1}{6} \\zeta_{24}^{6} + \\frac{1}{3} \\zeta_{24}^{2} & -\\frac{1}{6} \\zeta_{24}^{6} + \\frac{1}{3} \\zeta_{24}^{2} \\\\\n",
       "\\frac{1}{6} & \\frac{1}{6} & \\frac{1}{6} & \\frac{1}{6} & \\frac{1}{6} & \\frac{1}{6} & \\frac{1}{3} & \\frac{1}{3} & \\frac{1}{3} & \\frac{1}{6} \\zeta_{24}^{6} - \\frac{1}{3} \\zeta_{24}^{2} & \\frac{1}{6} \\zeta_{24}^{6} - \\frac{1}{3} \\zeta_{24}^{2} & \\frac{1}{6} \\zeta_{24}^{6} - \\frac{1}{3} \\zeta_{24}^{2} & \\frac{1}{6} \\zeta_{24}^{6} - \\frac{1}{3} \\zeta_{24}^{2} & \\frac{1}{6} \\zeta_{24}^{6} - \\frac{1}{3} \\zeta_{24}^{2} & \\frac{1}{6} \\zeta_{24}^{6} - \\frac{1}{3} \\zeta_{24}^{2} \\\\\n",
       "\\frac{1}{6} & \\frac{1}{6} & -\\frac{1}{6} \\zeta_{24}^{4} & -\\frac{1}{6} \\zeta_{24}^{4} & \\frac{1}{6} \\zeta_{24}^{4} - \\frac{1}{6} & \\frac{1}{6} \\zeta_{24}^{4} - \\frac{1}{6} & \\frac{1}{3} \\zeta_{24}^{4} - \\frac{1}{3} & -\\frac{1}{3} \\zeta_{24}^{4} & \\frac{1}{3} & -\\frac{1}{6} \\zeta_{24}^{6} + \\frac{1}{3} \\zeta_{24}^{2} & -\\frac{1}{6} \\zeta_{24}^{6} + \\frac{1}{3} \\zeta_{24}^{2} & \\frac{1}{3} \\zeta_{24}^{6} - \\frac{1}{6} \\zeta_{24}^{2} & \\frac{1}{3} \\zeta_{24}^{6} - \\frac{1}{6} \\zeta_{24}^{2} & -\\frac{1}{6} \\zeta_{24}^{6} - \\frac{1}{6} \\zeta_{24}^{2} & -\\frac{1}{6} \\zeta_{24}^{6} - \\frac{1}{6} \\zeta_{24}^{2} \\\\\n",
       "\\frac{1}{6} & \\frac{1}{6} & -\\frac{1}{6} \\zeta_{24}^{4} & -\\frac{1}{6} \\zeta_{24}^{4} & \\frac{1}{6} \\zeta_{24}^{4} - \\frac{1}{6} & \\frac{1}{6} \\zeta_{24}^{4} - \\frac{1}{6} & \\frac{1}{3} \\zeta_{24}^{4} - \\frac{1}{3} & -\\frac{1}{3} \\zeta_{24}^{4} & \\frac{1}{3} & \\frac{1}{6} \\zeta_{24}^{6} - \\frac{1}{3} \\zeta_{24}^{2} & \\frac{1}{6} \\zeta_{24}^{6} - \\frac{1}{3} \\zeta_{24}^{2} & -\\frac{1}{3} \\zeta_{24}^{6} + \\frac{1}{6} \\zeta_{24}^{2} & -\\frac{1}{3} \\zeta_{24}^{6} + \\frac{1}{6} \\zeta_{24}^{2} & \\frac{1}{6} \\zeta_{24}^{6} + \\frac{1}{6} \\zeta_{24}^{2} & \\frac{1}{6} \\zeta_{24}^{6} + \\frac{1}{6} \\zeta_{24}^{2} \\\\\n",
       "\\frac{1}{6} & \\frac{1}{6} & \\frac{1}{6} \\zeta_{24}^{4} - \\frac{1}{6} & \\frac{1}{6} \\zeta_{24}^{4} - \\frac{1}{6} & -\\frac{1}{6} \\zeta_{24}^{4} & -\\frac{1}{6} \\zeta_{24}^{4} & -\\frac{1}{3} \\zeta_{24}^{4} & \\frac{1}{3} \\zeta_{24}^{4} - \\frac{1}{3} & \\frac{1}{3} & -\\frac{1}{6} \\zeta_{24}^{6} + \\frac{1}{3} \\zeta_{24}^{2} & -\\frac{1}{6} \\zeta_{24}^{6} + \\frac{1}{3} \\zeta_{24}^{2} & -\\frac{1}{6} \\zeta_{24}^{6} - \\frac{1}{6} \\zeta_{24}^{2} & -\\frac{1}{6} \\zeta_{24}^{6} - \\frac{1}{6} \\zeta_{24}^{2} & \\frac{1}{3} \\zeta_{24}^{6} - \\frac{1}{6} \\zeta_{24}^{2} & \\frac{1}{3} \\zeta_{24}^{6} - \\frac{1}{6} \\zeta_{24}^{2} \\\\\n",
       "\\frac{1}{6} & \\frac{1}{6} & \\frac{1}{6} \\zeta_{24}^{4} - \\frac{1}{6} & \\frac{1}{6} \\zeta_{24}^{4} - \\frac{1}{6} & -\\frac{1}{6} \\zeta_{24}^{4} & -\\frac{1}{6} \\zeta_{24}^{4} & -\\frac{1}{3} \\zeta_{24}^{4} & \\frac{1}{3} \\zeta_{24}^{4} - \\frac{1}{3} & \\frac{1}{3} & \\frac{1}{6} \\zeta_{24}^{6} - \\frac{1}{3} \\zeta_{24}^{2} & \\frac{1}{6} \\zeta_{24}^{6} - \\frac{1}{3} \\zeta_{24}^{2} & \\frac{1}{6} \\zeta_{24}^{6} + \\frac{1}{6} \\zeta_{24}^{2} & \\frac{1}{6} \\zeta_{24}^{6} + \\frac{1}{6} \\zeta_{24}^{2} & -\\frac{1}{3} \\zeta_{24}^{6} + \\frac{1}{6} \\zeta_{24}^{2} & -\\frac{1}{3} \\zeta_{24}^{6} + \\frac{1}{6} \\zeta_{24}^{2} \\\\\n",
       "\\frac{1}{3} & \\frac{1}{3} & \\frac{1}{3} \\zeta_{24}^{4} - \\frac{1}{3} & \\frac{1}{3} \\zeta_{24}^{4} - \\frac{1}{3} & -\\frac{1}{3} \\zeta_{24}^{4} & -\\frac{1}{3} \\zeta_{24}^{4} & \\frac{1}{3} \\zeta_{24}^{4} & -\\frac{1}{3} \\zeta_{24}^{4} + \\frac{1}{3} & -\\frac{1}{3} & 0 & 0 & 0 & 0 & 0 & 0 \\\\\n",
       "\\frac{1}{3} & \\frac{1}{3} & -\\frac{1}{3} \\zeta_{24}^{4} & -\\frac{1}{3} \\zeta_{24}^{4} & \\frac{1}{3} \\zeta_{24}^{4} - \\frac{1}{3} & \\frac{1}{3} \\zeta_{24}^{4} - \\frac{1}{3} & -\\frac{1}{3} \\zeta_{24}^{4} + \\frac{1}{3} & \\frac{1}{3} \\zeta_{24}^{4} & -\\frac{1}{3} & 0 & 0 & 0 & 0 & 0 & 0 \\\\\n",
       "\\frac{1}{3} & \\frac{1}{3} & \\frac{1}{3} & \\frac{1}{3} & \\frac{1}{3} & \\frac{1}{3} & -\\frac{1}{3} & -\\frac{1}{3} & -\\frac{1}{3} & 0 & 0 & 0 & 0 & 0 & 0 \\\\\n",
       "-\\frac{1}{6} \\zeta_{24}^{6} + \\frac{1}{3} \\zeta_{24}^{2} & \\frac{1}{6} \\zeta_{24}^{6} - \\frac{1}{3} \\zeta_{24}^{2} & -\\frac{1}{6} \\zeta_{24}^{6} + \\frac{1}{3} \\zeta_{24}^{2} & \\frac{1}{6} \\zeta_{24}^{6} - \\frac{1}{3} \\zeta_{24}^{2} & -\\frac{1}{6} \\zeta_{24}^{6} + \\frac{1}{3} \\zeta_{24}^{2} & \\frac{1}{6} \\zeta_{24}^{6} - \\frac{1}{3} \\zeta_{24}^{2} & 0 & 0 & 0 & \\frac{1}{6} \\zeta_{24}^{6} - \\frac{1}{3} \\zeta_{24}^{2} & -\\frac{1}{6} \\zeta_{24}^{6} + \\frac{1}{3} \\zeta_{24}^{2} & \\frac{1}{6} \\zeta_{24}^{6} - \\frac{1}{3} \\zeta_{24}^{2} & -\\frac{1}{6} \\zeta_{24}^{6} + \\frac{1}{3} \\zeta_{24}^{2} & \\frac{1}{6} \\zeta_{24}^{6} - \\frac{1}{3} \\zeta_{24}^{2} & -\\frac{1}{6} \\zeta_{24}^{6} + \\frac{1}{3} \\zeta_{24}^{2} \\\\\n",
       "-\\frac{1}{6} \\zeta_{24}^{6} + \\frac{1}{3} \\zeta_{24}^{2} & \\frac{1}{6} \\zeta_{24}^{6} - \\frac{1}{3} \\zeta_{24}^{2} & -\\frac{1}{6} \\zeta_{24}^{6} + \\frac{1}{3} \\zeta_{24}^{2} & \\frac{1}{6} \\zeta_{24}^{6} - \\frac{1}{3} \\zeta_{24}^{2} & -\\frac{1}{6} \\zeta_{24}^{6} + \\frac{1}{3} \\zeta_{24}^{2} & \\frac{1}{6} \\zeta_{24}^{6} - \\frac{1}{3} \\zeta_{24}^{2} & 0 & 0 & 0 & -\\frac{1}{6} \\zeta_{24}^{6} + \\frac{1}{3} \\zeta_{24}^{2} & \\frac{1}{6} \\zeta_{24}^{6} - \\frac{1}{3} \\zeta_{24}^{2} & -\\frac{1}{6} \\zeta_{24}^{6} + \\frac{1}{3} \\zeta_{24}^{2} & \\frac{1}{6} \\zeta_{24}^{6} - \\frac{1}{3} \\zeta_{24}^{2} & -\\frac{1}{6} \\zeta_{24}^{6} + \\frac{1}{3} \\zeta_{24}^{2} & \\frac{1}{6} \\zeta_{24}^{6} - \\frac{1}{3} \\zeta_{24}^{2} \\\\\n",
       "-\\frac{1}{6} \\zeta_{24}^{6} + \\frac{1}{3} \\zeta_{24}^{2} & \\frac{1}{6} \\zeta_{24}^{6} - \\frac{1}{3} \\zeta_{24}^{2} & \\frac{1}{3} \\zeta_{24}^{6} - \\frac{1}{6} \\zeta_{24}^{2} & -\\frac{1}{3} \\zeta_{24}^{6} + \\frac{1}{6} \\zeta_{24}^{2} & -\\frac{1}{6} \\zeta_{24}^{6} - \\frac{1}{6} \\zeta_{24}^{2} & \\frac{1}{6} \\zeta_{24}^{6} + \\frac{1}{6} \\zeta_{24}^{2} & 0 & 0 & 0 & \\frac{1}{6} \\zeta_{24}^{6} - \\frac{1}{3} \\zeta_{24}^{2} & -\\frac{1}{6} \\zeta_{24}^{6} + \\frac{1}{3} \\zeta_{24}^{2} & -\\frac{1}{3} \\zeta_{24}^{6} + \\frac{1}{6} \\zeta_{24}^{2} & \\frac{1}{3} \\zeta_{24}^{6} - \\frac{1}{6} \\zeta_{24}^{2} & \\frac{1}{6} \\zeta_{24}^{6} + \\frac{1}{6} \\zeta_{24}^{2} & -\\frac{1}{6} \\zeta_{24}^{6} - \\frac{1}{6} \\zeta_{24}^{2} \\\\\n",
       "-\\frac{1}{6} \\zeta_{24}^{6} + \\frac{1}{3} \\zeta_{24}^{2} & \\frac{1}{6} \\zeta_{24}^{6} - \\frac{1}{3} \\zeta_{24}^{2} & \\frac{1}{3} \\zeta_{24}^{6} - \\frac{1}{6} \\zeta_{24}^{2} & -\\frac{1}{3} \\zeta_{24}^{6} + \\frac{1}{6} \\zeta_{24}^{2} & -\\frac{1}{6} \\zeta_{24}^{6} - \\frac{1}{6} \\zeta_{24}^{2} & \\frac{1}{6} \\zeta_{24}^{6} + \\frac{1}{6} \\zeta_{24}^{2} & 0 & 0 & 0 & -\\frac{1}{6} \\zeta_{24}^{6} + \\frac{1}{3} \\zeta_{24}^{2} & \\frac{1}{6} \\zeta_{24}^{6} - \\frac{1}{3} \\zeta_{24}^{2} & \\frac{1}{3} \\zeta_{24}^{6} - \\frac{1}{6} \\zeta_{24}^{2} & -\\frac{1}{3} \\zeta_{24}^{6} + \\frac{1}{6} \\zeta_{24}^{2} & -\\frac{1}{6} \\zeta_{24}^{6} - \\frac{1}{6} \\zeta_{24}^{2} & \\frac{1}{6} \\zeta_{24}^{6} + \\frac{1}{6} \\zeta_{24}^{2} \\\\\n",
       "-\\frac{1}{6} \\zeta_{24}^{6} + \\frac{1}{3} \\zeta_{24}^{2} & \\frac{1}{6} \\zeta_{24}^{6} - \\frac{1}{3} \\zeta_{24}^{2} & -\\frac{1}{6} \\zeta_{24}^{6} - \\frac{1}{6} \\zeta_{24}^{2} & \\frac{1}{6} \\zeta_{24}^{6} + \\frac{1}{6} \\zeta_{24}^{2} & \\frac{1}{3} \\zeta_{24}^{6} - \\frac{1}{6} \\zeta_{24}^{2} & -\\frac{1}{3} \\zeta_{24}^{6} + \\frac{1}{6} \\zeta_{24}^{2} & 0 & 0 & 0 & \\frac{1}{6} \\zeta_{24}^{6} - \\frac{1}{3} \\zeta_{24}^{2} & -\\frac{1}{6} \\zeta_{24}^{6} + \\frac{1}{3} \\zeta_{24}^{2} & \\frac{1}{6} \\zeta_{24}^{6} + \\frac{1}{6} \\zeta_{24}^{2} & -\\frac{1}{6} \\zeta_{24}^{6} - \\frac{1}{6} \\zeta_{24}^{2} & -\\frac{1}{3} \\zeta_{24}^{6} + \\frac{1}{6} \\zeta_{24}^{2} & \\frac{1}{3} \\zeta_{24}^{6} - \\frac{1}{6} \\zeta_{24}^{2} \\\\\n",
       "-\\frac{1}{6} \\zeta_{24}^{6} + \\frac{1}{3} \\zeta_{24}^{2} & \\frac{1}{6} \\zeta_{24}^{6} - \\frac{1}{3} \\zeta_{24}^{2} & -\\frac{1}{6} \\zeta_{24}^{6} - \\frac{1}{6} \\zeta_{24}^{2} & \\frac{1}{6} \\zeta_{24}^{6} + \\frac{1}{6} \\zeta_{24}^{2} & \\frac{1}{3} \\zeta_{24}^{6} - \\frac{1}{6} \\zeta_{24}^{2} & -\\frac{1}{3} \\zeta_{24}^{6} + \\frac{1}{6} \\zeta_{24}^{2} & 0 & 0 & 0 & -\\frac{1}{6} \\zeta_{24}^{6} + \\frac{1}{3} \\zeta_{24}^{2} & \\frac{1}{6} \\zeta_{24}^{6} - \\frac{1}{3} \\zeta_{24}^{2} & -\\frac{1}{6} \\zeta_{24}^{6} - \\frac{1}{6} \\zeta_{24}^{2} & \\frac{1}{6} \\zeta_{24}^{6} + \\frac{1}{6} \\zeta_{24}^{2} & \\frac{1}{3} \\zeta_{24}^{6} - \\frac{1}{6} \\zeta_{24}^{2} & -\\frac{1}{3} \\zeta_{24}^{6} + \\frac{1}{6} \\zeta_{24}^{2}\n",
       "\\end{array}\\right)\n",
       "\\end{math}"
      ],
      "text/plain": [
       "[                         1/6                          1/6                          1/6                          1/6                          1/6                          1/6                          1/3                          1/3                          1/3 -1/6*zeta24^6 + 1/3*zeta24^2 -1/6*zeta24^6 + 1/3*zeta24^2 -1/6*zeta24^6 + 1/3*zeta24^2 -1/6*zeta24^6 + 1/3*zeta24^2 -1/6*zeta24^6 + 1/3*zeta24^2 -1/6*zeta24^6 + 1/3*zeta24^2]\n",
       "[                         1/6                          1/6                          1/6                          1/6                          1/6                          1/6                          1/3                          1/3                          1/3  1/6*zeta24^6 - 1/3*zeta24^2  1/6*zeta24^6 - 1/3*zeta24^2  1/6*zeta24^6 - 1/3*zeta24^2  1/6*zeta24^6 - 1/3*zeta24^2  1/6*zeta24^6 - 1/3*zeta24^2  1/6*zeta24^6 - 1/3*zeta24^2]\n",
       "[                         1/6                          1/6                -1/6*zeta24^4                -1/6*zeta24^4           1/6*zeta24^4 - 1/6           1/6*zeta24^4 - 1/6           1/3*zeta24^4 - 1/3                -1/3*zeta24^4                          1/3 -1/6*zeta24^6 + 1/3*zeta24^2 -1/6*zeta24^6 + 1/3*zeta24^2  1/3*zeta24^6 - 1/6*zeta24^2  1/3*zeta24^6 - 1/6*zeta24^2 -1/6*zeta24^6 - 1/6*zeta24^2 -1/6*zeta24^6 - 1/6*zeta24^2]\n",
       "[                         1/6                          1/6                -1/6*zeta24^4                -1/6*zeta24^4           1/6*zeta24^4 - 1/6           1/6*zeta24^4 - 1/6           1/3*zeta24^4 - 1/3                -1/3*zeta24^4                          1/3  1/6*zeta24^6 - 1/3*zeta24^2  1/6*zeta24^6 - 1/3*zeta24^2 -1/3*zeta24^6 + 1/6*zeta24^2 -1/3*zeta24^6 + 1/6*zeta24^2  1/6*zeta24^6 + 1/6*zeta24^2  1/6*zeta24^6 + 1/6*zeta24^2]\n",
       "[                         1/6                          1/6           1/6*zeta24^4 - 1/6           1/6*zeta24^4 - 1/6                -1/6*zeta24^4                -1/6*zeta24^4                -1/3*zeta24^4           1/3*zeta24^4 - 1/3                          1/3 -1/6*zeta24^6 + 1/3*zeta24^2 -1/6*zeta24^6 + 1/3*zeta24^2 -1/6*zeta24^6 - 1/6*zeta24^2 -1/6*zeta24^6 - 1/6*zeta24^2  1/3*zeta24^6 - 1/6*zeta24^2  1/3*zeta24^6 - 1/6*zeta24^2]\n",
       "[                         1/6                          1/6           1/6*zeta24^4 - 1/6           1/6*zeta24^4 - 1/6                -1/6*zeta24^4                -1/6*zeta24^4                -1/3*zeta24^4           1/3*zeta24^4 - 1/3                          1/3  1/6*zeta24^6 - 1/3*zeta24^2  1/6*zeta24^6 - 1/3*zeta24^2  1/6*zeta24^6 + 1/6*zeta24^2  1/6*zeta24^6 + 1/6*zeta24^2 -1/3*zeta24^6 + 1/6*zeta24^2 -1/3*zeta24^6 + 1/6*zeta24^2]\n",
       "[                         1/3                          1/3           1/3*zeta24^4 - 1/3           1/3*zeta24^4 - 1/3                -1/3*zeta24^4                -1/3*zeta24^4                 1/3*zeta24^4          -1/3*zeta24^4 + 1/3                         -1/3                            0                            0                            0                            0                            0                            0]\n",
       "[                         1/3                          1/3                -1/3*zeta24^4                -1/3*zeta24^4           1/3*zeta24^4 - 1/3           1/3*zeta24^4 - 1/3          -1/3*zeta24^4 + 1/3                 1/3*zeta24^4                         -1/3                            0                            0                            0                            0                            0                            0]\n",
       "[                         1/3                          1/3                          1/3                          1/3                          1/3                          1/3                         -1/3                         -1/3                         -1/3                            0                            0                            0                            0                            0                            0]\n",
       "[-1/6*zeta24^6 + 1/3*zeta24^2  1/6*zeta24^6 - 1/3*zeta24^2 -1/6*zeta24^6 + 1/3*zeta24^2  1/6*zeta24^6 - 1/3*zeta24^2 -1/6*zeta24^6 + 1/3*zeta24^2  1/6*zeta24^6 - 1/3*zeta24^2                            0                            0                            0  1/6*zeta24^6 - 1/3*zeta24^2 -1/6*zeta24^6 + 1/3*zeta24^2  1/6*zeta24^6 - 1/3*zeta24^2 -1/6*zeta24^6 + 1/3*zeta24^2  1/6*zeta24^6 - 1/3*zeta24^2 -1/6*zeta24^6 + 1/3*zeta24^2]\n",
       "[-1/6*zeta24^6 + 1/3*zeta24^2  1/6*zeta24^6 - 1/3*zeta24^2 -1/6*zeta24^6 + 1/3*zeta24^2  1/6*zeta24^6 - 1/3*zeta24^2 -1/6*zeta24^6 + 1/3*zeta24^2  1/6*zeta24^6 - 1/3*zeta24^2                            0                            0                            0 -1/6*zeta24^6 + 1/3*zeta24^2  1/6*zeta24^6 - 1/3*zeta24^2 -1/6*zeta24^6 + 1/3*zeta24^2  1/6*zeta24^6 - 1/3*zeta24^2 -1/6*zeta24^6 + 1/3*zeta24^2  1/6*zeta24^6 - 1/3*zeta24^2]\n",
       "[-1/6*zeta24^6 + 1/3*zeta24^2  1/6*zeta24^6 - 1/3*zeta24^2  1/3*zeta24^6 - 1/6*zeta24^2 -1/3*zeta24^6 + 1/6*zeta24^2 -1/6*zeta24^6 - 1/6*zeta24^2  1/6*zeta24^6 + 1/6*zeta24^2                            0                            0                            0  1/6*zeta24^6 - 1/3*zeta24^2 -1/6*zeta24^6 + 1/3*zeta24^2 -1/3*zeta24^6 + 1/6*zeta24^2  1/3*zeta24^6 - 1/6*zeta24^2  1/6*zeta24^6 + 1/6*zeta24^2 -1/6*zeta24^6 - 1/6*zeta24^2]\n",
       "[-1/6*zeta24^6 + 1/3*zeta24^2  1/6*zeta24^6 - 1/3*zeta24^2  1/3*zeta24^6 - 1/6*zeta24^2 -1/3*zeta24^6 + 1/6*zeta24^2 -1/6*zeta24^6 - 1/6*zeta24^2  1/6*zeta24^6 + 1/6*zeta24^2                            0                            0                            0 -1/6*zeta24^6 + 1/3*zeta24^2  1/6*zeta24^6 - 1/3*zeta24^2  1/3*zeta24^6 - 1/6*zeta24^2 -1/3*zeta24^6 + 1/6*zeta24^2 -1/6*zeta24^6 - 1/6*zeta24^2  1/6*zeta24^6 + 1/6*zeta24^2]\n",
       "[-1/6*zeta24^6 + 1/3*zeta24^2  1/6*zeta24^6 - 1/3*zeta24^2 -1/6*zeta24^6 - 1/6*zeta24^2  1/6*zeta24^6 + 1/6*zeta24^2  1/3*zeta24^6 - 1/6*zeta24^2 -1/3*zeta24^6 + 1/6*zeta24^2                            0                            0                            0  1/6*zeta24^6 - 1/3*zeta24^2 -1/6*zeta24^6 + 1/3*zeta24^2  1/6*zeta24^6 + 1/6*zeta24^2 -1/6*zeta24^6 - 1/6*zeta24^2 -1/3*zeta24^6 + 1/6*zeta24^2  1/3*zeta24^6 - 1/6*zeta24^2]\n",
       "[-1/6*zeta24^6 + 1/3*zeta24^2  1/6*zeta24^6 - 1/3*zeta24^2 -1/6*zeta24^6 - 1/6*zeta24^2  1/6*zeta24^6 + 1/6*zeta24^2  1/3*zeta24^6 - 1/6*zeta24^2 -1/3*zeta24^6 + 1/6*zeta24^2                            0                            0                            0 -1/6*zeta24^6 + 1/3*zeta24^2  1/6*zeta24^6 - 1/3*zeta24^2 -1/6*zeta24^6 - 1/6*zeta24^2  1/6*zeta24^6 + 1/6*zeta24^2  1/3*zeta24^6 - 1/6*zeta24^2 -1/3*zeta24^6 + 1/6*zeta24^2]"
      ]
     },
     "metadata": {},
     "output_type": "display_data"
    }
   ],
   "source": [
    "SXX = matrix([[b(g,h,Q,z)^(2) for g in G_list for i in range(2)] for h in G_list for j in range(2)])\n",
    "#show(SXX)\n",
    "SXY = matrix([[2*b(h,a+c,Q,z)^(1) for (a,c) in Gpairs] for h in G_list for i in range(2)])\n",
    "#show(SXY)\n",
    "SXZ = matrix([[(-1)^(j)*sqrt_n*q(h,Q,z)^(-1)*q(h,Q,z)^(1)*b(h,g,Q,z)^(1) for g in G_list for i in range(2)] for h in G_list for j in range(2)])\n",
    "#GNN say SXZ = matrix([[(-1)^(j)*sqrt_n*rho(h,Q)^(-1)*rho_a(h,Q,g)^(-1) for g in G_list for i in range(2)] for h in G_list for j in range(2)])\n",
    "#show(SXZ)\n",
    "SYY = matrix([[2*(b(a,d,Q,z)*b(x,c,Q,z)+b(a,c,Q,z)*b(x,d,Q,z)) for (a,x) in Gpairs] for (c,d) in Gpairs])\n",
    "#show(SYY)\n",
    "SYZ = zero_matrix(parent(z), n*(n-1)/2, 2*n)\n",
    "#show(SYZ)\n",
    "SZZ = matrix([[Delta[i]^(-1)*(-1)^j*Delta[k]^(-1)*(-1)^l*sum([b(x,x,Q,z)^2*q_a(x,Q,G_list[i],z)^(-1)*q_a(x,Q,G_list[k],z)^(-1) for x in G_list]) for i in range(n) for j in range(2)] for k in range(n) for l in range(2)])\n",
    "#show(SZZ)\n",
    "S = block_matrix([[SXX, SXY, SXZ],[SXY.transpose(), SYY, SYZ], [SXZ.transpose(), SYZ.transpose(), SZZ]])/(2*n)\n",
    "show(S)\n",
    "dims = [1]*(2*n) + [2]*ZZ(n*(n-1)/2) + [sqrt_n]*(2*n)\n",
    "p_plus = sum([Theta[i]*dims[i]^2 for i in range(n*(7+n)/2)])\n",
    "p_minus = sum([Theta[i]^(-1)*dims[i]^2 for i in range(n*(7+n)/2)])"
   ]
  },
  {
   "cell_type": "code",
   "execution_count": 183,
   "metadata": {},
   "outputs": [
    {
     "data": {
      "text/html": [
       "<html><script type=\"math/tex; mode=display\">\\newcommand{\\Bold}[1]{\\mathbf{#1}}\\left(\\begin{array}{rrrrrrrrrrrrrrr}\n",
       "1 & 0 & 0 & 0 & 0 & 0 & 0 & 0 & 0 & 0 & 0 & 0 & 0 & 0 & 0 \\\\\n",
       "0 & 1 & 0 & 0 & 0 & 0 & 0 & 0 & 0 & 0 & 0 & 0 & 0 & 0 & 0 \\\\\n",
       "0 & 0 & 0 & 0 & 1 & 0 & 0 & 0 & 0 & 0 & 0 & 0 & 0 & 0 & 0 \\\\\n",
       "0 & 0 & 0 & 0 & 0 & 1 & 0 & 0 & 0 & 0 & 0 & 0 & 0 & 0 & 0 \\\\\n",
       "0 & 0 & 1 & 0 & 0 & 0 & 0 & 0 & 0 & 0 & 0 & 0 & 0 & 0 & 0 \\\\\n",
       "0 & 0 & 0 & 1 & 0 & 0 & 0 & 0 & 0 & 0 & 0 & 0 & 0 & 0 & 0 \\\\\n",
       "0 & 0 & 0 & 0 & 0 & 0 & 0 & 1 & 0 & 0 & 0 & 0 & 0 & 0 & 0 \\\\\n",
       "0 & 0 & 0 & 0 & 0 & 0 & 1 & 0 & 0 & 0 & 0 & 0 & 0 & 0 & 0 \\\\\n",
       "0 & 0 & 0 & 0 & 0 & 0 & 0 & 0 & 1 & 0 & 0 & 0 & 0 & 0 & 0 \\\\\n",
       "0 & 0 & 0 & 0 & 0 & 0 & 0 & 0 & 0 & 1 & 0 & 0 & 0 & 0 & 0 \\\\\n",
       "0 & 0 & 0 & 0 & 0 & 0 & 0 & 0 & 0 & 0 & 1 & 0 & 0 & 0 & 0 \\\\\n",
       "0 & 0 & 0 & 0 & 0 & 0 & 0 & 0 & 0 & 0 & 0 & 0 & 0 & 1 & 0 \\\\\n",
       "0 & 0 & 0 & 0 & 0 & 0 & 0 & 0 & 0 & 0 & 0 & 0 & 0 & 0 & 1 \\\\\n",
       "0 & 0 & 0 & 0 & 0 & 0 & 0 & 0 & 0 & 0 & 0 & 1 & 0 & 0 & 0 \\\\\n",
       "0 & 0 & 0 & 0 & 0 & 0 & 0 & 0 & 0 & 0 & 0 & 0 & 1 & 0 & 0\n",
       "\\end{array}\\right)</script></html>"
      ],
      "text/latex": [
       "\\begin{math}\n",
       "\\newcommand{\\Bold}[1]{\\mathbf{#1}}\\left(\\begin{array}{rrrrrrrrrrrrrrr}\n",
       "1 & 0 & 0 & 0 & 0 & 0 & 0 & 0 & 0 & 0 & 0 & 0 & 0 & 0 & 0 \\\\\n",
       "0 & 1 & 0 & 0 & 0 & 0 & 0 & 0 & 0 & 0 & 0 & 0 & 0 & 0 & 0 \\\\\n",
       "0 & 0 & 0 & 0 & 1 & 0 & 0 & 0 & 0 & 0 & 0 & 0 & 0 & 0 & 0 \\\\\n",
       "0 & 0 & 0 & 0 & 0 & 1 & 0 & 0 & 0 & 0 & 0 & 0 & 0 & 0 & 0 \\\\\n",
       "0 & 0 & 1 & 0 & 0 & 0 & 0 & 0 & 0 & 0 & 0 & 0 & 0 & 0 & 0 \\\\\n",
       "0 & 0 & 0 & 1 & 0 & 0 & 0 & 0 & 0 & 0 & 0 & 0 & 0 & 0 & 0 \\\\\n",
       "0 & 0 & 0 & 0 & 0 & 0 & 0 & 1 & 0 & 0 & 0 & 0 & 0 & 0 & 0 \\\\\n",
       "0 & 0 & 0 & 0 & 0 & 0 & 1 & 0 & 0 & 0 & 0 & 0 & 0 & 0 & 0 \\\\\n",
       "0 & 0 & 0 & 0 & 0 & 0 & 0 & 0 & 1 & 0 & 0 & 0 & 0 & 0 & 0 \\\\\n",
       "0 & 0 & 0 & 0 & 0 & 0 & 0 & 0 & 0 & 1 & 0 & 0 & 0 & 0 & 0 \\\\\n",
       "0 & 0 & 0 & 0 & 0 & 0 & 0 & 0 & 0 & 0 & 1 & 0 & 0 & 0 & 0 \\\\\n",
       "0 & 0 & 0 & 0 & 0 & 0 & 0 & 0 & 0 & 0 & 0 & 0 & 0 & 1 & 0 \\\\\n",
       "0 & 0 & 0 & 0 & 0 & 0 & 0 & 0 & 0 & 0 & 0 & 0 & 0 & 0 & 1 \\\\\n",
       "0 & 0 & 0 & 0 & 0 & 0 & 0 & 0 & 0 & 0 & 0 & 1 & 0 & 0 & 0 \\\\\n",
       "0 & 0 & 0 & 0 & 0 & 0 & 0 & 0 & 0 & 0 & 0 & 0 & 1 & 0 & 0\n",
       "\\end{array}\\right)\n",
       "\\end{math}"
      ],
      "text/plain": [
       "[1 0 0 0 0 0 0 0 0 0 0 0 0 0 0]\n",
       "[0 1 0 0 0 0 0 0 0 0 0 0 0 0 0]\n",
       "[0 0 0 0 1 0 0 0 0 0 0 0 0 0 0]\n",
       "[0 0 0 0 0 1 0 0 0 0 0 0 0 0 0]\n",
       "[0 0 1 0 0 0 0 0 0 0 0 0 0 0 0]\n",
       "[0 0 0 1 0 0 0 0 0 0 0 0 0 0 0]\n",
       "[0 0 0 0 0 0 0 1 0 0 0 0 0 0 0]\n",
       "[0 0 0 0 0 0 1 0 0 0 0 0 0 0 0]\n",
       "[0 0 0 0 0 0 0 0 1 0 0 0 0 0 0]\n",
       "[0 0 0 0 0 0 0 0 0 1 0 0 0 0 0]\n",
       "[0 0 0 0 0 0 0 0 0 0 1 0 0 0 0]\n",
       "[0 0 0 0 0 0 0 0 0 0 0 0 0 1 0]\n",
       "[0 0 0 0 0 0 0 0 0 0 0 0 0 0 1]\n",
       "[0 0 0 0 0 0 0 0 0 0 0 1 0 0 0]\n",
       "[0 0 0 0 0 0 0 0 0 0 0 0 1 0 0]"
      ]
     },
     "metadata": {},
     "output_type": "display_data"
    }
   ],
   "source": [
    "C = S*S\n",
    "show(C)"
   ]
  },
  {
   "cell_type": "code",
   "execution_count": 184,
   "metadata": {},
   "outputs": [
    {
     "data": {
      "text/html": [
       "<html><script type=\"math/tex; mode=display\">\\newcommand{\\Bold}[1]{\\mathbf{#1}}\\left(\\begin{array}{rrrrrrrrrrrrrrr}\n",
       "1 & 0 & 0 & 0 & 0 & 0 & 0 & 0 & 0 & 0 & 0 & 0 & 0 & 0 & 0 \\\\\n",
       "0 & 1 & 0 & 0 & 0 & 0 & 0 & 0 & 0 & 0 & 0 & 0 & 0 & 0 & 0 \\\\\n",
       "0 & 0 & \\frac{1}{2} & \\frac{1}{2} & \\frac{1}{2} & -\\frac{1}{2} & 0 & 0 & 0 & 0 & 0 & 0 & 0 & 0 & 0 \\\\\n",
       "0 & 0 & \\frac{1}{2} & \\frac{1}{2} & -\\frac{1}{2} & \\frac{1}{2} & 0 & 0 & 0 & 0 & 0 & 0 & 0 & 0 & 0 \\\\\n",
       "0 & 0 & \\frac{1}{2} & -\\frac{1}{2} & \\frac{1}{2} & \\frac{1}{2} & 0 & 0 & 0 & 0 & 0 & 0 & 0 & 0 & 0 \\\\\n",
       "0 & 0 & -\\frac{1}{2} & \\frac{1}{2} & \\frac{1}{2} & \\frac{1}{2} & 0 & 0 & 0 & 0 & 0 & 0 & 0 & 0 & 0 \\\\\n",
       "0 & 0 & 0 & 0 & 0 & 0 & 1 & 0 & 0 & 0 & 0 & 0 & 0 & 0 & 0 \\\\\n",
       "0 & 0 & 0 & 0 & 0 & 0 & 0 & 1 & 0 & 0 & 0 & 0 & 0 & 0 & 0 \\\\\n",
       "0 & 0 & 0 & 0 & 0 & 0 & 0 & 0 & 1 & 0 & 0 & 0 & 0 & 0 & 0 \\\\\n",
       "0 & 0 & 0 & 0 & 0 & 0 & 0 & 0 & 0 & 1 & 0 & 0 & 0 & 0 & 0 \\\\\n",
       "0 & 0 & 0 & 0 & 0 & 0 & 0 & 0 & 0 & 0 & 1 & 0 & 0 & 0 & 0 \\\\\n",
       "0 & 0 & 0 & 0 & 0 & 0 & 0 & 0 & 0 & 0 & 0 & 0 & 0 & 1 & 0 \\\\\n",
       "0 & 0 & 0 & 0 & 0 & 0 & 0 & 0 & 0 & 0 & 0 & 0 & 0 & 0 & 1 \\\\\n",
       "0 & 0 & 0 & 0 & 0 & 0 & 0 & 0 & 0 & 0 & 0 & 1 & 0 & 0 & 0 \\\\\n",
       "0 & 0 & 0 & 0 & 0 & 0 & 0 & 0 & 0 & 0 & 0 & 0 & 1 & 0 & 0\n",
       "\\end{array}\\right)</script></html>"
      ],
      "text/latex": [
       "\\begin{math}\n",
       "\\newcommand{\\Bold}[1]{\\mathbf{#1}}\\left(\\begin{array}{rrrrrrrrrrrrrrr}\n",
       "1 & 0 & 0 & 0 & 0 & 0 & 0 & 0 & 0 & 0 & 0 & 0 & 0 & 0 & 0 \\\\\n",
       "0 & 1 & 0 & 0 & 0 & 0 & 0 & 0 & 0 & 0 & 0 & 0 & 0 & 0 & 0 \\\\\n",
       "0 & 0 & \\frac{1}{2} & \\frac{1}{2} & \\frac{1}{2} & -\\frac{1}{2} & 0 & 0 & 0 & 0 & 0 & 0 & 0 & 0 & 0 \\\\\n",
       "0 & 0 & \\frac{1}{2} & \\frac{1}{2} & -\\frac{1}{2} & \\frac{1}{2} & 0 & 0 & 0 & 0 & 0 & 0 & 0 & 0 & 0 \\\\\n",
       "0 & 0 & \\frac{1}{2} & -\\frac{1}{2} & \\frac{1}{2} & \\frac{1}{2} & 0 & 0 & 0 & 0 & 0 & 0 & 0 & 0 & 0 \\\\\n",
       "0 & 0 & -\\frac{1}{2} & \\frac{1}{2} & \\frac{1}{2} & \\frac{1}{2} & 0 & 0 & 0 & 0 & 0 & 0 & 0 & 0 & 0 \\\\\n",
       "0 & 0 & 0 & 0 & 0 & 0 & 1 & 0 & 0 & 0 & 0 & 0 & 0 & 0 & 0 \\\\\n",
       "0 & 0 & 0 & 0 & 0 & 0 & 0 & 1 & 0 & 0 & 0 & 0 & 0 & 0 & 0 \\\\\n",
       "0 & 0 & 0 & 0 & 0 & 0 & 0 & 0 & 1 & 0 & 0 & 0 & 0 & 0 & 0 \\\\\n",
       "0 & 0 & 0 & 0 & 0 & 0 & 0 & 0 & 0 & 1 & 0 & 0 & 0 & 0 & 0 \\\\\n",
       "0 & 0 & 0 & 0 & 0 & 0 & 0 & 0 & 0 & 0 & 1 & 0 & 0 & 0 & 0 \\\\\n",
       "0 & 0 & 0 & 0 & 0 & 0 & 0 & 0 & 0 & 0 & 0 & 0 & 0 & 1 & 0 \\\\\n",
       "0 & 0 & 0 & 0 & 0 & 0 & 0 & 0 & 0 & 0 & 0 & 0 & 0 & 0 & 1 \\\\\n",
       "0 & 0 & 0 & 0 & 0 & 0 & 0 & 0 & 0 & 0 & 0 & 1 & 0 & 0 & 0 \\\\\n",
       "0 & 0 & 0 & 0 & 0 & 0 & 0 & 0 & 0 & 0 & 0 & 0 & 1 & 0 & 0\n",
       "\\end{array}\\right)\n",
       "\\end{math}"
      ],
      "text/plain": [
       "[   1    0    0    0    0    0    0    0    0    0    0    0    0    0    0]\n",
       "[   0    1    0    0    0    0    0    0    0    0    0    0    0    0    0]\n",
       "[   0    0  1/2  1/2  1/2 -1/2    0    0    0    0    0    0    0    0    0]\n",
       "[   0    0  1/2  1/2 -1/2  1/2    0    0    0    0    0    0    0    0    0]\n",
       "[   0    0  1/2 -1/2  1/2  1/2    0    0    0    0    0    0    0    0    0]\n",
       "[   0    0 -1/2  1/2  1/2  1/2    0    0    0    0    0    0    0    0    0]\n",
       "[   0    0    0    0    0    0    1    0    0    0    0    0    0    0    0]\n",
       "[   0    0    0    0    0    0    0    1    0    0    0    0    0    0    0]\n",
       "[   0    0    0    0    0    0    0    0    1    0    0    0    0    0    0]\n",
       "[   0    0    0    0    0    0    0    0    0    1    0    0    0    0    0]\n",
       "[   0    0    0    0    0    0    0    0    0    0    1    0    0    0    0]\n",
       "[   0    0    0    0    0    0    0    0    0    0    0    0    0    1    0]\n",
       "[   0    0    0    0    0    0    0    0    0    0    0    0    0    0    1]\n",
       "[   0    0    0    0    0    0    0    0    0    0    0    1    0    0    0]\n",
       "[   0    0    0    0    0    0    0    0    0    0    0    0    1    0    0]"
      ]
     },
     "metadata": {},
     "output_type": "display_data"
    }
   ],
   "source": [
    "show((S*T^(-1))^3)"
   ]
  },
  {
   "cell_type": "code",
   "execution_count": 59,
   "metadata": {},
   "outputs": [
    {
     "data": {
      "text/plain": [
       "Additive abelian group isomorphic to Z/2 + Z/3"
      ]
     },
     "execution_count": 59,
     "metadata": {},
     "output_type": "execute_result"
    }
   ],
   "source": [
    "TB_data = [T + [(-1)^i] for T in full_met_groups for i in range(2)]\n",
    "tup = TB_data[21]\n",
    "G = tup[0]\n",
    "G"
   ]
  },
  {
   "cell_type": "code",
   "execution_count": null,
   "metadata": {},
   "outputs": [],
   "source": []
  },
  {
   "cell_type": "code",
   "execution_count": 41,
   "metadata": {},
   "outputs": [],
   "source": [
    "def rho(g,Q1):\n",
    "    return z^(vector(g.lift())*Q1*(vector(g.lift())))\n",
    "\n",
    "def rho_a(g,Q1,h):\n",
    "    return z^(vector(g.lift())*Q1*(vector(g.lift()) + 2*vector(h.lift())))\n",
    "\n",
    "def chi(g,h, Q1):\n",
    "    return z^(vector(g.lift())*2*Q1*vector(h.lift()))"
   ]
  },
  {
   "cell_type": "code",
   "execution_count": 62,
   "metadata": {},
   "outputs": [
    {
     "data": {
      "text/html": [
       "<html><script type=\"math/tex; mode=display\">\\newcommand{\\Bold}[1]{\\mathbf{#1}}\\left[\\frac{\\ZZ}{3\\ZZ} \\oplus \\frac{\\ZZ}{3\\ZZ}, \\left[\\left(3, 1, 2, 1\\right)\\right], \\left(\\begin{array}{rr}\n",
       "8 & 0 \\\\\n",
       "0 & 8\n",
       "\\end{array}\\right), \\zeta_{12}, 1\\right]</script></html>"
      ],
      "text/latex": [
       "\\begin{math}\n",
       "\\newcommand{\\Bold}[1]{\\mathbf{#1}}\\left[\\frac{\\ZZ}{3\\ZZ} \\oplus \\frac{\\ZZ}{3\\ZZ}, \\left[\\left(3, 1, 2, 1\\right)\\right], \\left(\\begin{array}{rr}\n",
       "8 & 0 \\\\\n",
       "0 & 8\n",
       "\\end{array}\\right), \\zeta_{12}, 1\\right]\n",
       "\\end{math}"
      ],
      "text/plain": [
       "[\n",
       "                                                                [8 0]\n",
       "Additive abelian group isomorphic to Z/3 + Z/3, [(3, 1, 2, 1)], [0 8],\n",
       "\n",
       "zeta12, 1\n",
       "]"
      ]
     },
     "metadata": {},
     "output_type": "display_data"
    },
    {
     "data": {
      "text/html": [
       "<html><script type=\"math/tex; mode=display\">\\newcommand{\\Bold}[1]{\\mathbf{#1}}-1</script></html>"
      ],
      "text/latex": [
       "\\begin{math}\n",
       "\\newcommand{\\Bold}[1]{\\mathbf{#1}}-1\n",
       "\\end{math}"
      ],
      "text/plain": [
       "-1"
      ]
     },
     "metadata": {},
     "output_type": "display_data"
    }
   ],
   "source": [
    "ind = 42\n",
    "#Pick one of the TB Category input datas\n",
    "show(TB_data[ind])\n",
    "G, met, Q, z, sgn_tau = TB_data[ind]\n",
    "n = G.order()\n",
    "n3 = z.multiplicative_order()\n",
    "sqrt_n = 1\n",
    "for fac in factor(n.squarefree_part()):\n",
    "    if fac[0] == 2:\n",
    "        sqrt_n = z^(n3/8) + z^(7*n3/8)\n",
    "    else:\n",
    "        p = fac[0]\n",
    "        sqrt_n = sqrt_n * (1-z^(n3/4))/(1-z^(n3/4*legendre_symbol(-1,p))) * sum([legendre_symbol(i,p)*z^(n3*i/p) for i in range(p)])\n",
    "sqrt_n = sqrt_n * sqrt(n/n.squarefree_part())\n",
    "tau = sgn_tau * sqrt_n/n\n",
    "#GNN gauss\n",
    "gauss = sqrt_n*sum([rho(g, Q) for g in G])/n\n",
    "#RTJ gauss\n",
    "#gauss = sqrt_n*sum([rho(g, Q)^(-1) for g in G])/n\n",
    "show(gauss)"
   ]
  },
  {
   "cell_type": "code",
   "execution_count": 64,
   "metadata": {},
   "outputs": [
    {
     "ename": "ValueError",
     "evalue": "-5/3 not a 2-th root in Cyclotomic Field of order 20 and degree 8",
     "output_type": "error",
     "traceback": [
      "\u001b[0;31m---------------------------------------------------------------------------\u001b[0m",
      "\u001b[0;31mValueError\u001b[0m                                Traceback (most recent call last)",
      "\u001b[0;32m<ipython-input-64-a5302c3d31c7>\u001b[0m in \u001b[0;36m<module>\u001b[0;34m\u001b[0m\n\u001b[1;32m      8\u001b[0m \u001b[0;31m#Building the Deltas with correct +/- is tricky.  First, define them for the coset reps of G / {2g for g in G}\u001b[0m\u001b[0;34m\u001b[0m\u001b[0;34m\u001b[0m\u001b[0;34m\u001b[0m\u001b[0m\n\u001b[1;32m      9\u001b[0m \u001b[0;31m#GNN Deltas\u001b[0m\u001b[0;34m\u001b[0m\u001b[0;34m\u001b[0m\u001b[0;34m\u001b[0m\u001b[0m\n\u001b[0;32m---> 10\u001b[0;31m \u001b[0mDelta_for_cos_reps\u001b[0m \u001b[0;34m=\u001b[0m \u001b[0;34m[\u001b[0m\u001b[0;34m(\u001b[0m\u001b[0msgn_tau\u001b[0m\u001b[0;34m*\u001b[0m\u001b[0mq\u001b[0m\u001b[0;34m(\u001b[0m\u001b[0mc\u001b[0m\u001b[0;34m,\u001b[0m\u001b[0mQ\u001b[0m\u001b[0;34m,\u001b[0m\u001b[0mz\u001b[0m\u001b[0;34m)\u001b[0m\u001b[0;34m**\u001b[0m\u001b[0;34m(\u001b[0m\u001b[0;34m-\u001b[0m\u001b[0mInteger\u001b[0m\u001b[0;34m(\u001b[0m\u001b[0;36m1\u001b[0m\u001b[0;34m)\u001b[0m\u001b[0;34m)\u001b[0m\u001b[0;34m*\u001b[0m\u001b[0mgauss\u001b[0m\u001b[0;34m)\u001b[0m\u001b[0;34m.\u001b[0m\u001b[0mnth_root\u001b[0m\u001b[0;34m(\u001b[0m\u001b[0mInteger\u001b[0m\u001b[0;34m(\u001b[0m\u001b[0;36m2\u001b[0m\u001b[0;34m)\u001b[0m\u001b[0;34m)\u001b[0m \u001b[0;32mfor\u001b[0m \u001b[0mc\u001b[0m \u001b[0;32min\u001b[0m \u001b[0mcoset_reps\u001b[0m\u001b[0;34m]\u001b[0m\u001b[0;34m\u001b[0m\u001b[0;34m\u001b[0m\u001b[0m\n\u001b[0m\u001b[1;32m     11\u001b[0m \u001b[0;31m#RTJ Deltas\u001b[0m\u001b[0;34m\u001b[0m\u001b[0;34m\u001b[0m\u001b[0;34m\u001b[0m\u001b[0m\n\u001b[1;32m     12\u001b[0m \u001b[0;31m#Delta_for_cos_reps = [(sgn_tau*rho(c, Q)*gauss).nth_root(2)^(-1) for c in coset_reps]\u001b[0m\u001b[0;34m\u001b[0m\u001b[0;34m\u001b[0m\u001b[0;34m\u001b[0m\u001b[0m\n",
      "\u001b[0;32m<ipython-input-64-a5302c3d31c7>\u001b[0m in \u001b[0;36m<listcomp>\u001b[0;34m(.0)\u001b[0m\n\u001b[1;32m      8\u001b[0m \u001b[0;31m#Building the Deltas with correct +/- is tricky.  First, define them for the coset reps of G / {2g for g in G}\u001b[0m\u001b[0;34m\u001b[0m\u001b[0;34m\u001b[0m\u001b[0;34m\u001b[0m\u001b[0m\n\u001b[1;32m      9\u001b[0m \u001b[0;31m#GNN Deltas\u001b[0m\u001b[0;34m\u001b[0m\u001b[0;34m\u001b[0m\u001b[0;34m\u001b[0m\u001b[0m\n\u001b[0;32m---> 10\u001b[0;31m \u001b[0mDelta_for_cos_reps\u001b[0m \u001b[0;34m=\u001b[0m \u001b[0;34m[\u001b[0m\u001b[0;34m(\u001b[0m\u001b[0msgn_tau\u001b[0m\u001b[0;34m*\u001b[0m\u001b[0mq\u001b[0m\u001b[0;34m(\u001b[0m\u001b[0mc\u001b[0m\u001b[0;34m,\u001b[0m\u001b[0mQ\u001b[0m\u001b[0;34m,\u001b[0m\u001b[0mz\u001b[0m\u001b[0;34m)\u001b[0m\u001b[0;34m**\u001b[0m\u001b[0;34m(\u001b[0m\u001b[0;34m-\u001b[0m\u001b[0mInteger\u001b[0m\u001b[0;34m(\u001b[0m\u001b[0;36m1\u001b[0m\u001b[0;34m)\u001b[0m\u001b[0;34m)\u001b[0m\u001b[0;34m*\u001b[0m\u001b[0mgauss\u001b[0m\u001b[0;34m)\u001b[0m\u001b[0;34m.\u001b[0m\u001b[0mnth_root\u001b[0m\u001b[0;34m(\u001b[0m\u001b[0mInteger\u001b[0m\u001b[0;34m(\u001b[0m\u001b[0;36m2\u001b[0m\u001b[0;34m)\u001b[0m\u001b[0;34m)\u001b[0m \u001b[0;32mfor\u001b[0m \u001b[0mc\u001b[0m \u001b[0;32min\u001b[0m \u001b[0mcoset_reps\u001b[0m\u001b[0;34m]\u001b[0m\u001b[0;34m\u001b[0m\u001b[0;34m\u001b[0m\u001b[0m\n\u001b[0m\u001b[1;32m     11\u001b[0m \u001b[0;31m#RTJ Deltas\u001b[0m\u001b[0;34m\u001b[0m\u001b[0;34m\u001b[0m\u001b[0;34m\u001b[0m\u001b[0m\n\u001b[1;32m     12\u001b[0m \u001b[0;31m#Delta_for_cos_reps = [(sgn_tau*rho(c, Q)*gauss).nth_root(2)^(-1) for c in coset_reps]\u001b[0m\u001b[0;34m\u001b[0m\u001b[0;34m\u001b[0m\u001b[0;34m\u001b[0m\u001b[0m\n",
      "\u001b[0;32m/opt/sagemath-9.2/local/lib/python3.7/site-packages/sage/rings/number_field/number_field_element.pyx\u001b[0m in \u001b[0;36msage.rings.number_field.number_field_element.NumberFieldElement.nth_root (build/cythonized/sage/rings/number_field/number_field_element.cpp:22156)\u001b[0;34m()\u001b[0m\n\u001b[1;32m   2260\u001b[0m             \u001b[0;32mreturn\u001b[0m \u001b[0mroots\u001b[0m\u001b[0;34m[\u001b[0m\u001b[0;36m0\u001b[0m\u001b[0;34m]\u001b[0m\u001b[0;34m[\u001b[0m\u001b[0;36m0\u001b[0m\u001b[0;34m]\u001b[0m\u001b[0;34m\u001b[0m\u001b[0;34m\u001b[0m\u001b[0m\n\u001b[1;32m   2261\u001b[0m         \u001b[0;32melse\u001b[0m\u001b[0;34m:\u001b[0m\u001b[0;34m\u001b[0m\u001b[0;34m\u001b[0m\u001b[0m\n\u001b[0;32m-> 2262\u001b[0;31m             \u001b[0;32mraise\u001b[0m \u001b[0mValueError\u001b[0m\u001b[0;34m(\u001b[0m\u001b[0;34m\"%s not a %s-th root in %s\"\u001b[0m\u001b[0;34m%\u001b[0m\u001b[0;34m(\u001b[0m\u001b[0mself\u001b[0m\u001b[0;34m,\u001b[0m \u001b[0mn\u001b[0m\u001b[0;34m,\u001b[0m \u001b[0mself\u001b[0m\u001b[0;34m.\u001b[0m\u001b[0m_parent\u001b[0m\u001b[0;34m)\u001b[0m\u001b[0;34m)\u001b[0m\u001b[0;34m\u001b[0m\u001b[0;34m\u001b[0m\u001b[0m\n\u001b[0m\u001b[1;32m   2263\u001b[0m \u001b[0;34m\u001b[0m\u001b[0m\n\u001b[1;32m   2264\u001b[0m     \u001b[0;32mdef\u001b[0m \u001b[0mis_nth_power\u001b[0m\u001b[0;34m(\u001b[0m\u001b[0mself\u001b[0m\u001b[0;34m,\u001b[0m \u001b[0mn\u001b[0m\u001b[0;34m)\u001b[0m\u001b[0;34m:\u001b[0m\u001b[0;34m\u001b[0m\u001b[0;34m\u001b[0m\u001b[0m\n",
      "\u001b[0;31mValueError\u001b[0m: -5/3 not a 2-th root in Cyclotomic Field of order 20 and degree 8"
     ]
    }
   ],
   "source": [
    "H = G.submodule([2*g for g in G])\n",
    "quotient_gens = [g for g in G.gens() if g not in H]\n",
    "coset_reps = [G.zero()] + [sum(K) for K in Set(quotient_gens).subsets()][1:]\n",
    "#List elements of G such that they are grouped by cosets of {2g for g in G}\n",
    "G_list = [c + h for c in coset_reps for h in H]\n",
    "G_halves = zip(*[[g,2*g] for g in G_list])\n",
    "c_n = len(coset_reps)\n",
    "#Building the Deltas with correct +/- is tricky.  First, define them for the coset reps of G / {2g for g in G}\n",
    "#GNN Deltas\n",
    "Delta_for_cos_reps = [(sgn_tau*q(c,Q,z)^(-1)*gauss).nth_root(2) for c in coset_reps]\n",
    "#RTJ Deltas\n",
    "#Delta_for_cos_reps = [(sgn_tau*rho(c, Q)*gauss).nth_root(2)^(-1) for c in coset_reps]\n",
    "#Then Delta_{2a+c} = Delta_c * chi(-a,a+c) where 2a in H.\n",
    "Delta = []\n",
    "for i in range(c_n):\n",
    "    D = Delta_for_cos_reps[i]\n",
    "    c = coset_reps[i]\n",
    "    for h in H:\n",
    "        #Need to divide h by 2, but Sage does not allow this in Z-modules.\n",
    "        a = G_halves[0][G_halves[1].index(h)]\n",
    "        Delta.append(D*b(-a,a+c,Q,z))\n",
    "show(Delta)\n",
    "show(coset_reps)\n",
    "show(H.list())\n",
    "show(G_list)"
   ]
  },
  {
   "cell_type": "code",
   "execution_count": 347,
   "metadata": {},
   "outputs": [
    {
     "name": "stdout",
     "output_type": "stream",
     "text": [
      "(0) (0)\n",
      "(1) (0)\n",
      "(2) (0)\n"
     ]
    }
   ],
   "source": [
    "for c in G_list:\n",
    "    print c, G_list[floor(G_list.index(c) / H.order())*H.order()]\n",
    "    #print G_list[G_list.index(c) % H.order()]"
   ]
  },
  {
   "cell_type": "code",
   "execution_count": 473,
   "metadata": {},
   "outputs": [
    {
     "data": {
      "text/html": [
       "<html><script type=\"math/tex; mode=display\">\\newcommand{\\Bold}[1]{\\mathbf{#1}}\\left[\\verb|(0)|, \\verb|(1)|, \\verb|(2)|\\right]</script></html>"
      ],
      "text/plain": [
       "[(0), (1), (2)]"
      ]
     },
     "metadata": {},
     "output_type": "display_data"
    },
    {
     "data": {
      "text/html": [
       "<html><script type=\"math/tex; mode=display\">\\newcommand{\\Bold}[1]{\\mathbf{#1}}\\left[\\verb|(0)|, \\verb|(1)|, \\verb|(2)|\\right]</script></html>"
      ],
      "text/plain": [
       "[(0), (1), (2)]"
      ]
     },
     "metadata": {},
     "output_type": "display_data"
    },
    {
     "data": {
      "text/html": [
       "<html><script type=\"math/tex; mode=display\">\\newcommand{\\Bold}[1]{\\mathbf{#1}}\\left(\\begin{array}{rrr}\n",
       "1 & 1 & 1 \\\\\n",
       "1 & 1 & 1 \\\\\n",
       "1 & 1 & 1\n",
       "\\end{array}\\right)</script></html>"
      ],
      "text/plain": [
       "[1 1 1]\n",
       "[1 1 1]\n",
       "[1 1 1]"
      ]
     },
     "metadata": {},
     "output_type": "display_data"
    }
   ],
   "source": [
    "#This should be fixed to deal with this on a group-theory level, but I cannot understand it at this moment.\n",
    "def XZ_negation_fix(a,b, Q, G_list, Delta):\n",
    "    j = G_list.index(b)\n",
    "    k = G_list.index(2*a+b)\n",
    "    return chi(-a,b+a,Q)*Delta[k]/Delta[j]\n",
    "\n",
    "show(H.list())\n",
    "show(G_list)\n",
    "correction = []\n",
    "for a in G_list:\n",
    "    correction.append([])\n",
    "    for b in G_list:\n",
    "        correction[-1:][0].append(XZ_negation_fix(a,b, Q, G_list, Delta))\n",
    "show(matrix(correction))"
   ]
  },
  {
   "cell_type": "code",
   "execution_count": 442,
   "metadata": {},
   "outputs": [
    {
     "data": {
      "text/html": [
       "<html><script type=\"math/tex; mode=display\">\\newcommand{\\Bold}[1]{\\mathbf{#1}}\\left(\\begin{array}{rrrrrrrr}\n",
       "2 & 2 & 2 & 2 & 2 & 2 & 2 & 2 \\\\\n",
       "-2 & -2 & -2 & -2 & -2 & -2 & -2 & -2 \\\\\n",
       "2 & 2 & 2 & 2 & 2 & 2 & 2 & 2 \\\\\n",
       "-2 & -2 & -2 & -2 & -2 & -2 & -2 & -2 \\\\\n",
       "-2 & -2 & 2 & 2 & 2 \\zeta_{16}^{4} & 2 \\zeta_{16}^{4} & 2 \\zeta_{16}^{4} & 2 \\zeta_{16}^{4} \\\\\n",
       "2 & 2 & -2 & -2 & -2 \\zeta_{16}^{4} & -2 \\zeta_{16}^{4} & -2 \\zeta_{16}^{4} & -2 \\zeta_{16}^{4} \\\\\n",
       "-2 & -2 & 2 & 2 & 2 \\zeta_{16}^{4} & 2 \\zeta_{16}^{4} & 2 \\zeta_{16}^{4} & 2 \\zeta_{16}^{4} \\\\\n",
       "2 & 2 & -2 & -2 & -2 \\zeta_{16}^{4} & -2 \\zeta_{16}^{4} & -2 \\zeta_{16}^{4} & -2 \\zeta_{16}^{4}\n",
       "\\end{array}\\right)</script></html>"
      ],
      "text/plain": [
       "[          2           2           2           2           2           2           2           2]\n",
       "[         -2          -2          -2          -2          -2          -2          -2          -2]\n",
       "[          2           2           2           2           2           2           2           2]\n",
       "[         -2          -2          -2          -2          -2          -2          -2          -2]\n",
       "[         -2          -2           2           2  2*zeta16^4  2*zeta16^4  2*zeta16^4  2*zeta16^4]\n",
       "[          2           2          -2          -2 -2*zeta16^4 -2*zeta16^4 -2*zeta16^4 -2*zeta16^4]\n",
       "[         -2          -2           2           2  2*zeta16^4  2*zeta16^4  2*zeta16^4  2*zeta16^4]\n",
       "[          2           2          -2          -2 -2*zeta16^4 -2*zeta16^4 -2*zeta16^4 -2*zeta16^4]"
      ]
     },
     "metadata": {},
     "output_type": "display_data"
    },
    {
     "data": {
      "text/html": [
       "<html><script type=\"math/tex; mode=display\">\\newcommand{\\Bold}[1]{\\mathbf{#1}}\\left(\\begin{array}{rrrrrrrr}\n",
       "-2 \\zeta_{16}^{6} + 2 \\zeta_{16}^{2} & 2 \\zeta_{16}^{6} - 2 \\zeta_{16}^{2} & 2 \\zeta_{16}^{6} - 2 \\zeta_{16}^{2} & -2 \\zeta_{16}^{6} + 2 \\zeta_{16}^{2} & 0 & 0 & 0 & 0 \\\\\n",
       "2 \\zeta_{16}^{6} - 2 \\zeta_{16}^{2} & -2 \\zeta_{16}^{6} + 2 \\zeta_{16}^{2} & -2 \\zeta_{16}^{6} + 2 \\zeta_{16}^{2} & 2 \\zeta_{16}^{6} - 2 \\zeta_{16}^{2} & 0 & 0 & 0 & 0 \\\\\n",
       "2 \\zeta_{16}^{6} - 2 \\zeta_{16}^{2} & -2 \\zeta_{16}^{6} + 2 \\zeta_{16}^{2} & 2 \\zeta_{16}^{6} - 2 \\zeta_{16}^{2} & -2 \\zeta_{16}^{6} + 2 \\zeta_{16}^{2} & 0 & 0 & 0 & 0 \\\\\n",
       "-2 \\zeta_{16}^{6} + 2 \\zeta_{16}^{2} & 2 \\zeta_{16}^{6} - 2 \\zeta_{16}^{2} & -2 \\zeta_{16}^{6} + 2 \\zeta_{16}^{2} & 2 \\zeta_{16}^{6} - 2 \\zeta_{16}^{2} & 0 & 0 & 0 & 0 \\\\\n",
       "0 & 0 & 0 & 0 & -2 \\zeta_{16}^{4} + 2 & 2 \\zeta_{16}^{4} - 2 & -2 \\zeta_{16}^{4} - 2 & 2 \\zeta_{16}^{4} + 2 \\\\\n",
       "0 & 0 & 0 & 0 & 2 \\zeta_{16}^{4} - 2 & -2 \\zeta_{16}^{4} + 2 & 2 \\zeta_{16}^{4} + 2 & -2 \\zeta_{16}^{4} - 2 \\\\\n",
       "0 & 0 & 0 & 0 & -2 \\zeta_{16}^{4} - 2 & 2 \\zeta_{16}^{4} + 2 & -2 \\zeta_{16}^{4} + 2 & 2 \\zeta_{16}^{4} - 2 \\\\\n",
       "0 & 0 & 0 & 0 & 2 \\zeta_{16}^{4} + 2 & -2 \\zeta_{16}^{4} - 2 & 2 \\zeta_{16}^{4} - 2 & -2 \\zeta_{16}^{4} + 2\n",
       "\\end{array}\\right)</script></html>"
      ],
      "text/plain": [
       "[-2*zeta16^6 + 2*zeta16^2  2*zeta16^6 - 2*zeta16^2  2*zeta16^6 - 2*zeta16^2 -2*zeta16^6 + 2*zeta16^2                        0                        0                        0                        0]\n",
       "[ 2*zeta16^6 - 2*zeta16^2 -2*zeta16^6 + 2*zeta16^2 -2*zeta16^6 + 2*zeta16^2  2*zeta16^6 - 2*zeta16^2                        0                        0                        0                        0]\n",
       "[ 2*zeta16^6 - 2*zeta16^2 -2*zeta16^6 + 2*zeta16^2  2*zeta16^6 - 2*zeta16^2 -2*zeta16^6 + 2*zeta16^2                        0                        0                        0                        0]\n",
       "[-2*zeta16^6 + 2*zeta16^2  2*zeta16^6 - 2*zeta16^2 -2*zeta16^6 + 2*zeta16^2  2*zeta16^6 - 2*zeta16^2                        0                        0                        0                        0]\n",
       "[                       0                        0                        0                        0          -2*zeta16^4 + 2           2*zeta16^4 - 2          -2*zeta16^4 - 2           2*zeta16^4 + 2]\n",
       "[                       0                        0                        0                        0           2*zeta16^4 - 2          -2*zeta16^4 + 2           2*zeta16^4 + 2          -2*zeta16^4 - 2]\n",
       "[                       0                        0                        0                        0          -2*zeta16^4 - 2           2*zeta16^4 + 2          -2*zeta16^4 + 2           2*zeta16^4 - 2]\n",
       "[                       0                        0                        0                        0           2*zeta16^4 + 2          -2*zeta16^4 - 2           2*zeta16^4 - 2          -2*zeta16^4 + 2]"
      ]
     },
     "metadata": {},
     "output_type": "display_data"
    }
   ],
   "source": [
    "pows = [z^(i) for i in range(n3)]\n",
    "#Delta = [(tau*sum([rho_a(g,Q,h) for g in G])).nth_root(2)^(-1) for h in G]\n",
    "Gpairs = [(G_list[i],G_list[j]) for i in range(n) for j in range(i)]\n",
    "Theta_X = [chi(g,-g,Q) for g in G_list for i in range(2)]\n",
    "Theta_Y = [chi(g,-h,Q) for (g,h) in Gpairs]\n",
    "Theta_Z = [sgn_tau*(-1)^i*d for d in Delta for i in range(2)]\n",
    "Theta = Theta_X + Theta_Y + Theta_Z\n",
    "#show(Theta_X)\n",
    "#show(Theta_Y)\n",
    "#show(Theta_Z)\n",
    "T = block_diagonal_matrix([diagonal_matrix(Theta_X), diagonal_matrix(Theta_Y), diagonal_matrix(Theta_Z)])\n",
    "#show(T)\n",
    "SXX = matrix([[chi(g,h,Q)^(2) for g in G_list for i in range(2)] for h in G_list for j in range(2)])\n",
    "#show(SXX)\n",
    "SXY = matrix([[2*chi(h,a+b, Q)^(1) for (a,b) in Gpairs] for h in G_list for i in range(2)])\n",
    "#show(SXY)\n",
    "SXZ = matrix([[(-1)^(j)*sqrt_n*rho(h,Q)^(-1)*rho_a(h,Q,g)^(1)*XZ_negation_fix(h,g,Q,G_list,Delta) for g in G_list for i in range(2)] for h in G_list for j in range(2)])\n",
    "#GNN say SXZ = matrix([[(-1)^(j)*sqrt_n*rho(h,Q)^(-1)*rho_a(h,Q,g)^(-1) for g in G_list for i in range(2)] for h in G_list for j in range(2)])\n",
    "show(SXZ)\n",
    "SYY = matrix([[2*(chi(a,d,Q)*chi(b,c,Q)+chi(a,c,Q)*chi(b,d,Q)) for (a,b) in Gpairs] for (c,d) in Gpairs])\n",
    "#show(SYY)\n",
    "SYZ = zero_matrix(parent(z), n*(n-1)/2, 2*n)\n",
    "#show(SYZ)\n",
    "SZZ = matrix([[Delta[i]^(-1)*(-1)^j*Delta[k]^(-1)*(-1)^l*sum([chi(x,x,Q)^2*rho_a(x,Q,G_list[i])^(-1)*rho_a(x,Q,G_list[k])^(-1) for x in G_list]) for i in range(n) for j in range(2)] for k in range(n) for l in range(2)])\n",
    "show(SZZ)\n",
    "S = block_matrix([[SXX, SXY, SXZ],[SXY.transpose(), SYY, SYZ], [SXZ.transpose(), SYZ.transpose(), SZZ]])/(2*n)\n",
    "#show(S)\n",
    "dims = [1]*(2*n) + [2]*ZZ(n*(n-1)/2) + [sqrt_n]*(2*n)\n",
    "p_plus = sum([Theta[i]*dims[i]^2 for i in range(n*(7+n)/2)])\n",
    "p_minus = sum([Theta[i]^(-1)*dims[i]^2 for i in range(n*(7+n)/2)])"
   ]
  },
  {
   "cell_type": "code",
   "execution_count": 370,
   "metadata": {},
   "outputs": [
    {
     "data": {
      "text/plain": [
       "3"
      ]
     },
     "execution_count": 370,
     "metadata": {},
     "output_type": "execute_result"
    }
   ],
   "source": [
    "binomial(n,2)"
   ]
  },
  {
   "cell_type": "code",
   "execution_count": 444,
   "metadata": {},
   "outputs": [
    {
     "data": {
      "text/html": [
       "<html><script type=\"math/tex; mode=display\">\\newcommand{\\Bold}[1]{\\mathbf{#1}}\\left(\\begin{array}{rrrrrrrrrrrrrrrrrrrrrr}\n",
       "1 & 0 & \\frac{1}{2} & -\\frac{1}{2} & \\frac{1}{4} \\zeta_{16}^{4} & -\\frac{1}{4} \\zeta_{16}^{4} & \\frac{1}{4} \\zeta_{16}^{4} & -\\frac{1}{4} \\zeta_{16}^{4} & 0 & 0 & 0 & 0 & 0 & 0 & 0 & 0 & 0 & 0 & 0 & 0 & 0 & 0 \\\\\n",
       "0 & 1 & -\\frac{1}{2} & \\frac{1}{2} & -\\frac{1}{4} \\zeta_{16}^{4} & \\frac{1}{4} \\zeta_{16}^{4} & -\\frac{1}{4} \\zeta_{16}^{4} & \\frac{1}{4} \\zeta_{16}^{4} & 0 & 0 & 0 & 0 & 0 & 0 & 0 & 0 & 0 & 0 & 0 & 0 & 0 & 0 \\\\\n",
       "\\frac{1}{2} & -\\frac{1}{2} & 1 & 0 & \\frac{1}{4} \\zeta_{16}^{4} & -\\frac{1}{4} \\zeta_{16}^{4} & \\frac{1}{4} \\zeta_{16}^{4} & -\\frac{1}{4} \\zeta_{16}^{4} & 0 & 0 & 0 & 0 & 0 & 0 & 0 & 0 & 0 & 0 & 0 & 0 & 0 & 0 \\\\\n",
       "-\\frac{1}{2} & \\frac{1}{2} & 0 & 1 & -\\frac{1}{4} \\zeta_{16}^{4} & \\frac{1}{4} \\zeta_{16}^{4} & -\\frac{1}{4} \\zeta_{16}^{4} & \\frac{1}{4} \\zeta_{16}^{4} & 0 & 0 & 0 & 0 & 0 & 0 & 0 & 0 & 0 & 0 & 0 & 0 & 0 & 0 \\\\\n",
       "\\frac{1}{4} \\zeta_{16}^{4} & -\\frac{1}{4} \\zeta_{16}^{4} & \\frac{1}{4} \\zeta_{16}^{4} & -\\frac{1}{4} \\zeta_{16}^{4} & 0 & 0 & \\frac{1}{2} & \\frac{1}{2} & 0 & 0 & 0 & 0 & 0 & 0 & 0 & 0 & 0 & 0 & 0 & 0 & 0 & 0 \\\\\n",
       "-\\frac{1}{4} \\zeta_{16}^{4} & \\frac{1}{4} \\zeta_{16}^{4} & -\\frac{1}{4} \\zeta_{16}^{4} & \\frac{1}{4} \\zeta_{16}^{4} & 0 & 0 & \\frac{1}{2} & \\frac{1}{2} & 0 & 0 & 0 & 0 & 0 & 0 & 0 & 0 & 0 & 0 & 0 & 0 & 0 & 0 \\\\\n",
       "\\frac{1}{4} \\zeta_{16}^{4} & -\\frac{1}{4} \\zeta_{16}^{4} & \\frac{1}{4} \\zeta_{16}^{4} & -\\frac{1}{4} \\zeta_{16}^{4} & \\frac{1}{2} & \\frac{1}{2} & 0 & 0 & 0 & 0 & 0 & 0 & 0 & 0 & 0 & 0 & 0 & 0 & 0 & 0 & 0 & 0 \\\\\n",
       "-\\frac{1}{4} \\zeta_{16}^{4} & \\frac{1}{4} \\zeta_{16}^{4} & -\\frac{1}{4} \\zeta_{16}^{4} & \\frac{1}{4} \\zeta_{16}^{4} & \\frac{1}{2} & \\frac{1}{2} & 0 & 0 & 0 & 0 & 0 & 0 & 0 & 0 & 0 & 0 & 0 & 0 & 0 & 0 & 0 & 0 \\\\\n",
       "0 & 0 & 0 & 0 & 0 & 0 & 0 & 0 & 1 & 0 & 0 & 0 & 0 & 0 & 0 & 0 & 0 & 0 & 0 & 0 & 0 & 0 \\\\\n",
       "0 & 0 & 0 & 0 & 0 & 0 & 0 & 0 & 0 & 0 & 0 & 1 & 0 & 0 & 0 & 0 & 0 & 0 & 0 & 0 & 0 & 0 \\\\\n",
       "0 & 0 & 0 & 0 & 0 & 0 & 0 & 0 & 0 & 0 & 0 & 0 & 1 & 0 & 0 & 0 & 0 & 0 & 0 & 0 & 0 & 0 \\\\\n",
       "0 & 0 & 0 & 0 & 0 & 0 & 0 & 0 & 0 & 1 & 0 & 0 & 0 & 0 & 0 & 0 & 0 & 0 & 0 & 0 & 0 & 0 \\\\\n",
       "0 & 0 & 0 & 0 & 0 & 0 & 0 & 0 & 0 & 0 & 1 & 0 & 0 & 0 & 0 & 0 & 0 & 0 & 0 & 0 & 0 & 0 \\\\\n",
       "0 & 0 & 0 & 0 & 0 & 0 & 0 & 0 & 0 & 0 & 0 & 0 & 0 & 1 & 0 & 0 & 0 & 0 & 0 & 0 & 0 & 0 \\\\\n",
       "0 & 0 & 0 & 0 & 0 & 0 & 0 & 0 & 0 & 0 & 0 & 0 & 0 & 0 & 1 & 0 & 0 & 0 & -\\frac{1}{4} \\zeta_{16}^{4} + \\frac{1}{4} & -\\frac{1}{4} \\zeta_{16}^{4} + \\frac{1}{4} & -\\frac{1}{4} \\zeta_{16}^{4} + \\frac{1}{4} & -\\frac{1}{4} \\zeta_{16}^{4} + \\frac{1}{4} \\\\\n",
       "0 & 0 & 0 & 0 & 0 & 0 & 0 & 0 & 0 & 0 & 0 & 0 & 0 & 0 & 0 & 1 & 0 & 0 & -\\frac{1}{4} \\zeta_{16}^{4} + \\frac{1}{4} & -\\frac{1}{4} \\zeta_{16}^{4} + \\frac{1}{4} & -\\frac{1}{4} \\zeta_{16}^{4} + \\frac{1}{4} & -\\frac{1}{4} \\zeta_{16}^{4} + \\frac{1}{4} \\\\\n",
       "0 & 0 & 0 & 0 & 0 & 0 & 0 & 0 & 0 & 0 & 0 & 0 & 0 & 0 & 0 & 0 & 1 & 0 & \\frac{1}{4} \\zeta_{16}^{4} + \\frac{1}{4} & \\frac{1}{4} \\zeta_{16}^{4} + \\frac{1}{4} & \\frac{1}{4} \\zeta_{16}^{4} + \\frac{1}{4} & \\frac{1}{4} \\zeta_{16}^{4} + \\frac{1}{4} \\\\\n",
       "0 & 0 & 0 & 0 & 0 & 0 & 0 & 0 & 0 & 0 & 0 & 0 & 0 & 0 & 0 & 0 & 0 & 1 & \\frac{1}{4} \\zeta_{16}^{4} + \\frac{1}{4} & \\frac{1}{4} \\zeta_{16}^{4} + \\frac{1}{4} & \\frac{1}{4} \\zeta_{16}^{4} + \\frac{1}{4} & \\frac{1}{4} \\zeta_{16}^{4} + \\frac{1}{4} \\\\\n",
       "0 & 0 & 0 & 0 & 0 & 0 & 0 & 0 & 0 & 0 & 0 & 0 & 0 & 0 & -\\frac{1}{4} \\zeta_{16}^{4} + \\frac{1}{4} & -\\frac{1}{4} \\zeta_{16}^{4} + \\frac{1}{4} & \\frac{1}{4} \\zeta_{16}^{4} + \\frac{1}{4} & \\frac{1}{4} \\zeta_{16}^{4} + \\frac{1}{4} & 0 & 0 & -\\frac{1}{2} & \\frac{1}{2} \\\\\n",
       "0 & 0 & 0 & 0 & 0 & 0 & 0 & 0 & 0 & 0 & 0 & 0 & 0 & 0 & -\\frac{1}{4} \\zeta_{16}^{4} + \\frac{1}{4} & -\\frac{1}{4} \\zeta_{16}^{4} + \\frac{1}{4} & \\frac{1}{4} \\zeta_{16}^{4} + \\frac{1}{4} & \\frac{1}{4} \\zeta_{16}^{4} + \\frac{1}{4} & 0 & 0 & \\frac{1}{2} & -\\frac{1}{2} \\\\\n",
       "0 & 0 & 0 & 0 & 0 & 0 & 0 & 0 & 0 & 0 & 0 & 0 & 0 & 0 & -\\frac{1}{4} \\zeta_{16}^{4} + \\frac{1}{4} & -\\frac{1}{4} \\zeta_{16}^{4} + \\frac{1}{4} & \\frac{1}{4} \\zeta_{16}^{4} + \\frac{1}{4} & \\frac{1}{4} \\zeta_{16}^{4} + \\frac{1}{4} & -\\frac{1}{2} & \\frac{1}{2} & 0 & 0 \\\\\n",
       "0 & 0 & 0 & 0 & 0 & 0 & 0 & 0 & 0 & 0 & 0 & 0 & 0 & 0 & -\\frac{1}{4} \\zeta_{16}^{4} + \\frac{1}{4} & -\\frac{1}{4} \\zeta_{16}^{4} + \\frac{1}{4} & \\frac{1}{4} \\zeta_{16}^{4} + \\frac{1}{4} & \\frac{1}{4} \\zeta_{16}^{4} + \\frac{1}{4} & \\frac{1}{2} & -\\frac{1}{2} & 0 & 0\n",
       "\\end{array}\\right)</script></html>"
      ],
      "text/plain": [
       "22 x 22 dense matrix over Cyclotomic Field of order 16 and degree 8 (use the '.str()' method to see the entries)"
      ]
     },
     "metadata": {},
     "output_type": "display_data"
    }
   ],
   "source": [
    "C = S*S\n",
    "show(C)"
   ]
  },
  {
   "cell_type": "code",
   "execution_count": 379,
   "metadata": {},
   "outputs": [
    {
     "data": {
      "text/html": [
       "<html><script type=\"math/tex; mode=display\">\\newcommand{\\Bold}[1]{\\mathbf{#1}}\\left[0, 1, 4, 5, 2, 3, 7, 6, 8, 9, 10, 13, 14, 11, 12\\right]</script></html>"
      ],
      "text/plain": [
       "[0, 1, 4, 5, 2, 3, 7, 6, 8, 9, 10, 13, 14, 11, 12]"
      ]
     },
     "metadata": {},
     "output_type": "display_data"
    },
    {
     "data": {
      "text/html": [
       "<html><script type=\"math/tex; mode=display\">\\newcommand{\\Bold}[1]{\\mathbf{#1}}\\left(\\begin{array}{rrrrrrrrrrrrrrr}\n",
       "1 & 0 & 0 & 0 & 0 & 0 & 0 & 0 & 0 & 0 & 0 & 0 & 0 & 0 & 0 \\\\\n",
       "0 & 1 & 0 & 0 & 0 & 0 & 0 & 0 & 0 & 0 & 0 & 0 & 0 & 0 & 0 \\\\\n",
       "0 & 0 & 1 & 0 & 0 & 0 & 0 & 0 & 0 & 0 & 0 & 0 & 0 & 0 & 0 \\\\\n",
       "0 & 0 & 0 & 1 & 0 & 0 & 0 & 0 & 0 & 0 & 0 & 0 & 0 & 0 & 0 \\\\\n",
       "0 & 0 & 0 & 0 & 1 & 0 & 0 & 0 & 0 & 0 & 0 & 0 & 0 & 0 & 0 \\\\\n",
       "0 & 0 & 0 & 0 & 0 & 1 & 0 & 0 & 0 & 0 & 0 & 0 & 0 & 0 & 0 \\\\\n",
       "0 & 0 & 0 & 0 & 0 & 0 & 1 & 0 & 0 & 0 & 0 & 0 & 0 & 0 & 0 \\\\\n",
       "0 & 0 & 0 & 0 & 0 & 0 & 0 & 1 & 0 & 0 & 0 & 0 & 0 & 0 & 0 \\\\\n",
       "0 & 0 & 0 & 0 & 0 & 0 & 0 & 0 & 1 & 0 & 0 & 0 & 0 & 0 & 0 \\\\\n",
       "0 & 0 & 0 & 0 & 0 & 0 & 0 & 0 & 0 & 1 & 0 & 0 & 0 & 0 & 0 \\\\\n",
       "0 & 0 & 0 & 0 & 0 & 0 & 0 & 0 & 0 & 0 & 1 & 0 & 0 & 0 & 0 \\\\\n",
       "0 & 0 & 0 & 0 & 0 & 0 & 0 & 0 & 0 & 0 & 0 & 1 & 0 & 0 & 0 \\\\\n",
       "0 & 0 & 0 & 0 & 0 & 0 & 0 & 0 & 0 & 0 & 0 & 0 & 1 & 0 & 0 \\\\\n",
       "0 & 0 & 0 & 0 & 0 & 0 & 0 & 0 & 0 & 0 & 0 & 0 & 0 & 1 & 0 \\\\\n",
       "0 & 0 & 0 & 0 & 0 & 0 & 0 & 0 & 0 & 0 & 0 & 0 & 0 & 0 & 1\n",
       "\\end{array}\\right)</script></html>"
      ],
      "text/plain": [
       "[1 0 0 0 0 0 0 0 0 0 0 0 0 0 0]\n",
       "[0 1 0 0 0 0 0 0 0 0 0 0 0 0 0]\n",
       "[0 0 1 0 0 0 0 0 0 0 0 0 0 0 0]\n",
       "[0 0 0 1 0 0 0 0 0 0 0 0 0 0 0]\n",
       "[0 0 0 0 1 0 0 0 0 0 0 0 0 0 0]\n",
       "[0 0 0 0 0 1 0 0 0 0 0 0 0 0 0]\n",
       "[0 0 0 0 0 0 1 0 0 0 0 0 0 0 0]\n",
       "[0 0 0 0 0 0 0 1 0 0 0 0 0 0 0]\n",
       "[0 0 0 0 0 0 0 0 1 0 0 0 0 0 0]\n",
       "[0 0 0 0 0 0 0 0 0 1 0 0 0 0 0]\n",
       "[0 0 0 0 0 0 0 0 0 0 1 0 0 0 0]\n",
       "[0 0 0 0 0 0 0 0 0 0 0 1 0 0 0]\n",
       "[0 0 0 0 0 0 0 0 0 0 0 0 1 0 0]\n",
       "[0 0 0 0 0 0 0 0 0 0 0 0 0 1 0]\n",
       "[0 0 0 0 0 0 0 0 0 0 0 0 0 0 1]"
      ]
     },
     "metadata": {},
     "output_type": "display_data"
    },
    {
     "data": {
      "text/html": [
       "<html><script type=\"math/tex; mode=display\">\\newcommand{\\Bold}[1]{\\mathbf{#1}}\\left(\\begin{array}{rrrrrrrrrrrrrrr}\n",
       "0 & 1 & 0 & 0 & 0 & 0 & 0 & 0 & 0 & 0 & 0 & 0 & 0 & 0 & 0 \\\\\n",
       "1 & 0 & 0 & 0 & 0 & 0 & 0 & 0 & 0 & 0 & 0 & 0 & 0 & 0 & 0 \\\\\n",
       "0 & 0 & 0 & 1 & 0 & 0 & 0 & 0 & 0 & 0 & 0 & 0 & 0 & 0 & 0 \\\\\n",
       "0 & 0 & 1 & 0 & 0 & 0 & 0 & 0 & 0 & 0 & 0 & 0 & 0 & 0 & 0 \\\\\n",
       "0 & 0 & 0 & 0 & 0 & 1 & 0 & 0 & 0 & 0 & 0 & 0 & 0 & 0 & 0 \\\\\n",
       "0 & 0 & 0 & 0 & 1 & 0 & 0 & 0 & 0 & 0 & 0 & 0 & 0 & 0 & 0 \\\\\n",
       "0 & 0 & 0 & 0 & 0 & 0 & 1 & 0 & 0 & 0 & 0 & 0 & 0 & 0 & 0 \\\\\n",
       "0 & 0 & 0 & 0 & 0 & 0 & 0 & 1 & 0 & 0 & 0 & 0 & 0 & 0 & 0 \\\\\n",
       "0 & 0 & 0 & 0 & 0 & 0 & 0 & 0 & 1 & 0 & 0 & 0 & 0 & 0 & 0 \\\\\n",
       "0 & 0 & 0 & 0 & 0 & 0 & 0 & 0 & 0 & 0 & 1 & 0 & 0 & 0 & 0 \\\\\n",
       "0 & 0 & 0 & 0 & 0 & 0 & 0 & 0 & 0 & 1 & 0 & 0 & 0 & 0 & 0 \\\\\n",
       "0 & 0 & 0 & 0 & 0 & 0 & 0 & 0 & 0 & 0 & 0 & 0 & 1 & 0 & 0 \\\\\n",
       "0 & 0 & 0 & 0 & 0 & 0 & 0 & 0 & 0 & 0 & 0 & 1 & 0 & 0 & 0 \\\\\n",
       "0 & 0 & 0 & 0 & 0 & 0 & 0 & 0 & 0 & 0 & 0 & 0 & 0 & 0 & 1 \\\\\n",
       "0 & 0 & 0 & 0 & 0 & 0 & 0 & 0 & 0 & 0 & 0 & 0 & 0 & 1 & 0\n",
       "\\end{array}\\right)</script></html>"
      ],
      "text/plain": [
       "[0 1 0 0 0 0 0 0 0 0 0 0 0 0 0]\n",
       "[1 0 0 0 0 0 0 0 0 0 0 0 0 0 0]\n",
       "[0 0 0 1 0 0 0 0 0 0 0 0 0 0 0]\n",
       "[0 0 1 0 0 0 0 0 0 0 0 0 0 0 0]\n",
       "[0 0 0 0 0 1 0 0 0 0 0 0 0 0 0]\n",
       "[0 0 0 0 1 0 0 0 0 0 0 0 0 0 0]\n",
       "[0 0 0 0 0 0 1 0 0 0 0 0 0 0 0]\n",
       "[0 0 0 0 0 0 0 1 0 0 0 0 0 0 0]\n",
       "[0 0 0 0 0 0 0 0 1 0 0 0 0 0 0]\n",
       "[0 0 0 0 0 0 0 0 0 0 1 0 0 0 0]\n",
       "[0 0 0 0 0 0 0 0 0 1 0 0 0 0 0]\n",
       "[0 0 0 0 0 0 0 0 0 0 0 0 1 0 0]\n",
       "[0 0 0 0 0 0 0 0 0 0 0 1 0 0 0]\n",
       "[0 0 0 0 0 0 0 0 0 0 0 0 0 0 1]\n",
       "[0 0 0 0 0 0 0 0 0 0 0 0 0 1 0]"
      ]
     },
     "metadata": {},
     "output_type": "display_data"
    },
    {
     "data": {
      "text/html": [
       "<html><script type=\"math/tex; mode=display\">\\newcommand{\\Bold}[1]{\\mathbf{#1}}\\left(\\begin{array}{rrrrrrrrrrrrrrr}\n",
       "0 & 0 & 1 & 0 & 0 & 0 & 0 & 0 & 0 & 0 & 0 & 0 & 0 & 0 & 0 \\\\\n",
       "0 & 0 & 0 & 1 & 0 & 0 & 0 & 0 & 0 & 0 & 0 & 0 & 0 & 0 & 0 \\\\\n",
       "0 & 0 & 0 & 0 & 1 & 0 & 0 & 0 & 0 & 0 & 0 & 0 & 0 & 0 & 0 \\\\\n",
       "0 & 0 & 0 & 0 & 0 & 1 & 0 & 0 & 0 & 0 & 0 & 0 & 0 & 0 & 0 \\\\\n",
       "1 & 0 & 0 & 0 & 0 & 0 & 0 & 0 & 0 & 0 & 0 & 0 & 0 & 0 & 0 \\\\\n",
       "0 & 1 & 0 & 0 & 0 & 0 & 0 & 0 & 0 & 0 & 0 & 0 & 0 & 0 & 0 \\\\\n",
       "0 & 0 & 0 & 0 & 0 & 0 & 0 & 0 & 1 & 0 & 0 & 0 & 0 & 0 & 0 \\\\\n",
       "0 & 0 & 0 & 0 & 0 & 0 & 1 & 0 & 0 & 0 & 0 & 0 & 0 & 0 & 0 \\\\\n",
       "0 & 0 & 0 & 0 & 0 & 0 & 0 & 1 & 0 & 0 & 0 & 0 & 0 & 0 & 0 \\\\\n",
       "0 & 0 & 0 & 0 & 0 & 0 & 0 & 0 & 0 & 0 & 0 & \\frac{1}{2} & -\\frac{1}{2} & \\frac{1}{2} & \\frac{1}{2} \\\\\n",
       "0 & 0 & 0 & 0 & 0 & 0 & 0 & 0 & 0 & 0 & 0 & -\\frac{1}{2} & \\frac{1}{2} & \\frac{1}{2} & \\frac{1}{2} \\\\\n",
       "0 & 0 & 0 & 0 & 0 & 0 & 0 & 0 & 0 & \\frac{1}{2} & \\frac{1}{2} & 0 & 0 & \\frac{1}{2} & -\\frac{1}{2} \\\\\n",
       "0 & 0 & 0 & 0 & 0 & 0 & 0 & 0 & 0 & \\frac{1}{2} & \\frac{1}{2} & 0 & 0 & -\\frac{1}{2} & \\frac{1}{2} \\\\\n",
       "0 & 0 & 0 & 0 & 0 & 0 & 0 & 0 & 0 & \\frac{1}{2} & -\\frac{1}{2} & \\frac{1}{2} & \\frac{1}{2} & 0 & 0 \\\\\n",
       "0 & 0 & 0 & 0 & 0 & 0 & 0 & 0 & 0 & -\\frac{1}{2} & \\frac{1}{2} & \\frac{1}{2} & \\frac{1}{2} & 0 & 0\n",
       "\\end{array}\\right)</script></html>"
      ],
      "text/plain": [
       "[   0    0    1    0    0    0    0    0    0    0    0    0    0    0    0]\n",
       "[   0    0    0    1    0    0    0    0    0    0    0    0    0    0    0]\n",
       "[   0    0    0    0    1    0    0    0    0    0    0    0    0    0    0]\n",
       "[   0    0    0    0    0    1    0    0    0    0    0    0    0    0    0]\n",
       "[   1    0    0    0    0    0    0    0    0    0    0    0    0    0    0]\n",
       "[   0    1    0    0    0    0    0    0    0    0    0    0    0    0    0]\n",
       "[   0    0    0    0    0    0    0    0    1    0    0    0    0    0    0]\n",
       "[   0    0    0    0    0    0    1    0    0    0    0    0    0    0    0]\n",
       "[   0    0    0    0    0    0    0    1    0    0    0    0    0    0    0]\n",
       "[   0    0    0    0    0    0    0    0    0    0    0  1/2 -1/2  1/2  1/2]\n",
       "[   0    0    0    0    0    0    0    0    0    0    0 -1/2  1/2  1/2  1/2]\n",
       "[   0    0    0    0    0    0    0    0    0  1/2  1/2    0    0  1/2 -1/2]\n",
       "[   0    0    0    0    0    0    0    0    0  1/2  1/2    0    0 -1/2  1/2]\n",
       "[   0    0    0    0    0    0    0    0    0  1/2 -1/2  1/2  1/2    0    0]\n",
       "[   0    0    0    0    0    0    0    0    0 -1/2  1/2  1/2  1/2    0    0]"
      ]
     },
     "metadata": {},
     "output_type": "display_data"
    },
    {
     "data": {
      "text/html": [
       "<html><script type=\"math/tex; mode=display\">\\newcommand{\\Bold}[1]{\\mathbf{#1}}\\left(\\begin{array}{rrrrrrrrrrrrrrr}\n",
       "0 & 0 & 0 & 1 & 0 & 0 & 0 & 0 & 0 & 0 & 0 & 0 & 0 & 0 & 0 \\\\\n",
       "0 & 0 & 1 & 0 & 0 & 0 & 0 & 0 & 0 & 0 & 0 & 0 & 0 & 0 & 0 \\\\\n",
       "0 & 0 & 0 & 0 & 0 & 1 & 0 & 0 & 0 & 0 & 0 & 0 & 0 & 0 & 0 \\\\\n",
       "0 & 0 & 0 & 0 & 1 & 0 & 0 & 0 & 0 & 0 & 0 & 0 & 0 & 0 & 0 \\\\\n",
       "0 & 1 & 0 & 0 & 0 & 0 & 0 & 0 & 0 & 0 & 0 & 0 & 0 & 0 & 0 \\\\\n",
       "1 & 0 & 0 & 0 & 0 & 0 & 0 & 0 & 0 & 0 & 0 & 0 & 0 & 0 & 0 \\\\\n",
       "0 & 0 & 0 & 0 & 0 & 0 & 0 & 0 & 1 & 0 & 0 & 0 & 0 & 0 & 0 \\\\\n",
       "0 & 0 & 0 & 0 & 0 & 0 & 1 & 0 & 0 & 0 & 0 & 0 & 0 & 0 & 0 \\\\\n",
       "0 & 0 & 0 & 0 & 0 & 0 & 0 & 1 & 0 & 0 & 0 & 0 & 0 & 0 & 0 \\\\\n",
       "0 & 0 & 0 & 0 & 0 & 0 & 0 & 0 & 0 & 0 & 0 & -\\frac{1}{2} & \\frac{1}{2} & \\frac{1}{2} & \\frac{1}{2} \\\\\n",
       "0 & 0 & 0 & 0 & 0 & 0 & 0 & 0 & 0 & 0 & 0 & \\frac{1}{2} & -\\frac{1}{2} & \\frac{1}{2} & \\frac{1}{2} \\\\\n",
       "0 & 0 & 0 & 0 & 0 & 0 & 0 & 0 & 0 & \\frac{1}{2} & \\frac{1}{2} & 0 & 0 & -\\frac{1}{2} & \\frac{1}{2} \\\\\n",
       "0 & 0 & 0 & 0 & 0 & 0 & 0 & 0 & 0 & \\frac{1}{2} & \\frac{1}{2} & 0 & 0 & \\frac{1}{2} & -\\frac{1}{2} \\\\\n",
       "0 & 0 & 0 & 0 & 0 & 0 & 0 & 0 & 0 & -\\frac{1}{2} & \\frac{1}{2} & \\frac{1}{2} & \\frac{1}{2} & 0 & 0 \\\\\n",
       "0 & 0 & 0 & 0 & 0 & 0 & 0 & 0 & 0 & \\frac{1}{2} & -\\frac{1}{2} & \\frac{1}{2} & \\frac{1}{2} & 0 & 0\n",
       "\\end{array}\\right)</script></html>"
      ],
      "text/plain": [
       "[   0    0    0    1    0    0    0    0    0    0    0    0    0    0    0]\n",
       "[   0    0    1    0    0    0    0    0    0    0    0    0    0    0    0]\n",
       "[   0    0    0    0    0    1    0    0    0    0    0    0    0    0    0]\n",
       "[   0    0    0    0    1    0    0    0    0    0    0    0    0    0    0]\n",
       "[   0    1    0    0    0    0    0    0    0    0    0    0    0    0    0]\n",
       "[   1    0    0    0    0    0    0    0    0    0    0    0    0    0    0]\n",
       "[   0    0    0    0    0    0    0    0    1    0    0    0    0    0    0]\n",
       "[   0    0    0    0    0    0    1    0    0    0    0    0    0    0    0]\n",
       "[   0    0    0    0    0    0    0    1    0    0    0    0    0    0    0]\n",
       "[   0    0    0    0    0    0    0    0    0    0    0 -1/2  1/2  1/2  1/2]\n",
       "[   0    0    0    0    0    0    0    0    0    0    0  1/2 -1/2  1/2  1/2]\n",
       "[   0    0    0    0    0    0    0    0    0  1/2  1/2    0    0 -1/2  1/2]\n",
       "[   0    0    0    0    0    0    0    0    0  1/2  1/2    0    0  1/2 -1/2]\n",
       "[   0    0    0    0    0    0    0    0    0 -1/2  1/2  1/2  1/2    0    0]\n",
       "[   0    0    0    0    0    0    0    0    0  1/2 -1/2  1/2  1/2    0    0]"
      ]
     },
     "metadata": {},
     "output_type": "display_data"
    },
    {
     "data": {
      "text/html": [
       "<html><script type=\"math/tex; mode=display\">\\newcommand{\\Bold}[1]{\\mathbf{#1}}\\left(\\begin{array}{rrrrrrrrrrrrrrr}\n",
       "0 & 0 & 0 & 0 & 1 & 0 & 0 & 0 & 0 & 0 & 0 & 0 & 0 & 0 & 0 \\\\\n",
       "0 & 0 & 0 & 0 & 0 & 1 & 0 & 0 & 0 & 0 & 0 & 0 & 0 & 0 & 0 \\\\\n",
       "1 & 0 & 0 & 0 & 0 & 0 & 0 & 0 & 0 & 0 & 0 & 0 & 0 & 0 & 0 \\\\\n",
       "0 & 1 & 0 & 0 & 0 & 0 & 0 & 0 & 0 & 0 & 0 & 0 & 0 & 0 & 0 \\\\\n",
       "0 & 0 & 1 & 0 & 0 & 0 & 0 & 0 & 0 & 0 & 0 & 0 & 0 & 0 & 0 \\\\\n",
       "0 & 0 & 0 & 1 & 0 & 0 & 0 & 0 & 0 & 0 & 0 & 0 & 0 & 0 & 0 \\\\\n",
       "0 & 0 & 0 & 0 & 0 & 0 & 0 & 1 & 0 & 0 & 0 & 0 & 0 & 0 & 0 \\\\\n",
       "0 & 0 & 0 & 0 & 0 & 0 & 0 & 0 & 1 & 0 & 0 & 0 & 0 & 0 & 0 \\\\\n",
       "0 & 0 & 0 & 0 & 0 & 0 & 1 & 0 & 0 & 0 & 0 & 0 & 0 & 0 & 0 \\\\\n",
       "0 & 0 & 0 & 0 & 0 & 0 & 0 & 0 & 0 & 0 & 0 & \\frac{1}{2} & \\frac{1}{2} & \\frac{1}{2} & -\\frac{1}{2} \\\\\n",
       "0 & 0 & 0 & 0 & 0 & 0 & 0 & 0 & 0 & 0 & 0 & \\frac{1}{2} & \\frac{1}{2} & -\\frac{1}{2} & \\frac{1}{2} \\\\\n",
       "0 & 0 & 0 & 0 & 0 & 0 & 0 & 0 & 0 & \\frac{1}{2} & -\\frac{1}{2} & 0 & 0 & \\frac{1}{2} & \\frac{1}{2} \\\\\n",
       "0 & 0 & 0 & 0 & 0 & 0 & 0 & 0 & 0 & -\\frac{1}{2} & \\frac{1}{2} & 0 & 0 & \\frac{1}{2} & \\frac{1}{2} \\\\\n",
       "0 & 0 & 0 & 0 & 0 & 0 & 0 & 0 & 0 & \\frac{1}{2} & \\frac{1}{2} & \\frac{1}{2} & -\\frac{1}{2} & 0 & 0 \\\\\n",
       "0 & 0 & 0 & 0 & 0 & 0 & 0 & 0 & 0 & \\frac{1}{2} & \\frac{1}{2} & -\\frac{1}{2} & \\frac{1}{2} & 0 & 0\n",
       "\\end{array}\\right)</script></html>"
      ],
      "text/plain": [
       "[   0    0    0    0    1    0    0    0    0    0    0    0    0    0    0]\n",
       "[   0    0    0    0    0    1    0    0    0    0    0    0    0    0    0]\n",
       "[   1    0    0    0    0    0    0    0    0    0    0    0    0    0    0]\n",
       "[   0    1    0    0    0    0    0    0    0    0    0    0    0    0    0]\n",
       "[   0    0    1    0    0    0    0    0    0    0    0    0    0    0    0]\n",
       "[   0    0    0    1    0    0    0    0    0    0    0    0    0    0    0]\n",
       "[   0    0    0    0    0    0    0    1    0    0    0    0    0    0    0]\n",
       "[   0    0    0    0    0    0    0    0    1    0    0    0    0    0    0]\n",
       "[   0    0    0    0    0    0    1    0    0    0    0    0    0    0    0]\n",
       "[   0    0    0    0    0    0    0    0    0    0    0  1/2  1/2  1/2 -1/2]\n",
       "[   0    0    0    0    0    0    0    0    0    0    0  1/2  1/2 -1/2  1/2]\n",
       "[   0    0    0    0    0    0    0    0    0  1/2 -1/2    0    0  1/2  1/2]\n",
       "[   0    0    0    0    0    0    0    0    0 -1/2  1/2    0    0  1/2  1/2]\n",
       "[   0    0    0    0    0    0    0    0    0  1/2  1/2  1/2 -1/2    0    0]\n",
       "[   0    0    0    0    0    0    0    0    0  1/2  1/2 -1/2  1/2    0    0]"
      ]
     },
     "metadata": {},
     "output_type": "display_data"
    },
    {
     "data": {
      "text/html": [
       "<html><script type=\"math/tex; mode=display\">\\newcommand{\\Bold}[1]{\\mathbf{#1}}\\left(\\begin{array}{rrrrrrrrrrrrrrr}\n",
       "0 & 0 & 0 & 0 & 0 & 1 & 0 & 0 & 0 & 0 & 0 & 0 & 0 & 0 & 0 \\\\\n",
       "0 & 0 & 0 & 0 & 1 & 0 & 0 & 0 & 0 & 0 & 0 & 0 & 0 & 0 & 0 \\\\\n",
       "0 & 1 & 0 & 0 & 0 & 0 & 0 & 0 & 0 & 0 & 0 & 0 & 0 & 0 & 0 \\\\\n",
       "1 & 0 & 0 & 0 & 0 & 0 & 0 & 0 & 0 & 0 & 0 & 0 & 0 & 0 & 0 \\\\\n",
       "0 & 0 & 0 & 1 & 0 & 0 & 0 & 0 & 0 & 0 & 0 & 0 & 0 & 0 & 0 \\\\\n",
       "0 & 0 & 1 & 0 & 0 & 0 & 0 & 0 & 0 & 0 & 0 & 0 & 0 & 0 & 0 \\\\\n",
       "0 & 0 & 0 & 0 & 0 & 0 & 0 & 1 & 0 & 0 & 0 & 0 & 0 & 0 & 0 \\\\\n",
       "0 & 0 & 0 & 0 & 0 & 0 & 0 & 0 & 1 & 0 & 0 & 0 & 0 & 0 & 0 \\\\\n",
       "0 & 0 & 0 & 0 & 0 & 0 & 1 & 0 & 0 & 0 & 0 & 0 & 0 & 0 & 0 \\\\\n",
       "0 & 0 & 0 & 0 & 0 & 0 & 0 & 0 & 0 & 0 & 0 & \\frac{1}{2} & \\frac{1}{2} & -\\frac{1}{2} & \\frac{1}{2} \\\\\n",
       "0 & 0 & 0 & 0 & 0 & 0 & 0 & 0 & 0 & 0 & 0 & \\frac{1}{2} & \\frac{1}{2} & \\frac{1}{2} & -\\frac{1}{2} \\\\\n",
       "0 & 0 & 0 & 0 & 0 & 0 & 0 & 0 & 0 & -\\frac{1}{2} & \\frac{1}{2} & 0 & 0 & \\frac{1}{2} & \\frac{1}{2} \\\\\n",
       "0 & 0 & 0 & 0 & 0 & 0 & 0 & 0 & 0 & \\frac{1}{2} & -\\frac{1}{2} & 0 & 0 & \\frac{1}{2} & \\frac{1}{2} \\\\\n",
       "0 & 0 & 0 & 0 & 0 & 0 & 0 & 0 & 0 & \\frac{1}{2} & \\frac{1}{2} & -\\frac{1}{2} & \\frac{1}{2} & 0 & 0 \\\\\n",
       "0 & 0 & 0 & 0 & 0 & 0 & 0 & 0 & 0 & \\frac{1}{2} & \\frac{1}{2} & \\frac{1}{2} & -\\frac{1}{2} & 0 & 0\n",
       "\\end{array}\\right)</script></html>"
      ],
      "text/plain": [
       "[   0    0    0    0    0    1    0    0    0    0    0    0    0    0    0]\n",
       "[   0    0    0    0    1    0    0    0    0    0    0    0    0    0    0]\n",
       "[   0    1    0    0    0    0    0    0    0    0    0    0    0    0    0]\n",
       "[   1    0    0    0    0    0    0    0    0    0    0    0    0    0    0]\n",
       "[   0    0    0    1    0    0    0    0    0    0    0    0    0    0    0]\n",
       "[   0    0    1    0    0    0    0    0    0    0    0    0    0    0    0]\n",
       "[   0    0    0    0    0    0    0    1    0    0    0    0    0    0    0]\n",
       "[   0    0    0    0    0    0    0    0    1    0    0    0    0    0    0]\n",
       "[   0    0    0    0    0    0    1    0    0    0    0    0    0    0    0]\n",
       "[   0    0    0    0    0    0    0    0    0    0    0  1/2  1/2 -1/2  1/2]\n",
       "[   0    0    0    0    0    0    0    0    0    0    0  1/2  1/2  1/2 -1/2]\n",
       "[   0    0    0    0    0    0    0    0    0 -1/2  1/2    0    0  1/2  1/2]\n",
       "[   0    0    0    0    0    0    0    0    0  1/2 -1/2    0    0  1/2  1/2]\n",
       "[   0    0    0    0    0    0    0    0    0  1/2  1/2 -1/2  1/2    0    0]\n",
       "[   0    0    0    0    0    0    0    0    0  1/2  1/2  1/2 -1/2    0    0]"
      ]
     },
     "metadata": {},
     "output_type": "display_data"
    },
    {
     "data": {
      "text/html": [
       "<html><script type=\"math/tex; mode=display\">\\newcommand{\\Bold}[1]{\\mathbf{#1}}\\left(\\begin{array}{rrrrrrrrrrrrrrr}\n",
       "0 & 0 & 0 & 0 & 0 & 0 & 1 & 0 & 0 & 0 & 0 & 0 & 0 & 0 & 0 \\\\\n",
       "0 & 0 & 0 & 0 & 0 & 0 & 1 & 0 & 0 & 0 & 0 & 0 & 0 & 0 & 0 \\\\\n",
       "0 & 0 & 0 & 0 & 0 & 0 & 0 & 0 & 1 & 0 & 0 & 0 & 0 & 0 & 0 \\\\\n",
       "0 & 0 & 0 & 0 & 0 & 0 & 0 & 0 & 1 & 0 & 0 & 0 & 0 & 0 & 0 \\\\\n",
       "0 & 0 & 0 & 0 & 0 & 0 & 0 & 1 & 0 & 0 & 0 & 0 & 0 & 0 & 0 \\\\\n",
       "0 & 0 & 0 & 0 & 0 & 0 & 0 & 1 & 0 & 0 & 0 & 0 & 0 & 0 & 0 \\\\\n",
       "0 & 0 & 1 & 1 & 0 & 0 & 0 & 1 & 0 & 0 & 0 & 0 & 0 & 0 & 0 \\\\\n",
       "1 & 1 & 0 & 0 & 0 & 0 & 0 & 0 & 1 & 0 & 0 & 0 & 0 & 0 & 0 \\\\\n",
       "0 & 0 & 0 & 0 & 1 & 1 & 1 & 0 & 0 & 0 & 0 & 0 & 0 & 0 & 0 \\\\\n",
       "0 & 0 & 0 & 0 & 0 & 0 & 0 & 0 & 0 & 0 & 0 & 1 & 1 & 0 & 0 \\\\\n",
       "0 & 0 & 0 & 0 & 0 & 0 & 0 & 0 & 0 & 0 & 0 & 1 & 1 & 0 & 0 \\\\\n",
       "0 & 0 & 0 & 0 & 0 & 0 & 0 & 0 & 0 & 0 & 0 & 0 & 0 & 1 & 1 \\\\\n",
       "0 & 0 & 0 & 0 & 0 & 0 & 0 & 0 & 0 & 0 & 0 & 0 & 0 & 1 & 1 \\\\\n",
       "0 & 0 & 0 & 0 & 0 & 0 & 0 & 0 & 0 & 1 & 1 & 0 & 0 & 0 & 0 \\\\\n",
       "0 & 0 & 0 & 0 & 0 & 0 & 0 & 0 & 0 & 1 & 1 & 0 & 0 & 0 & 0\n",
       "\\end{array}\\right)</script></html>"
      ],
      "text/plain": [
       "[0 0 0 0 0 0 1 0 0 0 0 0 0 0 0]\n",
       "[0 0 0 0 0 0 1 0 0 0 0 0 0 0 0]\n",
       "[0 0 0 0 0 0 0 0 1 0 0 0 0 0 0]\n",
       "[0 0 0 0 0 0 0 0 1 0 0 0 0 0 0]\n",
       "[0 0 0 0 0 0 0 1 0 0 0 0 0 0 0]\n",
       "[0 0 0 0 0 0 0 1 0 0 0 0 0 0 0]\n",
       "[0 0 1 1 0 0 0 1 0 0 0 0 0 0 0]\n",
       "[1 1 0 0 0 0 0 0 1 0 0 0 0 0 0]\n",
       "[0 0 0 0 1 1 1 0 0 0 0 0 0 0 0]\n",
       "[0 0 0 0 0 0 0 0 0 0 0 1 1 0 0]\n",
       "[0 0 0 0 0 0 0 0 0 0 0 1 1 0 0]\n",
       "[0 0 0 0 0 0 0 0 0 0 0 0 0 1 1]\n",
       "[0 0 0 0 0 0 0 0 0 0 0 0 0 1 1]\n",
       "[0 0 0 0 0 0 0 0 0 1 1 0 0 0 0]\n",
       "[0 0 0 0 0 0 0 0 0 1 1 0 0 0 0]"
      ]
     },
     "metadata": {},
     "output_type": "display_data"
    },
    {
     "data": {
      "text/html": [
       "<html><script type=\"math/tex; mode=display\">\\newcommand{\\Bold}[1]{\\mathbf{#1}}\\left(\\begin{array}{rrrrrrrrrrrrrrr}\n",
       "0 & 0 & 0 & 0 & 0 & 0 & 0 & 1 & 0 & 0 & 0 & 0 & 0 & 0 & 0 \\\\\n",
       "0 & 0 & 0 & 0 & 0 & 0 & 0 & 1 & 0 & 0 & 0 & 0 & 0 & 0 & 0 \\\\\n",
       "0 & 0 & 0 & 0 & 0 & 0 & 1 & 0 & 0 & 0 & 0 & 0 & 0 & 0 & 0 \\\\\n",
       "0 & 0 & 0 & 0 & 0 & 0 & 1 & 0 & 0 & 0 & 0 & 0 & 0 & 0 & 0 \\\\\n",
       "0 & 0 & 0 & 0 & 0 & 0 & 0 & 0 & 1 & 0 & 0 & 0 & 0 & 0 & 0 \\\\\n",
       "0 & 0 & 0 & 0 & 0 & 0 & 0 & 0 & 1 & 0 & 0 & 0 & 0 & 0 & 0 \\\\\n",
       "1 & 1 & 0 & 0 & 0 & 0 & 0 & 0 & 1 & 0 & 0 & 0 & 0 & 0 & 0 \\\\\n",
       "0 & 0 & 0 & 0 & 1 & 1 & 1 & 0 & 0 & 0 & 0 & 0 & 0 & 0 & 0 \\\\\n",
       "0 & 0 & 1 & 1 & 0 & 0 & 0 & 1 & 0 & 0 & 0 & 0 & 0 & 0 & 0 \\\\\n",
       "0 & 0 & 0 & 0 & 0 & 0 & 0 & 0 & 0 & 0 & 0 & 0 & 0 & 1 & 1 \\\\\n",
       "0 & 0 & 0 & 0 & 0 & 0 & 0 & 0 & 0 & 0 & 0 & 0 & 0 & 1 & 1 \\\\\n",
       "0 & 0 & 0 & 0 & 0 & 0 & 0 & 0 & 0 & 1 & 1 & 0 & 0 & 0 & 0 \\\\\n",
       "0 & 0 & 0 & 0 & 0 & 0 & 0 & 0 & 0 & 1 & 1 & 0 & 0 & 0 & 0 \\\\\n",
       "0 & 0 & 0 & 0 & 0 & 0 & 0 & 0 & 0 & 0 & 0 & 1 & 1 & 0 & 0 \\\\\n",
       "0 & 0 & 0 & 0 & 0 & 0 & 0 & 0 & 0 & 0 & 0 & 1 & 1 & 0 & 0\n",
       "\\end{array}\\right)</script></html>"
      ],
      "text/plain": [
       "[0 0 0 0 0 0 0 1 0 0 0 0 0 0 0]\n",
       "[0 0 0 0 0 0 0 1 0 0 0 0 0 0 0]\n",
       "[0 0 0 0 0 0 1 0 0 0 0 0 0 0 0]\n",
       "[0 0 0 0 0 0 1 0 0 0 0 0 0 0 0]\n",
       "[0 0 0 0 0 0 0 0 1 0 0 0 0 0 0]\n",
       "[0 0 0 0 0 0 0 0 1 0 0 0 0 0 0]\n",
       "[1 1 0 0 0 0 0 0 1 0 0 0 0 0 0]\n",
       "[0 0 0 0 1 1 1 0 0 0 0 0 0 0 0]\n",
       "[0 0 1 1 0 0 0 1 0 0 0 0 0 0 0]\n",
       "[0 0 0 0 0 0 0 0 0 0 0 0 0 1 1]\n",
       "[0 0 0 0 0 0 0 0 0 0 0 0 0 1 1]\n",
       "[0 0 0 0 0 0 0 0 0 1 1 0 0 0 0]\n",
       "[0 0 0 0 0 0 0 0 0 1 1 0 0 0 0]\n",
       "[0 0 0 0 0 0 0 0 0 0 0 1 1 0 0]\n",
       "[0 0 0 0 0 0 0 0 0 0 0 1 1 0 0]"
      ]
     },
     "metadata": {},
     "output_type": "display_data"
    },
    {
     "data": {
      "text/html": [
       "<html><script type=\"math/tex; mode=display\">\\newcommand{\\Bold}[1]{\\mathbf{#1}}\\left(\\begin{array}{rrrrrrrrrrrrrrr}\n",
       "0 & 0 & 0 & 0 & 0 & 0 & 0 & 0 & 1 & 0 & 0 & 0 & 0 & 0 & 0 \\\\\n",
       "0 & 0 & 0 & 0 & 0 & 0 & 0 & 0 & 1 & 0 & 0 & 0 & 0 & 0 & 0 \\\\\n",
       "0 & 0 & 0 & 0 & 0 & 0 & 0 & 1 & 0 & 0 & 0 & 0 & 0 & 0 & 0 \\\\\n",
       "0 & 0 & 0 & 0 & 0 & 0 & 0 & 1 & 0 & 0 & 0 & 0 & 0 & 0 & 0 \\\\\n",
       "0 & 0 & 0 & 0 & 0 & 0 & 1 & 0 & 0 & 0 & 0 & 0 & 0 & 0 & 0 \\\\\n",
       "0 & 0 & 0 & 0 & 0 & 0 & 1 & 0 & 0 & 0 & 0 & 0 & 0 & 0 & 0 \\\\\n",
       "0 & 0 & 0 & 0 & 1 & 1 & 1 & 0 & 0 & 0 & 0 & 0 & 0 & 0 & 0 \\\\\n",
       "0 & 0 & 1 & 1 & 0 & 0 & 0 & 1 & 0 & 0 & 0 & 0 & 0 & 0 & 0 \\\\\n",
       "1 & 1 & 0 & 0 & 0 & 0 & 0 & 0 & 1 & 0 & 0 & 0 & 0 & 0 & 0 \\\\\n",
       "0 & 0 & 0 & 0 & 0 & 0 & 0 & 0 & 0 & 1 & 1 & 0 & 0 & 0 & 0 \\\\\n",
       "0 & 0 & 0 & 0 & 0 & 0 & 0 & 0 & 0 & 1 & 1 & 0 & 0 & 0 & 0 \\\\\n",
       "0 & 0 & 0 & 0 & 0 & 0 & 0 & 0 & 0 & 0 & 0 & 1 & 1 & 0 & 0 \\\\\n",
       "0 & 0 & 0 & 0 & 0 & 0 & 0 & 0 & 0 & 0 & 0 & 1 & 1 & 0 & 0 \\\\\n",
       "0 & 0 & 0 & 0 & 0 & 0 & 0 & 0 & 0 & 0 & 0 & 0 & 0 & 1 & 1 \\\\\n",
       "0 & 0 & 0 & 0 & 0 & 0 & 0 & 0 & 0 & 0 & 0 & 0 & 0 & 1 & 1\n",
       "\\end{array}\\right)</script></html>"
      ],
      "text/plain": [
       "[0 0 0 0 0 0 0 0 1 0 0 0 0 0 0]\n",
       "[0 0 0 0 0 0 0 0 1 0 0 0 0 0 0]\n",
       "[0 0 0 0 0 0 0 1 0 0 0 0 0 0 0]\n",
       "[0 0 0 0 0 0 0 1 0 0 0 0 0 0 0]\n",
       "[0 0 0 0 0 0 1 0 0 0 0 0 0 0 0]\n",
       "[0 0 0 0 0 0 1 0 0 0 0 0 0 0 0]\n",
       "[0 0 0 0 1 1 1 0 0 0 0 0 0 0 0]\n",
       "[0 0 1 1 0 0 0 1 0 0 0 0 0 0 0]\n",
       "[1 1 0 0 0 0 0 0 1 0 0 0 0 0 0]\n",
       "[0 0 0 0 0 0 0 0 0 1 1 0 0 0 0]\n",
       "[0 0 0 0 0 0 0 0 0 1 1 0 0 0 0]\n",
       "[0 0 0 0 0 0 0 0 0 0 0 1 1 0 0]\n",
       "[0 0 0 0 0 0 0 0 0 0 0 1 1 0 0]\n",
       "[0 0 0 0 0 0 0 0 0 0 0 0 0 1 1]\n",
       "[0 0 0 0 0 0 0 0 0 0 0 0 0 1 1]"
      ]
     },
     "metadata": {},
     "output_type": "display_data"
    },
    {
     "data": {
      "text/html": [
       "<html><script type=\"math/tex; mode=display\">\\newcommand{\\Bold}[1]{\\mathbf{#1}}\\left(\\begin{array}{rrrrrrrrrrrrrrr}\n",
       "0 & 0 & 0 & 0 & 0 & 0 & 0 & 0 & 0 & 1 & 0 & 0 & 0 & 0 & 0 \\\\\n",
       "0 & 0 & 0 & 0 & 0 & 0 & 0 & 0 & 0 & 0 & 1 & 0 & 0 & 0 & 0 \\\\\n",
       "0 & 0 & 0 & 0 & 0 & 0 & 0 & 0 & 0 & 0 & 0 & \\frac{1}{2} & -\\frac{1}{2} & \\frac{1}{2} & \\frac{1}{2} \\\\\n",
       "0 & 0 & 0 & 0 & 0 & 0 & 0 & 0 & 0 & 0 & 0 & -\\frac{1}{2} & \\frac{1}{2} & \\frac{1}{2} & \\frac{1}{2} \\\\\n",
       "0 & 0 & 0 & 0 & 0 & 0 & 0 & 0 & 0 & 0 & 0 & \\frac{1}{2} & \\frac{1}{2} & \\frac{1}{2} & -\\frac{1}{2} \\\\\n",
       "0 & 0 & 0 & 0 & 0 & 0 & 0 & 0 & 0 & 0 & 0 & \\frac{1}{2} & \\frac{1}{2} & -\\frac{1}{2} & \\frac{1}{2} \\\\\n",
       "0 & 0 & 0 & 0 & 0 & 0 & 0 & 0 & 0 & 0 & 0 & 1 & 1 & 0 & 0 \\\\\n",
       "0 & 0 & 0 & 0 & 0 & 0 & 0 & 0 & 0 & 0 & 0 & 0 & 0 & 1 & 1 \\\\\n",
       "0 & 0 & 0 & 0 & 0 & 0 & 0 & 0 & 0 & 1 & 1 & 0 & 0 & 0 & 0 \\\\\n",
       "1 & 0 & 0 & 0 & 0 & 0 & 0 & 0 & 1 & 0 & 0 & 0 & 0 & 0 & 0 \\\\\n",
       "0 & 1 & 0 & 0 & 0 & 0 & 0 & 0 & 1 & 0 & 0 & 0 & 0 & 0 & 0 \\\\\n",
       "0 & 0 & \\frac{1}{2} & -\\frac{1}{2} & \\frac{1}{2} & \\frac{1}{2} & 1 & 0 & 0 & 0 & 0 & 0 & 0 & 0 & 0 \\\\\n",
       "0 & 0 & -\\frac{1}{2} & \\frac{1}{2} & \\frac{1}{2} & \\frac{1}{2} & 1 & 0 & 0 & 0 & 0 & 0 & 0 & 0 & 0 \\\\\n",
       "0 & 0 & \\frac{1}{2} & \\frac{1}{2} & \\frac{1}{2} & -\\frac{1}{2} & 0 & 1 & 0 & 0 & 0 & 0 & 0 & 0 & 0 \\\\\n",
       "0 & 0 & \\frac{1}{2} & \\frac{1}{2} & -\\frac{1}{2} & \\frac{1}{2} & 0 & 1 & 0 & 0 & 0 & 0 & 0 & 0 & 0\n",
       "\\end{array}\\right)</script></html>"
      ],
      "text/plain": [
       "[   0    0    0    0    0    0    0    0    0    1    0    0    0    0    0]\n",
       "[   0    0    0    0    0    0    0    0    0    0    1    0    0    0    0]\n",
       "[   0    0    0    0    0    0    0    0    0    0    0  1/2 -1/2  1/2  1/2]\n",
       "[   0    0    0    0    0    0    0    0    0    0    0 -1/2  1/2  1/2  1/2]\n",
       "[   0    0    0    0    0    0    0    0    0    0    0  1/2  1/2  1/2 -1/2]\n",
       "[   0    0    0    0    0    0    0    0    0    0    0  1/2  1/2 -1/2  1/2]\n",
       "[   0    0    0    0    0    0    0    0    0    0    0    1    1    0    0]\n",
       "[   0    0    0    0    0    0    0    0    0    0    0    0    0    1    1]\n",
       "[   0    0    0    0    0    0    0    0    0    1    1    0    0    0    0]\n",
       "[   1    0    0    0    0    0    0    0    1    0    0    0    0    0    0]\n",
       "[   0    1    0    0    0    0    0    0    1    0    0    0    0    0    0]\n",
       "[   0    0  1/2 -1/2  1/2  1/2    1    0    0    0    0    0    0    0    0]\n",
       "[   0    0 -1/2  1/2  1/2  1/2    1    0    0    0    0    0    0    0    0]\n",
       "[   0    0  1/2  1/2  1/2 -1/2    0    1    0    0    0    0    0    0    0]\n",
       "[   0    0  1/2  1/2 -1/2  1/2    0    1    0    0    0    0    0    0    0]"
      ]
     },
     "metadata": {},
     "output_type": "display_data"
    },
    {
     "data": {
      "text/html": [
       "<html><script type=\"math/tex; mode=display\">\\newcommand{\\Bold}[1]{\\mathbf{#1}}\\left(\\begin{array}{rrrrrrrrrrrrrrr}\n",
       "0 & 0 & 0 & 0 & 0 & 0 & 0 & 0 & 0 & 0 & 1 & 0 & 0 & 0 & 0 \\\\\n",
       "0 & 0 & 0 & 0 & 0 & 0 & 0 & 0 & 0 & 1 & 0 & 0 & 0 & 0 & 0 \\\\\n",
       "0 & 0 & 0 & 0 & 0 & 0 & 0 & 0 & 0 & 0 & 0 & -\\frac{1}{2} & \\frac{1}{2} & \\frac{1}{2} & \\frac{1}{2} \\\\\n",
       "0 & 0 & 0 & 0 & 0 & 0 & 0 & 0 & 0 & 0 & 0 & \\frac{1}{2} & -\\frac{1}{2} & \\frac{1}{2} & \\frac{1}{2} \\\\\n",
       "0 & 0 & 0 & 0 & 0 & 0 & 0 & 0 & 0 & 0 & 0 & \\frac{1}{2} & \\frac{1}{2} & -\\frac{1}{2} & \\frac{1}{2} \\\\\n",
       "0 & 0 & 0 & 0 & 0 & 0 & 0 & 0 & 0 & 0 & 0 & \\frac{1}{2} & \\frac{1}{2} & \\frac{1}{2} & -\\frac{1}{2} \\\\\n",
       "0 & 0 & 0 & 0 & 0 & 0 & 0 & 0 & 0 & 0 & 0 & 1 & 1 & 0 & 0 \\\\\n",
       "0 & 0 & 0 & 0 & 0 & 0 & 0 & 0 & 0 & 0 & 0 & 0 & 0 & 1 & 1 \\\\\n",
       "0 & 0 & 0 & 0 & 0 & 0 & 0 & 0 & 0 & 1 & 1 & 0 & 0 & 0 & 0 \\\\\n",
       "0 & 1 & 0 & 0 & 0 & 0 & 0 & 0 & 1 & 0 & 0 & 0 & 0 & 0 & 0 \\\\\n",
       "1 & 0 & 0 & 0 & 0 & 0 & 0 & 0 & 1 & 0 & 0 & 0 & 0 & 0 & 0 \\\\\n",
       "0 & 0 & -\\frac{1}{2} & \\frac{1}{2} & \\frac{1}{2} & \\frac{1}{2} & 1 & 0 & 0 & 0 & 0 & 0 & 0 & 0 & 0 \\\\\n",
       "0 & 0 & \\frac{1}{2} & -\\frac{1}{2} & \\frac{1}{2} & \\frac{1}{2} & 1 & 0 & 0 & 0 & 0 & 0 & 0 & 0 & 0 \\\\\n",
       "0 & 0 & \\frac{1}{2} & \\frac{1}{2} & -\\frac{1}{2} & \\frac{1}{2} & 0 & 1 & 0 & 0 & 0 & 0 & 0 & 0 & 0 \\\\\n",
       "0 & 0 & \\frac{1}{2} & \\frac{1}{2} & \\frac{1}{2} & -\\frac{1}{2} & 0 & 1 & 0 & 0 & 0 & 0 & 0 & 0 & 0\n",
       "\\end{array}\\right)</script></html>"
      ],
      "text/plain": [
       "[   0    0    0    0    0    0    0    0    0    0    1    0    0    0    0]\n",
       "[   0    0    0    0    0    0    0    0    0    1    0    0    0    0    0]\n",
       "[   0    0    0    0    0    0    0    0    0    0    0 -1/2  1/2  1/2  1/2]\n",
       "[   0    0    0    0    0    0    0    0    0    0    0  1/2 -1/2  1/2  1/2]\n",
       "[   0    0    0    0    0    0    0    0    0    0    0  1/2  1/2 -1/2  1/2]\n",
       "[   0    0    0    0    0    0    0    0    0    0    0  1/2  1/2  1/2 -1/2]\n",
       "[   0    0    0    0    0    0    0    0    0    0    0    1    1    0    0]\n",
       "[   0    0    0    0    0    0    0    0    0    0    0    0    0    1    1]\n",
       "[   0    0    0    0    0    0    0    0    0    1    1    0    0    0    0]\n",
       "[   0    1    0    0    0    0    0    0    1    0    0    0    0    0    0]\n",
       "[   1    0    0    0    0    0    0    0    1    0    0    0    0    0    0]\n",
       "[   0    0 -1/2  1/2  1/2  1/2    1    0    0    0    0    0    0    0    0]\n",
       "[   0    0  1/2 -1/2  1/2  1/2    1    0    0    0    0    0    0    0    0]\n",
       "[   0    0  1/2  1/2 -1/2  1/2    0    1    0    0    0    0    0    0    0]\n",
       "[   0    0  1/2  1/2  1/2 -1/2    0    1    0    0    0    0    0    0    0]"
      ]
     },
     "metadata": {},
     "output_type": "display_data"
    },
    {
     "data": {
      "text/html": [
       "<html><script type=\"math/tex; mode=display\">\\newcommand{\\Bold}[1]{\\mathbf{#1}}\\left(\\begin{array}{rrrrrrrrrrrrrrr}\n",
       "0 & 0 & 0 & 0 & 0 & 0 & 0 & 0 & 0 & 0 & 0 & 1 & 0 & 0 & 0 \\\\\n",
       "0 & 0 & 0 & 0 & 0 & 0 & 0 & 0 & 0 & 0 & 0 & 0 & 1 & 0 & 0 \\\\\n",
       "0 & 0 & 0 & 0 & 0 & 0 & 0 & 0 & 0 & \\frac{1}{2} & \\frac{1}{2} & 0 & 0 & \\frac{1}{2} & -\\frac{1}{2} \\\\\n",
       "0 & 0 & 0 & 0 & 0 & 0 & 0 & 0 & 0 & \\frac{1}{2} & \\frac{1}{2} & 0 & 0 & -\\frac{1}{2} & \\frac{1}{2} \\\\\n",
       "0 & 0 & 0 & 0 & 0 & 0 & 0 & 0 & 0 & \\frac{1}{2} & -\\frac{1}{2} & 0 & 0 & \\frac{1}{2} & \\frac{1}{2} \\\\\n",
       "0 & 0 & 0 & 0 & 0 & 0 & 0 & 0 & 0 & -\\frac{1}{2} & \\frac{1}{2} & 0 & 0 & \\frac{1}{2} & \\frac{1}{2} \\\\\n",
       "0 & 0 & 0 & 0 & 0 & 0 & 0 & 0 & 0 & 0 & 0 & 0 & 0 & 1 & 1 \\\\\n",
       "0 & 0 & 0 & 0 & 0 & 0 & 0 & 0 & 0 & 1 & 1 & 0 & 0 & 0 & 0 \\\\\n",
       "0 & 0 & 0 & 0 & 0 & 0 & 0 & 0 & 0 & 0 & 0 & 1 & 1 & 0 & 0 \\\\\n",
       "0 & 0 & \\frac{1}{2} & -\\frac{1}{2} & \\frac{1}{2} & \\frac{1}{2} & 1 & 0 & 0 & 0 & 0 & 0 & 0 & 0 & 0 \\\\\n",
       "0 & 0 & -\\frac{1}{2} & \\frac{1}{2} & \\frac{1}{2} & \\frac{1}{2} & 1 & 0 & 0 & 0 & 0 & 0 & 0 & 0 & 0 \\\\\n",
       "0 & 0 & \\frac{1}{2} & \\frac{1}{2} & \\frac{1}{2} & -\\frac{1}{2} & 0 & 1 & 0 & 0 & 0 & 0 & 0 & 0 & 0 \\\\\n",
       "0 & 0 & \\frac{1}{2} & \\frac{1}{2} & -\\frac{1}{2} & \\frac{1}{2} & 0 & 1 & 0 & 0 & 0 & 0 & 0 & 0 & 0 \\\\\n",
       "1 & 0 & 0 & 0 & 0 & 0 & 0 & 0 & 1 & 0 & 0 & 0 & 0 & 0 & 0 \\\\\n",
       "0 & 1 & 0 & 0 & 0 & 0 & 0 & 0 & 1 & 0 & 0 & 0 & 0 & 0 & 0\n",
       "\\end{array}\\right)</script></html>"
      ],
      "text/plain": [
       "[   0    0    0    0    0    0    0    0    0    0    0    1    0    0    0]\n",
       "[   0    0    0    0    0    0    0    0    0    0    0    0    1    0    0]\n",
       "[   0    0    0    0    0    0    0    0    0  1/2  1/2    0    0  1/2 -1/2]\n",
       "[   0    0    0    0    0    0    0    0    0  1/2  1/2    0    0 -1/2  1/2]\n",
       "[   0    0    0    0    0    0    0    0    0  1/2 -1/2    0    0  1/2  1/2]\n",
       "[   0    0    0    0    0    0    0    0    0 -1/2  1/2    0    0  1/2  1/2]\n",
       "[   0    0    0    0    0    0    0    0    0    0    0    0    0    1    1]\n",
       "[   0    0    0    0    0    0    0    0    0    1    1    0    0    0    0]\n",
       "[   0    0    0    0    0    0    0    0    0    0    0    1    1    0    0]\n",
       "[   0    0  1/2 -1/2  1/2  1/2    1    0    0    0    0    0    0    0    0]\n",
       "[   0    0 -1/2  1/2  1/2  1/2    1    0    0    0    0    0    0    0    0]\n",
       "[   0    0  1/2  1/2  1/2 -1/2    0    1    0    0    0    0    0    0    0]\n",
       "[   0    0  1/2  1/2 -1/2  1/2    0    1    0    0    0    0    0    0    0]\n",
       "[   1    0    0    0    0    0    0    0    1    0    0    0    0    0    0]\n",
       "[   0    1    0    0    0    0    0    0    1    0    0    0    0    0    0]"
      ]
     },
     "metadata": {},
     "output_type": "display_data"
    },
    {
     "data": {
      "text/html": [
       "<html><script type=\"math/tex; mode=display\">\\newcommand{\\Bold}[1]{\\mathbf{#1}}\\left(\\begin{array}{rrrrrrrrrrrrrrr}\n",
       "0 & 0 & 0 & 0 & 0 & 0 & 0 & 0 & 0 & 0 & 0 & 0 & 1 & 0 & 0 \\\\\n",
       "0 & 0 & 0 & 0 & 0 & 0 & 0 & 0 & 0 & 0 & 0 & 1 & 0 & 0 & 0 \\\\\n",
       "0 & 0 & 0 & 0 & 0 & 0 & 0 & 0 & 0 & \\frac{1}{2} & \\frac{1}{2} & 0 & 0 & -\\frac{1}{2} & \\frac{1}{2} \\\\\n",
       "0 & 0 & 0 & 0 & 0 & 0 & 0 & 0 & 0 & \\frac{1}{2} & \\frac{1}{2} & 0 & 0 & \\frac{1}{2} & -\\frac{1}{2} \\\\\n",
       "0 & 0 & 0 & 0 & 0 & 0 & 0 & 0 & 0 & -\\frac{1}{2} & \\frac{1}{2} & 0 & 0 & \\frac{1}{2} & \\frac{1}{2} \\\\\n",
       "0 & 0 & 0 & 0 & 0 & 0 & 0 & 0 & 0 & \\frac{1}{2} & -\\frac{1}{2} & 0 & 0 & \\frac{1}{2} & \\frac{1}{2} \\\\\n",
       "0 & 0 & 0 & 0 & 0 & 0 & 0 & 0 & 0 & 0 & 0 & 0 & 0 & 1 & 1 \\\\\n",
       "0 & 0 & 0 & 0 & 0 & 0 & 0 & 0 & 0 & 1 & 1 & 0 & 0 & 0 & 0 \\\\\n",
       "0 & 0 & 0 & 0 & 0 & 0 & 0 & 0 & 0 & 0 & 0 & 1 & 1 & 0 & 0 \\\\\n",
       "0 & 0 & -\\frac{1}{2} & \\frac{1}{2} & \\frac{1}{2} & \\frac{1}{2} & 1 & 0 & 0 & 0 & 0 & 0 & 0 & 0 & 0 \\\\\n",
       "0 & 0 & \\frac{1}{2} & -\\frac{1}{2} & \\frac{1}{2} & \\frac{1}{2} & 1 & 0 & 0 & 0 & 0 & 0 & 0 & 0 & 0 \\\\\n",
       "0 & 0 & \\frac{1}{2} & \\frac{1}{2} & -\\frac{1}{2} & \\frac{1}{2} & 0 & 1 & 0 & 0 & 0 & 0 & 0 & 0 & 0 \\\\\n",
       "0 & 0 & \\frac{1}{2} & \\frac{1}{2} & \\frac{1}{2} & -\\frac{1}{2} & 0 & 1 & 0 & 0 & 0 & 0 & 0 & 0 & 0 \\\\\n",
       "0 & 1 & 0 & 0 & 0 & 0 & 0 & 0 & 1 & 0 & 0 & 0 & 0 & 0 & 0 \\\\\n",
       "1 & 0 & 0 & 0 & 0 & 0 & 0 & 0 & 1 & 0 & 0 & 0 & 0 & 0 & 0\n",
       "\\end{array}\\right)</script></html>"
      ],
      "text/plain": [
       "[   0    0    0    0    0    0    0    0    0    0    0    0    1    0    0]\n",
       "[   0    0    0    0    0    0    0    0    0    0    0    1    0    0    0]\n",
       "[   0    0    0    0    0    0    0    0    0  1/2  1/2    0    0 -1/2  1/2]\n",
       "[   0    0    0    0    0    0    0    0    0  1/2  1/2    0    0  1/2 -1/2]\n",
       "[   0    0    0    0    0    0    0    0    0 -1/2  1/2    0    0  1/2  1/2]\n",
       "[   0    0    0    0    0    0    0    0    0  1/2 -1/2    0    0  1/2  1/2]\n",
       "[   0    0    0    0    0    0    0    0    0    0    0    0    0    1    1]\n",
       "[   0    0    0    0    0    0    0    0    0    1    1    0    0    0    0]\n",
       "[   0    0    0    0    0    0    0    0    0    0    0    1    1    0    0]\n",
       "[   0    0 -1/2  1/2  1/2  1/2    1    0    0    0    0    0    0    0    0]\n",
       "[   0    0  1/2 -1/2  1/2  1/2    1    0    0    0    0    0    0    0    0]\n",
       "[   0    0  1/2  1/2 -1/2  1/2    0    1    0    0    0    0    0    0    0]\n",
       "[   0    0  1/2  1/2  1/2 -1/2    0    1    0    0    0    0    0    0    0]\n",
       "[   0    1    0    0    0    0    0    0    1    0    0    0    0    0    0]\n",
       "[   1    0    0    0    0    0    0    0    1    0    0    0    0    0    0]"
      ]
     },
     "metadata": {},
     "output_type": "display_data"
    },
    {
     "data": {
      "text/html": [
       "<html><script type=\"math/tex; mode=display\">\\newcommand{\\Bold}[1]{\\mathbf{#1}}\\left(\\begin{array}{rrrrrrrrrrrrrrr}\n",
       "0 & 0 & 0 & 0 & 0 & 0 & 0 & 0 & 0 & 0 & 0 & 0 & 0 & 1 & 0 \\\\\n",
       "0 & 0 & 0 & 0 & 0 & 0 & 0 & 0 & 0 & 0 & 0 & 0 & 0 & 0 & 1 \\\\\n",
       "0 & 0 & 0 & 0 & 0 & 0 & 0 & 0 & 0 & \\frac{1}{2} & -\\frac{1}{2} & \\frac{1}{2} & \\frac{1}{2} & 0 & 0 \\\\\n",
       "0 & 0 & 0 & 0 & 0 & 0 & 0 & 0 & 0 & -\\frac{1}{2} & \\frac{1}{2} & \\frac{1}{2} & \\frac{1}{2} & 0 & 0 \\\\\n",
       "0 & 0 & 0 & 0 & 0 & 0 & 0 & 0 & 0 & \\frac{1}{2} & \\frac{1}{2} & \\frac{1}{2} & -\\frac{1}{2} & 0 & 0 \\\\\n",
       "0 & 0 & 0 & 0 & 0 & 0 & 0 & 0 & 0 & \\frac{1}{2} & \\frac{1}{2} & -\\frac{1}{2} & \\frac{1}{2} & 0 & 0 \\\\\n",
       "0 & 0 & 0 & 0 & 0 & 0 & 0 & 0 & 0 & 1 & 1 & 0 & 0 & 0 & 0 \\\\\n",
       "0 & 0 & 0 & 0 & 0 & 0 & 0 & 0 & 0 & 0 & 0 & 1 & 1 & 0 & 0 \\\\\n",
       "0 & 0 & 0 & 0 & 0 & 0 & 0 & 0 & 0 & 0 & 0 & 0 & 0 & 1 & 1 \\\\\n",
       "0 & 0 & \\frac{1}{2} & \\frac{1}{2} & \\frac{1}{2} & -\\frac{1}{2} & 0 & 1 & 0 & 0 & 0 & 0 & 0 & 0 & 0 \\\\\n",
       "0 & 0 & \\frac{1}{2} & \\frac{1}{2} & -\\frac{1}{2} & \\frac{1}{2} & 0 & 1 & 0 & 0 & 0 & 0 & 0 & 0 & 0 \\\\\n",
       "1 & 0 & 0 & 0 & 0 & 0 & 0 & 0 & 1 & 0 & 0 & 0 & 0 & 0 & 0 \\\\\n",
       "0 & 1 & 0 & 0 & 0 & 0 & 0 & 0 & 1 & 0 & 0 & 0 & 0 & 0 & 0 \\\\\n",
       "0 & 0 & \\frac{1}{2} & -\\frac{1}{2} & \\frac{1}{2} & \\frac{1}{2} & 1 & 0 & 0 & 0 & 0 & 0 & 0 & 0 & 0 \\\\\n",
       "0 & 0 & -\\frac{1}{2} & \\frac{1}{2} & \\frac{1}{2} & \\frac{1}{2} & 1 & 0 & 0 & 0 & 0 & 0 & 0 & 0 & 0\n",
       "\\end{array}\\right)</script></html>"
      ],
      "text/plain": [
       "[   0    0    0    0    0    0    0    0    0    0    0    0    0    1    0]\n",
       "[   0    0    0    0    0    0    0    0    0    0    0    0    0    0    1]\n",
       "[   0    0    0    0    0    0    0    0    0  1/2 -1/2  1/2  1/2    0    0]\n",
       "[   0    0    0    0    0    0    0    0    0 -1/2  1/2  1/2  1/2    0    0]\n",
       "[   0    0    0    0    0    0    0    0    0  1/2  1/2  1/2 -1/2    0    0]\n",
       "[   0    0    0    0    0    0    0    0    0  1/2  1/2 -1/2  1/2    0    0]\n",
       "[   0    0    0    0    0    0    0    0    0    1    1    0    0    0    0]\n",
       "[   0    0    0    0    0    0    0    0    0    0    0    1    1    0    0]\n",
       "[   0    0    0    0    0    0    0    0    0    0    0    0    0    1    1]\n",
       "[   0    0  1/2  1/2  1/2 -1/2    0    1    0    0    0    0    0    0    0]\n",
       "[   0    0  1/2  1/2 -1/2  1/2    0    1    0    0    0    0    0    0    0]\n",
       "[   1    0    0    0    0    0    0    0    1    0    0    0    0    0    0]\n",
       "[   0    1    0    0    0    0    0    0    1    0    0    0    0    0    0]\n",
       "[   0    0  1/2 -1/2  1/2  1/2    1    0    0    0    0    0    0    0    0]\n",
       "[   0    0 -1/2  1/2  1/2  1/2    1    0    0    0    0    0    0    0    0]"
      ]
     },
     "metadata": {},
     "output_type": "display_data"
    },
    {
     "data": {
      "text/html": [
       "<html><script type=\"math/tex; mode=display\">\\newcommand{\\Bold}[1]{\\mathbf{#1}}\\left(\\begin{array}{rrrrrrrrrrrrrrr}\n",
       "0 & 0 & 0 & 0 & 0 & 0 & 0 & 0 & 0 & 0 & 0 & 0 & 0 & 0 & 1 \\\\\n",
       "0 & 0 & 0 & 0 & 0 & 0 & 0 & 0 & 0 & 0 & 0 & 0 & 0 & 1 & 0 \\\\\n",
       "0 & 0 & 0 & 0 & 0 & 0 & 0 & 0 & 0 & -\\frac{1}{2} & \\frac{1}{2} & \\frac{1}{2} & \\frac{1}{2} & 0 & 0 \\\\\n",
       "0 & 0 & 0 & 0 & 0 & 0 & 0 & 0 & 0 & \\frac{1}{2} & -\\frac{1}{2} & \\frac{1}{2} & \\frac{1}{2} & 0 & 0 \\\\\n",
       "0 & 0 & 0 & 0 & 0 & 0 & 0 & 0 & 0 & \\frac{1}{2} & \\frac{1}{2} & -\\frac{1}{2} & \\frac{1}{2} & 0 & 0 \\\\\n",
       "0 & 0 & 0 & 0 & 0 & 0 & 0 & 0 & 0 & \\frac{1}{2} & \\frac{1}{2} & \\frac{1}{2} & -\\frac{1}{2} & 0 & 0 \\\\\n",
       "0 & 0 & 0 & 0 & 0 & 0 & 0 & 0 & 0 & 1 & 1 & 0 & 0 & 0 & 0 \\\\\n",
       "0 & 0 & 0 & 0 & 0 & 0 & 0 & 0 & 0 & 0 & 0 & 1 & 1 & 0 & 0 \\\\\n",
       "0 & 0 & 0 & 0 & 0 & 0 & 0 & 0 & 0 & 0 & 0 & 0 & 0 & 1 & 1 \\\\\n",
       "0 & 0 & \\frac{1}{2} & \\frac{1}{2} & -\\frac{1}{2} & \\frac{1}{2} & 0 & 1 & 0 & 0 & 0 & 0 & 0 & 0 & 0 \\\\\n",
       "0 & 0 & \\frac{1}{2} & \\frac{1}{2} & \\frac{1}{2} & -\\frac{1}{2} & 0 & 1 & 0 & 0 & 0 & 0 & 0 & 0 & 0 \\\\\n",
       "0 & 1 & 0 & 0 & 0 & 0 & 0 & 0 & 1 & 0 & 0 & 0 & 0 & 0 & 0 \\\\\n",
       "1 & 0 & 0 & 0 & 0 & 0 & 0 & 0 & 1 & 0 & 0 & 0 & 0 & 0 & 0 \\\\\n",
       "0 & 0 & -\\frac{1}{2} & \\frac{1}{2} & \\frac{1}{2} & \\frac{1}{2} & 1 & 0 & 0 & 0 & 0 & 0 & 0 & 0 & 0 \\\\\n",
       "0 & 0 & \\frac{1}{2} & -\\frac{1}{2} & \\frac{1}{2} & \\frac{1}{2} & 1 & 0 & 0 & 0 & 0 & 0 & 0 & 0 & 0\n",
       "\\end{array}\\right)</script></html>"
      ],
      "text/plain": [
       "[   0    0    0    0    0    0    0    0    0    0    0    0    0    0    1]\n",
       "[   0    0    0    0    0    0    0    0    0    0    0    0    0    1    0]\n",
       "[   0    0    0    0    0    0    0    0    0 -1/2  1/2  1/2  1/2    0    0]\n",
       "[   0    0    0    0    0    0    0    0    0  1/2 -1/2  1/2  1/2    0    0]\n",
       "[   0    0    0    0    0    0    0    0    0  1/2  1/2 -1/2  1/2    0    0]\n",
       "[   0    0    0    0    0    0    0    0    0  1/2  1/2  1/2 -1/2    0    0]\n",
       "[   0    0    0    0    0    0    0    0    0    1    1    0    0    0    0]\n",
       "[   0    0    0    0    0    0    0    0    0    0    0    1    1    0    0]\n",
       "[   0    0    0    0    0    0    0    0    0    0    0    0    0    1    1]\n",
       "[   0    0  1/2  1/2 -1/2  1/2    0    1    0    0    0    0    0    0    0]\n",
       "[   0    0  1/2  1/2  1/2 -1/2    0    1    0    0    0    0    0    0    0]\n",
       "[   0    1    0    0    0    0    0    0    1    0    0    0    0    0    0]\n",
       "[   1    0    0    0    0    0    0    0    1    0    0    0    0    0    0]\n",
       "[   0    0 -1/2  1/2  1/2  1/2    1    0    0    0    0    0    0    0    0]\n",
       "[   0    0  1/2 -1/2  1/2  1/2    1    0    0    0    0    0    0    0    0]"
      ]
     },
     "metadata": {},
     "output_type": "display_data"
    }
   ],
   "source": [
    "ZC_n = 4*n + binomial(n,2)\n",
    "basis = [vector([0]*i + [1] + [0]*(ZC_n-1-i)) for i in range(ZC_n)]\n",
    "conj = [basis.index(C*b) for b in basis]\n",
    "show(conj)\n",
    "fusions = [matrix([[sum([S[i][r]*S[j][r]*S[conj[k]][r]/S[0][r] for r in range(ZC_n)]) for k in range(ZC_n)] for j in range(ZC_n)]) for i in range(ZC_n)]\n",
    "for N in fusions:\n",
    "    show(N)"
   ]
  },
  {
   "cell_type": "code",
   "execution_count": 374,
   "metadata": {},
   "outputs": [
    {
     "data": {
      "text/html": [
       "<html><script type=\"math/tex; mode=display\">\\newcommand{\\Bold}[1]{\\mathbf{#1}}\\left(\\begin{array}{rrrrrrrrrrrrrrr}\n",
       "1 & 0 & 0 & 0 & 0 & 0 & 0 & 0 & 0 & 0 & 0 & 0 & 0 & 0 & 0 \\\\\n",
       "0 & 1 & 0 & 0 & 0 & 0 & 0 & 0 & 0 & 0 & 0 & 0 & 0 & 0 & 0 \\\\\n",
       "0 & 0 & \\frac{1}{2} & \\frac{1}{2} & \\frac{1}{2} & -\\frac{1}{2} & 0 & 0 & 0 & 0 & 0 & 0 & 0 & 0 & 0 \\\\\n",
       "0 & 0 & \\frac{1}{2} & \\frac{1}{2} & -\\frac{1}{2} & \\frac{1}{2} & 0 & 0 & 0 & 0 & 0 & 0 & 0 & 0 & 0 \\\\\n",
       "0 & 0 & \\frac{1}{2} & -\\frac{1}{2} & \\frac{1}{2} & \\frac{1}{2} & 0 & 0 & 0 & 0 & 0 & 0 & 0 & 0 & 0 \\\\\n",
       "0 & 0 & -\\frac{1}{2} & \\frac{1}{2} & \\frac{1}{2} & \\frac{1}{2} & 0 & 0 & 0 & 0 & 0 & 0 & 0 & 0 & 0 \\\\\n",
       "0 & 0 & 0 & 0 & 0 & 0 & 1 & 0 & 0 & 0 & 0 & 0 & 0 & 0 & 0 \\\\\n",
       "0 & 0 & 0 & 0 & 0 & 0 & 0 & 1 & 0 & 0 & 0 & 0 & 0 & 0 & 0 \\\\\n",
       "0 & 0 & 0 & 0 & 0 & 0 & 0 & 0 & 1 & 0 & 0 & 0 & 0 & 0 & 0 \\\\\n",
       "0 & 0 & 0 & 0 & 0 & 0 & 0 & 0 & 0 & 1 & 0 & 0 & 0 & 0 & 0 \\\\\n",
       "0 & 0 & 0 & 0 & 0 & 0 & 0 & 0 & 0 & 0 & 1 & 0 & 0 & 0 & 0 \\\\\n",
       "0 & 0 & 0 & 0 & 0 & 0 & 0 & 0 & 0 & 0 & 0 & 0 & 0 & 1 & 0 \\\\\n",
       "0 & 0 & 0 & 0 & 0 & 0 & 0 & 0 & 0 & 0 & 0 & 0 & 0 & 0 & 1 \\\\\n",
       "0 & 0 & 0 & 0 & 0 & 0 & 0 & 0 & 0 & 0 & 0 & 1 & 0 & 0 & 0 \\\\\n",
       "0 & 0 & 0 & 0 & 0 & 0 & 0 & 0 & 0 & 0 & 0 & 0 & 1 & 0 & 0\n",
       "\\end{array}\\right)</script></html>"
      ],
      "text/plain": [
       "[   1    0    0    0    0    0    0    0    0    0    0    0    0    0    0]\n",
       "[   0    1    0    0    0    0    0    0    0    0    0    0    0    0    0]\n",
       "[   0    0  1/2  1/2  1/2 -1/2    0    0    0    0    0    0    0    0    0]\n",
       "[   0    0  1/2  1/2 -1/2  1/2    0    0    0    0    0    0    0    0    0]\n",
       "[   0    0  1/2 -1/2  1/2  1/2    0    0    0    0    0    0    0    0    0]\n",
       "[   0    0 -1/2  1/2  1/2  1/2    0    0    0    0    0    0    0    0    0]\n",
       "[   0    0    0    0    0    0    1    0    0    0    0    0    0    0    0]\n",
       "[   0    0    0    0    0    0    0    1    0    0    0    0    0    0    0]\n",
       "[   0    0    0    0    0    0    0    0    1    0    0    0    0    0    0]\n",
       "[   0    0    0    0    0    0    0    0    0    1    0    0    0    0    0]\n",
       "[   0    0    0    0    0    0    0    0    0    0    1    0    0    0    0]\n",
       "[   0    0    0    0    0    0    0    0    0    0    0    0    0    1    0]\n",
       "[   0    0    0    0    0    0    0    0    0    0    0    0    0    0    1]\n",
       "[   0    0    0    0    0    0    0    0    0    0    0    1    0    0    0]\n",
       "[   0    0    0    0    0    0    0    0    0    0    0    0    1    0    0]"
      ]
     },
     "metadata": {},
     "output_type": "display_data"
    }
   ],
   "source": [
    "show((S*T^(-1))^3)"
   ]
  },
  {
   "cell_type": "code",
   "execution_count": 40,
   "metadata": {},
   "outputs": [
    {
     "data": {
      "text/html": [
       "<html><script type=\"math/tex; mode=display\">\\newcommand{\\Bold}[1]{\\mathbf{#1}}\\left[\\frac{\\ZZ}{3\\ZZ} \\oplus \\frac{\\ZZ}{3\\ZZ}, \\left[\\left(3, 1, 2, 1\\right)\\right], \\left(\\begin{array}{rr}\n",
       "8 & 0 \\\\\n",
       "0 & 8\n",
       "\\end{array}\\right), \\zeta_{12}, 1\\right]</script></html>"
      ],
      "text/plain": [
       "[\n",
       "                                                                [8 0]\n",
       "Additive abelian group isomorphic to Z/3 + Z/3, [(3, 1, 2, 1)], [0 8],\n",
       "\n",
       "zeta12, 1\n",
       "]"
      ]
     },
     "metadata": {},
     "output_type": "display_data"
    }
   ],
   "source": [
    "ind = 42\n",
    "#Pick one of the TB Category input datas\n",
    "show(TB_data[ind])\n",
    "G, met, Q, z, sgn_tau = TB_data[ind]\n",
    "n = G.order()\n",
    "n3 = z.multiplicative_order()\n",
    "sqrt_n = 1\n",
    "for fac in factor(n.squarefree_part()):\n",
    "    if fac[0] == 2:\n",
    "        sqrt_n = z^(n3/8) + z^(7*n3/8)\n",
    "    else:\n",
    "        p = fac[0]\n",
    "        sqrt_n = sqrt_n * (1-z^(n3/4))/(1-z^(n3/4*legendre_symbol(-1,p))) * sum([legendre_symbol(i,p)*z^(n3*i/p) for i in range(p)])\n",
    "sqrt_n = sqrt_n * sqrt(n/n.squarefree_part())\n",
    "tau = sgn_tau * sqrt_n/n\n",
    "#GNN gauss\n",
    "#gauss = sqrt_n*sum([rho(g, Q) for g in G])/n\n",
    "#RTJ gauss\n",
    "gauss = sqrt_n*sum([rho(g, Q)^(-1) for g in G])/n"
   ]
  },
  {
   "cell_type": "code",
   "execution_count": 41,
   "metadata": {},
   "outputs": [
    {
     "name": "stdout",
     "output_type": "stream",
     "text": [
      "[(1, 0), (2, 1), (0, 0), (1, 2), (2, 0), (0, 2), (2, 2), (0, 1), (1, 1)]\n",
      "[]\n",
      "[(0, 0)]\n"
     ]
    }
   ],
   "source": [
    "H = list(Set([2*g for g in G]))\n",
    "print H\n",
    "quotient_gens = [g for g in G.gens() if g not in H]\n",
    "print quotient_gens\n",
    "coset_reps = [G.zero()] + [sum(K) for K in Set(quotient_gens).subsets()][1:]\n",
    "print coset_reps\n",
    "G_list = [c + h for c in coset_reps for h in H]"
   ]
  },
  {
   "cell_type": "code",
   "execution_count": 42,
   "metadata": {},
   "outputs": [
    {
     "data": {
      "text/html": [
       "<html><script type=\"math/tex; mode=display\">\\newcommand{\\Bold}[1]{\\mathbf{#1}}\\left[-\\zeta_{12}^{3}, \\zeta_{12}, \\zeta_{12}, \\zeta_{12}, \\zeta_{12}^{3} - \\zeta_{12}, \\zeta_{12}^{3} - \\zeta_{12}, \\zeta_{12}, \\zeta_{12}^{3} - \\zeta_{12}, \\zeta_{12}^{3} - \\zeta_{12}\\right]</script></html>"
      ],
      "text/plain": [
       "[-zeta12^3,\n",
       " zeta12,\n",
       " zeta12,\n",
       " zeta12,\n",
       " zeta12^3 - zeta12,\n",
       " zeta12^3 - zeta12,\n",
       " zeta12,\n",
       " zeta12^3 - zeta12,\n",
       " zeta12^3 - zeta12]"
      ]
     },
     "metadata": {},
     "output_type": "display_data"
    },
    {
     "data": {
      "text/html": [
       "<html><script type=\"math/tex; mode=display\">\\newcommand{\\Bold}[1]{\\mathbf{#1}}\\left[\\verb|(0,|\\phantom{\\verb!x!}\\verb|0)|\\right]</script></html>"
      ],
      "text/plain": [
       "[(0, 0)]"
      ]
     },
     "metadata": {},
     "output_type": "display_data"
    },
    {
     "data": {
      "text/html": [
       "<html><script type=\"math/tex; mode=display\">\\newcommand{\\Bold}[1]{\\mathbf{#1}}\\left[\\verb|(0,|\\phantom{\\verb!x!}\\verb|0)|, \\verb|(1,|\\phantom{\\verb!x!}\\verb|0)|, \\verb|(2,|\\phantom{\\verb!x!}\\verb|0)|, \\verb|(0,|\\phantom{\\verb!x!}\\verb|1)|, \\verb|(1,|\\phantom{\\verb!x!}\\verb|1)|, \\verb|(2,|\\phantom{\\verb!x!}\\verb|1)|, \\verb|(0,|\\phantom{\\verb!x!}\\verb|2)|, \\verb|(1,|\\phantom{\\verb!x!}\\verb|2)|, \\verb|(2,|\\phantom{\\verb!x!}\\verb|2)|\\right]</script></html>"
      ],
      "text/plain": [
       "[(0, 0), (1, 0), (2, 0), (0, 1), (1, 1), (2, 1), (0, 2), (1, 2), (2, 2)]"
      ]
     },
     "metadata": {},
     "output_type": "display_data"
    },
    {
     "data": {
      "text/html": [
       "<html><script type=\"math/tex; mode=display\">\\newcommand{\\Bold}[1]{\\mathbf{#1}}\\left[\\verb|(0,|\\phantom{\\verb!x!}\\verb|0)|, \\verb|(1,|\\phantom{\\verb!x!}\\verb|0)|, \\verb|(2,|\\phantom{\\verb!x!}\\verb|0)|, \\verb|(0,|\\phantom{\\verb!x!}\\verb|1)|, \\verb|(1,|\\phantom{\\verb!x!}\\verb|1)|, \\verb|(2,|\\phantom{\\verb!x!}\\verb|1)|, \\verb|(0,|\\phantom{\\verb!x!}\\verb|2)|, \\verb|(1,|\\phantom{\\verb!x!}\\verb|2)|, \\verb|(2,|\\phantom{\\verb!x!}\\verb|2)|\\right]</script></html>"
      ],
      "text/plain": [
       "[(0, 0), (1, 0), (2, 0), (0, 1), (1, 1), (2, 1), (0, 2), (1, 2), (2, 2)]"
      ]
     },
     "metadata": {},
     "output_type": "display_data"
    }
   ],
   "source": [
    "H = list(Set([2*g for g in G]))\n",
    "H.sort()\n",
    "quotient_gens = [g for g in G.gens() if g not in H]\n",
    "coset_reps = [G.zero()] + [sum(K) for K in Set(quotient_gens).subsets()][1:]\n",
    "#List elements of G such that they are grouped by cosets of {2g for g in G}\n",
    "G_list = [c + h for c in coset_reps for h in H]\n",
    "G_halves = zip(*[[g,2*g] for g in G_list])\n",
    "c_n = len(coset_reps)\n",
    "#Building the Deltas with correct +/- is tricky.  First, define them for the coset reps of G / {2g for g in G}\n",
    "#GNN Deltas\n",
    "#Delta_for_cos_reps = [(sgn_tau*rho(c, Q)^(-1)*gauss).nth_root(2) for c in coset_reps]\n",
    "#RTJ Deltas\n",
    "Delta_for_cos_reps = [(sgn_tau*rho(c, Q)*gauss).nth_root(2)^(-1) for c in coset_reps]\n",
    "#Then Delta_{2a+c} = Delta_c * chi(-a,a+c) where 2a in H.\n",
    "Delta = []\n",
    "for i in range(c_n):\n",
    "    D = Delta_for_cos_reps[i]\n",
    "    c = coset_reps[i]\n",
    "    for h in H:\n",
    "        #Need to divide h by 2, but Sage does not allow this in Z-modules.\n",
    "        a = G_halves[0][G_halves[1].index(h)]\n",
    "        Delta.append(D*chi(a,a+c,Q))\n",
    "show(Delta)\n",
    "show(coset_reps)\n",
    "show(H)\n",
    "show(G_list)"
   ]
  },
  {
   "cell_type": "code",
   "execution_count": 43,
   "metadata": {},
   "outputs": [
    {
     "data": {
      "text/html": [
       "<html><script type=\"math/tex; mode=display\">\\newcommand{\\Bold}[1]{\\mathbf{#1}}\\left(\\begin{array}{rrrrrrrrr}\n",
       "1 & 1 & 1 & 1 & 1 & 1 & 1 & 1 & 1 \\\\\n",
       "1 & 1 & 1 & 1 & 1 & 1 & 1 & 1 & 1 \\\\\n",
       "1 & 1 & 1 & 1 & 1 & 1 & 1 & 1 & 1 \\\\\n",
       "1 & 1 & 1 & 1 & 1 & 1 & 1 & 1 & 1 \\\\\n",
       "1 & 1 & 1 & 1 & 1 & 1 & 1 & 1 & 1 \\\\\n",
       "1 & 1 & 1 & 1 & 1 & 1 & 1 & 1 & 1 \\\\\n",
       "1 & 1 & 1 & 1 & 1 & 1 & 1 & 1 & 1 \\\\\n",
       "1 & 1 & 1 & 1 & 1 & 1 & 1 & 1 & 1 \\\\\n",
       "1 & 1 & 1 & 1 & 1 & 1 & 1 & 1 & 1\n",
       "\\end{array}\\right)</script></html>"
      ],
      "text/plain": [
       "[1 1 1 1 1 1 1 1 1]\n",
       "[1 1 1 1 1 1 1 1 1]\n",
       "[1 1 1 1 1 1 1 1 1]\n",
       "[1 1 1 1 1 1 1 1 1]\n",
       "[1 1 1 1 1 1 1 1 1]\n",
       "[1 1 1 1 1 1 1 1 1]\n",
       "[1 1 1 1 1 1 1 1 1]\n",
       "[1 1 1 1 1 1 1 1 1]\n",
       "[1 1 1 1 1 1 1 1 1]"
      ]
     },
     "metadata": {},
     "output_type": "display_data"
    }
   ],
   "source": [
    "def XZ_negation_fix(a,b, Q1, G_list1, Delta1):\n",
    "    j = G_list1.index(b)\n",
    "    k = G_list1.index(2*a+b)\n",
    "    return chi(-a,b+a,Q1)*Delta1[k]/Delta1[j]\n",
    "\n",
    "correction = []\n",
    "for a in G_list:\n",
    "    correction.append([])\n",
    "    for b in G_list:\n",
    "        correction[-1:][0].append(XZ_negation_fix(a,b, Q, G_list, Delta))\n",
    "show(matrix(correction))"
   ]
  },
  {
   "cell_type": "code",
   "execution_count": 44,
   "metadata": {},
   "outputs": [
    {
     "data": {
      "text/html": [
       "<html><script type=\"math/tex; mode=display\">\\newcommand{\\Bold}[1]{\\mathbf{#1}}\\left(\\begin{array}{rrrrrrrrrrrrrrrrrr}\n",
       "3 & 3 & 3 & 3 & 3 & 3 & 3 & 3 & 3 & 3 & 3 & 3 & 3 & 3 & 3 & 3 & 3 & 3 \\\\\n",
       "-3 & -3 & -3 & -3 & -3 & -3 & -3 & -3 & -3 & -3 & -3 & -3 & -3 & -3 & -3 & -3 & -3 & -3 \\\\\n",
       "3 & 3 & 3 \\zeta_{12}^{2} - 3 & 3 \\zeta_{12}^{2} - 3 & -3 \\zeta_{12}^{2} & -3 \\zeta_{12}^{2} & 3 & 3 & 3 \\zeta_{12}^{2} - 3 & 3 \\zeta_{12}^{2} - 3 & -3 \\zeta_{12}^{2} & -3 \\zeta_{12}^{2} & 3 & 3 & 3 \\zeta_{12}^{2} - 3 & 3 \\zeta_{12}^{2} - 3 & -3 \\zeta_{12}^{2} & -3 \\zeta_{12}^{2} \\\\\n",
       "-3 & -3 & -3 \\zeta_{12}^{2} + 3 & -3 \\zeta_{12}^{2} + 3 & 3 \\zeta_{12}^{2} & 3 \\zeta_{12}^{2} & -3 & -3 & -3 \\zeta_{12}^{2} + 3 & -3 \\zeta_{12}^{2} + 3 & 3 \\zeta_{12}^{2} & 3 \\zeta_{12}^{2} & -3 & -3 & -3 \\zeta_{12}^{2} + 3 & -3 \\zeta_{12}^{2} + 3 & 3 \\zeta_{12}^{2} & 3 \\zeta_{12}^{2} \\\\\n",
       "3 & 3 & -3 \\zeta_{12}^{2} & -3 \\zeta_{12}^{2} & 3 \\zeta_{12}^{2} - 3 & 3 \\zeta_{12}^{2} - 3 & 3 & 3 & -3 \\zeta_{12}^{2} & -3 \\zeta_{12}^{2} & 3 \\zeta_{12}^{2} - 3 & 3 \\zeta_{12}^{2} - 3 & 3 & 3 & -3 \\zeta_{12}^{2} & -3 \\zeta_{12}^{2} & 3 \\zeta_{12}^{2} - 3 & 3 \\zeta_{12}^{2} - 3 \\\\\n",
       "-3 & -3 & 3 \\zeta_{12}^{2} & 3 \\zeta_{12}^{2} & -3 \\zeta_{12}^{2} + 3 & -3 \\zeta_{12}^{2} + 3 & -3 & -3 & 3 \\zeta_{12}^{2} & 3 \\zeta_{12}^{2} & -3 \\zeta_{12}^{2} + 3 & -3 \\zeta_{12}^{2} + 3 & -3 & -3 & 3 \\zeta_{12}^{2} & 3 \\zeta_{12}^{2} & -3 \\zeta_{12}^{2} + 3 & -3 \\zeta_{12}^{2} + 3 \\\\\n",
       "3 & 3 & 3 & 3 & 3 & 3 & 3 \\zeta_{12}^{2} - 3 & 3 \\zeta_{12}^{2} - 3 & 3 \\zeta_{12}^{2} - 3 & 3 \\zeta_{12}^{2} - 3 & 3 \\zeta_{12}^{2} - 3 & 3 \\zeta_{12}^{2} - 3 & -3 \\zeta_{12}^{2} & -3 \\zeta_{12}^{2} & -3 \\zeta_{12}^{2} & -3 \\zeta_{12}^{2} & -3 \\zeta_{12}^{2} & -3 \\zeta_{12}^{2} \\\\\n",
       "-3 & -3 & -3 & -3 & -3 & -3 & -3 \\zeta_{12}^{2} + 3 & -3 \\zeta_{12}^{2} + 3 & -3 \\zeta_{12}^{2} + 3 & -3 \\zeta_{12}^{2} + 3 & -3 \\zeta_{12}^{2} + 3 & -3 \\zeta_{12}^{2} + 3 & 3 \\zeta_{12}^{2} & 3 \\zeta_{12}^{2} & 3 \\zeta_{12}^{2} & 3 \\zeta_{12}^{2} & 3 \\zeta_{12}^{2} & 3 \\zeta_{12}^{2} \\\\\n",
       "3 & 3 & 3 \\zeta_{12}^{2} - 3 & 3 \\zeta_{12}^{2} - 3 & -3 \\zeta_{12}^{2} & -3 \\zeta_{12}^{2} & 3 \\zeta_{12}^{2} - 3 & 3 \\zeta_{12}^{2} - 3 & -3 \\zeta_{12}^{2} & -3 \\zeta_{12}^{2} & 3 & 3 & -3 \\zeta_{12}^{2} & -3 \\zeta_{12}^{2} & 3 & 3 & 3 \\zeta_{12}^{2} - 3 & 3 \\zeta_{12}^{2} - 3 \\\\\n",
       "-3 & -3 & -3 \\zeta_{12}^{2} + 3 & -3 \\zeta_{12}^{2} + 3 & 3 \\zeta_{12}^{2} & 3 \\zeta_{12}^{2} & -3 \\zeta_{12}^{2} + 3 & -3 \\zeta_{12}^{2} + 3 & 3 \\zeta_{12}^{2} & 3 \\zeta_{12}^{2} & -3 & -3 & 3 \\zeta_{12}^{2} & 3 \\zeta_{12}^{2} & -3 & -3 & -3 \\zeta_{12}^{2} + 3 & -3 \\zeta_{12}^{2} + 3 \\\\\n",
       "3 & 3 & -3 \\zeta_{12}^{2} & -3 \\zeta_{12}^{2} & 3 \\zeta_{12}^{2} - 3 & 3 \\zeta_{12}^{2} - 3 & 3 \\zeta_{12}^{2} - 3 & 3 \\zeta_{12}^{2} - 3 & 3 & 3 & -3 \\zeta_{12}^{2} & -3 \\zeta_{12}^{2} & -3 \\zeta_{12}^{2} & -3 \\zeta_{12}^{2} & 3 \\zeta_{12}^{2} - 3 & 3 \\zeta_{12}^{2} - 3 & 3 & 3 \\\\\n",
       "-3 & -3 & 3 \\zeta_{12}^{2} & 3 \\zeta_{12}^{2} & -3 \\zeta_{12}^{2} + 3 & -3 \\zeta_{12}^{2} + 3 & -3 \\zeta_{12}^{2} + 3 & -3 \\zeta_{12}^{2} + 3 & -3 & -3 & 3 \\zeta_{12}^{2} & 3 \\zeta_{12}^{2} & 3 \\zeta_{12}^{2} & 3 \\zeta_{12}^{2} & -3 \\zeta_{12}^{2} + 3 & -3 \\zeta_{12}^{2} + 3 & -3 & -3 \\\\\n",
       "3 & 3 & 3 & 3 & 3 & 3 & -3 \\zeta_{12}^{2} & -3 \\zeta_{12}^{2} & -3 \\zeta_{12}^{2} & -3 \\zeta_{12}^{2} & -3 \\zeta_{12}^{2} & -3 \\zeta_{12}^{2} & 3 \\zeta_{12}^{2} - 3 & 3 \\zeta_{12}^{2} - 3 & 3 \\zeta_{12}^{2} - 3 & 3 \\zeta_{12}^{2} - 3 & 3 \\zeta_{12}^{2} - 3 & 3 \\zeta_{12}^{2} - 3 \\\\\n",
       "-3 & -3 & -3 & -3 & -3 & -3 & 3 \\zeta_{12}^{2} & 3 \\zeta_{12}^{2} & 3 \\zeta_{12}^{2} & 3 \\zeta_{12}^{2} & 3 \\zeta_{12}^{2} & 3 \\zeta_{12}^{2} & -3 \\zeta_{12}^{2} + 3 & -3 \\zeta_{12}^{2} + 3 & -3 \\zeta_{12}^{2} + 3 & -3 \\zeta_{12}^{2} + 3 & -3 \\zeta_{12}^{2} + 3 & -3 \\zeta_{12}^{2} + 3 \\\\\n",
       "3 & 3 & 3 \\zeta_{12}^{2} - 3 & 3 \\zeta_{12}^{2} - 3 & -3 \\zeta_{12}^{2} & -3 \\zeta_{12}^{2} & -3 \\zeta_{12}^{2} & -3 \\zeta_{12}^{2} & 3 & 3 & 3 \\zeta_{12}^{2} - 3 & 3 \\zeta_{12}^{2} - 3 & 3 \\zeta_{12}^{2} - 3 & 3 \\zeta_{12}^{2} - 3 & -3 \\zeta_{12}^{2} & -3 \\zeta_{12}^{2} & 3 & 3 \\\\\n",
       "-3 & -3 & -3 \\zeta_{12}^{2} + 3 & -3 \\zeta_{12}^{2} + 3 & 3 \\zeta_{12}^{2} & 3 \\zeta_{12}^{2} & 3 \\zeta_{12}^{2} & 3 \\zeta_{12}^{2} & -3 & -3 & -3 \\zeta_{12}^{2} + 3 & -3 \\zeta_{12}^{2} + 3 & -3 \\zeta_{12}^{2} + 3 & -3 \\zeta_{12}^{2} + 3 & 3 \\zeta_{12}^{2} & 3 \\zeta_{12}^{2} & -3 & -3 \\\\\n",
       "3 & 3 & -3 \\zeta_{12}^{2} & -3 \\zeta_{12}^{2} & 3 \\zeta_{12}^{2} - 3 & 3 \\zeta_{12}^{2} - 3 & -3 \\zeta_{12}^{2} & -3 \\zeta_{12}^{2} & 3 \\zeta_{12}^{2} - 3 & 3 \\zeta_{12}^{2} - 3 & 3 & 3 & 3 \\zeta_{12}^{2} - 3 & 3 \\zeta_{12}^{2} - 3 & 3 & 3 & -3 \\zeta_{12}^{2} & -3 \\zeta_{12}^{2} \\\\\n",
       "-3 & -3 & 3 \\zeta_{12}^{2} & 3 \\zeta_{12}^{2} & -3 \\zeta_{12}^{2} + 3 & -3 \\zeta_{12}^{2} + 3 & 3 \\zeta_{12}^{2} & 3 \\zeta_{12}^{2} & -3 \\zeta_{12}^{2} + 3 & -3 \\zeta_{12}^{2} + 3 & -3 & -3 & -3 \\zeta_{12}^{2} + 3 & -3 \\zeta_{12}^{2} + 3 & -3 & -3 & 3 \\zeta_{12}^{2} & 3 \\zeta_{12}^{2}\n",
       "\\end{array}\\right)</script></html>"
      ],
      "text/plain": [
       "[              3               3               3               3               3               3               3               3               3               3               3               3               3               3               3               3               3               3]\n",
       "[             -3              -3              -3              -3              -3              -3              -3              -3              -3              -3              -3              -3              -3              -3              -3              -3              -3              -3]\n",
       "[              3               3  3*zeta12^2 - 3  3*zeta12^2 - 3     -3*zeta12^2     -3*zeta12^2               3               3  3*zeta12^2 - 3  3*zeta12^2 - 3     -3*zeta12^2     -3*zeta12^2               3               3  3*zeta12^2 - 3  3*zeta12^2 - 3     -3*zeta12^2     -3*zeta12^2]\n",
       "[             -3              -3 -3*zeta12^2 + 3 -3*zeta12^2 + 3      3*zeta12^2      3*zeta12^2              -3              -3 -3*zeta12^2 + 3 -3*zeta12^2 + 3      3*zeta12^2      3*zeta12^2              -3              -3 -3*zeta12^2 + 3 -3*zeta12^2 + 3      3*zeta12^2      3*zeta12^2]\n",
       "[              3               3     -3*zeta12^2     -3*zeta12^2  3*zeta12^2 - 3  3*zeta12^2 - 3               3               3     -3*zeta12^2     -3*zeta12^2  3*zeta12^2 - 3  3*zeta12^2 - 3               3               3     -3*zeta12^2     -3*zeta12^2  3*zeta12^2 - 3  3*zeta12^2 - 3]\n",
       "[             -3              -3      3*zeta12^2      3*zeta12^2 -3*zeta12^2 + 3 -3*zeta12^2 + 3              -3              -3      3*zeta12^2      3*zeta12^2 -3*zeta12^2 + 3 -3*zeta12^2 + 3              -3              -3      3*zeta12^2      3*zeta12^2 -3*zeta12^2 + 3 -3*zeta12^2 + 3]\n",
       "[              3               3               3               3               3               3  3*zeta12^2 - 3  3*zeta12^2 - 3  3*zeta12^2 - 3  3*zeta12^2 - 3  3*zeta12^2 - 3  3*zeta12^2 - 3     -3*zeta12^2     -3*zeta12^2     -3*zeta12^2     -3*zeta12^2     -3*zeta12^2     -3*zeta12^2]\n",
       "[             -3              -3              -3              -3              -3              -3 -3*zeta12^2 + 3 -3*zeta12^2 + 3 -3*zeta12^2 + 3 -3*zeta12^2 + 3 -3*zeta12^2 + 3 -3*zeta12^2 + 3      3*zeta12^2      3*zeta12^2      3*zeta12^2      3*zeta12^2      3*zeta12^2      3*zeta12^2]\n",
       "[              3               3  3*zeta12^2 - 3  3*zeta12^2 - 3     -3*zeta12^2     -3*zeta12^2  3*zeta12^2 - 3  3*zeta12^2 - 3     -3*zeta12^2     -3*zeta12^2               3               3     -3*zeta12^2     -3*zeta12^2               3               3  3*zeta12^2 - 3  3*zeta12^2 - 3]\n",
       "[             -3              -3 -3*zeta12^2 + 3 -3*zeta12^2 + 3      3*zeta12^2      3*zeta12^2 -3*zeta12^2 + 3 -3*zeta12^2 + 3      3*zeta12^2      3*zeta12^2              -3              -3      3*zeta12^2      3*zeta12^2              -3              -3 -3*zeta12^2 + 3 -3*zeta12^2 + 3]\n",
       "[              3               3     -3*zeta12^2     -3*zeta12^2  3*zeta12^2 - 3  3*zeta12^2 - 3  3*zeta12^2 - 3  3*zeta12^2 - 3               3               3     -3*zeta12^2     -3*zeta12^2     -3*zeta12^2     -3*zeta12^2  3*zeta12^2 - 3  3*zeta12^2 - 3               3               3]\n",
       "[             -3              -3      3*zeta12^2      3*zeta12^2 -3*zeta12^2 + 3 -3*zeta12^2 + 3 -3*zeta12^2 + 3 -3*zeta12^2 + 3              -3              -3      3*zeta12^2      3*zeta12^2      3*zeta12^2      3*zeta12^2 -3*zeta12^2 + 3 -3*zeta12^2 + 3              -3              -3]\n",
       "[              3               3               3               3               3               3     -3*zeta12^2     -3*zeta12^2     -3*zeta12^2     -3*zeta12^2     -3*zeta12^2     -3*zeta12^2  3*zeta12^2 - 3  3*zeta12^2 - 3  3*zeta12^2 - 3  3*zeta12^2 - 3  3*zeta12^2 - 3  3*zeta12^2 - 3]\n",
       "[             -3              -3              -3              -3              -3              -3      3*zeta12^2      3*zeta12^2      3*zeta12^2      3*zeta12^2      3*zeta12^2      3*zeta12^2 -3*zeta12^2 + 3 -3*zeta12^2 + 3 -3*zeta12^2 + 3 -3*zeta12^2 + 3 -3*zeta12^2 + 3 -3*zeta12^2 + 3]\n",
       "[              3               3  3*zeta12^2 - 3  3*zeta12^2 - 3     -3*zeta12^2     -3*zeta12^2     -3*zeta12^2     -3*zeta12^2               3               3  3*zeta12^2 - 3  3*zeta12^2 - 3  3*zeta12^2 - 3  3*zeta12^2 - 3     -3*zeta12^2     -3*zeta12^2               3               3]\n",
       "[             -3              -3 -3*zeta12^2 + 3 -3*zeta12^2 + 3      3*zeta12^2      3*zeta12^2      3*zeta12^2      3*zeta12^2              -3              -3 -3*zeta12^2 + 3 -3*zeta12^2 + 3 -3*zeta12^2 + 3 -3*zeta12^2 + 3      3*zeta12^2      3*zeta12^2              -3              -3]\n",
       "[              3               3     -3*zeta12^2     -3*zeta12^2  3*zeta12^2 - 3  3*zeta12^2 - 3     -3*zeta12^2     -3*zeta12^2  3*zeta12^2 - 3  3*zeta12^2 - 3               3               3  3*zeta12^2 - 3  3*zeta12^2 - 3               3               3     -3*zeta12^2     -3*zeta12^2]\n",
       "[             -3              -3      3*zeta12^2      3*zeta12^2 -3*zeta12^2 + 3 -3*zeta12^2 + 3      3*zeta12^2      3*zeta12^2 -3*zeta12^2 + 3 -3*zeta12^2 + 3              -3              -3 -3*zeta12^2 + 3 -3*zeta12^2 + 3              -3              -3      3*zeta12^2      3*zeta12^2]"
      ]
     },
     "metadata": {},
     "output_type": "display_data"
    },
    {
     "data": {
      "text/html": [
       "<html><script type=\"math/tex; mode=display\">\\newcommand{\\Bold}[1]{\\mathbf{#1}}\\left(\\begin{array}{rrrrrrrrrrrrrrrrrr}\n",
       "3 & -3 & 3 & -3 & 3 & -3 & 3 & -3 & 3 & -3 & 3 & -3 & 3 & -3 & 3 & -3 & 3 & -3 \\\\\n",
       "-3 & 3 & -3 & 3 & -3 & 3 & -3 & 3 & -3 & 3 & -3 & 3 & -3 & 3 & -3 & 3 & -3 & 3 \\\\\n",
       "3 & -3 & -3 \\zeta_{12}^{2} & 3 \\zeta_{12}^{2} & 3 \\zeta_{12}^{2} - 3 & -3 \\zeta_{12}^{2} + 3 & 3 & -3 & -3 \\zeta_{12}^{2} & 3 \\zeta_{12}^{2} & 3 \\zeta_{12}^{2} - 3 & -3 \\zeta_{12}^{2} + 3 & 3 & -3 & -3 \\zeta_{12}^{2} & 3 \\zeta_{12}^{2} & 3 \\zeta_{12}^{2} - 3 & -3 \\zeta_{12}^{2} + 3 \\\\\n",
       "-3 & 3 & 3 \\zeta_{12}^{2} & -3 \\zeta_{12}^{2} & -3 \\zeta_{12}^{2} + 3 & 3 \\zeta_{12}^{2} - 3 & -3 & 3 & 3 \\zeta_{12}^{2} & -3 \\zeta_{12}^{2} & -3 \\zeta_{12}^{2} + 3 & 3 \\zeta_{12}^{2} - 3 & -3 & 3 & 3 \\zeta_{12}^{2} & -3 \\zeta_{12}^{2} & -3 \\zeta_{12}^{2} + 3 & 3 \\zeta_{12}^{2} - 3 \\\\\n",
       "3 & -3 & 3 \\zeta_{12}^{2} - 3 & -3 \\zeta_{12}^{2} + 3 & -3 \\zeta_{12}^{2} & 3 \\zeta_{12}^{2} & 3 & -3 & 3 \\zeta_{12}^{2} - 3 & -3 \\zeta_{12}^{2} + 3 & -3 \\zeta_{12}^{2} & 3 \\zeta_{12}^{2} & 3 & -3 & 3 \\zeta_{12}^{2} - 3 & -3 \\zeta_{12}^{2} + 3 & -3 \\zeta_{12}^{2} & 3 \\zeta_{12}^{2} \\\\\n",
       "-3 & 3 & -3 \\zeta_{12}^{2} + 3 & 3 \\zeta_{12}^{2} - 3 & 3 \\zeta_{12}^{2} & -3 \\zeta_{12}^{2} & -3 & 3 & -3 \\zeta_{12}^{2} + 3 & 3 \\zeta_{12}^{2} - 3 & 3 \\zeta_{12}^{2} & -3 \\zeta_{12}^{2} & -3 & 3 & -3 \\zeta_{12}^{2} + 3 & 3 \\zeta_{12}^{2} - 3 & 3 \\zeta_{12}^{2} & -3 \\zeta_{12}^{2} \\\\\n",
       "3 & -3 & 3 & -3 & 3 & -3 & -3 \\zeta_{12}^{2} & 3 \\zeta_{12}^{2} & -3 \\zeta_{12}^{2} & 3 \\zeta_{12}^{2} & -3 \\zeta_{12}^{2} & 3 \\zeta_{12}^{2} & 3 \\zeta_{12}^{2} - 3 & -3 \\zeta_{12}^{2} + 3 & 3 \\zeta_{12}^{2} - 3 & -3 \\zeta_{12}^{2} + 3 & 3 \\zeta_{12}^{2} - 3 & -3 \\zeta_{12}^{2} + 3 \\\\\n",
       "-3 & 3 & -3 & 3 & -3 & 3 & 3 \\zeta_{12}^{2} & -3 \\zeta_{12}^{2} & 3 \\zeta_{12}^{2} & -3 \\zeta_{12}^{2} & 3 \\zeta_{12}^{2} & -3 \\zeta_{12}^{2} & -3 \\zeta_{12}^{2} + 3 & 3 \\zeta_{12}^{2} - 3 & -3 \\zeta_{12}^{2} + 3 & 3 \\zeta_{12}^{2} - 3 & -3 \\zeta_{12}^{2} + 3 & 3 \\zeta_{12}^{2} - 3 \\\\\n",
       "3 & -3 & -3 \\zeta_{12}^{2} & 3 \\zeta_{12}^{2} & 3 \\zeta_{12}^{2} - 3 & -3 \\zeta_{12}^{2} + 3 & -3 \\zeta_{12}^{2} & 3 \\zeta_{12}^{2} & 3 \\zeta_{12}^{2} - 3 & -3 \\zeta_{12}^{2} + 3 & 3 & -3 & 3 \\zeta_{12}^{2} - 3 & -3 \\zeta_{12}^{2} + 3 & 3 & -3 & -3 \\zeta_{12}^{2} & 3 \\zeta_{12}^{2} \\\\\n",
       "-3 & 3 & 3 \\zeta_{12}^{2} & -3 \\zeta_{12}^{2} & -3 \\zeta_{12}^{2} + 3 & 3 \\zeta_{12}^{2} - 3 & 3 \\zeta_{12}^{2} & -3 \\zeta_{12}^{2} & -3 \\zeta_{12}^{2} + 3 & 3 \\zeta_{12}^{2} - 3 & -3 & 3 & -3 \\zeta_{12}^{2} + 3 & 3 \\zeta_{12}^{2} - 3 & -3 & 3 & 3 \\zeta_{12}^{2} & -3 \\zeta_{12}^{2} \\\\\n",
       "3 & -3 & 3 \\zeta_{12}^{2} - 3 & -3 \\zeta_{12}^{2} + 3 & -3 \\zeta_{12}^{2} & 3 \\zeta_{12}^{2} & -3 \\zeta_{12}^{2} & 3 \\zeta_{12}^{2} & 3 & -3 & 3 \\zeta_{12}^{2} - 3 & -3 \\zeta_{12}^{2} + 3 & 3 \\zeta_{12}^{2} - 3 & -3 \\zeta_{12}^{2} + 3 & -3 \\zeta_{12}^{2} & 3 \\zeta_{12}^{2} & 3 & -3 \\\\\n",
       "-3 & 3 & -3 \\zeta_{12}^{2} + 3 & 3 \\zeta_{12}^{2} - 3 & 3 \\zeta_{12}^{2} & -3 \\zeta_{12}^{2} & 3 \\zeta_{12}^{2} & -3 \\zeta_{12}^{2} & -3 & 3 & -3 \\zeta_{12}^{2} + 3 & 3 \\zeta_{12}^{2} - 3 & -3 \\zeta_{12}^{2} + 3 & 3 \\zeta_{12}^{2} - 3 & 3 \\zeta_{12}^{2} & -3 \\zeta_{12}^{2} & -3 & 3 \\\\\n",
       "3 & -3 & 3 & -3 & 3 & -3 & 3 \\zeta_{12}^{2} - 3 & -3 \\zeta_{12}^{2} + 3 & 3 \\zeta_{12}^{2} - 3 & -3 \\zeta_{12}^{2} + 3 & 3 \\zeta_{12}^{2} - 3 & -3 \\zeta_{12}^{2} + 3 & -3 \\zeta_{12}^{2} & 3 \\zeta_{12}^{2} & -3 \\zeta_{12}^{2} & 3 \\zeta_{12}^{2} & -3 \\zeta_{12}^{2} & 3 \\zeta_{12}^{2} \\\\\n",
       "-3 & 3 & -3 & 3 & -3 & 3 & -3 \\zeta_{12}^{2} + 3 & 3 \\zeta_{12}^{2} - 3 & -3 \\zeta_{12}^{2} + 3 & 3 \\zeta_{12}^{2} - 3 & -3 \\zeta_{12}^{2} + 3 & 3 \\zeta_{12}^{2} - 3 & 3 \\zeta_{12}^{2} & -3 \\zeta_{12}^{2} & 3 \\zeta_{12}^{2} & -3 \\zeta_{12}^{2} & 3 \\zeta_{12}^{2} & -3 \\zeta_{12}^{2} \\\\\n",
       "3 & -3 & -3 \\zeta_{12}^{2} & 3 \\zeta_{12}^{2} & 3 \\zeta_{12}^{2} - 3 & -3 \\zeta_{12}^{2} + 3 & 3 \\zeta_{12}^{2} - 3 & -3 \\zeta_{12}^{2} + 3 & 3 & -3 & -3 \\zeta_{12}^{2} & 3 \\zeta_{12}^{2} & -3 \\zeta_{12}^{2} & 3 \\zeta_{12}^{2} & 3 \\zeta_{12}^{2} - 3 & -3 \\zeta_{12}^{2} + 3 & 3 & -3 \\\\\n",
       "-3 & 3 & 3 \\zeta_{12}^{2} & -3 \\zeta_{12}^{2} & -3 \\zeta_{12}^{2} + 3 & 3 \\zeta_{12}^{2} - 3 & -3 \\zeta_{12}^{2} + 3 & 3 \\zeta_{12}^{2} - 3 & -3 & 3 & 3 \\zeta_{12}^{2} & -3 \\zeta_{12}^{2} & 3 \\zeta_{12}^{2} & -3 \\zeta_{12}^{2} & -3 \\zeta_{12}^{2} + 3 & 3 \\zeta_{12}^{2} - 3 & -3 & 3 \\\\\n",
       "3 & -3 & 3 \\zeta_{12}^{2} - 3 & -3 \\zeta_{12}^{2} + 3 & -3 \\zeta_{12}^{2} & 3 \\zeta_{12}^{2} & 3 \\zeta_{12}^{2} - 3 & -3 \\zeta_{12}^{2} + 3 & -3 \\zeta_{12}^{2} & 3 \\zeta_{12}^{2} & 3 & -3 & -3 \\zeta_{12}^{2} & 3 \\zeta_{12}^{2} & 3 & -3 & 3 \\zeta_{12}^{2} - 3 & -3 \\zeta_{12}^{2} + 3 \\\\\n",
       "-3 & 3 & -3 \\zeta_{12}^{2} + 3 & 3 \\zeta_{12}^{2} - 3 & 3 \\zeta_{12}^{2} & -3 \\zeta_{12}^{2} & -3 \\zeta_{12}^{2} + 3 & 3 \\zeta_{12}^{2} - 3 & 3 \\zeta_{12}^{2} & -3 \\zeta_{12}^{2} & -3 & 3 & 3 \\zeta_{12}^{2} & -3 \\zeta_{12}^{2} & -3 & 3 & -3 \\zeta_{12}^{2} + 3 & 3 \\zeta_{12}^{2} - 3\n",
       "\\end{array}\\right)</script></html>"
      ],
      "text/plain": [
       "[              3              -3               3              -3               3              -3               3              -3               3              -3               3              -3               3              -3               3              -3               3              -3]\n",
       "[             -3               3              -3               3              -3               3              -3               3              -3               3              -3               3              -3               3              -3               3              -3               3]\n",
       "[              3              -3     -3*zeta12^2      3*zeta12^2  3*zeta12^2 - 3 -3*zeta12^2 + 3               3              -3     -3*zeta12^2      3*zeta12^2  3*zeta12^2 - 3 -3*zeta12^2 + 3               3              -3     -3*zeta12^2      3*zeta12^2  3*zeta12^2 - 3 -3*zeta12^2 + 3]\n",
       "[             -3               3      3*zeta12^2     -3*zeta12^2 -3*zeta12^2 + 3  3*zeta12^2 - 3              -3               3      3*zeta12^2     -3*zeta12^2 -3*zeta12^2 + 3  3*zeta12^2 - 3              -3               3      3*zeta12^2     -3*zeta12^2 -3*zeta12^2 + 3  3*zeta12^2 - 3]\n",
       "[              3              -3  3*zeta12^2 - 3 -3*zeta12^2 + 3     -3*zeta12^2      3*zeta12^2               3              -3  3*zeta12^2 - 3 -3*zeta12^2 + 3     -3*zeta12^2      3*zeta12^2               3              -3  3*zeta12^2 - 3 -3*zeta12^2 + 3     -3*zeta12^2      3*zeta12^2]\n",
       "[             -3               3 -3*zeta12^2 + 3  3*zeta12^2 - 3      3*zeta12^2     -3*zeta12^2              -3               3 -3*zeta12^2 + 3  3*zeta12^2 - 3      3*zeta12^2     -3*zeta12^2              -3               3 -3*zeta12^2 + 3  3*zeta12^2 - 3      3*zeta12^2     -3*zeta12^2]\n",
       "[              3              -3               3              -3               3              -3     -3*zeta12^2      3*zeta12^2     -3*zeta12^2      3*zeta12^2     -3*zeta12^2      3*zeta12^2  3*zeta12^2 - 3 -3*zeta12^2 + 3  3*zeta12^2 - 3 -3*zeta12^2 + 3  3*zeta12^2 - 3 -3*zeta12^2 + 3]\n",
       "[             -3               3              -3               3              -3               3      3*zeta12^2     -3*zeta12^2      3*zeta12^2     -3*zeta12^2      3*zeta12^2     -3*zeta12^2 -3*zeta12^2 + 3  3*zeta12^2 - 3 -3*zeta12^2 + 3  3*zeta12^2 - 3 -3*zeta12^2 + 3  3*zeta12^2 - 3]\n",
       "[              3              -3     -3*zeta12^2      3*zeta12^2  3*zeta12^2 - 3 -3*zeta12^2 + 3     -3*zeta12^2      3*zeta12^2  3*zeta12^2 - 3 -3*zeta12^2 + 3               3              -3  3*zeta12^2 - 3 -3*zeta12^2 + 3               3              -3     -3*zeta12^2      3*zeta12^2]\n",
       "[             -3               3      3*zeta12^2     -3*zeta12^2 -3*zeta12^2 + 3  3*zeta12^2 - 3      3*zeta12^2     -3*zeta12^2 -3*zeta12^2 + 3  3*zeta12^2 - 3              -3               3 -3*zeta12^2 + 3  3*zeta12^2 - 3              -3               3      3*zeta12^2     -3*zeta12^2]\n",
       "[              3              -3  3*zeta12^2 - 3 -3*zeta12^2 + 3     -3*zeta12^2      3*zeta12^2     -3*zeta12^2      3*zeta12^2               3              -3  3*zeta12^2 - 3 -3*zeta12^2 + 3  3*zeta12^2 - 3 -3*zeta12^2 + 3     -3*zeta12^2      3*zeta12^2               3              -3]\n",
       "[             -3               3 -3*zeta12^2 + 3  3*zeta12^2 - 3      3*zeta12^2     -3*zeta12^2      3*zeta12^2     -3*zeta12^2              -3               3 -3*zeta12^2 + 3  3*zeta12^2 - 3 -3*zeta12^2 + 3  3*zeta12^2 - 3      3*zeta12^2     -3*zeta12^2              -3               3]\n",
       "[              3              -3               3              -3               3              -3  3*zeta12^2 - 3 -3*zeta12^2 + 3  3*zeta12^2 - 3 -3*zeta12^2 + 3  3*zeta12^2 - 3 -3*zeta12^2 + 3     -3*zeta12^2      3*zeta12^2     -3*zeta12^2      3*zeta12^2     -3*zeta12^2      3*zeta12^2]\n",
       "[             -3               3              -3               3              -3               3 -3*zeta12^2 + 3  3*zeta12^2 - 3 -3*zeta12^2 + 3  3*zeta12^2 - 3 -3*zeta12^2 + 3  3*zeta12^2 - 3      3*zeta12^2     -3*zeta12^2      3*zeta12^2     -3*zeta12^2      3*zeta12^2     -3*zeta12^2]\n",
       "[              3              -3     -3*zeta12^2      3*zeta12^2  3*zeta12^2 - 3 -3*zeta12^2 + 3  3*zeta12^2 - 3 -3*zeta12^2 + 3               3              -3     -3*zeta12^2      3*zeta12^2     -3*zeta12^2      3*zeta12^2  3*zeta12^2 - 3 -3*zeta12^2 + 3               3              -3]\n",
       "[             -3               3      3*zeta12^2     -3*zeta12^2 -3*zeta12^2 + 3  3*zeta12^2 - 3 -3*zeta12^2 + 3  3*zeta12^2 - 3              -3               3      3*zeta12^2     -3*zeta12^2      3*zeta12^2     -3*zeta12^2 -3*zeta12^2 + 3  3*zeta12^2 - 3              -3               3]\n",
       "[              3              -3  3*zeta12^2 - 3 -3*zeta12^2 + 3     -3*zeta12^2      3*zeta12^2  3*zeta12^2 - 3 -3*zeta12^2 + 3     -3*zeta12^2      3*zeta12^2               3              -3     -3*zeta12^2      3*zeta12^2               3              -3  3*zeta12^2 - 3 -3*zeta12^2 + 3]\n",
       "[             -3               3 -3*zeta12^2 + 3  3*zeta12^2 - 3      3*zeta12^2     -3*zeta12^2 -3*zeta12^2 + 3  3*zeta12^2 - 3      3*zeta12^2     -3*zeta12^2              -3               3      3*zeta12^2     -3*zeta12^2              -3               3 -3*zeta12^2 + 3  3*zeta12^2 - 3]"
      ]
     },
     "metadata": {},
     "output_type": "display_data"
    }
   ],
   "source": [
    "pows = [z^(i) for i in range(n3)]\n",
    "#Delta = [(tau*sum([rho_a(g,Q,h) for g in G])).nth_root(2)^(-1) for h in G]\n",
    "Gpairs = [(G_list[i],G_list[j]) for i in range(n) for j in range(i)]\n",
    "Theta_X = [chi(g,-g,Q) for g in G_list for i in range(2)]\n",
    "Theta_Y = [chi(g,-h,Q) for (g,h) in Gpairs]\n",
    "Theta_Z = [sgn_tau*(-1)^i*d^(-1) for d in Delta for i in range(2)]\n",
    "Theta = Theta_X + Theta_Y + Theta_Z\n",
    "#show(Theta_X)\n",
    "#show(Theta_Y)\n",
    "#show(Theta_Z)\n",
    "T = block_diagonal_matrix([diagonal_matrix(Theta_X), diagonal_matrix(Theta_Y), diagonal_matrix(Theta_Z)])\n",
    "#show(T)\n",
    "SXX = matrix([[chi(g,h,Q)^(2) for g in G_list for i in range(2)] for h in G_list for j in range(2)])\n",
    "#show(SXX)\n",
    "SXY = matrix([[2*chi(h,a+b, Q)^(1) for (a,b) in Gpairs] for h in G_list for i in range(2)])\n",
    "#show(SXY)\n",
    "#SXZ = matrix([[(-1)^(j)/tau*chi(h, g, Q)*XZ_negation_fix(h,g,Q,G_list,Delta) for g in G_list for i in range(2)] for h in G_list for j in range(2)])\n",
    "SXZ = matrix([[(-1)^(j)/tau*chi(h, g, Q) for g in G_list for i in range(2)] for h in G_list for j in range(2)])\n",
    "#GNN say SXZ = matrix([[(-1)^(j)*sqrt_n*rho(h,Q)^(-1)*rho_a(h,Q,g)^(-1) for g in G_list for i in range(2)] for h in G_list for j in range(2)])\n",
    "show(SXZ)\n",
    "SYY = matrix([[2*(chi(a,d,Q)*chi(b,c,Q)+chi(a,c,Q)*chi(b,d,Q)) for (a,b) in Gpairs] for (c,d) in Gpairs])\n",
    "#show(SYY)\n",
    "SYZ = zero_matrix(parent(z), binomial(n,2), 2*n)\n",
    "#show(SYZ)\n",
    "SZZ = matrix([[Delta[i]^(-1)*(-1)^j*Delta[k]^(-1)*(-1)^l*sum([chi(x,x+G_list[i]+G_list[k],Q)^(-1) for x in G_list]) for i in range(n) for j in range(2)] for k in range(n) for l in range(2)])\n",
    "show(SZZ)\n",
    "S = block_matrix([[SXX, SXY, SXZ],[SXY.transpose(), SYY, SYZ], [SXZ.transpose(), SYZ.transpose(), SZZ]])/(2*n)\n",
    "#show(S)\n",
    "dims = [1]*(2*n) + [2]*ZZ(n*(n-1)/2) + [sqrt_n]*(2*n)\n",
    "p_plus = sum([Theta[i]*dims[i]^2 for i in range(n*(7+n)/2)])\n",
    "p_minus = sum([Theta[i]^(-1)*dims[i]^2 for i in range(n*(7+n)/2)])"
   ]
  },
  {
   "cell_type": "code",
   "execution_count": 45,
   "metadata": {},
   "outputs": [
    {
     "data": {
      "text/html": [
       "<html><script type=\"math/tex; mode=display\">\\newcommand{\\Bold}[1]{\\mathbf{#1}}\\left(\\begin{array}{rrrrrrrrrrrrrrrrrrrrrrrrrrrrrrrrrrrrrrrrrrrrrrrrrrrrrrrrrrrrrrrrrrrrrrrr}\n",
       "1 & 0 & 0 & 0 & 0 & 0 & 0 & 0 & 0 & 0 & 0 & 0 & 0 & 0 & 0 & 0 & 0 & 0 & 0 & 0 & 0 & 0 & 0 & 0 & 0 & 0 & 0 & 0 & 0 & 0 & 0 & 0 & 0 & 0 & 0 & 0 & 0 & 0 & 0 & 0 & 0 & 0 & 0 & 0 & 0 & 0 & 0 & 0 & 0 & 0 & 0 & 0 & 0 & 0 & 0 & 0 & 0 & 0 & 0 & 0 & 0 & 0 & 0 & 0 & 0 & 0 & 0 & 0 & 0 & 0 & 0 & 0 \\\\\n",
       "0 & 1 & 0 & 0 & 0 & 0 & 0 & 0 & 0 & 0 & 0 & 0 & 0 & 0 & 0 & 0 & 0 & 0 & 0 & 0 & 0 & 0 & 0 & 0 & 0 & 0 & 0 & 0 & 0 & 0 & 0 & 0 & 0 & 0 & 0 & 0 & 0 & 0 & 0 & 0 & 0 & 0 & 0 & 0 & 0 & 0 & 0 & 0 & 0 & 0 & 0 & 0 & 0 & 0 & 0 & 0 & 0 & 0 & 0 & 0 & 0 & 0 & 0 & 0 & 0 & 0 & 0 & 0 & 0 & 0 & 0 & 0 \\\\\n",
       "0 & 0 & 0 & 0 & 1 & 0 & 0 & 0 & 0 & 0 & 0 & 0 & 0 & 0 & 0 & 0 & 0 & 0 & 0 & 0 & 0 & 0 & 0 & 0 & 0 & 0 & 0 & 0 & 0 & 0 & 0 & 0 & 0 & 0 & 0 & 0 & 0 & 0 & 0 & 0 & 0 & 0 & 0 & 0 & 0 & 0 & 0 & 0 & 0 & 0 & 0 & 0 & 0 & 0 & 0 & 0 & 0 & 0 & 0 & 0 & 0 & 0 & 0 & 0 & 0 & 0 & 0 & 0 & 0 & 0 & 0 & 0 \\\\\n",
       "0 & 0 & 0 & 0 & 0 & 1 & 0 & 0 & 0 & 0 & 0 & 0 & 0 & 0 & 0 & 0 & 0 & 0 & 0 & 0 & 0 & 0 & 0 & 0 & 0 & 0 & 0 & 0 & 0 & 0 & 0 & 0 & 0 & 0 & 0 & 0 & 0 & 0 & 0 & 0 & 0 & 0 & 0 & 0 & 0 & 0 & 0 & 0 & 0 & 0 & 0 & 0 & 0 & 0 & 0 & 0 & 0 & 0 & 0 & 0 & 0 & 0 & 0 & 0 & 0 & 0 & 0 & 0 & 0 & 0 & 0 & 0 \\\\\n",
       "0 & 0 & 1 & 0 & 0 & 0 & 0 & 0 & 0 & 0 & 0 & 0 & 0 & 0 & 0 & 0 & 0 & 0 & 0 & 0 & 0 & 0 & 0 & 0 & 0 & 0 & 0 & 0 & 0 & 0 & 0 & 0 & 0 & 0 & 0 & 0 & 0 & 0 & 0 & 0 & 0 & 0 & 0 & 0 & 0 & 0 & 0 & 0 & 0 & 0 & 0 & 0 & 0 & 0 & 0 & 0 & 0 & 0 & 0 & 0 & 0 & 0 & 0 & 0 & 0 & 0 & 0 & 0 & 0 & 0 & 0 & 0 \\\\\n",
       "0 & 0 & 0 & 1 & 0 & 0 & 0 & 0 & 0 & 0 & 0 & 0 & 0 & 0 & 0 & 0 & 0 & 0 & 0 & 0 & 0 & 0 & 0 & 0 & 0 & 0 & 0 & 0 & 0 & 0 & 0 & 0 & 0 & 0 & 0 & 0 & 0 & 0 & 0 & 0 & 0 & 0 & 0 & 0 & 0 & 0 & 0 & 0 & 0 & 0 & 0 & 0 & 0 & 0 & 0 & 0 & 0 & 0 & 0 & 0 & 0 & 0 & 0 & 0 & 0 & 0 & 0 & 0 & 0 & 0 & 0 & 0 \\\\\n",
       "0 & 0 & 0 & 0 & 0 & 0 & 0 & 0 & 0 & 0 & 0 & 0 & 1 & 0 & 0 & 0 & 0 & 0 & 0 & 0 & 0 & 0 & 0 & 0 & 0 & 0 & 0 & 0 & 0 & 0 & 0 & 0 & 0 & 0 & 0 & 0 & 0 & 0 & 0 & 0 & 0 & 0 & 0 & 0 & 0 & 0 & 0 & 0 & 0 & 0 & 0 & 0 & 0 & 0 & 0 & 0 & 0 & 0 & 0 & 0 & 0 & 0 & 0 & 0 & 0 & 0 & 0 & 0 & 0 & 0 & 0 & 0 \\\\\n",
       "0 & 0 & 0 & 0 & 0 & 0 & 0 & 0 & 0 & 0 & 0 & 0 & 0 & 1 & 0 & 0 & 0 & 0 & 0 & 0 & 0 & 0 & 0 & 0 & 0 & 0 & 0 & 0 & 0 & 0 & 0 & 0 & 0 & 0 & 0 & 0 & 0 & 0 & 0 & 0 & 0 & 0 & 0 & 0 & 0 & 0 & 0 & 0 & 0 & 0 & 0 & 0 & 0 & 0 & 0 & 0 & 0 & 0 & 0 & 0 & 0 & 0 & 0 & 0 & 0 & 0 & 0 & 0 & 0 & 0 & 0 & 0 \\\\\n",
       "0 & 0 & 0 & 0 & 0 & 0 & 0 & 0 & 0 & 0 & 0 & 0 & 0 & 0 & 0 & 0 & 1 & 0 & 0 & 0 & 0 & 0 & 0 & 0 & 0 & 0 & 0 & 0 & 0 & 0 & 0 & 0 & 0 & 0 & 0 & 0 & 0 & 0 & 0 & 0 & 0 & 0 & 0 & 0 & 0 & 0 & 0 & 0 & 0 & 0 & 0 & 0 & 0 & 0 & 0 & 0 & 0 & 0 & 0 & 0 & 0 & 0 & 0 & 0 & 0 & 0 & 0 & 0 & 0 & 0 & 0 & 0 \\\\\n",
       "0 & 0 & 0 & 0 & 0 & 0 & 0 & 0 & 0 & 0 & 0 & 0 & 0 & 0 & 0 & 0 & 0 & 1 & 0 & 0 & 0 & 0 & 0 & 0 & 0 & 0 & 0 & 0 & 0 & 0 & 0 & 0 & 0 & 0 & 0 & 0 & 0 & 0 & 0 & 0 & 0 & 0 & 0 & 0 & 0 & 0 & 0 & 0 & 0 & 0 & 0 & 0 & 0 & 0 & 0 & 0 & 0 & 0 & 0 & 0 & 0 & 0 & 0 & 0 & 0 & 0 & 0 & 0 & 0 & 0 & 0 & 0 \\\\\n",
       "0 & 0 & 0 & 0 & 0 & 0 & 0 & 0 & 0 & 0 & 0 & 0 & 0 & 0 & 1 & 0 & 0 & 0 & 0 & 0 & 0 & 0 & 0 & 0 & 0 & 0 & 0 & 0 & 0 & 0 & 0 & 0 & 0 & 0 & 0 & 0 & 0 & 0 & 0 & 0 & 0 & 0 & 0 & 0 & 0 & 0 & 0 & 0 & 0 & 0 & 0 & 0 & 0 & 0 & 0 & 0 & 0 & 0 & 0 & 0 & 0 & 0 & 0 & 0 & 0 & 0 & 0 & 0 & 0 & 0 & 0 & 0 \\\\\n",
       "0 & 0 & 0 & 0 & 0 & 0 & 0 & 0 & 0 & 0 & 0 & 0 & 0 & 0 & 0 & 1 & 0 & 0 & 0 & 0 & 0 & 0 & 0 & 0 & 0 & 0 & 0 & 0 & 0 & 0 & 0 & 0 & 0 & 0 & 0 & 0 & 0 & 0 & 0 & 0 & 0 & 0 & 0 & 0 & 0 & 0 & 0 & 0 & 0 & 0 & 0 & 0 & 0 & 0 & 0 & 0 & 0 & 0 & 0 & 0 & 0 & 0 & 0 & 0 & 0 & 0 & 0 & 0 & 0 & 0 & 0 & 0 \\\\\n",
       "0 & 0 & 0 & 0 & 0 & 0 & 1 & 0 & 0 & 0 & 0 & 0 & 0 & 0 & 0 & 0 & 0 & 0 & 0 & 0 & 0 & 0 & 0 & 0 & 0 & 0 & 0 & 0 & 0 & 0 & 0 & 0 & 0 & 0 & 0 & 0 & 0 & 0 & 0 & 0 & 0 & 0 & 0 & 0 & 0 & 0 & 0 & 0 & 0 & 0 & 0 & 0 & 0 & 0 & 0 & 0 & 0 & 0 & 0 & 0 & 0 & 0 & 0 & 0 & 0 & 0 & 0 & 0 & 0 & 0 & 0 & 0 \\\\\n",
       "0 & 0 & 0 & 0 & 0 & 0 & 0 & 1 & 0 & 0 & 0 & 0 & 0 & 0 & 0 & 0 & 0 & 0 & 0 & 0 & 0 & 0 & 0 & 0 & 0 & 0 & 0 & 0 & 0 & 0 & 0 & 0 & 0 & 0 & 0 & 0 & 0 & 0 & 0 & 0 & 0 & 0 & 0 & 0 & 0 & 0 & 0 & 0 & 0 & 0 & 0 & 0 & 0 & 0 & 0 & 0 & 0 & 0 & 0 & 0 & 0 & 0 & 0 & 0 & 0 & 0 & 0 & 0 & 0 & 0 & 0 & 0 \\\\\n",
       "0 & 0 & 0 & 0 & 0 & 0 & 0 & 0 & 0 & 0 & 1 & 0 & 0 & 0 & 0 & 0 & 0 & 0 & 0 & 0 & 0 & 0 & 0 & 0 & 0 & 0 & 0 & 0 & 0 & 0 & 0 & 0 & 0 & 0 & 0 & 0 & 0 & 0 & 0 & 0 & 0 & 0 & 0 & 0 & 0 & 0 & 0 & 0 & 0 & 0 & 0 & 0 & 0 & 0 & 0 & 0 & 0 & 0 & 0 & 0 & 0 & 0 & 0 & 0 & 0 & 0 & 0 & 0 & 0 & 0 & 0 & 0 \\\\\n",
       "0 & 0 & 0 & 0 & 0 & 0 & 0 & 0 & 0 & 0 & 0 & 1 & 0 & 0 & 0 & 0 & 0 & 0 & 0 & 0 & 0 & 0 & 0 & 0 & 0 & 0 & 0 & 0 & 0 & 0 & 0 & 0 & 0 & 0 & 0 & 0 & 0 & 0 & 0 & 0 & 0 & 0 & 0 & 0 & 0 & 0 & 0 & 0 & 0 & 0 & 0 & 0 & 0 & 0 & 0 & 0 & 0 & 0 & 0 & 0 & 0 & 0 & 0 & 0 & 0 & 0 & 0 & 0 & 0 & 0 & 0 & 0 \\\\\n",
       "0 & 0 & 0 & 0 & 0 & 0 & 0 & 0 & 1 & 0 & 0 & 0 & 0 & 0 & 0 & 0 & 0 & 0 & 0 & 0 & 0 & 0 & 0 & 0 & 0 & 0 & 0 & 0 & 0 & 0 & 0 & 0 & 0 & 0 & 0 & 0 & 0 & 0 & 0 & 0 & 0 & 0 & 0 & 0 & 0 & 0 & 0 & 0 & 0 & 0 & 0 & 0 & 0 & 0 & 0 & 0 & 0 & 0 & 0 & 0 & 0 & 0 & 0 & 0 & 0 & 0 & 0 & 0 & 0 & 0 & 0 & 0 \\\\\n",
       "0 & 0 & 0 & 0 & 0 & 0 & 0 & 0 & 0 & 1 & 0 & 0 & 0 & 0 & 0 & 0 & 0 & 0 & 0 & 0 & 0 & 0 & 0 & 0 & 0 & 0 & 0 & 0 & 0 & 0 & 0 & 0 & 0 & 0 & 0 & 0 & 0 & 0 & 0 & 0 & 0 & 0 & 0 & 0 & 0 & 0 & 0 & 0 & 0 & 0 & 0 & 0 & 0 & 0 & 0 & 0 & 0 & 0 & 0 & 0 & 0 & 0 & 0 & 0 & 0 & 0 & 0 & 0 & 0 & 0 & 0 & 0 \\\\\n",
       "0 & 0 & 0 & 0 & 0 & 0 & 0 & 0 & 0 & 0 & 0 & 0 & 0 & 0 & 0 & 0 & 0 & 0 & 0 & 1 & 0 & 0 & 0 & 0 & 0 & 0 & 0 & 0 & 0 & 0 & 0 & 0 & 0 & 0 & 0 & 0 & 0 & 0 & 0 & 0 & 0 & 0 & 0 & 0 & 0 & 0 & 0 & 0 & 0 & 0 & 0 & 0 & 0 & 0 & 0 & 0 & 0 & 0 & 0 & 0 & 0 & 0 & 0 & 0 & 0 & 0 & 0 & 0 & 0 & 0 & 0 & 0 \\\\\n",
       "0 & 0 & 0 & 0 & 0 & 0 & 0 & 0 & 0 & 0 & 0 & 0 & 0 & 0 & 0 & 0 & 0 & 0 & 1 & 0 & 0 & 0 & 0 & 0 & 0 & 0 & 0 & 0 & 0 & 0 & 0 & 0 & 0 & 0 & 0 & 0 & 0 & 0 & 0 & 0 & 0 & 0 & 0 & 0 & 0 & 0 & 0 & 0 & 0 & 0 & 0 & 0 & 0 & 0 & 0 & 0 & 0 & 0 & 0 & 0 & 0 & 0 & 0 & 0 & 0 & 0 & 0 & 0 & 0 & 0 & 0 & 0 \\\\\n",
       "0 & 0 & 0 & 0 & 0 & 0 & 0 & 0 & 0 & 0 & 0 & 0 & 0 & 0 & 0 & 0 & 0 & 0 & 0 & 0 & 1 & 0 & 0 & 0 & 0 & 0 & 0 & 0 & 0 & 0 & 0 & 0 & 0 & 0 & 0 & 0 & 0 & 0 & 0 & 0 & 0 & 0 & 0 & 0 & 0 & 0 & 0 & 0 & 0 & 0 & 0 & 0 & 0 & 0 & 0 & 0 & 0 & 0 & 0 & 0 & 0 & 0 & 0 & 0 & 0 & 0 & 0 & 0 & 0 & 0 & 0 & 0 \\\\\n",
       "0 & 0 & 0 & 0 & 0 & 0 & 0 & 0 & 0 & 0 & 0 & 0 & 0 & 0 & 0 & 0 & 0 & 0 & 0 & 0 & 0 & 0 & 0 & 0 & 0 & 0 & 0 & 0 & 0 & 0 & 0 & 0 & 0 & 1 & 0 & 0 & 0 & 0 & 0 & 0 & 0 & 0 & 0 & 0 & 0 & 0 & 0 & 0 & 0 & 0 & 0 & 0 & 0 & 0 & 0 & 0 & 0 & 0 & 0 & 0 & 0 & 0 & 0 & 0 & 0 & 0 & 0 & 0 & 0 & 0 & 0 & 0 \\\\\n",
       "0 & 0 & 0 & 0 & 0 & 0 & 0 & 0 & 0 & 0 & 0 & 0 & 0 & 0 & 0 & 0 & 0 & 0 & 0 & 0 & 0 & 0 & 0 & 0 & 0 & 0 & 0 & 0 & 0 & 0 & 0 & 0 & 0 & 0 & 0 & 1 & 0 & 0 & 0 & 0 & 0 & 0 & 0 & 0 & 0 & 0 & 0 & 0 & 0 & 0 & 0 & 0 & 0 & 0 & 0 & 0 & 0 & 0 & 0 & 0 & 0 & 0 & 0 & 0 & 0 & 0 & 0 & 0 & 0 & 0 & 0 & 0 \\\\\n",
       "0 & 0 & 0 & 0 & 0 & 0 & 0 & 0 & 0 & 0 & 0 & 0 & 0 & 0 & 0 & 0 & 0 & 0 & 0 & 0 & 0 & 0 & 0 & 0 & 0 & 0 & 0 & 0 & 0 & 0 & 0 & 0 & 0 & 0 & 1 & 0 & 0 & 0 & 0 & 0 & 0 & 0 & 0 & 0 & 0 & 0 & 0 & 0 & 0 & 0 & 0 & 0 & 0 & 0 & 0 & 0 & 0 & 0 & 0 & 0 & 0 & 0 & 0 & 0 & 0 & 0 & 0 & 0 & 0 & 0 & 0 & 0 \\\\\n",
       "0 & 0 & 0 & 0 & 0 & 0 & 0 & 0 & 0 & 0 & 0 & 0 & 0 & 0 & 0 & 0 & 0 & 0 & 0 & 0 & 0 & 0 & 0 & 0 & 0 & 0 & 0 & 0 & 0 & 0 & 0 & 0 & 0 & 0 & 0 & 0 & 0 & 0 & 0 & 0 & 0 & 0 & 0 & 0 & 0 & 0 & 1 & 0 & 0 & 0 & 0 & 0 & 0 & 0 & 0 & 0 & 0 & 0 & 0 & 0 & 0 & 0 & 0 & 0 & 0 & 0 & 0 & 0 & 0 & 0 & 0 & 0 \\\\\n",
       "0 & 0 & 0 & 0 & 0 & 0 & 0 & 0 & 0 & 0 & 0 & 0 & 0 & 0 & 0 & 0 & 0 & 0 & 0 & 0 & 0 & 0 & 0 & 0 & 0 & 0 & 0 & 0 & 0 & 0 & 0 & 0 & 0 & 0 & 0 & 0 & 0 & 0 & 0 & 0 & 0 & 0 & 0 & 0 & 0 & 0 & 0 & 0 & 1 & 0 & 0 & 0 & 0 & 0 & 0 & 0 & 0 & 0 & 0 & 0 & 0 & 0 & 0 & 0 & 0 & 0 & 0 & 0 & 0 & 0 & 0 & 0 \\\\\n",
       "0 & 0 & 0 & 0 & 0 & 0 & 0 & 0 & 0 & 0 & 0 & 0 & 0 & 0 & 0 & 0 & 0 & 0 & 0 & 0 & 0 & 0 & 0 & 0 & 0 & 0 & 0 & 0 & 0 & 0 & 0 & 0 & 0 & 0 & 0 & 0 & 0 & 0 & 0 & 0 & 0 & 0 & 0 & 0 & 0 & 0 & 0 & 1 & 0 & 0 & 0 & 0 & 0 & 0 & 0 & 0 & 0 & 0 & 0 & 0 & 0 & 0 & 0 & 0 & 0 & 0 & 0 & 0 & 0 & 0 & 0 & 0 \\\\\n",
       "0 & 0 & 0 & 0 & 0 & 0 & 0 & 0 & 0 & 0 & 0 & 0 & 0 & 0 & 0 & 0 & 0 & 0 & 0 & 0 & 0 & 0 & 0 & 0 & 0 & 0 & 0 & 0 & 0 & 0 & 0 & 0 & 0 & 0 & 0 & 0 & 0 & 0 & 0 & 0 & 0 & 0 & 0 & 0 & 0 & 0 & 0 & 0 & 0 & 0 & 0 & 0 & 1 & 0 & 0 & 0 & 0 & 0 & 0 & 0 & 0 & 0 & 0 & 0 & 0 & 0 & 0 & 0 & 0 & 0 & 0 & 0 \\\\\n",
       "0 & 0 & 0 & 0 & 0 & 0 & 0 & 0 & 0 & 0 & 0 & 0 & 0 & 0 & 0 & 0 & 0 & 0 & 0 & 0 & 0 & 0 & 0 & 0 & 0 & 0 & 0 & 0 & 0 & 0 & 0 & 0 & 0 & 0 & 0 & 0 & 0 & 0 & 0 & 1 & 0 & 0 & 0 & 0 & 0 & 0 & 0 & 0 & 0 & 0 & 0 & 0 & 0 & 0 & 0 & 0 & 0 & 0 & 0 & 0 & 0 & 0 & 0 & 0 & 0 & 0 & 0 & 0 & 0 & 0 & 0 & 0 \\\\\n",
       "0 & 0 & 0 & 0 & 0 & 0 & 0 & 0 & 0 & 0 & 0 & 0 & 0 & 0 & 0 & 0 & 0 & 0 & 0 & 0 & 0 & 0 & 0 & 0 & 0 & 0 & 0 & 0 & 0 & 0 & 0 & 0 & 0 & 0 & 0 & 0 & 0 & 0 & 0 & 0 & 0 & 1 & 0 & 0 & 0 & 0 & 0 & 0 & 0 & 0 & 0 & 0 & 0 & 0 & 0 & 0 & 0 & 0 & 0 & 0 & 0 & 0 & 0 & 0 & 0 & 0 & 0 & 0 & 0 & 0 & 0 & 0 \\\\\n",
       "0 & 0 & 0 & 0 & 0 & 0 & 0 & 0 & 0 & 0 & 0 & 0 & 0 & 0 & 0 & 0 & 0 & 0 & 0 & 0 & 0 & 0 & 0 & 0 & 0 & 0 & 0 & 0 & 0 & 0 & 0 & 0 & 0 & 0 & 0 & 0 & 0 & 0 & 0 & 0 & 1 & 0 & 0 & 0 & 0 & 0 & 0 & 0 & 0 & 0 & 0 & 0 & 0 & 0 & 0 & 0 & 0 & 0 & 0 & 0 & 0 & 0 & 0 & 0 & 0 & 0 & 0 & 0 & 0 & 0 & 0 & 0 \\\\\n",
       "0 & 0 & 0 & 0 & 0 & 0 & 0 & 0 & 0 & 0 & 0 & 0 & 0 & 0 & 0 & 0 & 0 & 0 & 0 & 0 & 0 & 0 & 0 & 0 & 0 & 0 & 0 & 0 & 0 & 0 & 0 & 0 & 0 & 0 & 0 & 0 & 0 & 0 & 0 & 0 & 0 & 0 & 0 & 0 & 0 & 1 & 0 & 0 & 0 & 0 & 0 & 0 & 0 & 0 & 0 & 0 & 0 & 0 & 0 & 0 & 0 & 0 & 0 & 0 & 0 & 0 & 0 & 0 & 0 & 0 & 0 & 0 \\\\\n",
       "0 & 0 & 0 & 0 & 0 & 0 & 0 & 0 & 0 & 0 & 0 & 0 & 0 & 0 & 0 & 0 & 0 & 0 & 0 & 0 & 0 & 0 & 0 & 0 & 0 & 0 & 0 & 0 & 0 & 0 & 0 & 0 & 0 & 0 & 0 & 0 & 0 & 0 & 0 & 0 & 0 & 0 & 0 & 0 & 0 & 0 & 0 & 0 & 0 & 0 & 0 & 0 & 0 & 1 & 0 & 0 & 0 & 0 & 0 & 0 & 0 & 0 & 0 & 0 & 0 & 0 & 0 & 0 & 0 & 0 & 0 & 0 \\\\\n",
       "0 & 0 & 0 & 0 & 0 & 0 & 0 & 0 & 0 & 0 & 0 & 0 & 0 & 0 & 0 & 0 & 0 & 0 & 0 & 0 & 0 & 1 & 0 & 0 & 0 & 0 & 0 & 0 & 0 & 0 & 0 & 0 & 0 & 0 & 0 & 0 & 0 & 0 & 0 & 0 & 0 & 0 & 0 & 0 & 0 & 0 & 0 & 0 & 0 & 0 & 0 & 0 & 0 & 0 & 0 & 0 & 0 & 0 & 0 & 0 & 0 & 0 & 0 & 0 & 0 & 0 & 0 & 0 & 0 & 0 & 0 & 0 \\\\\n",
       "0 & 0 & 0 & 0 & 0 & 0 & 0 & 0 & 0 & 0 & 0 & 0 & 0 & 0 & 0 & 0 & 0 & 0 & 0 & 0 & 0 & 0 & 0 & 1 & 0 & 0 & 0 & 0 & 0 & 0 & 0 & 0 & 0 & 0 & 0 & 0 & 0 & 0 & 0 & 0 & 0 & 0 & 0 & 0 & 0 & 0 & 0 & 0 & 0 & 0 & 0 & 0 & 0 & 0 & 0 & 0 & 0 & 0 & 0 & 0 & 0 & 0 & 0 & 0 & 0 & 0 & 0 & 0 & 0 & 0 & 0 & 0 \\\\\n",
       "0 & 0 & 0 & 0 & 0 & 0 & 0 & 0 & 0 & 0 & 0 & 0 & 0 & 0 & 0 & 0 & 0 & 0 & 0 & 0 & 0 & 0 & 1 & 0 & 0 & 0 & 0 & 0 & 0 & 0 & 0 & 0 & 0 & 0 & 0 & 0 & 0 & 0 & 0 & 0 & 0 & 0 & 0 & 0 & 0 & 0 & 0 & 0 & 0 & 0 & 0 & 0 & 0 & 0 & 0 & 0 & 0 & 0 & 0 & 0 & 0 & 0 & 0 & 0 & 0 & 0 & 0 & 0 & 0 & 0 & 0 & 0 \\\\\n",
       "0 & 0 & 0 & 0 & 0 & 0 & 0 & 0 & 0 & 0 & 0 & 0 & 0 & 0 & 0 & 0 & 0 & 0 & 0 & 0 & 0 & 0 & 0 & 0 & 0 & 0 & 0 & 0 & 0 & 0 & 0 & 0 & 0 & 0 & 0 & 0 & 1 & 0 & 0 & 0 & 0 & 0 & 0 & 0 & 0 & 0 & 0 & 0 & 0 & 0 & 0 & 0 & 0 & 0 & 0 & 0 & 0 & 0 & 0 & 0 & 0 & 0 & 0 & 0 & 0 & 0 & 0 & 0 & 0 & 0 & 0 & 0 \\\\\n",
       "0 & 0 & 0 & 0 & 0 & 0 & 0 & 0 & 0 & 0 & 0 & 0 & 0 & 0 & 0 & 0 & 0 & 0 & 0 & 0 & 0 & 0 & 0 & 0 & 0 & 0 & 0 & 0 & 0 & 0 & 0 & 0 & 0 & 0 & 0 & 0 & 0 & 0 & 0 & 0 & 0 & 0 & 0 & 0 & 0 & 0 & 0 & 0 & 0 & 1 & 0 & 0 & 0 & 0 & 0 & 0 & 0 & 0 & 0 & 0 & 0 & 0 & 0 & 0 & 0 & 0 & 0 & 0 & 0 & 0 & 0 & 0 \\\\\n",
       "0 & 0 & 0 & 0 & 0 & 0 & 0 & 0 & 0 & 0 & 0 & 0 & 0 & 0 & 0 & 0 & 0 & 0 & 0 & 0 & 0 & 0 & 0 & 0 & 0 & 0 & 0 & 0 & 0 & 0 & 0 & 0 & 0 & 0 & 0 & 0 & 0 & 0 & 0 & 0 & 0 & 0 & 1 & 0 & 0 & 0 & 0 & 0 & 0 & 0 & 0 & 0 & 0 & 0 & 0 & 0 & 0 & 0 & 0 & 0 & 0 & 0 & 0 & 0 & 0 & 0 & 0 & 0 & 0 & 0 & 0 & 0 \\\\\n",
       "0 & 0 & 0 & 0 & 0 & 0 & 0 & 0 & 0 & 0 & 0 & 0 & 0 & 0 & 0 & 0 & 0 & 0 & 0 & 0 & 0 & 0 & 0 & 0 & 0 & 0 & 0 & 0 & 1 & 0 & 0 & 0 & 0 & 0 & 0 & 0 & 0 & 0 & 0 & 0 & 0 & 0 & 0 & 0 & 0 & 0 & 0 & 0 & 0 & 0 & 0 & 0 & 0 & 0 & 0 & 0 & 0 & 0 & 0 & 0 & 0 & 0 & 0 & 0 & 0 & 0 & 0 & 0 & 0 & 0 & 0 & 0 \\\\\n",
       "0 & 0 & 0 & 0 & 0 & 0 & 0 & 0 & 0 & 0 & 0 & 0 & 0 & 0 & 0 & 0 & 0 & 0 & 0 & 0 & 0 & 0 & 0 & 0 & 0 & 0 & 0 & 0 & 0 & 0 & 1 & 0 & 0 & 0 & 0 & 0 & 0 & 0 & 0 & 0 & 0 & 0 & 0 & 0 & 0 & 0 & 0 & 0 & 0 & 0 & 0 & 0 & 0 & 0 & 0 & 0 & 0 & 0 & 0 & 0 & 0 & 0 & 0 & 0 & 0 & 0 & 0 & 0 & 0 & 0 & 0 & 0 \\\\\n",
       "0 & 0 & 0 & 0 & 0 & 0 & 0 & 0 & 0 & 0 & 0 & 0 & 0 & 0 & 0 & 0 & 0 & 0 & 0 & 0 & 0 & 0 & 0 & 0 & 0 & 0 & 0 & 0 & 0 & 1 & 0 & 0 & 0 & 0 & 0 & 0 & 0 & 0 & 0 & 0 & 0 & 0 & 0 & 0 & 0 & 0 & 0 & 0 & 0 & 0 & 0 & 0 & 0 & 0 & 0 & 0 & 0 & 0 & 0 & 0 & 0 & 0 & 0 & 0 & 0 & 0 & 0 & 0 & 0 & 0 & 0 & 0 \\\\\n",
       "0 & 0 & 0 & 0 & 0 & 0 & 0 & 0 & 0 & 0 & 0 & 0 & 0 & 0 & 0 & 0 & 0 & 0 & 0 & 0 & 0 & 0 & 0 & 0 & 0 & 0 & 0 & 0 & 0 & 0 & 0 & 0 & 0 & 0 & 0 & 0 & 0 & 0 & 1 & 0 & 0 & 0 & 0 & 0 & 0 & 0 & 0 & 0 & 0 & 0 & 0 & 0 & 0 & 0 & 0 & 0 & 0 & 0 & 0 & 0 & 0 & 0 & 0 & 0 & 0 & 0 & 0 & 0 & 0 & 0 & 0 & 0 \\\\\n",
       "0 & 0 & 0 & 0 & 0 & 0 & 0 & 0 & 0 & 0 & 0 & 0 & 0 & 0 & 0 & 0 & 0 & 0 & 0 & 0 & 0 & 0 & 0 & 0 & 0 & 0 & 0 & 0 & 0 & 0 & 0 & 0 & 0 & 0 & 0 & 0 & 0 & 0 & 0 & 0 & 0 & 0 & 0 & 0 & 0 & 0 & 0 & 0 & 0 & 0 & 0 & 1 & 0 & 0 & 0 & 0 & 0 & 0 & 0 & 0 & 0 & 0 & 0 & 0 & 0 & 0 & 0 & 0 & 0 & 0 & 0 & 0 \\\\\n",
       "0 & 0 & 0 & 0 & 0 & 0 & 0 & 0 & 0 & 0 & 0 & 0 & 0 & 0 & 0 & 0 & 0 & 0 & 0 & 0 & 0 & 0 & 0 & 0 & 0 & 0 & 0 & 0 & 0 & 0 & 0 & 0 & 0 & 0 & 0 & 0 & 0 & 0 & 0 & 0 & 0 & 0 & 0 & 0 & 1 & 0 & 0 & 0 & 0 & 0 & 0 & 0 & 0 & 0 & 0 & 0 & 0 & 0 & 0 & 0 & 0 & 0 & 0 & 0 & 0 & 0 & 0 & 0 & 0 & 0 & 0 & 0 \\\\\n",
       "0 & 0 & 0 & 0 & 0 & 0 & 0 & 0 & 0 & 0 & 0 & 0 & 0 & 0 & 0 & 0 & 0 & 0 & 0 & 0 & 0 & 0 & 0 & 0 & 0 & 0 & 0 & 0 & 0 & 0 & 0 & 1 & 0 & 0 & 0 & 0 & 0 & 0 & 0 & 0 & 0 & 0 & 0 & 0 & 0 & 0 & 0 & 0 & 0 & 0 & 0 & 0 & 0 & 0 & 0 & 0 & 0 & 0 & 0 & 0 & 0 & 0 & 0 & 0 & 0 & 0 & 0 & 0 & 0 & 0 & 0 & 0 \\\\\n",
       "0 & 0 & 0 & 0 & 0 & 0 & 0 & 0 & 0 & 0 & 0 & 0 & 0 & 0 & 0 & 0 & 0 & 0 & 0 & 0 & 0 & 0 & 0 & 0 & 1 & 0 & 0 & 0 & 0 & 0 & 0 & 0 & 0 & 0 & 0 & 0 & 0 & 0 & 0 & 0 & 0 & 0 & 0 & 0 & 0 & 0 & 0 & 0 & 0 & 0 & 0 & 0 & 0 & 0 & 0 & 0 & 0 & 0 & 0 & 0 & 0 & 0 & 0 & 0 & 0 & 0 & 0 & 0 & 0 & 0 & 0 & 0 \\\\\n",
       "0 & 0 & 0 & 0 & 0 & 0 & 0 & 0 & 0 & 0 & 0 & 0 & 0 & 0 & 0 & 0 & 0 & 0 & 0 & 0 & 0 & 0 & 0 & 0 & 0 & 0 & 1 & 0 & 0 & 0 & 0 & 0 & 0 & 0 & 0 & 0 & 0 & 0 & 0 & 0 & 0 & 0 & 0 & 0 & 0 & 0 & 0 & 0 & 0 & 0 & 0 & 0 & 0 & 0 & 0 & 0 & 0 & 0 & 0 & 0 & 0 & 0 & 0 & 0 & 0 & 0 & 0 & 0 & 0 & 0 & 0 & 0 \\\\\n",
       "0 & 0 & 0 & 0 & 0 & 0 & 0 & 0 & 0 & 0 & 0 & 0 & 0 & 0 & 0 & 0 & 0 & 0 & 0 & 0 & 0 & 0 & 0 & 0 & 0 & 1 & 0 & 0 & 0 & 0 & 0 & 0 & 0 & 0 & 0 & 0 & 0 & 0 & 0 & 0 & 0 & 0 & 0 & 0 & 0 & 0 & 0 & 0 & 0 & 0 & 0 & 0 & 0 & 0 & 0 & 0 & 0 & 0 & 0 & 0 & 0 & 0 & 0 & 0 & 0 & 0 & 0 & 0 & 0 & 0 & 0 & 0 \\\\\n",
       "0 & 0 & 0 & 0 & 0 & 0 & 0 & 0 & 0 & 0 & 0 & 0 & 0 & 0 & 0 & 0 & 0 & 0 & 0 & 0 & 0 & 0 & 0 & 0 & 0 & 0 & 0 & 0 & 0 & 0 & 0 & 0 & 0 & 0 & 0 & 0 & 0 & 1 & 0 & 0 & 0 & 0 & 0 & 0 & 0 & 0 & 0 & 0 & 0 & 0 & 0 & 0 & 0 & 0 & 0 & 0 & 0 & 0 & 0 & 0 & 0 & 0 & 0 & 0 & 0 & 0 & 0 & 0 & 0 & 0 & 0 & 0 \\\\\n",
       "0 & 0 & 0 & 0 & 0 & 0 & 0 & 0 & 0 & 0 & 0 & 0 & 0 & 0 & 0 & 0 & 0 & 0 & 0 & 0 & 0 & 0 & 0 & 0 & 0 & 0 & 0 & 0 & 0 & 0 & 0 & 0 & 0 & 0 & 0 & 0 & 0 & 0 & 0 & 0 & 0 & 0 & 0 & 0 & 0 & 0 & 0 & 0 & 0 & 0 & 1 & 0 & 0 & 0 & 0 & 0 & 0 & 0 & 0 & 0 & 0 & 0 & 0 & 0 & 0 & 0 & 0 & 0 & 0 & 0 & 0 & 0 \\\\\n",
       "0 & 0 & 0 & 0 & 0 & 0 & 0 & 0 & 0 & 0 & 0 & 0 & 0 & 0 & 0 & 0 & 0 & 0 & 0 & 0 & 0 & 0 & 0 & 0 & 0 & 0 & 0 & 0 & 0 & 0 & 0 & 0 & 0 & 0 & 0 & 0 & 0 & 0 & 0 & 0 & 0 & 0 & 0 & 1 & 0 & 0 & 0 & 0 & 0 & 0 & 0 & 0 & 0 & 0 & 0 & 0 & 0 & 0 & 0 & 0 & 0 & 0 & 0 & 0 & 0 & 0 & 0 & 0 & 0 & 0 & 0 & 0 \\\\\n",
       "0 & 0 & 0 & 0 & 0 & 0 & 0 & 0 & 0 & 0 & 0 & 0 & 0 & 0 & 0 & 0 & 0 & 0 & 0 & 0 & 0 & 0 & 0 & 0 & 0 & 0 & 0 & 1 & 0 & 0 & 0 & 0 & 0 & 0 & 0 & 0 & 0 & 0 & 0 & 0 & 0 & 0 & 0 & 0 & 0 & 0 & 0 & 0 & 0 & 0 & 0 & 0 & 0 & 0 & 0 & 0 & 0 & 0 & 0 & 0 & 0 & 0 & 0 & 0 & 0 & 0 & 0 & 0 & 0 & 0 & 0 & 0 \\\\\n",
       "0 & 0 & 0 & 0 & 0 & 0 & 0 & 0 & 0 & 0 & 0 & 0 & 0 & 0 & 0 & 0 & 0 & 0 & 0 & 0 & 0 & 0 & 0 & 0 & 0 & 0 & 0 & 0 & 0 & 0 & 0 & 0 & 1 & 0 & 0 & 0 & 0 & 0 & 0 & 0 & 0 & 0 & 0 & 0 & 0 & 0 & 0 & 0 & 0 & 0 & 0 & 0 & 0 & 0 & 0 & 0 & 0 & 0 & 0 & 0 & 0 & 0 & 0 & 0 & 0 & 0 & 0 & 0 & 0 & 0 & 0 & 0 \\\\\n",
       "0 & 0 & 0 & 0 & 0 & 0 & 0 & 0 & 0 & 0 & 0 & 0 & 0 & 0 & 0 & 0 & 0 & 0 & 0 & 0 & 0 & 0 & 0 & 0 & 0 & 0 & 0 & 0 & 0 & 0 & 0 & 0 & 0 & 0 & 0 & 0 & 0 & 0 & 0 & 0 & 0 & 0 & 0 & 0 & 0 & 0 & 0 & 0 & 0 & 0 & 0 & 0 & 0 & 0 & 1 & 0 & 0 & 0 & 0 & 0 & 0 & 0 & 0 & 0 & 0 & 0 & 0 & 0 & 0 & 0 & 0 & 0 \\\\\n",
       "0 & 0 & 0 & 0 & 0 & 0 & 0 & 0 & 0 & 0 & 0 & 0 & 0 & 0 & 0 & 0 & 0 & 0 & 0 & 0 & 0 & 0 & 0 & 0 & 0 & 0 & 0 & 0 & 0 & 0 & 0 & 0 & 0 & 0 & 0 & 0 & 0 & 0 & 0 & 0 & 0 & 0 & 0 & 0 & 0 & 0 & 0 & 0 & 0 & 0 & 0 & 0 & 0 & 0 & 0 & 1 & 0 & 0 & 0 & 0 & 0 & 0 & 0 & 0 & 0 & 0 & 0 & 0 & 0 & 0 & 0 & 0 \\\\\n",
       "0 & 0 & 0 & 0 & 0 & 0 & 0 & 0 & 0 & 0 & 0 & 0 & 0 & 0 & 0 & 0 & 0 & 0 & 0 & 0 & 0 & 0 & 0 & 0 & 0 & 0 & 0 & 0 & 0 & 0 & 0 & 0 & 0 & 0 & 0 & 0 & 0 & 0 & 0 & 0 & 0 & 0 & 0 & 0 & 0 & 0 & 0 & 0 & 0 & 0 & 0 & 0 & 0 & 0 & 0 & 0 & 0 & 0 & 1 & 0 & 0 & 0 & 0 & 0 & 0 & 0 & 0 & 0 & 0 & 0 & 0 & 0 \\\\\n",
       "0 & 0 & 0 & 0 & 0 & 0 & 0 & 0 & 0 & 0 & 0 & 0 & 0 & 0 & 0 & 0 & 0 & 0 & 0 & 0 & 0 & 0 & 0 & 0 & 0 & 0 & 0 & 0 & 0 & 0 & 0 & 0 & 0 & 0 & 0 & 0 & 0 & 0 & 0 & 0 & 0 & 0 & 0 & 0 & 0 & 0 & 0 & 0 & 0 & 0 & 0 & 0 & 0 & 0 & 0 & 0 & 0 & 0 & 0 & 1 & 0 & 0 & 0 & 0 & 0 & 0 & 0 & 0 & 0 & 0 & 0 & 0 \\\\\n",
       "0 & 0 & 0 & 0 & 0 & 0 & 0 & 0 & 0 & 0 & 0 & 0 & 0 & 0 & 0 & 0 & 0 & 0 & 0 & 0 & 0 & 0 & 0 & 0 & 0 & 0 & 0 & 0 & 0 & 0 & 0 & 0 & 0 & 0 & 0 & 0 & 0 & 0 & 0 & 0 & 0 & 0 & 0 & 0 & 0 & 0 & 0 & 0 & 0 & 0 & 0 & 0 & 0 & 0 & 0 & 0 & 1 & 0 & 0 & 0 & 0 & 0 & 0 & 0 & 0 & 0 & 0 & 0 & 0 & 0 & 0 & 0 \\\\\n",
       "0 & 0 & 0 & 0 & 0 & 0 & 0 & 0 & 0 & 0 & 0 & 0 & 0 & 0 & 0 & 0 & 0 & 0 & 0 & 0 & 0 & 0 & 0 & 0 & 0 & 0 & 0 & 0 & 0 & 0 & 0 & 0 & 0 & 0 & 0 & 0 & 0 & 0 & 0 & 0 & 0 & 0 & 0 & 0 & 0 & 0 & 0 & 0 & 0 & 0 & 0 & 0 & 0 & 0 & 0 & 0 & 0 & 1 & 0 & 0 & 0 & 0 & 0 & 0 & 0 & 0 & 0 & 0 & 0 & 0 & 0 & 0 \\\\\n",
       "0 & 0 & 0 & 0 & 0 & 0 & 0 & 0 & 0 & 0 & 0 & 0 & 0 & 0 & 0 & 0 & 0 & 0 & 0 & 0 & 0 & 0 & 0 & 0 & 0 & 0 & 0 & 0 & 0 & 0 & 0 & 0 & 0 & 0 & 0 & 0 & 0 & 0 & 0 & 0 & 0 & 0 & 0 & 0 & 0 & 0 & 0 & 0 & 0 & 0 & 0 & 0 & 0 & 0 & 0 & 0 & 0 & 0 & 0 & 0 & 0 & 0 & 0 & 0 & 0 & 0 & 1 & 0 & 0 & 0 & 0 & 0 \\\\\n",
       "0 & 0 & 0 & 0 & 0 & 0 & 0 & 0 & 0 & 0 & 0 & 0 & 0 & 0 & 0 & 0 & 0 & 0 & 0 & 0 & 0 & 0 & 0 & 0 & 0 & 0 & 0 & 0 & 0 & 0 & 0 & 0 & 0 & 0 & 0 & 0 & 0 & 0 & 0 & 0 & 0 & 0 & 0 & 0 & 0 & 0 & 0 & 0 & 0 & 0 & 0 & 0 & 0 & 0 & 0 & 0 & 0 & 0 & 0 & 0 & 0 & 0 & 0 & 0 & 0 & 0 & 0 & 1 & 0 & 0 & 0 & 0 \\\\\n",
       "0 & 0 & 0 & 0 & 0 & 0 & 0 & 0 & 0 & 0 & 0 & 0 & 0 & 0 & 0 & 0 & 0 & 0 & 0 & 0 & 0 & 0 & 0 & 0 & 0 & 0 & 0 & 0 & 0 & 0 & 0 & 0 & 0 & 0 & 0 & 0 & 0 & 0 & 0 & 0 & 0 & 0 & 0 & 0 & 0 & 0 & 0 & 0 & 0 & 0 & 0 & 0 & 0 & 0 & 0 & 0 & 0 & 0 & 0 & 0 & 0 & 0 & 0 & 0 & 0 & 0 & 0 & 0 & 0 & 0 & 1 & 0 \\\\\n",
       "0 & 0 & 0 & 0 & 0 & 0 & 0 & 0 & 0 & 0 & 0 & 0 & 0 & 0 & 0 & 0 & 0 & 0 & 0 & 0 & 0 & 0 & 0 & 0 & 0 & 0 & 0 & 0 & 0 & 0 & 0 & 0 & 0 & 0 & 0 & 0 & 0 & 0 & 0 & 0 & 0 & 0 & 0 & 0 & 0 & 0 & 0 & 0 & 0 & 0 & 0 & 0 & 0 & 0 & 0 & 0 & 0 & 0 & 0 & 0 & 0 & 0 & 0 & 0 & 0 & 0 & 0 & 0 & 0 & 0 & 0 & 1 \\\\\n",
       "0 & 0 & 0 & 0 & 0 & 0 & 0 & 0 & 0 & 0 & 0 & 0 & 0 & 0 & 0 & 0 & 0 & 0 & 0 & 0 & 0 & 0 & 0 & 0 & 0 & 0 & 0 & 0 & 0 & 0 & 0 & 0 & 0 & 0 & 0 & 0 & 0 & 0 & 0 & 0 & 0 & 0 & 0 & 0 & 0 & 0 & 0 & 0 & 0 & 0 & 0 & 0 & 0 & 0 & 0 & 0 & 0 & 0 & 0 & 0 & 0 & 0 & 0 & 0 & 0 & 0 & 0 & 0 & 1 & 0 & 0 & 0 \\\\\n",
       "0 & 0 & 0 & 0 & 0 & 0 & 0 & 0 & 0 & 0 & 0 & 0 & 0 & 0 & 0 & 0 & 0 & 0 & 0 & 0 & 0 & 0 & 0 & 0 & 0 & 0 & 0 & 0 & 0 & 0 & 0 & 0 & 0 & 0 & 0 & 0 & 0 & 0 & 0 & 0 & 0 & 0 & 0 & 0 & 0 & 0 & 0 & 0 & 0 & 0 & 0 & 0 & 0 & 0 & 0 & 0 & 0 & 0 & 0 & 0 & 0 & 0 & 0 & 0 & 0 & 0 & 0 & 0 & 0 & 1 & 0 & 0 \\\\\n",
       "0 & 0 & 0 & 0 & 0 & 0 & 0 & 0 & 0 & 0 & 0 & 0 & 0 & 0 & 0 & 0 & 0 & 0 & 0 & 0 & 0 & 0 & 0 & 0 & 0 & 0 & 0 & 0 & 0 & 0 & 0 & 0 & 0 & 0 & 0 & 0 & 0 & 0 & 0 & 0 & 0 & 0 & 0 & 0 & 0 & 0 & 0 & 0 & 0 & 0 & 0 & 0 & 0 & 0 & 0 & 0 & 0 & 0 & 0 & 0 & 1 & 0 & 0 & 0 & 0 & 0 & 0 & 0 & 0 & 0 & 0 & 0 \\\\\n",
       "0 & 0 & 0 & 0 & 0 & 0 & 0 & 0 & 0 & 0 & 0 & 0 & 0 & 0 & 0 & 0 & 0 & 0 & 0 & 0 & 0 & 0 & 0 & 0 & 0 & 0 & 0 & 0 & 0 & 0 & 0 & 0 & 0 & 0 & 0 & 0 & 0 & 0 & 0 & 0 & 0 & 0 & 0 & 0 & 0 & 0 & 0 & 0 & 0 & 0 & 0 & 0 & 0 & 0 & 0 & 0 & 0 & 0 & 0 & 0 & 0 & 1 & 0 & 0 & 0 & 0 & 0 & 0 & 0 & 0 & 0 & 0 \\\\\n",
       "0 & 0 & 0 & 0 & 0 & 0 & 0 & 0 & 0 & 0 & 0 & 0 & 0 & 0 & 0 & 0 & 0 & 0 & 0 & 0 & 0 & 0 & 0 & 0 & 0 & 0 & 0 & 0 & 0 & 0 & 0 & 0 & 0 & 0 & 0 & 0 & 0 & 0 & 0 & 0 & 0 & 0 & 0 & 0 & 0 & 0 & 0 & 0 & 0 & 0 & 0 & 0 & 0 & 0 & 0 & 0 & 0 & 0 & 0 & 0 & 0 & 0 & 0 & 0 & 1 & 0 & 0 & 0 & 0 & 0 & 0 & 0 \\\\\n",
       "0 & 0 & 0 & 0 & 0 & 0 & 0 & 0 & 0 & 0 & 0 & 0 & 0 & 0 & 0 & 0 & 0 & 0 & 0 & 0 & 0 & 0 & 0 & 0 & 0 & 0 & 0 & 0 & 0 & 0 & 0 & 0 & 0 & 0 & 0 & 0 & 0 & 0 & 0 & 0 & 0 & 0 & 0 & 0 & 0 & 0 & 0 & 0 & 0 & 0 & 0 & 0 & 0 & 0 & 0 & 0 & 0 & 0 & 0 & 0 & 0 & 0 & 0 & 0 & 0 & 1 & 0 & 0 & 0 & 0 & 0 & 0 \\\\\n",
       "0 & 0 & 0 & 0 & 0 & 0 & 0 & 0 & 0 & 0 & 0 & 0 & 0 & 0 & 0 & 0 & 0 & 0 & 0 & 0 & 0 & 0 & 0 & 0 & 0 & 0 & 0 & 0 & 0 & 0 & 0 & 0 & 0 & 0 & 0 & 0 & 0 & 0 & 0 & 0 & 0 & 0 & 0 & 0 & 0 & 0 & 0 & 0 & 0 & 0 & 0 & 0 & 0 & 0 & 0 & 0 & 0 & 0 & 0 & 0 & 0 & 0 & 1 & 0 & 0 & 0 & 0 & 0 & 0 & 0 & 0 & 0 \\\\\n",
       "0 & 0 & 0 & 0 & 0 & 0 & 0 & 0 & 0 & 0 & 0 & 0 & 0 & 0 & 0 & 0 & 0 & 0 & 0 & 0 & 0 & 0 & 0 & 0 & 0 & 0 & 0 & 0 & 0 & 0 & 0 & 0 & 0 & 0 & 0 & 0 & 0 & 0 & 0 & 0 & 0 & 0 & 0 & 0 & 0 & 0 & 0 & 0 & 0 & 0 & 0 & 0 & 0 & 0 & 0 & 0 & 0 & 0 & 0 & 0 & 0 & 0 & 0 & 1 & 0 & 0 & 0 & 0 & 0 & 0 & 0 & 0\n",
       "\\end{array}\\right)</script></html>"
      ],
      "text/plain": [
       "72 x 72 dense matrix over Cyclotomic Field of order 12 and degree 4 (use the '.str()' method to see the entries)"
      ]
     },
     "metadata": {},
     "output_type": "display_data"
    }
   ],
   "source": [
    "C = S^2\n",
    "show(C)"
   ]
  },
  {
   "cell_type": "code",
   "execution_count": 537,
   "metadata": {},
   "outputs": [
    {
     "data": {
      "text/html": [
       "<html><script type=\"math/tex; mode=display\">\\newcommand{\\Bold}[1]{\\mathbf{#1}}\\left[0, 1, 2, 3, 4, 5, 6, 7, 8\\right]</script></html>"
      ],
      "text/plain": [
       "[0, 1, 2, 3, 4, 5, 6, 7, 8]"
      ]
     },
     "metadata": {},
     "output_type": "display_data"
    },
    {
     "data": {
      "text/html": [
       "<html><script type=\"math/tex; mode=display\">\\newcommand{\\Bold}[1]{\\mathbf{#1}}\\left(\\begin{array}{rrrrrrrrr}\n",
       "1 & 0 & 0 & 0 & 0 & 0 & 0 & 0 & 0 \\\\\n",
       "0 & 1 & 0 & 0 & 0 & 0 & 0 & 0 & 0 \\\\\n",
       "0 & 0 & 1 & 0 & 0 & 0 & 0 & 0 & 0 \\\\\n",
       "0 & 0 & 0 & 1 & 0 & 0 & 0 & 0 & 0 \\\\\n",
       "0 & 0 & 0 & 0 & 1 & 0 & 0 & 0 & 0 \\\\\n",
       "0 & 0 & 0 & 0 & 0 & 1 & 0 & 0 & 0 \\\\\n",
       "0 & 0 & 0 & 0 & 0 & 0 & 1 & 0 & 0 \\\\\n",
       "0 & 0 & 0 & 0 & 0 & 0 & 0 & 1 & 0 \\\\\n",
       "0 & 0 & 0 & 0 & 0 & 0 & 0 & 0 & 1\n",
       "\\end{array}\\right)</script></html>"
      ],
      "text/plain": [
       "[1 0 0 0 0 0 0 0 0]\n",
       "[0 1 0 0 0 0 0 0 0]\n",
       "[0 0 1 0 0 0 0 0 0]\n",
       "[0 0 0 1 0 0 0 0 0]\n",
       "[0 0 0 0 1 0 0 0 0]\n",
       "[0 0 0 0 0 1 0 0 0]\n",
       "[0 0 0 0 0 0 1 0 0]\n",
       "[0 0 0 0 0 0 0 1 0]\n",
       "[0 0 0 0 0 0 0 0 1]"
      ]
     },
     "metadata": {},
     "output_type": "display_data"
    },
    {
     "data": {
      "text/html": [
       "<html><script type=\"math/tex; mode=display\">\\newcommand{\\Bold}[1]{\\mathbf{#1}}\\left(\\begin{array}{rrrrrrrrr}\n",
       "0 & 1 & 0 & 0 & 0 & 0 & 0 & 0 & 0 \\\\\n",
       "1 & 0 & 0 & 0 & 0 & 0 & 0 & 0 & 0 \\\\\n",
       "0 & 0 & 0 & 1 & 0 & 0 & 0 & 0 & 0 \\\\\n",
       "0 & 0 & 1 & 0 & 0 & 0 & 0 & 0 & 0 \\\\\n",
       "0 & 0 & 0 & 0 & 1 & 0 & 0 & 0 & 0 \\\\\n",
       "0 & 0 & 0 & 0 & 0 & 0 & 1 & 0 & 0 \\\\\n",
       "0 & 0 & 0 & 0 & 0 & 1 & 0 & 0 & 0 \\\\\n",
       "0 & 0 & 0 & 0 & 0 & 0 & 0 & 0 & 1 \\\\\n",
       "0 & 0 & 0 & 0 & 0 & 0 & 0 & 1 & 0\n",
       "\\end{array}\\right)</script></html>"
      ],
      "text/plain": [
       "[0 1 0 0 0 0 0 0 0]\n",
       "[1 0 0 0 0 0 0 0 0]\n",
       "[0 0 0 1 0 0 0 0 0]\n",
       "[0 0 1 0 0 0 0 0 0]\n",
       "[0 0 0 0 1 0 0 0 0]\n",
       "[0 0 0 0 0 0 1 0 0]\n",
       "[0 0 0 0 0 1 0 0 0]\n",
       "[0 0 0 0 0 0 0 0 1]\n",
       "[0 0 0 0 0 0 0 1 0]"
      ]
     },
     "metadata": {},
     "output_type": "display_data"
    },
    {
     "data": {
      "text/html": [
       "<html><script type=\"math/tex; mode=display\">\\newcommand{\\Bold}[1]{\\mathbf{#1}}\\left(\\begin{array}{rrrrrrrrr}\n",
       "0 & 0 & 1 & 0 & 0 & 0 & 0 & 0 & 0 \\\\\n",
       "0 & 0 & 0 & 1 & 0 & 0 & 0 & 0 & 0 \\\\\n",
       "1 & 0 & 0 & 0 & 0 & 0 & 0 & 0 & 0 \\\\\n",
       "0 & 1 & 0 & 0 & 0 & 0 & 0 & 0 & 0 \\\\\n",
       "0 & 0 & 0 & 0 & 1 & 0 & 0 & 0 & 0 \\\\\n",
       "0 & 0 & 0 & 0 & 0 & 0 & 1 & 0 & 0 \\\\\n",
       "0 & 0 & 0 & 0 & 0 & 1 & 0 & 0 & 0 \\\\\n",
       "0 & 0 & 0 & 0 & 0 & 0 & 0 & 1 & 0 \\\\\n",
       "0 & 0 & 0 & 0 & 0 & 0 & 0 & 0 & 1\n",
       "\\end{array}\\right)</script></html>"
      ],
      "text/plain": [
       "[0 0 1 0 0 0 0 0 0]\n",
       "[0 0 0 1 0 0 0 0 0]\n",
       "[1 0 0 0 0 0 0 0 0]\n",
       "[0 1 0 0 0 0 0 0 0]\n",
       "[0 0 0 0 1 0 0 0 0]\n",
       "[0 0 0 0 0 0 1 0 0]\n",
       "[0 0 0 0 0 1 0 0 0]\n",
       "[0 0 0 0 0 0 0 1 0]\n",
       "[0 0 0 0 0 0 0 0 1]"
      ]
     },
     "metadata": {},
     "output_type": "display_data"
    },
    {
     "data": {
      "text/html": [
       "<html><script type=\"math/tex; mode=display\">\\newcommand{\\Bold}[1]{\\mathbf{#1}}\\left(\\begin{array}{rrrrrrrrr}\n",
       "0 & 0 & 0 & 1 & 0 & 0 & 0 & 0 & 0 \\\\\n",
       "0 & 0 & 1 & 0 & 0 & 0 & 0 & 0 & 0 \\\\\n",
       "0 & 1 & 0 & 0 & 0 & 0 & 0 & 0 & 0 \\\\\n",
       "1 & 0 & 0 & 0 & 0 & 0 & 0 & 0 & 0 \\\\\n",
       "0 & 0 & 0 & 0 & 1 & 0 & 0 & 0 & 0 \\\\\n",
       "0 & 0 & 0 & 0 & 0 & 1 & 0 & 0 & 0 \\\\\n",
       "0 & 0 & 0 & 0 & 0 & 0 & 1 & 0 & 0 \\\\\n",
       "0 & 0 & 0 & 0 & 0 & 0 & 0 & 0 & 1 \\\\\n",
       "0 & 0 & 0 & 0 & 0 & 0 & 0 & 1 & 0\n",
       "\\end{array}\\right)</script></html>"
      ],
      "text/plain": [
       "[0 0 0 1 0 0 0 0 0]\n",
       "[0 0 1 0 0 0 0 0 0]\n",
       "[0 1 0 0 0 0 0 0 0]\n",
       "[1 0 0 0 0 0 0 0 0]\n",
       "[0 0 0 0 1 0 0 0 0]\n",
       "[0 0 0 0 0 1 0 0 0]\n",
       "[0 0 0 0 0 0 1 0 0]\n",
       "[0 0 0 0 0 0 0 0 1]\n",
       "[0 0 0 0 0 0 0 1 0]"
      ]
     },
     "metadata": {},
     "output_type": "display_data"
    },
    {
     "data": {
      "text/html": [
       "<html><script type=\"math/tex; mode=display\">\\newcommand{\\Bold}[1]{\\mathbf{#1}}\\left(\\begin{array}{rrrrrrrrr}\n",
       "0 & 0 & 0 & 0 & 1 & 0 & 0 & 0 & 0 \\\\\n",
       "0 & 0 & 0 & 0 & 1 & 0 & 0 & 0 & 0 \\\\\n",
       "0 & 0 & 0 & 0 & 1 & 0 & 0 & 0 & 0 \\\\\n",
       "0 & 0 & 0 & 0 & 1 & 0 & 0 & 0 & 0 \\\\\n",
       "1 & 1 & 1 & 1 & 0 & 0 & 0 & 0 & 0 \\\\\n",
       "0 & 0 & 0 & 0 & 0 & 0 & 0 & 1 & 1 \\\\\n",
       "0 & 0 & 0 & 0 & 0 & 0 & 0 & 1 & 1 \\\\\n",
       "0 & 0 & 0 & 0 & 0 & 1 & 1 & 0 & 0 \\\\\n",
       "0 & 0 & 0 & 0 & 0 & 1 & 1 & 0 & 0\n",
       "\\end{array}\\right)</script></html>"
      ],
      "text/plain": [
       "[0 0 0 0 1 0 0 0 0]\n",
       "[0 0 0 0 1 0 0 0 0]\n",
       "[0 0 0 0 1 0 0 0 0]\n",
       "[0 0 0 0 1 0 0 0 0]\n",
       "[1 1 1 1 0 0 0 0 0]\n",
       "[0 0 0 0 0 0 0 1 1]\n",
       "[0 0 0 0 0 0 0 1 1]\n",
       "[0 0 0 0 0 1 1 0 0]\n",
       "[0 0 0 0 0 1 1 0 0]"
      ]
     },
     "metadata": {},
     "output_type": "display_data"
    },
    {
     "data": {
      "text/html": [
       "<html><script type=\"math/tex; mode=display\">\\newcommand{\\Bold}[1]{\\mathbf{#1}}\\left(\\begin{array}{rrrrrrrrr}\n",
       "0 & 0 & 0 & 0 & 0 & 1 & 0 & 0 & 0 \\\\\n",
       "0 & 0 & 0 & 0 & 0 & 0 & 1 & 0 & 0 \\\\\n",
       "0 & 0 & 0 & 0 & 0 & 0 & 1 & 0 & 0 \\\\\n",
       "0 & 0 & 0 & 0 & 0 & 1 & 0 & 0 & 0 \\\\\n",
       "0 & 0 & 0 & 0 & 0 & 0 & 0 & 1 & 1 \\\\\n",
       "1 & 0 & 0 & 1 & 0 & 0 & 0 & 0 & 0 \\\\\n",
       "0 & 1 & 1 & 0 & 0 & 0 & 0 & 0 & 0 \\\\\n",
       "0 & 0 & 0 & 0 & 1 & 0 & 0 & 0 & 0 \\\\\n",
       "0 & 0 & 0 & 0 & 1 & 0 & 0 & 0 & 0\n",
       "\\end{array}\\right)</script></html>"
      ],
      "text/plain": [
       "[0 0 0 0 0 1 0 0 0]\n",
       "[0 0 0 0 0 0 1 0 0]\n",
       "[0 0 0 0 0 0 1 0 0]\n",
       "[0 0 0 0 0 1 0 0 0]\n",
       "[0 0 0 0 0 0 0 1 1]\n",
       "[1 0 0 1 0 0 0 0 0]\n",
       "[0 1 1 0 0 0 0 0 0]\n",
       "[0 0 0 0 1 0 0 0 0]\n",
       "[0 0 0 0 1 0 0 0 0]"
      ]
     },
     "metadata": {},
     "output_type": "display_data"
    },
    {
     "data": {
      "text/html": [
       "<html><script type=\"math/tex; mode=display\">\\newcommand{\\Bold}[1]{\\mathbf{#1}}\\left(\\begin{array}{rrrrrrrrr}\n",
       "0 & 0 & 0 & 0 & 0 & 0 & 1 & 0 & 0 \\\\\n",
       "0 & 0 & 0 & 0 & 0 & 1 & 0 & 0 & 0 \\\\\n",
       "0 & 0 & 0 & 0 & 0 & 1 & 0 & 0 & 0 \\\\\n",
       "0 & 0 & 0 & 0 & 0 & 0 & 1 & 0 & 0 \\\\\n",
       "0 & 0 & 0 & 0 & 0 & 0 & 0 & 1 & 1 \\\\\n",
       "0 & 1 & 1 & 0 & 0 & 0 & 0 & 0 & 0 \\\\\n",
       "1 & 0 & 0 & 1 & 0 & 0 & 0 & 0 & 0 \\\\\n",
       "0 & 0 & 0 & 0 & 1 & 0 & 0 & 0 & 0 \\\\\n",
       "0 & 0 & 0 & 0 & 1 & 0 & 0 & 0 & 0\n",
       "\\end{array}\\right)</script></html>"
      ],
      "text/plain": [
       "[0 0 0 0 0 0 1 0 0]\n",
       "[0 0 0 0 0 1 0 0 0]\n",
       "[0 0 0 0 0 1 0 0 0]\n",
       "[0 0 0 0 0 0 1 0 0]\n",
       "[0 0 0 0 0 0 0 1 1]\n",
       "[0 1 1 0 0 0 0 0 0]\n",
       "[1 0 0 1 0 0 0 0 0]\n",
       "[0 0 0 0 1 0 0 0 0]\n",
       "[0 0 0 0 1 0 0 0 0]"
      ]
     },
     "metadata": {},
     "output_type": "display_data"
    },
    {
     "data": {
      "text/html": [
       "<html><script type=\"math/tex; mode=display\">\\newcommand{\\Bold}[1]{\\mathbf{#1}}\\left(\\begin{array}{rrrrrrrrr}\n",
       "0 & 0 & 0 & 0 & 0 & 0 & 0 & 1 & 0 \\\\\n",
       "0 & 0 & 0 & 0 & 0 & 0 & 0 & 0 & 1 \\\\\n",
       "0 & 0 & 0 & 0 & 0 & 0 & 0 & 1 & 0 \\\\\n",
       "0 & 0 & 0 & 0 & 0 & 0 & 0 & 0 & 1 \\\\\n",
       "0 & 0 & 0 & 0 & 0 & 1 & 1 & 0 & 0 \\\\\n",
       "0 & 0 & 0 & 0 & 1 & 0 & 0 & 0 & 0 \\\\\n",
       "0 & 0 & 0 & 0 & 1 & 0 & 0 & 0 & 0 \\\\\n",
       "1 & 0 & 1 & 0 & 0 & 0 & 0 & 0 & 0 \\\\\n",
       "0 & 1 & 0 & 1 & 0 & 0 & 0 & 0 & 0\n",
       "\\end{array}\\right)</script></html>"
      ],
      "text/plain": [
       "[0 0 0 0 0 0 0 1 0]\n",
       "[0 0 0 0 0 0 0 0 1]\n",
       "[0 0 0 0 0 0 0 1 0]\n",
       "[0 0 0 0 0 0 0 0 1]\n",
       "[0 0 0 0 0 1 1 0 0]\n",
       "[0 0 0 0 1 0 0 0 0]\n",
       "[0 0 0 0 1 0 0 0 0]\n",
       "[1 0 1 0 0 0 0 0 0]\n",
       "[0 1 0 1 0 0 0 0 0]"
      ]
     },
     "metadata": {},
     "output_type": "display_data"
    },
    {
     "data": {
      "text/html": [
       "<html><script type=\"math/tex; mode=display\">\\newcommand{\\Bold}[1]{\\mathbf{#1}}\\left(\\begin{array}{rrrrrrrrr}\n",
       "0 & 0 & 0 & 0 & 0 & 0 & 0 & 0 & 1 \\\\\n",
       "0 & 0 & 0 & 0 & 0 & 0 & 0 & 1 & 0 \\\\\n",
       "0 & 0 & 0 & 0 & 0 & 0 & 0 & 0 & 1 \\\\\n",
       "0 & 0 & 0 & 0 & 0 & 0 & 0 & 1 & 0 \\\\\n",
       "0 & 0 & 0 & 0 & 0 & 1 & 1 & 0 & 0 \\\\\n",
       "0 & 0 & 0 & 0 & 1 & 0 & 0 & 0 & 0 \\\\\n",
       "0 & 0 & 0 & 0 & 1 & 0 & 0 & 0 & 0 \\\\\n",
       "0 & 1 & 0 & 1 & 0 & 0 & 0 & 0 & 0 \\\\\n",
       "1 & 0 & 1 & 0 & 0 & 0 & 0 & 0 & 0\n",
       "\\end{array}\\right)</script></html>"
      ],
      "text/plain": [
       "[0 0 0 0 0 0 0 0 1]\n",
       "[0 0 0 0 0 0 0 1 0]\n",
       "[0 0 0 0 0 0 0 0 1]\n",
       "[0 0 0 0 0 0 0 1 0]\n",
       "[0 0 0 0 0 1 1 0 0]\n",
       "[0 0 0 0 1 0 0 0 0]\n",
       "[0 0 0 0 1 0 0 0 0]\n",
       "[0 1 0 1 0 0 0 0 0]\n",
       "[1 0 1 0 0 0 0 0 0]"
      ]
     },
     "metadata": {},
     "output_type": "display_data"
    }
   ],
   "source": [
    "ZC_n = 4*n + binomial(n,2)\n",
    "basis = [vector([0]*i + [1] + [0]*(ZC_n-1-i)) for i in range(ZC_n)]\n",
    "conj = [basis.index(C*b) for b in basis]\n",
    "show(conj)\n",
    "fusions = [matrix([[sum([S[i][r]*S[j][r]*S[conj[k]][r]/S[0][r] for r in range(ZC_n)]) for j in range(ZC_n)] for k in range(ZC_n)]) for i in range(ZC_n)]\n",
    "for N in fusions:\n",
    "    show(N)"
   ]
  },
  {
   "cell_type": "code",
   "execution_count": 46,
   "metadata": {},
   "outputs": [
    {
     "data": {
      "text/html": [
       "<html><script type=\"math/tex; mode=display\">\\newcommand{\\Bold}[1]{\\mathbf{#1}}\\left(\\begin{array}{rrrrrrrrrrrrrrrrrrrrrrrrrrrrrrrrrrrrrrrrrrrrrrrrrrrrrrrrrrrrrrrrrrrrrrrr}\n",
       "1 & 0 & 0 & 0 & 0 & 0 & 0 & 0 & 0 & 0 & 0 & 0 & 0 & 0 & 0 & 0 & 0 & 0 & 0 & 0 & 0 & 0 & 0 & 0 & 0 & 0 & 0 & 0 & 0 & 0 & 0 & 0 & 0 & 0 & 0 & 0 & 0 & 0 & 0 & 0 & 0 & 0 & 0 & 0 & 0 & 0 & 0 & 0 & 0 & 0 & 0 & 0 & 0 & 0 & 0 & 0 & 0 & 0 & 0 & 0 & 0 & 0 & 0 & 0 & 0 & 0 & 0 & 0 & 0 & 0 & 0 & 0 \\\\\n",
       "0 & 1 & 0 & 0 & 0 & 0 & 0 & 0 & 0 & 0 & 0 & 0 & 0 & 0 & 0 & 0 & 0 & 0 & 0 & 0 & 0 & 0 & 0 & 0 & 0 & 0 & 0 & 0 & 0 & 0 & 0 & 0 & 0 & 0 & 0 & 0 & 0 & 0 & 0 & 0 & 0 & 0 & 0 & 0 & 0 & 0 & 0 & 0 & 0 & 0 & 0 & 0 & 0 & 0 & 0 & 0 & 0 & 0 & 0 & 0 & 0 & 0 & 0 & 0 & 0 & 0 & 0 & 0 & 0 & 0 & 0 & 0 \\\\\n",
       "0 & 0 & 0 & 0 & 1 & 0 & 0 & 0 & 0 & 0 & 0 & 0 & 0 & 0 & 0 & 0 & 0 & 0 & 0 & 0 & 0 & 0 & 0 & 0 & 0 & 0 & 0 & 0 & 0 & 0 & 0 & 0 & 0 & 0 & 0 & 0 & 0 & 0 & 0 & 0 & 0 & 0 & 0 & 0 & 0 & 0 & 0 & 0 & 0 & 0 & 0 & 0 & 0 & 0 & 0 & 0 & 0 & 0 & 0 & 0 & 0 & 0 & 0 & 0 & 0 & 0 & 0 & 0 & 0 & 0 & 0 & 0 \\\\\n",
       "0 & 0 & 0 & 0 & 0 & 1 & 0 & 0 & 0 & 0 & 0 & 0 & 0 & 0 & 0 & 0 & 0 & 0 & 0 & 0 & 0 & 0 & 0 & 0 & 0 & 0 & 0 & 0 & 0 & 0 & 0 & 0 & 0 & 0 & 0 & 0 & 0 & 0 & 0 & 0 & 0 & 0 & 0 & 0 & 0 & 0 & 0 & 0 & 0 & 0 & 0 & 0 & 0 & 0 & 0 & 0 & 0 & 0 & 0 & 0 & 0 & 0 & 0 & 0 & 0 & 0 & 0 & 0 & 0 & 0 & 0 & 0 \\\\\n",
       "0 & 0 & 1 & 0 & 0 & 0 & 0 & 0 & 0 & 0 & 0 & 0 & 0 & 0 & 0 & 0 & 0 & 0 & 0 & 0 & 0 & 0 & 0 & 0 & 0 & 0 & 0 & 0 & 0 & 0 & 0 & 0 & 0 & 0 & 0 & 0 & 0 & 0 & 0 & 0 & 0 & 0 & 0 & 0 & 0 & 0 & 0 & 0 & 0 & 0 & 0 & 0 & 0 & 0 & 0 & 0 & 0 & 0 & 0 & 0 & 0 & 0 & 0 & 0 & 0 & 0 & 0 & 0 & 0 & 0 & 0 & 0 \\\\\n",
       "0 & 0 & 0 & 1 & 0 & 0 & 0 & 0 & 0 & 0 & 0 & 0 & 0 & 0 & 0 & 0 & 0 & 0 & 0 & 0 & 0 & 0 & 0 & 0 & 0 & 0 & 0 & 0 & 0 & 0 & 0 & 0 & 0 & 0 & 0 & 0 & 0 & 0 & 0 & 0 & 0 & 0 & 0 & 0 & 0 & 0 & 0 & 0 & 0 & 0 & 0 & 0 & 0 & 0 & 0 & 0 & 0 & 0 & 0 & 0 & 0 & 0 & 0 & 0 & 0 & 0 & 0 & 0 & 0 & 0 & 0 & 0 \\\\\n",
       "0 & 0 & 0 & 0 & 0 & 0 & 0 & 0 & 0 & 0 & 0 & 0 & 1 & 0 & 0 & 0 & 0 & 0 & 0 & 0 & 0 & 0 & 0 & 0 & 0 & 0 & 0 & 0 & 0 & 0 & 0 & 0 & 0 & 0 & 0 & 0 & 0 & 0 & 0 & 0 & 0 & 0 & 0 & 0 & 0 & 0 & 0 & 0 & 0 & 0 & 0 & 0 & 0 & 0 & 0 & 0 & 0 & 0 & 0 & 0 & 0 & 0 & 0 & 0 & 0 & 0 & 0 & 0 & 0 & 0 & 0 & 0 \\\\\n",
       "0 & 0 & 0 & 0 & 0 & 0 & 0 & 0 & 0 & 0 & 0 & 0 & 0 & 1 & 0 & 0 & 0 & 0 & 0 & 0 & 0 & 0 & 0 & 0 & 0 & 0 & 0 & 0 & 0 & 0 & 0 & 0 & 0 & 0 & 0 & 0 & 0 & 0 & 0 & 0 & 0 & 0 & 0 & 0 & 0 & 0 & 0 & 0 & 0 & 0 & 0 & 0 & 0 & 0 & 0 & 0 & 0 & 0 & 0 & 0 & 0 & 0 & 0 & 0 & 0 & 0 & 0 & 0 & 0 & 0 & 0 & 0 \\\\\n",
       "0 & 0 & 0 & 0 & 0 & 0 & 0 & 0 & 0 & 0 & 0 & 0 & 0 & 0 & 0 & 0 & 1 & 0 & 0 & 0 & 0 & 0 & 0 & 0 & 0 & 0 & 0 & 0 & 0 & 0 & 0 & 0 & 0 & 0 & 0 & 0 & 0 & 0 & 0 & 0 & 0 & 0 & 0 & 0 & 0 & 0 & 0 & 0 & 0 & 0 & 0 & 0 & 0 & 0 & 0 & 0 & 0 & 0 & 0 & 0 & 0 & 0 & 0 & 0 & 0 & 0 & 0 & 0 & 0 & 0 & 0 & 0 \\\\\n",
       "0 & 0 & 0 & 0 & 0 & 0 & 0 & 0 & 0 & 0 & 0 & 0 & 0 & 0 & 0 & 0 & 0 & 1 & 0 & 0 & 0 & 0 & 0 & 0 & 0 & 0 & 0 & 0 & 0 & 0 & 0 & 0 & 0 & 0 & 0 & 0 & 0 & 0 & 0 & 0 & 0 & 0 & 0 & 0 & 0 & 0 & 0 & 0 & 0 & 0 & 0 & 0 & 0 & 0 & 0 & 0 & 0 & 0 & 0 & 0 & 0 & 0 & 0 & 0 & 0 & 0 & 0 & 0 & 0 & 0 & 0 & 0 \\\\\n",
       "0 & 0 & 0 & 0 & 0 & 0 & 0 & 0 & 0 & 0 & 0 & 0 & 0 & 0 & 1 & 0 & 0 & 0 & 0 & 0 & 0 & 0 & 0 & 0 & 0 & 0 & 0 & 0 & 0 & 0 & 0 & 0 & 0 & 0 & 0 & 0 & 0 & 0 & 0 & 0 & 0 & 0 & 0 & 0 & 0 & 0 & 0 & 0 & 0 & 0 & 0 & 0 & 0 & 0 & 0 & 0 & 0 & 0 & 0 & 0 & 0 & 0 & 0 & 0 & 0 & 0 & 0 & 0 & 0 & 0 & 0 & 0 \\\\\n",
       "0 & 0 & 0 & 0 & 0 & 0 & 0 & 0 & 0 & 0 & 0 & 0 & 0 & 0 & 0 & 1 & 0 & 0 & 0 & 0 & 0 & 0 & 0 & 0 & 0 & 0 & 0 & 0 & 0 & 0 & 0 & 0 & 0 & 0 & 0 & 0 & 0 & 0 & 0 & 0 & 0 & 0 & 0 & 0 & 0 & 0 & 0 & 0 & 0 & 0 & 0 & 0 & 0 & 0 & 0 & 0 & 0 & 0 & 0 & 0 & 0 & 0 & 0 & 0 & 0 & 0 & 0 & 0 & 0 & 0 & 0 & 0 \\\\\n",
       "0 & 0 & 0 & 0 & 0 & 0 & 1 & 0 & 0 & 0 & 0 & 0 & 0 & 0 & 0 & 0 & 0 & 0 & 0 & 0 & 0 & 0 & 0 & 0 & 0 & 0 & 0 & 0 & 0 & 0 & 0 & 0 & 0 & 0 & 0 & 0 & 0 & 0 & 0 & 0 & 0 & 0 & 0 & 0 & 0 & 0 & 0 & 0 & 0 & 0 & 0 & 0 & 0 & 0 & 0 & 0 & 0 & 0 & 0 & 0 & 0 & 0 & 0 & 0 & 0 & 0 & 0 & 0 & 0 & 0 & 0 & 0 \\\\\n",
       "0 & 0 & 0 & 0 & 0 & 0 & 0 & 1 & 0 & 0 & 0 & 0 & 0 & 0 & 0 & 0 & 0 & 0 & 0 & 0 & 0 & 0 & 0 & 0 & 0 & 0 & 0 & 0 & 0 & 0 & 0 & 0 & 0 & 0 & 0 & 0 & 0 & 0 & 0 & 0 & 0 & 0 & 0 & 0 & 0 & 0 & 0 & 0 & 0 & 0 & 0 & 0 & 0 & 0 & 0 & 0 & 0 & 0 & 0 & 0 & 0 & 0 & 0 & 0 & 0 & 0 & 0 & 0 & 0 & 0 & 0 & 0 \\\\\n",
       "0 & 0 & 0 & 0 & 0 & 0 & 0 & 0 & 0 & 0 & 1 & 0 & 0 & 0 & 0 & 0 & 0 & 0 & 0 & 0 & 0 & 0 & 0 & 0 & 0 & 0 & 0 & 0 & 0 & 0 & 0 & 0 & 0 & 0 & 0 & 0 & 0 & 0 & 0 & 0 & 0 & 0 & 0 & 0 & 0 & 0 & 0 & 0 & 0 & 0 & 0 & 0 & 0 & 0 & 0 & 0 & 0 & 0 & 0 & 0 & 0 & 0 & 0 & 0 & 0 & 0 & 0 & 0 & 0 & 0 & 0 & 0 \\\\\n",
       "0 & 0 & 0 & 0 & 0 & 0 & 0 & 0 & 0 & 0 & 0 & 1 & 0 & 0 & 0 & 0 & 0 & 0 & 0 & 0 & 0 & 0 & 0 & 0 & 0 & 0 & 0 & 0 & 0 & 0 & 0 & 0 & 0 & 0 & 0 & 0 & 0 & 0 & 0 & 0 & 0 & 0 & 0 & 0 & 0 & 0 & 0 & 0 & 0 & 0 & 0 & 0 & 0 & 0 & 0 & 0 & 0 & 0 & 0 & 0 & 0 & 0 & 0 & 0 & 0 & 0 & 0 & 0 & 0 & 0 & 0 & 0 \\\\\n",
       "0 & 0 & 0 & 0 & 0 & 0 & 0 & 0 & 1 & 0 & 0 & 0 & 0 & 0 & 0 & 0 & 0 & 0 & 0 & 0 & 0 & 0 & 0 & 0 & 0 & 0 & 0 & 0 & 0 & 0 & 0 & 0 & 0 & 0 & 0 & 0 & 0 & 0 & 0 & 0 & 0 & 0 & 0 & 0 & 0 & 0 & 0 & 0 & 0 & 0 & 0 & 0 & 0 & 0 & 0 & 0 & 0 & 0 & 0 & 0 & 0 & 0 & 0 & 0 & 0 & 0 & 0 & 0 & 0 & 0 & 0 & 0 \\\\\n",
       "0 & 0 & 0 & 0 & 0 & 0 & 0 & 0 & 0 & 1 & 0 & 0 & 0 & 0 & 0 & 0 & 0 & 0 & 0 & 0 & 0 & 0 & 0 & 0 & 0 & 0 & 0 & 0 & 0 & 0 & 0 & 0 & 0 & 0 & 0 & 0 & 0 & 0 & 0 & 0 & 0 & 0 & 0 & 0 & 0 & 0 & 0 & 0 & 0 & 0 & 0 & 0 & 0 & 0 & 0 & 0 & 0 & 0 & 0 & 0 & 0 & 0 & 0 & 0 & 0 & 0 & 0 & 0 & 0 & 0 & 0 & 0 \\\\\n",
       "0 & 0 & 0 & 0 & 0 & 0 & 0 & 0 & 0 & 0 & 0 & 0 & 0 & 0 & 0 & 0 & 0 & 0 & 0 & 1 & 0 & 0 & 0 & 0 & 0 & 0 & 0 & 0 & 0 & 0 & 0 & 0 & 0 & 0 & 0 & 0 & 0 & 0 & 0 & 0 & 0 & 0 & 0 & 0 & 0 & 0 & 0 & 0 & 0 & 0 & 0 & 0 & 0 & 0 & 0 & 0 & 0 & 0 & 0 & 0 & 0 & 0 & 0 & 0 & 0 & 0 & 0 & 0 & 0 & 0 & 0 & 0 \\\\\n",
       "0 & 0 & 0 & 0 & 0 & 0 & 0 & 0 & 0 & 0 & 0 & 0 & 0 & 0 & 0 & 0 & 0 & 0 & 1 & 0 & 0 & 0 & 0 & 0 & 0 & 0 & 0 & 0 & 0 & 0 & 0 & 0 & 0 & 0 & 0 & 0 & 0 & 0 & 0 & 0 & 0 & 0 & 0 & 0 & 0 & 0 & 0 & 0 & 0 & 0 & 0 & 0 & 0 & 0 & 0 & 0 & 0 & 0 & 0 & 0 & 0 & 0 & 0 & 0 & 0 & 0 & 0 & 0 & 0 & 0 & 0 & 0 \\\\\n",
       "0 & 0 & 0 & 0 & 0 & 0 & 0 & 0 & 0 & 0 & 0 & 0 & 0 & 0 & 0 & 0 & 0 & 0 & 0 & 0 & 1 & 0 & 0 & 0 & 0 & 0 & 0 & 0 & 0 & 0 & 0 & 0 & 0 & 0 & 0 & 0 & 0 & 0 & 0 & 0 & 0 & 0 & 0 & 0 & 0 & 0 & 0 & 0 & 0 & 0 & 0 & 0 & 0 & 0 & 0 & 0 & 0 & 0 & 0 & 0 & 0 & 0 & 0 & 0 & 0 & 0 & 0 & 0 & 0 & 0 & 0 & 0 \\\\\n",
       "0 & 0 & 0 & 0 & 0 & 0 & 0 & 0 & 0 & 0 & 0 & 0 & 0 & 0 & 0 & 0 & 0 & 0 & 0 & 0 & 0 & 0 & 0 & 0 & 0 & 0 & 0 & 0 & 0 & 0 & 0 & 0 & 0 & 1 & 0 & 0 & 0 & 0 & 0 & 0 & 0 & 0 & 0 & 0 & 0 & 0 & 0 & 0 & 0 & 0 & 0 & 0 & 0 & 0 & 0 & 0 & 0 & 0 & 0 & 0 & 0 & 0 & 0 & 0 & 0 & 0 & 0 & 0 & 0 & 0 & 0 & 0 \\\\\n",
       "0 & 0 & 0 & 0 & 0 & 0 & 0 & 0 & 0 & 0 & 0 & 0 & 0 & 0 & 0 & 0 & 0 & 0 & 0 & 0 & 0 & 0 & 0 & 0 & 0 & 0 & 0 & 0 & 0 & 0 & 0 & 0 & 0 & 0 & 0 & 1 & 0 & 0 & 0 & 0 & 0 & 0 & 0 & 0 & 0 & 0 & 0 & 0 & 0 & 0 & 0 & 0 & 0 & 0 & 0 & 0 & 0 & 0 & 0 & 0 & 0 & 0 & 0 & 0 & 0 & 0 & 0 & 0 & 0 & 0 & 0 & 0 \\\\\n",
       "0 & 0 & 0 & 0 & 0 & 0 & 0 & 0 & 0 & 0 & 0 & 0 & 0 & 0 & 0 & 0 & 0 & 0 & 0 & 0 & 0 & 0 & 0 & 0 & 0 & 0 & 0 & 0 & 0 & 0 & 0 & 0 & 0 & 0 & 1 & 0 & 0 & 0 & 0 & 0 & 0 & 0 & 0 & 0 & 0 & 0 & 0 & 0 & 0 & 0 & 0 & 0 & 0 & 0 & 0 & 0 & 0 & 0 & 0 & 0 & 0 & 0 & 0 & 0 & 0 & 0 & 0 & 0 & 0 & 0 & 0 & 0 \\\\\n",
       "0 & 0 & 0 & 0 & 0 & 0 & 0 & 0 & 0 & 0 & 0 & 0 & 0 & 0 & 0 & 0 & 0 & 0 & 0 & 0 & 0 & 0 & 0 & 0 & 0 & 0 & 0 & 0 & 0 & 0 & 0 & 0 & 0 & 0 & 0 & 0 & 0 & 0 & 0 & 0 & 0 & 0 & 0 & 0 & 0 & 0 & 1 & 0 & 0 & 0 & 0 & 0 & 0 & 0 & 0 & 0 & 0 & 0 & 0 & 0 & 0 & 0 & 0 & 0 & 0 & 0 & 0 & 0 & 0 & 0 & 0 & 0 \\\\\n",
       "0 & 0 & 0 & 0 & 0 & 0 & 0 & 0 & 0 & 0 & 0 & 0 & 0 & 0 & 0 & 0 & 0 & 0 & 0 & 0 & 0 & 0 & 0 & 0 & 0 & 0 & 0 & 0 & 0 & 0 & 0 & 0 & 0 & 0 & 0 & 0 & 0 & 0 & 0 & 0 & 0 & 0 & 0 & 0 & 0 & 0 & 0 & 0 & 1 & 0 & 0 & 0 & 0 & 0 & 0 & 0 & 0 & 0 & 0 & 0 & 0 & 0 & 0 & 0 & 0 & 0 & 0 & 0 & 0 & 0 & 0 & 0 \\\\\n",
       "0 & 0 & 0 & 0 & 0 & 0 & 0 & 0 & 0 & 0 & 0 & 0 & 0 & 0 & 0 & 0 & 0 & 0 & 0 & 0 & 0 & 0 & 0 & 0 & 0 & 0 & 0 & 0 & 0 & 0 & 0 & 0 & 0 & 0 & 0 & 0 & 0 & 0 & 0 & 0 & 0 & 0 & 0 & 0 & 0 & 0 & 0 & 1 & 0 & 0 & 0 & 0 & 0 & 0 & 0 & 0 & 0 & 0 & 0 & 0 & 0 & 0 & 0 & 0 & 0 & 0 & 0 & 0 & 0 & 0 & 0 & 0 \\\\\n",
       "0 & 0 & 0 & 0 & 0 & 0 & 0 & 0 & 0 & 0 & 0 & 0 & 0 & 0 & 0 & 0 & 0 & 0 & 0 & 0 & 0 & 0 & 0 & 0 & 0 & 0 & 0 & 0 & 0 & 0 & 0 & 0 & 0 & 0 & 0 & 0 & 0 & 0 & 0 & 0 & 0 & 0 & 0 & 0 & 0 & 0 & 0 & 0 & 0 & 0 & 0 & 0 & 1 & 0 & 0 & 0 & 0 & 0 & 0 & 0 & 0 & 0 & 0 & 0 & 0 & 0 & 0 & 0 & 0 & 0 & 0 & 0 \\\\\n",
       "0 & 0 & 0 & 0 & 0 & 0 & 0 & 0 & 0 & 0 & 0 & 0 & 0 & 0 & 0 & 0 & 0 & 0 & 0 & 0 & 0 & 0 & 0 & 0 & 0 & 0 & 0 & 0 & 0 & 0 & 0 & 0 & 0 & 0 & 0 & 0 & 0 & 0 & 0 & 1 & 0 & 0 & 0 & 0 & 0 & 0 & 0 & 0 & 0 & 0 & 0 & 0 & 0 & 0 & 0 & 0 & 0 & 0 & 0 & 0 & 0 & 0 & 0 & 0 & 0 & 0 & 0 & 0 & 0 & 0 & 0 & 0 \\\\\n",
       "0 & 0 & 0 & 0 & 0 & 0 & 0 & 0 & 0 & 0 & 0 & 0 & 0 & 0 & 0 & 0 & 0 & 0 & 0 & 0 & 0 & 0 & 0 & 0 & 0 & 0 & 0 & 0 & 0 & 0 & 0 & 0 & 0 & 0 & 0 & 0 & 0 & 0 & 0 & 0 & 0 & 1 & 0 & 0 & 0 & 0 & 0 & 0 & 0 & 0 & 0 & 0 & 0 & 0 & 0 & 0 & 0 & 0 & 0 & 0 & 0 & 0 & 0 & 0 & 0 & 0 & 0 & 0 & 0 & 0 & 0 & 0 \\\\\n",
       "0 & 0 & 0 & 0 & 0 & 0 & 0 & 0 & 0 & 0 & 0 & 0 & 0 & 0 & 0 & 0 & 0 & 0 & 0 & 0 & 0 & 0 & 0 & 0 & 0 & 0 & 0 & 0 & 0 & 0 & 0 & 0 & 0 & 0 & 0 & 0 & 0 & 0 & 0 & 0 & 1 & 0 & 0 & 0 & 0 & 0 & 0 & 0 & 0 & 0 & 0 & 0 & 0 & 0 & 0 & 0 & 0 & 0 & 0 & 0 & 0 & 0 & 0 & 0 & 0 & 0 & 0 & 0 & 0 & 0 & 0 & 0 \\\\\n",
       "0 & 0 & 0 & 0 & 0 & 0 & 0 & 0 & 0 & 0 & 0 & 0 & 0 & 0 & 0 & 0 & 0 & 0 & 0 & 0 & 0 & 0 & 0 & 0 & 0 & 0 & 0 & 0 & 0 & 0 & 0 & 0 & 0 & 0 & 0 & 0 & 0 & 0 & 0 & 0 & 0 & 0 & 0 & 0 & 0 & 1 & 0 & 0 & 0 & 0 & 0 & 0 & 0 & 0 & 0 & 0 & 0 & 0 & 0 & 0 & 0 & 0 & 0 & 0 & 0 & 0 & 0 & 0 & 0 & 0 & 0 & 0 \\\\\n",
       "0 & 0 & 0 & 0 & 0 & 0 & 0 & 0 & 0 & 0 & 0 & 0 & 0 & 0 & 0 & 0 & 0 & 0 & 0 & 0 & 0 & 0 & 0 & 0 & 0 & 0 & 0 & 0 & 0 & 0 & 0 & 0 & 0 & 0 & 0 & 0 & 0 & 0 & 0 & 0 & 0 & 0 & 0 & 0 & 0 & 0 & 0 & 0 & 0 & 0 & 0 & 0 & 0 & 1 & 0 & 0 & 0 & 0 & 0 & 0 & 0 & 0 & 0 & 0 & 0 & 0 & 0 & 0 & 0 & 0 & 0 & 0 \\\\\n",
       "0 & 0 & 0 & 0 & 0 & 0 & 0 & 0 & 0 & 0 & 0 & 0 & 0 & 0 & 0 & 0 & 0 & 0 & 0 & 0 & 0 & 1 & 0 & 0 & 0 & 0 & 0 & 0 & 0 & 0 & 0 & 0 & 0 & 0 & 0 & 0 & 0 & 0 & 0 & 0 & 0 & 0 & 0 & 0 & 0 & 0 & 0 & 0 & 0 & 0 & 0 & 0 & 0 & 0 & 0 & 0 & 0 & 0 & 0 & 0 & 0 & 0 & 0 & 0 & 0 & 0 & 0 & 0 & 0 & 0 & 0 & 0 \\\\\n",
       "0 & 0 & 0 & 0 & 0 & 0 & 0 & 0 & 0 & 0 & 0 & 0 & 0 & 0 & 0 & 0 & 0 & 0 & 0 & 0 & 0 & 0 & 0 & 1 & 0 & 0 & 0 & 0 & 0 & 0 & 0 & 0 & 0 & 0 & 0 & 0 & 0 & 0 & 0 & 0 & 0 & 0 & 0 & 0 & 0 & 0 & 0 & 0 & 0 & 0 & 0 & 0 & 0 & 0 & 0 & 0 & 0 & 0 & 0 & 0 & 0 & 0 & 0 & 0 & 0 & 0 & 0 & 0 & 0 & 0 & 0 & 0 \\\\\n",
       "0 & 0 & 0 & 0 & 0 & 0 & 0 & 0 & 0 & 0 & 0 & 0 & 0 & 0 & 0 & 0 & 0 & 0 & 0 & 0 & 0 & 0 & 1 & 0 & 0 & 0 & 0 & 0 & 0 & 0 & 0 & 0 & 0 & 0 & 0 & 0 & 0 & 0 & 0 & 0 & 0 & 0 & 0 & 0 & 0 & 0 & 0 & 0 & 0 & 0 & 0 & 0 & 0 & 0 & 0 & 0 & 0 & 0 & 0 & 0 & 0 & 0 & 0 & 0 & 0 & 0 & 0 & 0 & 0 & 0 & 0 & 0 \\\\\n",
       "0 & 0 & 0 & 0 & 0 & 0 & 0 & 0 & 0 & 0 & 0 & 0 & 0 & 0 & 0 & 0 & 0 & 0 & 0 & 0 & 0 & 0 & 0 & 0 & 0 & 0 & 0 & 0 & 0 & 0 & 0 & 0 & 0 & 0 & 0 & 0 & 1 & 0 & 0 & 0 & 0 & 0 & 0 & 0 & 0 & 0 & 0 & 0 & 0 & 0 & 0 & 0 & 0 & 0 & 0 & 0 & 0 & 0 & 0 & 0 & 0 & 0 & 0 & 0 & 0 & 0 & 0 & 0 & 0 & 0 & 0 & 0 \\\\\n",
       "0 & 0 & 0 & 0 & 0 & 0 & 0 & 0 & 0 & 0 & 0 & 0 & 0 & 0 & 0 & 0 & 0 & 0 & 0 & 0 & 0 & 0 & 0 & 0 & 0 & 0 & 0 & 0 & 0 & 0 & 0 & 0 & 0 & 0 & 0 & 0 & 0 & 0 & 0 & 0 & 0 & 0 & 0 & 0 & 0 & 0 & 0 & 0 & 0 & 1 & 0 & 0 & 0 & 0 & 0 & 0 & 0 & 0 & 0 & 0 & 0 & 0 & 0 & 0 & 0 & 0 & 0 & 0 & 0 & 0 & 0 & 0 \\\\\n",
       "0 & 0 & 0 & 0 & 0 & 0 & 0 & 0 & 0 & 0 & 0 & 0 & 0 & 0 & 0 & 0 & 0 & 0 & 0 & 0 & 0 & 0 & 0 & 0 & 0 & 0 & 0 & 0 & 0 & 0 & 0 & 0 & 0 & 0 & 0 & 0 & 0 & 0 & 0 & 0 & 0 & 0 & 1 & 0 & 0 & 0 & 0 & 0 & 0 & 0 & 0 & 0 & 0 & 0 & 0 & 0 & 0 & 0 & 0 & 0 & 0 & 0 & 0 & 0 & 0 & 0 & 0 & 0 & 0 & 0 & 0 & 0 \\\\\n",
       "0 & 0 & 0 & 0 & 0 & 0 & 0 & 0 & 0 & 0 & 0 & 0 & 0 & 0 & 0 & 0 & 0 & 0 & 0 & 0 & 0 & 0 & 0 & 0 & 0 & 0 & 0 & 0 & 1 & 0 & 0 & 0 & 0 & 0 & 0 & 0 & 0 & 0 & 0 & 0 & 0 & 0 & 0 & 0 & 0 & 0 & 0 & 0 & 0 & 0 & 0 & 0 & 0 & 0 & 0 & 0 & 0 & 0 & 0 & 0 & 0 & 0 & 0 & 0 & 0 & 0 & 0 & 0 & 0 & 0 & 0 & 0 \\\\\n",
       "0 & 0 & 0 & 0 & 0 & 0 & 0 & 0 & 0 & 0 & 0 & 0 & 0 & 0 & 0 & 0 & 0 & 0 & 0 & 0 & 0 & 0 & 0 & 0 & 0 & 0 & 0 & 0 & 0 & 0 & 1 & 0 & 0 & 0 & 0 & 0 & 0 & 0 & 0 & 0 & 0 & 0 & 0 & 0 & 0 & 0 & 0 & 0 & 0 & 0 & 0 & 0 & 0 & 0 & 0 & 0 & 0 & 0 & 0 & 0 & 0 & 0 & 0 & 0 & 0 & 0 & 0 & 0 & 0 & 0 & 0 & 0 \\\\\n",
       "0 & 0 & 0 & 0 & 0 & 0 & 0 & 0 & 0 & 0 & 0 & 0 & 0 & 0 & 0 & 0 & 0 & 0 & 0 & 0 & 0 & 0 & 0 & 0 & 0 & 0 & 0 & 0 & 0 & 1 & 0 & 0 & 0 & 0 & 0 & 0 & 0 & 0 & 0 & 0 & 0 & 0 & 0 & 0 & 0 & 0 & 0 & 0 & 0 & 0 & 0 & 0 & 0 & 0 & 0 & 0 & 0 & 0 & 0 & 0 & 0 & 0 & 0 & 0 & 0 & 0 & 0 & 0 & 0 & 0 & 0 & 0 \\\\\n",
       "0 & 0 & 0 & 0 & 0 & 0 & 0 & 0 & 0 & 0 & 0 & 0 & 0 & 0 & 0 & 0 & 0 & 0 & 0 & 0 & 0 & 0 & 0 & 0 & 0 & 0 & 0 & 0 & 0 & 0 & 0 & 0 & 0 & 0 & 0 & 0 & 0 & 0 & 1 & 0 & 0 & 0 & 0 & 0 & 0 & 0 & 0 & 0 & 0 & 0 & 0 & 0 & 0 & 0 & 0 & 0 & 0 & 0 & 0 & 0 & 0 & 0 & 0 & 0 & 0 & 0 & 0 & 0 & 0 & 0 & 0 & 0 \\\\\n",
       "0 & 0 & 0 & 0 & 0 & 0 & 0 & 0 & 0 & 0 & 0 & 0 & 0 & 0 & 0 & 0 & 0 & 0 & 0 & 0 & 0 & 0 & 0 & 0 & 0 & 0 & 0 & 0 & 0 & 0 & 0 & 0 & 0 & 0 & 0 & 0 & 0 & 0 & 0 & 0 & 0 & 0 & 0 & 0 & 0 & 0 & 0 & 0 & 0 & 0 & 0 & 1 & 0 & 0 & 0 & 0 & 0 & 0 & 0 & 0 & 0 & 0 & 0 & 0 & 0 & 0 & 0 & 0 & 0 & 0 & 0 & 0 \\\\\n",
       "0 & 0 & 0 & 0 & 0 & 0 & 0 & 0 & 0 & 0 & 0 & 0 & 0 & 0 & 0 & 0 & 0 & 0 & 0 & 0 & 0 & 0 & 0 & 0 & 0 & 0 & 0 & 0 & 0 & 0 & 0 & 0 & 0 & 0 & 0 & 0 & 0 & 0 & 0 & 0 & 0 & 0 & 0 & 0 & 1 & 0 & 0 & 0 & 0 & 0 & 0 & 0 & 0 & 0 & 0 & 0 & 0 & 0 & 0 & 0 & 0 & 0 & 0 & 0 & 0 & 0 & 0 & 0 & 0 & 0 & 0 & 0 \\\\\n",
       "0 & 0 & 0 & 0 & 0 & 0 & 0 & 0 & 0 & 0 & 0 & 0 & 0 & 0 & 0 & 0 & 0 & 0 & 0 & 0 & 0 & 0 & 0 & 0 & 0 & 0 & 0 & 0 & 0 & 0 & 0 & 1 & 0 & 0 & 0 & 0 & 0 & 0 & 0 & 0 & 0 & 0 & 0 & 0 & 0 & 0 & 0 & 0 & 0 & 0 & 0 & 0 & 0 & 0 & 0 & 0 & 0 & 0 & 0 & 0 & 0 & 0 & 0 & 0 & 0 & 0 & 0 & 0 & 0 & 0 & 0 & 0 \\\\\n",
       "0 & 0 & 0 & 0 & 0 & 0 & 0 & 0 & 0 & 0 & 0 & 0 & 0 & 0 & 0 & 0 & 0 & 0 & 0 & 0 & 0 & 0 & 0 & 0 & 1 & 0 & 0 & 0 & 0 & 0 & 0 & 0 & 0 & 0 & 0 & 0 & 0 & 0 & 0 & 0 & 0 & 0 & 0 & 0 & 0 & 0 & 0 & 0 & 0 & 0 & 0 & 0 & 0 & 0 & 0 & 0 & 0 & 0 & 0 & 0 & 0 & 0 & 0 & 0 & 0 & 0 & 0 & 0 & 0 & 0 & 0 & 0 \\\\\n",
       "0 & 0 & 0 & 0 & 0 & 0 & 0 & 0 & 0 & 0 & 0 & 0 & 0 & 0 & 0 & 0 & 0 & 0 & 0 & 0 & 0 & 0 & 0 & 0 & 0 & 0 & 1 & 0 & 0 & 0 & 0 & 0 & 0 & 0 & 0 & 0 & 0 & 0 & 0 & 0 & 0 & 0 & 0 & 0 & 0 & 0 & 0 & 0 & 0 & 0 & 0 & 0 & 0 & 0 & 0 & 0 & 0 & 0 & 0 & 0 & 0 & 0 & 0 & 0 & 0 & 0 & 0 & 0 & 0 & 0 & 0 & 0 \\\\\n",
       "0 & 0 & 0 & 0 & 0 & 0 & 0 & 0 & 0 & 0 & 0 & 0 & 0 & 0 & 0 & 0 & 0 & 0 & 0 & 0 & 0 & 0 & 0 & 0 & 0 & 1 & 0 & 0 & 0 & 0 & 0 & 0 & 0 & 0 & 0 & 0 & 0 & 0 & 0 & 0 & 0 & 0 & 0 & 0 & 0 & 0 & 0 & 0 & 0 & 0 & 0 & 0 & 0 & 0 & 0 & 0 & 0 & 0 & 0 & 0 & 0 & 0 & 0 & 0 & 0 & 0 & 0 & 0 & 0 & 0 & 0 & 0 \\\\\n",
       "0 & 0 & 0 & 0 & 0 & 0 & 0 & 0 & 0 & 0 & 0 & 0 & 0 & 0 & 0 & 0 & 0 & 0 & 0 & 0 & 0 & 0 & 0 & 0 & 0 & 0 & 0 & 0 & 0 & 0 & 0 & 0 & 0 & 0 & 0 & 0 & 0 & 1 & 0 & 0 & 0 & 0 & 0 & 0 & 0 & 0 & 0 & 0 & 0 & 0 & 0 & 0 & 0 & 0 & 0 & 0 & 0 & 0 & 0 & 0 & 0 & 0 & 0 & 0 & 0 & 0 & 0 & 0 & 0 & 0 & 0 & 0 \\\\\n",
       "0 & 0 & 0 & 0 & 0 & 0 & 0 & 0 & 0 & 0 & 0 & 0 & 0 & 0 & 0 & 0 & 0 & 0 & 0 & 0 & 0 & 0 & 0 & 0 & 0 & 0 & 0 & 0 & 0 & 0 & 0 & 0 & 0 & 0 & 0 & 0 & 0 & 0 & 0 & 0 & 0 & 0 & 0 & 0 & 0 & 0 & 0 & 0 & 0 & 0 & 1 & 0 & 0 & 0 & 0 & 0 & 0 & 0 & 0 & 0 & 0 & 0 & 0 & 0 & 0 & 0 & 0 & 0 & 0 & 0 & 0 & 0 \\\\\n",
       "0 & 0 & 0 & 0 & 0 & 0 & 0 & 0 & 0 & 0 & 0 & 0 & 0 & 0 & 0 & 0 & 0 & 0 & 0 & 0 & 0 & 0 & 0 & 0 & 0 & 0 & 0 & 0 & 0 & 0 & 0 & 0 & 0 & 0 & 0 & 0 & 0 & 0 & 0 & 0 & 0 & 0 & 0 & 1 & 0 & 0 & 0 & 0 & 0 & 0 & 0 & 0 & 0 & 0 & 0 & 0 & 0 & 0 & 0 & 0 & 0 & 0 & 0 & 0 & 0 & 0 & 0 & 0 & 0 & 0 & 0 & 0 \\\\\n",
       "0 & 0 & 0 & 0 & 0 & 0 & 0 & 0 & 0 & 0 & 0 & 0 & 0 & 0 & 0 & 0 & 0 & 0 & 0 & 0 & 0 & 0 & 0 & 0 & 0 & 0 & 0 & 1 & 0 & 0 & 0 & 0 & 0 & 0 & 0 & 0 & 0 & 0 & 0 & 0 & 0 & 0 & 0 & 0 & 0 & 0 & 0 & 0 & 0 & 0 & 0 & 0 & 0 & 0 & 0 & 0 & 0 & 0 & 0 & 0 & 0 & 0 & 0 & 0 & 0 & 0 & 0 & 0 & 0 & 0 & 0 & 0 \\\\\n",
       "0 & 0 & 0 & 0 & 0 & 0 & 0 & 0 & 0 & 0 & 0 & 0 & 0 & 0 & 0 & 0 & 0 & 0 & 0 & 0 & 0 & 0 & 0 & 0 & 0 & 0 & 0 & 0 & 0 & 0 & 0 & 0 & 1 & 0 & 0 & 0 & 0 & 0 & 0 & 0 & 0 & 0 & 0 & 0 & 0 & 0 & 0 & 0 & 0 & 0 & 0 & 0 & 0 & 0 & 0 & 0 & 0 & 0 & 0 & 0 & 0 & 0 & 0 & 0 & 0 & 0 & 0 & 0 & 0 & 0 & 0 & 0 \\\\\n",
       "0 & 0 & 0 & 0 & 0 & 0 & 0 & 0 & 0 & 0 & 0 & 0 & 0 & 0 & 0 & 0 & 0 & 0 & 0 & 0 & 0 & 0 & 0 & 0 & 0 & 0 & 0 & 0 & 0 & 0 & 0 & 0 & 0 & 0 & 0 & 0 & 0 & 0 & 0 & 0 & 0 & 0 & 0 & 0 & 0 & 0 & 0 & 0 & 0 & 0 & 0 & 0 & 0 & 0 & 1 & 0 & 0 & 0 & 0 & 0 & 0 & 0 & 0 & 0 & 0 & 0 & 0 & 0 & 0 & 0 & 0 & 0 \\\\\n",
       "0 & 0 & 0 & 0 & 0 & 0 & 0 & 0 & 0 & 0 & 0 & 0 & 0 & 0 & 0 & 0 & 0 & 0 & 0 & 0 & 0 & 0 & 0 & 0 & 0 & 0 & 0 & 0 & 0 & 0 & 0 & 0 & 0 & 0 & 0 & 0 & 0 & 0 & 0 & 0 & 0 & 0 & 0 & 0 & 0 & 0 & 0 & 0 & 0 & 0 & 0 & 0 & 0 & 0 & 0 & 1 & 0 & 0 & 0 & 0 & 0 & 0 & 0 & 0 & 0 & 0 & 0 & 0 & 0 & 0 & 0 & 0 \\\\\n",
       "0 & 0 & 0 & 0 & 0 & 0 & 0 & 0 & 0 & 0 & 0 & 0 & 0 & 0 & 0 & 0 & 0 & 0 & 0 & 0 & 0 & 0 & 0 & 0 & 0 & 0 & 0 & 0 & 0 & 0 & 0 & 0 & 0 & 0 & 0 & 0 & 0 & 0 & 0 & 0 & 0 & 0 & 0 & 0 & 0 & 0 & 0 & 0 & 0 & 0 & 0 & 0 & 0 & 0 & 0 & 0 & 0 & 0 & 1 & 0 & 0 & 0 & 0 & 0 & 0 & 0 & 0 & 0 & 0 & 0 & 0 & 0 \\\\\n",
       "0 & 0 & 0 & 0 & 0 & 0 & 0 & 0 & 0 & 0 & 0 & 0 & 0 & 0 & 0 & 0 & 0 & 0 & 0 & 0 & 0 & 0 & 0 & 0 & 0 & 0 & 0 & 0 & 0 & 0 & 0 & 0 & 0 & 0 & 0 & 0 & 0 & 0 & 0 & 0 & 0 & 0 & 0 & 0 & 0 & 0 & 0 & 0 & 0 & 0 & 0 & 0 & 0 & 0 & 0 & 0 & 0 & 0 & 0 & 1 & 0 & 0 & 0 & 0 & 0 & 0 & 0 & 0 & 0 & 0 & 0 & 0 \\\\\n",
       "0 & 0 & 0 & 0 & 0 & 0 & 0 & 0 & 0 & 0 & 0 & 0 & 0 & 0 & 0 & 0 & 0 & 0 & 0 & 0 & 0 & 0 & 0 & 0 & 0 & 0 & 0 & 0 & 0 & 0 & 0 & 0 & 0 & 0 & 0 & 0 & 0 & 0 & 0 & 0 & 0 & 0 & 0 & 0 & 0 & 0 & 0 & 0 & 0 & 0 & 0 & 0 & 0 & 0 & 0 & 0 & 1 & 0 & 0 & 0 & 0 & 0 & 0 & 0 & 0 & 0 & 0 & 0 & 0 & 0 & 0 & 0 \\\\\n",
       "0 & 0 & 0 & 0 & 0 & 0 & 0 & 0 & 0 & 0 & 0 & 0 & 0 & 0 & 0 & 0 & 0 & 0 & 0 & 0 & 0 & 0 & 0 & 0 & 0 & 0 & 0 & 0 & 0 & 0 & 0 & 0 & 0 & 0 & 0 & 0 & 0 & 0 & 0 & 0 & 0 & 0 & 0 & 0 & 0 & 0 & 0 & 0 & 0 & 0 & 0 & 0 & 0 & 0 & 0 & 0 & 0 & 1 & 0 & 0 & 0 & 0 & 0 & 0 & 0 & 0 & 0 & 0 & 0 & 0 & 0 & 0 \\\\\n",
       "0 & 0 & 0 & 0 & 0 & 0 & 0 & 0 & 0 & 0 & 0 & 0 & 0 & 0 & 0 & 0 & 0 & 0 & 0 & 0 & 0 & 0 & 0 & 0 & 0 & 0 & 0 & 0 & 0 & 0 & 0 & 0 & 0 & 0 & 0 & 0 & 0 & 0 & 0 & 0 & 0 & 0 & 0 & 0 & 0 & 0 & 0 & 0 & 0 & 0 & 0 & 0 & 0 & 0 & 0 & 0 & 0 & 0 & 0 & 0 & 0 & 0 & 0 & 0 & 0 & 0 & 1 & 0 & 0 & 0 & 0 & 0 \\\\\n",
       "0 & 0 & 0 & 0 & 0 & 0 & 0 & 0 & 0 & 0 & 0 & 0 & 0 & 0 & 0 & 0 & 0 & 0 & 0 & 0 & 0 & 0 & 0 & 0 & 0 & 0 & 0 & 0 & 0 & 0 & 0 & 0 & 0 & 0 & 0 & 0 & 0 & 0 & 0 & 0 & 0 & 0 & 0 & 0 & 0 & 0 & 0 & 0 & 0 & 0 & 0 & 0 & 0 & 0 & 0 & 0 & 0 & 0 & 0 & 0 & 0 & 0 & 0 & 0 & 0 & 0 & 0 & 1 & 0 & 0 & 0 & 0 \\\\\n",
       "0 & 0 & 0 & 0 & 0 & 0 & 0 & 0 & 0 & 0 & 0 & 0 & 0 & 0 & 0 & 0 & 0 & 0 & 0 & 0 & 0 & 0 & 0 & 0 & 0 & 0 & 0 & 0 & 0 & 0 & 0 & 0 & 0 & 0 & 0 & 0 & 0 & 0 & 0 & 0 & 0 & 0 & 0 & 0 & 0 & 0 & 0 & 0 & 0 & 0 & 0 & 0 & 0 & 0 & 0 & 0 & 0 & 0 & 0 & 0 & 0 & 0 & 0 & 0 & 0 & 0 & 0 & 0 & 0 & 0 & 1 & 0 \\\\\n",
       "0 & 0 & 0 & 0 & 0 & 0 & 0 & 0 & 0 & 0 & 0 & 0 & 0 & 0 & 0 & 0 & 0 & 0 & 0 & 0 & 0 & 0 & 0 & 0 & 0 & 0 & 0 & 0 & 0 & 0 & 0 & 0 & 0 & 0 & 0 & 0 & 0 & 0 & 0 & 0 & 0 & 0 & 0 & 0 & 0 & 0 & 0 & 0 & 0 & 0 & 0 & 0 & 0 & 0 & 0 & 0 & 0 & 0 & 0 & 0 & 0 & 0 & 0 & 0 & 0 & 0 & 0 & 0 & 0 & 0 & 0 & 1 \\\\\n",
       "0 & 0 & 0 & 0 & 0 & 0 & 0 & 0 & 0 & 0 & 0 & 0 & 0 & 0 & 0 & 0 & 0 & 0 & 0 & 0 & 0 & 0 & 0 & 0 & 0 & 0 & 0 & 0 & 0 & 0 & 0 & 0 & 0 & 0 & 0 & 0 & 0 & 0 & 0 & 0 & 0 & 0 & 0 & 0 & 0 & 0 & 0 & 0 & 0 & 0 & 0 & 0 & 0 & 0 & 0 & 0 & 0 & 0 & 0 & 0 & 0 & 0 & 0 & 0 & 0 & 0 & 0 & 0 & 1 & 0 & 0 & 0 \\\\\n",
       "0 & 0 & 0 & 0 & 0 & 0 & 0 & 0 & 0 & 0 & 0 & 0 & 0 & 0 & 0 & 0 & 0 & 0 & 0 & 0 & 0 & 0 & 0 & 0 & 0 & 0 & 0 & 0 & 0 & 0 & 0 & 0 & 0 & 0 & 0 & 0 & 0 & 0 & 0 & 0 & 0 & 0 & 0 & 0 & 0 & 0 & 0 & 0 & 0 & 0 & 0 & 0 & 0 & 0 & 0 & 0 & 0 & 0 & 0 & 0 & 0 & 0 & 0 & 0 & 0 & 0 & 0 & 0 & 0 & 1 & 0 & 0 \\\\\n",
       "0 & 0 & 0 & 0 & 0 & 0 & 0 & 0 & 0 & 0 & 0 & 0 & 0 & 0 & 0 & 0 & 0 & 0 & 0 & 0 & 0 & 0 & 0 & 0 & 0 & 0 & 0 & 0 & 0 & 0 & 0 & 0 & 0 & 0 & 0 & 0 & 0 & 0 & 0 & 0 & 0 & 0 & 0 & 0 & 0 & 0 & 0 & 0 & 0 & 0 & 0 & 0 & 0 & 0 & 0 & 0 & 0 & 0 & 0 & 0 & 1 & 0 & 0 & 0 & 0 & 0 & 0 & 0 & 0 & 0 & 0 & 0 \\\\\n",
       "0 & 0 & 0 & 0 & 0 & 0 & 0 & 0 & 0 & 0 & 0 & 0 & 0 & 0 & 0 & 0 & 0 & 0 & 0 & 0 & 0 & 0 & 0 & 0 & 0 & 0 & 0 & 0 & 0 & 0 & 0 & 0 & 0 & 0 & 0 & 0 & 0 & 0 & 0 & 0 & 0 & 0 & 0 & 0 & 0 & 0 & 0 & 0 & 0 & 0 & 0 & 0 & 0 & 0 & 0 & 0 & 0 & 0 & 0 & 0 & 0 & 1 & 0 & 0 & 0 & 0 & 0 & 0 & 0 & 0 & 0 & 0 \\\\\n",
       "0 & 0 & 0 & 0 & 0 & 0 & 0 & 0 & 0 & 0 & 0 & 0 & 0 & 0 & 0 & 0 & 0 & 0 & 0 & 0 & 0 & 0 & 0 & 0 & 0 & 0 & 0 & 0 & 0 & 0 & 0 & 0 & 0 & 0 & 0 & 0 & 0 & 0 & 0 & 0 & 0 & 0 & 0 & 0 & 0 & 0 & 0 & 0 & 0 & 0 & 0 & 0 & 0 & 0 & 0 & 0 & 0 & 0 & 0 & 0 & 0 & 0 & 0 & 0 & 1 & 0 & 0 & 0 & 0 & 0 & 0 & 0 \\\\\n",
       "0 & 0 & 0 & 0 & 0 & 0 & 0 & 0 & 0 & 0 & 0 & 0 & 0 & 0 & 0 & 0 & 0 & 0 & 0 & 0 & 0 & 0 & 0 & 0 & 0 & 0 & 0 & 0 & 0 & 0 & 0 & 0 & 0 & 0 & 0 & 0 & 0 & 0 & 0 & 0 & 0 & 0 & 0 & 0 & 0 & 0 & 0 & 0 & 0 & 0 & 0 & 0 & 0 & 0 & 0 & 0 & 0 & 0 & 0 & 0 & 0 & 0 & 0 & 0 & 0 & 1 & 0 & 0 & 0 & 0 & 0 & 0 \\\\\n",
       "0 & 0 & 0 & 0 & 0 & 0 & 0 & 0 & 0 & 0 & 0 & 0 & 0 & 0 & 0 & 0 & 0 & 0 & 0 & 0 & 0 & 0 & 0 & 0 & 0 & 0 & 0 & 0 & 0 & 0 & 0 & 0 & 0 & 0 & 0 & 0 & 0 & 0 & 0 & 0 & 0 & 0 & 0 & 0 & 0 & 0 & 0 & 0 & 0 & 0 & 0 & 0 & 0 & 0 & 0 & 0 & 0 & 0 & 0 & 0 & 0 & 0 & 1 & 0 & 0 & 0 & 0 & 0 & 0 & 0 & 0 & 0 \\\\\n",
       "0 & 0 & 0 & 0 & 0 & 0 & 0 & 0 & 0 & 0 & 0 & 0 & 0 & 0 & 0 & 0 & 0 & 0 & 0 & 0 & 0 & 0 & 0 & 0 & 0 & 0 & 0 & 0 & 0 & 0 & 0 & 0 & 0 & 0 & 0 & 0 & 0 & 0 & 0 & 0 & 0 & 0 & 0 & 0 & 0 & 0 & 0 & 0 & 0 & 0 & 0 & 0 & 0 & 0 & 0 & 0 & 0 & 0 & 0 & 0 & 0 & 0 & 0 & 1 & 0 & 0 & 0 & 0 & 0 & 0 & 0 & 0\n",
       "\\end{array}\\right)</script></html>"
      ],
      "text/plain": [
       "72 x 72 dense matrix over Cyclotomic Field of order 12 and degree 4 (use the '.str()' method to see the entries)"
      ]
     },
     "metadata": {},
     "output_type": "display_data"
    }
   ],
   "source": [
    "show((S*T)^3)"
   ]
  },
  {
   "cell_type": "code",
   "execution_count": 47,
   "metadata": {},
   "outputs": [
    {
     "data": {
      "text/plain": [
       "True"
      ]
     },
     "execution_count": 47,
     "metadata": {},
     "output_type": "execute_result"
    }
   ],
   "source": [
    "(S*T)^3 == S^2"
   ]
  },
  {
   "cell_type": "code",
   "execution_count": 48,
   "metadata": {},
   "outputs": [
    {
     "data": {
      "text/plain": [
       "\\left(\\begin{array}{rrrrrrrrrrrrrrrrrrrrrrrrrrrrrrrrrrrrrrrrrrrrrrrrrrrrrrrrrrrrrrrrrrrrrrrr}\n",
       "\\frac{1}{18} & \\frac{1}{18} & \\frac{1}{18} & \\frac{1}{18} & \\frac{1}{18} & \\frac{1}{18} & \\frac{1}{18} & \\frac{1}{18} & \\frac{1}{18} & \\frac{1}{18} & \\frac{1}{18} & \\frac{1}{18} & \\frac{1}{18} & \\frac{1}{18} & \\frac{1}{18} & \\frac{1}{18} & \\frac{1}{18} & \\frac{1}{18} & \\frac{1}{9} & \\frac{1}{9} & \\frac{1}{9} & \\frac{1}{9} & \\frac{1}{9} & \\frac{1}{9} & \\frac{1}{9} & \\frac{1}{9} & \\frac{1}{9} & \\frac{1}{9} & \\frac{1}{9} & \\frac{1}{9} & \\frac{1}{9} & \\frac{1}{9} & \\frac{1}{9} & \\frac{1}{9} & \\frac{1}{9} & \\frac{1}{9} & \\frac{1}{9} & \\frac{1}{9} & \\frac{1}{9} & \\frac{1}{9} & \\frac{1}{9} & \\frac{1}{9} & \\frac{1}{9} & \\frac{1}{9} & \\frac{1}{9} & \\frac{1}{9} & \\frac{1}{9} & \\frac{1}{9} & \\frac{1}{9} & \\frac{1}{9} & \\frac{1}{9} & \\frac{1}{9} & \\frac{1}{9} & \\frac{1}{9} & \\frac{1}{6} & \\frac{1}{6} & \\frac{1}{6} & \\frac{1}{6} & \\frac{1}{6} & \\frac{1}{6} & \\frac{1}{6} & \\frac{1}{6} & \\frac{1}{6} & \\frac{1}{6} & \\frac{1}{6} & \\frac{1}{6} & \\frac{1}{6} & \\frac{1}{6} & \\frac{1}{6} & \\frac{1}{6} & \\frac{1}{6} & \\frac{1}{6} \\\\\n",
       "\\frac{1}{18} & \\frac{1}{18} & \\frac{1}{18} & \\frac{1}{18} & \\frac{1}{18} & \\frac{1}{18} & \\frac{1}{18} & \\frac{1}{18} & \\frac{1}{18} & \\frac{1}{18} & \\frac{1}{18} & \\frac{1}{18} & \\frac{1}{18} & \\frac{1}{18} & \\frac{1}{18} & \\frac{1}{18} & \\frac{1}{18} & \\frac{1}{18} & \\frac{1}{9} & \\frac{1}{9} & \\frac{1}{9} & \\frac{1}{9} & \\frac{1}{9} & \\frac{1}{9} & \\frac{1}{9} & \\frac{1}{9} & \\frac{1}{9} & \\frac{1}{9} & \\frac{1}{9} & \\frac{1}{9} & \\frac{1}{9} & \\frac{1}{9} & \\frac{1}{9} & \\frac{1}{9} & \\frac{1}{9} & \\frac{1}{9} & \\frac{1}{9} & \\frac{1}{9} & \\frac{1}{9} & \\frac{1}{9} & \\frac{1}{9} & \\frac{1}{9} & \\frac{1}{9} & \\frac{1}{9} & \\frac{1}{9} & \\frac{1}{9} & \\frac{1}{9} & \\frac{1}{9} & \\frac{1}{9} & \\frac{1}{9} & \\frac{1}{9} & \\frac{1}{9} & \\frac{1}{9} & \\frac{1}{9} & -\\frac{1}{6} & -\\frac{1}{6} & -\\frac{1}{6} & -\\frac{1}{6} & -\\frac{1}{6} & -\\frac{1}{6} & -\\frac{1}{6} & -\\frac{1}{6} & -\\frac{1}{6} & -\\frac{1}{6} & -\\frac{1}{6} & -\\frac{1}{6} & -\\frac{1}{6} & -\\frac{1}{6} & -\\frac{1}{6} & -\\frac{1}{6} & -\\frac{1}{6} & -\\frac{1}{6} \\\\\n",
       "\\frac{1}{18} & \\frac{1}{18} & -\\frac{1}{18} \\zeta_{12}^{2} & -\\frac{1}{18} \\zeta_{12}^{2} & \\frac{1}{18} \\zeta_{12}^{2} - \\frac{1}{18} & \\frac{1}{18} \\zeta_{12}^{2} - \\frac{1}{18} & \\frac{1}{18} & \\frac{1}{18} & -\\frac{1}{18} \\zeta_{12}^{2} & -\\frac{1}{18} \\zeta_{12}^{2} & \\frac{1}{18} \\zeta_{12}^{2} - \\frac{1}{18} & \\frac{1}{18} \\zeta_{12}^{2} - \\frac{1}{18} & \\frac{1}{18} & \\frac{1}{18} & -\\frac{1}{18} \\zeta_{12}^{2} & -\\frac{1}{18} \\zeta_{12}^{2} & \\frac{1}{18} \\zeta_{12}^{2} - \\frac{1}{18} & \\frac{1}{18} \\zeta_{12}^{2} - \\frac{1}{18} & \\frac{1}{9} \\zeta_{12}^{2} - \\frac{1}{9} & -\\frac{1}{9} \\zeta_{12}^{2} & \\frac{1}{9} & \\frac{1}{9} & \\frac{1}{9} \\zeta_{12}^{2} - \\frac{1}{9} & -\\frac{1}{9} \\zeta_{12}^{2} & \\frac{1}{9} \\zeta_{12}^{2} - \\frac{1}{9} & -\\frac{1}{9} \\zeta_{12}^{2} & \\frac{1}{9} & \\frac{1}{9} \\zeta_{12}^{2} - \\frac{1}{9} & -\\frac{1}{9} \\zeta_{12}^{2} & \\frac{1}{9} & \\frac{1}{9} \\zeta_{12}^{2} - \\frac{1}{9} & -\\frac{1}{9} \\zeta_{12}^{2} & \\frac{1}{9} & \\frac{1}{9} & \\frac{1}{9} \\zeta_{12}^{2} - \\frac{1}{9} & -\\frac{1}{9} \\zeta_{12}^{2} & \\frac{1}{9} & \\frac{1}{9} \\zeta_{12}^{2} - \\frac{1}{9} & -\\frac{1}{9} \\zeta_{12}^{2} & \\frac{1}{9} \\zeta_{12}^{2} - \\frac{1}{9} & -\\frac{1}{9} \\zeta_{12}^{2} & \\frac{1}{9} & \\frac{1}{9} \\zeta_{12}^{2} - \\frac{1}{9} & -\\frac{1}{9} \\zeta_{12}^{2} & \\frac{1}{9} & \\frac{1}{9} \\zeta_{12}^{2} - \\frac{1}{9} & -\\frac{1}{9} \\zeta_{12}^{2} & \\frac{1}{9} & \\frac{1}{9} \\zeta_{12}^{2} - \\frac{1}{9} & -\\frac{1}{9} \\zeta_{12}^{2} & \\frac{1}{9} & \\frac{1}{9} \\zeta_{12}^{2} - \\frac{1}{9} & -\\frac{1}{9} \\zeta_{12}^{2} & \\frac{1}{9} & \\frac{1}{6} & \\frac{1}{6} & \\frac{1}{6} \\zeta_{12}^{2} - \\frac{1}{6} & \\frac{1}{6} \\zeta_{12}^{2} - \\frac{1}{6} & -\\frac{1}{6} \\zeta_{12}^{2} & -\\frac{1}{6} \\zeta_{12}^{2} & \\frac{1}{6} & \\frac{1}{6} & \\frac{1}{6} \\zeta_{12}^{2} - \\frac{1}{6} & \\frac{1}{6} \\zeta_{12}^{2} - \\frac{1}{6} & -\\frac{1}{6} \\zeta_{12}^{2} & -\\frac{1}{6} \\zeta_{12}^{2} & \\frac{1}{6} & \\frac{1}{6} & \\frac{1}{6} \\zeta_{12}^{2} - \\frac{1}{6} & \\frac{1}{6} \\zeta_{12}^{2} - \\frac{1}{6} & -\\frac{1}{6} \\zeta_{12}^{2} & -\\frac{1}{6} \\zeta_{12}^{2} \\\\\n",
       "\\frac{1}{18} & \\frac{1}{18} & -\\frac{1}{18} \\zeta_{12}^{2} & -\\frac{1}{18} \\zeta_{12}^{2} & \\frac{1}{18} \\zeta_{12}^{2} - \\frac{1}{18} & \\frac{1}{18} \\zeta_{12}^{2} - \\frac{1}{18} & \\frac{1}{18} & \\frac{1}{18} & -\\frac{1}{18} \\zeta_{12}^{2} & -\\frac{1}{18} \\zeta_{12}^{2} & \\frac{1}{18} \\zeta_{12}^{2} - \\frac{1}{18} & \\frac{1}{18} \\zeta_{12}^{2} - \\frac{1}{18} & \\frac{1}{18} & \\frac{1}{18} & -\\frac{1}{18} \\zeta_{12}^{2} & -\\frac{1}{18} \\zeta_{12}^{2} & \\frac{1}{18} \\zeta_{12}^{2} - \\frac{1}{18} & \\frac{1}{18} \\zeta_{12}^{2} - \\frac{1}{18} & \\frac{1}{9} \\zeta_{12}^{2} - \\frac{1}{9} & -\\frac{1}{9} \\zeta_{12}^{2} & \\frac{1}{9} & \\frac{1}{9} & \\frac{1}{9} \\zeta_{12}^{2} - \\frac{1}{9} & -\\frac{1}{9} \\zeta_{12}^{2} & \\frac{1}{9} \\zeta_{12}^{2} - \\frac{1}{9} & -\\frac{1}{9} \\zeta_{12}^{2} & \\frac{1}{9} & \\frac{1}{9} \\zeta_{12}^{2} - \\frac{1}{9} & -\\frac{1}{9} \\zeta_{12}^{2} & \\frac{1}{9} & \\frac{1}{9} \\zeta_{12}^{2} - \\frac{1}{9} & -\\frac{1}{9} \\zeta_{12}^{2} & \\frac{1}{9} & \\frac{1}{9} & \\frac{1}{9} \\zeta_{12}^{2} - \\frac{1}{9} & -\\frac{1}{9} \\zeta_{12}^{2} & \\frac{1}{9} & \\frac{1}{9} \\zeta_{12}^{2} - \\frac{1}{9} & -\\frac{1}{9} \\zeta_{12}^{2} & \\frac{1}{9} \\zeta_{12}^{2} - \\frac{1}{9} & -\\frac{1}{9} \\zeta_{12}^{2} & \\frac{1}{9} & \\frac{1}{9} \\zeta_{12}^{2} - \\frac{1}{9} & -\\frac{1}{9} \\zeta_{12}^{2} & \\frac{1}{9} & \\frac{1}{9} \\zeta_{12}^{2} - \\frac{1}{9} & -\\frac{1}{9} \\zeta_{12}^{2} & \\frac{1}{9} & \\frac{1}{9} \\zeta_{12}^{2} - \\frac{1}{9} & -\\frac{1}{9} \\zeta_{12}^{2} & \\frac{1}{9} & \\frac{1}{9} \\zeta_{12}^{2} - \\frac{1}{9} & -\\frac{1}{9} \\zeta_{12}^{2} & \\frac{1}{9} & -\\frac{1}{6} & -\\frac{1}{6} & -\\frac{1}{6} \\zeta_{12}^{2} + \\frac{1}{6} & -\\frac{1}{6} \\zeta_{12}^{2} + \\frac{1}{6} & \\frac{1}{6} \\zeta_{12}^{2} & \\frac{1}{6} \\zeta_{12}^{2} & -\\frac{1}{6} & -\\frac{1}{6} & -\\frac{1}{6} \\zeta_{12}^{2} + \\frac{1}{6} & -\\frac{1}{6} \\zeta_{12}^{2} + \\frac{1}{6} & \\frac{1}{6} \\zeta_{12}^{2} & \\frac{1}{6} \\zeta_{12}^{2} & -\\frac{1}{6} & -\\frac{1}{6} & -\\frac{1}{6} \\zeta_{12}^{2} + \\frac{1}{6} & -\\frac{1}{6} \\zeta_{12}^{2} + \\frac{1}{6} & \\frac{1}{6} \\zeta_{12}^{2} & \\frac{1}{6} \\zeta_{12}^{2} \\\\\n",
       "\\frac{1}{18} & \\frac{1}{18} & \\frac{1}{18} \\zeta_{12}^{2} - \\frac{1}{18} & \\frac{1}{18} \\zeta_{12}^{2} - \\frac{1}{18} & -\\frac{1}{18} \\zeta_{12}^{2} & -\\frac{1}{18} \\zeta_{12}^{2} & \\frac{1}{18} & \\frac{1}{18} & \\frac{1}{18} \\zeta_{12}^{2} - \\frac{1}{18} & \\frac{1}{18} \\zeta_{12}^{2} - \\frac{1}{18} & -\\frac{1}{18} \\zeta_{12}^{2} & -\\frac{1}{18} \\zeta_{12}^{2} & \\frac{1}{18} & \\frac{1}{18} & \\frac{1}{18} \\zeta_{12}^{2} - \\frac{1}{18} & \\frac{1}{18} \\zeta_{12}^{2} - \\frac{1}{18} & -\\frac{1}{18} \\zeta_{12}^{2} & -\\frac{1}{18} \\zeta_{12}^{2} & -\\frac{1}{9} \\zeta_{12}^{2} & \\frac{1}{9} \\zeta_{12}^{2} - \\frac{1}{9} & \\frac{1}{9} & \\frac{1}{9} & -\\frac{1}{9} \\zeta_{12}^{2} & \\frac{1}{9} \\zeta_{12}^{2} - \\frac{1}{9} & -\\frac{1}{9} \\zeta_{12}^{2} & \\frac{1}{9} \\zeta_{12}^{2} - \\frac{1}{9} & \\frac{1}{9} & -\\frac{1}{9} \\zeta_{12}^{2} & \\frac{1}{9} \\zeta_{12}^{2} - \\frac{1}{9} & \\frac{1}{9} & -\\frac{1}{9} \\zeta_{12}^{2} & \\frac{1}{9} \\zeta_{12}^{2} - \\frac{1}{9} & \\frac{1}{9} & \\frac{1}{9} & -\\frac{1}{9} \\zeta_{12}^{2} & \\frac{1}{9} \\zeta_{12}^{2} - \\frac{1}{9} & \\frac{1}{9} & -\\frac{1}{9} \\zeta_{12}^{2} & \\frac{1}{9} \\zeta_{12}^{2} - \\frac{1}{9} & -\\frac{1}{9} \\zeta_{12}^{2} & \\frac{1}{9} \\zeta_{12}^{2} - \\frac{1}{9} & \\frac{1}{9} & -\\frac{1}{9} \\zeta_{12}^{2} & \\frac{1}{9} \\zeta_{12}^{2} - \\frac{1}{9} & \\frac{1}{9} & -\\frac{1}{9} \\zeta_{12}^{2} & \\frac{1}{9} \\zeta_{12}^{2} - \\frac{1}{9} & \\frac{1}{9} & -\\frac{1}{9} \\zeta_{12}^{2} & \\frac{1}{9} \\zeta_{12}^{2} - \\frac{1}{9} & \\frac{1}{9} & -\\frac{1}{9} \\zeta_{12}^{2} & \\frac{1}{9} \\zeta_{12}^{2} - \\frac{1}{9} & \\frac{1}{9} & \\frac{1}{6} & \\frac{1}{6} & -\\frac{1}{6} \\zeta_{12}^{2} & -\\frac{1}{6} \\zeta_{12}^{2} & \\frac{1}{6} \\zeta_{12}^{2} - \\frac{1}{6} & \\frac{1}{6} \\zeta_{12}^{2} - \\frac{1}{6} & \\frac{1}{6} & \\frac{1}{6} & -\\frac{1}{6} \\zeta_{12}^{2} & -\\frac{1}{6} \\zeta_{12}^{2} & \\frac{1}{6} \\zeta_{12}^{2} - \\frac{1}{6} & \\frac{1}{6} \\zeta_{12}^{2} - \\frac{1}{6} & \\frac{1}{6} & \\frac{1}{6} & -\\frac{1}{6} \\zeta_{12}^{2} & -\\frac{1}{6} \\zeta_{12}^{2} & \\frac{1}{6} \\zeta_{12}^{2} - \\frac{1}{6} & \\frac{1}{6} \\zeta_{12}^{2} - \\frac{1}{6} \\\\\n",
       "\\frac{1}{18} & \\frac{1}{18} & \\frac{1}{18} \\zeta_{12}^{2} - \\frac{1}{18} & \\frac{1}{18} \\zeta_{12}^{2} - \\frac{1}{18} & -\\frac{1}{18} \\zeta_{12}^{2} & -\\frac{1}{18} \\zeta_{12}^{2} & \\frac{1}{18} & \\frac{1}{18} & \\frac{1}{18} \\zeta_{12}^{2} - \\frac{1}{18} & \\frac{1}{18} \\zeta_{12}^{2} - \\frac{1}{18} & -\\frac{1}{18} \\zeta_{12}^{2} & -\\frac{1}{18} \\zeta_{12}^{2} & \\frac{1}{18} & \\frac{1}{18} & \\frac{1}{18} \\zeta_{12}^{2} - \\frac{1}{18} & \\frac{1}{18} \\zeta_{12}^{2} - \\frac{1}{18} & -\\frac{1}{18} \\zeta_{12}^{2} & -\\frac{1}{18} \\zeta_{12}^{2} & -\\frac{1}{9} \\zeta_{12}^{2} & \\frac{1}{9} \\zeta_{12}^{2} - \\frac{1}{9} & \\frac{1}{9} & \\frac{1}{9} & -\\frac{1}{9} \\zeta_{12}^{2} & \\frac{1}{9} \\zeta_{12}^{2} - \\frac{1}{9} & -\\frac{1}{9} \\zeta_{12}^{2} & \\frac{1}{9} \\zeta_{12}^{2} - \\frac{1}{9} & \\frac{1}{9} & -\\frac{1}{9} \\zeta_{12}^{2} & \\frac{1}{9} \\zeta_{12}^{2} - \\frac{1}{9} & \\frac{1}{9} & -\\frac{1}{9} \\zeta_{12}^{2} & \\frac{1}{9} \\zeta_{12}^{2} - \\frac{1}{9} & \\frac{1}{9} & \\frac{1}{9} & -\\frac{1}{9} \\zeta_{12}^{2} & \\frac{1}{9} \\zeta_{12}^{2} - \\frac{1}{9} & \\frac{1}{9} & -\\frac{1}{9} \\zeta_{12}^{2} & \\frac{1}{9} \\zeta_{12}^{2} - \\frac{1}{9} & -\\frac{1}{9} \\zeta_{12}^{2} & \\frac{1}{9} \\zeta_{12}^{2} - \\frac{1}{9} & \\frac{1}{9} & -\\frac{1}{9} \\zeta_{12}^{2} & \\frac{1}{9} \\zeta_{12}^{2} - \\frac{1}{9} & \\frac{1}{9} & -\\frac{1}{9} \\zeta_{12}^{2} & \\frac{1}{9} \\zeta_{12}^{2} - \\frac{1}{9} & \\frac{1}{9} & -\\frac{1}{9} \\zeta_{12}^{2} & \\frac{1}{9} \\zeta_{12}^{2} - \\frac{1}{9} & \\frac{1}{9} & -\\frac{1}{9} \\zeta_{12}^{2} & \\frac{1}{9} \\zeta_{12}^{2} - \\frac{1}{9} & \\frac{1}{9} & -\\frac{1}{6} & -\\frac{1}{6} & \\frac{1}{6} \\zeta_{12}^{2} & \\frac{1}{6} \\zeta_{12}^{2} & -\\frac{1}{6} \\zeta_{12}^{2} + \\frac{1}{6} & -\\frac{1}{6} \\zeta_{12}^{2} + \\frac{1}{6} & -\\frac{1}{6} & -\\frac{1}{6} & \\frac{1}{6} \\zeta_{12}^{2} & \\frac{1}{6} \\zeta_{12}^{2} & -\\frac{1}{6} \\zeta_{12}^{2} + \\frac{1}{6} & -\\frac{1}{6} \\zeta_{12}^{2} + \\frac{1}{6} & -\\frac{1}{6} & -\\frac{1}{6} & \\frac{1}{6} \\zeta_{12}^{2} & \\frac{1}{6} \\zeta_{12}^{2} & -\\frac{1}{6} \\zeta_{12}^{2} + \\frac{1}{6} & -\\frac{1}{6} \\zeta_{12}^{2} + \\frac{1}{6} \\\\\n",
       "\\frac{1}{18} & \\frac{1}{18} & \\frac{1}{18} & \\frac{1}{18} & \\frac{1}{18} & \\frac{1}{18} & -\\frac{1}{18} \\zeta_{12}^{2} & -\\frac{1}{18} \\zeta_{12}^{2} & -\\frac{1}{18} \\zeta_{12}^{2} & -\\frac{1}{18} \\zeta_{12}^{2} & -\\frac{1}{18} \\zeta_{12}^{2} & -\\frac{1}{18} \\zeta_{12}^{2} & \\frac{1}{18} \\zeta_{12}^{2} - \\frac{1}{18} & \\frac{1}{18} \\zeta_{12}^{2} - \\frac{1}{18} & \\frac{1}{18} \\zeta_{12}^{2} - \\frac{1}{18} & \\frac{1}{18} \\zeta_{12}^{2} - \\frac{1}{18} & \\frac{1}{18} \\zeta_{12}^{2} - \\frac{1}{18} & \\frac{1}{18} \\zeta_{12}^{2} - \\frac{1}{18} & \\frac{1}{9} & \\frac{1}{9} & \\frac{1}{9} & \\frac{1}{9} \\zeta_{12}^{2} - \\frac{1}{9} & \\frac{1}{9} \\zeta_{12}^{2} - \\frac{1}{9} & \\frac{1}{9} \\zeta_{12}^{2} - \\frac{1}{9} & \\frac{1}{9} \\zeta_{12}^{2} - \\frac{1}{9} & \\frac{1}{9} \\zeta_{12}^{2} - \\frac{1}{9} & \\frac{1}{9} \\zeta_{12}^{2} - \\frac{1}{9} & -\\frac{1}{9} \\zeta_{12}^{2} & \\frac{1}{9} \\zeta_{12}^{2} - \\frac{1}{9} & \\frac{1}{9} \\zeta_{12}^{2} - \\frac{1}{9} & \\frac{1}{9} \\zeta_{12}^{2} - \\frac{1}{9} & -\\frac{1}{9} \\zeta_{12}^{2} & -\\frac{1}{9} \\zeta_{12}^{2} & -\\frac{1}{9} \\zeta_{12}^{2} & -\\frac{1}{9} \\zeta_{12}^{2} & -\\frac{1}{9} \\zeta_{12}^{2} & \\frac{1}{9} & \\frac{1}{9} & \\frac{1}{9} & -\\frac{1}{9} \\zeta_{12}^{2} & -\\frac{1}{9} \\zeta_{12}^{2} & -\\frac{1}{9} \\zeta_{12}^{2} & \\frac{1}{9} & \\frac{1}{9} & \\frac{1}{9} & \\frac{1}{9} \\zeta_{12}^{2} - \\frac{1}{9} & -\\frac{1}{9} \\zeta_{12}^{2} & -\\frac{1}{9} \\zeta_{12}^{2} & -\\frac{1}{9} \\zeta_{12}^{2} & \\frac{1}{9} & \\frac{1}{9} & \\frac{1}{9} & \\frac{1}{9} \\zeta_{12}^{2} - \\frac{1}{9} & \\frac{1}{9} \\zeta_{12}^{2} - \\frac{1}{9} & \\frac{1}{6} & \\frac{1}{6} & \\frac{1}{6} & \\frac{1}{6} & \\frac{1}{6} & \\frac{1}{6} & \\frac{1}{6} \\zeta_{12}^{2} - \\frac{1}{6} & \\frac{1}{6} \\zeta_{12}^{2} - \\frac{1}{6} & \\frac{1}{6} \\zeta_{12}^{2} - \\frac{1}{6} & \\frac{1}{6} \\zeta_{12}^{2} - \\frac{1}{6} & \\frac{1}{6} \\zeta_{12}^{2} - \\frac{1}{6} & \\frac{1}{6} \\zeta_{12}^{2} - \\frac{1}{6} & -\\frac{1}{6} \\zeta_{12}^{2} & -\\frac{1}{6} \\zeta_{12}^{2} & -\\frac{1}{6} \\zeta_{12}^{2} & -\\frac{1}{6} \\zeta_{12}^{2} & -\\frac{1}{6} \\zeta_{12}^{2} & -\\frac{1}{6} \\zeta_{12}^{2} \\\\\n",
       "\\frac{1}{18} & \\frac{1}{18} & \\frac{1}{18} & \\frac{1}{18} & \\frac{1}{18} & \\frac{1}{18} & -\\frac{1}{18} \\zeta_{12}^{2} & -\\frac{1}{18} \\zeta_{12}^{2} & -\\frac{1}{18} \\zeta_{12}^{2} & -\\frac{1}{18} \\zeta_{12}^{2} & -\\frac{1}{18} \\zeta_{12}^{2} & -\\frac{1}{18} \\zeta_{12}^{2} & \\frac{1}{18} \\zeta_{12}^{2} - \\frac{1}{18} & \\frac{1}{18} \\zeta_{12}^{2} - \\frac{1}{18} & \\frac{1}{18} \\zeta_{12}^{2} - \\frac{1}{18} & \\frac{1}{18} \\zeta_{12}^{2} - \\frac{1}{18} & \\frac{1}{18} \\zeta_{12}^{2} - \\frac{1}{18} & \\frac{1}{18} \\zeta_{12}^{2} - \\frac{1}{18} & \\frac{1}{9} & \\frac{1}{9} & \\frac{1}{9} & \\frac{1}{9} \\zeta_{12}^{2} - \\frac{1}{9} & \\frac{1}{9} \\zeta_{12}^{2} - \\frac{1}{9} & \\frac{1}{9} \\zeta_{12}^{2} - \\frac{1}{9} & \\frac{1}{9} \\zeta_{12}^{2} - \\frac{1}{9} & \\frac{1}{9} \\zeta_{12}^{2} - \\frac{1}{9} & \\frac{1}{9} \\zeta_{12}^{2} - \\frac{1}{9} & -\\frac{1}{9} \\zeta_{12}^{2} & \\frac{1}{9} \\zeta_{12}^{2} - \\frac{1}{9} & \\frac{1}{9} \\zeta_{12}^{2} - \\frac{1}{9} & \\frac{1}{9} \\zeta_{12}^{2} - \\frac{1}{9} & -\\frac{1}{9} \\zeta_{12}^{2} & -\\frac{1}{9} \\zeta_{12}^{2} & -\\frac{1}{9} \\zeta_{12}^{2} & -\\frac{1}{9} \\zeta_{12}^{2} & -\\frac{1}{9} \\zeta_{12}^{2} & \\frac{1}{9} & \\frac{1}{9} & \\frac{1}{9} & -\\frac{1}{9} \\zeta_{12}^{2} & -\\frac{1}{9} \\zeta_{12}^{2} & -\\frac{1}{9} \\zeta_{12}^{2} & \\frac{1}{9} & \\frac{1}{9} & \\frac{1}{9} & \\frac{1}{9} \\zeta_{12}^{2} - \\frac{1}{9} & -\\frac{1}{9} \\zeta_{12}^{2} & -\\frac{1}{9} \\zeta_{12}^{2} & -\\frac{1}{9} \\zeta_{12}^{2} & \\frac{1}{9} & \\frac{1}{9} & \\frac{1}{9} & \\frac{1}{9} \\zeta_{12}^{2} - \\frac{1}{9} & \\frac{1}{9} \\zeta_{12}^{2} - \\frac{1}{9} & -\\frac{1}{6} & -\\frac{1}{6} & -\\frac{1}{6} & -\\frac{1}{6} & -\\frac{1}{6} & -\\frac{1}{6} & -\\frac{1}{6} \\zeta_{12}^{2} + \\frac{1}{6} & -\\frac{1}{6} \\zeta_{12}^{2} + \\frac{1}{6} & -\\frac{1}{6} \\zeta_{12}^{2} + \\frac{1}{6} & -\\frac{1}{6} \\zeta_{12}^{2} + \\frac{1}{6} & -\\frac{1}{6} \\zeta_{12}^{2} + \\frac{1}{6} & -\\frac{1}{6} \\zeta_{12}^{2} + \\frac{1}{6} & \\frac{1}{6} \\zeta_{12}^{2} & \\frac{1}{6} \\zeta_{12}^{2} & \\frac{1}{6} \\zeta_{12}^{2} & \\frac{1}{6} \\zeta_{12}^{2} & \\frac{1}{6} \\zeta_{12}^{2} & \\frac{1}{6} \\zeta_{12}^{2} \\\\\n",
       "\\frac{1}{18} & \\frac{1}{18} & -\\frac{1}{18} \\zeta_{12}^{2} & -\\frac{1}{18} \\zeta_{12}^{2} & \\frac{1}{18} \\zeta_{12}^{2} - \\frac{1}{18} & \\frac{1}{18} \\zeta_{12}^{2} - \\frac{1}{18} & -\\frac{1}{18} \\zeta_{12}^{2} & -\\frac{1}{18} \\zeta_{12}^{2} & \\frac{1}{18} \\zeta_{12}^{2} - \\frac{1}{18} & \\frac{1}{18} \\zeta_{12}^{2} - \\frac{1}{18} & \\frac{1}{18} & \\frac{1}{18} & \\frac{1}{18} \\zeta_{12}^{2} - \\frac{1}{18} & \\frac{1}{18} \\zeta_{12}^{2} - \\frac{1}{18} & \\frac{1}{18} & \\frac{1}{18} & -\\frac{1}{18} \\zeta_{12}^{2} & -\\frac{1}{18} \\zeta_{12}^{2} & \\frac{1}{9} \\zeta_{12}^{2} - \\frac{1}{9} & -\\frac{1}{9} \\zeta_{12}^{2} & \\frac{1}{9} & \\frac{1}{9} \\zeta_{12}^{2} - \\frac{1}{9} & -\\frac{1}{9} \\zeta_{12}^{2} & \\frac{1}{9} & -\\frac{1}{9} \\zeta_{12}^{2} & \\frac{1}{9} & \\frac{1}{9} \\zeta_{12}^{2} - \\frac{1}{9} & \\frac{1}{9} & \\frac{1}{9} & \\frac{1}{9} \\zeta_{12}^{2} - \\frac{1}{9} & -\\frac{1}{9} \\zeta_{12}^{2} & \\frac{1}{9} \\zeta_{12}^{2} - \\frac{1}{9} & -\\frac{1}{9} \\zeta_{12}^{2} & -\\frac{1}{9} \\zeta_{12}^{2} & \\frac{1}{9} & \\frac{1}{9} \\zeta_{12}^{2} - \\frac{1}{9} & \\frac{1}{9} & \\frac{1}{9} \\zeta_{12}^{2} - \\frac{1}{9} & -\\frac{1}{9} \\zeta_{12}^{2} & \\frac{1}{9} & \\frac{1}{9} \\zeta_{12}^{2} - \\frac{1}{9} & -\\frac{1}{9} \\zeta_{12}^{2} & \\frac{1}{9} \\zeta_{12}^{2} - \\frac{1}{9} & -\\frac{1}{9} \\zeta_{12}^{2} & \\frac{1}{9} & -\\frac{1}{9} \\zeta_{12}^{2} & \\frac{1}{9} \\zeta_{12}^{2} - \\frac{1}{9} & -\\frac{1}{9} \\zeta_{12}^{2} & \\frac{1}{9} & -\\frac{1}{9} \\zeta_{12}^{2} & \\frac{1}{9} & \\frac{1}{9} \\zeta_{12}^{2} - \\frac{1}{9} & \\frac{1}{9} & \\frac{1}{9} \\zeta_{12}^{2} - \\frac{1}{9} & \\frac{1}{6} & \\frac{1}{6} & \\frac{1}{6} \\zeta_{12}^{2} - \\frac{1}{6} & \\frac{1}{6} \\zeta_{12}^{2} - \\frac{1}{6} & -\\frac{1}{6} \\zeta_{12}^{2} & -\\frac{1}{6} \\zeta_{12}^{2} & \\frac{1}{6} \\zeta_{12}^{2} - \\frac{1}{6} & \\frac{1}{6} \\zeta_{12}^{2} - \\frac{1}{6} & -\\frac{1}{6} \\zeta_{12}^{2} & -\\frac{1}{6} \\zeta_{12}^{2} & \\frac{1}{6} & \\frac{1}{6} & -\\frac{1}{6} \\zeta_{12}^{2} & -\\frac{1}{6} \\zeta_{12}^{2} & \\frac{1}{6} & \\frac{1}{6} & \\frac{1}{6} \\zeta_{12}^{2} - \\frac{1}{6} & \\frac{1}{6} \\zeta_{12}^{2} - \\frac{1}{6} \\\\\n",
       "\\frac{1}{18} & \\frac{1}{18} & -\\frac{1}{18} \\zeta_{12}^{2} & -\\frac{1}{18} \\zeta_{12}^{2} & \\frac{1}{18} \\zeta_{12}^{2} - \\frac{1}{18} & \\frac{1}{18} \\zeta_{12}^{2} - \\frac{1}{18} & -\\frac{1}{18} \\zeta_{12}^{2} & -\\frac{1}{18} \\zeta_{12}^{2} & \\frac{1}{18} \\zeta_{12}^{2} - \\frac{1}{18} & \\frac{1}{18} \\zeta_{12}^{2} - \\frac{1}{18} & \\frac{1}{18} & \\frac{1}{18} & \\frac{1}{18} \\zeta_{12}^{2} - \\frac{1}{18} & \\frac{1}{18} \\zeta_{12}^{2} - \\frac{1}{18} & \\frac{1}{18} & \\frac{1}{18} & -\\frac{1}{18} \\zeta_{12}^{2} & -\\frac{1}{18} \\zeta_{12}^{2} & \\frac{1}{9} \\zeta_{12}^{2} - \\frac{1}{9} & -\\frac{1}{9} \\zeta_{12}^{2} & \\frac{1}{9} & \\frac{1}{9} \\zeta_{12}^{2} - \\frac{1}{9} & -\\frac{1}{9} \\zeta_{12}^{2} & \\frac{1}{9} & -\\frac{1}{9} \\zeta_{12}^{2} & \\frac{1}{9} & \\frac{1}{9} \\zeta_{12}^{2} - \\frac{1}{9} & \\frac{1}{9} & \\frac{1}{9} & \\frac{1}{9} \\zeta_{12}^{2} - \\frac{1}{9} & -\\frac{1}{9} \\zeta_{12}^{2} & \\frac{1}{9} \\zeta_{12}^{2} - \\frac{1}{9} & -\\frac{1}{9} \\zeta_{12}^{2} & -\\frac{1}{9} \\zeta_{12}^{2} & \\frac{1}{9} & \\frac{1}{9} \\zeta_{12}^{2} - \\frac{1}{9} & \\frac{1}{9} & \\frac{1}{9} \\zeta_{12}^{2} - \\frac{1}{9} & -\\frac{1}{9} \\zeta_{12}^{2} & \\frac{1}{9} & \\frac{1}{9} \\zeta_{12}^{2} - \\frac{1}{9} & -\\frac{1}{9} \\zeta_{12}^{2} & \\frac{1}{9} \\zeta_{12}^{2} - \\frac{1}{9} & -\\frac{1}{9} \\zeta_{12}^{2} & \\frac{1}{9} & -\\frac{1}{9} \\zeta_{12}^{2} & \\frac{1}{9} \\zeta_{12}^{2} - \\frac{1}{9} & -\\frac{1}{9} \\zeta_{12}^{2} & \\frac{1}{9} & -\\frac{1}{9} \\zeta_{12}^{2} & \\frac{1}{9} & \\frac{1}{9} \\zeta_{12}^{2} - \\frac{1}{9} & \\frac{1}{9} & \\frac{1}{9} \\zeta_{12}^{2} - \\frac{1}{9} & -\\frac{1}{6} & -\\frac{1}{6} & -\\frac{1}{6} \\zeta_{12}^{2} + \\frac{1}{6} & -\\frac{1}{6} \\zeta_{12}^{2} + \\frac{1}{6} & \\frac{1}{6} \\zeta_{12}^{2} & \\frac{1}{6} \\zeta_{12}^{2} & -\\frac{1}{6} \\zeta_{12}^{2} + \\frac{1}{6} & -\\frac{1}{6} \\zeta_{12}^{2} + \\frac{1}{6} & \\frac{1}{6} \\zeta_{12}^{2} & \\frac{1}{6} \\zeta_{12}^{2} & -\\frac{1}{6} & -\\frac{1}{6} & \\frac{1}{6} \\zeta_{12}^{2} & \\frac{1}{6} \\zeta_{12}^{2} & -\\frac{1}{6} & -\\frac{1}{6} & -\\frac{1}{6} \\zeta_{12}^{2} + \\frac{1}{6} & -\\frac{1}{6} \\zeta_{12}^{2} + \\frac{1}{6} \\\\\n",
       "\\frac{1}{18} & \\frac{1}{18} & \\frac{1}{18} \\zeta_{12}^{2} - \\frac{1}{18} & \\frac{1}{18} \\zeta_{12}^{2} - \\frac{1}{18} & -\\frac{1}{18} \\zeta_{12}^{2} & -\\frac{1}{18} \\zeta_{12}^{2} & -\\frac{1}{18} \\zeta_{12}^{2} & -\\frac{1}{18} \\zeta_{12}^{2} & \\frac{1}{18} & \\frac{1}{18} & \\frac{1}{18} \\zeta_{12}^{2} - \\frac{1}{18} & \\frac{1}{18} \\zeta_{12}^{2} - \\frac{1}{18} & \\frac{1}{18} \\zeta_{12}^{2} - \\frac{1}{18} & \\frac{1}{18} \\zeta_{12}^{2} - \\frac{1}{18} & -\\frac{1}{18} \\zeta_{12}^{2} & -\\frac{1}{18} \\zeta_{12}^{2} & \\frac{1}{18} & \\frac{1}{18} & -\\frac{1}{9} \\zeta_{12}^{2} & \\frac{1}{9} \\zeta_{12}^{2} - \\frac{1}{9} & \\frac{1}{9} & \\frac{1}{9} \\zeta_{12}^{2} - \\frac{1}{9} & \\frac{1}{9} & -\\frac{1}{9} \\zeta_{12}^{2} & \\frac{1}{9} & -\\frac{1}{9} \\zeta_{12}^{2} & \\frac{1}{9} \\zeta_{12}^{2} - \\frac{1}{9} & \\frac{1}{9} \\zeta_{12}^{2} - \\frac{1}{9} & -\\frac{1}{9} \\zeta_{12}^{2} & \\frac{1}{9} \\zeta_{12}^{2} - \\frac{1}{9} & \\frac{1}{9} & \\frac{1}{9} & -\\frac{1}{9} \\zeta_{12}^{2} & -\\frac{1}{9} \\zeta_{12}^{2} & \\frac{1}{9} \\zeta_{12}^{2} - \\frac{1}{9} & \\frac{1}{9} & \\frac{1}{9} & -\\frac{1}{9} \\zeta_{12}^{2} & \\frac{1}{9} \\zeta_{12}^{2} - \\frac{1}{9} & \\frac{1}{9} \\zeta_{12}^{2} - \\frac{1}{9} & \\frac{1}{9} & -\\frac{1}{9} \\zeta_{12}^{2} & -\\frac{1}{9} \\zeta_{12}^{2} & \\frac{1}{9} \\zeta_{12}^{2} - \\frac{1}{9} & \\frac{1}{9} & \\frac{1}{9} & \\frac{1}{9} & -\\frac{1}{9} \\zeta_{12}^{2} & \\frac{1}{9} \\zeta_{12}^{2} - \\frac{1}{9} & \\frac{1}{9} \\zeta_{12}^{2} - \\frac{1}{9} & \\frac{1}{9} & -\\frac{1}{9} \\zeta_{12}^{2} & -\\frac{1}{9} \\zeta_{12}^{2} & \\frac{1}{9} \\zeta_{12}^{2} - \\frac{1}{9} & \\frac{1}{6} & \\frac{1}{6} & -\\frac{1}{6} \\zeta_{12}^{2} & -\\frac{1}{6} \\zeta_{12}^{2} & \\frac{1}{6} \\zeta_{12}^{2} - \\frac{1}{6} & \\frac{1}{6} \\zeta_{12}^{2} - \\frac{1}{6} & \\frac{1}{6} \\zeta_{12}^{2} - \\frac{1}{6} & \\frac{1}{6} \\zeta_{12}^{2} - \\frac{1}{6} & \\frac{1}{6} & \\frac{1}{6} & -\\frac{1}{6} \\zeta_{12}^{2} & -\\frac{1}{6} \\zeta_{12}^{2} & -\\frac{1}{6} \\zeta_{12}^{2} & -\\frac{1}{6} \\zeta_{12}^{2} & \\frac{1}{6} \\zeta_{12}^{2} - \\frac{1}{6} & \\frac{1}{6} \\zeta_{12}^{2} - \\frac{1}{6} & \\frac{1}{6} & \\frac{1}{6} \\\\\n",
       "\\frac{1}{18} & \\frac{1}{18} & \\frac{1}{18} \\zeta_{12}^{2} - \\frac{1}{18} & \\frac{1}{18} \\zeta_{12}^{2} - \\frac{1}{18} & -\\frac{1}{18} \\zeta_{12}^{2} & -\\frac{1}{18} \\zeta_{12}^{2} & -\\frac{1}{18} \\zeta_{12}^{2} & -\\frac{1}{18} \\zeta_{12}^{2} & \\frac{1}{18} & \\frac{1}{18} & \\frac{1}{18} \\zeta_{12}^{2} - \\frac{1}{18} & \\frac{1}{18} \\zeta_{12}^{2} - \\frac{1}{18} & \\frac{1}{18} \\zeta_{12}^{2} - \\frac{1}{18} & \\frac{1}{18} \\zeta_{12}^{2} - \\frac{1}{18} & -\\frac{1}{18} \\zeta_{12}^{2} & -\\frac{1}{18} \\zeta_{12}^{2} & \\frac{1}{18} & \\frac{1}{18} & -\\frac{1}{9} \\zeta_{12}^{2} & \\frac{1}{9} \\zeta_{12}^{2} - \\frac{1}{9} & \\frac{1}{9} & \\frac{1}{9} \\zeta_{12}^{2} - \\frac{1}{9} & \\frac{1}{9} & -\\frac{1}{9} \\zeta_{12}^{2} & \\frac{1}{9} & -\\frac{1}{9} \\zeta_{12}^{2} & \\frac{1}{9} \\zeta_{12}^{2} - \\frac{1}{9} & \\frac{1}{9} \\zeta_{12}^{2} - \\frac{1}{9} & -\\frac{1}{9} \\zeta_{12}^{2} & \\frac{1}{9} \\zeta_{12}^{2} - \\frac{1}{9} & \\frac{1}{9} & \\frac{1}{9} & -\\frac{1}{9} \\zeta_{12}^{2} & -\\frac{1}{9} \\zeta_{12}^{2} & \\frac{1}{9} \\zeta_{12}^{2} - \\frac{1}{9} & \\frac{1}{9} & \\frac{1}{9} & -\\frac{1}{9} \\zeta_{12}^{2} & \\frac{1}{9} \\zeta_{12}^{2} - \\frac{1}{9} & \\frac{1}{9} \\zeta_{12}^{2} - \\frac{1}{9} & \\frac{1}{9} & -\\frac{1}{9} \\zeta_{12}^{2} & -\\frac{1}{9} \\zeta_{12}^{2} & \\frac{1}{9} \\zeta_{12}^{2} - \\frac{1}{9} & \\frac{1}{9} & \\frac{1}{9} & \\frac{1}{9} & -\\frac{1}{9} \\zeta_{12}^{2} & \\frac{1}{9} \\zeta_{12}^{2} - \\frac{1}{9} & \\frac{1}{9} \\zeta_{12}^{2} - \\frac{1}{9} & \\frac{1}{9} & -\\frac{1}{9} \\zeta_{12}^{2} & -\\frac{1}{9} \\zeta_{12}^{2} & \\frac{1}{9} \\zeta_{12}^{2} - \\frac{1}{9} & -\\frac{1}{6} & -\\frac{1}{6} & \\frac{1}{6} \\zeta_{12}^{2} & \\frac{1}{6} \\zeta_{12}^{2} & -\\frac{1}{6} \\zeta_{12}^{2} + \\frac{1}{6} & -\\frac{1}{6} \\zeta_{12}^{2} + \\frac{1}{6} & -\\frac{1}{6} \\zeta_{12}^{2} + \\frac{1}{6} & -\\frac{1}{6} \\zeta_{12}^{2} + \\frac{1}{6} & -\\frac{1}{6} & -\\frac{1}{6} & \\frac{1}{6} \\zeta_{12}^{2} & \\frac{1}{6} \\zeta_{12}^{2} & \\frac{1}{6} \\zeta_{12}^{2} & \\frac{1}{6} \\zeta_{12}^{2} & -\\frac{1}{6} \\zeta_{12}^{2} + \\frac{1}{6} & -\\frac{1}{6} \\zeta_{12}^{2} + \\frac{1}{6} & -\\frac{1}{6} & -\\frac{1}{6} \\\\\n",
       "\\frac{1}{18} & \\frac{1}{18} & \\frac{1}{18} & \\frac{1}{18} & \\frac{1}{18} & \\frac{1}{18} & \\frac{1}{18} \\zeta_{12}^{2} - \\frac{1}{18} & \\frac{1}{18} \\zeta_{12}^{2} - \\frac{1}{18} & \\frac{1}{18} \\zeta_{12}^{2} - \\frac{1}{18} & \\frac{1}{18} \\zeta_{12}^{2} - \\frac{1}{18} & \\frac{1}{18} \\zeta_{12}^{2} - \\frac{1}{18} & \\frac{1}{18} \\zeta_{12}^{2} - \\frac{1}{18} & -\\frac{1}{18} \\zeta_{12}^{2} & -\\frac{1}{18} \\zeta_{12}^{2} & -\\frac{1}{18} \\zeta_{12}^{2} & -\\frac{1}{18} \\zeta_{12}^{2} & -\\frac{1}{18} \\zeta_{12}^{2} & -\\frac{1}{18} \\zeta_{12}^{2} & \\frac{1}{9} & \\frac{1}{9} & \\frac{1}{9} & -\\frac{1}{9} \\zeta_{12}^{2} & -\\frac{1}{9} \\zeta_{12}^{2} & -\\frac{1}{9} \\zeta_{12}^{2} & -\\frac{1}{9} \\zeta_{12}^{2} & -\\frac{1}{9} \\zeta_{12}^{2} & -\\frac{1}{9} \\zeta_{12}^{2} & \\frac{1}{9} \\zeta_{12}^{2} - \\frac{1}{9} & -\\frac{1}{9} \\zeta_{12}^{2} & -\\frac{1}{9} \\zeta_{12}^{2} & -\\frac{1}{9} \\zeta_{12}^{2} & \\frac{1}{9} \\zeta_{12}^{2} - \\frac{1}{9} & \\frac{1}{9} \\zeta_{12}^{2} - \\frac{1}{9} & \\frac{1}{9} \\zeta_{12}^{2} - \\frac{1}{9} & \\frac{1}{9} \\zeta_{12}^{2} - \\frac{1}{9} & \\frac{1}{9} \\zeta_{12}^{2} - \\frac{1}{9} & \\frac{1}{9} & \\frac{1}{9} & \\frac{1}{9} & \\frac{1}{9} \\zeta_{12}^{2} - \\frac{1}{9} & \\frac{1}{9} \\zeta_{12}^{2} - \\frac{1}{9} & \\frac{1}{9} \\zeta_{12}^{2} - \\frac{1}{9} & \\frac{1}{9} & \\frac{1}{9} & \\frac{1}{9} & -\\frac{1}{9} \\zeta_{12}^{2} & \\frac{1}{9} \\zeta_{12}^{2} - \\frac{1}{9} & \\frac{1}{9} \\zeta_{12}^{2} - \\frac{1}{9} & \\frac{1}{9} \\zeta_{12}^{2} - \\frac{1}{9} & \\frac{1}{9} & \\frac{1}{9} & \\frac{1}{9} & -\\frac{1}{9} \\zeta_{12}^{2} & -\\frac{1}{9} \\zeta_{12}^{2} & \\frac{1}{6} & \\frac{1}{6} & \\frac{1}{6} & \\frac{1}{6} & \\frac{1}{6} & \\frac{1}{6} & -\\frac{1}{6} \\zeta_{12}^{2} & -\\frac{1}{6} \\zeta_{12}^{2} & -\\frac{1}{6} \\zeta_{12}^{2} & -\\frac{1}{6} \\zeta_{12}^{2} & -\\frac{1}{6} \\zeta_{12}^{2} & -\\frac{1}{6} \\zeta_{12}^{2} & \\frac{1}{6} \\zeta_{12}^{2} - \\frac{1}{6} & \\frac{1}{6} \\zeta_{12}^{2} - \\frac{1}{6} & \\frac{1}{6} \\zeta_{12}^{2} - \\frac{1}{6} & \\frac{1}{6} \\zeta_{12}^{2} - \\frac{1}{6} & \\frac{1}{6} \\zeta_{12}^{2} - \\frac{1}{6} & \\frac{1}{6} \\zeta_{12}^{2} - \\frac{1}{6} \\\\\n",
       "\\frac{1}{18} & \\frac{1}{18} & \\frac{1}{18} & \\frac{1}{18} & \\frac{1}{18} & \\frac{1}{18} & \\frac{1}{18} \\zeta_{12}^{2} - \\frac{1}{18} & \\frac{1}{18} \\zeta_{12}^{2} - \\frac{1}{18} & \\frac{1}{18} \\zeta_{12}^{2} - \\frac{1}{18} & \\frac{1}{18} \\zeta_{12}^{2} - \\frac{1}{18} & \\frac{1}{18} \\zeta_{12}^{2} - \\frac{1}{18} & \\frac{1}{18} \\zeta_{12}^{2} - \\frac{1}{18} & -\\frac{1}{18} \\zeta_{12}^{2} & -\\frac{1}{18} \\zeta_{12}^{2} & -\\frac{1}{18} \\zeta_{12}^{2} & -\\frac{1}{18} \\zeta_{12}^{2} & -\\frac{1}{18} \\zeta_{12}^{2} & -\\frac{1}{18} \\zeta_{12}^{2} & \\frac{1}{9} & \\frac{1}{9} & \\frac{1}{9} & -\\frac{1}{9} \\zeta_{12}^{2} & -\\frac{1}{9} \\zeta_{12}^{2} & -\\frac{1}{9} \\zeta_{12}^{2} & -\\frac{1}{9} \\zeta_{12}^{2} & -\\frac{1}{9} \\zeta_{12}^{2} & -\\frac{1}{9} \\zeta_{12}^{2} & \\frac{1}{9} \\zeta_{12}^{2} - \\frac{1}{9} & -\\frac{1}{9} \\zeta_{12}^{2} & -\\frac{1}{9} \\zeta_{12}^{2} & -\\frac{1}{9} \\zeta_{12}^{2} & \\frac{1}{9} \\zeta_{12}^{2} - \\frac{1}{9} & \\frac{1}{9} \\zeta_{12}^{2} - \\frac{1}{9} & \\frac{1}{9} \\zeta_{12}^{2} - \\frac{1}{9} & \\frac{1}{9} \\zeta_{12}^{2} - \\frac{1}{9} & \\frac{1}{9} \\zeta_{12}^{2} - \\frac{1}{9} & \\frac{1}{9} & \\frac{1}{9} & \\frac{1}{9} & \\frac{1}{9} \\zeta_{12}^{2} - \\frac{1}{9} & \\frac{1}{9} \\zeta_{12}^{2} - \\frac{1}{9} & \\frac{1}{9} \\zeta_{12}^{2} - \\frac{1}{9} & \\frac{1}{9} & \\frac{1}{9} & \\frac{1}{9} & -\\frac{1}{9} \\zeta_{12}^{2} & \\frac{1}{9} \\zeta_{12}^{2} - \\frac{1}{9} & \\frac{1}{9} \\zeta_{12}^{2} - \\frac{1}{9} & \\frac{1}{9} \\zeta_{12}^{2} - \\frac{1}{9} & \\frac{1}{9} & \\frac{1}{9} & \\frac{1}{9} & -\\frac{1}{9} \\zeta_{12}^{2} & -\\frac{1}{9} \\zeta_{12}^{2} & -\\frac{1}{6} & -\\frac{1}{6} & -\\frac{1}{6} & -\\frac{1}{6} & -\\frac{1}{6} & -\\frac{1}{6} & \\frac{1}{6} \\zeta_{12}^{2} & \\frac{1}{6} \\zeta_{12}^{2} & \\frac{1}{6} \\zeta_{12}^{2} & \\frac{1}{6} \\zeta_{12}^{2} & \\frac{1}{6} \\zeta_{12}^{2} & \\frac{1}{6} \\zeta_{12}^{2} & -\\frac{1}{6} \\zeta_{12}^{2} + \\frac{1}{6} & -\\frac{1}{6} \\zeta_{12}^{2} + \\frac{1}{6} & -\\frac{1}{6} \\zeta_{12}^{2} + \\frac{1}{6} & -\\frac{1}{6} \\zeta_{12}^{2} + \\frac{1}{6} & -\\frac{1}{6} \\zeta_{12}^{2} + \\frac{1}{6} & -\\frac{1}{6} \\zeta_{12}^{2} + \\frac{1}{6} \\\\\n",
       "\\frac{1}{18} & \\frac{1}{18} & -\\frac{1}{18} \\zeta_{12}^{2} & -\\frac{1}{18} \\zeta_{12}^{2} & \\frac{1}{18} \\zeta_{12}^{2} - \\frac{1}{18} & \\frac{1}{18} \\zeta_{12}^{2} - \\frac{1}{18} & \\frac{1}{18} \\zeta_{12}^{2} - \\frac{1}{18} & \\frac{1}{18} \\zeta_{12}^{2} - \\frac{1}{18} & \\frac{1}{18} & \\frac{1}{18} & -\\frac{1}{18} \\zeta_{12}^{2} & -\\frac{1}{18} \\zeta_{12}^{2} & -\\frac{1}{18} \\zeta_{12}^{2} & -\\frac{1}{18} \\zeta_{12}^{2} & \\frac{1}{18} \\zeta_{12}^{2} - \\frac{1}{18} & \\frac{1}{18} \\zeta_{12}^{2} - \\frac{1}{18} & \\frac{1}{18} & \\frac{1}{18} & \\frac{1}{9} \\zeta_{12}^{2} - \\frac{1}{9} & -\\frac{1}{9} \\zeta_{12}^{2} & \\frac{1}{9} & -\\frac{1}{9} \\zeta_{12}^{2} & \\frac{1}{9} & \\frac{1}{9} \\zeta_{12}^{2} - \\frac{1}{9} & \\frac{1}{9} & \\frac{1}{9} \\zeta_{12}^{2} - \\frac{1}{9} & -\\frac{1}{9} \\zeta_{12}^{2} & -\\frac{1}{9} \\zeta_{12}^{2} & \\frac{1}{9} \\zeta_{12}^{2} - \\frac{1}{9} & -\\frac{1}{9} \\zeta_{12}^{2} & \\frac{1}{9} & \\frac{1}{9} & \\frac{1}{9} \\zeta_{12}^{2} - \\frac{1}{9} & \\frac{1}{9} \\zeta_{12}^{2} - \\frac{1}{9} & -\\frac{1}{9} \\zeta_{12}^{2} & \\frac{1}{9} & \\frac{1}{9} & \\frac{1}{9} \\zeta_{12}^{2} - \\frac{1}{9} & -\\frac{1}{9} \\zeta_{12}^{2} & -\\frac{1}{9} \\zeta_{12}^{2} & \\frac{1}{9} & \\frac{1}{9} \\zeta_{12}^{2} - \\frac{1}{9} & \\frac{1}{9} \\zeta_{12}^{2} - \\frac{1}{9} & -\\frac{1}{9} \\zeta_{12}^{2} & \\frac{1}{9} & \\frac{1}{9} & \\frac{1}{9} & \\frac{1}{9} \\zeta_{12}^{2} - \\frac{1}{9} & -\\frac{1}{9} \\zeta_{12}^{2} & -\\frac{1}{9} \\zeta_{12}^{2} & \\frac{1}{9} & \\frac{1}{9} \\zeta_{12}^{2} - \\frac{1}{9} & \\frac{1}{9} \\zeta_{12}^{2} - \\frac{1}{9} & -\\frac{1}{9} \\zeta_{12}^{2} & \\frac{1}{6} & \\frac{1}{6} & \\frac{1}{6} \\zeta_{12}^{2} - \\frac{1}{6} & \\frac{1}{6} \\zeta_{12}^{2} - \\frac{1}{6} & -\\frac{1}{6} \\zeta_{12}^{2} & -\\frac{1}{6} \\zeta_{12}^{2} & -\\frac{1}{6} \\zeta_{12}^{2} & -\\frac{1}{6} \\zeta_{12}^{2} & \\frac{1}{6} & \\frac{1}{6} & \\frac{1}{6} \\zeta_{12}^{2} - \\frac{1}{6} & \\frac{1}{6} \\zeta_{12}^{2} - \\frac{1}{6} & \\frac{1}{6} \\zeta_{12}^{2} - \\frac{1}{6} & \\frac{1}{6} \\zeta_{12}^{2} - \\frac{1}{6} & -\\frac{1}{6} \\zeta_{12}^{2} & -\\frac{1}{6} \\zeta_{12}^{2} & \\frac{1}{6} & \\frac{1}{6} \\\\\n",
       "\\frac{1}{18} & \\frac{1}{18} & -\\frac{1}{18} \\zeta_{12}^{2} & -\\frac{1}{18} \\zeta_{12}^{2} & \\frac{1}{18} \\zeta_{12}^{2} - \\frac{1}{18} & \\frac{1}{18} \\zeta_{12}^{2} - \\frac{1}{18} & \\frac{1}{18} \\zeta_{12}^{2} - \\frac{1}{18} & \\frac{1}{18} \\zeta_{12}^{2} - \\frac{1}{18} & \\frac{1}{18} & \\frac{1}{18} & -\\frac{1}{18} \\zeta_{12}^{2} & -\\frac{1}{18} \\zeta_{12}^{2} & -\\frac{1}{18} \\zeta_{12}^{2} & -\\frac{1}{18} \\zeta_{12}^{2} & \\frac{1}{18} \\zeta_{12}^{2} - \\frac{1}{18} & \\frac{1}{18} \\zeta_{12}^{2} - \\frac{1}{18} & \\frac{1}{18} & \\frac{1}{18} & \\frac{1}{9} \\zeta_{12}^{2} - \\frac{1}{9} & -\\frac{1}{9} \\zeta_{12}^{2} & \\frac{1}{9} & -\\frac{1}{9} \\zeta_{12}^{2} & \\frac{1}{9} & \\frac{1}{9} \\zeta_{12}^{2} - \\frac{1}{9} & \\frac{1}{9} & \\frac{1}{9} \\zeta_{12}^{2} - \\frac{1}{9} & -\\frac{1}{9} \\zeta_{12}^{2} & -\\frac{1}{9} \\zeta_{12}^{2} & \\frac{1}{9} \\zeta_{12}^{2} - \\frac{1}{9} & -\\frac{1}{9} \\zeta_{12}^{2} & \\frac{1}{9} & \\frac{1}{9} & \\frac{1}{9} \\zeta_{12}^{2} - \\frac{1}{9} & \\frac{1}{9} \\zeta_{12}^{2} - \\frac{1}{9} & -\\frac{1}{9} \\zeta_{12}^{2} & \\frac{1}{9} & \\frac{1}{9} & \\frac{1}{9} \\zeta_{12}^{2} - \\frac{1}{9} & -\\frac{1}{9} \\zeta_{12}^{2} & -\\frac{1}{9} \\zeta_{12}^{2} & \\frac{1}{9} & \\frac{1}{9} \\zeta_{12}^{2} - \\frac{1}{9} & \\frac{1}{9} \\zeta_{12}^{2} - \\frac{1}{9} & -\\frac{1}{9} \\zeta_{12}^{2} & \\frac{1}{9} & \\frac{1}{9} & \\frac{1}{9} & \\frac{1}{9} \\zeta_{12}^{2} - \\frac{1}{9} & -\\frac{1}{9} \\zeta_{12}^{2} & -\\frac{1}{9} \\zeta_{12}^{2} & \\frac{1}{9} & \\frac{1}{9} \\zeta_{12}^{2} - \\frac{1}{9} & \\frac{1}{9} \\zeta_{12}^{2} - \\frac{1}{9} & -\\frac{1}{9} \\zeta_{12}^{2} & -\\frac{1}{6} & -\\frac{1}{6} & -\\frac{1}{6} \\zeta_{12}^{2} + \\frac{1}{6} & -\\frac{1}{6} \\zeta_{12}^{2} + \\frac{1}{6} & \\frac{1}{6} \\zeta_{12}^{2} & \\frac{1}{6} \\zeta_{12}^{2} & \\frac{1}{6} \\zeta_{12}^{2} & \\frac{1}{6} \\zeta_{12}^{2} & -\\frac{1}{6} & -\\frac{1}{6} & -\\frac{1}{6} \\zeta_{12}^{2} + \\frac{1}{6} & -\\frac{1}{6} \\zeta_{12}^{2} + \\frac{1}{6} & -\\frac{1}{6} \\zeta_{12}^{2} + \\frac{1}{6} & -\\frac{1}{6} \\zeta_{12}^{2} + \\frac{1}{6} & \\frac{1}{6} \\zeta_{12}^{2} & \\frac{1}{6} \\zeta_{12}^{2} & -\\frac{1}{6} & -\\frac{1}{6} \\\\\n",
       "\\frac{1}{18} & \\frac{1}{18} & \\frac{1}{18} \\zeta_{12}^{2} - \\frac{1}{18} & \\frac{1}{18} \\zeta_{12}^{2} - \\frac{1}{18} & -\\frac{1}{18} \\zeta_{12}^{2} & -\\frac{1}{18} \\zeta_{12}^{2} & \\frac{1}{18} \\zeta_{12}^{2} - \\frac{1}{18} & \\frac{1}{18} \\zeta_{12}^{2} - \\frac{1}{18} & -\\frac{1}{18} \\zeta_{12}^{2} & -\\frac{1}{18} \\zeta_{12}^{2} & \\frac{1}{18} & \\frac{1}{18} & -\\frac{1}{18} \\zeta_{12}^{2} & -\\frac{1}{18} \\zeta_{12}^{2} & \\frac{1}{18} & \\frac{1}{18} & \\frac{1}{18} \\zeta_{12}^{2} - \\frac{1}{18} & \\frac{1}{18} \\zeta_{12}^{2} - \\frac{1}{18} & -\\frac{1}{9} \\zeta_{12}^{2} & \\frac{1}{9} \\zeta_{12}^{2} - \\frac{1}{9} & \\frac{1}{9} & -\\frac{1}{9} \\zeta_{12}^{2} & \\frac{1}{9} \\zeta_{12}^{2} - \\frac{1}{9} & \\frac{1}{9} & \\frac{1}{9} \\zeta_{12}^{2} - \\frac{1}{9} & \\frac{1}{9} & -\\frac{1}{9} \\zeta_{12}^{2} & \\frac{1}{9} & \\frac{1}{9} & -\\frac{1}{9} \\zeta_{12}^{2} & \\frac{1}{9} \\zeta_{12}^{2} - \\frac{1}{9} & -\\frac{1}{9} \\zeta_{12}^{2} & \\frac{1}{9} \\zeta_{12}^{2} - \\frac{1}{9} & \\frac{1}{9} \\zeta_{12}^{2} - \\frac{1}{9} & \\frac{1}{9} & -\\frac{1}{9} \\zeta_{12}^{2} & \\frac{1}{9} & -\\frac{1}{9} \\zeta_{12}^{2} & \\frac{1}{9} \\zeta_{12}^{2} - \\frac{1}{9} & \\frac{1}{9} & -\\frac{1}{9} \\zeta_{12}^{2} & \\frac{1}{9} \\zeta_{12}^{2} - \\frac{1}{9} & -\\frac{1}{9} \\zeta_{12}^{2} & \\frac{1}{9} \\zeta_{12}^{2} - \\frac{1}{9} & \\frac{1}{9} & \\frac{1}{9} \\zeta_{12}^{2} - \\frac{1}{9} & -\\frac{1}{9} \\zeta_{12}^{2} & \\frac{1}{9} \\zeta_{12}^{2} - \\frac{1}{9} & \\frac{1}{9} & \\frac{1}{9} \\zeta_{12}^{2} - \\frac{1}{9} & \\frac{1}{9} & -\\frac{1}{9} \\zeta_{12}^{2} & \\frac{1}{9} & -\\frac{1}{9} \\zeta_{12}^{2} & \\frac{1}{6} & \\frac{1}{6} & -\\frac{1}{6} \\zeta_{12}^{2} & -\\frac{1}{6} \\zeta_{12}^{2} & \\frac{1}{6} \\zeta_{12}^{2} - \\frac{1}{6} & \\frac{1}{6} \\zeta_{12}^{2} - \\frac{1}{6} & -\\frac{1}{6} \\zeta_{12}^{2} & -\\frac{1}{6} \\zeta_{12}^{2} & \\frac{1}{6} \\zeta_{12}^{2} - \\frac{1}{6} & \\frac{1}{6} \\zeta_{12}^{2} - \\frac{1}{6} & \\frac{1}{6} & \\frac{1}{6} & \\frac{1}{6} \\zeta_{12}^{2} - \\frac{1}{6} & \\frac{1}{6} \\zeta_{12}^{2} - \\frac{1}{6} & \\frac{1}{6} & \\frac{1}{6} & -\\frac{1}{6} \\zeta_{12}^{2} & -\\frac{1}{6} \\zeta_{12}^{2} \\\\\n",
       "\\frac{1}{18} & \\frac{1}{18} & \\frac{1}{18} \\zeta_{12}^{2} - \\frac{1}{18} & \\frac{1}{18} \\zeta_{12}^{2} - \\frac{1}{18} & -\\frac{1}{18} \\zeta_{12}^{2} & -\\frac{1}{18} \\zeta_{12}^{2} & \\frac{1}{18} \\zeta_{12}^{2} - \\frac{1}{18} & \\frac{1}{18} \\zeta_{12}^{2} - \\frac{1}{18} & -\\frac{1}{18} \\zeta_{12}^{2} & -\\frac{1}{18} \\zeta_{12}^{2} & \\frac{1}{18} & \\frac{1}{18} & -\\frac{1}{18} \\zeta_{12}^{2} & -\\frac{1}{18} \\zeta_{12}^{2} & \\frac{1}{18} & \\frac{1}{18} & \\frac{1}{18} \\zeta_{12}^{2} - \\frac{1}{18} & \\frac{1}{18} \\zeta_{12}^{2} - \\frac{1}{18} & -\\frac{1}{9} \\zeta_{12}^{2} & \\frac{1}{9} \\zeta_{12}^{2} - \\frac{1}{9} & \\frac{1}{9} & -\\frac{1}{9} \\zeta_{12}^{2} & \\frac{1}{9} \\zeta_{12}^{2} - \\frac{1}{9} & \\frac{1}{9} & \\frac{1}{9} \\zeta_{12}^{2} - \\frac{1}{9} & \\frac{1}{9} & -\\frac{1}{9} \\zeta_{12}^{2} & \\frac{1}{9} & \\frac{1}{9} & -\\frac{1}{9} \\zeta_{12}^{2} & \\frac{1}{9} \\zeta_{12}^{2} - \\frac{1}{9} & -\\frac{1}{9} \\zeta_{12}^{2} & \\frac{1}{9} \\zeta_{12}^{2} - \\frac{1}{9} & \\frac{1}{9} \\zeta_{12}^{2} - \\frac{1}{9} & \\frac{1}{9} & -\\frac{1}{9} \\zeta_{12}^{2} & \\frac{1}{9} & -\\frac{1}{9} \\zeta_{12}^{2} & \\frac{1}{9} \\zeta_{12}^{2} - \\frac{1}{9} & \\frac{1}{9} & -\\frac{1}{9} \\zeta_{12}^{2} & \\frac{1}{9} \\zeta_{12}^{2} - \\frac{1}{9} & -\\frac{1}{9} \\zeta_{12}^{2} & \\frac{1}{9} \\zeta_{12}^{2} - \\frac{1}{9} & \\frac{1}{9} & \\frac{1}{9} \\zeta_{12}^{2} - \\frac{1}{9} & -\\frac{1}{9} \\zeta_{12}^{2} & \\frac{1}{9} \\zeta_{12}^{2} - \\frac{1}{9} & \\frac{1}{9} & \\frac{1}{9} \\zeta_{12}^{2} - \\frac{1}{9} & \\frac{1}{9} & -\\frac{1}{9} \\zeta_{12}^{2} & \\frac{1}{9} & -\\frac{1}{9} \\zeta_{12}^{2} & -\\frac{1}{6} & -\\frac{1}{6} & \\frac{1}{6} \\zeta_{12}^{2} & \\frac{1}{6} \\zeta_{12}^{2} & -\\frac{1}{6} \\zeta_{12}^{2} + \\frac{1}{6} & -\\frac{1}{6} \\zeta_{12}^{2} + \\frac{1}{6} & \\frac{1}{6} \\zeta_{12}^{2} & \\frac{1}{6} \\zeta_{12}^{2} & -\\frac{1}{6} \\zeta_{12}^{2} + \\frac{1}{6} & -\\frac{1}{6} \\zeta_{12}^{2} + \\frac{1}{6} & -\\frac{1}{6} & -\\frac{1}{6} & -\\frac{1}{6} \\zeta_{12}^{2} + \\frac{1}{6} & -\\frac{1}{6} \\zeta_{12}^{2} + \\frac{1}{6} & -\\frac{1}{6} & -\\frac{1}{6} & \\frac{1}{6} \\zeta_{12}^{2} & \\frac{1}{6} \\zeta_{12}^{2} \\\\\n",
       "\\frac{1}{9} & \\frac{1}{9} & \\frac{1}{9} \\zeta_{12}^{2} - \\frac{1}{9} & \\frac{1}{9} \\zeta_{12}^{2} - \\frac{1}{9} & -\\frac{1}{9} \\zeta_{12}^{2} & -\\frac{1}{9} \\zeta_{12}^{2} & \\frac{1}{9} & \\frac{1}{9} & \\frac{1}{9} \\zeta_{12}^{2} - \\frac{1}{9} & \\frac{1}{9} \\zeta_{12}^{2} - \\frac{1}{9} & -\\frac{1}{9} \\zeta_{12}^{2} & -\\frac{1}{9} \\zeta_{12}^{2} & \\frac{1}{9} & \\frac{1}{9} & \\frac{1}{9} \\zeta_{12}^{2} - \\frac{1}{9} & \\frac{1}{9} \\zeta_{12}^{2} - \\frac{1}{9} & -\\frac{1}{9} \\zeta_{12}^{2} & -\\frac{1}{9} \\zeta_{12}^{2} & \\frac{1}{9} \\zeta_{12}^{2} & -\\frac{1}{9} \\zeta_{12}^{2} + \\frac{1}{9} & -\\frac{1}{9} & \\frac{2}{9} & \\frac{1}{9} \\zeta_{12}^{2} & -\\frac{1}{9} \\zeta_{12}^{2} + \\frac{1}{9} & \\frac{1}{9} \\zeta_{12}^{2} & \\frac{2}{9} \\zeta_{12}^{2} - \\frac{2}{9} & -\\frac{1}{9} & \\frac{1}{9} \\zeta_{12}^{2} & -\\frac{1}{9} \\zeta_{12}^{2} + \\frac{1}{9} & -\\frac{1}{9} & -\\frac{2}{9} \\zeta_{12}^{2} & -\\frac{1}{9} \\zeta_{12}^{2} + \\frac{1}{9} & -\\frac{1}{9} & \\frac{2}{9} & \\frac{1}{9} \\zeta_{12}^{2} & -\\frac{1}{9} \\zeta_{12}^{2} + \\frac{1}{9} & \\frac{2}{9} & \\frac{1}{9} \\zeta_{12}^{2} & -\\frac{1}{9} \\zeta_{12}^{2} + \\frac{1}{9} & \\frac{1}{9} \\zeta_{12}^{2} & \\frac{2}{9} \\zeta_{12}^{2} - \\frac{2}{9} & -\\frac{1}{9} & \\frac{1}{9} \\zeta_{12}^{2} & \\frac{2}{9} \\zeta_{12}^{2} - \\frac{2}{9} & -\\frac{1}{9} & \\frac{1}{9} \\zeta_{12}^{2} & -\\frac{1}{9} \\zeta_{12}^{2} + \\frac{1}{9} & -\\frac{1}{9} & -\\frac{2}{9} \\zeta_{12}^{2} & -\\frac{1}{9} \\zeta_{12}^{2} + \\frac{1}{9} & -\\frac{1}{9} & -\\frac{2}{9} \\zeta_{12}^{2} & -\\frac{1}{9} \\zeta_{12}^{2} + \\frac{1}{9} & -\\frac{1}{9} & 0 & 0 & 0 & 0 & 0 & 0 & 0 & 0 & 0 & 0 & 0 & 0 & 0 & 0 & 0 & 0 & 0 & 0 \\\\\n",
       "\\frac{1}{9} & \\frac{1}{9} & -\\frac{1}{9} \\zeta_{12}^{2} & -\\frac{1}{9} \\zeta_{12}^{2} & \\frac{1}{9} \\zeta_{12}^{2} - \\frac{1}{9} & \\frac{1}{9} \\zeta_{12}^{2} - \\frac{1}{9} & \\frac{1}{9} & \\frac{1}{9} & -\\frac{1}{9} \\zeta_{12}^{2} & -\\frac{1}{9} \\zeta_{12}^{2} & \\frac{1}{9} \\zeta_{12}^{2} - \\frac{1}{9} & \\frac{1}{9} \\zeta_{12}^{2} - \\frac{1}{9} & \\frac{1}{9} & \\frac{1}{9} & -\\frac{1}{9} \\zeta_{12}^{2} & -\\frac{1}{9} \\zeta_{12}^{2} & \\frac{1}{9} \\zeta_{12}^{2} - \\frac{1}{9} & \\frac{1}{9} \\zeta_{12}^{2} - \\frac{1}{9} & -\\frac{1}{9} \\zeta_{12}^{2} + \\frac{1}{9} & \\frac{1}{9} \\zeta_{12}^{2} & -\\frac{1}{9} & \\frac{2}{9} & -\\frac{1}{9} \\zeta_{12}^{2} + \\frac{1}{9} & \\frac{1}{9} \\zeta_{12}^{2} & -\\frac{1}{9} \\zeta_{12}^{2} + \\frac{1}{9} & -\\frac{2}{9} \\zeta_{12}^{2} & -\\frac{1}{9} & -\\frac{1}{9} \\zeta_{12}^{2} + \\frac{1}{9} & \\frac{1}{9} \\zeta_{12}^{2} & -\\frac{1}{9} & \\frac{2}{9} \\zeta_{12}^{2} - \\frac{2}{9} & \\frac{1}{9} \\zeta_{12}^{2} & -\\frac{1}{9} & \\frac{2}{9} & -\\frac{1}{9} \\zeta_{12}^{2} + \\frac{1}{9} & \\frac{1}{9} \\zeta_{12}^{2} & \\frac{2}{9} & -\\frac{1}{9} \\zeta_{12}^{2} + \\frac{1}{9} & \\frac{1}{9} \\zeta_{12}^{2} & -\\frac{1}{9} \\zeta_{12}^{2} + \\frac{1}{9} & -\\frac{2}{9} \\zeta_{12}^{2} & -\\frac{1}{9} & -\\frac{1}{9} \\zeta_{12}^{2} + \\frac{1}{9} & -\\frac{2}{9} \\zeta_{12}^{2} & -\\frac{1}{9} & -\\frac{1}{9} \\zeta_{12}^{2} + \\frac{1}{9} & \\frac{1}{9} \\zeta_{12}^{2} & -\\frac{1}{9} & \\frac{2}{9} \\zeta_{12}^{2} - \\frac{2}{9} & \\frac{1}{9} \\zeta_{12}^{2} & -\\frac{1}{9} & \\frac{2}{9} \\zeta_{12}^{2} - \\frac{2}{9} & \\frac{1}{9} \\zeta_{12}^{2} & -\\frac{1}{9} & 0 & 0 & 0 & 0 & 0 & 0 & 0 & 0 & 0 & 0 & 0 & 0 & 0 & 0 & 0 & 0 & 0 & 0 \\\\\n",
       "\\frac{1}{9} & \\frac{1}{9} & \\frac{1}{9} & \\frac{1}{9} & \\frac{1}{9} & \\frac{1}{9} & \\frac{1}{9} & \\frac{1}{9} & \\frac{1}{9} & \\frac{1}{9} & \\frac{1}{9} & \\frac{1}{9} & \\frac{1}{9} & \\frac{1}{9} & \\frac{1}{9} & \\frac{1}{9} & \\frac{1}{9} & \\frac{1}{9} & -\\frac{1}{9} & -\\frac{1}{9} & -\\frac{1}{9} & \\frac{2}{9} & -\\frac{1}{9} & -\\frac{1}{9} & -\\frac{1}{9} & \\frac{2}{9} & -\\frac{1}{9} & -\\frac{1}{9} & -\\frac{1}{9} & -\\frac{1}{9} & \\frac{2}{9} & -\\frac{1}{9} & -\\frac{1}{9} & \\frac{2}{9} & -\\frac{1}{9} & -\\frac{1}{9} & \\frac{2}{9} & -\\frac{1}{9} & -\\frac{1}{9} & -\\frac{1}{9} & \\frac{2}{9} & -\\frac{1}{9} & -\\frac{1}{9} & \\frac{2}{9} & -\\frac{1}{9} & -\\frac{1}{9} & -\\frac{1}{9} & -\\frac{1}{9} & \\frac{2}{9} & -\\frac{1}{9} & -\\frac{1}{9} & \\frac{2}{9} & -\\frac{1}{9} & -\\frac{1}{9} & 0 & 0 & 0 & 0 & 0 & 0 & 0 & 0 & 0 & 0 & 0 & 0 & 0 & 0 & 0 & 0 & 0 & 0 \\\\\n",
       "\\frac{1}{9} & \\frac{1}{9} & \\frac{1}{9} & \\frac{1}{9} & \\frac{1}{9} & \\frac{1}{9} & \\frac{1}{9} \\zeta_{12}^{2} - \\frac{1}{9} & \\frac{1}{9} \\zeta_{12}^{2} - \\frac{1}{9} & \\frac{1}{9} \\zeta_{12}^{2} - \\frac{1}{9} & \\frac{1}{9} \\zeta_{12}^{2} - \\frac{1}{9} & \\frac{1}{9} \\zeta_{12}^{2} - \\frac{1}{9} & \\frac{1}{9} \\zeta_{12}^{2} - \\frac{1}{9} & -\\frac{1}{9} \\zeta_{12}^{2} & -\\frac{1}{9} \\zeta_{12}^{2} & -\\frac{1}{9} \\zeta_{12}^{2} & -\\frac{1}{9} \\zeta_{12}^{2} & -\\frac{1}{9} \\zeta_{12}^{2} & -\\frac{1}{9} \\zeta_{12}^{2} & \\frac{2}{9} & \\frac{2}{9} & \\frac{2}{9} & \\frac{1}{9} \\zeta_{12}^{2} & \\frac{1}{9} \\zeta_{12}^{2} & \\frac{1}{9} \\zeta_{12}^{2} & \\frac{1}{9} \\zeta_{12}^{2} & \\frac{1}{9} \\zeta_{12}^{2} & \\frac{1}{9} \\zeta_{12}^{2} & \\frac{2}{9} \\zeta_{12}^{2} - \\frac{2}{9} & \\frac{1}{9} \\zeta_{12}^{2} & \\frac{1}{9} \\zeta_{12}^{2} & \\frac{1}{9} \\zeta_{12}^{2} & \\frac{2}{9} \\zeta_{12}^{2} - \\frac{2}{9} & \\frac{2}{9} \\zeta_{12}^{2} - \\frac{2}{9} & -\\frac{1}{9} \\zeta_{12}^{2} + \\frac{1}{9} & -\\frac{1}{9} \\zeta_{12}^{2} + \\frac{1}{9} & -\\frac{1}{9} \\zeta_{12}^{2} + \\frac{1}{9} & -\\frac{1}{9} & -\\frac{1}{9} & -\\frac{1}{9} & -\\frac{1}{9} \\zeta_{12}^{2} + \\frac{1}{9} & -\\frac{1}{9} \\zeta_{12}^{2} + \\frac{1}{9} & -\\frac{1}{9} \\zeta_{12}^{2} + \\frac{1}{9} & -\\frac{1}{9} & -\\frac{1}{9} & -\\frac{1}{9} & -\\frac{2}{9} \\zeta_{12}^{2} & -\\frac{1}{9} \\zeta_{12}^{2} + \\frac{1}{9} & -\\frac{1}{9} \\zeta_{12}^{2} + \\frac{1}{9} & -\\frac{1}{9} \\zeta_{12}^{2} + \\frac{1}{9} & -\\frac{1}{9} & -\\frac{1}{9} & -\\frac{1}{9} & -\\frac{2}{9} \\zeta_{12}^{2} & -\\frac{2}{9} \\zeta_{12}^{2} & 0 & 0 & 0 & 0 & 0 & 0 & 0 & 0 & 0 & 0 & 0 & 0 & 0 & 0 & 0 & 0 & 0 & 0 \\\\\n",
       "\\frac{1}{9} & \\frac{1}{9} & \\frac{1}{9} \\zeta_{12}^{2} - \\frac{1}{9} & \\frac{1}{9} \\zeta_{12}^{2} - \\frac{1}{9} & -\\frac{1}{9} \\zeta_{12}^{2} & -\\frac{1}{9} \\zeta_{12}^{2} & \\frac{1}{9} \\zeta_{12}^{2} - \\frac{1}{9} & \\frac{1}{9} \\zeta_{12}^{2} - \\frac{1}{9} & -\\frac{1}{9} \\zeta_{12}^{2} & -\\frac{1}{9} \\zeta_{12}^{2} & \\frac{1}{9} & \\frac{1}{9} & -\\frac{1}{9} \\zeta_{12}^{2} & -\\frac{1}{9} \\zeta_{12}^{2} & \\frac{1}{9} & \\frac{1}{9} & \\frac{1}{9} \\zeta_{12}^{2} - \\frac{1}{9} & \\frac{1}{9} \\zeta_{12}^{2} - \\frac{1}{9} & \\frac{1}{9} \\zeta_{12}^{2} & -\\frac{1}{9} \\zeta_{12}^{2} + \\frac{1}{9} & -\\frac{1}{9} & \\frac{1}{9} \\zeta_{12}^{2} & -\\frac{1}{9} \\zeta_{12}^{2} + \\frac{1}{9} & \\frac{2}{9} & \\frac{2}{9} \\zeta_{12}^{2} - \\frac{2}{9} & -\\frac{1}{9} & \\frac{1}{9} \\zeta_{12}^{2} & -\\frac{1}{9} & -\\frac{1}{9} & -\\frac{2}{9} \\zeta_{12}^{2} & -\\frac{1}{9} \\zeta_{12}^{2} + \\frac{1}{9} & \\frac{1}{9} \\zeta_{12}^{2} & -\\frac{1}{9} \\zeta_{12}^{2} + \\frac{1}{9} & -\\frac{1}{9} \\zeta_{12}^{2} + \\frac{1}{9} & \\frac{2}{9} & \\frac{1}{9} \\zeta_{12}^{2} & -\\frac{1}{9} & \\frac{1}{9} \\zeta_{12}^{2} & \\frac{2}{9} \\zeta_{12}^{2} - \\frac{2}{9} & -\\frac{1}{9} & \\frac{1}{9} \\zeta_{12}^{2} & \\frac{2}{9} \\zeta_{12}^{2} - \\frac{2}{9} & -\\frac{2}{9} \\zeta_{12}^{2} & -\\frac{1}{9} \\zeta_{12}^{2} + \\frac{1}{9} & -\\frac{1}{9} & -\\frac{1}{9} \\zeta_{12}^{2} + \\frac{1}{9} & -\\frac{2}{9} \\zeta_{12}^{2} & -\\frac{1}{9} \\zeta_{12}^{2} + \\frac{1}{9} & -\\frac{1}{9} & -\\frac{1}{9} \\zeta_{12}^{2} + \\frac{1}{9} & \\frac{2}{9} & \\frac{1}{9} \\zeta_{12}^{2} & -\\frac{1}{9} & \\frac{1}{9} \\zeta_{12}^{2} & 0 & 0 & 0 & 0 & 0 & 0 & 0 & 0 & 0 & 0 & 0 & 0 & 0 & 0 & 0 & 0 & 0 & 0 \\\\\n",
       "\\frac{1}{9} & \\frac{1}{9} & -\\frac{1}{9} \\zeta_{12}^{2} & -\\frac{1}{9} \\zeta_{12}^{2} & \\frac{1}{9} \\zeta_{12}^{2} - \\frac{1}{9} & \\frac{1}{9} \\zeta_{12}^{2} - \\frac{1}{9} & \\frac{1}{9} \\zeta_{12}^{2} - \\frac{1}{9} & \\frac{1}{9} \\zeta_{12}^{2} - \\frac{1}{9} & \\frac{1}{9} & \\frac{1}{9} & -\\frac{1}{9} \\zeta_{12}^{2} & -\\frac{1}{9} \\zeta_{12}^{2} & -\\frac{1}{9} \\zeta_{12}^{2} & -\\frac{1}{9} \\zeta_{12}^{2} & \\frac{1}{9} \\zeta_{12}^{2} - \\frac{1}{9} & \\frac{1}{9} \\zeta_{12}^{2} - \\frac{1}{9} & \\frac{1}{9} & \\frac{1}{9} & -\\frac{1}{9} \\zeta_{12}^{2} + \\frac{1}{9} & \\frac{1}{9} \\zeta_{12}^{2} & -\\frac{1}{9} & \\frac{1}{9} \\zeta_{12}^{2} & \\frac{2}{9} & -\\frac{1}{9} \\zeta_{12}^{2} + \\frac{1}{9} & -\\frac{1}{9} & -\\frac{1}{9} \\zeta_{12}^{2} + \\frac{1}{9} & -\\frac{2}{9} \\zeta_{12}^{2} & \\frac{1}{9} \\zeta_{12}^{2} & \\frac{2}{9} \\zeta_{12}^{2} - \\frac{2}{9} & \\frac{1}{9} \\zeta_{12}^{2} & -\\frac{1}{9} & -\\frac{1}{9} & -\\frac{1}{9} \\zeta_{12}^{2} + \\frac{1}{9} & -\\frac{1}{9} \\zeta_{12}^{2} + \\frac{1}{9} & \\frac{1}{9} \\zeta_{12}^{2} & \\frac{2}{9} & -\\frac{1}{9} & \\frac{2}{9} \\zeta_{12}^{2} - \\frac{2}{9} & \\frac{1}{9} \\zeta_{12}^{2} & -\\frac{2}{9} \\zeta_{12}^{2} & -\\frac{1}{9} & -\\frac{1}{9} \\zeta_{12}^{2} + \\frac{1}{9} & -\\frac{1}{9} \\zeta_{12}^{2} + \\frac{1}{9} & \\frac{1}{9} \\zeta_{12}^{2} & \\frac{2}{9} & -\\frac{1}{9} & -\\frac{1}{9} & \\frac{2}{9} \\zeta_{12}^{2} - \\frac{2}{9} & \\frac{1}{9} \\zeta_{12}^{2} & -\\frac{2}{9} \\zeta_{12}^{2} & -\\frac{1}{9} & -\\frac{1}{9} \\zeta_{12}^{2} + \\frac{1}{9} & -\\frac{1}{9} \\zeta_{12}^{2} + \\frac{1}{9} & \\frac{1}{9} \\zeta_{12}^{2} & 0 & 0 & 0 & 0 & 0 & 0 & 0 & 0 & 0 & 0 & 0 & 0 & 0 & 0 & 0 & 0 & 0 & 0 \\\\\n",
       "\\frac{1}{9} & \\frac{1}{9} & \\frac{1}{9} \\zeta_{12}^{2} - \\frac{1}{9} & \\frac{1}{9} \\zeta_{12}^{2} - \\frac{1}{9} & -\\frac{1}{9} \\zeta_{12}^{2} & -\\frac{1}{9} \\zeta_{12}^{2} & \\frac{1}{9} \\zeta_{12}^{2} - \\frac{1}{9} & \\frac{1}{9} \\zeta_{12}^{2} - \\frac{1}{9} & -\\frac{1}{9} \\zeta_{12}^{2} & -\\frac{1}{9} \\zeta_{12}^{2} & \\frac{1}{9} & \\frac{1}{9} & -\\frac{1}{9} \\zeta_{12}^{2} & -\\frac{1}{9} \\zeta_{12}^{2} & \\frac{1}{9} & \\frac{1}{9} & \\frac{1}{9} \\zeta_{12}^{2} - \\frac{1}{9} & \\frac{1}{9} \\zeta_{12}^{2} - \\frac{1}{9} & \\frac{1}{9} \\zeta_{12}^{2} & -\\frac{1}{9} \\zeta_{12}^{2} + \\frac{1}{9} & -\\frac{1}{9} & \\frac{1}{9} \\zeta_{12}^{2} & \\frac{2}{9} \\zeta_{12}^{2} - \\frac{2}{9} & -\\frac{1}{9} & -\\frac{1}{9} \\zeta_{12}^{2} + \\frac{1}{9} & -\\frac{1}{9} & -\\frac{2}{9} \\zeta_{12}^{2} & -\\frac{1}{9} & \\frac{2}{9} & \\frac{1}{9} \\zeta_{12}^{2} & -\\frac{1}{9} \\zeta_{12}^{2} + \\frac{1}{9} & \\frac{1}{9} \\zeta_{12}^{2} & -\\frac{1}{9} \\zeta_{12}^{2} + \\frac{1}{9} & -\\frac{1}{9} \\zeta_{12}^{2} + \\frac{1}{9} & -\\frac{1}{9} & -\\frac{2}{9} \\zeta_{12}^{2} & -\\frac{1}{9} & -\\frac{2}{9} \\zeta_{12}^{2} & -\\frac{1}{9} \\zeta_{12}^{2} + \\frac{1}{9} & \\frac{2}{9} & \\frac{1}{9} \\zeta_{12}^{2} & -\\frac{1}{9} \\zeta_{12}^{2} + \\frac{1}{9} & \\frac{1}{9} \\zeta_{12}^{2} & -\\frac{1}{9} \\zeta_{12}^{2} + \\frac{1}{9} & \\frac{2}{9} & -\\frac{1}{9} \\zeta_{12}^{2} + \\frac{1}{9} & \\frac{1}{9} \\zeta_{12}^{2} & \\frac{2}{9} \\zeta_{12}^{2} - \\frac{2}{9} & -\\frac{1}{9} & \\frac{2}{9} \\zeta_{12}^{2} - \\frac{2}{9} & -\\frac{1}{9} & \\frac{1}{9} \\zeta_{12}^{2} & -\\frac{1}{9} & \\frac{1}{9} \\zeta_{12}^{2} & 0 & 0 & 0 & 0 & 0 & 0 & 0 & 0 & 0 & 0 & 0 & 0 & 0 & 0 & 0 & 0 & 0 & 0 \\\\\n",
       "\\frac{1}{9} & \\frac{1}{9} & -\\frac{1}{9} \\zeta_{12}^{2} & -\\frac{1}{9} \\zeta_{12}^{2} & \\frac{1}{9} \\zeta_{12}^{2} - \\frac{1}{9} & \\frac{1}{9} \\zeta_{12}^{2} - \\frac{1}{9} & \\frac{1}{9} \\zeta_{12}^{2} - \\frac{1}{9} & \\frac{1}{9} \\zeta_{12}^{2} - \\frac{1}{9} & \\frac{1}{9} & \\frac{1}{9} & -\\frac{1}{9} \\zeta_{12}^{2} & -\\frac{1}{9} \\zeta_{12}^{2} & -\\frac{1}{9} \\zeta_{12}^{2} & -\\frac{1}{9} \\zeta_{12}^{2} & \\frac{1}{9} \\zeta_{12}^{2} - \\frac{1}{9} & \\frac{1}{9} \\zeta_{12}^{2} - \\frac{1}{9} & \\frac{1}{9} & \\frac{1}{9} & \\frac{2}{9} \\zeta_{12}^{2} - \\frac{2}{9} & -\\frac{2}{9} \\zeta_{12}^{2} & \\frac{2}{9} & \\frac{1}{9} \\zeta_{12}^{2} & -\\frac{1}{9} & -\\frac{1}{9} \\zeta_{12}^{2} + \\frac{1}{9} & -\\frac{1}{9} & -\\frac{1}{9} \\zeta_{12}^{2} + \\frac{1}{9} & \\frac{1}{9} \\zeta_{12}^{2} & -\\frac{2}{9} \\zeta_{12}^{2} & -\\frac{1}{9} \\zeta_{12}^{2} + \\frac{1}{9} & \\frac{1}{9} \\zeta_{12}^{2} & -\\frac{1}{9} & \\frac{2}{9} & \\frac{2}{9} \\zeta_{12}^{2} - \\frac{2}{9} & -\\frac{1}{9} \\zeta_{12}^{2} + \\frac{1}{9} & \\frac{1}{9} \\zeta_{12}^{2} & -\\frac{1}{9} & -\\frac{1}{9} & -\\frac{1}{9} \\zeta_{12}^{2} + \\frac{1}{9} & \\frac{1}{9} \\zeta_{12}^{2} & \\frac{1}{9} \\zeta_{12}^{2} & -\\frac{1}{9} & -\\frac{1}{9} \\zeta_{12}^{2} + \\frac{1}{9} & -\\frac{1}{9} \\zeta_{12}^{2} + \\frac{1}{9} & \\frac{1}{9} \\zeta_{12}^{2} & -\\frac{1}{9} & \\frac{2}{9} & -\\frac{1}{9} & -\\frac{1}{9} \\zeta_{12}^{2} + \\frac{1}{9} & \\frac{1}{9} \\zeta_{12}^{2} & \\frac{1}{9} \\zeta_{12}^{2} & -\\frac{1}{9} & -\\frac{1}{9} \\zeta_{12}^{2} + \\frac{1}{9} & \\frac{2}{9} \\zeta_{12}^{2} - \\frac{2}{9} & -\\frac{2}{9} \\zeta_{12}^{2} & 0 & 0 & 0 & 0 & 0 & 0 & 0 & 0 & 0 & 0 & 0 & 0 & 0 & 0 & 0 & 0 & 0 & 0 \\\\\n",
       "\\frac{1}{9} & \\frac{1}{9} & \\frac{1}{9} & \\frac{1}{9} & \\frac{1}{9} & \\frac{1}{9} & \\frac{1}{9} \\zeta_{12}^{2} - \\frac{1}{9} & \\frac{1}{9} \\zeta_{12}^{2} - \\frac{1}{9} & \\frac{1}{9} \\zeta_{12}^{2} - \\frac{1}{9} & \\frac{1}{9} \\zeta_{12}^{2} - \\frac{1}{9} & \\frac{1}{9} \\zeta_{12}^{2} - \\frac{1}{9} & \\frac{1}{9} \\zeta_{12}^{2} - \\frac{1}{9} & -\\frac{1}{9} \\zeta_{12}^{2} & -\\frac{1}{9} \\zeta_{12}^{2} & -\\frac{1}{9} \\zeta_{12}^{2} & -\\frac{1}{9} \\zeta_{12}^{2} & -\\frac{1}{9} \\zeta_{12}^{2} & -\\frac{1}{9} \\zeta_{12}^{2} & -\\frac{1}{9} & -\\frac{1}{9} & -\\frac{1}{9} & \\frac{1}{9} \\zeta_{12}^{2} & \\frac{1}{9} \\zeta_{12}^{2} & -\\frac{2}{9} \\zeta_{12}^{2} & -\\frac{2}{9} \\zeta_{12}^{2} & \\frac{1}{9} \\zeta_{12}^{2} & \\frac{1}{9} \\zeta_{12}^{2} & -\\frac{1}{9} \\zeta_{12}^{2} + \\frac{1}{9} & \\frac{1}{9} \\zeta_{12}^{2} & -\\frac{2}{9} \\zeta_{12}^{2} & \\frac{1}{9} \\zeta_{12}^{2} & -\\frac{1}{9} \\zeta_{12}^{2} + \\frac{1}{9} & -\\frac{1}{9} \\zeta_{12}^{2} + \\frac{1}{9} & -\\frac{1}{9} \\zeta_{12}^{2} + \\frac{1}{9} & \\frac{2}{9} \\zeta_{12}^{2} - \\frac{2}{9} & -\\frac{1}{9} \\zeta_{12}^{2} + \\frac{1}{9} & -\\frac{1}{9} & -\\frac{1}{9} & \\frac{2}{9} & -\\frac{1}{9} \\zeta_{12}^{2} + \\frac{1}{9} & -\\frac{1}{9} \\zeta_{12}^{2} + \\frac{1}{9} & \\frac{2}{9} \\zeta_{12}^{2} - \\frac{2}{9} & \\frac{2}{9} & -\\frac{1}{9} & -\\frac{1}{9} & \\frac{1}{9} \\zeta_{12}^{2} & \\frac{2}{9} \\zeta_{12}^{2} - \\frac{2}{9} & -\\frac{1}{9} \\zeta_{12}^{2} + \\frac{1}{9} & -\\frac{1}{9} \\zeta_{12}^{2} + \\frac{1}{9} & -\\frac{1}{9} & \\frac{2}{9} & -\\frac{1}{9} & \\frac{1}{9} \\zeta_{12}^{2} & \\frac{1}{9} \\zeta_{12}^{2} & 0 & 0 & 0 & 0 & 0 & 0 & 0 & 0 & 0 & 0 & 0 & 0 & 0 & 0 & 0 & 0 & 0 & 0 \\\\\n",
       "\\frac{1}{9} & \\frac{1}{9} & \\frac{1}{9} \\zeta_{12}^{2} - \\frac{1}{9} & \\frac{1}{9} \\zeta_{12}^{2} - \\frac{1}{9} & -\\frac{1}{9} \\zeta_{12}^{2} & -\\frac{1}{9} \\zeta_{12}^{2} & -\\frac{1}{9} \\zeta_{12}^{2} & -\\frac{1}{9} \\zeta_{12}^{2} & \\frac{1}{9} & \\frac{1}{9} & \\frac{1}{9} \\zeta_{12}^{2} - \\frac{1}{9} & \\frac{1}{9} \\zeta_{12}^{2} - \\frac{1}{9} & \\frac{1}{9} \\zeta_{12}^{2} - \\frac{1}{9} & \\frac{1}{9} \\zeta_{12}^{2} - \\frac{1}{9} & -\\frac{1}{9} \\zeta_{12}^{2} & -\\frac{1}{9} \\zeta_{12}^{2} & \\frac{1}{9} & \\frac{1}{9} & \\frac{1}{9} \\zeta_{12}^{2} & -\\frac{1}{9} \\zeta_{12}^{2} + \\frac{1}{9} & -\\frac{1}{9} & \\frac{2}{9} \\zeta_{12}^{2} - \\frac{2}{9} & -\\frac{1}{9} & \\frac{1}{9} \\zeta_{12}^{2} & -\\frac{1}{9} & -\\frac{2}{9} \\zeta_{12}^{2} & -\\frac{1}{9} \\zeta_{12}^{2} + \\frac{1}{9} & -\\frac{1}{9} \\zeta_{12}^{2} + \\frac{1}{9} & \\frac{1}{9} \\zeta_{12}^{2} & -\\frac{1}{9} \\zeta_{12}^{2} + \\frac{1}{9} & \\frac{2}{9} & -\\frac{1}{9} & \\frac{1}{9} \\zeta_{12}^{2} & -\\frac{2}{9} \\zeta_{12}^{2} & -\\frac{1}{9} \\zeta_{12}^{2} + \\frac{1}{9} & -\\frac{1}{9} & \\frac{2}{9} & \\frac{1}{9} \\zeta_{12}^{2} & -\\frac{1}{9} \\zeta_{12}^{2} + \\frac{1}{9} & -\\frac{1}{9} \\zeta_{12}^{2} + \\frac{1}{9} & \\frac{2}{9} & \\frac{1}{9} \\zeta_{12}^{2} & \\frac{1}{9} \\zeta_{12}^{2} & \\frac{2}{9} \\zeta_{12}^{2} - \\frac{2}{9} & -\\frac{1}{9} & -\\frac{1}{9} & -\\frac{1}{9} & \\frac{1}{9} \\zeta_{12}^{2} & \\frac{2}{9} \\zeta_{12}^{2} - \\frac{2}{9} & -\\frac{1}{9} \\zeta_{12}^{2} + \\frac{1}{9} & -\\frac{1}{9} & -\\frac{2}{9} \\zeta_{12}^{2} & \\frac{1}{9} \\zeta_{12}^{2} & -\\frac{1}{9} \\zeta_{12}^{2} + \\frac{1}{9} & 0 & 0 & 0 & 0 & 0 & 0 & 0 & 0 & 0 & 0 & 0 & 0 & 0 & 0 & 0 & 0 & 0 & 0 \\\\\n",
       "\\frac{1}{9} & \\frac{1}{9} & -\\frac{1}{9} \\zeta_{12}^{2} & -\\frac{1}{9} \\zeta_{12}^{2} & \\frac{1}{9} \\zeta_{12}^{2} - \\frac{1}{9} & \\frac{1}{9} \\zeta_{12}^{2} - \\frac{1}{9} & \\frac{1}{9} \\zeta_{12}^{2} - \\frac{1}{9} & \\frac{1}{9} \\zeta_{12}^{2} - \\frac{1}{9} & \\frac{1}{9} & \\frac{1}{9} & -\\frac{1}{9} \\zeta_{12}^{2} & -\\frac{1}{9} \\zeta_{12}^{2} & -\\frac{1}{9} \\zeta_{12}^{2} & -\\frac{1}{9} \\zeta_{12}^{2} & \\frac{1}{9} \\zeta_{12}^{2} - \\frac{1}{9} & \\frac{1}{9} \\zeta_{12}^{2} - \\frac{1}{9} & \\frac{1}{9} & \\frac{1}{9} & -\\frac{1}{9} \\zeta_{12}^{2} + \\frac{1}{9} & \\frac{1}{9} \\zeta_{12}^{2} & -\\frac{1}{9} & \\frac{1}{9} \\zeta_{12}^{2} & -\\frac{1}{9} & \\frac{2}{9} \\zeta_{12}^{2} - \\frac{2}{9} & \\frac{2}{9} & -\\frac{1}{9} \\zeta_{12}^{2} + \\frac{1}{9} & \\frac{1}{9} \\zeta_{12}^{2} & \\frac{1}{9} \\zeta_{12}^{2} & -\\frac{1}{9} \\zeta_{12}^{2} + \\frac{1}{9} & -\\frac{2}{9} \\zeta_{12}^{2} & -\\frac{1}{9} & -\\frac{1}{9} & -\\frac{1}{9} \\zeta_{12}^{2} + \\frac{1}{9} & -\\frac{1}{9} \\zeta_{12}^{2} + \\frac{1}{9} & -\\frac{2}{9} \\zeta_{12}^{2} & -\\frac{1}{9} & -\\frac{1}{9} & -\\frac{1}{9} \\zeta_{12}^{2} + \\frac{1}{9} & -\\frac{2}{9} \\zeta_{12}^{2} & \\frac{1}{9} \\zeta_{12}^{2} & -\\frac{1}{9} & \\frac{2}{9} \\zeta_{12}^{2} - \\frac{2}{9} & \\frac{2}{9} \\zeta_{12}^{2} - \\frac{2}{9} & \\frac{1}{9} \\zeta_{12}^{2} & -\\frac{1}{9} & -\\frac{1}{9} & \\frac{2}{9} & -\\frac{1}{9} \\zeta_{12}^{2} + \\frac{1}{9} & \\frac{1}{9} \\zeta_{12}^{2} & \\frac{1}{9} \\zeta_{12}^{2} & \\frac{2}{9} & -\\frac{1}{9} \\zeta_{12}^{2} + \\frac{1}{9} & -\\frac{1}{9} \\zeta_{12}^{2} + \\frac{1}{9} & \\frac{1}{9} \\zeta_{12}^{2} & 0 & 0 & 0 & 0 & 0 & 0 & 0 & 0 & 0 & 0 & 0 & 0 & 0 & 0 & 0 & 0 & 0 & 0 \\\\\n",
       "\\frac{1}{9} & \\frac{1}{9} & \\frac{1}{9} & \\frac{1}{9} & \\frac{1}{9} & \\frac{1}{9} & \\frac{1}{9} \\zeta_{12}^{2} - \\frac{1}{9} & \\frac{1}{9} \\zeta_{12}^{2} - \\frac{1}{9} & \\frac{1}{9} \\zeta_{12}^{2} - \\frac{1}{9} & \\frac{1}{9} \\zeta_{12}^{2} - \\frac{1}{9} & \\frac{1}{9} \\zeta_{12}^{2} - \\frac{1}{9} & \\frac{1}{9} \\zeta_{12}^{2} - \\frac{1}{9} & -\\frac{1}{9} \\zeta_{12}^{2} & -\\frac{1}{9} \\zeta_{12}^{2} & -\\frac{1}{9} \\zeta_{12}^{2} & -\\frac{1}{9} \\zeta_{12}^{2} & -\\frac{1}{9} \\zeta_{12}^{2} & -\\frac{1}{9} \\zeta_{12}^{2} & -\\frac{1}{9} & -\\frac{1}{9} & -\\frac{1}{9} & \\frac{1}{9} \\zeta_{12}^{2} & -\\frac{2}{9} \\zeta_{12}^{2} & \\frac{1}{9} \\zeta_{12}^{2} & \\frac{1}{9} \\zeta_{12}^{2} & \\frac{1}{9} \\zeta_{12}^{2} & -\\frac{2}{9} \\zeta_{12}^{2} & -\\frac{1}{9} \\zeta_{12}^{2} + \\frac{1}{9} & -\\frac{2}{9} \\zeta_{12}^{2} & \\frac{1}{9} \\zeta_{12}^{2} & \\frac{1}{9} \\zeta_{12}^{2} & -\\frac{1}{9} \\zeta_{12}^{2} + \\frac{1}{9} & -\\frac{1}{9} \\zeta_{12}^{2} + \\frac{1}{9} & -\\frac{1}{9} \\zeta_{12}^{2} + \\frac{1}{9} & -\\frac{1}{9} \\zeta_{12}^{2} + \\frac{1}{9} & \\frac{2}{9} \\zeta_{12}^{2} - \\frac{2}{9} & -\\frac{1}{9} & \\frac{2}{9} & -\\frac{1}{9} & \\frac{2}{9} \\zeta_{12}^{2} - \\frac{2}{9} & -\\frac{1}{9} \\zeta_{12}^{2} + \\frac{1}{9} & -\\frac{1}{9} \\zeta_{12}^{2} + \\frac{1}{9} & -\\frac{1}{9} & -\\frac{1}{9} & \\frac{2}{9} & \\frac{1}{9} \\zeta_{12}^{2} & -\\frac{1}{9} \\zeta_{12}^{2} + \\frac{1}{9} & \\frac{2}{9} \\zeta_{12}^{2} - \\frac{2}{9} & -\\frac{1}{9} \\zeta_{12}^{2} + \\frac{1}{9} & \\frac{2}{9} & -\\frac{1}{9} & -\\frac{1}{9} & \\frac{1}{9} \\zeta_{12}^{2} & \\frac{1}{9} \\zeta_{12}^{2} & 0 & 0 & 0 & 0 & 0 & 0 & 0 & 0 & 0 & 0 & 0 & 0 & 0 & 0 & 0 & 0 & 0 & 0 \\\\\n",
       "\\frac{1}{9} & \\frac{1}{9} & \\frac{1}{9} \\zeta_{12}^{2} - \\frac{1}{9} & \\frac{1}{9} \\zeta_{12}^{2} - \\frac{1}{9} & -\\frac{1}{9} \\zeta_{12}^{2} & -\\frac{1}{9} \\zeta_{12}^{2} & \\frac{1}{9} \\zeta_{12}^{2} - \\frac{1}{9} & \\frac{1}{9} \\zeta_{12}^{2} - \\frac{1}{9} & -\\frac{1}{9} \\zeta_{12}^{2} & -\\frac{1}{9} \\zeta_{12}^{2} & \\frac{1}{9} & \\frac{1}{9} & -\\frac{1}{9} \\zeta_{12}^{2} & -\\frac{1}{9} \\zeta_{12}^{2} & \\frac{1}{9} & \\frac{1}{9} & \\frac{1}{9} \\zeta_{12}^{2} - \\frac{1}{9} & \\frac{1}{9} \\zeta_{12}^{2} - \\frac{1}{9} & -\\frac{2}{9} \\zeta_{12}^{2} & \\frac{2}{9} \\zeta_{12}^{2} - \\frac{2}{9} & \\frac{2}{9} & \\frac{1}{9} \\zeta_{12}^{2} & -\\frac{1}{9} \\zeta_{12}^{2} + \\frac{1}{9} & -\\frac{1}{9} & -\\frac{1}{9} \\zeta_{12}^{2} + \\frac{1}{9} & -\\frac{1}{9} & \\frac{1}{9} \\zeta_{12}^{2} & \\frac{2}{9} & -\\frac{1}{9} & \\frac{1}{9} \\zeta_{12}^{2} & -\\frac{1}{9} \\zeta_{12}^{2} + \\frac{1}{9} & -\\frac{2}{9} \\zeta_{12}^{2} & \\frac{2}{9} \\zeta_{12}^{2} - \\frac{2}{9} & -\\frac{1}{9} \\zeta_{12}^{2} + \\frac{1}{9} & -\\frac{1}{9} & \\frac{1}{9} \\zeta_{12}^{2} & -\\frac{1}{9} & \\frac{1}{9} \\zeta_{12}^{2} & -\\frac{1}{9} \\zeta_{12}^{2} + \\frac{1}{9} & -\\frac{1}{9} & \\frac{1}{9} \\zeta_{12}^{2} & -\\frac{1}{9} \\zeta_{12}^{2} + \\frac{1}{9} & \\frac{1}{9} \\zeta_{12}^{2} & -\\frac{1}{9} \\zeta_{12}^{2} + \\frac{1}{9} & -\\frac{1}{9} & \\frac{2}{9} \\zeta_{12}^{2} - \\frac{2}{9} & \\frac{1}{9} \\zeta_{12}^{2} & -\\frac{1}{9} \\zeta_{12}^{2} + \\frac{1}{9} & -\\frac{1}{9} & -\\frac{1}{9} \\zeta_{12}^{2} + \\frac{1}{9} & -\\frac{1}{9} & \\frac{1}{9} \\zeta_{12}^{2} & \\frac{2}{9} & -\\frac{2}{9} \\zeta_{12}^{2} & 0 & 0 & 0 & 0 & 0 & 0 & 0 & 0 & 0 & 0 & 0 & 0 & 0 & 0 & 0 & 0 & 0 & 0 \\\\\n",
       "\\frac{1}{9} & \\frac{1}{9} & -\\frac{1}{9} \\zeta_{12}^{2} & -\\frac{1}{9} \\zeta_{12}^{2} & \\frac{1}{9} \\zeta_{12}^{2} - \\frac{1}{9} & \\frac{1}{9} \\zeta_{12}^{2} - \\frac{1}{9} & -\\frac{1}{9} \\zeta_{12}^{2} & -\\frac{1}{9} \\zeta_{12}^{2} & \\frac{1}{9} \\zeta_{12}^{2} - \\frac{1}{9} & \\frac{1}{9} \\zeta_{12}^{2} - \\frac{1}{9} & \\frac{1}{9} & \\frac{1}{9} & \\frac{1}{9} \\zeta_{12}^{2} - \\frac{1}{9} & \\frac{1}{9} \\zeta_{12}^{2} - \\frac{1}{9} & \\frac{1}{9} & \\frac{1}{9} & -\\frac{1}{9} \\zeta_{12}^{2} & -\\frac{1}{9} \\zeta_{12}^{2} & -\\frac{1}{9} \\zeta_{12}^{2} + \\frac{1}{9} & \\frac{1}{9} \\zeta_{12}^{2} & -\\frac{1}{9} & \\frac{2}{9} \\zeta_{12}^{2} - \\frac{2}{9} & \\frac{1}{9} \\zeta_{12}^{2} & -\\frac{1}{9} & \\frac{1}{9} \\zeta_{12}^{2} & \\frac{2}{9} & -\\frac{1}{9} \\zeta_{12}^{2} + \\frac{1}{9} & -\\frac{1}{9} & -\\frac{1}{9} & -\\frac{1}{9} \\zeta_{12}^{2} + \\frac{1}{9} & -\\frac{2}{9} \\zeta_{12}^{2} & -\\frac{1}{9} \\zeta_{12}^{2} + \\frac{1}{9} & \\frac{1}{9} \\zeta_{12}^{2} & -\\frac{2}{9} \\zeta_{12}^{2} & -\\frac{1}{9} & -\\frac{1}{9} \\zeta_{12}^{2} + \\frac{1}{9} & \\frac{2}{9} & -\\frac{1}{9} \\zeta_{12}^{2} + \\frac{1}{9} & \\frac{1}{9} \\zeta_{12}^{2} & -\\frac{1}{9} & \\frac{2}{9} \\zeta_{12}^{2} - \\frac{2}{9} & \\frac{1}{9} \\zeta_{12}^{2} & -\\frac{1}{9} \\zeta_{12}^{2} + \\frac{1}{9} & -\\frac{2}{9} \\zeta_{12}^{2} & -\\frac{1}{9} & \\frac{1}{9} \\zeta_{12}^{2} & -\\frac{1}{9} \\zeta_{12}^{2} + \\frac{1}{9} & \\frac{1}{9} \\zeta_{12}^{2} & \\frac{2}{9} & \\frac{1}{9} \\zeta_{12}^{2} & -\\frac{1}{9} & \\frac{2}{9} \\zeta_{12}^{2} - \\frac{2}{9} & -\\frac{1}{9} & -\\frac{1}{9} \\zeta_{12}^{2} + \\frac{1}{9} & 0 & 0 & 0 & 0 & 0 & 0 & 0 & 0 & 0 & 0 & 0 & 0 & 0 & 0 & 0 & 0 & 0 & 0 \\\\\n",
       "\\frac{1}{9} & \\frac{1}{9} & \\frac{1}{9} & \\frac{1}{9} & \\frac{1}{9} & \\frac{1}{9} & -\\frac{1}{9} \\zeta_{12}^{2} & -\\frac{1}{9} \\zeta_{12}^{2} & -\\frac{1}{9} \\zeta_{12}^{2} & -\\frac{1}{9} \\zeta_{12}^{2} & -\\frac{1}{9} \\zeta_{12}^{2} & -\\frac{1}{9} \\zeta_{12}^{2} & \\frac{1}{9} \\zeta_{12}^{2} - \\frac{1}{9} & \\frac{1}{9} \\zeta_{12}^{2} - \\frac{1}{9} & \\frac{1}{9} \\zeta_{12}^{2} - \\frac{1}{9} & \\frac{1}{9} \\zeta_{12}^{2} - \\frac{1}{9} & \\frac{1}{9} \\zeta_{12}^{2} - \\frac{1}{9} & \\frac{1}{9} \\zeta_{12}^{2} - \\frac{1}{9} & -\\frac{1}{9} & -\\frac{1}{9} & -\\frac{1}{9} & \\frac{2}{9} \\zeta_{12}^{2} - \\frac{2}{9} & -\\frac{1}{9} \\zeta_{12}^{2} + \\frac{1}{9} & -\\frac{1}{9} \\zeta_{12}^{2} + \\frac{1}{9} & -\\frac{1}{9} \\zeta_{12}^{2} + \\frac{1}{9} & \\frac{2}{9} \\zeta_{12}^{2} - \\frac{2}{9} & -\\frac{1}{9} \\zeta_{12}^{2} + \\frac{1}{9} & \\frac{1}{9} \\zeta_{12}^{2} & -\\frac{1}{9} \\zeta_{12}^{2} + \\frac{1}{9} & -\\frac{1}{9} \\zeta_{12}^{2} + \\frac{1}{9} & \\frac{2}{9} \\zeta_{12}^{2} - \\frac{2}{9} & \\frac{1}{9} \\zeta_{12}^{2} & \\frac{1}{9} \\zeta_{12}^{2} & -\\frac{2}{9} \\zeta_{12}^{2} & \\frac{1}{9} \\zeta_{12}^{2} & \\frac{1}{9} \\zeta_{12}^{2} & \\frac{2}{9} & -\\frac{1}{9} & -\\frac{1}{9} & \\frac{1}{9} \\zeta_{12}^{2} & -\\frac{2}{9} \\zeta_{12}^{2} & \\frac{1}{9} \\zeta_{12}^{2} & -\\frac{1}{9} & \\frac{2}{9} & -\\frac{1}{9} & -\\frac{1}{9} \\zeta_{12}^{2} + \\frac{1}{9} & \\frac{1}{9} \\zeta_{12}^{2} & \\frac{1}{9} \\zeta_{12}^{2} & -\\frac{2}{9} \\zeta_{12}^{2} & -\\frac{1}{9} & -\\frac{1}{9} & \\frac{2}{9} & -\\frac{1}{9} \\zeta_{12}^{2} + \\frac{1}{9} & -\\frac{1}{9} \\zeta_{12}^{2} + \\frac{1}{9} & 0 & 0 & 0 & 0 & 0 & 0 & 0 & 0 & 0 & 0 & 0 & 0 & 0 & 0 & 0 & 0 & 0 & 0 \\\\\n",
       "\\frac{1}{9} & \\frac{1}{9} & \\frac{1}{9} & \\frac{1}{9} & \\frac{1}{9} & \\frac{1}{9} & -\\frac{1}{9} \\zeta_{12}^{2} & -\\frac{1}{9} \\zeta_{12}^{2} & -\\frac{1}{9} \\zeta_{12}^{2} & -\\frac{1}{9} \\zeta_{12}^{2} & -\\frac{1}{9} \\zeta_{12}^{2} & -\\frac{1}{9} \\zeta_{12}^{2} & \\frac{1}{9} \\zeta_{12}^{2} - \\frac{1}{9} & \\frac{1}{9} \\zeta_{12}^{2} - \\frac{1}{9} & \\frac{1}{9} \\zeta_{12}^{2} - \\frac{1}{9} & \\frac{1}{9} \\zeta_{12}^{2} - \\frac{1}{9} & \\frac{1}{9} \\zeta_{12}^{2} - \\frac{1}{9} & \\frac{1}{9} \\zeta_{12}^{2} - \\frac{1}{9} & \\frac{2}{9} & \\frac{2}{9} & \\frac{2}{9} & -\\frac{1}{9} \\zeta_{12}^{2} + \\frac{1}{9} & -\\frac{1}{9} \\zeta_{12}^{2} + \\frac{1}{9} & -\\frac{1}{9} \\zeta_{12}^{2} + \\frac{1}{9} & -\\frac{1}{9} \\zeta_{12}^{2} + \\frac{1}{9} & -\\frac{1}{9} \\zeta_{12}^{2} + \\frac{1}{9} & -\\frac{1}{9} \\zeta_{12}^{2} + \\frac{1}{9} & -\\frac{2}{9} \\zeta_{12}^{2} & -\\frac{1}{9} \\zeta_{12}^{2} + \\frac{1}{9} & -\\frac{1}{9} \\zeta_{12}^{2} + \\frac{1}{9} & -\\frac{1}{9} \\zeta_{12}^{2} + \\frac{1}{9} & -\\frac{2}{9} \\zeta_{12}^{2} & -\\frac{2}{9} \\zeta_{12}^{2} & \\frac{1}{9} \\zeta_{12}^{2} & \\frac{1}{9} \\zeta_{12}^{2} & \\frac{1}{9} \\zeta_{12}^{2} & -\\frac{1}{9} & -\\frac{1}{9} & -\\frac{1}{9} & \\frac{1}{9} \\zeta_{12}^{2} & \\frac{1}{9} \\zeta_{12}^{2} & \\frac{1}{9} \\zeta_{12}^{2} & -\\frac{1}{9} & -\\frac{1}{9} & -\\frac{1}{9} & \\frac{2}{9} \\zeta_{12}^{2} - \\frac{2}{9} & \\frac{1}{9} \\zeta_{12}^{2} & \\frac{1}{9} \\zeta_{12}^{2} & \\frac{1}{9} \\zeta_{12}^{2} & -\\frac{1}{9} & -\\frac{1}{9} & -\\frac{1}{9} & \\frac{2}{9} \\zeta_{12}^{2} - \\frac{2}{9} & \\frac{2}{9} \\zeta_{12}^{2} - \\frac{2}{9} & 0 & 0 & 0 & 0 & 0 & 0 & 0 & 0 & 0 & 0 & 0 & 0 & 0 & 0 & 0 & 0 & 0 & 0 \\\\\n",
       "\\frac{1}{9} & \\frac{1}{9} & \\frac{1}{9} \\zeta_{12}^{2} - \\frac{1}{9} & \\frac{1}{9} \\zeta_{12}^{2} - \\frac{1}{9} & -\\frac{1}{9} \\zeta_{12}^{2} & -\\frac{1}{9} \\zeta_{12}^{2} & -\\frac{1}{9} \\zeta_{12}^{2} & -\\frac{1}{9} \\zeta_{12}^{2} & \\frac{1}{9} & \\frac{1}{9} & \\frac{1}{9} \\zeta_{12}^{2} - \\frac{1}{9} & \\frac{1}{9} \\zeta_{12}^{2} - \\frac{1}{9} & \\frac{1}{9} \\zeta_{12}^{2} - \\frac{1}{9} & \\frac{1}{9} \\zeta_{12}^{2} - \\frac{1}{9} & -\\frac{1}{9} \\zeta_{12}^{2} & -\\frac{1}{9} \\zeta_{12}^{2} & \\frac{1}{9} & \\frac{1}{9} & \\frac{1}{9} \\zeta_{12}^{2} & -\\frac{1}{9} \\zeta_{12}^{2} + \\frac{1}{9} & -\\frac{1}{9} & -\\frac{1}{9} \\zeta_{12}^{2} + \\frac{1}{9} & \\frac{2}{9} & \\frac{1}{9} \\zeta_{12}^{2} & -\\frac{1}{9} & \\frac{1}{9} \\zeta_{12}^{2} & \\frac{2}{9} \\zeta_{12}^{2} - \\frac{2}{9} & -\\frac{1}{9} \\zeta_{12}^{2} + \\frac{1}{9} & -\\frac{2}{9} \\zeta_{12}^{2} & -\\frac{1}{9} \\zeta_{12}^{2} + \\frac{1}{9} & -\\frac{1}{9} & -\\frac{1}{9} & \\frac{1}{9} \\zeta_{12}^{2} & \\frac{1}{9} \\zeta_{12}^{2} & -\\frac{1}{9} \\zeta_{12}^{2} + \\frac{1}{9} & \\frac{2}{9} & -\\frac{1}{9} & -\\frac{2}{9} \\zeta_{12}^{2} & -\\frac{1}{9} \\zeta_{12}^{2} + \\frac{1}{9} & \\frac{2}{9} \\zeta_{12}^{2} - \\frac{2}{9} & -\\frac{1}{9} & \\frac{1}{9} \\zeta_{12}^{2} & \\frac{1}{9} \\zeta_{12}^{2} & -\\frac{1}{9} \\zeta_{12}^{2} + \\frac{1}{9} & \\frac{2}{9} & -\\frac{1}{9} & -\\frac{1}{9} & -\\frac{2}{9} \\zeta_{12}^{2} & -\\frac{1}{9} \\zeta_{12}^{2} + \\frac{1}{9} & \\frac{2}{9} \\zeta_{12}^{2} - \\frac{2}{9} & -\\frac{1}{9} & \\frac{1}{9} \\zeta_{12}^{2} & \\frac{1}{9} \\zeta_{12}^{2} & -\\frac{1}{9} \\zeta_{12}^{2} + \\frac{1}{9} & 0 & 0 & 0 & 0 & 0 & 0 & 0 & 0 & 0 & 0 & 0 & 0 & 0 & 0 & 0 & 0 & 0 & 0 \\\\\n",
       "\\frac{1}{9} & \\frac{1}{9} & -\\frac{1}{9} \\zeta_{12}^{2} & -\\frac{1}{9} \\zeta_{12}^{2} & \\frac{1}{9} \\zeta_{12}^{2} - \\frac{1}{9} & \\frac{1}{9} \\zeta_{12}^{2} - \\frac{1}{9} & -\\frac{1}{9} \\zeta_{12}^{2} & -\\frac{1}{9} \\zeta_{12}^{2} & \\frac{1}{9} \\zeta_{12}^{2} - \\frac{1}{9} & \\frac{1}{9} \\zeta_{12}^{2} - \\frac{1}{9} & \\frac{1}{9} & \\frac{1}{9} & \\frac{1}{9} \\zeta_{12}^{2} - \\frac{1}{9} & \\frac{1}{9} \\zeta_{12}^{2} - \\frac{1}{9} & \\frac{1}{9} & \\frac{1}{9} & -\\frac{1}{9} \\zeta_{12}^{2} & -\\frac{1}{9} \\zeta_{12}^{2} & -\\frac{1}{9} \\zeta_{12}^{2} + \\frac{1}{9} & \\frac{1}{9} \\zeta_{12}^{2} & -\\frac{1}{9} & -\\frac{1}{9} \\zeta_{12}^{2} + \\frac{1}{9} & \\frac{1}{9} \\zeta_{12}^{2} & \\frac{2}{9} & -\\frac{2}{9} \\zeta_{12}^{2} & -\\frac{1}{9} & -\\frac{1}{9} \\zeta_{12}^{2} + \\frac{1}{9} & -\\frac{1}{9} & -\\frac{1}{9} & \\frac{2}{9} \\zeta_{12}^{2} - \\frac{2}{9} & \\frac{1}{9} \\zeta_{12}^{2} & -\\frac{1}{9} \\zeta_{12}^{2} + \\frac{1}{9} & \\frac{1}{9} \\zeta_{12}^{2} & \\frac{1}{9} \\zeta_{12}^{2} & \\frac{2}{9} & -\\frac{1}{9} \\zeta_{12}^{2} + \\frac{1}{9} & -\\frac{1}{9} & -\\frac{1}{9} \\zeta_{12}^{2} + \\frac{1}{9} & -\\frac{2}{9} \\zeta_{12}^{2} & -\\frac{1}{9} & -\\frac{1}{9} \\zeta_{12}^{2} + \\frac{1}{9} & -\\frac{2}{9} \\zeta_{12}^{2} & \\frac{2}{9} \\zeta_{12}^{2} - \\frac{2}{9} & \\frac{1}{9} \\zeta_{12}^{2} & -\\frac{1}{9} & \\frac{1}{9} \\zeta_{12}^{2} & \\frac{2}{9} \\zeta_{12}^{2} - \\frac{2}{9} & \\frac{1}{9} \\zeta_{12}^{2} & -\\frac{1}{9} & \\frac{1}{9} \\zeta_{12}^{2} & \\frac{2}{9} & -\\frac{1}{9} \\zeta_{12}^{2} + \\frac{1}{9} & -\\frac{1}{9} & -\\frac{1}{9} \\zeta_{12}^{2} + \\frac{1}{9} & 0 & 0 & 0 & 0 & 0 & 0 & 0 & 0 & 0 & 0 & 0 & 0 & 0 & 0 & 0 & 0 & 0 & 0 \\\\\n",
       "\\frac{1}{9} & \\frac{1}{9} & \\frac{1}{9} & \\frac{1}{9} & \\frac{1}{9} & \\frac{1}{9} & \\frac{1}{9} & \\frac{1}{9} & \\frac{1}{9} & \\frac{1}{9} & \\frac{1}{9} & \\frac{1}{9} & \\frac{1}{9} & \\frac{1}{9} & \\frac{1}{9} & \\frac{1}{9} & \\frac{1}{9} & \\frac{1}{9} & \\frac{2}{9} & \\frac{2}{9} & \\frac{2}{9} & -\\frac{1}{9} & -\\frac{1}{9} & -\\frac{1}{9} & -\\frac{1}{9} & -\\frac{1}{9} & -\\frac{1}{9} & \\frac{2}{9} & -\\frac{1}{9} & -\\frac{1}{9} & -\\frac{1}{9} & \\frac{2}{9} & \\frac{2}{9} & -\\frac{1}{9} & -\\frac{1}{9} & -\\frac{1}{9} & -\\frac{1}{9} & -\\frac{1}{9} & -\\frac{1}{9} & -\\frac{1}{9} & -\\frac{1}{9} & -\\frac{1}{9} & -\\frac{1}{9} & -\\frac{1}{9} & -\\frac{1}{9} & \\frac{2}{9} & -\\frac{1}{9} & -\\frac{1}{9} & -\\frac{1}{9} & -\\frac{1}{9} & -\\frac{1}{9} & -\\frac{1}{9} & \\frac{2}{9} & \\frac{2}{9} & 0 & 0 & 0 & 0 & 0 & 0 & 0 & 0 & 0 & 0 & 0 & 0 & 0 & 0 & 0 & 0 & 0 & 0 \\\\\n",
       "\\frac{1}{9} & \\frac{1}{9} & \\frac{1}{9} \\zeta_{12}^{2} - \\frac{1}{9} & \\frac{1}{9} \\zeta_{12}^{2} - \\frac{1}{9} & -\\frac{1}{9} \\zeta_{12}^{2} & -\\frac{1}{9} \\zeta_{12}^{2} & \\frac{1}{9} & \\frac{1}{9} & \\frac{1}{9} \\zeta_{12}^{2} - \\frac{1}{9} & \\frac{1}{9} \\zeta_{12}^{2} - \\frac{1}{9} & -\\frac{1}{9} \\zeta_{12}^{2} & -\\frac{1}{9} \\zeta_{12}^{2} & \\frac{1}{9} & \\frac{1}{9} & \\frac{1}{9} \\zeta_{12}^{2} - \\frac{1}{9} & \\frac{1}{9} \\zeta_{12}^{2} - \\frac{1}{9} & -\\frac{1}{9} \\zeta_{12}^{2} & -\\frac{1}{9} \\zeta_{12}^{2} & \\frac{1}{9} \\zeta_{12}^{2} & -\\frac{1}{9} \\zeta_{12}^{2} + \\frac{1}{9} & -\\frac{1}{9} & -\\frac{1}{9} & \\frac{1}{9} \\zeta_{12}^{2} & \\frac{2}{9} \\zeta_{12}^{2} - \\frac{2}{9} & -\\frac{2}{9} \\zeta_{12}^{2} & -\\frac{1}{9} \\zeta_{12}^{2} + \\frac{1}{9} & -\\frac{1}{9} & \\frac{1}{9} \\zeta_{12}^{2} & -\\frac{1}{9} \\zeta_{12}^{2} + \\frac{1}{9} & \\frac{2}{9} & \\frac{1}{9} \\zeta_{12}^{2} & -\\frac{1}{9} \\zeta_{12}^{2} + \\frac{1}{9} & -\\frac{1}{9} & -\\frac{1}{9} & -\\frac{2}{9} \\zeta_{12}^{2} & -\\frac{1}{9} \\zeta_{12}^{2} + \\frac{1}{9} & -\\frac{1}{9} & \\frac{1}{9} \\zeta_{12}^{2} & \\frac{2}{9} \\zeta_{12}^{2} - \\frac{2}{9} & \\frac{1}{9} \\zeta_{12}^{2} & -\\frac{1}{9} \\zeta_{12}^{2} + \\frac{1}{9} & \\frac{2}{9} & -\\frac{2}{9} \\zeta_{12}^{2} & -\\frac{1}{9} \\zeta_{12}^{2} + \\frac{1}{9} & -\\frac{1}{9} & \\frac{1}{9} \\zeta_{12}^{2} & \\frac{2}{9} \\zeta_{12}^{2} - \\frac{2}{9} & -\\frac{1}{9} & \\frac{1}{9} \\zeta_{12}^{2} & -\\frac{1}{9} \\zeta_{12}^{2} + \\frac{1}{9} & \\frac{2}{9} & \\frac{1}{9} \\zeta_{12}^{2} & -\\frac{1}{9} \\zeta_{12}^{2} + \\frac{1}{9} & -\\frac{1}{9} & 0 & 0 & 0 & 0 & 0 & 0 & 0 & 0 & 0 & 0 & 0 & 0 & 0 & 0 & 0 & 0 & 0 & 0 \\\\\n",
       "\\frac{1}{9} & \\frac{1}{9} & -\\frac{1}{9} \\zeta_{12}^{2} & -\\frac{1}{9} \\zeta_{12}^{2} & \\frac{1}{9} \\zeta_{12}^{2} - \\frac{1}{9} & \\frac{1}{9} \\zeta_{12}^{2} - \\frac{1}{9} & \\frac{1}{9} & \\frac{1}{9} & -\\frac{1}{9} \\zeta_{12}^{2} & -\\frac{1}{9} \\zeta_{12}^{2} & \\frac{1}{9} \\zeta_{12}^{2} - \\frac{1}{9} & \\frac{1}{9} \\zeta_{12}^{2} - \\frac{1}{9} & \\frac{1}{9} & \\frac{1}{9} & -\\frac{1}{9} \\zeta_{12}^{2} & -\\frac{1}{9} \\zeta_{12}^{2} & \\frac{1}{9} \\zeta_{12}^{2} - \\frac{1}{9} & \\frac{1}{9} \\zeta_{12}^{2} - \\frac{1}{9} & -\\frac{1}{9} \\zeta_{12}^{2} + \\frac{1}{9} & \\frac{1}{9} \\zeta_{12}^{2} & -\\frac{1}{9} & -\\frac{1}{9} & \\frac{2}{9} \\zeta_{12}^{2} - \\frac{2}{9} & \\frac{1}{9} \\zeta_{12}^{2} & -\\frac{1}{9} \\zeta_{12}^{2} + \\frac{1}{9} & \\frac{1}{9} \\zeta_{12}^{2} & \\frac{2}{9} & -\\frac{1}{9} \\zeta_{12}^{2} + \\frac{1}{9} & -\\frac{2}{9} \\zeta_{12}^{2} & -\\frac{1}{9} & -\\frac{1}{9} \\zeta_{12}^{2} + \\frac{1}{9} & \\frac{1}{9} \\zeta_{12}^{2} & -\\frac{1}{9} & -\\frac{1}{9} & -\\frac{1}{9} \\zeta_{12}^{2} + \\frac{1}{9} & -\\frac{2}{9} \\zeta_{12}^{2} & -\\frac{1}{9} & \\frac{2}{9} \\zeta_{12}^{2} - \\frac{2}{9} & \\frac{1}{9} \\zeta_{12}^{2} & \\frac{2}{9} \\zeta_{12}^{2} - \\frac{2}{9} & \\frac{1}{9} \\zeta_{12}^{2} & -\\frac{1}{9} & -\\frac{1}{9} \\zeta_{12}^{2} + \\frac{1}{9} & \\frac{1}{9} \\zeta_{12}^{2} & \\frac{2}{9} & -\\frac{1}{9} \\zeta_{12}^{2} + \\frac{1}{9} & \\frac{1}{9} \\zeta_{12}^{2} & \\frac{2}{9} & -\\frac{1}{9} \\zeta_{12}^{2} + \\frac{1}{9} & -\\frac{2}{9} \\zeta_{12}^{2} & -\\frac{1}{9} & -\\frac{1}{9} \\zeta_{12}^{2} + \\frac{1}{9} & \\frac{1}{9} \\zeta_{12}^{2} & -\\frac{1}{9} & 0 & 0 & 0 & 0 & 0 & 0 & 0 & 0 & 0 & 0 & 0 & 0 & 0 & 0 & 0 & 0 & 0 & 0 \\\\\n",
       "\\frac{1}{9} & \\frac{1}{9} & \\frac{1}{9} \\zeta_{12}^{2} - \\frac{1}{9} & \\frac{1}{9} \\zeta_{12}^{2} - \\frac{1}{9} & -\\frac{1}{9} \\zeta_{12}^{2} & -\\frac{1}{9} \\zeta_{12}^{2} & -\\frac{1}{9} \\zeta_{12}^{2} & -\\frac{1}{9} \\zeta_{12}^{2} & \\frac{1}{9} & \\frac{1}{9} & \\frac{1}{9} \\zeta_{12}^{2} - \\frac{1}{9} & \\frac{1}{9} \\zeta_{12}^{2} - \\frac{1}{9} & \\frac{1}{9} \\zeta_{12}^{2} - \\frac{1}{9} & \\frac{1}{9} \\zeta_{12}^{2} - \\frac{1}{9} & -\\frac{1}{9} \\zeta_{12}^{2} & -\\frac{1}{9} \\zeta_{12}^{2} & \\frac{1}{9} & \\frac{1}{9} & \\frac{1}{9} \\zeta_{12}^{2} & -\\frac{1}{9} \\zeta_{12}^{2} + \\frac{1}{9} & -\\frac{1}{9} & -\\frac{1}{9} \\zeta_{12}^{2} + \\frac{1}{9} & -\\frac{1}{9} & -\\frac{2}{9} \\zeta_{12}^{2} & \\frac{2}{9} & \\frac{1}{9} \\zeta_{12}^{2} & -\\frac{1}{9} \\zeta_{12}^{2} + \\frac{1}{9} & -\\frac{1}{9} \\zeta_{12}^{2} + \\frac{1}{9} & \\frac{1}{9} \\zeta_{12}^{2} & \\frac{2}{9} \\zeta_{12}^{2} - \\frac{2}{9} & -\\frac{1}{9} & -\\frac{1}{9} & \\frac{1}{9} \\zeta_{12}^{2} & \\frac{1}{9} \\zeta_{12}^{2} & \\frac{2}{9} \\zeta_{12}^{2} - \\frac{2}{9} & -\\frac{1}{9} & -\\frac{1}{9} & \\frac{1}{9} \\zeta_{12}^{2} & \\frac{2}{9} \\zeta_{12}^{2} - \\frac{2}{9} & -\\frac{1}{9} \\zeta_{12}^{2} + \\frac{1}{9} & -\\frac{1}{9} & -\\frac{2}{9} \\zeta_{12}^{2} & -\\frac{2}{9} \\zeta_{12}^{2} & -\\frac{1}{9} \\zeta_{12}^{2} + \\frac{1}{9} & -\\frac{1}{9} & -\\frac{1}{9} & \\frac{2}{9} & \\frac{1}{9} \\zeta_{12}^{2} & -\\frac{1}{9} \\zeta_{12}^{2} + \\frac{1}{9} & -\\frac{1}{9} \\zeta_{12}^{2} + \\frac{1}{9} & \\frac{2}{9} & \\frac{1}{9} \\zeta_{12}^{2} & \\frac{1}{9} \\zeta_{12}^{2} & -\\frac{1}{9} \\zeta_{12}^{2} + \\frac{1}{9} & 0 & 0 & 0 & 0 & 0 & 0 & 0 & 0 & 0 & 0 & 0 & 0 & 0 & 0 & 0 & 0 & 0 & 0 \\\\\n",
       "\\frac{1}{9} & \\frac{1}{9} & -\\frac{1}{9} \\zeta_{12}^{2} & -\\frac{1}{9} \\zeta_{12}^{2} & \\frac{1}{9} \\zeta_{12}^{2} - \\frac{1}{9} & \\frac{1}{9} \\zeta_{12}^{2} - \\frac{1}{9} & -\\frac{1}{9} \\zeta_{12}^{2} & -\\frac{1}{9} \\zeta_{12}^{2} & \\frac{1}{9} \\zeta_{12}^{2} - \\frac{1}{9} & \\frac{1}{9} \\zeta_{12}^{2} - \\frac{1}{9} & \\frac{1}{9} & \\frac{1}{9} & \\frac{1}{9} \\zeta_{12}^{2} - \\frac{1}{9} & \\frac{1}{9} \\zeta_{12}^{2} - \\frac{1}{9} & \\frac{1}{9} & \\frac{1}{9} & -\\frac{1}{9} \\zeta_{12}^{2} & -\\frac{1}{9} \\zeta_{12}^{2} & \\frac{2}{9} \\zeta_{12}^{2} - \\frac{2}{9} & -\\frac{2}{9} \\zeta_{12}^{2} & \\frac{2}{9} & -\\frac{1}{9} \\zeta_{12}^{2} + \\frac{1}{9} & \\frac{1}{9} \\zeta_{12}^{2} & -\\frac{1}{9} & \\frac{1}{9} \\zeta_{12}^{2} & -\\frac{1}{9} & -\\frac{1}{9} \\zeta_{12}^{2} + \\frac{1}{9} & \\frac{2}{9} & -\\frac{1}{9} & -\\frac{1}{9} \\zeta_{12}^{2} + \\frac{1}{9} & \\frac{1}{9} \\zeta_{12}^{2} & \\frac{2}{9} \\zeta_{12}^{2} - \\frac{2}{9} & -\\frac{2}{9} \\zeta_{12}^{2} & \\frac{1}{9} \\zeta_{12}^{2} & -\\frac{1}{9} & -\\frac{1}{9} \\zeta_{12}^{2} + \\frac{1}{9} & -\\frac{1}{9} & -\\frac{1}{9} \\zeta_{12}^{2} + \\frac{1}{9} & \\frac{1}{9} \\zeta_{12}^{2} & -\\frac{1}{9} & -\\frac{1}{9} \\zeta_{12}^{2} + \\frac{1}{9} & \\frac{1}{9} \\zeta_{12}^{2} & -\\frac{1}{9} \\zeta_{12}^{2} + \\frac{1}{9} & \\frac{1}{9} \\zeta_{12}^{2} & -\\frac{1}{9} & -\\frac{2}{9} \\zeta_{12}^{2} & -\\frac{1}{9} \\zeta_{12}^{2} + \\frac{1}{9} & \\frac{1}{9} \\zeta_{12}^{2} & -\\frac{1}{9} & \\frac{1}{9} \\zeta_{12}^{2} & -\\frac{1}{9} & -\\frac{1}{9} \\zeta_{12}^{2} + \\frac{1}{9} & \\frac{2}{9} & \\frac{2}{9} \\zeta_{12}^{2} - \\frac{2}{9} & 0 & 0 & 0 & 0 & 0 & 0 & 0 & 0 & 0 & 0 & 0 & 0 & 0 & 0 & 0 & 0 & 0 & 0 \\\\\n",
       "\\frac{1}{9} & \\frac{1}{9} & \\frac{1}{9} & \\frac{1}{9} & \\frac{1}{9} & \\frac{1}{9} & -\\frac{1}{9} \\zeta_{12}^{2} & -\\frac{1}{9} \\zeta_{12}^{2} & -\\frac{1}{9} \\zeta_{12}^{2} & -\\frac{1}{9} \\zeta_{12}^{2} & -\\frac{1}{9} \\zeta_{12}^{2} & -\\frac{1}{9} \\zeta_{12}^{2} & \\frac{1}{9} \\zeta_{12}^{2} - \\frac{1}{9} & \\frac{1}{9} \\zeta_{12}^{2} - \\frac{1}{9} & \\frac{1}{9} \\zeta_{12}^{2} - \\frac{1}{9} & \\frac{1}{9} \\zeta_{12}^{2} - \\frac{1}{9} & \\frac{1}{9} \\zeta_{12}^{2} - \\frac{1}{9} & \\frac{1}{9} \\zeta_{12}^{2} - \\frac{1}{9} & -\\frac{1}{9} & -\\frac{1}{9} & -\\frac{1}{9} & -\\frac{1}{9} \\zeta_{12}^{2} + \\frac{1}{9} & \\frac{2}{9} \\zeta_{12}^{2} - \\frac{2}{9} & -\\frac{1}{9} \\zeta_{12}^{2} + \\frac{1}{9} & -\\frac{1}{9} \\zeta_{12}^{2} + \\frac{1}{9} & -\\frac{1}{9} \\zeta_{12}^{2} + \\frac{1}{9} & \\frac{2}{9} \\zeta_{12}^{2} - \\frac{2}{9} & \\frac{1}{9} \\zeta_{12}^{2} & \\frac{2}{9} \\zeta_{12}^{2} - \\frac{2}{9} & -\\frac{1}{9} \\zeta_{12}^{2} + \\frac{1}{9} & -\\frac{1}{9} \\zeta_{12}^{2} + \\frac{1}{9} & \\frac{1}{9} \\zeta_{12}^{2} & \\frac{1}{9} \\zeta_{12}^{2} & \\frac{1}{9} \\zeta_{12}^{2} & \\frac{1}{9} \\zeta_{12}^{2} & -\\frac{2}{9} \\zeta_{12}^{2} & -\\frac{1}{9} & \\frac{2}{9} & -\\frac{1}{9} & -\\frac{2}{9} \\zeta_{12}^{2} & \\frac{1}{9} \\zeta_{12}^{2} & \\frac{1}{9} \\zeta_{12}^{2} & -\\frac{1}{9} & -\\frac{1}{9} & \\frac{2}{9} & -\\frac{1}{9} \\zeta_{12}^{2} + \\frac{1}{9} & \\frac{1}{9} \\zeta_{12}^{2} & -\\frac{2}{9} \\zeta_{12}^{2} & \\frac{1}{9} \\zeta_{12}^{2} & \\frac{2}{9} & -\\frac{1}{9} & -\\frac{1}{9} & -\\frac{1}{9} \\zeta_{12}^{2} + \\frac{1}{9} & -\\frac{1}{9} \\zeta_{12}^{2} + \\frac{1}{9} & 0 & 0 & 0 & 0 & 0 & 0 & 0 & 0 & 0 & 0 & 0 & 0 & 0 & 0 & 0 & 0 & 0 & 0 \\\\\n",
       "\\frac{1}{9} & \\frac{1}{9} & \\frac{1}{9} \\zeta_{12}^{2} - \\frac{1}{9} & \\frac{1}{9} \\zeta_{12}^{2} - \\frac{1}{9} & -\\frac{1}{9} \\zeta_{12}^{2} & -\\frac{1}{9} \\zeta_{12}^{2} & \\frac{1}{9} & \\frac{1}{9} & \\frac{1}{9} \\zeta_{12}^{2} - \\frac{1}{9} & \\frac{1}{9} \\zeta_{12}^{2} - \\frac{1}{9} & -\\frac{1}{9} \\zeta_{12}^{2} & -\\frac{1}{9} \\zeta_{12}^{2} & \\frac{1}{9} & \\frac{1}{9} & \\frac{1}{9} \\zeta_{12}^{2} - \\frac{1}{9} & \\frac{1}{9} \\zeta_{12}^{2} - \\frac{1}{9} & -\\frac{1}{9} \\zeta_{12}^{2} & -\\frac{1}{9} \\zeta_{12}^{2} & \\frac{1}{9} \\zeta_{12}^{2} & -\\frac{1}{9} \\zeta_{12}^{2} + \\frac{1}{9} & -\\frac{1}{9} & -\\frac{1}{9} & -\\frac{2}{9} \\zeta_{12}^{2} & -\\frac{1}{9} \\zeta_{12}^{2} + \\frac{1}{9} & \\frac{1}{9} \\zeta_{12}^{2} & -\\frac{1}{9} \\zeta_{12}^{2} + \\frac{1}{9} & \\frac{2}{9} & \\frac{1}{9} \\zeta_{12}^{2} & \\frac{2}{9} \\zeta_{12}^{2} - \\frac{2}{9} & -\\frac{1}{9} & \\frac{1}{9} \\zeta_{12}^{2} & -\\frac{1}{9} \\zeta_{12}^{2} + \\frac{1}{9} & -\\frac{1}{9} & -\\frac{1}{9} & \\frac{1}{9} \\zeta_{12}^{2} & \\frac{2}{9} \\zeta_{12}^{2} - \\frac{2}{9} & -\\frac{1}{9} & -\\frac{2}{9} \\zeta_{12}^{2} & -\\frac{1}{9} \\zeta_{12}^{2} + \\frac{1}{9} & -\\frac{2}{9} \\zeta_{12}^{2} & -\\frac{1}{9} \\zeta_{12}^{2} + \\frac{1}{9} & -\\frac{1}{9} & \\frac{1}{9} \\zeta_{12}^{2} & -\\frac{1}{9} \\zeta_{12}^{2} + \\frac{1}{9} & \\frac{2}{9} & \\frac{1}{9} \\zeta_{12}^{2} & -\\frac{1}{9} \\zeta_{12}^{2} + \\frac{1}{9} & \\frac{2}{9} & \\frac{1}{9} \\zeta_{12}^{2} & \\frac{2}{9} \\zeta_{12}^{2} - \\frac{2}{9} & -\\frac{1}{9} & \\frac{1}{9} \\zeta_{12}^{2} & -\\frac{1}{9} \\zeta_{12}^{2} + \\frac{1}{9} & -\\frac{1}{9} & 0 & 0 & 0 & 0 & 0 & 0 & 0 & 0 & 0 & 0 & 0 & 0 & 0 & 0 & 0 & 0 & 0 & 0 \\\\\n",
       "\\frac{1}{9} & \\frac{1}{9} & -\\frac{1}{9} \\zeta_{12}^{2} & -\\frac{1}{9} \\zeta_{12}^{2} & \\frac{1}{9} \\zeta_{12}^{2} - \\frac{1}{9} & \\frac{1}{9} \\zeta_{12}^{2} - \\frac{1}{9} & \\frac{1}{9} & \\frac{1}{9} & -\\frac{1}{9} \\zeta_{12}^{2} & -\\frac{1}{9} \\zeta_{12}^{2} & \\frac{1}{9} \\zeta_{12}^{2} - \\frac{1}{9} & \\frac{1}{9} \\zeta_{12}^{2} - \\frac{1}{9} & \\frac{1}{9} & \\frac{1}{9} & -\\frac{1}{9} \\zeta_{12}^{2} & -\\frac{1}{9} \\zeta_{12}^{2} & \\frac{1}{9} \\zeta_{12}^{2} - \\frac{1}{9} & \\frac{1}{9} \\zeta_{12}^{2} - \\frac{1}{9} & \\frac{2}{9} \\zeta_{12}^{2} - \\frac{2}{9} & -\\frac{2}{9} \\zeta_{12}^{2} & \\frac{2}{9} & -\\frac{1}{9} & -\\frac{1}{9} \\zeta_{12}^{2} + \\frac{1}{9} & \\frac{1}{9} \\zeta_{12}^{2} & -\\frac{1}{9} \\zeta_{12}^{2} + \\frac{1}{9} & \\frac{1}{9} \\zeta_{12}^{2} & -\\frac{1}{9} & \\frac{2}{9} \\zeta_{12}^{2} - \\frac{2}{9} & \\frac{1}{9} \\zeta_{12}^{2} & -\\frac{1}{9} & -\\frac{1}{9} \\zeta_{12}^{2} + \\frac{1}{9} & -\\frac{2}{9} \\zeta_{12}^{2} & \\frac{2}{9} & -\\frac{1}{9} & -\\frac{1}{9} \\zeta_{12}^{2} + \\frac{1}{9} & \\frac{1}{9} \\zeta_{12}^{2} & -\\frac{1}{9} & -\\frac{1}{9} \\zeta_{12}^{2} + \\frac{1}{9} & \\frac{1}{9} \\zeta_{12}^{2} & -\\frac{1}{9} \\zeta_{12}^{2} + \\frac{1}{9} & \\frac{1}{9} \\zeta_{12}^{2} & -\\frac{1}{9} & -\\frac{1}{9} \\zeta_{12}^{2} + \\frac{1}{9} & \\frac{1}{9} \\zeta_{12}^{2} & -\\frac{1}{9} & \\frac{2}{9} \\zeta_{12}^{2} - \\frac{2}{9} & \\frac{1}{9} \\zeta_{12}^{2} & -\\frac{1}{9} & -\\frac{1}{9} \\zeta_{12}^{2} + \\frac{1}{9} & \\frac{1}{9} \\zeta_{12}^{2} & -\\frac{1}{9} & -\\frac{1}{9} \\zeta_{12}^{2} + \\frac{1}{9} & -\\frac{2}{9} \\zeta_{12}^{2} & \\frac{2}{9} & 0 & 0 & 0 & 0 & 0 & 0 & 0 & 0 & 0 & 0 & 0 & 0 & 0 & 0 & 0 & 0 & 0 & 0 \\\\\n",
       "\\frac{1}{9} & \\frac{1}{9} & \\frac{1}{9} & \\frac{1}{9} & \\frac{1}{9} & \\frac{1}{9} & \\frac{1}{9} & \\frac{1}{9} & \\frac{1}{9} & \\frac{1}{9} & \\frac{1}{9} & \\frac{1}{9} & \\frac{1}{9} & \\frac{1}{9} & \\frac{1}{9} & \\frac{1}{9} & \\frac{1}{9} & \\frac{1}{9} & -\\frac{1}{9} & -\\frac{1}{9} & -\\frac{1}{9} & -\\frac{1}{9} & -\\frac{1}{9} & \\frac{2}{9} & \\frac{2}{9} & -\\frac{1}{9} & -\\frac{1}{9} & -\\frac{1}{9} & -\\frac{1}{9} & \\frac{2}{9} & -\\frac{1}{9} & -\\frac{1}{9} & -\\frac{1}{9} & -\\frac{1}{9} & \\frac{2}{9} & -\\frac{1}{9} & -\\frac{1}{9} & -\\frac{1}{9} & \\frac{2}{9} & -\\frac{1}{9} & -\\frac{1}{9} & \\frac{2}{9} & \\frac{2}{9} & -\\frac{1}{9} & -\\frac{1}{9} & -\\frac{1}{9} & \\frac{2}{9} & -\\frac{1}{9} & -\\frac{1}{9} & -\\frac{1}{9} & \\frac{2}{9} & -\\frac{1}{9} & -\\frac{1}{9} & -\\frac{1}{9} & 0 & 0 & 0 & 0 & 0 & 0 & 0 & 0 & 0 & 0 & 0 & 0 & 0 & 0 & 0 & 0 & 0 & 0 \\\\\n",
       "\\frac{1}{9} & \\frac{1}{9} & \\frac{1}{9} \\zeta_{12}^{2} - \\frac{1}{9} & \\frac{1}{9} \\zeta_{12}^{2} - \\frac{1}{9} & -\\frac{1}{9} \\zeta_{12}^{2} & -\\frac{1}{9} \\zeta_{12}^{2} & \\frac{1}{9} \\zeta_{12}^{2} - \\frac{1}{9} & \\frac{1}{9} \\zeta_{12}^{2} - \\frac{1}{9} & -\\frac{1}{9} \\zeta_{12}^{2} & -\\frac{1}{9} \\zeta_{12}^{2} & \\frac{1}{9} & \\frac{1}{9} & -\\frac{1}{9} \\zeta_{12}^{2} & -\\frac{1}{9} \\zeta_{12}^{2} & \\frac{1}{9} & \\frac{1}{9} & \\frac{1}{9} \\zeta_{12}^{2} - \\frac{1}{9} & \\frac{1}{9} \\zeta_{12}^{2} - \\frac{1}{9} & \\frac{1}{9} \\zeta_{12}^{2} & -\\frac{1}{9} \\zeta_{12}^{2} + \\frac{1}{9} & -\\frac{1}{9} & -\\frac{2}{9} \\zeta_{12}^{2} & -\\frac{1}{9} \\zeta_{12}^{2} + \\frac{1}{9} & -\\frac{1}{9} & -\\frac{1}{9} \\zeta_{12}^{2} + \\frac{1}{9} & \\frac{2}{9} & \\frac{1}{9} \\zeta_{12}^{2} & -\\frac{1}{9} & -\\frac{1}{9} & \\frac{1}{9} \\zeta_{12}^{2} & \\frac{2}{9} \\zeta_{12}^{2} - \\frac{2}{9} & \\frac{1}{9} \\zeta_{12}^{2} & -\\frac{1}{9} \\zeta_{12}^{2} + \\frac{1}{9} & \\frac{2}{9} \\zeta_{12}^{2} - \\frac{2}{9} & -\\frac{1}{9} & \\frac{1}{9} \\zeta_{12}^{2} & \\frac{2}{9} & \\frac{1}{9} \\zeta_{12}^{2} & -\\frac{1}{9} \\zeta_{12}^{2} + \\frac{1}{9} & -\\frac{1}{9} & -\\frac{2}{9} \\zeta_{12}^{2} & -\\frac{1}{9} \\zeta_{12}^{2} + \\frac{1}{9} & \\frac{1}{9} \\zeta_{12}^{2} & \\frac{2}{9} \\zeta_{12}^{2} - \\frac{2}{9} & -\\frac{1}{9} & -\\frac{1}{9} \\zeta_{12}^{2} + \\frac{1}{9} & \\frac{1}{9} \\zeta_{12}^{2} & -\\frac{1}{9} \\zeta_{12}^{2} + \\frac{1}{9} & \\frac{2}{9} & -\\frac{1}{9} \\zeta_{12}^{2} + \\frac{1}{9} & -\\frac{1}{9} & -\\frac{2}{9} \\zeta_{12}^{2} & -\\frac{1}{9} & \\frac{1}{9} \\zeta_{12}^{2} & 0 & 0 & 0 & 0 & 0 & 0 & 0 & 0 & 0 & 0 & 0 & 0 & 0 & 0 & 0 & 0 & 0 & 0 \\\\\n",
       "\\frac{1}{9} & \\frac{1}{9} & -\\frac{1}{9} \\zeta_{12}^{2} & -\\frac{1}{9} \\zeta_{12}^{2} & \\frac{1}{9} \\zeta_{12}^{2} - \\frac{1}{9} & \\frac{1}{9} \\zeta_{12}^{2} - \\frac{1}{9} & -\\frac{1}{9} \\zeta_{12}^{2} & -\\frac{1}{9} \\zeta_{12}^{2} & \\frac{1}{9} \\zeta_{12}^{2} - \\frac{1}{9} & \\frac{1}{9} \\zeta_{12}^{2} - \\frac{1}{9} & \\frac{1}{9} & \\frac{1}{9} & \\frac{1}{9} \\zeta_{12}^{2} - \\frac{1}{9} & \\frac{1}{9} \\zeta_{12}^{2} - \\frac{1}{9} & \\frac{1}{9} & \\frac{1}{9} & -\\frac{1}{9} \\zeta_{12}^{2} & -\\frac{1}{9} \\zeta_{12}^{2} & -\\frac{1}{9} \\zeta_{12}^{2} + \\frac{1}{9} & \\frac{1}{9} \\zeta_{12}^{2} & -\\frac{1}{9} & -\\frac{1}{9} \\zeta_{12}^{2} + \\frac{1}{9} & -\\frac{2}{9} \\zeta_{12}^{2} & -\\frac{1}{9} & \\frac{1}{9} \\zeta_{12}^{2} & -\\frac{1}{9} & \\frac{2}{9} \\zeta_{12}^{2} - \\frac{2}{9} & -\\frac{1}{9} & \\frac{2}{9} & -\\frac{1}{9} \\zeta_{12}^{2} + \\frac{1}{9} & \\frac{1}{9} \\zeta_{12}^{2} & -\\frac{1}{9} \\zeta_{12}^{2} + \\frac{1}{9} & \\frac{1}{9} \\zeta_{12}^{2} & \\frac{1}{9} \\zeta_{12}^{2} & -\\frac{1}{9} & \\frac{2}{9} \\zeta_{12}^{2} - \\frac{2}{9} & -\\frac{1}{9} & \\frac{2}{9} \\zeta_{12}^{2} - \\frac{2}{9} & \\frac{1}{9} \\zeta_{12}^{2} & \\frac{2}{9} & -\\frac{1}{9} \\zeta_{12}^{2} + \\frac{1}{9} & \\frac{1}{9} \\zeta_{12}^{2} & -\\frac{1}{9} \\zeta_{12}^{2} + \\frac{1}{9} & \\frac{1}{9} \\zeta_{12}^{2} & \\frac{2}{9} & \\frac{1}{9} \\zeta_{12}^{2} & -\\frac{1}{9} \\zeta_{12}^{2} + \\frac{1}{9} & -\\frac{2}{9} \\zeta_{12}^{2} & -\\frac{1}{9} & -\\frac{2}{9} \\zeta_{12}^{2} & -\\frac{1}{9} & -\\frac{1}{9} \\zeta_{12}^{2} + \\frac{1}{9} & -\\frac{1}{9} & -\\frac{1}{9} \\zeta_{12}^{2} + \\frac{1}{9} & 0 & 0 & 0 & 0 & 0 & 0 & 0 & 0 & 0 & 0 & 0 & 0 & 0 & 0 & 0 & 0 & 0 & 0 \\\\\n",
       "\\frac{1}{9} & \\frac{1}{9} & \\frac{1}{9} & \\frac{1}{9} & \\frac{1}{9} & \\frac{1}{9} & -\\frac{1}{9} \\zeta_{12}^{2} & -\\frac{1}{9} \\zeta_{12}^{2} & -\\frac{1}{9} \\zeta_{12}^{2} & -\\frac{1}{9} \\zeta_{12}^{2} & -\\frac{1}{9} \\zeta_{12}^{2} & -\\frac{1}{9} \\zeta_{12}^{2} & \\frac{1}{9} \\zeta_{12}^{2} - \\frac{1}{9} & \\frac{1}{9} \\zeta_{12}^{2} - \\frac{1}{9} & \\frac{1}{9} \\zeta_{12}^{2} - \\frac{1}{9} & \\frac{1}{9} \\zeta_{12}^{2} - \\frac{1}{9} & \\frac{1}{9} \\zeta_{12}^{2} - \\frac{1}{9} & \\frac{1}{9} \\zeta_{12}^{2} - \\frac{1}{9} & -\\frac{1}{9} & -\\frac{1}{9} & -\\frac{1}{9} & -\\frac{1}{9} \\zeta_{12}^{2} + \\frac{1}{9} & -\\frac{1}{9} \\zeta_{12}^{2} + \\frac{1}{9} & \\frac{2}{9} \\zeta_{12}^{2} - \\frac{2}{9} & \\frac{2}{9} \\zeta_{12}^{2} - \\frac{2}{9} & -\\frac{1}{9} \\zeta_{12}^{2} + \\frac{1}{9} & -\\frac{1}{9} \\zeta_{12}^{2} + \\frac{1}{9} & \\frac{1}{9} \\zeta_{12}^{2} & -\\frac{1}{9} \\zeta_{12}^{2} + \\frac{1}{9} & \\frac{2}{9} \\zeta_{12}^{2} - \\frac{2}{9} & -\\frac{1}{9} \\zeta_{12}^{2} + \\frac{1}{9} & \\frac{1}{9} \\zeta_{12}^{2} & \\frac{1}{9} \\zeta_{12}^{2} & \\frac{1}{9} \\zeta_{12}^{2} & -\\frac{2}{9} \\zeta_{12}^{2} & \\frac{1}{9} \\zeta_{12}^{2} & -\\frac{1}{9} & -\\frac{1}{9} & \\frac{2}{9} & \\frac{1}{9} \\zeta_{12}^{2} & \\frac{1}{9} \\zeta_{12}^{2} & -\\frac{2}{9} \\zeta_{12}^{2} & \\frac{2}{9} & -\\frac{1}{9} & -\\frac{1}{9} & -\\frac{1}{9} \\zeta_{12}^{2} + \\frac{1}{9} & -\\frac{2}{9} \\zeta_{12}^{2} & \\frac{1}{9} \\zeta_{12}^{2} & \\frac{1}{9} \\zeta_{12}^{2} & -\\frac{1}{9} & \\frac{2}{9} & -\\frac{1}{9} & -\\frac{1}{9} \\zeta_{12}^{2} + \\frac{1}{9} & -\\frac{1}{9} \\zeta_{12}^{2} + \\frac{1}{9} & 0 & 0 & 0 & 0 & 0 & 0 & 0 & 0 & 0 & 0 & 0 & 0 & 0 & 0 & 0 & 0 & 0 & 0 \\\\\n",
       "\\frac{1}{9} & \\frac{1}{9} & \\frac{1}{9} \\zeta_{12}^{2} - \\frac{1}{9} & \\frac{1}{9} \\zeta_{12}^{2} - \\frac{1}{9} & -\\frac{1}{9} \\zeta_{12}^{2} & -\\frac{1}{9} \\zeta_{12}^{2} & -\\frac{1}{9} \\zeta_{12}^{2} & -\\frac{1}{9} \\zeta_{12}^{2} & \\frac{1}{9} & \\frac{1}{9} & \\frac{1}{9} \\zeta_{12}^{2} - \\frac{1}{9} & \\frac{1}{9} \\zeta_{12}^{2} - \\frac{1}{9} & \\frac{1}{9} \\zeta_{12}^{2} - \\frac{1}{9} & \\frac{1}{9} \\zeta_{12}^{2} - \\frac{1}{9} & -\\frac{1}{9} \\zeta_{12}^{2} & -\\frac{1}{9} \\zeta_{12}^{2} & \\frac{1}{9} & \\frac{1}{9} & -\\frac{2}{9} \\zeta_{12}^{2} & \\frac{2}{9} \\zeta_{12}^{2} - \\frac{2}{9} & \\frac{2}{9} & -\\frac{1}{9} \\zeta_{12}^{2} + \\frac{1}{9} & -\\frac{1}{9} & \\frac{1}{9} \\zeta_{12}^{2} & -\\frac{1}{9} & \\frac{1}{9} \\zeta_{12}^{2} & -\\frac{1}{9} \\zeta_{12}^{2} + \\frac{1}{9} & \\frac{2}{9} \\zeta_{12}^{2} - \\frac{2}{9} & \\frac{1}{9} \\zeta_{12}^{2} & -\\frac{1}{9} \\zeta_{12}^{2} + \\frac{1}{9} & -\\frac{1}{9} & \\frac{2}{9} & -\\frac{2}{9} \\zeta_{12}^{2} & \\frac{1}{9} \\zeta_{12}^{2} & -\\frac{1}{9} \\zeta_{12}^{2} + \\frac{1}{9} & -\\frac{1}{9} & -\\frac{1}{9} & \\frac{1}{9} \\zeta_{12}^{2} & -\\frac{1}{9} \\zeta_{12}^{2} + \\frac{1}{9} & -\\frac{1}{9} \\zeta_{12}^{2} + \\frac{1}{9} & -\\frac{1}{9} & \\frac{1}{9} \\zeta_{12}^{2} & \\frac{1}{9} \\zeta_{12}^{2} & -\\frac{1}{9} \\zeta_{12}^{2} + \\frac{1}{9} & -\\frac{1}{9} & \\frac{2}{9} & -\\frac{1}{9} & \\frac{1}{9} \\zeta_{12}^{2} & -\\frac{1}{9} \\zeta_{12}^{2} + \\frac{1}{9} & -\\frac{1}{9} \\zeta_{12}^{2} + \\frac{1}{9} & -\\frac{1}{9} & \\frac{1}{9} \\zeta_{12}^{2} & -\\frac{2}{9} \\zeta_{12}^{2} & \\frac{2}{9} \\zeta_{12}^{2} - \\frac{2}{9} & 0 & 0 & 0 & 0 & 0 & 0 & 0 & 0 & 0 & 0 & 0 & 0 & 0 & 0 & 0 & 0 & 0 & 0 \\\\\n",
       "\\frac{1}{9} & \\frac{1}{9} & -\\frac{1}{9} \\zeta_{12}^{2} & -\\frac{1}{9} \\zeta_{12}^{2} & \\frac{1}{9} \\zeta_{12}^{2} - \\frac{1}{9} & \\frac{1}{9} \\zeta_{12}^{2} - \\frac{1}{9} & \\frac{1}{9} & \\frac{1}{9} & -\\frac{1}{9} \\zeta_{12}^{2} & -\\frac{1}{9} \\zeta_{12}^{2} & \\frac{1}{9} \\zeta_{12}^{2} - \\frac{1}{9} & \\frac{1}{9} \\zeta_{12}^{2} - \\frac{1}{9} & \\frac{1}{9} & \\frac{1}{9} & -\\frac{1}{9} \\zeta_{12}^{2} & -\\frac{1}{9} \\zeta_{12}^{2} & \\frac{1}{9} \\zeta_{12}^{2} - \\frac{1}{9} & \\frac{1}{9} \\zeta_{12}^{2} - \\frac{1}{9} & -\\frac{1}{9} \\zeta_{12}^{2} + \\frac{1}{9} & \\frac{1}{9} \\zeta_{12}^{2} & -\\frac{1}{9} & -\\frac{1}{9} & -\\frac{1}{9} \\zeta_{12}^{2} + \\frac{1}{9} & -\\frac{2}{9} \\zeta_{12}^{2} & \\frac{2}{9} \\zeta_{12}^{2} - \\frac{2}{9} & \\frac{1}{9} \\zeta_{12}^{2} & -\\frac{1}{9} & -\\frac{1}{9} \\zeta_{12}^{2} + \\frac{1}{9} & \\frac{1}{9} \\zeta_{12}^{2} & \\frac{2}{9} & -\\frac{1}{9} \\zeta_{12}^{2} + \\frac{1}{9} & \\frac{1}{9} \\zeta_{12}^{2} & -\\frac{1}{9} & -\\frac{1}{9} & \\frac{2}{9} \\zeta_{12}^{2} - \\frac{2}{9} & \\frac{1}{9} \\zeta_{12}^{2} & -\\frac{1}{9} & -\\frac{1}{9} \\zeta_{12}^{2} + \\frac{1}{9} & -\\frac{2}{9} \\zeta_{12}^{2} & -\\frac{1}{9} \\zeta_{12}^{2} + \\frac{1}{9} & \\frac{1}{9} \\zeta_{12}^{2} & \\frac{2}{9} & \\frac{2}{9} \\zeta_{12}^{2} - \\frac{2}{9} & \\frac{1}{9} \\zeta_{12}^{2} & -\\frac{1}{9} & -\\frac{1}{9} \\zeta_{12}^{2} + \\frac{1}{9} & -\\frac{2}{9} \\zeta_{12}^{2} & -\\frac{1}{9} & -\\frac{1}{9} \\zeta_{12}^{2} + \\frac{1}{9} & \\frac{1}{9} \\zeta_{12}^{2} & \\frac{2}{9} & -\\frac{1}{9} \\zeta_{12}^{2} + \\frac{1}{9} & \\frac{1}{9} \\zeta_{12}^{2} & -\\frac{1}{9} & 0 & 0 & 0 & 0 & 0 & 0 & 0 & 0 & 0 & 0 & 0 & 0 & 0 & 0 & 0 & 0 & 0 & 0 \\\\\n",
       "\\frac{1}{9} & \\frac{1}{9} & \\frac{1}{9} & \\frac{1}{9} & \\frac{1}{9} & \\frac{1}{9} & \\frac{1}{9} & \\frac{1}{9} & \\frac{1}{9} & \\frac{1}{9} & \\frac{1}{9} & \\frac{1}{9} & \\frac{1}{9} & \\frac{1}{9} & \\frac{1}{9} & \\frac{1}{9} & \\frac{1}{9} & \\frac{1}{9} & -\\frac{1}{9} & -\\frac{1}{9} & -\\frac{1}{9} & -\\frac{1}{9} & \\frac{2}{9} & -\\frac{1}{9} & -\\frac{1}{9} & -\\frac{1}{9} & \\frac{2}{9} & -\\frac{1}{9} & \\frac{2}{9} & -\\frac{1}{9} & -\\frac{1}{9} & -\\frac{1}{9} & -\\frac{1}{9} & -\\frac{1}{9} & -\\frac{1}{9} & \\frac{2}{9} & -\\frac{1}{9} & \\frac{2}{9} & -\\frac{1}{9} & \\frac{2}{9} & -\\frac{1}{9} & -\\frac{1}{9} & -\\frac{1}{9} & -\\frac{1}{9} & \\frac{2}{9} & -\\frac{1}{9} & -\\frac{1}{9} & \\frac{2}{9} & -\\frac{1}{9} & \\frac{2}{9} & -\\frac{1}{9} & -\\frac{1}{9} & -\\frac{1}{9} & -\\frac{1}{9} & 0 & 0 & 0 & 0 & 0 & 0 & 0 & 0 & 0 & 0 & 0 & 0 & 0 & 0 & 0 & 0 & 0 & 0 \\\\\n",
       "\\frac{1}{9} & \\frac{1}{9} & \\frac{1}{9} \\zeta_{12}^{2} - \\frac{1}{9} & \\frac{1}{9} \\zeta_{12}^{2} - \\frac{1}{9} & -\\frac{1}{9} \\zeta_{12}^{2} & -\\frac{1}{9} \\zeta_{12}^{2} & \\frac{1}{9} & \\frac{1}{9} & \\frac{1}{9} \\zeta_{12}^{2} - \\frac{1}{9} & \\frac{1}{9} \\zeta_{12}^{2} - \\frac{1}{9} & -\\frac{1}{9} \\zeta_{12}^{2} & -\\frac{1}{9} \\zeta_{12}^{2} & \\frac{1}{9} & \\frac{1}{9} & \\frac{1}{9} \\zeta_{12}^{2} - \\frac{1}{9} & \\frac{1}{9} \\zeta_{12}^{2} - \\frac{1}{9} & -\\frac{1}{9} \\zeta_{12}^{2} & -\\frac{1}{9} \\zeta_{12}^{2} & -\\frac{2}{9} \\zeta_{12}^{2} & \\frac{2}{9} \\zeta_{12}^{2} - \\frac{2}{9} & \\frac{2}{9} & -\\frac{1}{9} & \\frac{1}{9} \\zeta_{12}^{2} & -\\frac{1}{9} \\zeta_{12}^{2} + \\frac{1}{9} & \\frac{1}{9} \\zeta_{12}^{2} & -\\frac{1}{9} \\zeta_{12}^{2} + \\frac{1}{9} & -\\frac{1}{9} & -\\frac{2}{9} \\zeta_{12}^{2} & -\\frac{1}{9} \\zeta_{12}^{2} + \\frac{1}{9} & -\\frac{1}{9} & \\frac{1}{9} \\zeta_{12}^{2} & \\frac{2}{9} \\zeta_{12}^{2} - \\frac{2}{9} & \\frac{2}{9} & -\\frac{1}{9} & \\frac{1}{9} \\zeta_{12}^{2} & -\\frac{1}{9} \\zeta_{12}^{2} + \\frac{1}{9} & -\\frac{1}{9} & \\frac{1}{9} \\zeta_{12}^{2} & -\\frac{1}{9} \\zeta_{12}^{2} + \\frac{1}{9} & \\frac{1}{9} \\zeta_{12}^{2} & -\\frac{1}{9} \\zeta_{12}^{2} + \\frac{1}{9} & -\\frac{1}{9} & \\frac{1}{9} \\zeta_{12}^{2} & -\\frac{1}{9} \\zeta_{12}^{2} + \\frac{1}{9} & -\\frac{1}{9} & -\\frac{2}{9} \\zeta_{12}^{2} & -\\frac{1}{9} \\zeta_{12}^{2} + \\frac{1}{9} & -\\frac{1}{9} & \\frac{1}{9} \\zeta_{12}^{2} & -\\frac{1}{9} \\zeta_{12}^{2} + \\frac{1}{9} & -\\frac{1}{9} & \\frac{1}{9} \\zeta_{12}^{2} & \\frac{2}{9} \\zeta_{12}^{2} - \\frac{2}{9} & \\frac{2}{9} & 0 & 0 & 0 & 0 & 0 & 0 & 0 & 0 & 0 & 0 & 0 & 0 & 0 & 0 & 0 & 0 & 0 & 0 \\\\\n",
       "\\frac{1}{9} & \\frac{1}{9} & -\\frac{1}{9} \\zeta_{12}^{2} & -\\frac{1}{9} \\zeta_{12}^{2} & \\frac{1}{9} \\zeta_{12}^{2} - \\frac{1}{9} & \\frac{1}{9} \\zeta_{12}^{2} - \\frac{1}{9} & \\frac{1}{9} \\zeta_{12}^{2} - \\frac{1}{9} & \\frac{1}{9} \\zeta_{12}^{2} - \\frac{1}{9} & \\frac{1}{9} & \\frac{1}{9} & -\\frac{1}{9} \\zeta_{12}^{2} & -\\frac{1}{9} \\zeta_{12}^{2} & -\\frac{1}{9} \\zeta_{12}^{2} & -\\frac{1}{9} \\zeta_{12}^{2} & \\frac{1}{9} \\zeta_{12}^{2} - \\frac{1}{9} & \\frac{1}{9} \\zeta_{12}^{2} - \\frac{1}{9} & \\frac{1}{9} & \\frac{1}{9} & -\\frac{1}{9} \\zeta_{12}^{2} + \\frac{1}{9} & \\frac{1}{9} \\zeta_{12}^{2} & -\\frac{1}{9} & -\\frac{2}{9} \\zeta_{12}^{2} & -\\frac{1}{9} & -\\frac{1}{9} \\zeta_{12}^{2} + \\frac{1}{9} & -\\frac{1}{9} & \\frac{2}{9} \\zeta_{12}^{2} - \\frac{2}{9} & \\frac{1}{9} \\zeta_{12}^{2} & \\frac{1}{9} \\zeta_{12}^{2} & -\\frac{1}{9} \\zeta_{12}^{2} + \\frac{1}{9} & \\frac{1}{9} \\zeta_{12}^{2} & \\frac{2}{9} & -\\frac{1}{9} & -\\frac{1}{9} \\zeta_{12}^{2} + \\frac{1}{9} & \\frac{2}{9} \\zeta_{12}^{2} - \\frac{2}{9} & \\frac{1}{9} \\zeta_{12}^{2} & -\\frac{1}{9} & \\frac{2}{9} & -\\frac{1}{9} \\zeta_{12}^{2} + \\frac{1}{9} & \\frac{1}{9} \\zeta_{12}^{2} & \\frac{1}{9} \\zeta_{12}^{2} & \\frac{2}{9} & -\\frac{1}{9} \\zeta_{12}^{2} + \\frac{1}{9} & -\\frac{1}{9} \\zeta_{12}^{2} + \\frac{1}{9} & -\\frac{2}{9} \\zeta_{12}^{2} & -\\frac{1}{9} & -\\frac{1}{9} & -\\frac{1}{9} & -\\frac{1}{9} \\zeta_{12}^{2} + \\frac{1}{9} & -\\frac{2}{9} \\zeta_{12}^{2} & \\frac{1}{9} \\zeta_{12}^{2} & -\\frac{1}{9} & \\frac{2}{9} \\zeta_{12}^{2} - \\frac{2}{9} & -\\frac{1}{9} \\zeta_{12}^{2} + \\frac{1}{9} & \\frac{1}{9} \\zeta_{12}^{2} & 0 & 0 & 0 & 0 & 0 & 0 & 0 & 0 & 0 & 0 & 0 & 0 & 0 & 0 & 0 & 0 & 0 & 0 \\\\\n",
       "\\frac{1}{9} & \\frac{1}{9} & \\frac{1}{9} & \\frac{1}{9} & \\frac{1}{9} & \\frac{1}{9} & \\frac{1}{9} \\zeta_{12}^{2} - \\frac{1}{9} & \\frac{1}{9} \\zeta_{12}^{2} - \\frac{1}{9} & \\frac{1}{9} \\zeta_{12}^{2} - \\frac{1}{9} & \\frac{1}{9} \\zeta_{12}^{2} - \\frac{1}{9} & \\frac{1}{9} \\zeta_{12}^{2} - \\frac{1}{9} & \\frac{1}{9} \\zeta_{12}^{2} - \\frac{1}{9} & -\\frac{1}{9} \\zeta_{12}^{2} & -\\frac{1}{9} \\zeta_{12}^{2} & -\\frac{1}{9} \\zeta_{12}^{2} & -\\frac{1}{9} \\zeta_{12}^{2} & -\\frac{1}{9} \\zeta_{12}^{2} & -\\frac{1}{9} \\zeta_{12}^{2} & -\\frac{1}{9} & -\\frac{1}{9} & -\\frac{1}{9} & -\\frac{2}{9} \\zeta_{12}^{2} & \\frac{1}{9} \\zeta_{12}^{2} & \\frac{1}{9} \\zeta_{12}^{2} & \\frac{1}{9} \\zeta_{12}^{2} & -\\frac{2}{9} \\zeta_{12}^{2} & \\frac{1}{9} \\zeta_{12}^{2} & -\\frac{1}{9} \\zeta_{12}^{2} + \\frac{1}{9} & \\frac{1}{9} \\zeta_{12}^{2} & \\frac{1}{9} \\zeta_{12}^{2} & -\\frac{2}{9} \\zeta_{12}^{2} & -\\frac{1}{9} \\zeta_{12}^{2} + \\frac{1}{9} & -\\frac{1}{9} \\zeta_{12}^{2} + \\frac{1}{9} & \\frac{2}{9} \\zeta_{12}^{2} - \\frac{2}{9} & -\\frac{1}{9} \\zeta_{12}^{2} + \\frac{1}{9} & -\\frac{1}{9} \\zeta_{12}^{2} + \\frac{1}{9} & \\frac{2}{9} & -\\frac{1}{9} & -\\frac{1}{9} & -\\frac{1}{9} \\zeta_{12}^{2} + \\frac{1}{9} & \\frac{2}{9} \\zeta_{12}^{2} - \\frac{2}{9} & -\\frac{1}{9} \\zeta_{12}^{2} + \\frac{1}{9} & -\\frac{1}{9} & \\frac{2}{9} & -\\frac{1}{9} & \\frac{1}{9} \\zeta_{12}^{2} & -\\frac{1}{9} \\zeta_{12}^{2} + \\frac{1}{9} & -\\frac{1}{9} \\zeta_{12}^{2} + \\frac{1}{9} & \\frac{2}{9} \\zeta_{12}^{2} - \\frac{2}{9} & -\\frac{1}{9} & -\\frac{1}{9} & \\frac{2}{9} & \\frac{1}{9} \\zeta_{12}^{2} & \\frac{1}{9} \\zeta_{12}^{2} & 0 & 0 & 0 & 0 & 0 & 0 & 0 & 0 & 0 & 0 & 0 & 0 & 0 & 0 & 0 & 0 & 0 & 0 \\\\\n",
       "\\frac{1}{6} & -\\frac{1}{6} & \\frac{1}{6} & -\\frac{1}{6} & \\frac{1}{6} & -\\frac{1}{6} & \\frac{1}{6} & -\\frac{1}{6} & \\frac{1}{6} & -\\frac{1}{6} & \\frac{1}{6} & -\\frac{1}{6} & \\frac{1}{6} & -\\frac{1}{6} & \\frac{1}{6} & -\\frac{1}{6} & \\frac{1}{6} & -\\frac{1}{6} & 0 & 0 & 0 & 0 & 0 & 0 & 0 & 0 & 0 & 0 & 0 & 0 & 0 & 0 & 0 & 0 & 0 & 0 & 0 & 0 & 0 & 0 & 0 & 0 & 0 & 0 & 0 & 0 & 0 & 0 & 0 & 0 & 0 & 0 & 0 & 0 & \\frac{1}{6} & -\\frac{1}{6} & \\frac{1}{6} & -\\frac{1}{6} & \\frac{1}{6} & -\\frac{1}{6} & \\frac{1}{6} & -\\frac{1}{6} & \\frac{1}{6} & -\\frac{1}{6} & \\frac{1}{6} & -\\frac{1}{6} & \\frac{1}{6} & -\\frac{1}{6} & \\frac{1}{6} & -\\frac{1}{6} & \\frac{1}{6} & -\\frac{1}{6} \\\\\n",
       "\\frac{1}{6} & -\\frac{1}{6} & \\frac{1}{6} & -\\frac{1}{6} & \\frac{1}{6} & -\\frac{1}{6} & \\frac{1}{6} & -\\frac{1}{6} & \\frac{1}{6} & -\\frac{1}{6} & \\frac{1}{6} & -\\frac{1}{6} & \\frac{1}{6} & -\\frac{1}{6} & \\frac{1}{6} & -\\frac{1}{6} & \\frac{1}{6} & -\\frac{1}{6} & 0 & 0 & 0 & 0 & 0 & 0 & 0 & 0 & 0 & 0 & 0 & 0 & 0 & 0 & 0 & 0 & 0 & 0 & 0 & 0 & 0 & 0 & 0 & 0 & 0 & 0 & 0 & 0 & 0 & 0 & 0 & 0 & 0 & 0 & 0 & 0 & -\\frac{1}{6} & \\frac{1}{6} & -\\frac{1}{6} & \\frac{1}{6} & -\\frac{1}{6} & \\frac{1}{6} & -\\frac{1}{6} & \\frac{1}{6} & -\\frac{1}{6} & \\frac{1}{6} & -\\frac{1}{6} & \\frac{1}{6} & -\\frac{1}{6} & \\frac{1}{6} & -\\frac{1}{6} & \\frac{1}{6} & -\\frac{1}{6} & \\frac{1}{6} \\\\\n",
       "\\frac{1}{6} & -\\frac{1}{6} & \\frac{1}{6} \\zeta_{12}^{2} - \\frac{1}{6} & -\\frac{1}{6} \\zeta_{12}^{2} + \\frac{1}{6} & -\\frac{1}{6} \\zeta_{12}^{2} & \\frac{1}{6} \\zeta_{12}^{2} & \\frac{1}{6} & -\\frac{1}{6} & \\frac{1}{6} \\zeta_{12}^{2} - \\frac{1}{6} & -\\frac{1}{6} \\zeta_{12}^{2} + \\frac{1}{6} & -\\frac{1}{6} \\zeta_{12}^{2} & \\frac{1}{6} \\zeta_{12}^{2} & \\frac{1}{6} & -\\frac{1}{6} & \\frac{1}{6} \\zeta_{12}^{2} - \\frac{1}{6} & -\\frac{1}{6} \\zeta_{12}^{2} + \\frac{1}{6} & -\\frac{1}{6} \\zeta_{12}^{2} & \\frac{1}{6} \\zeta_{12}^{2} & 0 & 0 & 0 & 0 & 0 & 0 & 0 & 0 & 0 & 0 & 0 & 0 & 0 & 0 & 0 & 0 & 0 & 0 & 0 & 0 & 0 & 0 & 0 & 0 & 0 & 0 & 0 & 0 & 0 & 0 & 0 & 0 & 0 & 0 & 0 & 0 & \\frac{1}{6} & -\\frac{1}{6} & -\\frac{1}{6} \\zeta_{12}^{2} & \\frac{1}{6} \\zeta_{12}^{2} & \\frac{1}{6} \\zeta_{12}^{2} - \\frac{1}{6} & -\\frac{1}{6} \\zeta_{12}^{2} + \\frac{1}{6} & \\frac{1}{6} & -\\frac{1}{6} & -\\frac{1}{6} \\zeta_{12}^{2} & \\frac{1}{6} \\zeta_{12}^{2} & \\frac{1}{6} \\zeta_{12}^{2} - \\frac{1}{6} & -\\frac{1}{6} \\zeta_{12}^{2} + \\frac{1}{6} & \\frac{1}{6} & -\\frac{1}{6} & -\\frac{1}{6} \\zeta_{12}^{2} & \\frac{1}{6} \\zeta_{12}^{2} & \\frac{1}{6} \\zeta_{12}^{2} - \\frac{1}{6} & -\\frac{1}{6} \\zeta_{12}^{2} + \\frac{1}{6} \\\\\n",
       "\\frac{1}{6} & -\\frac{1}{6} & \\frac{1}{6} \\zeta_{12}^{2} - \\frac{1}{6} & -\\frac{1}{6} \\zeta_{12}^{2} + \\frac{1}{6} & -\\frac{1}{6} \\zeta_{12}^{2} & \\frac{1}{6} \\zeta_{12}^{2} & \\frac{1}{6} & -\\frac{1}{6} & \\frac{1}{6} \\zeta_{12}^{2} - \\frac{1}{6} & -\\frac{1}{6} \\zeta_{12}^{2} + \\frac{1}{6} & -\\frac{1}{6} \\zeta_{12}^{2} & \\frac{1}{6} \\zeta_{12}^{2} & \\frac{1}{6} & -\\frac{1}{6} & \\frac{1}{6} \\zeta_{12}^{2} - \\frac{1}{6} & -\\frac{1}{6} \\zeta_{12}^{2} + \\frac{1}{6} & -\\frac{1}{6} \\zeta_{12}^{2} & \\frac{1}{6} \\zeta_{12}^{2} & 0 & 0 & 0 & 0 & 0 & 0 & 0 & 0 & 0 & 0 & 0 & 0 & 0 & 0 & 0 & 0 & 0 & 0 & 0 & 0 & 0 & 0 & 0 & 0 & 0 & 0 & 0 & 0 & 0 & 0 & 0 & 0 & 0 & 0 & 0 & 0 & -\\frac{1}{6} & \\frac{1}{6} & \\frac{1}{6} \\zeta_{12}^{2} & -\\frac{1}{6} \\zeta_{12}^{2} & -\\frac{1}{6} \\zeta_{12}^{2} + \\frac{1}{6} & \\frac{1}{6} \\zeta_{12}^{2} - \\frac{1}{6} & -\\frac{1}{6} & \\frac{1}{6} & \\frac{1}{6} \\zeta_{12}^{2} & -\\frac{1}{6} \\zeta_{12}^{2} & -\\frac{1}{6} \\zeta_{12}^{2} + \\frac{1}{6} & \\frac{1}{6} \\zeta_{12}^{2} - \\frac{1}{6} & -\\frac{1}{6} & \\frac{1}{6} & \\frac{1}{6} \\zeta_{12}^{2} & -\\frac{1}{6} \\zeta_{12}^{2} & -\\frac{1}{6} \\zeta_{12}^{2} + \\frac{1}{6} & \\frac{1}{6} \\zeta_{12}^{2} - \\frac{1}{6} \\\\\n",
       "\\frac{1}{6} & -\\frac{1}{6} & -\\frac{1}{6} \\zeta_{12}^{2} & \\frac{1}{6} \\zeta_{12}^{2} & \\frac{1}{6} \\zeta_{12}^{2} - \\frac{1}{6} & -\\frac{1}{6} \\zeta_{12}^{2} + \\frac{1}{6} & \\frac{1}{6} & -\\frac{1}{6} & -\\frac{1}{6} \\zeta_{12}^{2} & \\frac{1}{6} \\zeta_{12}^{2} & \\frac{1}{6} \\zeta_{12}^{2} - \\frac{1}{6} & -\\frac{1}{6} \\zeta_{12}^{2} + \\frac{1}{6} & \\frac{1}{6} & -\\frac{1}{6} & -\\frac{1}{6} \\zeta_{12}^{2} & \\frac{1}{6} \\zeta_{12}^{2} & \\frac{1}{6} \\zeta_{12}^{2} - \\frac{1}{6} & -\\frac{1}{6} \\zeta_{12}^{2} + \\frac{1}{6} & 0 & 0 & 0 & 0 & 0 & 0 & 0 & 0 & 0 & 0 & 0 & 0 & 0 & 0 & 0 & 0 & 0 & 0 & 0 & 0 & 0 & 0 & 0 & 0 & 0 & 0 & 0 & 0 & 0 & 0 & 0 & 0 & 0 & 0 & 0 & 0 & \\frac{1}{6} & -\\frac{1}{6} & \\frac{1}{6} \\zeta_{12}^{2} - \\frac{1}{6} & -\\frac{1}{6} \\zeta_{12}^{2} + \\frac{1}{6} & -\\frac{1}{6} \\zeta_{12}^{2} & \\frac{1}{6} \\zeta_{12}^{2} & \\frac{1}{6} & -\\frac{1}{6} & \\frac{1}{6} \\zeta_{12}^{2} - \\frac{1}{6} & -\\frac{1}{6} \\zeta_{12}^{2} + \\frac{1}{6} & -\\frac{1}{6} \\zeta_{12}^{2} & \\frac{1}{6} \\zeta_{12}^{2} & \\frac{1}{6} & -\\frac{1}{6} & \\frac{1}{6} \\zeta_{12}^{2} - \\frac{1}{6} & -\\frac{1}{6} \\zeta_{12}^{2} + \\frac{1}{6} & -\\frac{1}{6} \\zeta_{12}^{2} & \\frac{1}{6} \\zeta_{12}^{2} \\\\\n",
       "\\frac{1}{6} & -\\frac{1}{6} & -\\frac{1}{6} \\zeta_{12}^{2} & \\frac{1}{6} \\zeta_{12}^{2} & \\frac{1}{6} \\zeta_{12}^{2} - \\frac{1}{6} & -\\frac{1}{6} \\zeta_{12}^{2} + \\frac{1}{6} & \\frac{1}{6} & -\\frac{1}{6} & -\\frac{1}{6} \\zeta_{12}^{2} & \\frac{1}{6} \\zeta_{12}^{2} & \\frac{1}{6} \\zeta_{12}^{2} - \\frac{1}{6} & -\\frac{1}{6} \\zeta_{12}^{2} + \\frac{1}{6} & \\frac{1}{6} & -\\frac{1}{6} & -\\frac{1}{6} \\zeta_{12}^{2} & \\frac{1}{6} \\zeta_{12}^{2} & \\frac{1}{6} \\zeta_{12}^{2} - \\frac{1}{6} & -\\frac{1}{6} \\zeta_{12}^{2} + \\frac{1}{6} & 0 & 0 & 0 & 0 & 0 & 0 & 0 & 0 & 0 & 0 & 0 & 0 & 0 & 0 & 0 & 0 & 0 & 0 & 0 & 0 & 0 & 0 & 0 & 0 & 0 & 0 & 0 & 0 & 0 & 0 & 0 & 0 & 0 & 0 & 0 & 0 & -\\frac{1}{6} & \\frac{1}{6} & -\\frac{1}{6} \\zeta_{12}^{2} + \\frac{1}{6} & \\frac{1}{6} \\zeta_{12}^{2} - \\frac{1}{6} & \\frac{1}{6} \\zeta_{12}^{2} & -\\frac{1}{6} \\zeta_{12}^{2} & -\\frac{1}{6} & \\frac{1}{6} & -\\frac{1}{6} \\zeta_{12}^{2} + \\frac{1}{6} & \\frac{1}{6} \\zeta_{12}^{2} - \\frac{1}{6} & \\frac{1}{6} \\zeta_{12}^{2} & -\\frac{1}{6} \\zeta_{12}^{2} & -\\frac{1}{6} & \\frac{1}{6} & -\\frac{1}{6} \\zeta_{12}^{2} + \\frac{1}{6} & \\frac{1}{6} \\zeta_{12}^{2} - \\frac{1}{6} & \\frac{1}{6} \\zeta_{12}^{2} & -\\frac{1}{6} \\zeta_{12}^{2} \\\\\n",
       "\\frac{1}{6} & -\\frac{1}{6} & \\frac{1}{6} & -\\frac{1}{6} & \\frac{1}{6} & -\\frac{1}{6} & \\frac{1}{6} \\zeta_{12}^{2} - \\frac{1}{6} & -\\frac{1}{6} \\zeta_{12}^{2} + \\frac{1}{6} & \\frac{1}{6} \\zeta_{12}^{2} - \\frac{1}{6} & -\\frac{1}{6} \\zeta_{12}^{2} + \\frac{1}{6} & \\frac{1}{6} \\zeta_{12}^{2} - \\frac{1}{6} & -\\frac{1}{6} \\zeta_{12}^{2} + \\frac{1}{6} & -\\frac{1}{6} \\zeta_{12}^{2} & \\frac{1}{6} \\zeta_{12}^{2} & -\\frac{1}{6} \\zeta_{12}^{2} & \\frac{1}{6} \\zeta_{12}^{2} & -\\frac{1}{6} \\zeta_{12}^{2} & \\frac{1}{6} \\zeta_{12}^{2} & 0 & 0 & 0 & 0 & 0 & 0 & 0 & 0 & 0 & 0 & 0 & 0 & 0 & 0 & 0 & 0 & 0 & 0 & 0 & 0 & 0 & 0 & 0 & 0 & 0 & 0 & 0 & 0 & 0 & 0 & 0 & 0 & 0 & 0 & 0 & 0 & \\frac{1}{6} & -\\frac{1}{6} & \\frac{1}{6} & -\\frac{1}{6} & \\frac{1}{6} & -\\frac{1}{6} & -\\frac{1}{6} \\zeta_{12}^{2} & \\frac{1}{6} \\zeta_{12}^{2} & -\\frac{1}{6} \\zeta_{12}^{2} & \\frac{1}{6} \\zeta_{12}^{2} & -\\frac{1}{6} \\zeta_{12}^{2} & \\frac{1}{6} \\zeta_{12}^{2} & \\frac{1}{6} \\zeta_{12}^{2} - \\frac{1}{6} & -\\frac{1}{6} \\zeta_{12}^{2} + \\frac{1}{6} & \\frac{1}{6} \\zeta_{12}^{2} - \\frac{1}{6} & -\\frac{1}{6} \\zeta_{12}^{2} + \\frac{1}{6} & \\frac{1}{6} \\zeta_{12}^{2} - \\frac{1}{6} & -\\frac{1}{6} \\zeta_{12}^{2} + \\frac{1}{6} \\\\\n",
       "\\frac{1}{6} & -\\frac{1}{6} & \\frac{1}{6} & -\\frac{1}{6} & \\frac{1}{6} & -\\frac{1}{6} & \\frac{1}{6} \\zeta_{12}^{2} - \\frac{1}{6} & -\\frac{1}{6} \\zeta_{12}^{2} + \\frac{1}{6} & \\frac{1}{6} \\zeta_{12}^{2} - \\frac{1}{6} & -\\frac{1}{6} \\zeta_{12}^{2} + \\frac{1}{6} & \\frac{1}{6} \\zeta_{12}^{2} - \\frac{1}{6} & -\\frac{1}{6} \\zeta_{12}^{2} + \\frac{1}{6} & -\\frac{1}{6} \\zeta_{12}^{2} & \\frac{1}{6} \\zeta_{12}^{2} & -\\frac{1}{6} \\zeta_{12}^{2} & \\frac{1}{6} \\zeta_{12}^{2} & -\\frac{1}{6} \\zeta_{12}^{2} & \\frac{1}{6} \\zeta_{12}^{2} & 0 & 0 & 0 & 0 & 0 & 0 & 0 & 0 & 0 & 0 & 0 & 0 & 0 & 0 & 0 & 0 & 0 & 0 & 0 & 0 & 0 & 0 & 0 & 0 & 0 & 0 & 0 & 0 & 0 & 0 & 0 & 0 & 0 & 0 & 0 & 0 & -\\frac{1}{6} & \\frac{1}{6} & -\\frac{1}{6} & \\frac{1}{6} & -\\frac{1}{6} & \\frac{1}{6} & \\frac{1}{6} \\zeta_{12}^{2} & -\\frac{1}{6} \\zeta_{12}^{2} & \\frac{1}{6} \\zeta_{12}^{2} & -\\frac{1}{6} \\zeta_{12}^{2} & \\frac{1}{6} \\zeta_{12}^{2} & -\\frac{1}{6} \\zeta_{12}^{2} & -\\frac{1}{6} \\zeta_{12}^{2} + \\frac{1}{6} & \\frac{1}{6} \\zeta_{12}^{2} - \\frac{1}{6} & -\\frac{1}{6} \\zeta_{12}^{2} + \\frac{1}{6} & \\frac{1}{6} \\zeta_{12}^{2} - \\frac{1}{6} & -\\frac{1}{6} \\zeta_{12}^{2} + \\frac{1}{6} & \\frac{1}{6} \\zeta_{12}^{2} - \\frac{1}{6} \\\\\n",
       "\\frac{1}{6} & -\\frac{1}{6} & \\frac{1}{6} \\zeta_{12}^{2} - \\frac{1}{6} & -\\frac{1}{6} \\zeta_{12}^{2} + \\frac{1}{6} & -\\frac{1}{6} \\zeta_{12}^{2} & \\frac{1}{6} \\zeta_{12}^{2} & \\frac{1}{6} \\zeta_{12}^{2} - \\frac{1}{6} & -\\frac{1}{6} \\zeta_{12}^{2} + \\frac{1}{6} & -\\frac{1}{6} \\zeta_{12}^{2} & \\frac{1}{6} \\zeta_{12}^{2} & \\frac{1}{6} & -\\frac{1}{6} & -\\frac{1}{6} \\zeta_{12}^{2} & \\frac{1}{6} \\zeta_{12}^{2} & \\frac{1}{6} & -\\frac{1}{6} & \\frac{1}{6} \\zeta_{12}^{2} - \\frac{1}{6} & -\\frac{1}{6} \\zeta_{12}^{2} + \\frac{1}{6} & 0 & 0 & 0 & 0 & 0 & 0 & 0 & 0 & 0 & 0 & 0 & 0 & 0 & 0 & 0 & 0 & 0 & 0 & 0 & 0 & 0 & 0 & 0 & 0 & 0 & 0 & 0 & 0 & 0 & 0 & 0 & 0 & 0 & 0 & 0 & 0 & \\frac{1}{6} & -\\frac{1}{6} & -\\frac{1}{6} \\zeta_{12}^{2} & \\frac{1}{6} \\zeta_{12}^{2} & \\frac{1}{6} \\zeta_{12}^{2} - \\frac{1}{6} & -\\frac{1}{6} \\zeta_{12}^{2} + \\frac{1}{6} & -\\frac{1}{6} \\zeta_{12}^{2} & \\frac{1}{6} \\zeta_{12}^{2} & \\frac{1}{6} \\zeta_{12}^{2} - \\frac{1}{6} & -\\frac{1}{6} \\zeta_{12}^{2} + \\frac{1}{6} & \\frac{1}{6} & -\\frac{1}{6} & \\frac{1}{6} \\zeta_{12}^{2} - \\frac{1}{6} & -\\frac{1}{6} \\zeta_{12}^{2} + \\frac{1}{6} & \\frac{1}{6} & -\\frac{1}{6} & -\\frac{1}{6} \\zeta_{12}^{2} & \\frac{1}{6} \\zeta_{12}^{2} \\\\\n",
       "\\frac{1}{6} & -\\frac{1}{6} & \\frac{1}{6} \\zeta_{12}^{2} - \\frac{1}{6} & -\\frac{1}{6} \\zeta_{12}^{2} + \\frac{1}{6} & -\\frac{1}{6} \\zeta_{12}^{2} & \\frac{1}{6} \\zeta_{12}^{2} & \\frac{1}{6} \\zeta_{12}^{2} - \\frac{1}{6} & -\\frac{1}{6} \\zeta_{12}^{2} + \\frac{1}{6} & -\\frac{1}{6} \\zeta_{12}^{2} & \\frac{1}{6} \\zeta_{12}^{2} & \\frac{1}{6} & -\\frac{1}{6} & -\\frac{1}{6} \\zeta_{12}^{2} & \\frac{1}{6} \\zeta_{12}^{2} & \\frac{1}{6} & -\\frac{1}{6} & \\frac{1}{6} \\zeta_{12}^{2} - \\frac{1}{6} & -\\frac{1}{6} \\zeta_{12}^{2} + \\frac{1}{6} & 0 & 0 & 0 & 0 & 0 & 0 & 0 & 0 & 0 & 0 & 0 & 0 & 0 & 0 & 0 & 0 & 0 & 0 & 0 & 0 & 0 & 0 & 0 & 0 & 0 & 0 & 0 & 0 & 0 & 0 & 0 & 0 & 0 & 0 & 0 & 0 & -\\frac{1}{6} & \\frac{1}{6} & \\frac{1}{6} \\zeta_{12}^{2} & -\\frac{1}{6} \\zeta_{12}^{2} & -\\frac{1}{6} \\zeta_{12}^{2} + \\frac{1}{6} & \\frac{1}{6} \\zeta_{12}^{2} - \\frac{1}{6} & \\frac{1}{6} \\zeta_{12}^{2} & -\\frac{1}{6} \\zeta_{12}^{2} & -\\frac{1}{6} \\zeta_{12}^{2} + \\frac{1}{6} & \\frac{1}{6} \\zeta_{12}^{2} - \\frac{1}{6} & -\\frac{1}{6} & \\frac{1}{6} & -\\frac{1}{6} \\zeta_{12}^{2} + \\frac{1}{6} & \\frac{1}{6} \\zeta_{12}^{2} - \\frac{1}{6} & -\\frac{1}{6} & \\frac{1}{6} & \\frac{1}{6} \\zeta_{12}^{2} & -\\frac{1}{6} \\zeta_{12}^{2} \\\\\n",
       "\\frac{1}{6} & -\\frac{1}{6} & -\\frac{1}{6} \\zeta_{12}^{2} & \\frac{1}{6} \\zeta_{12}^{2} & \\frac{1}{6} \\zeta_{12}^{2} - \\frac{1}{6} & -\\frac{1}{6} \\zeta_{12}^{2} + \\frac{1}{6} & \\frac{1}{6} \\zeta_{12}^{2} - \\frac{1}{6} & -\\frac{1}{6} \\zeta_{12}^{2} + \\frac{1}{6} & \\frac{1}{6} & -\\frac{1}{6} & -\\frac{1}{6} \\zeta_{12}^{2} & \\frac{1}{6} \\zeta_{12}^{2} & -\\frac{1}{6} \\zeta_{12}^{2} & \\frac{1}{6} \\zeta_{12}^{2} & \\frac{1}{6} \\zeta_{12}^{2} - \\frac{1}{6} & -\\frac{1}{6} \\zeta_{12}^{2} + \\frac{1}{6} & \\frac{1}{6} & -\\frac{1}{6} & 0 & 0 & 0 & 0 & 0 & 0 & 0 & 0 & 0 & 0 & 0 & 0 & 0 & 0 & 0 & 0 & 0 & 0 & 0 & 0 & 0 & 0 & 0 & 0 & 0 & 0 & 0 & 0 & 0 & 0 & 0 & 0 & 0 & 0 & 0 & 0 & \\frac{1}{6} & -\\frac{1}{6} & \\frac{1}{6} \\zeta_{12}^{2} - \\frac{1}{6} & -\\frac{1}{6} \\zeta_{12}^{2} + \\frac{1}{6} & -\\frac{1}{6} \\zeta_{12}^{2} & \\frac{1}{6} \\zeta_{12}^{2} & -\\frac{1}{6} \\zeta_{12}^{2} & \\frac{1}{6} \\zeta_{12}^{2} & \\frac{1}{6} & -\\frac{1}{6} & \\frac{1}{6} \\zeta_{12}^{2} - \\frac{1}{6} & -\\frac{1}{6} \\zeta_{12}^{2} + \\frac{1}{6} & \\frac{1}{6} \\zeta_{12}^{2} - \\frac{1}{6} & -\\frac{1}{6} \\zeta_{12}^{2} + \\frac{1}{6} & -\\frac{1}{6} \\zeta_{12}^{2} & \\frac{1}{6} \\zeta_{12}^{2} & \\frac{1}{6} & -\\frac{1}{6} \\\\\n",
       "\\frac{1}{6} & -\\frac{1}{6} & -\\frac{1}{6} \\zeta_{12}^{2} & \\frac{1}{6} \\zeta_{12}^{2} & \\frac{1}{6} \\zeta_{12}^{2} - \\frac{1}{6} & -\\frac{1}{6} \\zeta_{12}^{2} + \\frac{1}{6} & \\frac{1}{6} \\zeta_{12}^{2} - \\frac{1}{6} & -\\frac{1}{6} \\zeta_{12}^{2} + \\frac{1}{6} & \\frac{1}{6} & -\\frac{1}{6} & -\\frac{1}{6} \\zeta_{12}^{2} & \\frac{1}{6} \\zeta_{12}^{2} & -\\frac{1}{6} \\zeta_{12}^{2} & \\frac{1}{6} \\zeta_{12}^{2} & \\frac{1}{6} \\zeta_{12}^{2} - \\frac{1}{6} & -\\frac{1}{6} \\zeta_{12}^{2} + \\frac{1}{6} & \\frac{1}{6} & -\\frac{1}{6} & 0 & 0 & 0 & 0 & 0 & 0 & 0 & 0 & 0 & 0 & 0 & 0 & 0 & 0 & 0 & 0 & 0 & 0 & 0 & 0 & 0 & 0 & 0 & 0 & 0 & 0 & 0 & 0 & 0 & 0 & 0 & 0 & 0 & 0 & 0 & 0 & -\\frac{1}{6} & \\frac{1}{6} & -\\frac{1}{6} \\zeta_{12}^{2} + \\frac{1}{6} & \\frac{1}{6} \\zeta_{12}^{2} - \\frac{1}{6} & \\frac{1}{6} \\zeta_{12}^{2} & -\\frac{1}{6} \\zeta_{12}^{2} & \\frac{1}{6} \\zeta_{12}^{2} & -\\frac{1}{6} \\zeta_{12}^{2} & -\\frac{1}{6} & \\frac{1}{6} & -\\frac{1}{6} \\zeta_{12}^{2} + \\frac{1}{6} & \\frac{1}{6} \\zeta_{12}^{2} - \\frac{1}{6} & -\\frac{1}{6} \\zeta_{12}^{2} + \\frac{1}{6} & \\frac{1}{6} \\zeta_{12}^{2} - \\frac{1}{6} & \\frac{1}{6} \\zeta_{12}^{2} & -\\frac{1}{6} \\zeta_{12}^{2} & -\\frac{1}{6} & \\frac{1}{6} \\\\\n",
       "\\frac{1}{6} & -\\frac{1}{6} & \\frac{1}{6} & -\\frac{1}{6} & \\frac{1}{6} & -\\frac{1}{6} & -\\frac{1}{6} \\zeta_{12}^{2} & \\frac{1}{6} \\zeta_{12}^{2} & -\\frac{1}{6} \\zeta_{12}^{2} & \\frac{1}{6} \\zeta_{12}^{2} & -\\frac{1}{6} \\zeta_{12}^{2} & \\frac{1}{6} \\zeta_{12}^{2} & \\frac{1}{6} \\zeta_{12}^{2} - \\frac{1}{6} & -\\frac{1}{6} \\zeta_{12}^{2} + \\frac{1}{6} & \\frac{1}{6} \\zeta_{12}^{2} - \\frac{1}{6} & -\\frac{1}{6} \\zeta_{12}^{2} + \\frac{1}{6} & \\frac{1}{6} \\zeta_{12}^{2} - \\frac{1}{6} & -\\frac{1}{6} \\zeta_{12}^{2} + \\frac{1}{6} & 0 & 0 & 0 & 0 & 0 & 0 & 0 & 0 & 0 & 0 & 0 & 0 & 0 & 0 & 0 & 0 & 0 & 0 & 0 & 0 & 0 & 0 & 0 & 0 & 0 & 0 & 0 & 0 & 0 & 0 & 0 & 0 & 0 & 0 & 0 & 0 & \\frac{1}{6} & -\\frac{1}{6} & \\frac{1}{6} & -\\frac{1}{6} & \\frac{1}{6} & -\\frac{1}{6} & \\frac{1}{6} \\zeta_{12}^{2} - \\frac{1}{6} & -\\frac{1}{6} \\zeta_{12}^{2} + \\frac{1}{6} & \\frac{1}{6} \\zeta_{12}^{2} - \\frac{1}{6} & -\\frac{1}{6} \\zeta_{12}^{2} + \\frac{1}{6} & \\frac{1}{6} \\zeta_{12}^{2} - \\frac{1}{6} & -\\frac{1}{6} \\zeta_{12}^{2} + \\frac{1}{6} & -\\frac{1}{6} \\zeta_{12}^{2} & \\frac{1}{6} \\zeta_{12}^{2} & -\\frac{1}{6} \\zeta_{12}^{2} & \\frac{1}{6} \\zeta_{12}^{2} & -\\frac{1}{6} \\zeta_{12}^{2} & \\frac{1}{6} \\zeta_{12}^{2} \\\\\n",
       "\\frac{1}{6} & -\\frac{1}{6} & \\frac{1}{6} & -\\frac{1}{6} & \\frac{1}{6} & -\\frac{1}{6} & -\\frac{1}{6} \\zeta_{12}^{2} & \\frac{1}{6} \\zeta_{12}^{2} & -\\frac{1}{6} \\zeta_{12}^{2} & \\frac{1}{6} \\zeta_{12}^{2} & -\\frac{1}{6} \\zeta_{12}^{2} & \\frac{1}{6} \\zeta_{12}^{2} & \\frac{1}{6} \\zeta_{12}^{2} - \\frac{1}{6} & -\\frac{1}{6} \\zeta_{12}^{2} + \\frac{1}{6} & \\frac{1}{6} \\zeta_{12}^{2} - \\frac{1}{6} & -\\frac{1}{6} \\zeta_{12}^{2} + \\frac{1}{6} & \\frac{1}{6} \\zeta_{12}^{2} - \\frac{1}{6} & -\\frac{1}{6} \\zeta_{12}^{2} + \\frac{1}{6} & 0 & 0 & 0 & 0 & 0 & 0 & 0 & 0 & 0 & 0 & 0 & 0 & 0 & 0 & 0 & 0 & 0 & 0 & 0 & 0 & 0 & 0 & 0 & 0 & 0 & 0 & 0 & 0 & 0 & 0 & 0 & 0 & 0 & 0 & 0 & 0 & -\\frac{1}{6} & \\frac{1}{6} & -\\frac{1}{6} & \\frac{1}{6} & -\\frac{1}{6} & \\frac{1}{6} & -\\frac{1}{6} \\zeta_{12}^{2} + \\frac{1}{6} & \\frac{1}{6} \\zeta_{12}^{2} - \\frac{1}{6} & -\\frac{1}{6} \\zeta_{12}^{2} + \\frac{1}{6} & \\frac{1}{6} \\zeta_{12}^{2} - \\frac{1}{6} & -\\frac{1}{6} \\zeta_{12}^{2} + \\frac{1}{6} & \\frac{1}{6} \\zeta_{12}^{2} - \\frac{1}{6} & \\frac{1}{6} \\zeta_{12}^{2} & -\\frac{1}{6} \\zeta_{12}^{2} & \\frac{1}{6} \\zeta_{12}^{2} & -\\frac{1}{6} \\zeta_{12}^{2} & \\frac{1}{6} \\zeta_{12}^{2} & -\\frac{1}{6} \\zeta_{12}^{2} \\\\\n",
       "\\frac{1}{6} & -\\frac{1}{6} & \\frac{1}{6} \\zeta_{12}^{2} - \\frac{1}{6} & -\\frac{1}{6} \\zeta_{12}^{2} + \\frac{1}{6} & -\\frac{1}{6} \\zeta_{12}^{2} & \\frac{1}{6} \\zeta_{12}^{2} & -\\frac{1}{6} \\zeta_{12}^{2} & \\frac{1}{6} \\zeta_{12}^{2} & \\frac{1}{6} & -\\frac{1}{6} & \\frac{1}{6} \\zeta_{12}^{2} - \\frac{1}{6} & -\\frac{1}{6} \\zeta_{12}^{2} + \\frac{1}{6} & \\frac{1}{6} \\zeta_{12}^{2} - \\frac{1}{6} & -\\frac{1}{6} \\zeta_{12}^{2} + \\frac{1}{6} & -\\frac{1}{6} \\zeta_{12}^{2} & \\frac{1}{6} \\zeta_{12}^{2} & \\frac{1}{6} & -\\frac{1}{6} & 0 & 0 & 0 & 0 & 0 & 0 & 0 & 0 & 0 & 0 & 0 & 0 & 0 & 0 & 0 & 0 & 0 & 0 & 0 & 0 & 0 & 0 & 0 & 0 & 0 & 0 & 0 & 0 & 0 & 0 & 0 & 0 & 0 & 0 & 0 & 0 & \\frac{1}{6} & -\\frac{1}{6} & -\\frac{1}{6} \\zeta_{12}^{2} & \\frac{1}{6} \\zeta_{12}^{2} & \\frac{1}{6} \\zeta_{12}^{2} - \\frac{1}{6} & -\\frac{1}{6} \\zeta_{12}^{2} + \\frac{1}{6} & \\frac{1}{6} \\zeta_{12}^{2} - \\frac{1}{6} & -\\frac{1}{6} \\zeta_{12}^{2} + \\frac{1}{6} & \\frac{1}{6} & -\\frac{1}{6} & -\\frac{1}{6} \\zeta_{12}^{2} & \\frac{1}{6} \\zeta_{12}^{2} & -\\frac{1}{6} \\zeta_{12}^{2} & \\frac{1}{6} \\zeta_{12}^{2} & \\frac{1}{6} \\zeta_{12}^{2} - \\frac{1}{6} & -\\frac{1}{6} \\zeta_{12}^{2} + \\frac{1}{6} & \\frac{1}{6} & -\\frac{1}{6} \\\\\n",
       "\\frac{1}{6} & -\\frac{1}{6} & \\frac{1}{6} \\zeta_{12}^{2} - \\frac{1}{6} & -\\frac{1}{6} \\zeta_{12}^{2} + \\frac{1}{6} & -\\frac{1}{6} \\zeta_{12}^{2} & \\frac{1}{6} \\zeta_{12}^{2} & -\\frac{1}{6} \\zeta_{12}^{2} & \\frac{1}{6} \\zeta_{12}^{2} & \\frac{1}{6} & -\\frac{1}{6} & \\frac{1}{6} \\zeta_{12}^{2} - \\frac{1}{6} & -\\frac{1}{6} \\zeta_{12}^{2} + \\frac{1}{6} & \\frac{1}{6} \\zeta_{12}^{2} - \\frac{1}{6} & -\\frac{1}{6} \\zeta_{12}^{2} + \\frac{1}{6} & -\\frac{1}{6} \\zeta_{12}^{2} & \\frac{1}{6} \\zeta_{12}^{2} & \\frac{1}{6} & -\\frac{1}{6} & 0 & 0 & 0 & 0 & 0 & 0 & 0 & 0 & 0 & 0 & 0 & 0 & 0 & 0 & 0 & 0 & 0 & 0 & 0 & 0 & 0 & 0 & 0 & 0 & 0 & 0 & 0 & 0 & 0 & 0 & 0 & 0 & 0 & 0 & 0 & 0 & -\\frac{1}{6} & \\frac{1}{6} & \\frac{1}{6} \\zeta_{12}^{2} & -\\frac{1}{6} \\zeta_{12}^{2} & -\\frac{1}{6} \\zeta_{12}^{2} + \\frac{1}{6} & \\frac{1}{6} \\zeta_{12}^{2} - \\frac{1}{6} & -\\frac{1}{6} \\zeta_{12}^{2} + \\frac{1}{6} & \\frac{1}{6} \\zeta_{12}^{2} - \\frac{1}{6} & -\\frac{1}{6} & \\frac{1}{6} & \\frac{1}{6} \\zeta_{12}^{2} & -\\frac{1}{6} \\zeta_{12}^{2} & \\frac{1}{6} \\zeta_{12}^{2} & -\\frac{1}{6} \\zeta_{12}^{2} & -\\frac{1}{6} \\zeta_{12}^{2} + \\frac{1}{6} & \\frac{1}{6} \\zeta_{12}^{2} - \\frac{1}{6} & -\\frac{1}{6} & \\frac{1}{6} \\\\\n",
       "\\frac{1}{6} & -\\frac{1}{6} & -\\frac{1}{6} \\zeta_{12}^{2} & \\frac{1}{6} \\zeta_{12}^{2} & \\frac{1}{6} \\zeta_{12}^{2} - \\frac{1}{6} & -\\frac{1}{6} \\zeta_{12}^{2} + \\frac{1}{6} & -\\frac{1}{6} \\zeta_{12}^{2} & \\frac{1}{6} \\zeta_{12}^{2} & \\frac{1}{6} \\zeta_{12}^{2} - \\frac{1}{6} & -\\frac{1}{6} \\zeta_{12}^{2} + \\frac{1}{6} & \\frac{1}{6} & -\\frac{1}{6} & \\frac{1}{6} \\zeta_{12}^{2} - \\frac{1}{6} & -\\frac{1}{6} \\zeta_{12}^{2} + \\frac{1}{6} & \\frac{1}{6} & -\\frac{1}{6} & -\\frac{1}{6} \\zeta_{12}^{2} & \\frac{1}{6} \\zeta_{12}^{2} & 0 & 0 & 0 & 0 & 0 & 0 & 0 & 0 & 0 & 0 & 0 & 0 & 0 & 0 & 0 & 0 & 0 & 0 & 0 & 0 & 0 & 0 & 0 & 0 & 0 & 0 & 0 & 0 & 0 & 0 & 0 & 0 & 0 & 0 & 0 & 0 & \\frac{1}{6} & -\\frac{1}{6} & \\frac{1}{6} \\zeta_{12}^{2} - \\frac{1}{6} & -\\frac{1}{6} \\zeta_{12}^{2} + \\frac{1}{6} & -\\frac{1}{6} \\zeta_{12}^{2} & \\frac{1}{6} \\zeta_{12}^{2} & \\frac{1}{6} \\zeta_{12}^{2} - \\frac{1}{6} & -\\frac{1}{6} \\zeta_{12}^{2} + \\frac{1}{6} & -\\frac{1}{6} \\zeta_{12}^{2} & \\frac{1}{6} \\zeta_{12}^{2} & \\frac{1}{6} & -\\frac{1}{6} & -\\frac{1}{6} \\zeta_{12}^{2} & \\frac{1}{6} \\zeta_{12}^{2} & \\frac{1}{6} & -\\frac{1}{6} & \\frac{1}{6} \\zeta_{12}^{2} - \\frac{1}{6} & -\\frac{1}{6} \\zeta_{12}^{2} + \\frac{1}{6} \\\\\n",
       "\\frac{1}{6} & -\\frac{1}{6} & -\\frac{1}{6} \\zeta_{12}^{2} & \\frac{1}{6} \\zeta_{12}^{2} & \\frac{1}{6} \\zeta_{12}^{2} - \\frac{1}{6} & -\\frac{1}{6} \\zeta_{12}^{2} + \\frac{1}{6} & -\\frac{1}{6} \\zeta_{12}^{2} & \\frac{1}{6} \\zeta_{12}^{2} & \\frac{1}{6} \\zeta_{12}^{2} - \\frac{1}{6} & -\\frac{1}{6} \\zeta_{12}^{2} + \\frac{1}{6} & \\frac{1}{6} & -\\frac{1}{6} & \\frac{1}{6} \\zeta_{12}^{2} - \\frac{1}{6} & -\\frac{1}{6} \\zeta_{12}^{2} + \\frac{1}{6} & \\frac{1}{6} & -\\frac{1}{6} & -\\frac{1}{6} \\zeta_{12}^{2} & \\frac{1}{6} \\zeta_{12}^{2} & 0 & 0 & 0 & 0 & 0 & 0 & 0 & 0 & 0 & 0 & 0 & 0 & 0 & 0 & 0 & 0 & 0 & 0 & 0 & 0 & 0 & 0 & 0 & 0 & 0 & 0 & 0 & 0 & 0 & 0 & 0 & 0 & 0 & 0 & 0 & 0 & -\\frac{1}{6} & \\frac{1}{6} & -\\frac{1}{6} \\zeta_{12}^{2} + \\frac{1}{6} & \\frac{1}{6} \\zeta_{12}^{2} - \\frac{1}{6} & \\frac{1}{6} \\zeta_{12}^{2} & -\\frac{1}{6} \\zeta_{12}^{2} & -\\frac{1}{6} \\zeta_{12}^{2} + \\frac{1}{6} & \\frac{1}{6} \\zeta_{12}^{2} - \\frac{1}{6} & \\frac{1}{6} \\zeta_{12}^{2} & -\\frac{1}{6} \\zeta_{12}^{2} & -\\frac{1}{6} & \\frac{1}{6} & \\frac{1}{6} \\zeta_{12}^{2} & -\\frac{1}{6} \\zeta_{12}^{2} & -\\frac{1}{6} & \\frac{1}{6} & -\\frac{1}{6} \\zeta_{12}^{2} + \\frac{1}{6} & \\frac{1}{6} \\zeta_{12}^{2} - \\frac{1}{6}\n",
       "\\end{array}\\right)"
      ]
     },
     "execution_count": 48,
     "metadata": {},
     "output_type": "execute_result"
    }
   ],
   "source": [
    "latex(S)"
   ]
  },
  {
   "cell_type": "code",
   "execution_count": 49,
   "metadata": {},
   "outputs": [
    {
     "data": {
      "text/plain": [
       "\\left(\\begin{array}{rrrrrrrrrrrrrrrrrr|rrrrrrrrrrrrrrrrrrrrrrrrrrrrrrrrrrrr|rrrrrrrrrrrrrrrrrr}\n",
       "1 & 0 & 0 & 0 & 0 & 0 & 0 & 0 & 0 & 0 & 0 & 0 & 0 & 0 & 0 & 0 & 0 & 0 & 0 & 0 & 0 & 0 & 0 & 0 & 0 & 0 & 0 & 0 & 0 & 0 & 0 & 0 & 0 & 0 & 0 & 0 & 0 & 0 & 0 & 0 & 0 & 0 & 0 & 0 & 0 & 0 & 0 & 0 & 0 & 0 & 0 & 0 & 0 & 0 & 0 & 0 & 0 & 0 & 0 & 0 & 0 & 0 & 0 & 0 & 0 & 0 & 0 & 0 & 0 & 0 & 0 & 0 \\\\\n",
       "0 & 1 & 0 & 0 & 0 & 0 & 0 & 0 & 0 & 0 & 0 & 0 & 0 & 0 & 0 & 0 & 0 & 0 & 0 & 0 & 0 & 0 & 0 & 0 & 0 & 0 & 0 & 0 & 0 & 0 & 0 & 0 & 0 & 0 & 0 & 0 & 0 & 0 & 0 & 0 & 0 & 0 & 0 & 0 & 0 & 0 & 0 & 0 & 0 & 0 & 0 & 0 & 0 & 0 & 0 & 0 & 0 & 0 & 0 & 0 & 0 & 0 & 0 & 0 & 0 & 0 & 0 & 0 & 0 & 0 & 0 & 0 \\\\\n",
       "0 & 0 & -\\zeta_{12}^{2} & 0 & 0 & 0 & 0 & 0 & 0 & 0 & 0 & 0 & 0 & 0 & 0 & 0 & 0 & 0 & 0 & 0 & 0 & 0 & 0 & 0 & 0 & 0 & 0 & 0 & 0 & 0 & 0 & 0 & 0 & 0 & 0 & 0 & 0 & 0 & 0 & 0 & 0 & 0 & 0 & 0 & 0 & 0 & 0 & 0 & 0 & 0 & 0 & 0 & 0 & 0 & 0 & 0 & 0 & 0 & 0 & 0 & 0 & 0 & 0 & 0 & 0 & 0 & 0 & 0 & 0 & 0 & 0 & 0 \\\\\n",
       "0 & 0 & 0 & -\\zeta_{12}^{2} & 0 & 0 & 0 & 0 & 0 & 0 & 0 & 0 & 0 & 0 & 0 & 0 & 0 & 0 & 0 & 0 & 0 & 0 & 0 & 0 & 0 & 0 & 0 & 0 & 0 & 0 & 0 & 0 & 0 & 0 & 0 & 0 & 0 & 0 & 0 & 0 & 0 & 0 & 0 & 0 & 0 & 0 & 0 & 0 & 0 & 0 & 0 & 0 & 0 & 0 & 0 & 0 & 0 & 0 & 0 & 0 & 0 & 0 & 0 & 0 & 0 & 0 & 0 & 0 & 0 & 0 & 0 & 0 \\\\\n",
       "0 & 0 & 0 & 0 & -\\zeta_{12}^{2} & 0 & 0 & 0 & 0 & 0 & 0 & 0 & 0 & 0 & 0 & 0 & 0 & 0 & 0 & 0 & 0 & 0 & 0 & 0 & 0 & 0 & 0 & 0 & 0 & 0 & 0 & 0 & 0 & 0 & 0 & 0 & 0 & 0 & 0 & 0 & 0 & 0 & 0 & 0 & 0 & 0 & 0 & 0 & 0 & 0 & 0 & 0 & 0 & 0 & 0 & 0 & 0 & 0 & 0 & 0 & 0 & 0 & 0 & 0 & 0 & 0 & 0 & 0 & 0 & 0 & 0 & 0 \\\\\n",
       "0 & 0 & 0 & 0 & 0 & -\\zeta_{12}^{2} & 0 & 0 & 0 & 0 & 0 & 0 & 0 & 0 & 0 & 0 & 0 & 0 & 0 & 0 & 0 & 0 & 0 & 0 & 0 & 0 & 0 & 0 & 0 & 0 & 0 & 0 & 0 & 0 & 0 & 0 & 0 & 0 & 0 & 0 & 0 & 0 & 0 & 0 & 0 & 0 & 0 & 0 & 0 & 0 & 0 & 0 & 0 & 0 & 0 & 0 & 0 & 0 & 0 & 0 & 0 & 0 & 0 & 0 & 0 & 0 & 0 & 0 & 0 & 0 & 0 & 0 \\\\\n",
       "0 & 0 & 0 & 0 & 0 & 0 & -\\zeta_{12}^{2} & 0 & 0 & 0 & 0 & 0 & 0 & 0 & 0 & 0 & 0 & 0 & 0 & 0 & 0 & 0 & 0 & 0 & 0 & 0 & 0 & 0 & 0 & 0 & 0 & 0 & 0 & 0 & 0 & 0 & 0 & 0 & 0 & 0 & 0 & 0 & 0 & 0 & 0 & 0 & 0 & 0 & 0 & 0 & 0 & 0 & 0 & 0 & 0 & 0 & 0 & 0 & 0 & 0 & 0 & 0 & 0 & 0 & 0 & 0 & 0 & 0 & 0 & 0 & 0 & 0 \\\\\n",
       "0 & 0 & 0 & 0 & 0 & 0 & 0 & -\\zeta_{12}^{2} & 0 & 0 & 0 & 0 & 0 & 0 & 0 & 0 & 0 & 0 & 0 & 0 & 0 & 0 & 0 & 0 & 0 & 0 & 0 & 0 & 0 & 0 & 0 & 0 & 0 & 0 & 0 & 0 & 0 & 0 & 0 & 0 & 0 & 0 & 0 & 0 & 0 & 0 & 0 & 0 & 0 & 0 & 0 & 0 & 0 & 0 & 0 & 0 & 0 & 0 & 0 & 0 & 0 & 0 & 0 & 0 & 0 & 0 & 0 & 0 & 0 & 0 & 0 & 0 \\\\\n",
       "0 & 0 & 0 & 0 & 0 & 0 & 0 & 0 & \\zeta_{12}^{2} - 1 & 0 & 0 & 0 & 0 & 0 & 0 & 0 & 0 & 0 & 0 & 0 & 0 & 0 & 0 & 0 & 0 & 0 & 0 & 0 & 0 & 0 & 0 & 0 & 0 & 0 & 0 & 0 & 0 & 0 & 0 & 0 & 0 & 0 & 0 & 0 & 0 & 0 & 0 & 0 & 0 & 0 & 0 & 0 & 0 & 0 & 0 & 0 & 0 & 0 & 0 & 0 & 0 & 0 & 0 & 0 & 0 & 0 & 0 & 0 & 0 & 0 & 0 & 0 \\\\\n",
       "0 & 0 & 0 & 0 & 0 & 0 & 0 & 0 & 0 & \\zeta_{12}^{2} - 1 & 0 & 0 & 0 & 0 & 0 & 0 & 0 & 0 & 0 & 0 & 0 & 0 & 0 & 0 & 0 & 0 & 0 & 0 & 0 & 0 & 0 & 0 & 0 & 0 & 0 & 0 & 0 & 0 & 0 & 0 & 0 & 0 & 0 & 0 & 0 & 0 & 0 & 0 & 0 & 0 & 0 & 0 & 0 & 0 & 0 & 0 & 0 & 0 & 0 & 0 & 0 & 0 & 0 & 0 & 0 & 0 & 0 & 0 & 0 & 0 & 0 & 0 \\\\\n",
       "0 & 0 & 0 & 0 & 0 & 0 & 0 & 0 & 0 & 0 & \\zeta_{12}^{2} - 1 & 0 & 0 & 0 & 0 & 0 & 0 & 0 & 0 & 0 & 0 & 0 & 0 & 0 & 0 & 0 & 0 & 0 & 0 & 0 & 0 & 0 & 0 & 0 & 0 & 0 & 0 & 0 & 0 & 0 & 0 & 0 & 0 & 0 & 0 & 0 & 0 & 0 & 0 & 0 & 0 & 0 & 0 & 0 & 0 & 0 & 0 & 0 & 0 & 0 & 0 & 0 & 0 & 0 & 0 & 0 & 0 & 0 & 0 & 0 & 0 & 0 \\\\\n",
       "0 & 0 & 0 & 0 & 0 & 0 & 0 & 0 & 0 & 0 & 0 & \\zeta_{12}^{2} - 1 & 0 & 0 & 0 & 0 & 0 & 0 & 0 & 0 & 0 & 0 & 0 & 0 & 0 & 0 & 0 & 0 & 0 & 0 & 0 & 0 & 0 & 0 & 0 & 0 & 0 & 0 & 0 & 0 & 0 & 0 & 0 & 0 & 0 & 0 & 0 & 0 & 0 & 0 & 0 & 0 & 0 & 0 & 0 & 0 & 0 & 0 & 0 & 0 & 0 & 0 & 0 & 0 & 0 & 0 & 0 & 0 & 0 & 0 & 0 & 0 \\\\\n",
       "0 & 0 & 0 & 0 & 0 & 0 & 0 & 0 & 0 & 0 & 0 & 0 & -\\zeta_{12}^{2} & 0 & 0 & 0 & 0 & 0 & 0 & 0 & 0 & 0 & 0 & 0 & 0 & 0 & 0 & 0 & 0 & 0 & 0 & 0 & 0 & 0 & 0 & 0 & 0 & 0 & 0 & 0 & 0 & 0 & 0 & 0 & 0 & 0 & 0 & 0 & 0 & 0 & 0 & 0 & 0 & 0 & 0 & 0 & 0 & 0 & 0 & 0 & 0 & 0 & 0 & 0 & 0 & 0 & 0 & 0 & 0 & 0 & 0 & 0 \\\\\n",
       "0 & 0 & 0 & 0 & 0 & 0 & 0 & 0 & 0 & 0 & 0 & 0 & 0 & -\\zeta_{12}^{2} & 0 & 0 & 0 & 0 & 0 & 0 & 0 & 0 & 0 & 0 & 0 & 0 & 0 & 0 & 0 & 0 & 0 & 0 & 0 & 0 & 0 & 0 & 0 & 0 & 0 & 0 & 0 & 0 & 0 & 0 & 0 & 0 & 0 & 0 & 0 & 0 & 0 & 0 & 0 & 0 & 0 & 0 & 0 & 0 & 0 & 0 & 0 & 0 & 0 & 0 & 0 & 0 & 0 & 0 & 0 & 0 & 0 & 0 \\\\\n",
       "0 & 0 & 0 & 0 & 0 & 0 & 0 & 0 & 0 & 0 & 0 & 0 & 0 & 0 & \\zeta_{12}^{2} - 1 & 0 & 0 & 0 & 0 & 0 & 0 & 0 & 0 & 0 & 0 & 0 & 0 & 0 & 0 & 0 & 0 & 0 & 0 & 0 & 0 & 0 & 0 & 0 & 0 & 0 & 0 & 0 & 0 & 0 & 0 & 0 & 0 & 0 & 0 & 0 & 0 & 0 & 0 & 0 & 0 & 0 & 0 & 0 & 0 & 0 & 0 & 0 & 0 & 0 & 0 & 0 & 0 & 0 & 0 & 0 & 0 & 0 \\\\\n",
       "0 & 0 & 0 & 0 & 0 & 0 & 0 & 0 & 0 & 0 & 0 & 0 & 0 & 0 & 0 & \\zeta_{12}^{2} - 1 & 0 & 0 & 0 & 0 & 0 & 0 & 0 & 0 & 0 & 0 & 0 & 0 & 0 & 0 & 0 & 0 & 0 & 0 & 0 & 0 & 0 & 0 & 0 & 0 & 0 & 0 & 0 & 0 & 0 & 0 & 0 & 0 & 0 & 0 & 0 & 0 & 0 & 0 & 0 & 0 & 0 & 0 & 0 & 0 & 0 & 0 & 0 & 0 & 0 & 0 & 0 & 0 & 0 & 0 & 0 & 0 \\\\\n",
       "0 & 0 & 0 & 0 & 0 & 0 & 0 & 0 & 0 & 0 & 0 & 0 & 0 & 0 & 0 & 0 & \\zeta_{12}^{2} - 1 & 0 & 0 & 0 & 0 & 0 & 0 & 0 & 0 & 0 & 0 & 0 & 0 & 0 & 0 & 0 & 0 & 0 & 0 & 0 & 0 & 0 & 0 & 0 & 0 & 0 & 0 & 0 & 0 & 0 & 0 & 0 & 0 & 0 & 0 & 0 & 0 & 0 & 0 & 0 & 0 & 0 & 0 & 0 & 0 & 0 & 0 & 0 & 0 & 0 & 0 & 0 & 0 & 0 & 0 & 0 \\\\\n",
       "0 & 0 & 0 & 0 & 0 & 0 & 0 & 0 & 0 & 0 & 0 & 0 & 0 & 0 & 0 & 0 & 0 & \\zeta_{12}^{2} - 1 & 0 & 0 & 0 & 0 & 0 & 0 & 0 & 0 & 0 & 0 & 0 & 0 & 0 & 0 & 0 & 0 & 0 & 0 & 0 & 0 & 0 & 0 & 0 & 0 & 0 & 0 & 0 & 0 & 0 & 0 & 0 & 0 & 0 & 0 & 0 & 0 & 0 & 0 & 0 & 0 & 0 & 0 & 0 & 0 & 0 & 0 & 0 & 0 & 0 & 0 & 0 & 0 & 0 & 0 \\\\\n",
       "\\hline\n",
       " 0 & 0 & 0 & 0 & 0 & 0 & 0 & 0 & 0 & 0 & 0 & 0 & 0 & 0 & 0 & 0 & 0 & 0 & 1 & 0 & 0 & 0 & 0 & 0 & 0 & 0 & 0 & 0 & 0 & 0 & 0 & 0 & 0 & 0 & 0 & 0 & 0 & 0 & 0 & 0 & 0 & 0 & 0 & 0 & 0 & 0 & 0 & 0 & 0 & 0 & 0 & 0 & 0 & 0 & 0 & 0 & 0 & 0 & 0 & 0 & 0 & 0 & 0 & 0 & 0 & 0 & 0 & 0 & 0 & 0 & 0 & 0 \\\\\n",
       "0 & 0 & 0 & 0 & 0 & 0 & 0 & 0 & 0 & 0 & 0 & 0 & 0 & 0 & 0 & 0 & 0 & 0 & 0 & 1 & 0 & 0 & 0 & 0 & 0 & 0 & 0 & 0 & 0 & 0 & 0 & 0 & 0 & 0 & 0 & 0 & 0 & 0 & 0 & 0 & 0 & 0 & 0 & 0 & 0 & 0 & 0 & 0 & 0 & 0 & 0 & 0 & 0 & 0 & 0 & 0 & 0 & 0 & 0 & 0 & 0 & 0 & 0 & 0 & 0 & 0 & 0 & 0 & 0 & 0 & 0 & 0 \\\\\n",
       "0 & 0 & 0 & 0 & 0 & 0 & 0 & 0 & 0 & 0 & 0 & 0 & 0 & 0 & 0 & 0 & 0 & 0 & 0 & 0 & \\zeta_{12}^{2} - 1 & 0 & 0 & 0 & 0 & 0 & 0 & 0 & 0 & 0 & 0 & 0 & 0 & 0 & 0 & 0 & 0 & 0 & 0 & 0 & 0 & 0 & 0 & 0 & 0 & 0 & 0 & 0 & 0 & 0 & 0 & 0 & 0 & 0 & 0 & 0 & 0 & 0 & 0 & 0 & 0 & 0 & 0 & 0 & 0 & 0 & 0 & 0 & 0 & 0 & 0 & 0 \\\\\n",
       "0 & 0 & 0 & 0 & 0 & 0 & 0 & 0 & 0 & 0 & 0 & 0 & 0 & 0 & 0 & 0 & 0 & 0 & 0 & 0 & 0 & 1 & 0 & 0 & 0 & 0 & 0 & 0 & 0 & 0 & 0 & 0 & 0 & 0 & 0 & 0 & 0 & 0 & 0 & 0 & 0 & 0 & 0 & 0 & 0 & 0 & 0 & 0 & 0 & 0 & 0 & 0 & 0 & 0 & 0 & 0 & 0 & 0 & 0 & 0 & 0 & 0 & 0 & 0 & 0 & 0 & 0 & 0 & 0 & 0 & 0 & 0 \\\\\n",
       "0 & 0 & 0 & 0 & 0 & 0 & 0 & 0 & 0 & 0 & 0 & 0 & 0 & 0 & 0 & 0 & 0 & 0 & 0 & 0 & 0 & 0 & 1 & 0 & 0 & 0 & 0 & 0 & 0 & 0 & 0 & 0 & 0 & 0 & 0 & 0 & 0 & 0 & 0 & 0 & 0 & 0 & 0 & 0 & 0 & 0 & 0 & 0 & 0 & 0 & 0 & 0 & 0 & 0 & 0 & 0 & 0 & 0 & 0 & 0 & 0 & 0 & 0 & 0 & 0 & 0 & 0 & 0 & 0 & 0 & 0 & 0 \\\\\n",
       "0 & 0 & 0 & 0 & 0 & 0 & 0 & 0 & 0 & 0 & 0 & 0 & 0 & 0 & 0 & 0 & 0 & 0 & 0 & 0 & 0 & 0 & 0 & 1 & 0 & 0 & 0 & 0 & 0 & 0 & 0 & 0 & 0 & 0 & 0 & 0 & 0 & 0 & 0 & 0 & 0 & 0 & 0 & 0 & 0 & 0 & 0 & 0 & 0 & 0 & 0 & 0 & 0 & 0 & 0 & 0 & 0 & 0 & 0 & 0 & 0 & 0 & 0 & 0 & 0 & 0 & 0 & 0 & 0 & 0 & 0 & 0 \\\\\n",
       "0 & 0 & 0 & 0 & 0 & 0 & 0 & 0 & 0 & 0 & 0 & 0 & 0 & 0 & 0 & 0 & 0 & 0 & 0 & 0 & 0 & 0 & 0 & 0 & 1 & 0 & 0 & 0 & 0 & 0 & 0 & 0 & 0 & 0 & 0 & 0 & 0 & 0 & 0 & 0 & 0 & 0 & 0 & 0 & 0 & 0 & 0 & 0 & 0 & 0 & 0 & 0 & 0 & 0 & 0 & 0 & 0 & 0 & 0 & 0 & 0 & 0 & 0 & 0 & 0 & 0 & 0 & 0 & 0 & 0 & 0 & 0 \\\\\n",
       "0 & 0 & 0 & 0 & 0 & 0 & 0 & 0 & 0 & 0 & 0 & 0 & 0 & 0 & 0 & 0 & 0 & 0 & 0 & 0 & 0 & 0 & 0 & 0 & 0 & -\\zeta_{12}^{2} & 0 & 0 & 0 & 0 & 0 & 0 & 0 & 0 & 0 & 0 & 0 & 0 & 0 & 0 & 0 & 0 & 0 & 0 & 0 & 0 & 0 & 0 & 0 & 0 & 0 & 0 & 0 & 0 & 0 & 0 & 0 & 0 & 0 & 0 & 0 & 0 & 0 & 0 & 0 & 0 & 0 & 0 & 0 & 0 & 0 & 0 \\\\\n",
       "0 & 0 & 0 & 0 & 0 & 0 & 0 & 0 & 0 & 0 & 0 & 0 & 0 & 0 & 0 & 0 & 0 & 0 & 0 & 0 & 0 & 0 & 0 & 0 & 0 & 0 & \\zeta_{12}^{2} - 1 & 0 & 0 & 0 & 0 & 0 & 0 & 0 & 0 & 0 & 0 & 0 & 0 & 0 & 0 & 0 & 0 & 0 & 0 & 0 & 0 & 0 & 0 & 0 & 0 & 0 & 0 & 0 & 0 & 0 & 0 & 0 & 0 & 0 & 0 & 0 & 0 & 0 & 0 & 0 & 0 & 0 & 0 & 0 & 0 & 0 \\\\\n",
       "0 & 0 & 0 & 0 & 0 & 0 & 0 & 0 & 0 & 0 & 0 & 0 & 0 & 0 & 0 & 0 & 0 & 0 & 0 & 0 & 0 & 0 & 0 & 0 & 0 & 0 & 0 & -\\zeta_{12}^{2} & 0 & 0 & 0 & 0 & 0 & 0 & 0 & 0 & 0 & 0 & 0 & 0 & 0 & 0 & 0 & 0 & 0 & 0 & 0 & 0 & 0 & 0 & 0 & 0 & 0 & 0 & 0 & 0 & 0 & 0 & 0 & 0 & 0 & 0 & 0 & 0 & 0 & 0 & 0 & 0 & 0 & 0 & 0 & 0 \\\\\n",
       "0 & 0 & 0 & 0 & 0 & 0 & 0 & 0 & 0 & 0 & 0 & 0 & 0 & 0 & 0 & 0 & 0 & 0 & 0 & 0 & 0 & 0 & 0 & 0 & 0 & 0 & 0 & 0 & 1 & 0 & 0 & 0 & 0 & 0 & 0 & 0 & 0 & 0 & 0 & 0 & 0 & 0 & 0 & 0 & 0 & 0 & 0 & 0 & 0 & 0 & 0 & 0 & 0 & 0 & 0 & 0 & 0 & 0 & 0 & 0 & 0 & 0 & 0 & 0 & 0 & 0 & 0 & 0 & 0 & 0 & 0 & 0 \\\\\n",
       "0 & 0 & 0 & 0 & 0 & 0 & 0 & 0 & 0 & 0 & 0 & 0 & 0 & 0 & 0 & 0 & 0 & 0 & 0 & 0 & 0 & 0 & 0 & 0 & 0 & 0 & 0 & 0 & 0 & \\zeta_{12}^{2} - 1 & 0 & 0 & 0 & 0 & 0 & 0 & 0 & 0 & 0 & 0 & 0 & 0 & 0 & 0 & 0 & 0 & 0 & 0 & 0 & 0 & 0 & 0 & 0 & 0 & 0 & 0 & 0 & 0 & 0 & 0 & 0 & 0 & 0 & 0 & 0 & 0 & 0 & 0 & 0 & 0 & 0 & 0 \\\\\n",
       "0 & 0 & 0 & 0 & 0 & 0 & 0 & 0 & 0 & 0 & 0 & 0 & 0 & 0 & 0 & 0 & 0 & 0 & 0 & 0 & 0 & 0 & 0 & 0 & 0 & 0 & 0 & 0 & 0 & 0 & -\\zeta_{12}^{2} & 0 & 0 & 0 & 0 & 0 & 0 & 0 & 0 & 0 & 0 & 0 & 0 & 0 & 0 & 0 & 0 & 0 & 0 & 0 & 0 & 0 & 0 & 0 & 0 & 0 & 0 & 0 & 0 & 0 & 0 & 0 & 0 & 0 & 0 & 0 & 0 & 0 & 0 & 0 & 0 & 0 \\\\\n",
       "0 & 0 & 0 & 0 & 0 & 0 & 0 & 0 & 0 & 0 & 0 & 0 & 0 & 0 & 0 & 0 & 0 & 0 & 0 & 0 & 0 & 0 & 0 & 0 & 0 & 0 & 0 & 0 & 0 & 0 & 0 & -\\zeta_{12}^{2} & 0 & 0 & 0 & 0 & 0 & 0 & 0 & 0 & 0 & 0 & 0 & 0 & 0 & 0 & 0 & 0 & 0 & 0 & 0 & 0 & 0 & 0 & 0 & 0 & 0 & 0 & 0 & 0 & 0 & 0 & 0 & 0 & 0 & 0 & 0 & 0 & 0 & 0 & 0 & 0 \\\\\n",
       "0 & 0 & 0 & 0 & 0 & 0 & 0 & 0 & 0 & 0 & 0 & 0 & 0 & 0 & 0 & 0 & 0 & 0 & 0 & 0 & 0 & 0 & 0 & 0 & 0 & 0 & 0 & 0 & 0 & 0 & 0 & 0 & 1 & 0 & 0 & 0 & 0 & 0 & 0 & 0 & 0 & 0 & 0 & 0 & 0 & 0 & 0 & 0 & 0 & 0 & 0 & 0 & 0 & 0 & 0 & 0 & 0 & 0 & 0 & 0 & 0 & 0 & 0 & 0 & 0 & 0 & 0 & 0 & 0 & 0 & 0 & 0 \\\\\n",
       "0 & 0 & 0 & 0 & 0 & 0 & 0 & 0 & 0 & 0 & 0 & 0 & 0 & 0 & 0 & 0 & 0 & 0 & 0 & 0 & 0 & 0 & 0 & 0 & 0 & 0 & 0 & 0 & 0 & 0 & 0 & 0 & 0 & 1 & 0 & 0 & 0 & 0 & 0 & 0 & 0 & 0 & 0 & 0 & 0 & 0 & 0 & 0 & 0 & 0 & 0 & 0 & 0 & 0 & 0 & 0 & 0 & 0 & 0 & 0 & 0 & 0 & 0 & 0 & 0 & 0 & 0 & 0 & 0 & 0 & 0 & 0 \\\\\n",
       "0 & 0 & 0 & 0 & 0 & 0 & 0 & 0 & 0 & 0 & 0 & 0 & 0 & 0 & 0 & 0 & 0 & 0 & 0 & 0 & 0 & 0 & 0 & 0 & 0 & 0 & 0 & 0 & 0 & 0 & 0 & 0 & 0 & 0 & 1 & 0 & 0 & 0 & 0 & 0 & 0 & 0 & 0 & 0 & 0 & 0 & 0 & 0 & 0 & 0 & 0 & 0 & 0 & 0 & 0 & 0 & 0 & 0 & 0 & 0 & 0 & 0 & 0 & 0 & 0 & 0 & 0 & 0 & 0 & 0 & 0 & 0 \\\\\n",
       "0 & 0 & 0 & 0 & 0 & 0 & 0 & 0 & 0 & 0 & 0 & 0 & 0 & 0 & 0 & 0 & 0 & 0 & 0 & 0 & 0 & 0 & 0 & 0 & 0 & 0 & 0 & 0 & 0 & 0 & 0 & 0 & 0 & 0 & 0 & 1 & 0 & 0 & 0 & 0 & 0 & 0 & 0 & 0 & 0 & 0 & 0 & 0 & 0 & 0 & 0 & 0 & 0 & 0 & 0 & 0 & 0 & 0 & 0 & 0 & 0 & 0 & 0 & 0 & 0 & 0 & 0 & 0 & 0 & 0 & 0 & 0 \\\\\n",
       "0 & 0 & 0 & 0 & 0 & 0 & 0 & 0 & 0 & 0 & 0 & 0 & 0 & 0 & 0 & 0 & 0 & 0 & 0 & 0 & 0 & 0 & 0 & 0 & 0 & 0 & 0 & 0 & 0 & 0 & 0 & 0 & 0 & 0 & 0 & 0 & \\zeta_{12}^{2} - 1 & 0 & 0 & 0 & 0 & 0 & 0 & 0 & 0 & 0 & 0 & 0 & 0 & 0 & 0 & 0 & 0 & 0 & 0 & 0 & 0 & 0 & 0 & 0 & 0 & 0 & 0 & 0 & 0 & 0 & 0 & 0 & 0 & 0 & 0 & 0 \\\\\n",
       "0 & 0 & 0 & 0 & 0 & 0 & 0 & 0 & 0 & 0 & 0 & 0 & 0 & 0 & 0 & 0 & 0 & 0 & 0 & 0 & 0 & 0 & 0 & 0 & 0 & 0 & 0 & 0 & 0 & 0 & 0 & 0 & 0 & 0 & 0 & 0 & 0 & \\zeta_{12}^{2} - 1 & 0 & 0 & 0 & 0 & 0 & 0 & 0 & 0 & 0 & 0 & 0 & 0 & 0 & 0 & 0 & 0 & 0 & 0 & 0 & 0 & 0 & 0 & 0 & 0 & 0 & 0 & 0 & 0 & 0 & 0 & 0 & 0 & 0 & 0 \\\\\n",
       "0 & 0 & 0 & 0 & 0 & 0 & 0 & 0 & 0 & 0 & 0 & 0 & 0 & 0 & 0 & 0 & 0 & 0 & 0 & 0 & 0 & 0 & 0 & 0 & 0 & 0 & 0 & 0 & 0 & 0 & 0 & 0 & 0 & 0 & 0 & 0 & 0 & 0 & \\zeta_{12}^{2} - 1 & 0 & 0 & 0 & 0 & 0 & 0 & 0 & 0 & 0 & 0 & 0 & 0 & 0 & 0 & 0 & 0 & 0 & 0 & 0 & 0 & 0 & 0 & 0 & 0 & 0 & 0 & 0 & 0 & 0 & 0 & 0 & 0 & 0 \\\\\n",
       "0 & 0 & 0 & 0 & 0 & 0 & 0 & 0 & 0 & 0 & 0 & 0 & 0 & 0 & 0 & 0 & 0 & 0 & 0 & 0 & 0 & 0 & 0 & 0 & 0 & 0 & 0 & 0 & 0 & 0 & 0 & 0 & 0 & 0 & 0 & 0 & 0 & 0 & 0 & 1 & 0 & 0 & 0 & 0 & 0 & 0 & 0 & 0 & 0 & 0 & 0 & 0 & 0 & 0 & 0 & 0 & 0 & 0 & 0 & 0 & 0 & 0 & 0 & 0 & 0 & 0 & 0 & 0 & 0 & 0 & 0 & 0 \\\\\n",
       "0 & 0 & 0 & 0 & 0 & 0 & 0 & 0 & 0 & 0 & 0 & 0 & 0 & 0 & 0 & 0 & 0 & 0 & 0 & 0 & 0 & 0 & 0 & 0 & 0 & 0 & 0 & 0 & 0 & 0 & 0 & 0 & 0 & 0 & 0 & 0 & 0 & 0 & 0 & 0 & -\\zeta_{12}^{2} & 0 & 0 & 0 & 0 & 0 & 0 & 0 & 0 & 0 & 0 & 0 & 0 & 0 & 0 & 0 & 0 & 0 & 0 & 0 & 0 & 0 & 0 & 0 & 0 & 0 & 0 & 0 & 0 & 0 & 0 & 0 \\\\\n",
       "0 & 0 & 0 & 0 & 0 & 0 & 0 & 0 & 0 & 0 & 0 & 0 & 0 & 0 & 0 & 0 & 0 & 0 & 0 & 0 & 0 & 0 & 0 & 0 & 0 & 0 & 0 & 0 & 0 & 0 & 0 & 0 & 0 & 0 & 0 & 0 & 0 & 0 & 0 & 0 & 0 & \\zeta_{12}^{2} - 1 & 0 & 0 & 0 & 0 & 0 & 0 & 0 & 0 & 0 & 0 & 0 & 0 & 0 & 0 & 0 & 0 & 0 & 0 & 0 & 0 & 0 & 0 & 0 & 0 & 0 & 0 & 0 & 0 & 0 & 0 \\\\\n",
       "0 & 0 & 0 & 0 & 0 & 0 & 0 & 0 & 0 & 0 & 0 & 0 & 0 & 0 & 0 & 0 & 0 & 0 & 0 & 0 & 0 & 0 & 0 & 0 & 0 & 0 & 0 & 0 & 0 & 0 & 0 & 0 & 0 & 0 & 0 & 0 & 0 & 0 & 0 & 0 & 0 & 0 & \\zeta_{12}^{2} - 1 & 0 & 0 & 0 & 0 & 0 & 0 & 0 & 0 & 0 & 0 & 0 & 0 & 0 & 0 & 0 & 0 & 0 & 0 & 0 & 0 & 0 & 0 & 0 & 0 & 0 & 0 & 0 & 0 & 0 \\\\\n",
       "0 & 0 & 0 & 0 & 0 & 0 & 0 & 0 & 0 & 0 & 0 & 0 & 0 & 0 & 0 & 0 & 0 & 0 & 0 & 0 & 0 & 0 & 0 & 0 & 0 & 0 & 0 & 0 & 0 & 0 & 0 & 0 & 0 & 0 & 0 & 0 & 0 & 0 & 0 & 0 & 0 & 0 & 0 & 1 & 0 & 0 & 0 & 0 & 0 & 0 & 0 & 0 & 0 & 0 & 0 & 0 & 0 & 0 & 0 & 0 & 0 & 0 & 0 & 0 & 0 & 0 & 0 & 0 & 0 & 0 & 0 & 0 \\\\\n",
       "0 & 0 & 0 & 0 & 0 & 0 & 0 & 0 & 0 & 0 & 0 & 0 & 0 & 0 & 0 & 0 & 0 & 0 & 0 & 0 & 0 & 0 & 0 & 0 & 0 & 0 & 0 & 0 & 0 & 0 & 0 & 0 & 0 & 0 & 0 & 0 & 0 & 0 & 0 & 0 & 0 & 0 & 0 & 0 & -\\zeta_{12}^{2} & 0 & 0 & 0 & 0 & 0 & 0 & 0 & 0 & 0 & 0 & 0 & 0 & 0 & 0 & 0 & 0 & 0 & 0 & 0 & 0 & 0 & 0 & 0 & 0 & 0 & 0 & 0 \\\\\n",
       "0 & 0 & 0 & 0 & 0 & 0 & 0 & 0 & 0 & 0 & 0 & 0 & 0 & 0 & 0 & 0 & 0 & 0 & 0 & 0 & 0 & 0 & 0 & 0 & 0 & 0 & 0 & 0 & 0 & 0 & 0 & 0 & 0 & 0 & 0 & 0 & 0 & 0 & 0 & 0 & 0 & 0 & 0 & 0 & 0 & -\\zeta_{12}^{2} & 0 & 0 & 0 & 0 & 0 & 0 & 0 & 0 & 0 & 0 & 0 & 0 & 0 & 0 & 0 & 0 & 0 & 0 & 0 & 0 & 0 & 0 & 0 & 0 & 0 & 0 \\\\\n",
       "0 & 0 & 0 & 0 & 0 & 0 & 0 & 0 & 0 & 0 & 0 & 0 & 0 & 0 & 0 & 0 & 0 & 0 & 0 & 0 & 0 & 0 & 0 & 0 & 0 & 0 & 0 & 0 & 0 & 0 & 0 & 0 & 0 & 0 & 0 & 0 & 0 & 0 & 0 & 0 & 0 & 0 & 0 & 0 & 0 & 0 & 1 & 0 & 0 & 0 & 0 & 0 & 0 & 0 & 0 & 0 & 0 & 0 & 0 & 0 & 0 & 0 & 0 & 0 & 0 & 0 & 0 & 0 & 0 & 0 & 0 & 0 \\\\\n",
       "0 & 0 & 0 & 0 & 0 & 0 & 0 & 0 & 0 & 0 & 0 & 0 & 0 & 0 & 0 & 0 & 0 & 0 & 0 & 0 & 0 & 0 & 0 & 0 & 0 & 0 & 0 & 0 & 0 & 0 & 0 & 0 & 0 & 0 & 0 & 0 & 0 & 0 & 0 & 0 & 0 & 0 & 0 & 0 & 0 & 0 & 0 & \\zeta_{12}^{2} - 1 & 0 & 0 & 0 & 0 & 0 & 0 & 0 & 0 & 0 & 0 & 0 & 0 & 0 & 0 & 0 & 0 & 0 & 0 & 0 & 0 & 0 & 0 & 0 & 0 \\\\\n",
       "0 & 0 & 0 & 0 & 0 & 0 & 0 & 0 & 0 & 0 & 0 & 0 & 0 & 0 & 0 & 0 & 0 & 0 & 0 & 0 & 0 & 0 & 0 & 0 & 0 & 0 & 0 & 0 & 0 & 0 & 0 & 0 & 0 & 0 & 0 & 0 & 0 & 0 & 0 & 0 & 0 & 0 & 0 & 0 & 0 & 0 & 0 & 0 & -\\zeta_{12}^{2} & 0 & 0 & 0 & 0 & 0 & 0 & 0 & 0 & 0 & 0 & 0 & 0 & 0 & 0 & 0 & 0 & 0 & 0 & 0 & 0 & 0 & 0 & 0 \\\\\n",
       "0 & 0 & 0 & 0 & 0 & 0 & 0 & 0 & 0 & 0 & 0 & 0 & 0 & 0 & 0 & 0 & 0 & 0 & 0 & 0 & 0 & 0 & 0 & 0 & 0 & 0 & 0 & 0 & 0 & 0 & 0 & 0 & 0 & 0 & 0 & 0 & 0 & 0 & 0 & 0 & 0 & 0 & 0 & 0 & 0 & 0 & 0 & 0 & 0 & \\zeta_{12}^{2} - 1 & 0 & 0 & 0 & 0 & 0 & 0 & 0 & 0 & 0 & 0 & 0 & 0 & 0 & 0 & 0 & 0 & 0 & 0 & 0 & 0 & 0 & 0 \\\\\n",
       "0 & 0 & 0 & 0 & 0 & 0 & 0 & 0 & 0 & 0 & 0 & 0 & 0 & 0 & 0 & 0 & 0 & 0 & 0 & 0 & 0 & 0 & 0 & 0 & 0 & 0 & 0 & 0 & 0 & 0 & 0 & 0 & 0 & 0 & 0 & 0 & 0 & 0 & 0 & 0 & 0 & 0 & 0 & 0 & 0 & 0 & 0 & 0 & 0 & 0 & -\\zeta_{12}^{2} & 0 & 0 & 0 & 0 & 0 & 0 & 0 & 0 & 0 & 0 & 0 & 0 & 0 & 0 & 0 & 0 & 0 & 0 & 0 & 0 & 0 \\\\\n",
       "0 & 0 & 0 & 0 & 0 & 0 & 0 & 0 & 0 & 0 & 0 & 0 & 0 & 0 & 0 & 0 & 0 & 0 & 0 & 0 & 0 & 0 & 0 & 0 & 0 & 0 & 0 & 0 & 0 & 0 & 0 & 0 & 0 & 0 & 0 & 0 & 0 & 0 & 0 & 0 & 0 & 0 & 0 & 0 & 0 & 0 & 0 & 0 & 0 & 0 & 0 & 1 & 0 & 0 & 0 & 0 & 0 & 0 & 0 & 0 & 0 & 0 & 0 & 0 & 0 & 0 & 0 & 0 & 0 & 0 & 0 & 0 \\\\\n",
       "0 & 0 & 0 & 0 & 0 & 0 & 0 & 0 & 0 & 0 & 0 & 0 & 0 & 0 & 0 & 0 & 0 & 0 & 0 & 0 & 0 & 0 & 0 & 0 & 0 & 0 & 0 & 0 & 0 & 0 & 0 & 0 & 0 & 0 & 0 & 0 & 0 & 0 & 0 & 0 & 0 & 0 & 0 & 0 & 0 & 0 & 0 & 0 & 0 & 0 & 0 & 0 & -\\zeta_{12}^{2} & 0 & 0 & 0 & 0 & 0 & 0 & 0 & 0 & 0 & 0 & 0 & 0 & 0 & 0 & 0 & 0 & 0 & 0 & 0 \\\\\n",
       "0 & 0 & 0 & 0 & 0 & 0 & 0 & 0 & 0 & 0 & 0 & 0 & 0 & 0 & 0 & 0 & 0 & 0 & 0 & 0 & 0 & 0 & 0 & 0 & 0 & 0 & 0 & 0 & 0 & 0 & 0 & 0 & 0 & 0 & 0 & 0 & 0 & 0 & 0 & 0 & 0 & 0 & 0 & 0 & 0 & 0 & 0 & 0 & 0 & 0 & 0 & 0 & 0 & 1 & 0 & 0 & 0 & 0 & 0 & 0 & 0 & 0 & 0 & 0 & 0 & 0 & 0 & 0 & 0 & 0 & 0 & 0 \\\\\n",
       "\\hline\n",
       " 0 & 0 & 0 & 0 & 0 & 0 & 0 & 0 & 0 & 0 & 0 & 0 & 0 & 0 & 0 & 0 & 0 & 0 & 0 & 0 & 0 & 0 & 0 & 0 & 0 & 0 & 0 & 0 & 0 & 0 & 0 & 0 & 0 & 0 & 0 & 0 & 0 & 0 & 0 & 0 & 0 & 0 & 0 & 0 & 0 & 0 & 0 & 0 & 0 & 0 & 0 & 0 & 0 & 0 & \\zeta_{12}^{3} & 0 & 0 & 0 & 0 & 0 & 0 & 0 & 0 & 0 & 0 & 0 & 0 & 0 & 0 & 0 & 0 & 0 \\\\\n",
       "0 & 0 & 0 & 0 & 0 & 0 & 0 & 0 & 0 & 0 & 0 & 0 & 0 & 0 & 0 & 0 & 0 & 0 & 0 & 0 & 0 & 0 & 0 & 0 & 0 & 0 & 0 & 0 & 0 & 0 & 0 & 0 & 0 & 0 & 0 & 0 & 0 & 0 & 0 & 0 & 0 & 0 & 0 & 0 & 0 & 0 & 0 & 0 & 0 & 0 & 0 & 0 & 0 & 0 & 0 & -\\zeta_{12}^{3} & 0 & 0 & 0 & 0 & 0 & 0 & 0 & 0 & 0 & 0 & 0 & 0 & 0 & 0 & 0 & 0 \\\\\n",
       "0 & 0 & 0 & 0 & 0 & 0 & 0 & 0 & 0 & 0 & 0 & 0 & 0 & 0 & 0 & 0 & 0 & 0 & 0 & 0 & 0 & 0 & 0 & 0 & 0 & 0 & 0 & 0 & 0 & 0 & 0 & 0 & 0 & 0 & 0 & 0 & 0 & 0 & 0 & 0 & 0 & 0 & 0 & 0 & 0 & 0 & 0 & 0 & 0 & 0 & 0 & 0 & 0 & 0 & 0 & 0 & -\\zeta_{12}^{3} + \\zeta_{12} & 0 & 0 & 0 & 0 & 0 & 0 & 0 & 0 & 0 & 0 & 0 & 0 & 0 & 0 & 0 \\\\\n",
       "0 & 0 & 0 & 0 & 0 & 0 & 0 & 0 & 0 & 0 & 0 & 0 & 0 & 0 & 0 & 0 & 0 & 0 & 0 & 0 & 0 & 0 & 0 & 0 & 0 & 0 & 0 & 0 & 0 & 0 & 0 & 0 & 0 & 0 & 0 & 0 & 0 & 0 & 0 & 0 & 0 & 0 & 0 & 0 & 0 & 0 & 0 & 0 & 0 & 0 & 0 & 0 & 0 & 0 & 0 & 0 & 0 & \\zeta_{12}^{3} - \\zeta_{12} & 0 & 0 & 0 & 0 & 0 & 0 & 0 & 0 & 0 & 0 & 0 & 0 & 0 & 0 \\\\\n",
       "0 & 0 & 0 & 0 & 0 & 0 & 0 & 0 & 0 & 0 & 0 & 0 & 0 & 0 & 0 & 0 & 0 & 0 & 0 & 0 & 0 & 0 & 0 & 0 & 0 & 0 & 0 & 0 & 0 & 0 & 0 & 0 & 0 & 0 & 0 & 0 & 0 & 0 & 0 & 0 & 0 & 0 & 0 & 0 & 0 & 0 & 0 & 0 & 0 & 0 & 0 & 0 & 0 & 0 & 0 & 0 & 0 & 0 & -\\zeta_{12}^{3} + \\zeta_{12} & 0 & 0 & 0 & 0 & 0 & 0 & 0 & 0 & 0 & 0 & 0 & 0 & 0 \\\\\n",
       "0 & 0 & 0 & 0 & 0 & 0 & 0 & 0 & 0 & 0 & 0 & 0 & 0 & 0 & 0 & 0 & 0 & 0 & 0 & 0 & 0 & 0 & 0 & 0 & 0 & 0 & 0 & 0 & 0 & 0 & 0 & 0 & 0 & 0 & 0 & 0 & 0 & 0 & 0 & 0 & 0 & 0 & 0 & 0 & 0 & 0 & 0 & 0 & 0 & 0 & 0 & 0 & 0 & 0 & 0 & 0 & 0 & 0 & 0 & \\zeta_{12}^{3} - \\zeta_{12} & 0 & 0 & 0 & 0 & 0 & 0 & 0 & 0 & 0 & 0 & 0 & 0 \\\\\n",
       "0 & 0 & 0 & 0 & 0 & 0 & 0 & 0 & 0 & 0 & 0 & 0 & 0 & 0 & 0 & 0 & 0 & 0 & 0 & 0 & 0 & 0 & 0 & 0 & 0 & 0 & 0 & 0 & 0 & 0 & 0 & 0 & 0 & 0 & 0 & 0 & 0 & 0 & 0 & 0 & 0 & 0 & 0 & 0 & 0 & 0 & 0 & 0 & 0 & 0 & 0 & 0 & 0 & 0 & 0 & 0 & 0 & 0 & 0 & 0 & -\\zeta_{12}^{3} + \\zeta_{12} & 0 & 0 & 0 & 0 & 0 & 0 & 0 & 0 & 0 & 0 & 0 \\\\\n",
       "0 & 0 & 0 & 0 & 0 & 0 & 0 & 0 & 0 & 0 & 0 & 0 & 0 & 0 & 0 & 0 & 0 & 0 & 0 & 0 & 0 & 0 & 0 & 0 & 0 & 0 & 0 & 0 & 0 & 0 & 0 & 0 & 0 & 0 & 0 & 0 & 0 & 0 & 0 & 0 & 0 & 0 & 0 & 0 & 0 & 0 & 0 & 0 & 0 & 0 & 0 & 0 & 0 & 0 & 0 & 0 & 0 & 0 & 0 & 0 & 0 & \\zeta_{12}^{3} - \\zeta_{12} & 0 & 0 & 0 & 0 & 0 & 0 & 0 & 0 & 0 & 0 \\\\\n",
       "0 & 0 & 0 & 0 & 0 & 0 & 0 & 0 & 0 & 0 & 0 & 0 & 0 & 0 & 0 & 0 & 0 & 0 & 0 & 0 & 0 & 0 & 0 & 0 & 0 & 0 & 0 & 0 & 0 & 0 & 0 & 0 & 0 & 0 & 0 & 0 & 0 & 0 & 0 & 0 & 0 & 0 & 0 & 0 & 0 & 0 & 0 & 0 & 0 & 0 & 0 & 0 & 0 & 0 & 0 & 0 & 0 & 0 & 0 & 0 & 0 & 0 & -\\zeta_{12} & 0 & 0 & 0 & 0 & 0 & 0 & 0 & 0 & 0 \\\\\n",
       "0 & 0 & 0 & 0 & 0 & 0 & 0 & 0 & 0 & 0 & 0 & 0 & 0 & 0 & 0 & 0 & 0 & 0 & 0 & 0 & 0 & 0 & 0 & 0 & 0 & 0 & 0 & 0 & 0 & 0 & 0 & 0 & 0 & 0 & 0 & 0 & 0 & 0 & 0 & 0 & 0 & 0 & 0 & 0 & 0 & 0 & 0 & 0 & 0 & 0 & 0 & 0 & 0 & 0 & 0 & 0 & 0 & 0 & 0 & 0 & 0 & 0 & 0 & \\zeta_{12} & 0 & 0 & 0 & 0 & 0 & 0 & 0 & 0 \\\\\n",
       "0 & 0 & 0 & 0 & 0 & 0 & 0 & 0 & 0 & 0 & 0 & 0 & 0 & 0 & 0 & 0 & 0 & 0 & 0 & 0 & 0 & 0 & 0 & 0 & 0 & 0 & 0 & 0 & 0 & 0 & 0 & 0 & 0 & 0 & 0 & 0 & 0 & 0 & 0 & 0 & 0 & 0 & 0 & 0 & 0 & 0 & 0 & 0 & 0 & 0 & 0 & 0 & 0 & 0 & 0 & 0 & 0 & 0 & 0 & 0 & 0 & 0 & 0 & 0 & -\\zeta_{12} & 0 & 0 & 0 & 0 & 0 & 0 & 0 \\\\\n",
       "0 & 0 & 0 & 0 & 0 & 0 & 0 & 0 & 0 & 0 & 0 & 0 & 0 & 0 & 0 & 0 & 0 & 0 & 0 & 0 & 0 & 0 & 0 & 0 & 0 & 0 & 0 & 0 & 0 & 0 & 0 & 0 & 0 & 0 & 0 & 0 & 0 & 0 & 0 & 0 & 0 & 0 & 0 & 0 & 0 & 0 & 0 & 0 & 0 & 0 & 0 & 0 & 0 & 0 & 0 & 0 & 0 & 0 & 0 & 0 & 0 & 0 & 0 & 0 & 0 & \\zeta_{12} & 0 & 0 & 0 & 0 & 0 & 0 \\\\\n",
       "0 & 0 & 0 & 0 & 0 & 0 & 0 & 0 & 0 & 0 & 0 & 0 & 0 & 0 & 0 & 0 & 0 & 0 & 0 & 0 & 0 & 0 & 0 & 0 & 0 & 0 & 0 & 0 & 0 & 0 & 0 & 0 & 0 & 0 & 0 & 0 & 0 & 0 & 0 & 0 & 0 & 0 & 0 & 0 & 0 & 0 & 0 & 0 & 0 & 0 & 0 & 0 & 0 & 0 & 0 & 0 & 0 & 0 & 0 & 0 & 0 & 0 & 0 & 0 & 0 & 0 & -\\zeta_{12}^{3} + \\zeta_{12} & 0 & 0 & 0 & 0 & 0 \\\\\n",
       "0 & 0 & 0 & 0 & 0 & 0 & 0 & 0 & 0 & 0 & 0 & 0 & 0 & 0 & 0 & 0 & 0 & 0 & 0 & 0 & 0 & 0 & 0 & 0 & 0 & 0 & 0 & 0 & 0 & 0 & 0 & 0 & 0 & 0 & 0 & 0 & 0 & 0 & 0 & 0 & 0 & 0 & 0 & 0 & 0 & 0 & 0 & 0 & 0 & 0 & 0 & 0 & 0 & 0 & 0 & 0 & 0 & 0 & 0 & 0 & 0 & 0 & 0 & 0 & 0 & 0 & 0 & \\zeta_{12}^{3} - \\zeta_{12} & 0 & 0 & 0 & 0 \\\\\n",
       "0 & 0 & 0 & 0 & 0 & 0 & 0 & 0 & 0 & 0 & 0 & 0 & 0 & 0 & 0 & 0 & 0 & 0 & 0 & 0 & 0 & 0 & 0 & 0 & 0 & 0 & 0 & 0 & 0 & 0 & 0 & 0 & 0 & 0 & 0 & 0 & 0 & 0 & 0 & 0 & 0 & 0 & 0 & 0 & 0 & 0 & 0 & 0 & 0 & 0 & 0 & 0 & 0 & 0 & 0 & 0 & 0 & 0 & 0 & 0 & 0 & 0 & 0 & 0 & 0 & 0 & 0 & 0 & -\\zeta_{12} & 0 & 0 & 0 \\\\\n",
       "0 & 0 & 0 & 0 & 0 & 0 & 0 & 0 & 0 & 0 & 0 & 0 & 0 & 0 & 0 & 0 & 0 & 0 & 0 & 0 & 0 & 0 & 0 & 0 & 0 & 0 & 0 & 0 & 0 & 0 & 0 & 0 & 0 & 0 & 0 & 0 & 0 & 0 & 0 & 0 & 0 & 0 & 0 & 0 & 0 & 0 & 0 & 0 & 0 & 0 & 0 & 0 & 0 & 0 & 0 & 0 & 0 & 0 & 0 & 0 & 0 & 0 & 0 & 0 & 0 & 0 & 0 & 0 & 0 & \\zeta_{12} & 0 & 0 \\\\\n",
       "0 & 0 & 0 & 0 & 0 & 0 & 0 & 0 & 0 & 0 & 0 & 0 & 0 & 0 & 0 & 0 & 0 & 0 & 0 & 0 & 0 & 0 & 0 & 0 & 0 & 0 & 0 & 0 & 0 & 0 & 0 & 0 & 0 & 0 & 0 & 0 & 0 & 0 & 0 & 0 & 0 & 0 & 0 & 0 & 0 & 0 & 0 & 0 & 0 & 0 & 0 & 0 & 0 & 0 & 0 & 0 & 0 & 0 & 0 & 0 & 0 & 0 & 0 & 0 & 0 & 0 & 0 & 0 & 0 & 0 & -\\zeta_{12} & 0 \\\\\n",
       "0 & 0 & 0 & 0 & 0 & 0 & 0 & 0 & 0 & 0 & 0 & 0 & 0 & 0 & 0 & 0 & 0 & 0 & 0 & 0 & 0 & 0 & 0 & 0 & 0 & 0 & 0 & 0 & 0 & 0 & 0 & 0 & 0 & 0 & 0 & 0 & 0 & 0 & 0 & 0 & 0 & 0 & 0 & 0 & 0 & 0 & 0 & 0 & 0 & 0 & 0 & 0 & 0 & 0 & 0 & 0 & 0 & 0 & 0 & 0 & 0 & 0 & 0 & 0 & 0 & 0 & 0 & 0 & 0 & 0 & 0 & \\zeta_{12}\n",
       "\\end{array}\\right)"
      ]
     },
     "execution_count": 49,
     "metadata": {},
     "output_type": "execute_result"
    }
   ],
   "source": [
    "latex(T)"
   ]
  },
  {
   "cell_type": "code",
   "execution_count": 50,
   "metadata": {},
   "outputs": [
    {
     "data": {
      "text/html": [
       "<html><script type=\"math/tex; mode=display\">\\newcommand{\\Bold}[1]{\\mathbf{#1}}\\left(\\begin{array}{rrrrrrrrrrrrrrrrrr|rrrrrrrrrrrrrrrrrrrrrrrrrrrrrrrrrrrr|rrrrrrrrrrrrrrrrrr}\n",
       "1 & 0 & 0 & 0 & 0 & 0 & 0 & 0 & 0 & 0 & 0 & 0 & 0 & 0 & 0 & 0 & 0 & 0 & 0 & 0 & 0 & 0 & 0 & 0 & 0 & 0 & 0 & 0 & 0 & 0 & 0 & 0 & 0 & 0 & 0 & 0 & 0 & 0 & 0 & 0 & 0 & 0 & 0 & 0 & 0 & 0 & 0 & 0 & 0 & 0 & 0 & 0 & 0 & 0 & 0 & 0 & 0 & 0 & 0 & 0 & 0 & 0 & 0 & 0 & 0 & 0 & 0 & 0 & 0 & 0 & 0 & 0 \\\\\n",
       "0 & 1 & 0 & 0 & 0 & 0 & 0 & 0 & 0 & 0 & 0 & 0 & 0 & 0 & 0 & 0 & 0 & 0 & 0 & 0 & 0 & 0 & 0 & 0 & 0 & 0 & 0 & 0 & 0 & 0 & 0 & 0 & 0 & 0 & 0 & 0 & 0 & 0 & 0 & 0 & 0 & 0 & 0 & 0 & 0 & 0 & 0 & 0 & 0 & 0 & 0 & 0 & 0 & 0 & 0 & 0 & 0 & 0 & 0 & 0 & 0 & 0 & 0 & 0 & 0 & 0 & 0 & 0 & 0 & 0 & 0 & 0 \\\\\n",
       "0 & 0 & -\\zeta_{12}^{2} & 0 & 0 & 0 & 0 & 0 & 0 & 0 & 0 & 0 & 0 & 0 & 0 & 0 & 0 & 0 & 0 & 0 & 0 & 0 & 0 & 0 & 0 & 0 & 0 & 0 & 0 & 0 & 0 & 0 & 0 & 0 & 0 & 0 & 0 & 0 & 0 & 0 & 0 & 0 & 0 & 0 & 0 & 0 & 0 & 0 & 0 & 0 & 0 & 0 & 0 & 0 & 0 & 0 & 0 & 0 & 0 & 0 & 0 & 0 & 0 & 0 & 0 & 0 & 0 & 0 & 0 & 0 & 0 & 0 \\\\\n",
       "0 & 0 & 0 & -\\zeta_{12}^{2} & 0 & 0 & 0 & 0 & 0 & 0 & 0 & 0 & 0 & 0 & 0 & 0 & 0 & 0 & 0 & 0 & 0 & 0 & 0 & 0 & 0 & 0 & 0 & 0 & 0 & 0 & 0 & 0 & 0 & 0 & 0 & 0 & 0 & 0 & 0 & 0 & 0 & 0 & 0 & 0 & 0 & 0 & 0 & 0 & 0 & 0 & 0 & 0 & 0 & 0 & 0 & 0 & 0 & 0 & 0 & 0 & 0 & 0 & 0 & 0 & 0 & 0 & 0 & 0 & 0 & 0 & 0 & 0 \\\\\n",
       "0 & 0 & 0 & 0 & -\\zeta_{12}^{2} & 0 & 0 & 0 & 0 & 0 & 0 & 0 & 0 & 0 & 0 & 0 & 0 & 0 & 0 & 0 & 0 & 0 & 0 & 0 & 0 & 0 & 0 & 0 & 0 & 0 & 0 & 0 & 0 & 0 & 0 & 0 & 0 & 0 & 0 & 0 & 0 & 0 & 0 & 0 & 0 & 0 & 0 & 0 & 0 & 0 & 0 & 0 & 0 & 0 & 0 & 0 & 0 & 0 & 0 & 0 & 0 & 0 & 0 & 0 & 0 & 0 & 0 & 0 & 0 & 0 & 0 & 0 \\\\\n",
       "0 & 0 & 0 & 0 & 0 & -\\zeta_{12}^{2} & 0 & 0 & 0 & 0 & 0 & 0 & 0 & 0 & 0 & 0 & 0 & 0 & 0 & 0 & 0 & 0 & 0 & 0 & 0 & 0 & 0 & 0 & 0 & 0 & 0 & 0 & 0 & 0 & 0 & 0 & 0 & 0 & 0 & 0 & 0 & 0 & 0 & 0 & 0 & 0 & 0 & 0 & 0 & 0 & 0 & 0 & 0 & 0 & 0 & 0 & 0 & 0 & 0 & 0 & 0 & 0 & 0 & 0 & 0 & 0 & 0 & 0 & 0 & 0 & 0 & 0 \\\\\n",
       "0 & 0 & 0 & 0 & 0 & 0 & -\\zeta_{12}^{2} & 0 & 0 & 0 & 0 & 0 & 0 & 0 & 0 & 0 & 0 & 0 & 0 & 0 & 0 & 0 & 0 & 0 & 0 & 0 & 0 & 0 & 0 & 0 & 0 & 0 & 0 & 0 & 0 & 0 & 0 & 0 & 0 & 0 & 0 & 0 & 0 & 0 & 0 & 0 & 0 & 0 & 0 & 0 & 0 & 0 & 0 & 0 & 0 & 0 & 0 & 0 & 0 & 0 & 0 & 0 & 0 & 0 & 0 & 0 & 0 & 0 & 0 & 0 & 0 & 0 \\\\\n",
       "0 & 0 & 0 & 0 & 0 & 0 & 0 & -\\zeta_{12}^{2} & 0 & 0 & 0 & 0 & 0 & 0 & 0 & 0 & 0 & 0 & 0 & 0 & 0 & 0 & 0 & 0 & 0 & 0 & 0 & 0 & 0 & 0 & 0 & 0 & 0 & 0 & 0 & 0 & 0 & 0 & 0 & 0 & 0 & 0 & 0 & 0 & 0 & 0 & 0 & 0 & 0 & 0 & 0 & 0 & 0 & 0 & 0 & 0 & 0 & 0 & 0 & 0 & 0 & 0 & 0 & 0 & 0 & 0 & 0 & 0 & 0 & 0 & 0 & 0 \\\\\n",
       "0 & 0 & 0 & 0 & 0 & 0 & 0 & 0 & \\zeta_{12}^{2} - 1 & 0 & 0 & 0 & 0 & 0 & 0 & 0 & 0 & 0 & 0 & 0 & 0 & 0 & 0 & 0 & 0 & 0 & 0 & 0 & 0 & 0 & 0 & 0 & 0 & 0 & 0 & 0 & 0 & 0 & 0 & 0 & 0 & 0 & 0 & 0 & 0 & 0 & 0 & 0 & 0 & 0 & 0 & 0 & 0 & 0 & 0 & 0 & 0 & 0 & 0 & 0 & 0 & 0 & 0 & 0 & 0 & 0 & 0 & 0 & 0 & 0 & 0 & 0 \\\\\n",
       "0 & 0 & 0 & 0 & 0 & 0 & 0 & 0 & 0 & \\zeta_{12}^{2} - 1 & 0 & 0 & 0 & 0 & 0 & 0 & 0 & 0 & 0 & 0 & 0 & 0 & 0 & 0 & 0 & 0 & 0 & 0 & 0 & 0 & 0 & 0 & 0 & 0 & 0 & 0 & 0 & 0 & 0 & 0 & 0 & 0 & 0 & 0 & 0 & 0 & 0 & 0 & 0 & 0 & 0 & 0 & 0 & 0 & 0 & 0 & 0 & 0 & 0 & 0 & 0 & 0 & 0 & 0 & 0 & 0 & 0 & 0 & 0 & 0 & 0 & 0 \\\\\n",
       "0 & 0 & 0 & 0 & 0 & 0 & 0 & 0 & 0 & 0 & \\zeta_{12}^{2} - 1 & 0 & 0 & 0 & 0 & 0 & 0 & 0 & 0 & 0 & 0 & 0 & 0 & 0 & 0 & 0 & 0 & 0 & 0 & 0 & 0 & 0 & 0 & 0 & 0 & 0 & 0 & 0 & 0 & 0 & 0 & 0 & 0 & 0 & 0 & 0 & 0 & 0 & 0 & 0 & 0 & 0 & 0 & 0 & 0 & 0 & 0 & 0 & 0 & 0 & 0 & 0 & 0 & 0 & 0 & 0 & 0 & 0 & 0 & 0 & 0 & 0 \\\\\n",
       "0 & 0 & 0 & 0 & 0 & 0 & 0 & 0 & 0 & 0 & 0 & \\zeta_{12}^{2} - 1 & 0 & 0 & 0 & 0 & 0 & 0 & 0 & 0 & 0 & 0 & 0 & 0 & 0 & 0 & 0 & 0 & 0 & 0 & 0 & 0 & 0 & 0 & 0 & 0 & 0 & 0 & 0 & 0 & 0 & 0 & 0 & 0 & 0 & 0 & 0 & 0 & 0 & 0 & 0 & 0 & 0 & 0 & 0 & 0 & 0 & 0 & 0 & 0 & 0 & 0 & 0 & 0 & 0 & 0 & 0 & 0 & 0 & 0 & 0 & 0 \\\\\n",
       "0 & 0 & 0 & 0 & 0 & 0 & 0 & 0 & 0 & 0 & 0 & 0 & -\\zeta_{12}^{2} & 0 & 0 & 0 & 0 & 0 & 0 & 0 & 0 & 0 & 0 & 0 & 0 & 0 & 0 & 0 & 0 & 0 & 0 & 0 & 0 & 0 & 0 & 0 & 0 & 0 & 0 & 0 & 0 & 0 & 0 & 0 & 0 & 0 & 0 & 0 & 0 & 0 & 0 & 0 & 0 & 0 & 0 & 0 & 0 & 0 & 0 & 0 & 0 & 0 & 0 & 0 & 0 & 0 & 0 & 0 & 0 & 0 & 0 & 0 \\\\\n",
       "0 & 0 & 0 & 0 & 0 & 0 & 0 & 0 & 0 & 0 & 0 & 0 & 0 & -\\zeta_{12}^{2} & 0 & 0 & 0 & 0 & 0 & 0 & 0 & 0 & 0 & 0 & 0 & 0 & 0 & 0 & 0 & 0 & 0 & 0 & 0 & 0 & 0 & 0 & 0 & 0 & 0 & 0 & 0 & 0 & 0 & 0 & 0 & 0 & 0 & 0 & 0 & 0 & 0 & 0 & 0 & 0 & 0 & 0 & 0 & 0 & 0 & 0 & 0 & 0 & 0 & 0 & 0 & 0 & 0 & 0 & 0 & 0 & 0 & 0 \\\\\n",
       "0 & 0 & 0 & 0 & 0 & 0 & 0 & 0 & 0 & 0 & 0 & 0 & 0 & 0 & \\zeta_{12}^{2} - 1 & 0 & 0 & 0 & 0 & 0 & 0 & 0 & 0 & 0 & 0 & 0 & 0 & 0 & 0 & 0 & 0 & 0 & 0 & 0 & 0 & 0 & 0 & 0 & 0 & 0 & 0 & 0 & 0 & 0 & 0 & 0 & 0 & 0 & 0 & 0 & 0 & 0 & 0 & 0 & 0 & 0 & 0 & 0 & 0 & 0 & 0 & 0 & 0 & 0 & 0 & 0 & 0 & 0 & 0 & 0 & 0 & 0 \\\\\n",
       "0 & 0 & 0 & 0 & 0 & 0 & 0 & 0 & 0 & 0 & 0 & 0 & 0 & 0 & 0 & \\zeta_{12}^{2} - 1 & 0 & 0 & 0 & 0 & 0 & 0 & 0 & 0 & 0 & 0 & 0 & 0 & 0 & 0 & 0 & 0 & 0 & 0 & 0 & 0 & 0 & 0 & 0 & 0 & 0 & 0 & 0 & 0 & 0 & 0 & 0 & 0 & 0 & 0 & 0 & 0 & 0 & 0 & 0 & 0 & 0 & 0 & 0 & 0 & 0 & 0 & 0 & 0 & 0 & 0 & 0 & 0 & 0 & 0 & 0 & 0 \\\\\n",
       "0 & 0 & 0 & 0 & 0 & 0 & 0 & 0 & 0 & 0 & 0 & 0 & 0 & 0 & 0 & 0 & \\zeta_{12}^{2} - 1 & 0 & 0 & 0 & 0 & 0 & 0 & 0 & 0 & 0 & 0 & 0 & 0 & 0 & 0 & 0 & 0 & 0 & 0 & 0 & 0 & 0 & 0 & 0 & 0 & 0 & 0 & 0 & 0 & 0 & 0 & 0 & 0 & 0 & 0 & 0 & 0 & 0 & 0 & 0 & 0 & 0 & 0 & 0 & 0 & 0 & 0 & 0 & 0 & 0 & 0 & 0 & 0 & 0 & 0 & 0 \\\\\n",
       "0 & 0 & 0 & 0 & 0 & 0 & 0 & 0 & 0 & 0 & 0 & 0 & 0 & 0 & 0 & 0 & 0 & \\zeta_{12}^{2} - 1 & 0 & 0 & 0 & 0 & 0 & 0 & 0 & 0 & 0 & 0 & 0 & 0 & 0 & 0 & 0 & 0 & 0 & 0 & 0 & 0 & 0 & 0 & 0 & 0 & 0 & 0 & 0 & 0 & 0 & 0 & 0 & 0 & 0 & 0 & 0 & 0 & 0 & 0 & 0 & 0 & 0 & 0 & 0 & 0 & 0 & 0 & 0 & 0 & 0 & 0 & 0 & 0 & 0 & 0 \\\\\n",
       "\\hline\n",
       " 0 & 0 & 0 & 0 & 0 & 0 & 0 & 0 & 0 & 0 & 0 & 0 & 0 & 0 & 0 & 0 & 0 & 0 & 1 & 0 & 0 & 0 & 0 & 0 & 0 & 0 & 0 & 0 & 0 & 0 & 0 & 0 & 0 & 0 & 0 & 0 & 0 & 0 & 0 & 0 & 0 & 0 & 0 & 0 & 0 & 0 & 0 & 0 & 0 & 0 & 0 & 0 & 0 & 0 & 0 & 0 & 0 & 0 & 0 & 0 & 0 & 0 & 0 & 0 & 0 & 0 & 0 & 0 & 0 & 0 & 0 & 0 \\\\\n",
       "0 & 0 & 0 & 0 & 0 & 0 & 0 & 0 & 0 & 0 & 0 & 0 & 0 & 0 & 0 & 0 & 0 & 0 & 0 & 1 & 0 & 0 & 0 & 0 & 0 & 0 & 0 & 0 & 0 & 0 & 0 & 0 & 0 & 0 & 0 & 0 & 0 & 0 & 0 & 0 & 0 & 0 & 0 & 0 & 0 & 0 & 0 & 0 & 0 & 0 & 0 & 0 & 0 & 0 & 0 & 0 & 0 & 0 & 0 & 0 & 0 & 0 & 0 & 0 & 0 & 0 & 0 & 0 & 0 & 0 & 0 & 0 \\\\\n",
       "0 & 0 & 0 & 0 & 0 & 0 & 0 & 0 & 0 & 0 & 0 & 0 & 0 & 0 & 0 & 0 & 0 & 0 & 0 & 0 & \\zeta_{12}^{2} - 1 & 0 & 0 & 0 & 0 & 0 & 0 & 0 & 0 & 0 & 0 & 0 & 0 & 0 & 0 & 0 & 0 & 0 & 0 & 0 & 0 & 0 & 0 & 0 & 0 & 0 & 0 & 0 & 0 & 0 & 0 & 0 & 0 & 0 & 0 & 0 & 0 & 0 & 0 & 0 & 0 & 0 & 0 & 0 & 0 & 0 & 0 & 0 & 0 & 0 & 0 & 0 \\\\\n",
       "0 & 0 & 0 & 0 & 0 & 0 & 0 & 0 & 0 & 0 & 0 & 0 & 0 & 0 & 0 & 0 & 0 & 0 & 0 & 0 & 0 & 1 & 0 & 0 & 0 & 0 & 0 & 0 & 0 & 0 & 0 & 0 & 0 & 0 & 0 & 0 & 0 & 0 & 0 & 0 & 0 & 0 & 0 & 0 & 0 & 0 & 0 & 0 & 0 & 0 & 0 & 0 & 0 & 0 & 0 & 0 & 0 & 0 & 0 & 0 & 0 & 0 & 0 & 0 & 0 & 0 & 0 & 0 & 0 & 0 & 0 & 0 \\\\\n",
       "0 & 0 & 0 & 0 & 0 & 0 & 0 & 0 & 0 & 0 & 0 & 0 & 0 & 0 & 0 & 0 & 0 & 0 & 0 & 0 & 0 & 0 & 1 & 0 & 0 & 0 & 0 & 0 & 0 & 0 & 0 & 0 & 0 & 0 & 0 & 0 & 0 & 0 & 0 & 0 & 0 & 0 & 0 & 0 & 0 & 0 & 0 & 0 & 0 & 0 & 0 & 0 & 0 & 0 & 0 & 0 & 0 & 0 & 0 & 0 & 0 & 0 & 0 & 0 & 0 & 0 & 0 & 0 & 0 & 0 & 0 & 0 \\\\\n",
       "0 & 0 & 0 & 0 & 0 & 0 & 0 & 0 & 0 & 0 & 0 & 0 & 0 & 0 & 0 & 0 & 0 & 0 & 0 & 0 & 0 & 0 & 0 & 1 & 0 & 0 & 0 & 0 & 0 & 0 & 0 & 0 & 0 & 0 & 0 & 0 & 0 & 0 & 0 & 0 & 0 & 0 & 0 & 0 & 0 & 0 & 0 & 0 & 0 & 0 & 0 & 0 & 0 & 0 & 0 & 0 & 0 & 0 & 0 & 0 & 0 & 0 & 0 & 0 & 0 & 0 & 0 & 0 & 0 & 0 & 0 & 0 \\\\\n",
       "0 & 0 & 0 & 0 & 0 & 0 & 0 & 0 & 0 & 0 & 0 & 0 & 0 & 0 & 0 & 0 & 0 & 0 & 0 & 0 & 0 & 0 & 0 & 0 & 1 & 0 & 0 & 0 & 0 & 0 & 0 & 0 & 0 & 0 & 0 & 0 & 0 & 0 & 0 & 0 & 0 & 0 & 0 & 0 & 0 & 0 & 0 & 0 & 0 & 0 & 0 & 0 & 0 & 0 & 0 & 0 & 0 & 0 & 0 & 0 & 0 & 0 & 0 & 0 & 0 & 0 & 0 & 0 & 0 & 0 & 0 & 0 \\\\\n",
       "0 & 0 & 0 & 0 & 0 & 0 & 0 & 0 & 0 & 0 & 0 & 0 & 0 & 0 & 0 & 0 & 0 & 0 & 0 & 0 & 0 & 0 & 0 & 0 & 0 & -\\zeta_{12}^{2} & 0 & 0 & 0 & 0 & 0 & 0 & 0 & 0 & 0 & 0 & 0 & 0 & 0 & 0 & 0 & 0 & 0 & 0 & 0 & 0 & 0 & 0 & 0 & 0 & 0 & 0 & 0 & 0 & 0 & 0 & 0 & 0 & 0 & 0 & 0 & 0 & 0 & 0 & 0 & 0 & 0 & 0 & 0 & 0 & 0 & 0 \\\\\n",
       "0 & 0 & 0 & 0 & 0 & 0 & 0 & 0 & 0 & 0 & 0 & 0 & 0 & 0 & 0 & 0 & 0 & 0 & 0 & 0 & 0 & 0 & 0 & 0 & 0 & 0 & \\zeta_{12}^{2} - 1 & 0 & 0 & 0 & 0 & 0 & 0 & 0 & 0 & 0 & 0 & 0 & 0 & 0 & 0 & 0 & 0 & 0 & 0 & 0 & 0 & 0 & 0 & 0 & 0 & 0 & 0 & 0 & 0 & 0 & 0 & 0 & 0 & 0 & 0 & 0 & 0 & 0 & 0 & 0 & 0 & 0 & 0 & 0 & 0 & 0 \\\\\n",
       "0 & 0 & 0 & 0 & 0 & 0 & 0 & 0 & 0 & 0 & 0 & 0 & 0 & 0 & 0 & 0 & 0 & 0 & 0 & 0 & 0 & 0 & 0 & 0 & 0 & 0 & 0 & -\\zeta_{12}^{2} & 0 & 0 & 0 & 0 & 0 & 0 & 0 & 0 & 0 & 0 & 0 & 0 & 0 & 0 & 0 & 0 & 0 & 0 & 0 & 0 & 0 & 0 & 0 & 0 & 0 & 0 & 0 & 0 & 0 & 0 & 0 & 0 & 0 & 0 & 0 & 0 & 0 & 0 & 0 & 0 & 0 & 0 & 0 & 0 \\\\\n",
       "0 & 0 & 0 & 0 & 0 & 0 & 0 & 0 & 0 & 0 & 0 & 0 & 0 & 0 & 0 & 0 & 0 & 0 & 0 & 0 & 0 & 0 & 0 & 0 & 0 & 0 & 0 & 0 & 1 & 0 & 0 & 0 & 0 & 0 & 0 & 0 & 0 & 0 & 0 & 0 & 0 & 0 & 0 & 0 & 0 & 0 & 0 & 0 & 0 & 0 & 0 & 0 & 0 & 0 & 0 & 0 & 0 & 0 & 0 & 0 & 0 & 0 & 0 & 0 & 0 & 0 & 0 & 0 & 0 & 0 & 0 & 0 \\\\\n",
       "0 & 0 & 0 & 0 & 0 & 0 & 0 & 0 & 0 & 0 & 0 & 0 & 0 & 0 & 0 & 0 & 0 & 0 & 0 & 0 & 0 & 0 & 0 & 0 & 0 & 0 & 0 & 0 & 0 & \\zeta_{12}^{2} - 1 & 0 & 0 & 0 & 0 & 0 & 0 & 0 & 0 & 0 & 0 & 0 & 0 & 0 & 0 & 0 & 0 & 0 & 0 & 0 & 0 & 0 & 0 & 0 & 0 & 0 & 0 & 0 & 0 & 0 & 0 & 0 & 0 & 0 & 0 & 0 & 0 & 0 & 0 & 0 & 0 & 0 & 0 \\\\\n",
       "0 & 0 & 0 & 0 & 0 & 0 & 0 & 0 & 0 & 0 & 0 & 0 & 0 & 0 & 0 & 0 & 0 & 0 & 0 & 0 & 0 & 0 & 0 & 0 & 0 & 0 & 0 & 0 & 0 & 0 & -\\zeta_{12}^{2} & 0 & 0 & 0 & 0 & 0 & 0 & 0 & 0 & 0 & 0 & 0 & 0 & 0 & 0 & 0 & 0 & 0 & 0 & 0 & 0 & 0 & 0 & 0 & 0 & 0 & 0 & 0 & 0 & 0 & 0 & 0 & 0 & 0 & 0 & 0 & 0 & 0 & 0 & 0 & 0 & 0 \\\\\n",
       "0 & 0 & 0 & 0 & 0 & 0 & 0 & 0 & 0 & 0 & 0 & 0 & 0 & 0 & 0 & 0 & 0 & 0 & 0 & 0 & 0 & 0 & 0 & 0 & 0 & 0 & 0 & 0 & 0 & 0 & 0 & -\\zeta_{12}^{2} & 0 & 0 & 0 & 0 & 0 & 0 & 0 & 0 & 0 & 0 & 0 & 0 & 0 & 0 & 0 & 0 & 0 & 0 & 0 & 0 & 0 & 0 & 0 & 0 & 0 & 0 & 0 & 0 & 0 & 0 & 0 & 0 & 0 & 0 & 0 & 0 & 0 & 0 & 0 & 0 \\\\\n",
       "0 & 0 & 0 & 0 & 0 & 0 & 0 & 0 & 0 & 0 & 0 & 0 & 0 & 0 & 0 & 0 & 0 & 0 & 0 & 0 & 0 & 0 & 0 & 0 & 0 & 0 & 0 & 0 & 0 & 0 & 0 & 0 & 1 & 0 & 0 & 0 & 0 & 0 & 0 & 0 & 0 & 0 & 0 & 0 & 0 & 0 & 0 & 0 & 0 & 0 & 0 & 0 & 0 & 0 & 0 & 0 & 0 & 0 & 0 & 0 & 0 & 0 & 0 & 0 & 0 & 0 & 0 & 0 & 0 & 0 & 0 & 0 \\\\\n",
       "0 & 0 & 0 & 0 & 0 & 0 & 0 & 0 & 0 & 0 & 0 & 0 & 0 & 0 & 0 & 0 & 0 & 0 & 0 & 0 & 0 & 0 & 0 & 0 & 0 & 0 & 0 & 0 & 0 & 0 & 0 & 0 & 0 & 1 & 0 & 0 & 0 & 0 & 0 & 0 & 0 & 0 & 0 & 0 & 0 & 0 & 0 & 0 & 0 & 0 & 0 & 0 & 0 & 0 & 0 & 0 & 0 & 0 & 0 & 0 & 0 & 0 & 0 & 0 & 0 & 0 & 0 & 0 & 0 & 0 & 0 & 0 \\\\\n",
       "0 & 0 & 0 & 0 & 0 & 0 & 0 & 0 & 0 & 0 & 0 & 0 & 0 & 0 & 0 & 0 & 0 & 0 & 0 & 0 & 0 & 0 & 0 & 0 & 0 & 0 & 0 & 0 & 0 & 0 & 0 & 0 & 0 & 0 & 1 & 0 & 0 & 0 & 0 & 0 & 0 & 0 & 0 & 0 & 0 & 0 & 0 & 0 & 0 & 0 & 0 & 0 & 0 & 0 & 0 & 0 & 0 & 0 & 0 & 0 & 0 & 0 & 0 & 0 & 0 & 0 & 0 & 0 & 0 & 0 & 0 & 0 \\\\\n",
       "0 & 0 & 0 & 0 & 0 & 0 & 0 & 0 & 0 & 0 & 0 & 0 & 0 & 0 & 0 & 0 & 0 & 0 & 0 & 0 & 0 & 0 & 0 & 0 & 0 & 0 & 0 & 0 & 0 & 0 & 0 & 0 & 0 & 0 & 0 & 1 & 0 & 0 & 0 & 0 & 0 & 0 & 0 & 0 & 0 & 0 & 0 & 0 & 0 & 0 & 0 & 0 & 0 & 0 & 0 & 0 & 0 & 0 & 0 & 0 & 0 & 0 & 0 & 0 & 0 & 0 & 0 & 0 & 0 & 0 & 0 & 0 \\\\\n",
       "0 & 0 & 0 & 0 & 0 & 0 & 0 & 0 & 0 & 0 & 0 & 0 & 0 & 0 & 0 & 0 & 0 & 0 & 0 & 0 & 0 & 0 & 0 & 0 & 0 & 0 & 0 & 0 & 0 & 0 & 0 & 0 & 0 & 0 & 0 & 0 & \\zeta_{12}^{2} - 1 & 0 & 0 & 0 & 0 & 0 & 0 & 0 & 0 & 0 & 0 & 0 & 0 & 0 & 0 & 0 & 0 & 0 & 0 & 0 & 0 & 0 & 0 & 0 & 0 & 0 & 0 & 0 & 0 & 0 & 0 & 0 & 0 & 0 & 0 & 0 \\\\\n",
       "0 & 0 & 0 & 0 & 0 & 0 & 0 & 0 & 0 & 0 & 0 & 0 & 0 & 0 & 0 & 0 & 0 & 0 & 0 & 0 & 0 & 0 & 0 & 0 & 0 & 0 & 0 & 0 & 0 & 0 & 0 & 0 & 0 & 0 & 0 & 0 & 0 & \\zeta_{12}^{2} - 1 & 0 & 0 & 0 & 0 & 0 & 0 & 0 & 0 & 0 & 0 & 0 & 0 & 0 & 0 & 0 & 0 & 0 & 0 & 0 & 0 & 0 & 0 & 0 & 0 & 0 & 0 & 0 & 0 & 0 & 0 & 0 & 0 & 0 & 0 \\\\\n",
       "0 & 0 & 0 & 0 & 0 & 0 & 0 & 0 & 0 & 0 & 0 & 0 & 0 & 0 & 0 & 0 & 0 & 0 & 0 & 0 & 0 & 0 & 0 & 0 & 0 & 0 & 0 & 0 & 0 & 0 & 0 & 0 & 0 & 0 & 0 & 0 & 0 & 0 & \\zeta_{12}^{2} - 1 & 0 & 0 & 0 & 0 & 0 & 0 & 0 & 0 & 0 & 0 & 0 & 0 & 0 & 0 & 0 & 0 & 0 & 0 & 0 & 0 & 0 & 0 & 0 & 0 & 0 & 0 & 0 & 0 & 0 & 0 & 0 & 0 & 0 \\\\\n",
       "0 & 0 & 0 & 0 & 0 & 0 & 0 & 0 & 0 & 0 & 0 & 0 & 0 & 0 & 0 & 0 & 0 & 0 & 0 & 0 & 0 & 0 & 0 & 0 & 0 & 0 & 0 & 0 & 0 & 0 & 0 & 0 & 0 & 0 & 0 & 0 & 0 & 0 & 0 & 1 & 0 & 0 & 0 & 0 & 0 & 0 & 0 & 0 & 0 & 0 & 0 & 0 & 0 & 0 & 0 & 0 & 0 & 0 & 0 & 0 & 0 & 0 & 0 & 0 & 0 & 0 & 0 & 0 & 0 & 0 & 0 & 0 \\\\\n",
       "0 & 0 & 0 & 0 & 0 & 0 & 0 & 0 & 0 & 0 & 0 & 0 & 0 & 0 & 0 & 0 & 0 & 0 & 0 & 0 & 0 & 0 & 0 & 0 & 0 & 0 & 0 & 0 & 0 & 0 & 0 & 0 & 0 & 0 & 0 & 0 & 0 & 0 & 0 & 0 & -\\zeta_{12}^{2} & 0 & 0 & 0 & 0 & 0 & 0 & 0 & 0 & 0 & 0 & 0 & 0 & 0 & 0 & 0 & 0 & 0 & 0 & 0 & 0 & 0 & 0 & 0 & 0 & 0 & 0 & 0 & 0 & 0 & 0 & 0 \\\\\n",
       "0 & 0 & 0 & 0 & 0 & 0 & 0 & 0 & 0 & 0 & 0 & 0 & 0 & 0 & 0 & 0 & 0 & 0 & 0 & 0 & 0 & 0 & 0 & 0 & 0 & 0 & 0 & 0 & 0 & 0 & 0 & 0 & 0 & 0 & 0 & 0 & 0 & 0 & 0 & 0 & 0 & \\zeta_{12}^{2} - 1 & 0 & 0 & 0 & 0 & 0 & 0 & 0 & 0 & 0 & 0 & 0 & 0 & 0 & 0 & 0 & 0 & 0 & 0 & 0 & 0 & 0 & 0 & 0 & 0 & 0 & 0 & 0 & 0 & 0 & 0 \\\\\n",
       "0 & 0 & 0 & 0 & 0 & 0 & 0 & 0 & 0 & 0 & 0 & 0 & 0 & 0 & 0 & 0 & 0 & 0 & 0 & 0 & 0 & 0 & 0 & 0 & 0 & 0 & 0 & 0 & 0 & 0 & 0 & 0 & 0 & 0 & 0 & 0 & 0 & 0 & 0 & 0 & 0 & 0 & \\zeta_{12}^{2} - 1 & 0 & 0 & 0 & 0 & 0 & 0 & 0 & 0 & 0 & 0 & 0 & 0 & 0 & 0 & 0 & 0 & 0 & 0 & 0 & 0 & 0 & 0 & 0 & 0 & 0 & 0 & 0 & 0 & 0 \\\\\n",
       "0 & 0 & 0 & 0 & 0 & 0 & 0 & 0 & 0 & 0 & 0 & 0 & 0 & 0 & 0 & 0 & 0 & 0 & 0 & 0 & 0 & 0 & 0 & 0 & 0 & 0 & 0 & 0 & 0 & 0 & 0 & 0 & 0 & 0 & 0 & 0 & 0 & 0 & 0 & 0 & 0 & 0 & 0 & 1 & 0 & 0 & 0 & 0 & 0 & 0 & 0 & 0 & 0 & 0 & 0 & 0 & 0 & 0 & 0 & 0 & 0 & 0 & 0 & 0 & 0 & 0 & 0 & 0 & 0 & 0 & 0 & 0 \\\\\n",
       "0 & 0 & 0 & 0 & 0 & 0 & 0 & 0 & 0 & 0 & 0 & 0 & 0 & 0 & 0 & 0 & 0 & 0 & 0 & 0 & 0 & 0 & 0 & 0 & 0 & 0 & 0 & 0 & 0 & 0 & 0 & 0 & 0 & 0 & 0 & 0 & 0 & 0 & 0 & 0 & 0 & 0 & 0 & 0 & -\\zeta_{12}^{2} & 0 & 0 & 0 & 0 & 0 & 0 & 0 & 0 & 0 & 0 & 0 & 0 & 0 & 0 & 0 & 0 & 0 & 0 & 0 & 0 & 0 & 0 & 0 & 0 & 0 & 0 & 0 \\\\\n",
       "0 & 0 & 0 & 0 & 0 & 0 & 0 & 0 & 0 & 0 & 0 & 0 & 0 & 0 & 0 & 0 & 0 & 0 & 0 & 0 & 0 & 0 & 0 & 0 & 0 & 0 & 0 & 0 & 0 & 0 & 0 & 0 & 0 & 0 & 0 & 0 & 0 & 0 & 0 & 0 & 0 & 0 & 0 & 0 & 0 & -\\zeta_{12}^{2} & 0 & 0 & 0 & 0 & 0 & 0 & 0 & 0 & 0 & 0 & 0 & 0 & 0 & 0 & 0 & 0 & 0 & 0 & 0 & 0 & 0 & 0 & 0 & 0 & 0 & 0 \\\\\n",
       "0 & 0 & 0 & 0 & 0 & 0 & 0 & 0 & 0 & 0 & 0 & 0 & 0 & 0 & 0 & 0 & 0 & 0 & 0 & 0 & 0 & 0 & 0 & 0 & 0 & 0 & 0 & 0 & 0 & 0 & 0 & 0 & 0 & 0 & 0 & 0 & 0 & 0 & 0 & 0 & 0 & 0 & 0 & 0 & 0 & 0 & 1 & 0 & 0 & 0 & 0 & 0 & 0 & 0 & 0 & 0 & 0 & 0 & 0 & 0 & 0 & 0 & 0 & 0 & 0 & 0 & 0 & 0 & 0 & 0 & 0 & 0 \\\\\n",
       "0 & 0 & 0 & 0 & 0 & 0 & 0 & 0 & 0 & 0 & 0 & 0 & 0 & 0 & 0 & 0 & 0 & 0 & 0 & 0 & 0 & 0 & 0 & 0 & 0 & 0 & 0 & 0 & 0 & 0 & 0 & 0 & 0 & 0 & 0 & 0 & 0 & 0 & 0 & 0 & 0 & 0 & 0 & 0 & 0 & 0 & 0 & \\zeta_{12}^{2} - 1 & 0 & 0 & 0 & 0 & 0 & 0 & 0 & 0 & 0 & 0 & 0 & 0 & 0 & 0 & 0 & 0 & 0 & 0 & 0 & 0 & 0 & 0 & 0 & 0 \\\\\n",
       "0 & 0 & 0 & 0 & 0 & 0 & 0 & 0 & 0 & 0 & 0 & 0 & 0 & 0 & 0 & 0 & 0 & 0 & 0 & 0 & 0 & 0 & 0 & 0 & 0 & 0 & 0 & 0 & 0 & 0 & 0 & 0 & 0 & 0 & 0 & 0 & 0 & 0 & 0 & 0 & 0 & 0 & 0 & 0 & 0 & 0 & 0 & 0 & -\\zeta_{12}^{2} & 0 & 0 & 0 & 0 & 0 & 0 & 0 & 0 & 0 & 0 & 0 & 0 & 0 & 0 & 0 & 0 & 0 & 0 & 0 & 0 & 0 & 0 & 0 \\\\\n",
       "0 & 0 & 0 & 0 & 0 & 0 & 0 & 0 & 0 & 0 & 0 & 0 & 0 & 0 & 0 & 0 & 0 & 0 & 0 & 0 & 0 & 0 & 0 & 0 & 0 & 0 & 0 & 0 & 0 & 0 & 0 & 0 & 0 & 0 & 0 & 0 & 0 & 0 & 0 & 0 & 0 & 0 & 0 & 0 & 0 & 0 & 0 & 0 & 0 & \\zeta_{12}^{2} - 1 & 0 & 0 & 0 & 0 & 0 & 0 & 0 & 0 & 0 & 0 & 0 & 0 & 0 & 0 & 0 & 0 & 0 & 0 & 0 & 0 & 0 & 0 \\\\\n",
       "0 & 0 & 0 & 0 & 0 & 0 & 0 & 0 & 0 & 0 & 0 & 0 & 0 & 0 & 0 & 0 & 0 & 0 & 0 & 0 & 0 & 0 & 0 & 0 & 0 & 0 & 0 & 0 & 0 & 0 & 0 & 0 & 0 & 0 & 0 & 0 & 0 & 0 & 0 & 0 & 0 & 0 & 0 & 0 & 0 & 0 & 0 & 0 & 0 & 0 & -\\zeta_{12}^{2} & 0 & 0 & 0 & 0 & 0 & 0 & 0 & 0 & 0 & 0 & 0 & 0 & 0 & 0 & 0 & 0 & 0 & 0 & 0 & 0 & 0 \\\\\n",
       "0 & 0 & 0 & 0 & 0 & 0 & 0 & 0 & 0 & 0 & 0 & 0 & 0 & 0 & 0 & 0 & 0 & 0 & 0 & 0 & 0 & 0 & 0 & 0 & 0 & 0 & 0 & 0 & 0 & 0 & 0 & 0 & 0 & 0 & 0 & 0 & 0 & 0 & 0 & 0 & 0 & 0 & 0 & 0 & 0 & 0 & 0 & 0 & 0 & 0 & 0 & 1 & 0 & 0 & 0 & 0 & 0 & 0 & 0 & 0 & 0 & 0 & 0 & 0 & 0 & 0 & 0 & 0 & 0 & 0 & 0 & 0 \\\\\n",
       "0 & 0 & 0 & 0 & 0 & 0 & 0 & 0 & 0 & 0 & 0 & 0 & 0 & 0 & 0 & 0 & 0 & 0 & 0 & 0 & 0 & 0 & 0 & 0 & 0 & 0 & 0 & 0 & 0 & 0 & 0 & 0 & 0 & 0 & 0 & 0 & 0 & 0 & 0 & 0 & 0 & 0 & 0 & 0 & 0 & 0 & 0 & 0 & 0 & 0 & 0 & 0 & -\\zeta_{12}^{2} & 0 & 0 & 0 & 0 & 0 & 0 & 0 & 0 & 0 & 0 & 0 & 0 & 0 & 0 & 0 & 0 & 0 & 0 & 0 \\\\\n",
       "0 & 0 & 0 & 0 & 0 & 0 & 0 & 0 & 0 & 0 & 0 & 0 & 0 & 0 & 0 & 0 & 0 & 0 & 0 & 0 & 0 & 0 & 0 & 0 & 0 & 0 & 0 & 0 & 0 & 0 & 0 & 0 & 0 & 0 & 0 & 0 & 0 & 0 & 0 & 0 & 0 & 0 & 0 & 0 & 0 & 0 & 0 & 0 & 0 & 0 & 0 & 0 & 0 & 1 & 0 & 0 & 0 & 0 & 0 & 0 & 0 & 0 & 0 & 0 & 0 & 0 & 0 & 0 & 0 & 0 & 0 & 0 \\\\\n",
       "\\hline\n",
       " 0 & 0 & 0 & 0 & 0 & 0 & 0 & 0 & 0 & 0 & 0 & 0 & 0 & 0 & 0 & 0 & 0 & 0 & 0 & 0 & 0 & 0 & 0 & 0 & 0 & 0 & 0 & 0 & 0 & 0 & 0 & 0 & 0 & 0 & 0 & 0 & 0 & 0 & 0 & 0 & 0 & 0 & 0 & 0 & 0 & 0 & 0 & 0 & 0 & 0 & 0 & 0 & 0 & 0 & \\zeta_{12}^{3} & 0 & 0 & 0 & 0 & 0 & 0 & 0 & 0 & 0 & 0 & 0 & 0 & 0 & 0 & 0 & 0 & 0 \\\\\n",
       "0 & 0 & 0 & 0 & 0 & 0 & 0 & 0 & 0 & 0 & 0 & 0 & 0 & 0 & 0 & 0 & 0 & 0 & 0 & 0 & 0 & 0 & 0 & 0 & 0 & 0 & 0 & 0 & 0 & 0 & 0 & 0 & 0 & 0 & 0 & 0 & 0 & 0 & 0 & 0 & 0 & 0 & 0 & 0 & 0 & 0 & 0 & 0 & 0 & 0 & 0 & 0 & 0 & 0 & 0 & -\\zeta_{12}^{3} & 0 & 0 & 0 & 0 & 0 & 0 & 0 & 0 & 0 & 0 & 0 & 0 & 0 & 0 & 0 & 0 \\\\\n",
       "0 & 0 & 0 & 0 & 0 & 0 & 0 & 0 & 0 & 0 & 0 & 0 & 0 & 0 & 0 & 0 & 0 & 0 & 0 & 0 & 0 & 0 & 0 & 0 & 0 & 0 & 0 & 0 & 0 & 0 & 0 & 0 & 0 & 0 & 0 & 0 & 0 & 0 & 0 & 0 & 0 & 0 & 0 & 0 & 0 & 0 & 0 & 0 & 0 & 0 & 0 & 0 & 0 & 0 & 0 & 0 & -\\zeta_{12}^{3} + \\zeta_{12} & 0 & 0 & 0 & 0 & 0 & 0 & 0 & 0 & 0 & 0 & 0 & 0 & 0 & 0 & 0 \\\\\n",
       "0 & 0 & 0 & 0 & 0 & 0 & 0 & 0 & 0 & 0 & 0 & 0 & 0 & 0 & 0 & 0 & 0 & 0 & 0 & 0 & 0 & 0 & 0 & 0 & 0 & 0 & 0 & 0 & 0 & 0 & 0 & 0 & 0 & 0 & 0 & 0 & 0 & 0 & 0 & 0 & 0 & 0 & 0 & 0 & 0 & 0 & 0 & 0 & 0 & 0 & 0 & 0 & 0 & 0 & 0 & 0 & 0 & \\zeta_{12}^{3} - \\zeta_{12} & 0 & 0 & 0 & 0 & 0 & 0 & 0 & 0 & 0 & 0 & 0 & 0 & 0 & 0 \\\\\n",
       "0 & 0 & 0 & 0 & 0 & 0 & 0 & 0 & 0 & 0 & 0 & 0 & 0 & 0 & 0 & 0 & 0 & 0 & 0 & 0 & 0 & 0 & 0 & 0 & 0 & 0 & 0 & 0 & 0 & 0 & 0 & 0 & 0 & 0 & 0 & 0 & 0 & 0 & 0 & 0 & 0 & 0 & 0 & 0 & 0 & 0 & 0 & 0 & 0 & 0 & 0 & 0 & 0 & 0 & 0 & 0 & 0 & 0 & -\\zeta_{12}^{3} + \\zeta_{12} & 0 & 0 & 0 & 0 & 0 & 0 & 0 & 0 & 0 & 0 & 0 & 0 & 0 \\\\\n",
       "0 & 0 & 0 & 0 & 0 & 0 & 0 & 0 & 0 & 0 & 0 & 0 & 0 & 0 & 0 & 0 & 0 & 0 & 0 & 0 & 0 & 0 & 0 & 0 & 0 & 0 & 0 & 0 & 0 & 0 & 0 & 0 & 0 & 0 & 0 & 0 & 0 & 0 & 0 & 0 & 0 & 0 & 0 & 0 & 0 & 0 & 0 & 0 & 0 & 0 & 0 & 0 & 0 & 0 & 0 & 0 & 0 & 0 & 0 & \\zeta_{12}^{3} - \\zeta_{12} & 0 & 0 & 0 & 0 & 0 & 0 & 0 & 0 & 0 & 0 & 0 & 0 \\\\\n",
       "0 & 0 & 0 & 0 & 0 & 0 & 0 & 0 & 0 & 0 & 0 & 0 & 0 & 0 & 0 & 0 & 0 & 0 & 0 & 0 & 0 & 0 & 0 & 0 & 0 & 0 & 0 & 0 & 0 & 0 & 0 & 0 & 0 & 0 & 0 & 0 & 0 & 0 & 0 & 0 & 0 & 0 & 0 & 0 & 0 & 0 & 0 & 0 & 0 & 0 & 0 & 0 & 0 & 0 & 0 & 0 & 0 & 0 & 0 & 0 & -\\zeta_{12}^{3} + \\zeta_{12} & 0 & 0 & 0 & 0 & 0 & 0 & 0 & 0 & 0 & 0 & 0 \\\\\n",
       "0 & 0 & 0 & 0 & 0 & 0 & 0 & 0 & 0 & 0 & 0 & 0 & 0 & 0 & 0 & 0 & 0 & 0 & 0 & 0 & 0 & 0 & 0 & 0 & 0 & 0 & 0 & 0 & 0 & 0 & 0 & 0 & 0 & 0 & 0 & 0 & 0 & 0 & 0 & 0 & 0 & 0 & 0 & 0 & 0 & 0 & 0 & 0 & 0 & 0 & 0 & 0 & 0 & 0 & 0 & 0 & 0 & 0 & 0 & 0 & 0 & \\zeta_{12}^{3} - \\zeta_{12} & 0 & 0 & 0 & 0 & 0 & 0 & 0 & 0 & 0 & 0 \\\\\n",
       "0 & 0 & 0 & 0 & 0 & 0 & 0 & 0 & 0 & 0 & 0 & 0 & 0 & 0 & 0 & 0 & 0 & 0 & 0 & 0 & 0 & 0 & 0 & 0 & 0 & 0 & 0 & 0 & 0 & 0 & 0 & 0 & 0 & 0 & 0 & 0 & 0 & 0 & 0 & 0 & 0 & 0 & 0 & 0 & 0 & 0 & 0 & 0 & 0 & 0 & 0 & 0 & 0 & 0 & 0 & 0 & 0 & 0 & 0 & 0 & 0 & 0 & -\\zeta_{12} & 0 & 0 & 0 & 0 & 0 & 0 & 0 & 0 & 0 \\\\\n",
       "0 & 0 & 0 & 0 & 0 & 0 & 0 & 0 & 0 & 0 & 0 & 0 & 0 & 0 & 0 & 0 & 0 & 0 & 0 & 0 & 0 & 0 & 0 & 0 & 0 & 0 & 0 & 0 & 0 & 0 & 0 & 0 & 0 & 0 & 0 & 0 & 0 & 0 & 0 & 0 & 0 & 0 & 0 & 0 & 0 & 0 & 0 & 0 & 0 & 0 & 0 & 0 & 0 & 0 & 0 & 0 & 0 & 0 & 0 & 0 & 0 & 0 & 0 & \\zeta_{12} & 0 & 0 & 0 & 0 & 0 & 0 & 0 & 0 \\\\\n",
       "0 & 0 & 0 & 0 & 0 & 0 & 0 & 0 & 0 & 0 & 0 & 0 & 0 & 0 & 0 & 0 & 0 & 0 & 0 & 0 & 0 & 0 & 0 & 0 & 0 & 0 & 0 & 0 & 0 & 0 & 0 & 0 & 0 & 0 & 0 & 0 & 0 & 0 & 0 & 0 & 0 & 0 & 0 & 0 & 0 & 0 & 0 & 0 & 0 & 0 & 0 & 0 & 0 & 0 & 0 & 0 & 0 & 0 & 0 & 0 & 0 & 0 & 0 & 0 & -\\zeta_{12} & 0 & 0 & 0 & 0 & 0 & 0 & 0 \\\\\n",
       "0 & 0 & 0 & 0 & 0 & 0 & 0 & 0 & 0 & 0 & 0 & 0 & 0 & 0 & 0 & 0 & 0 & 0 & 0 & 0 & 0 & 0 & 0 & 0 & 0 & 0 & 0 & 0 & 0 & 0 & 0 & 0 & 0 & 0 & 0 & 0 & 0 & 0 & 0 & 0 & 0 & 0 & 0 & 0 & 0 & 0 & 0 & 0 & 0 & 0 & 0 & 0 & 0 & 0 & 0 & 0 & 0 & 0 & 0 & 0 & 0 & 0 & 0 & 0 & 0 & \\zeta_{12} & 0 & 0 & 0 & 0 & 0 & 0 \\\\\n",
       "0 & 0 & 0 & 0 & 0 & 0 & 0 & 0 & 0 & 0 & 0 & 0 & 0 & 0 & 0 & 0 & 0 & 0 & 0 & 0 & 0 & 0 & 0 & 0 & 0 & 0 & 0 & 0 & 0 & 0 & 0 & 0 & 0 & 0 & 0 & 0 & 0 & 0 & 0 & 0 & 0 & 0 & 0 & 0 & 0 & 0 & 0 & 0 & 0 & 0 & 0 & 0 & 0 & 0 & 0 & 0 & 0 & 0 & 0 & 0 & 0 & 0 & 0 & 0 & 0 & 0 & -\\zeta_{12}^{3} + \\zeta_{12} & 0 & 0 & 0 & 0 & 0 \\\\\n",
       "0 & 0 & 0 & 0 & 0 & 0 & 0 & 0 & 0 & 0 & 0 & 0 & 0 & 0 & 0 & 0 & 0 & 0 & 0 & 0 & 0 & 0 & 0 & 0 & 0 & 0 & 0 & 0 & 0 & 0 & 0 & 0 & 0 & 0 & 0 & 0 & 0 & 0 & 0 & 0 & 0 & 0 & 0 & 0 & 0 & 0 & 0 & 0 & 0 & 0 & 0 & 0 & 0 & 0 & 0 & 0 & 0 & 0 & 0 & 0 & 0 & 0 & 0 & 0 & 0 & 0 & 0 & \\zeta_{12}^{3} - \\zeta_{12} & 0 & 0 & 0 & 0 \\\\\n",
       "0 & 0 & 0 & 0 & 0 & 0 & 0 & 0 & 0 & 0 & 0 & 0 & 0 & 0 & 0 & 0 & 0 & 0 & 0 & 0 & 0 & 0 & 0 & 0 & 0 & 0 & 0 & 0 & 0 & 0 & 0 & 0 & 0 & 0 & 0 & 0 & 0 & 0 & 0 & 0 & 0 & 0 & 0 & 0 & 0 & 0 & 0 & 0 & 0 & 0 & 0 & 0 & 0 & 0 & 0 & 0 & 0 & 0 & 0 & 0 & 0 & 0 & 0 & 0 & 0 & 0 & 0 & 0 & -\\zeta_{12} & 0 & 0 & 0 \\\\\n",
       "0 & 0 & 0 & 0 & 0 & 0 & 0 & 0 & 0 & 0 & 0 & 0 & 0 & 0 & 0 & 0 & 0 & 0 & 0 & 0 & 0 & 0 & 0 & 0 & 0 & 0 & 0 & 0 & 0 & 0 & 0 & 0 & 0 & 0 & 0 & 0 & 0 & 0 & 0 & 0 & 0 & 0 & 0 & 0 & 0 & 0 & 0 & 0 & 0 & 0 & 0 & 0 & 0 & 0 & 0 & 0 & 0 & 0 & 0 & 0 & 0 & 0 & 0 & 0 & 0 & 0 & 0 & 0 & 0 & \\zeta_{12} & 0 & 0 \\\\\n",
       "0 & 0 & 0 & 0 & 0 & 0 & 0 & 0 & 0 & 0 & 0 & 0 & 0 & 0 & 0 & 0 & 0 & 0 & 0 & 0 & 0 & 0 & 0 & 0 & 0 & 0 & 0 & 0 & 0 & 0 & 0 & 0 & 0 & 0 & 0 & 0 & 0 & 0 & 0 & 0 & 0 & 0 & 0 & 0 & 0 & 0 & 0 & 0 & 0 & 0 & 0 & 0 & 0 & 0 & 0 & 0 & 0 & 0 & 0 & 0 & 0 & 0 & 0 & 0 & 0 & 0 & 0 & 0 & 0 & 0 & -\\zeta_{12} & 0 \\\\\n",
       "0 & 0 & 0 & 0 & 0 & 0 & 0 & 0 & 0 & 0 & 0 & 0 & 0 & 0 & 0 & 0 & 0 & 0 & 0 & 0 & 0 & 0 & 0 & 0 & 0 & 0 & 0 & 0 & 0 & 0 & 0 & 0 & 0 & 0 & 0 & 0 & 0 & 0 & 0 & 0 & 0 & 0 & 0 & 0 & 0 & 0 & 0 & 0 & 0 & 0 & 0 & 0 & 0 & 0 & 0 & 0 & 0 & 0 & 0 & 0 & 0 & 0 & 0 & 0 & 0 & 0 & 0 & 0 & 0 & 0 & 0 & \\zeta_{12}\n",
       "\\end{array}\\right)</script></html>"
      ],
      "text/plain": [
       "72 x 72 sparse matrix over Cyclotomic Field of order 12 and degree 4 (use the '.str()' method to see the entries)"
      ]
     },
     "metadata": {},
     "output_type": "display_data"
    }
   ],
   "source": [
    "show(T)"
   ]
  },
  {
   "cell_type": "code",
   "execution_count": 25,
   "metadata": {},
   "outputs": [
    {
     "data": {
      "text/html": [
       "<html><script type=\"math/tex; mode=display\">\\newcommand{\\Bold}[1]{\\mathbf{#1}}\\left[\\verb|(1,|\\phantom{\\verb!x!}\\verb|0)|, \\verb|(2,|\\phantom{\\verb!x!}\\verb|1)|, \\verb|(0,|\\phantom{\\verb!x!}\\verb|0)|, \\verb|(1,|\\phantom{\\verb!x!}\\verb|2)|, \\verb|(2,|\\phantom{\\verb!x!}\\verb|0)|, \\verb|(0,|\\phantom{\\verb!x!}\\verb|2)|, \\verb|(2,|\\phantom{\\verb!x!}\\verb|2)|, \\verb|(0,|\\phantom{\\verb!x!}\\verb|1)|, \\verb|(1,|\\phantom{\\verb!x!}\\verb|1)|\\right]</script></html>"
      ],
      "text/plain": [
       "[(1, 0), (2, 1), (0, 0), (1, 2), (2, 0), (0, 2), (2, 2), (0, 1), (1, 1)]"
      ]
     },
     "metadata": {},
     "output_type": "display_data"
    }
   ],
   "source": [
    "show(G_list)"
   ]
  },
  {
   "cell_type": "code",
   "execution_count": 27,
   "metadata": {},
   "outputs": [
    {
     "data": {
      "text/html": [
       "<html><script type=\"math/tex; mode=display\">\\newcommand{\\Bold}[1]{\\mathbf{#1}}\\left[\\verb|(0,|\\phantom{\\verb!x!}\\verb|0)|, \\verb|(1,|\\phantom{\\verb!x!}\\verb|0)|, \\verb|(2,|\\phantom{\\verb!x!}\\verb|0)|, \\verb|(0,|\\phantom{\\verb!x!}\\verb|1)|, \\verb|(1,|\\phantom{\\verb!x!}\\verb|1)|, \\verb|(2,|\\phantom{\\verb!x!}\\verb|1)|, \\verb|(0,|\\phantom{\\verb!x!}\\verb|2)|, \\verb|(1,|\\phantom{\\verb!x!}\\verb|2)|, \\verb|(2,|\\phantom{\\verb!x!}\\verb|2)|\\right]</script></html>"
      ],
      "text/plain": [
       "[(0, 0), (1, 0), (2, 0), (0, 1), (1, 1), (2, 1), (0, 2), (1, 2), (2, 2)]"
      ]
     },
     "metadata": {},
     "output_type": "display_data"
    }
   ],
   "source": [
    "H.sort()\n",
    "show(H)"
   ]
  },
  {
   "cell_type": "code",
   "execution_count": 9,
   "metadata": {},
   "outputs": [
    {
     "data": {
      "text/plain": [
       "[[(2, 1, 1, 1)],\n",
       " [(3, 1, 1, 1)],\n",
       " [(3, 1, 1, 2)],\n",
       " [(2, 2, 1, 1)],\n",
       " [(2, 2, 1, 2)],\n",
       " [(2, 1, 2, 1)],\n",
       " [(2, 1, 2, 5)],\n",
       " [(5, 1, 1, 1)],\n",
       " [(5, 1, 1, 2)],\n",
       " [(2, 1, 1, 1), (3, 1, 1, 1)],\n",
       " [(2, 1, 1, 1), (3, 1, 1, 2)],\n",
       " [(7, 1, 1, 1)],\n",
       " [(7, 1, 1, 2)],\n",
       " [(2, 3, 1, 1)],\n",
       " [(2, 3, 1, 2)],\n",
       " [(2, 3, 1, 3)],\n",
       " [(2, 3, 1, 4)],\n",
       " [(2, 1, 1, 1), (2, 2, 1, 1)],\n",
       " [(2, 1, 3, 1)],\n",
       " [(3, 2, 1, 1)],\n",
       " [(3, 2, 1, 2)],\n",
       " [(3, 1, 2, 1)],\n",
       " [(2, 1, 1, 1), (5, 1, 1, 1)],\n",
       " [(2, 1, 1, 1), (5, 1, 1, 2)],\n",
       " [(11, 1, 1, 1)],\n",
       " [(11, 1, 1, 2)],\n",
       " [(2, 2, 1, 1), (3, 1, 1, 1)],\n",
       " [(2, 2, 1, 2), (3, 1, 1, 1)],\n",
       " [(2, 2, 1, 1), (3, 1, 1, 2)],\n",
       " [(2, 2, 1, 2), (3, 1, 1, 2)],\n",
       " [(2, 1, 2, 1), (3, 1, 1, 1)],\n",
       " [(2, 1, 2, 5), (3, 1, 1, 1)],\n",
       " [(2, 1, 2, 1), (3, 1, 1, 2)],\n",
       " [(2, 1, 2, 5), (3, 1, 1, 2)],\n",
       " [(13, 1, 1, 1)],\n",
       " [(13, 1, 1, 2)],\n",
       " [(2, 1, 1, 1), (7, 1, 1, 1)],\n",
       " [(2, 1, 1, 1), (7, 1, 1, 2)]]"
      ]
     },
     "execution_count": 9,
     "metadata": {},
     "output_type": "execute_result"
    }
   ],
   "source": [
    "met_groups"
   ]
  },
  {
   "cell_type": "code",
   "execution_count": 37,
   "metadata": {},
   "outputs": [],
   "source": [
    "i = 7\n",
    "a = list(Bilinear_Forms.prd_tuples)[i]"
   ]
  },
  {
   "cell_type": "code",
   "execution_count": 38,
   "metadata": {},
   "outputs": [
    {
     "data": {
      "text/plain": [
       "[(5, 1, 1)]"
      ]
     },
     "execution_count": 38,
     "metadata": {},
     "output_type": "execute_result"
    }
   ],
   "source": [
    "list(a)"
   ]
  },
  {
   "cell_type": "code",
   "execution_count": null,
   "metadata": {},
   "outputs": [],
   "source": []
  }
 ],
 "metadata": {
  "kernelspec": {
   "display_name": "SageMath 9.2",
   "language": "sage",
   "name": "sagemath"
  },
  "language_info": {
   "codemirror_mode": {
    "name": "ipython",
    "version": 3
   },
   "file_extension": ".py",
   "mimetype": "text/x-python",
   "name": "python",
   "nbconvert_exporter": "python",
   "pygments_lexer": "ipython3",
   "version": "3.7.7"
  }
 },
 "nbformat": 4,
 "nbformat_minor": 2
}
