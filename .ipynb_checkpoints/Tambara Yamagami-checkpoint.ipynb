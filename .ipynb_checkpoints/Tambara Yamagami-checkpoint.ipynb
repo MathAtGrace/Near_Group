{
 "cells": [
  {
   "cell_type": "markdown",
   "metadata": {},
   "source": [
    "# Center Construction for Tambara Yamagami Categories.\n",
    "The code below does the following:\n",
    "1. creates a list of all abelian groups of order within a range prescribed by the user\n",
    "2. creates all bilinear forms for each abelian group up to isomorphism\n",
    "3. for each group and bilinear form, creates the two Tambara Yamagami categories that correspond\n",
    "4. for each TB category, creates the S and T matrices of the center construction."
   ]
  },
  {
   "cell_type": "markdown",
   "metadata": {},
   "source": [
    "### 1. Abelian groups\n",
    "\n",
    "below, set the starting group order and the ending group order"
   ]
  },
  {
   "cell_type": "code",
   "execution_count": null,
   "metadata": {},
   "outputs": [],
   "source": []
  },
  {
   "cell_type": "code",
   "execution_count": 1,
   "metadata": {},
   "outputs": [],
   "source": [
    "k = 2 #starting group order\n",
    "n = 15 #one more than ending group order\n",
    "import itertools\n",
    "groups = []\n",
    "for i in range(k,n):\n",
    "    #For each prime factor, write the partitions of the power of p, counting repetitions\n",
    "    #And store as tuples (p,r,N) for N(ZZ/p^rZZ)\n",
    "    prime_exp_partitions =[[[(p[0],r, list(op).count(r)) for r in Set(list(op))] for op in Partitions(p[1])] for p in factor(i)]\n",
    "    #Pick one partition from each list of partitions\n",
    "    homom_groups = [sum(x, []) for x in itertools.product(*prime_exp_partitions)]\n",
    "    #Add the group to the list of groups\n",
    "    groups += homom_groups"
   ]
  },
  {
   "cell_type": "code",
   "execution_count": 2,
   "metadata": {},
   "outputs": [
    {
     "data": {
      "text/plain": [
       "[[(2, 1, 1)],\n",
       " [(3, 1, 1)],\n",
       " [(2, 2, 1)],\n",
       " [(2, 1, 2)],\n",
       " [(5, 1, 1)],\n",
       " [(2, 1, 1), (3, 1, 1)],\n",
       " [(7, 1, 1)],\n",
       " [(2, 3, 1)],\n",
       " [(2, 1, 1), (2, 2, 1)],\n",
       " [(2, 1, 3)],\n",
       " [(3, 2, 1)],\n",
       " [(3, 1, 2)],\n",
       " [(2, 1, 1), (5, 1, 1)],\n",
       " [(11, 1, 1)],\n",
       " [(2, 2, 1), (3, 1, 1)],\n",
       " [(2, 1, 2), (3, 1, 1)],\n",
       " [(13, 1, 1)],\n",
       " [(2, 1, 1), (7, 1, 1)]]"
      ]
     },
     "execution_count": 2,
     "metadata": {},
     "output_type": "execute_result"
    }
   ],
   "source": [
    "groups"
   ]
  },
  {
   "cell_type": "code",
   "execution_count": 4,
   "metadata": {},
   "outputs": [],
   "source": [
    "def sigma_r(r, N, d):\n",
    "    if d == 1:\n",
    "        sigma = [oo] + [N % 8 for i in range(r-1)]\n",
    "    elif int(d) == 2:\n",
    "        sigma = [oo] + [(N + 6 - round(20*RR(d).frac())) % 8 for i in range(r-1)]\n",
    "    elif d == 3:\n",
    "        sigma = [oo] + [(N + 4*i) % 8 for i in range(r-1)]\n",
    "    elif int(d) == 4:\n",
    "        if d == int(d):\n",
    "            sigma = [oo] + [(-N + 4*i) % 8 for i in range(r-1)]\n",
    "        else:\n",
    "            sigma = [oo] + [(N - round(20*d.frac()) + 4*i) % 8 for i in range(r-1)]\n",
    "    elif d == 5:\n",
    "        sigma = [0] * r\n",
    "    elif d == 6:\n",
    "        sigma = [(4*i) % 8 for i in range(r)]\n",
    "    else:\n",
    "        print(\"Error: bad d input into sigma_r\")\n",
    "        return []\n",
    "    return sigma"
   ]
  },
  {
   "cell_type": "code",
   "execution_count": 5,
   "metadata": {},
   "outputs": [],
   "source": [
    "#You need to input the shorter sigma first\n",
    "def add_sigmas(sigma_short, sigma_long):\n",
    "    le = len(sigma_long)\n",
    "    sigma_short = [0] * (le - len(sigma_short)) + sigma_short\n",
    "    sigma = []\n",
    "    for i in range(le):\n",
    "        x = sigma_short[i] + sigma_long[i]\n",
    "        if x < 16:\n",
    "            x = x % 8\n",
    "        sigma.append(x)\n",
    "    return sigma"
   ]
  },
  {
   "cell_type": "code",
   "execution_count": 6,
   "metadata": {
    "scrolled": true
   },
   "outputs": [],
   "source": [
    "def intermediate_normal_forms(list_of_lower_forms, prN_tuple, dd_list):\n",
    "    p,r,N = prN_tuple\n",
    "    #For each type d, create a new copy of lower forms and add the d form to the end\n",
    "    list_of_lower_forms = sum([[b + [(p,r,N,d)] for b in list_of_lower_forms] for d in dd_list], [])\n",
    "    return list_of_lower_forms"
   ]
  },
  {
   "cell_type": "code",
   "execution_count": 7,
   "metadata": {},
   "outputs": [],
   "source": [
    "import bisect\n",
    "import itertools\n",
    "\n",
    "def metrics(G):\n",
    "    #G should be a list of tuples of type (p,r,N) representing N(ZZ/p^rZZ)\n",
    "    #Find the index so you can divide your group into tuples forming a 2-group and tuples forming an odd-order group\n",
    "    i = bisect.bisect_right( zip(*G)[0] , 2)\n",
    "    G2 = G[:i]\n",
    "    Godd = G[i:]\n",
    "    #For 2-groups follow the normal forms given by Miranda 1984.  Here we set types 1-A, 2-B, 3-C, 4-D, 5-E, 6-F\n",
    "    #matching the column \"type\" in table 3.2\n",
    "    #Decimals added to types correspond to differences within types.\n",
    "    #The following loop finds all *intermediate* normal forms\n",
    "    bic = [[]]\n",
    "    for tup in G2:\n",
    "        p,r,N = tup\n",
    "        #row 1\n",
    "        if r == 1 and N % 2 == 1:\n",
    "            bic = intermediate_normal_forms(bic, (p,r,N), [1])\n",
    "        #rows 1 & 2\n",
    "        elif r == 1 and N %2 == 0:\n",
    "            bic = intermediate_normal_forms(bic, (p,r,N), [1,5])\n",
    "        #row 3 & 4 (only N == 1 case)\n",
    "        elif r == 2 and N == 1:\n",
    "            bic = intermediate_normal_forms(bic, (p,r,N), [1, 2])\n",
    "        #rows 3, 4, 5, 7 & 8 (only N == 2 case)\n",
    "        elif r == 2 and N == 2:\n",
    "            bic = intermediate_normal_forms(bic, (p,r,N), [1, 2, 2.1, 5, 6])\n",
    "        #rows 3, 4, 5, & 6 (r ==2 and N odd and N >= 3 case) \n",
    "        elif r == 2 and N % 2 == 1 and N >= 3:\n",
    "            bic = intermediate_normal_forms(bic, (p,r,N), [1, 2, 2.1, 2.2])\n",
    "        #row 3, 4, 5, 7, & 8 (r == 2 and N even and N >= 4 case)\n",
    "        elif r == 2 and N % 2 == 0 and N >= 4:\n",
    "            bic = intermediate_normal_forms(bic, (p,r,N), [1, 2, 2.1, 2.2, 5, 6])\n",
    "        #rows 9, 12, 16, and 17 (r >= 3 and N == 1)\n",
    "        elif r >= 3 and N == 1:\n",
    "            bic = intermediate_normal_forms(bic, (p,r,N), [1, 2, 3, 4])\n",
    "        #rows 10,12,13,16,17,18,20,21 (r >= 3 and N == 2)\n",
    "        elif r >= 3 and N == 2:\n",
    "            bic = intermediate_normal_forms(bic, (p,r,N), [1, 2, 2.1, 3, 4, 4.1, 5, 6])\n",
    "        #rows 11,12,13,14,16,17,18,19\n",
    "        elif r >= 3 and N == 3:\n",
    "            bic = intermediate_normal_forms(bic, (p,r,N), [1, 2, 2.1, 2.2, 3, 4, 4.1, 4.2])\n",
    "        #rows 12-21\n",
    "        elif r >= 3 and N % 2 == 0 and N >= 4:\n",
    "            bic = intermediate_normal_forms(bic, (p,r,N), [1, 2., 2.1, 2.2, 3, 4.1, 4.2, 4.3, 5, 6])\n",
    "        #rows 12-19\n",
    "        elif r >= 3 and N % 2 == 1 and N >= 5:\n",
    "            bic = intermediate_normal_forms(bic, (p,r,N), [1, 2., 2.1, 2.2, 3, 4.1, 4.2, 4.3, 5, 6])\n",
    "    #Compute the sigma_r's of each form and throw out duplicates\n",
    "    Sigmas = []\n",
    "    bic2 = []\n",
    "    for b in bic:\n",
    "        sig = []\n",
    "        for tup in b:\n",
    "            p, r, N, d = tup\n",
    "            sig = add_sigmas(sig, sigma_r(r,N,d))\n",
    "        if tuple(sig) not in Sigmas:\n",
    "            bic2 += [b]\n",
    "            Sigmas += [tuple(sig)]\n",
    "    #For each tuple with odd p there is either one or two possible metric subgroup\n",
    "    #Here 1 corresponds to type A and 2 corresponds to type B\n",
    "    for tup in Godd:\n",
    "        p,r,N = tup\n",
    "        if N % 2 == 0:\n",
    "            bic2 = intermediate_normal_forms(bic2, (p,r,N), [1])\n",
    "        else:\n",
    "            bic2 = intermediate_normal_forms(bic2, (p,r,N), [1, 2])\n",
    "    return bic2"
   ]
  },
  {
   "cell_type": "code",
   "execution_count": 8,
   "metadata": {},
   "outputs": [
    {
     "ename": "TypeError",
     "evalue": "'zip' object is not subscriptable",
     "output_type": "error",
     "traceback": [
      "\u001b[0;31m---------------------------------------------------------------------------\u001b[0m",
      "\u001b[0;31mTypeError\u001b[0m                                 Traceback (most recent call last)",
      "\u001b[0;32m<ipython-input-8-814e03d7dd15>\u001b[0m in \u001b[0;36m<module>\u001b[0;34m\u001b[0m\n\u001b[0;32m----> 1\u001b[0;31m \u001b[0mmet_groups\u001b[0m \u001b[0;34m=\u001b[0m \u001b[0msum\u001b[0m\u001b[0;34m(\u001b[0m\u001b[0;34m[\u001b[0m\u001b[0mmetrics\u001b[0m\u001b[0;34m(\u001b[0m\u001b[0mg\u001b[0m\u001b[0;34m)\u001b[0m \u001b[0;32mfor\u001b[0m \u001b[0mg\u001b[0m \u001b[0;32min\u001b[0m \u001b[0mgroups\u001b[0m\u001b[0;34m]\u001b[0m\u001b[0;34m,\u001b[0m\u001b[0;34m[\u001b[0m\u001b[0;34m]\u001b[0m\u001b[0;34m)\u001b[0m\u001b[0;34m\u001b[0m\u001b[0;34m\u001b[0m\u001b[0m\n\u001b[0m",
      "\u001b[0;32m<ipython-input-8-814e03d7dd15>\u001b[0m in \u001b[0;36m<listcomp>\u001b[0;34m(.0)\u001b[0m\n\u001b[0;32m----> 1\u001b[0;31m \u001b[0mmet_groups\u001b[0m \u001b[0;34m=\u001b[0m \u001b[0msum\u001b[0m\u001b[0;34m(\u001b[0m\u001b[0;34m[\u001b[0m\u001b[0mmetrics\u001b[0m\u001b[0;34m(\u001b[0m\u001b[0mg\u001b[0m\u001b[0;34m)\u001b[0m \u001b[0;32mfor\u001b[0m \u001b[0mg\u001b[0m \u001b[0;32min\u001b[0m \u001b[0mgroups\u001b[0m\u001b[0;34m]\u001b[0m\u001b[0;34m,\u001b[0m\u001b[0;34m[\u001b[0m\u001b[0;34m]\u001b[0m\u001b[0;34m)\u001b[0m\u001b[0;34m\u001b[0m\u001b[0;34m\u001b[0m\u001b[0m\n\u001b[0m",
      "\u001b[0;32m<ipython-input-7-578419027cdb>\u001b[0m in \u001b[0;36mmetrics\u001b[0;34m(G)\u001b[0m\n\u001b[1;32m      5\u001b[0m     \u001b[0;31m#G should be a list of tuples of type (p,r,N) representing N(ZZ/p^rZZ)\u001b[0m\u001b[0;34m\u001b[0m\u001b[0;34m\u001b[0m\u001b[0;34m\u001b[0m\u001b[0m\n\u001b[1;32m      6\u001b[0m     \u001b[0;31m#Find the index so you can divide your group into tuples forming a 2-group and tuples forming an odd-order group\u001b[0m\u001b[0;34m\u001b[0m\u001b[0;34m\u001b[0m\u001b[0;34m\u001b[0m\u001b[0m\n\u001b[0;32m----> 7\u001b[0;31m     \u001b[0mi\u001b[0m \u001b[0;34m=\u001b[0m \u001b[0mbisect\u001b[0m\u001b[0;34m.\u001b[0m\u001b[0mbisect_right\u001b[0m\u001b[0;34m(\u001b[0m \u001b[0mzip\u001b[0m\u001b[0;34m(\u001b[0m\u001b[0;34m*\u001b[0m\u001b[0mG\u001b[0m\u001b[0;34m)\u001b[0m\u001b[0;34m[\u001b[0m\u001b[0mInteger\u001b[0m\u001b[0;34m(\u001b[0m\u001b[0;36m0\u001b[0m\u001b[0;34m)\u001b[0m\u001b[0;34m]\u001b[0m \u001b[0;34m,\u001b[0m \u001b[0mInteger\u001b[0m\u001b[0;34m(\u001b[0m\u001b[0;36m2\u001b[0m\u001b[0;34m)\u001b[0m\u001b[0;34m)\u001b[0m\u001b[0;34m\u001b[0m\u001b[0;34m\u001b[0m\u001b[0m\n\u001b[0m\u001b[1;32m      8\u001b[0m     \u001b[0mG2\u001b[0m \u001b[0;34m=\u001b[0m \u001b[0mG\u001b[0m\u001b[0;34m[\u001b[0m\u001b[0;34m:\u001b[0m\u001b[0mi\u001b[0m\u001b[0;34m]\u001b[0m\u001b[0;34m\u001b[0m\u001b[0;34m\u001b[0m\u001b[0m\n\u001b[1;32m      9\u001b[0m     \u001b[0mGodd\u001b[0m \u001b[0;34m=\u001b[0m \u001b[0mG\u001b[0m\u001b[0;34m[\u001b[0m\u001b[0mi\u001b[0m\u001b[0;34m:\u001b[0m\u001b[0;34m]\u001b[0m\u001b[0;34m\u001b[0m\u001b[0;34m\u001b[0m\u001b[0m\n",
      "\u001b[0;31mTypeError\u001b[0m: 'zip' object is not subscriptable"
     ]
    }
   ],
   "source": [
    "met_groups = sum([metrics(g) for g in groups],[])"
   ]
  },
  {
   "cell_type": "code",
   "execution_count": 8,
   "metadata": {
    "scrolled": true
   },
   "outputs": [],
   "source": [
    "#Build the metric groups\n",
    "full_met_groups = []\n",
    "for met in met_groups:\n",
    "    orders = [p^r for (p,r,N,d) in met for i in range(N)]\n",
    "    n = prod(orders)\n",
    "    n1 = lcm(orders)\n",
    "    #n1 corresponds to denominator of quadratic form\n",
    "    if n1 % 2 == 0:\n",
    "        n1 = n1*2\n",
    "    #if n1 is odd, gauss sums will exist in QQ(i)\n",
    "    else:\n",
    "        n1 = n1*4\n",
    "    #We need a cyclotomic field that contains sqrt(n)\n",
    "    n2 = n.squarefree_part()\n",
    "    if n2 % 2 == 0:\n",
    "        n2 = n2 * 4\n",
    "    n3 = lcm(n1,n2)\n",
    "    G = AdditiveAbelianGroup(orders)\n",
    "    Z = CyclotomicField(n3)\n",
    "    z = Z.gen()\n",
    "    Q = []\n",
    "    for tup in met:\n",
    "        p,r,N,d = tup\n",
    "        if p == 2 and d == 1:\n",
    "            Q.append(diagonal_matrix([n3*p^(-r-1)]*N))\n",
    "        elif p == 2 and int(d) == 2:\n",
    "            d2 = round(10*RR(d).frac()) + 1\n",
    "            Q.append(diagonal_matrix([n3*p^(-r-1)]*(N-d2) + [-n3*p^(-r-1)]*d2))\n",
    "        elif p == 2 and d == 3:\n",
    "            Q.append(diagonal_matrix([n3*p^(-r-1)]*(N-1) + [5*n3*p^(-r-1)]))\n",
    "        elif p == 2 and d == 4:\n",
    "            Q.append(diagonal_matrix([-n3*p^(-r-1)]*(N-1) + [-5*n3*p^(-r-1)]))\n",
    "        elif p == 2 and d > 4 and d < 5:\n",
    "            d2 = round(10*RR(d).frac())\n",
    "            Q.append(diagonal_matrix([n3*p^(-r-1)]*(N-d2-1) + [-n3*p^(-r-1)]*d2 + [5*n3*p^(-r-1)]))\n",
    "        elif p == 2 and d == 5:\n",
    "            for i in range(N/2):\n",
    "                Q.append(n3*p^(-r-1)*matrix([[0,1],[1,0]]))\n",
    "        elif p == 2 and d == 6:\n",
    "            for i in range(N/2):\n",
    "                Q.append(n3*p^(-r-1)*matrix([[2,1],[1,2]]))\n",
    "        elif d == 1:\n",
    "            v = (p^r + 1)/2\n",
    "            Q.append(diagonal_matrix([v*n3*p^(-r)]*N))\n",
    "        elif d == 2:\n",
    "            v = (p^r + 1)/2\n",
    "            u = ZZ(Zmod(3).multiplicative_generator())\n",
    "            Q.append(diagonal_matrix([u*v*n3*p^(-r)]*N))\n",
    "        else:\n",
    "            print \"bad d: \", d\n",
    "    full_met_groups.append([G,met,block_diagonal_matrix(Q),z])"
   ]
  },
  {
   "cell_type": "code",
   "execution_count": 37,
   "metadata": {},
   "outputs": [],
   "source": [
    "TB_data = [T + [(-1)^i] for T in full_met_groups for i in range(2)]\n",
    "#show(TB_data)"
   ]
  },
  {
   "cell_type": "code",
   "execution_count": 10,
   "metadata": {},
   "outputs": [],
   "source": [
    "def rho(g,Q1):\n",
    "    return z^(vector(g.lift())*Q1*(vector(g.lift())))\n",
    "\n",
    "def rho_a(g,Q1,h):\n",
    "    return z^(vector(g.lift())*Q1*(vector(g.lift()) + 2*vector(h.lift())))\n",
    "\n",
    "def chi(g,h, Q1):\n",
    "    return z^(vector(g.lift())*2*Q1*vector(h.lift()))"
   ]
  },
  {
   "cell_type": "code",
   "execution_count": 39,
   "metadata": {},
   "outputs": [
    {
     "data": {
      "text/html": [
       "<html><script type=\"math/tex; mode=display\">\\newcommand{\\Bold}[1]{\\mathbf{#1}}\\left[\\frac{\\ZZ}{3\\ZZ} \\oplus \\frac{\\ZZ}{3\\ZZ}, \\left[\\left(3, 1, 2, 1\\right)\\right], \\left(\\begin{array}{rr}\n",
       "8 & 0 \\\\\n",
       "0 & 8\n",
       "\\end{array}\\right), \\zeta_{12}, 1\\right]</script></html>"
      ],
      "text/plain": [
       "[\n",
       "                                                                [8 0]\n",
       "Additive abelian group isomorphic to Z/3 + Z/3, [(3, 1, 2, 1)], [0 8],\n",
       "\n",
       "zeta12, 1\n",
       "]"
      ]
     },
     "metadata": {},
     "output_type": "display_data"
    }
   ],
   "source": [
    "ind = 42\n",
    "#Pick one of the TB Category input datas\n",
    "show(TB_data[ind])\n",
    "G, met, Q, z, sgn_tau = TB_data[ind]\n",
    "n = G.order()\n",
    "n3 = z.multiplicative_order()\n",
    "sqrt_n = 1\n",
    "for fac in factor(n.squarefree_part()):\n",
    "    if fac[0] == 2:\n",
    "        sqrt_n = z^(n3/8) + z^(7*n3/8)\n",
    "    else:\n",
    "        p = fac[0]\n",
    "        sqrt_n = sqrt_n * (1-z^(n3/4))/(1-z^(n3/4*legendre_symbol(-1,p))) * sum([legendre_symbol(i,p)*z^(n3*i/p) for i in range(p)])\n",
    "sqrt_n = sqrt_n * sqrt(n/n.squarefree_part())\n",
    "tau = sgn_tau * sqrt_n/n\n",
    "#GNN gauss\n",
    "gauss = sqrt_n*sum([rho(g, Q) for g in G])/n\n",
    "#RTJ gauss\n",
    "#gauss = sqrt_n*sum([rho(g, Q)^(-1) for g in G])/n"
   ]
  },
  {
   "cell_type": "code",
   "execution_count": 346,
   "metadata": {},
   "outputs": [
    {
     "data": {
      "text/html": [
       "<html><script type=\"math/tex; mode=display\">\\newcommand{\\Bold}[1]{\\mathbf{#1}}\\left[\\zeta_{24}^{3}, \\zeta_{24}^{7} - \\zeta_{24}^{3}, \\zeta_{24}^{7} - \\zeta_{24}^{3}\\right]</script></html>"
      ],
      "text/plain": [
       "[zeta24^3, zeta24^7 - zeta24^3, zeta24^7 - zeta24^3]"
      ]
     },
     "metadata": {},
     "output_type": "display_data"
    },
    {
     "data": {
      "text/html": [
       "<html><script type=\"math/tex; mode=display\">\\newcommand{\\Bold}[1]{\\mathbf{#1}}\\left[\\verb|(0)|\\right]</script></html>"
      ],
      "text/plain": [
       "[(0)]"
      ]
     },
     "metadata": {},
     "output_type": "display_data"
    },
    {
     "data": {
      "text/html": [
       "<html><script type=\"math/tex; mode=display\">\\newcommand{\\Bold}[1]{\\mathbf{#1}}\\left[\\verb|(0)|, \\verb|(1)|, \\verb|(2)|\\right]</script></html>"
      ],
      "text/plain": [
       "[(0), (1), (2)]"
      ]
     },
     "metadata": {},
     "output_type": "display_data"
    },
    {
     "data": {
      "text/html": [
       "<html><script type=\"math/tex; mode=display\">\\newcommand{\\Bold}[1]{\\mathbf{#1}}\\left[\\verb|(0)|, \\verb|(1)|, \\verb|(2)|\\right]</script></html>"
      ],
      "text/plain": [
       "[(0), (1), (2)]"
      ]
     },
     "metadata": {},
     "output_type": "display_data"
    }
   ],
   "source": [
    "H = G.submodule([2*g for g in G])\n",
    "quotient_gens = [g for g in G.gens() if g not in H]\n",
    "coset_reps = [G.zero()] + [sum(K) for K in Set(quotient_gens).subsets()][1:]\n",
    "#List elements of G such that they are grouped by cosets of {2g for g in G}\n",
    "G_list = [c + h for c in coset_reps for h in H]\n",
    "G_halves = zip(*[[g,2*g] for g in G_list])\n",
    "c_n = len(coset_reps)\n",
    "#Building the Deltas with correct +/- is tricky.  First, define them for the coset reps of G / {2g for g in G}\n",
    "#GNN Deltas\n",
    "Delta_for_cos_reps = [(sgn_tau*rho(c, Q)^(-1)*gauss).nth_root(2) for c in coset_reps]\n",
    "#RTJ Deltas\n",
    "#Delta_for_cos_reps = [(sgn_tau*rho(c, Q)*gauss).nth_root(2)^(-1) for c in coset_reps]\n",
    "#Then Delta_{2a+c} = Delta_c * chi(-a,a+c) where 2a in H.\n",
    "Delta = []\n",
    "for i in range(c_n):\n",
    "    D = Delta_for_cos_reps[i]\n",
    "    c = coset_reps[i]\n",
    "    for h in H:\n",
    "        #Need to divide h by 2, but Sage does not allow this in Z-modules.\n",
    "        a = G_halves[0][G_halves[1].index(h)]\n",
    "        Delta.append(D*chi(-a,a+c,Q))\n",
    "show(Delta)\n",
    "show(coset_reps)\n",
    "show(H.list())\n",
    "show(G_list)"
   ]
  },
  {
   "cell_type": "code",
   "execution_count": 347,
   "metadata": {},
   "outputs": [
    {
     "name": "stdout",
     "output_type": "stream",
     "text": [
      "(0) (0)\n",
      "(1) (0)\n",
      "(2) (0)\n"
     ]
    }
   ],
   "source": [
    "for c in G_list:\n",
    "    print c, G_list[floor(G_list.index(c) / H.order())*H.order()]\n",
    "    #print G_list[G_list.index(c) % H.order()]"
   ]
  },
  {
   "cell_type": "code",
   "execution_count": 473,
   "metadata": {},
   "outputs": [
    {
     "data": {
      "text/html": [
       "<html><script type=\"math/tex; mode=display\">\\newcommand{\\Bold}[1]{\\mathbf{#1}}\\left[\\verb|(0)|, \\verb|(1)|, \\verb|(2)|\\right]</script></html>"
      ],
      "text/plain": [
       "[(0), (1), (2)]"
      ]
     },
     "metadata": {},
     "output_type": "display_data"
    },
    {
     "data": {
      "text/html": [
       "<html><script type=\"math/tex; mode=display\">\\newcommand{\\Bold}[1]{\\mathbf{#1}}\\left[\\verb|(0)|, \\verb|(1)|, \\verb|(2)|\\right]</script></html>"
      ],
      "text/plain": [
       "[(0), (1), (2)]"
      ]
     },
     "metadata": {},
     "output_type": "display_data"
    },
    {
     "data": {
      "text/html": [
       "<html><script type=\"math/tex; mode=display\">\\newcommand{\\Bold}[1]{\\mathbf{#1}}\\left(\\begin{array}{rrr}\n",
       "1 & 1 & 1 \\\\\n",
       "1 & 1 & 1 \\\\\n",
       "1 & 1 & 1\n",
       "\\end{array}\\right)</script></html>"
      ],
      "text/plain": [
       "[1 1 1]\n",
       "[1 1 1]\n",
       "[1 1 1]"
      ]
     },
     "metadata": {},
     "output_type": "display_data"
    }
   ],
   "source": [
    "#This should be fixed to deal with this on a group-theory level, but I cannot understand it at this moment.\n",
    "def XZ_negation_fix(a,b, Q, G_list, Delta):\n",
    "    j = G_list.index(b)\n",
    "    k = G_list.index(2*a+b)\n",
    "    return chi(-a,b+a,Q)*Delta[k]/Delta[j]\n",
    "\n",
    "show(H.list())\n",
    "show(G_list)\n",
    "correction = []\n",
    "for a in G_list:\n",
    "    correction.append([])\n",
    "    for b in G_list:\n",
    "        correction[-1:][0].append(XZ_negation_fix(a,b, Q, G_list, Delta))\n",
    "show(matrix(correction))"
   ]
  },
  {
   "cell_type": "code",
   "execution_count": 442,
   "metadata": {},
   "outputs": [
    {
     "data": {
      "text/html": [
       "<html><script type=\"math/tex; mode=display\">\\newcommand{\\Bold}[1]{\\mathbf{#1}}\\left(\\begin{array}{rrrrrrrr}\n",
       "2 & 2 & 2 & 2 & 2 & 2 & 2 & 2 \\\\\n",
       "-2 & -2 & -2 & -2 & -2 & -2 & -2 & -2 \\\\\n",
       "2 & 2 & 2 & 2 & 2 & 2 & 2 & 2 \\\\\n",
       "-2 & -2 & -2 & -2 & -2 & -2 & -2 & -2 \\\\\n",
       "-2 & -2 & 2 & 2 & 2 \\zeta_{16}^{4} & 2 \\zeta_{16}^{4} & 2 \\zeta_{16}^{4} & 2 \\zeta_{16}^{4} \\\\\n",
       "2 & 2 & -2 & -2 & -2 \\zeta_{16}^{4} & -2 \\zeta_{16}^{4} & -2 \\zeta_{16}^{4} & -2 \\zeta_{16}^{4} \\\\\n",
       "-2 & -2 & 2 & 2 & 2 \\zeta_{16}^{4} & 2 \\zeta_{16}^{4} & 2 \\zeta_{16}^{4} & 2 \\zeta_{16}^{4} \\\\\n",
       "2 & 2 & -2 & -2 & -2 \\zeta_{16}^{4} & -2 \\zeta_{16}^{4} & -2 \\zeta_{16}^{4} & -2 \\zeta_{16}^{4}\n",
       "\\end{array}\\right)</script></html>"
      ],
      "text/plain": [
       "[          2           2           2           2           2           2           2           2]\n",
       "[         -2          -2          -2          -2          -2          -2          -2          -2]\n",
       "[          2           2           2           2           2           2           2           2]\n",
       "[         -2          -2          -2          -2          -2          -2          -2          -2]\n",
       "[         -2          -2           2           2  2*zeta16^4  2*zeta16^4  2*zeta16^4  2*zeta16^4]\n",
       "[          2           2          -2          -2 -2*zeta16^4 -2*zeta16^4 -2*zeta16^4 -2*zeta16^4]\n",
       "[         -2          -2           2           2  2*zeta16^4  2*zeta16^4  2*zeta16^4  2*zeta16^4]\n",
       "[          2           2          -2          -2 -2*zeta16^4 -2*zeta16^4 -2*zeta16^4 -2*zeta16^4]"
      ]
     },
     "metadata": {},
     "output_type": "display_data"
    },
    {
     "data": {
      "text/html": [
       "<html><script type=\"math/tex; mode=display\">\\newcommand{\\Bold}[1]{\\mathbf{#1}}\\left(\\begin{array}{rrrrrrrr}\n",
       "-2 \\zeta_{16}^{6} + 2 \\zeta_{16}^{2} & 2 \\zeta_{16}^{6} - 2 \\zeta_{16}^{2} & 2 \\zeta_{16}^{6} - 2 \\zeta_{16}^{2} & -2 \\zeta_{16}^{6} + 2 \\zeta_{16}^{2} & 0 & 0 & 0 & 0 \\\\\n",
       "2 \\zeta_{16}^{6} - 2 \\zeta_{16}^{2} & -2 \\zeta_{16}^{6} + 2 \\zeta_{16}^{2} & -2 \\zeta_{16}^{6} + 2 \\zeta_{16}^{2} & 2 \\zeta_{16}^{6} - 2 \\zeta_{16}^{2} & 0 & 0 & 0 & 0 \\\\\n",
       "2 \\zeta_{16}^{6} - 2 \\zeta_{16}^{2} & -2 \\zeta_{16}^{6} + 2 \\zeta_{16}^{2} & 2 \\zeta_{16}^{6} - 2 \\zeta_{16}^{2} & -2 \\zeta_{16}^{6} + 2 \\zeta_{16}^{2} & 0 & 0 & 0 & 0 \\\\\n",
       "-2 \\zeta_{16}^{6} + 2 \\zeta_{16}^{2} & 2 \\zeta_{16}^{6} - 2 \\zeta_{16}^{2} & -2 \\zeta_{16}^{6} + 2 \\zeta_{16}^{2} & 2 \\zeta_{16}^{6} - 2 \\zeta_{16}^{2} & 0 & 0 & 0 & 0 \\\\\n",
       "0 & 0 & 0 & 0 & -2 \\zeta_{16}^{4} + 2 & 2 \\zeta_{16}^{4} - 2 & -2 \\zeta_{16}^{4} - 2 & 2 \\zeta_{16}^{4} + 2 \\\\\n",
       "0 & 0 & 0 & 0 & 2 \\zeta_{16}^{4} - 2 & -2 \\zeta_{16}^{4} + 2 & 2 \\zeta_{16}^{4} + 2 & -2 \\zeta_{16}^{4} - 2 \\\\\n",
       "0 & 0 & 0 & 0 & -2 \\zeta_{16}^{4} - 2 & 2 \\zeta_{16}^{4} + 2 & -2 \\zeta_{16}^{4} + 2 & 2 \\zeta_{16}^{4} - 2 \\\\\n",
       "0 & 0 & 0 & 0 & 2 \\zeta_{16}^{4} + 2 & -2 \\zeta_{16}^{4} - 2 & 2 \\zeta_{16}^{4} - 2 & -2 \\zeta_{16}^{4} + 2\n",
       "\\end{array}\\right)</script></html>"
      ],
      "text/plain": [
       "[-2*zeta16^6 + 2*zeta16^2  2*zeta16^6 - 2*zeta16^2  2*zeta16^6 - 2*zeta16^2 -2*zeta16^6 + 2*zeta16^2                        0                        0                        0                        0]\n",
       "[ 2*zeta16^6 - 2*zeta16^2 -2*zeta16^6 + 2*zeta16^2 -2*zeta16^6 + 2*zeta16^2  2*zeta16^6 - 2*zeta16^2                        0                        0                        0                        0]\n",
       "[ 2*zeta16^6 - 2*zeta16^2 -2*zeta16^6 + 2*zeta16^2  2*zeta16^6 - 2*zeta16^2 -2*zeta16^6 + 2*zeta16^2                        0                        0                        0                        0]\n",
       "[-2*zeta16^6 + 2*zeta16^2  2*zeta16^6 - 2*zeta16^2 -2*zeta16^6 + 2*zeta16^2  2*zeta16^6 - 2*zeta16^2                        0                        0                        0                        0]\n",
       "[                       0                        0                        0                        0          -2*zeta16^4 + 2           2*zeta16^4 - 2          -2*zeta16^4 - 2           2*zeta16^4 + 2]\n",
       "[                       0                        0                        0                        0           2*zeta16^4 - 2          -2*zeta16^4 + 2           2*zeta16^4 + 2          -2*zeta16^4 - 2]\n",
       "[                       0                        0                        0                        0          -2*zeta16^4 - 2           2*zeta16^4 + 2          -2*zeta16^4 + 2           2*zeta16^4 - 2]\n",
       "[                       0                        0                        0                        0           2*zeta16^4 + 2          -2*zeta16^4 - 2           2*zeta16^4 - 2          -2*zeta16^4 + 2]"
      ]
     },
     "metadata": {},
     "output_type": "display_data"
    }
   ],
   "source": [
    "pows = [z^(i) for i in range(n3)]\n",
    "#Delta = [(tau*sum([rho_a(g,Q,h) for g in G])).nth_root(2)^(-1) for h in G]\n",
    "Gpairs = [(G_list[i],G_list[j]) for i in range(n) for j in range(i)]\n",
    "Theta_X = [chi(g,-g,Q) for g in G_list for i in range(2)]\n",
    "Theta_Y = [chi(g,-h,Q) for (g,h) in Gpairs]\n",
    "Theta_Z = [sgn_tau*(-1)^i*d for d in Delta for i in range(2)]\n",
    "Theta = Theta_X + Theta_Y + Theta_Z\n",
    "#show(Theta_X)\n",
    "#show(Theta_Y)\n",
    "#show(Theta_Z)\n",
    "T = block_diagonal_matrix([diagonal_matrix(Theta_X), diagonal_matrix(Theta_Y), diagonal_matrix(Theta_Z)])\n",
    "#show(T)\n",
    "SXX = matrix([[chi(g,h,Q)^(2) for g in G_list for i in range(2)] for h in G_list for j in range(2)])\n",
    "#show(SXX)\n",
    "SXY = matrix([[2*chi(h,a+b, Q)^(1) for (a,b) in Gpairs] for h in G_list for i in range(2)])\n",
    "#show(SXY)\n",
    "SXZ = matrix([[(-1)^(j)*sqrt_n*rho(h,Q)^(-1)*rho_a(h,Q,g)^(1)*XZ_negation_fix(h,g,Q,G_list,Delta) for g in G_list for i in range(2)] for h in G_list for j in range(2)])\n",
    "#GNN say SXZ = matrix([[(-1)^(j)*sqrt_n*rho(h,Q)^(-1)*rho_a(h,Q,g)^(-1) for g in G_list for i in range(2)] for h in G_list for j in range(2)])\n",
    "show(SXZ)\n",
    "SYY = matrix([[2*(chi(a,d,Q)*chi(b,c,Q)+chi(a,c,Q)*chi(b,d,Q)) for (a,b) in Gpairs] for (c,d) in Gpairs])\n",
    "#show(SYY)\n",
    "SYZ = zero_matrix(parent(z), n*(n-1)/2, 2*n)\n",
    "#show(SYZ)\n",
    "SZZ = matrix([[Delta[i]^(-1)*(-1)^j*Delta[k]^(-1)*(-1)^l*sum([chi(x,x,Q)^2*rho_a(x,Q,G_list[i])^(-1)*rho_a(x,Q,G_list[k])^(-1) for x in G_list]) for i in range(n) for j in range(2)] for k in range(n) for l in range(2)])\n",
    "show(SZZ)\n",
    "S = block_matrix([[SXX, SXY, SXZ],[SXY.transpose(), SYY, SYZ], [SXZ.transpose(), SYZ.transpose(), SZZ]])/(2*n)\n",
    "#show(S)\n",
    "dims = [1]*(2*n) + [2]*ZZ(n*(n-1)/2) + [sqrt_n]*(2*n)\n",
    "p_plus = sum([Theta[i]*dims[i]^2 for i in range(n*(7+n)/2)])\n",
    "p_minus = sum([Theta[i]^(-1)*dims[i]^2 for i in range(n*(7+n)/2)])"
   ]
  },
  {
   "cell_type": "code",
   "execution_count": 370,
   "metadata": {},
   "outputs": [
    {
     "data": {
      "text/plain": [
       "3"
      ]
     },
     "execution_count": 370,
     "metadata": {},
     "output_type": "execute_result"
    }
   ],
   "source": [
    "binomial(n,2)"
   ]
  },
  {
   "cell_type": "code",
   "execution_count": 444,
   "metadata": {},
   "outputs": [
    {
     "data": {
      "text/html": [
       "<html><script type=\"math/tex; mode=display\">\\newcommand{\\Bold}[1]{\\mathbf{#1}}\\left(\\begin{array}{rrrrrrrrrrrrrrrrrrrrrr}\n",
       "1 & 0 & \\frac{1}{2} & -\\frac{1}{2} & \\frac{1}{4} \\zeta_{16}^{4} & -\\frac{1}{4} \\zeta_{16}^{4} & \\frac{1}{4} \\zeta_{16}^{4} & -\\frac{1}{4} \\zeta_{16}^{4} & 0 & 0 & 0 & 0 & 0 & 0 & 0 & 0 & 0 & 0 & 0 & 0 & 0 & 0 \\\\\n",
       "0 & 1 & -\\frac{1}{2} & \\frac{1}{2} & -\\frac{1}{4} \\zeta_{16}^{4} & \\frac{1}{4} \\zeta_{16}^{4} & -\\frac{1}{4} \\zeta_{16}^{4} & \\frac{1}{4} \\zeta_{16}^{4} & 0 & 0 & 0 & 0 & 0 & 0 & 0 & 0 & 0 & 0 & 0 & 0 & 0 & 0 \\\\\n",
       "\\frac{1}{2} & -\\frac{1}{2} & 1 & 0 & \\frac{1}{4} \\zeta_{16}^{4} & -\\frac{1}{4} \\zeta_{16}^{4} & \\frac{1}{4} \\zeta_{16}^{4} & -\\frac{1}{4} \\zeta_{16}^{4} & 0 & 0 & 0 & 0 & 0 & 0 & 0 & 0 & 0 & 0 & 0 & 0 & 0 & 0 \\\\\n",
       "-\\frac{1}{2} & \\frac{1}{2} & 0 & 1 & -\\frac{1}{4} \\zeta_{16}^{4} & \\frac{1}{4} \\zeta_{16}^{4} & -\\frac{1}{4} \\zeta_{16}^{4} & \\frac{1}{4} \\zeta_{16}^{4} & 0 & 0 & 0 & 0 & 0 & 0 & 0 & 0 & 0 & 0 & 0 & 0 & 0 & 0 \\\\\n",
       "\\frac{1}{4} \\zeta_{16}^{4} & -\\frac{1}{4} \\zeta_{16}^{4} & \\frac{1}{4} \\zeta_{16}^{4} & -\\frac{1}{4} \\zeta_{16}^{4} & 0 & 0 & \\frac{1}{2} & \\frac{1}{2} & 0 & 0 & 0 & 0 & 0 & 0 & 0 & 0 & 0 & 0 & 0 & 0 & 0 & 0 \\\\\n",
       "-\\frac{1}{4} \\zeta_{16}^{4} & \\frac{1}{4} \\zeta_{16}^{4} & -\\frac{1}{4} \\zeta_{16}^{4} & \\frac{1}{4} \\zeta_{16}^{4} & 0 & 0 & \\frac{1}{2} & \\frac{1}{2} & 0 & 0 & 0 & 0 & 0 & 0 & 0 & 0 & 0 & 0 & 0 & 0 & 0 & 0 \\\\\n",
       "\\frac{1}{4} \\zeta_{16}^{4} & -\\frac{1}{4} \\zeta_{16}^{4} & \\frac{1}{4} \\zeta_{16}^{4} & -\\frac{1}{4} \\zeta_{16}^{4} & \\frac{1}{2} & \\frac{1}{2} & 0 & 0 & 0 & 0 & 0 & 0 & 0 & 0 & 0 & 0 & 0 & 0 & 0 & 0 & 0 & 0 \\\\\n",
       "-\\frac{1}{4} \\zeta_{16}^{4} & \\frac{1}{4} \\zeta_{16}^{4} & -\\frac{1}{4} \\zeta_{16}^{4} & \\frac{1}{4} \\zeta_{16}^{4} & \\frac{1}{2} & \\frac{1}{2} & 0 & 0 & 0 & 0 & 0 & 0 & 0 & 0 & 0 & 0 & 0 & 0 & 0 & 0 & 0 & 0 \\\\\n",
       "0 & 0 & 0 & 0 & 0 & 0 & 0 & 0 & 1 & 0 & 0 & 0 & 0 & 0 & 0 & 0 & 0 & 0 & 0 & 0 & 0 & 0 \\\\\n",
       "0 & 0 & 0 & 0 & 0 & 0 & 0 & 0 & 0 & 0 & 0 & 1 & 0 & 0 & 0 & 0 & 0 & 0 & 0 & 0 & 0 & 0 \\\\\n",
       "0 & 0 & 0 & 0 & 0 & 0 & 0 & 0 & 0 & 0 & 0 & 0 & 1 & 0 & 0 & 0 & 0 & 0 & 0 & 0 & 0 & 0 \\\\\n",
       "0 & 0 & 0 & 0 & 0 & 0 & 0 & 0 & 0 & 1 & 0 & 0 & 0 & 0 & 0 & 0 & 0 & 0 & 0 & 0 & 0 & 0 \\\\\n",
       "0 & 0 & 0 & 0 & 0 & 0 & 0 & 0 & 0 & 0 & 1 & 0 & 0 & 0 & 0 & 0 & 0 & 0 & 0 & 0 & 0 & 0 \\\\\n",
       "0 & 0 & 0 & 0 & 0 & 0 & 0 & 0 & 0 & 0 & 0 & 0 & 0 & 1 & 0 & 0 & 0 & 0 & 0 & 0 & 0 & 0 \\\\\n",
       "0 & 0 & 0 & 0 & 0 & 0 & 0 & 0 & 0 & 0 & 0 & 0 & 0 & 0 & 1 & 0 & 0 & 0 & -\\frac{1}{4} \\zeta_{16}^{4} + \\frac{1}{4} & -\\frac{1}{4} \\zeta_{16}^{4} + \\frac{1}{4} & -\\frac{1}{4} \\zeta_{16}^{4} + \\frac{1}{4} & -\\frac{1}{4} \\zeta_{16}^{4} + \\frac{1}{4} \\\\\n",
       "0 & 0 & 0 & 0 & 0 & 0 & 0 & 0 & 0 & 0 & 0 & 0 & 0 & 0 & 0 & 1 & 0 & 0 & -\\frac{1}{4} \\zeta_{16}^{4} + \\frac{1}{4} & -\\frac{1}{4} \\zeta_{16}^{4} + \\frac{1}{4} & -\\frac{1}{4} \\zeta_{16}^{4} + \\frac{1}{4} & -\\frac{1}{4} \\zeta_{16}^{4} + \\frac{1}{4} \\\\\n",
       "0 & 0 & 0 & 0 & 0 & 0 & 0 & 0 & 0 & 0 & 0 & 0 & 0 & 0 & 0 & 0 & 1 & 0 & \\frac{1}{4} \\zeta_{16}^{4} + \\frac{1}{4} & \\frac{1}{4} \\zeta_{16}^{4} + \\frac{1}{4} & \\frac{1}{4} \\zeta_{16}^{4} + \\frac{1}{4} & \\frac{1}{4} \\zeta_{16}^{4} + \\frac{1}{4} \\\\\n",
       "0 & 0 & 0 & 0 & 0 & 0 & 0 & 0 & 0 & 0 & 0 & 0 & 0 & 0 & 0 & 0 & 0 & 1 & \\frac{1}{4} \\zeta_{16}^{4} + \\frac{1}{4} & \\frac{1}{4} \\zeta_{16}^{4} + \\frac{1}{4} & \\frac{1}{4} \\zeta_{16}^{4} + \\frac{1}{4} & \\frac{1}{4} \\zeta_{16}^{4} + \\frac{1}{4} \\\\\n",
       "0 & 0 & 0 & 0 & 0 & 0 & 0 & 0 & 0 & 0 & 0 & 0 & 0 & 0 & -\\frac{1}{4} \\zeta_{16}^{4} + \\frac{1}{4} & -\\frac{1}{4} \\zeta_{16}^{4} + \\frac{1}{4} & \\frac{1}{4} \\zeta_{16}^{4} + \\frac{1}{4} & \\frac{1}{4} \\zeta_{16}^{4} + \\frac{1}{4} & 0 & 0 & -\\frac{1}{2} & \\frac{1}{2} \\\\\n",
       "0 & 0 & 0 & 0 & 0 & 0 & 0 & 0 & 0 & 0 & 0 & 0 & 0 & 0 & -\\frac{1}{4} \\zeta_{16}^{4} + \\frac{1}{4} & -\\frac{1}{4} \\zeta_{16}^{4} + \\frac{1}{4} & \\frac{1}{4} \\zeta_{16}^{4} + \\frac{1}{4} & \\frac{1}{4} \\zeta_{16}^{4} + \\frac{1}{4} & 0 & 0 & \\frac{1}{2} & -\\frac{1}{2} \\\\\n",
       "0 & 0 & 0 & 0 & 0 & 0 & 0 & 0 & 0 & 0 & 0 & 0 & 0 & 0 & -\\frac{1}{4} \\zeta_{16}^{4} + \\frac{1}{4} & -\\frac{1}{4} \\zeta_{16}^{4} + \\frac{1}{4} & \\frac{1}{4} \\zeta_{16}^{4} + \\frac{1}{4} & \\frac{1}{4} \\zeta_{16}^{4} + \\frac{1}{4} & -\\frac{1}{2} & \\frac{1}{2} & 0 & 0 \\\\\n",
       "0 & 0 & 0 & 0 & 0 & 0 & 0 & 0 & 0 & 0 & 0 & 0 & 0 & 0 & -\\frac{1}{4} \\zeta_{16}^{4} + \\frac{1}{4} & -\\frac{1}{4} \\zeta_{16}^{4} + \\frac{1}{4} & \\frac{1}{4} \\zeta_{16}^{4} + \\frac{1}{4} & \\frac{1}{4} \\zeta_{16}^{4} + \\frac{1}{4} & \\frac{1}{2} & -\\frac{1}{2} & 0 & 0\n",
       "\\end{array}\\right)</script></html>"
      ],
      "text/plain": [
       "22 x 22 dense matrix over Cyclotomic Field of order 16 and degree 8 (use the '.str()' method to see the entries)"
      ]
     },
     "metadata": {},
     "output_type": "display_data"
    }
   ],
   "source": [
    "C = S*S\n",
    "show(C)"
   ]
  },
  {
   "cell_type": "code",
   "execution_count": 379,
   "metadata": {},
   "outputs": [
    {
     "data": {
      "text/html": [
       "<html><script type=\"math/tex; mode=display\">\\newcommand{\\Bold}[1]{\\mathbf{#1}}\\left[0, 1, 4, 5, 2, 3, 7, 6, 8, 9, 10, 13, 14, 11, 12\\right]</script></html>"
      ],
      "text/plain": [
       "[0, 1, 4, 5, 2, 3, 7, 6, 8, 9, 10, 13, 14, 11, 12]"
      ]
     },
     "metadata": {},
     "output_type": "display_data"
    },
    {
     "data": {
      "text/html": [
       "<html><script type=\"math/tex; mode=display\">\\newcommand{\\Bold}[1]{\\mathbf{#1}}\\left(\\begin{array}{rrrrrrrrrrrrrrr}\n",
       "1 & 0 & 0 & 0 & 0 & 0 & 0 & 0 & 0 & 0 & 0 & 0 & 0 & 0 & 0 \\\\\n",
       "0 & 1 & 0 & 0 & 0 & 0 & 0 & 0 & 0 & 0 & 0 & 0 & 0 & 0 & 0 \\\\\n",
       "0 & 0 & 1 & 0 & 0 & 0 & 0 & 0 & 0 & 0 & 0 & 0 & 0 & 0 & 0 \\\\\n",
       "0 & 0 & 0 & 1 & 0 & 0 & 0 & 0 & 0 & 0 & 0 & 0 & 0 & 0 & 0 \\\\\n",
       "0 & 0 & 0 & 0 & 1 & 0 & 0 & 0 & 0 & 0 & 0 & 0 & 0 & 0 & 0 \\\\\n",
       "0 & 0 & 0 & 0 & 0 & 1 & 0 & 0 & 0 & 0 & 0 & 0 & 0 & 0 & 0 \\\\\n",
       "0 & 0 & 0 & 0 & 0 & 0 & 1 & 0 & 0 & 0 & 0 & 0 & 0 & 0 & 0 \\\\\n",
       "0 & 0 & 0 & 0 & 0 & 0 & 0 & 1 & 0 & 0 & 0 & 0 & 0 & 0 & 0 \\\\\n",
       "0 & 0 & 0 & 0 & 0 & 0 & 0 & 0 & 1 & 0 & 0 & 0 & 0 & 0 & 0 \\\\\n",
       "0 & 0 & 0 & 0 & 0 & 0 & 0 & 0 & 0 & 1 & 0 & 0 & 0 & 0 & 0 \\\\\n",
       "0 & 0 & 0 & 0 & 0 & 0 & 0 & 0 & 0 & 0 & 1 & 0 & 0 & 0 & 0 \\\\\n",
       "0 & 0 & 0 & 0 & 0 & 0 & 0 & 0 & 0 & 0 & 0 & 1 & 0 & 0 & 0 \\\\\n",
       "0 & 0 & 0 & 0 & 0 & 0 & 0 & 0 & 0 & 0 & 0 & 0 & 1 & 0 & 0 \\\\\n",
       "0 & 0 & 0 & 0 & 0 & 0 & 0 & 0 & 0 & 0 & 0 & 0 & 0 & 1 & 0 \\\\\n",
       "0 & 0 & 0 & 0 & 0 & 0 & 0 & 0 & 0 & 0 & 0 & 0 & 0 & 0 & 1\n",
       "\\end{array}\\right)</script></html>"
      ],
      "text/plain": [
       "[1 0 0 0 0 0 0 0 0 0 0 0 0 0 0]\n",
       "[0 1 0 0 0 0 0 0 0 0 0 0 0 0 0]\n",
       "[0 0 1 0 0 0 0 0 0 0 0 0 0 0 0]\n",
       "[0 0 0 1 0 0 0 0 0 0 0 0 0 0 0]\n",
       "[0 0 0 0 1 0 0 0 0 0 0 0 0 0 0]\n",
       "[0 0 0 0 0 1 0 0 0 0 0 0 0 0 0]\n",
       "[0 0 0 0 0 0 1 0 0 0 0 0 0 0 0]\n",
       "[0 0 0 0 0 0 0 1 0 0 0 0 0 0 0]\n",
       "[0 0 0 0 0 0 0 0 1 0 0 0 0 0 0]\n",
       "[0 0 0 0 0 0 0 0 0 1 0 0 0 0 0]\n",
       "[0 0 0 0 0 0 0 0 0 0 1 0 0 0 0]\n",
       "[0 0 0 0 0 0 0 0 0 0 0 1 0 0 0]\n",
       "[0 0 0 0 0 0 0 0 0 0 0 0 1 0 0]\n",
       "[0 0 0 0 0 0 0 0 0 0 0 0 0 1 0]\n",
       "[0 0 0 0 0 0 0 0 0 0 0 0 0 0 1]"
      ]
     },
     "metadata": {},
     "output_type": "display_data"
    },
    {
     "data": {
      "text/html": [
       "<html><script type=\"math/tex; mode=display\">\\newcommand{\\Bold}[1]{\\mathbf{#1}}\\left(\\begin{array}{rrrrrrrrrrrrrrr}\n",
       "0 & 1 & 0 & 0 & 0 & 0 & 0 & 0 & 0 & 0 & 0 & 0 & 0 & 0 & 0 \\\\\n",
       "1 & 0 & 0 & 0 & 0 & 0 & 0 & 0 & 0 & 0 & 0 & 0 & 0 & 0 & 0 \\\\\n",
       "0 & 0 & 0 & 1 & 0 & 0 & 0 & 0 & 0 & 0 & 0 & 0 & 0 & 0 & 0 \\\\\n",
       "0 & 0 & 1 & 0 & 0 & 0 & 0 & 0 & 0 & 0 & 0 & 0 & 0 & 0 & 0 \\\\\n",
       "0 & 0 & 0 & 0 & 0 & 1 & 0 & 0 & 0 & 0 & 0 & 0 & 0 & 0 & 0 \\\\\n",
       "0 & 0 & 0 & 0 & 1 & 0 & 0 & 0 & 0 & 0 & 0 & 0 & 0 & 0 & 0 \\\\\n",
       "0 & 0 & 0 & 0 & 0 & 0 & 1 & 0 & 0 & 0 & 0 & 0 & 0 & 0 & 0 \\\\\n",
       "0 & 0 & 0 & 0 & 0 & 0 & 0 & 1 & 0 & 0 & 0 & 0 & 0 & 0 & 0 \\\\\n",
       "0 & 0 & 0 & 0 & 0 & 0 & 0 & 0 & 1 & 0 & 0 & 0 & 0 & 0 & 0 \\\\\n",
       "0 & 0 & 0 & 0 & 0 & 0 & 0 & 0 & 0 & 0 & 1 & 0 & 0 & 0 & 0 \\\\\n",
       "0 & 0 & 0 & 0 & 0 & 0 & 0 & 0 & 0 & 1 & 0 & 0 & 0 & 0 & 0 \\\\\n",
       "0 & 0 & 0 & 0 & 0 & 0 & 0 & 0 & 0 & 0 & 0 & 0 & 1 & 0 & 0 \\\\\n",
       "0 & 0 & 0 & 0 & 0 & 0 & 0 & 0 & 0 & 0 & 0 & 1 & 0 & 0 & 0 \\\\\n",
       "0 & 0 & 0 & 0 & 0 & 0 & 0 & 0 & 0 & 0 & 0 & 0 & 0 & 0 & 1 \\\\\n",
       "0 & 0 & 0 & 0 & 0 & 0 & 0 & 0 & 0 & 0 & 0 & 0 & 0 & 1 & 0\n",
       "\\end{array}\\right)</script></html>"
      ],
      "text/plain": [
       "[0 1 0 0 0 0 0 0 0 0 0 0 0 0 0]\n",
       "[1 0 0 0 0 0 0 0 0 0 0 0 0 0 0]\n",
       "[0 0 0 1 0 0 0 0 0 0 0 0 0 0 0]\n",
       "[0 0 1 0 0 0 0 0 0 0 0 0 0 0 0]\n",
       "[0 0 0 0 0 1 0 0 0 0 0 0 0 0 0]\n",
       "[0 0 0 0 1 0 0 0 0 0 0 0 0 0 0]\n",
       "[0 0 0 0 0 0 1 0 0 0 0 0 0 0 0]\n",
       "[0 0 0 0 0 0 0 1 0 0 0 0 0 0 0]\n",
       "[0 0 0 0 0 0 0 0 1 0 0 0 0 0 0]\n",
       "[0 0 0 0 0 0 0 0 0 0 1 0 0 0 0]\n",
       "[0 0 0 0 0 0 0 0 0 1 0 0 0 0 0]\n",
       "[0 0 0 0 0 0 0 0 0 0 0 0 1 0 0]\n",
       "[0 0 0 0 0 0 0 0 0 0 0 1 0 0 0]\n",
       "[0 0 0 0 0 0 0 0 0 0 0 0 0 0 1]\n",
       "[0 0 0 0 0 0 0 0 0 0 0 0 0 1 0]"
      ]
     },
     "metadata": {},
     "output_type": "display_data"
    },
    {
     "data": {
      "text/html": [
       "<html><script type=\"math/tex; mode=display\">\\newcommand{\\Bold}[1]{\\mathbf{#1}}\\left(\\begin{array}{rrrrrrrrrrrrrrr}\n",
       "0 & 0 & 1 & 0 & 0 & 0 & 0 & 0 & 0 & 0 & 0 & 0 & 0 & 0 & 0 \\\\\n",
       "0 & 0 & 0 & 1 & 0 & 0 & 0 & 0 & 0 & 0 & 0 & 0 & 0 & 0 & 0 \\\\\n",
       "0 & 0 & 0 & 0 & 1 & 0 & 0 & 0 & 0 & 0 & 0 & 0 & 0 & 0 & 0 \\\\\n",
       "0 & 0 & 0 & 0 & 0 & 1 & 0 & 0 & 0 & 0 & 0 & 0 & 0 & 0 & 0 \\\\\n",
       "1 & 0 & 0 & 0 & 0 & 0 & 0 & 0 & 0 & 0 & 0 & 0 & 0 & 0 & 0 \\\\\n",
       "0 & 1 & 0 & 0 & 0 & 0 & 0 & 0 & 0 & 0 & 0 & 0 & 0 & 0 & 0 \\\\\n",
       "0 & 0 & 0 & 0 & 0 & 0 & 0 & 0 & 1 & 0 & 0 & 0 & 0 & 0 & 0 \\\\\n",
       "0 & 0 & 0 & 0 & 0 & 0 & 1 & 0 & 0 & 0 & 0 & 0 & 0 & 0 & 0 \\\\\n",
       "0 & 0 & 0 & 0 & 0 & 0 & 0 & 1 & 0 & 0 & 0 & 0 & 0 & 0 & 0 \\\\\n",
       "0 & 0 & 0 & 0 & 0 & 0 & 0 & 0 & 0 & 0 & 0 & \\frac{1}{2} & -\\frac{1}{2} & \\frac{1}{2} & \\frac{1}{2} \\\\\n",
       "0 & 0 & 0 & 0 & 0 & 0 & 0 & 0 & 0 & 0 & 0 & -\\frac{1}{2} & \\frac{1}{2} & \\frac{1}{2} & \\frac{1}{2} \\\\\n",
       "0 & 0 & 0 & 0 & 0 & 0 & 0 & 0 & 0 & \\frac{1}{2} & \\frac{1}{2} & 0 & 0 & \\frac{1}{2} & -\\frac{1}{2} \\\\\n",
       "0 & 0 & 0 & 0 & 0 & 0 & 0 & 0 & 0 & \\frac{1}{2} & \\frac{1}{2} & 0 & 0 & -\\frac{1}{2} & \\frac{1}{2} \\\\\n",
       "0 & 0 & 0 & 0 & 0 & 0 & 0 & 0 & 0 & \\frac{1}{2} & -\\frac{1}{2} & \\frac{1}{2} & \\frac{1}{2} & 0 & 0 \\\\\n",
       "0 & 0 & 0 & 0 & 0 & 0 & 0 & 0 & 0 & -\\frac{1}{2} & \\frac{1}{2} & \\frac{1}{2} & \\frac{1}{2} & 0 & 0\n",
       "\\end{array}\\right)</script></html>"
      ],
      "text/plain": [
       "[   0    0    1    0    0    0    0    0    0    0    0    0    0    0    0]\n",
       "[   0    0    0    1    0    0    0    0    0    0    0    0    0    0    0]\n",
       "[   0    0    0    0    1    0    0    0    0    0    0    0    0    0    0]\n",
       "[   0    0    0    0    0    1    0    0    0    0    0    0    0    0    0]\n",
       "[   1    0    0    0    0    0    0    0    0    0    0    0    0    0    0]\n",
       "[   0    1    0    0    0    0    0    0    0    0    0    0    0    0    0]\n",
       "[   0    0    0    0    0    0    0    0    1    0    0    0    0    0    0]\n",
       "[   0    0    0    0    0    0    1    0    0    0    0    0    0    0    0]\n",
       "[   0    0    0    0    0    0    0    1    0    0    0    0    0    0    0]\n",
       "[   0    0    0    0    0    0    0    0    0    0    0  1/2 -1/2  1/2  1/2]\n",
       "[   0    0    0    0    0    0    0    0    0    0    0 -1/2  1/2  1/2  1/2]\n",
       "[   0    0    0    0    0    0    0    0    0  1/2  1/2    0    0  1/2 -1/2]\n",
       "[   0    0    0    0    0    0    0    0    0  1/2  1/2    0    0 -1/2  1/2]\n",
       "[   0    0    0    0    0    0    0    0    0  1/2 -1/2  1/2  1/2    0    0]\n",
       "[   0    0    0    0    0    0    0    0    0 -1/2  1/2  1/2  1/2    0    0]"
      ]
     },
     "metadata": {},
     "output_type": "display_data"
    },
    {
     "data": {
      "text/html": [
       "<html><script type=\"math/tex; mode=display\">\\newcommand{\\Bold}[1]{\\mathbf{#1}}\\left(\\begin{array}{rrrrrrrrrrrrrrr}\n",
       "0 & 0 & 0 & 1 & 0 & 0 & 0 & 0 & 0 & 0 & 0 & 0 & 0 & 0 & 0 \\\\\n",
       "0 & 0 & 1 & 0 & 0 & 0 & 0 & 0 & 0 & 0 & 0 & 0 & 0 & 0 & 0 \\\\\n",
       "0 & 0 & 0 & 0 & 0 & 1 & 0 & 0 & 0 & 0 & 0 & 0 & 0 & 0 & 0 \\\\\n",
       "0 & 0 & 0 & 0 & 1 & 0 & 0 & 0 & 0 & 0 & 0 & 0 & 0 & 0 & 0 \\\\\n",
       "0 & 1 & 0 & 0 & 0 & 0 & 0 & 0 & 0 & 0 & 0 & 0 & 0 & 0 & 0 \\\\\n",
       "1 & 0 & 0 & 0 & 0 & 0 & 0 & 0 & 0 & 0 & 0 & 0 & 0 & 0 & 0 \\\\\n",
       "0 & 0 & 0 & 0 & 0 & 0 & 0 & 0 & 1 & 0 & 0 & 0 & 0 & 0 & 0 \\\\\n",
       "0 & 0 & 0 & 0 & 0 & 0 & 1 & 0 & 0 & 0 & 0 & 0 & 0 & 0 & 0 \\\\\n",
       "0 & 0 & 0 & 0 & 0 & 0 & 0 & 1 & 0 & 0 & 0 & 0 & 0 & 0 & 0 \\\\\n",
       "0 & 0 & 0 & 0 & 0 & 0 & 0 & 0 & 0 & 0 & 0 & -\\frac{1}{2} & \\frac{1}{2} & \\frac{1}{2} & \\frac{1}{2} \\\\\n",
       "0 & 0 & 0 & 0 & 0 & 0 & 0 & 0 & 0 & 0 & 0 & \\frac{1}{2} & -\\frac{1}{2} & \\frac{1}{2} & \\frac{1}{2} \\\\\n",
       "0 & 0 & 0 & 0 & 0 & 0 & 0 & 0 & 0 & \\frac{1}{2} & \\frac{1}{2} & 0 & 0 & -\\frac{1}{2} & \\frac{1}{2} \\\\\n",
       "0 & 0 & 0 & 0 & 0 & 0 & 0 & 0 & 0 & \\frac{1}{2} & \\frac{1}{2} & 0 & 0 & \\frac{1}{2} & -\\frac{1}{2} \\\\\n",
       "0 & 0 & 0 & 0 & 0 & 0 & 0 & 0 & 0 & -\\frac{1}{2} & \\frac{1}{2} & \\frac{1}{2} & \\frac{1}{2} & 0 & 0 \\\\\n",
       "0 & 0 & 0 & 0 & 0 & 0 & 0 & 0 & 0 & \\frac{1}{2} & -\\frac{1}{2} & \\frac{1}{2} & \\frac{1}{2} & 0 & 0\n",
       "\\end{array}\\right)</script></html>"
      ],
      "text/plain": [
       "[   0    0    0    1    0    0    0    0    0    0    0    0    0    0    0]\n",
       "[   0    0    1    0    0    0    0    0    0    0    0    0    0    0    0]\n",
       "[   0    0    0    0    0    1    0    0    0    0    0    0    0    0    0]\n",
       "[   0    0    0    0    1    0    0    0    0    0    0    0    0    0    0]\n",
       "[   0    1    0    0    0    0    0    0    0    0    0    0    0    0    0]\n",
       "[   1    0    0    0    0    0    0    0    0    0    0    0    0    0    0]\n",
       "[   0    0    0    0    0    0    0    0    1    0    0    0    0    0    0]\n",
       "[   0    0    0    0    0    0    1    0    0    0    0    0    0    0    0]\n",
       "[   0    0    0    0    0    0    0    1    0    0    0    0    0    0    0]\n",
       "[   0    0    0    0    0    0    0    0    0    0    0 -1/2  1/2  1/2  1/2]\n",
       "[   0    0    0    0    0    0    0    0    0    0    0  1/2 -1/2  1/2  1/2]\n",
       "[   0    0    0    0    0    0    0    0    0  1/2  1/2    0    0 -1/2  1/2]\n",
       "[   0    0    0    0    0    0    0    0    0  1/2  1/2    0    0  1/2 -1/2]\n",
       "[   0    0    0    0    0    0    0    0    0 -1/2  1/2  1/2  1/2    0    0]\n",
       "[   0    0    0    0    0    0    0    0    0  1/2 -1/2  1/2  1/2    0    0]"
      ]
     },
     "metadata": {},
     "output_type": "display_data"
    },
    {
     "data": {
      "text/html": [
       "<html><script type=\"math/tex; mode=display\">\\newcommand{\\Bold}[1]{\\mathbf{#1}}\\left(\\begin{array}{rrrrrrrrrrrrrrr}\n",
       "0 & 0 & 0 & 0 & 1 & 0 & 0 & 0 & 0 & 0 & 0 & 0 & 0 & 0 & 0 \\\\\n",
       "0 & 0 & 0 & 0 & 0 & 1 & 0 & 0 & 0 & 0 & 0 & 0 & 0 & 0 & 0 \\\\\n",
       "1 & 0 & 0 & 0 & 0 & 0 & 0 & 0 & 0 & 0 & 0 & 0 & 0 & 0 & 0 \\\\\n",
       "0 & 1 & 0 & 0 & 0 & 0 & 0 & 0 & 0 & 0 & 0 & 0 & 0 & 0 & 0 \\\\\n",
       "0 & 0 & 1 & 0 & 0 & 0 & 0 & 0 & 0 & 0 & 0 & 0 & 0 & 0 & 0 \\\\\n",
       "0 & 0 & 0 & 1 & 0 & 0 & 0 & 0 & 0 & 0 & 0 & 0 & 0 & 0 & 0 \\\\\n",
       "0 & 0 & 0 & 0 & 0 & 0 & 0 & 1 & 0 & 0 & 0 & 0 & 0 & 0 & 0 \\\\\n",
       "0 & 0 & 0 & 0 & 0 & 0 & 0 & 0 & 1 & 0 & 0 & 0 & 0 & 0 & 0 \\\\\n",
       "0 & 0 & 0 & 0 & 0 & 0 & 1 & 0 & 0 & 0 & 0 & 0 & 0 & 0 & 0 \\\\\n",
       "0 & 0 & 0 & 0 & 0 & 0 & 0 & 0 & 0 & 0 & 0 & \\frac{1}{2} & \\frac{1}{2} & \\frac{1}{2} & -\\frac{1}{2} \\\\\n",
       "0 & 0 & 0 & 0 & 0 & 0 & 0 & 0 & 0 & 0 & 0 & \\frac{1}{2} & \\frac{1}{2} & -\\frac{1}{2} & \\frac{1}{2} \\\\\n",
       "0 & 0 & 0 & 0 & 0 & 0 & 0 & 0 & 0 & \\frac{1}{2} & -\\frac{1}{2} & 0 & 0 & \\frac{1}{2} & \\frac{1}{2} \\\\\n",
       "0 & 0 & 0 & 0 & 0 & 0 & 0 & 0 & 0 & -\\frac{1}{2} & \\frac{1}{2} & 0 & 0 & \\frac{1}{2} & \\frac{1}{2} \\\\\n",
       "0 & 0 & 0 & 0 & 0 & 0 & 0 & 0 & 0 & \\frac{1}{2} & \\frac{1}{2} & \\frac{1}{2} & -\\frac{1}{2} & 0 & 0 \\\\\n",
       "0 & 0 & 0 & 0 & 0 & 0 & 0 & 0 & 0 & \\frac{1}{2} & \\frac{1}{2} & -\\frac{1}{2} & \\frac{1}{2} & 0 & 0\n",
       "\\end{array}\\right)</script></html>"
      ],
      "text/plain": [
       "[   0    0    0    0    1    0    0    0    0    0    0    0    0    0    0]\n",
       "[   0    0    0    0    0    1    0    0    0    0    0    0    0    0    0]\n",
       "[   1    0    0    0    0    0    0    0    0    0    0    0    0    0    0]\n",
       "[   0    1    0    0    0    0    0    0    0    0    0    0    0    0    0]\n",
       "[   0    0    1    0    0    0    0    0    0    0    0    0    0    0    0]\n",
       "[   0    0    0    1    0    0    0    0    0    0    0    0    0    0    0]\n",
       "[   0    0    0    0    0    0    0    1    0    0    0    0    0    0    0]\n",
       "[   0    0    0    0    0    0    0    0    1    0    0    0    0    0    0]\n",
       "[   0    0    0    0    0    0    1    0    0    0    0    0    0    0    0]\n",
       "[   0    0    0    0    0    0    0    0    0    0    0  1/2  1/2  1/2 -1/2]\n",
       "[   0    0    0    0    0    0    0    0    0    0    0  1/2  1/2 -1/2  1/2]\n",
       "[   0    0    0    0    0    0    0    0    0  1/2 -1/2    0    0  1/2  1/2]\n",
       "[   0    0    0    0    0    0    0    0    0 -1/2  1/2    0    0  1/2  1/2]\n",
       "[   0    0    0    0    0    0    0    0    0  1/2  1/2  1/2 -1/2    0    0]\n",
       "[   0    0    0    0    0    0    0    0    0  1/2  1/2 -1/2  1/2    0    0]"
      ]
     },
     "metadata": {},
     "output_type": "display_data"
    },
    {
     "data": {
      "text/html": [
       "<html><script type=\"math/tex; mode=display\">\\newcommand{\\Bold}[1]{\\mathbf{#1}}\\left(\\begin{array}{rrrrrrrrrrrrrrr}\n",
       "0 & 0 & 0 & 0 & 0 & 1 & 0 & 0 & 0 & 0 & 0 & 0 & 0 & 0 & 0 \\\\\n",
       "0 & 0 & 0 & 0 & 1 & 0 & 0 & 0 & 0 & 0 & 0 & 0 & 0 & 0 & 0 \\\\\n",
       "0 & 1 & 0 & 0 & 0 & 0 & 0 & 0 & 0 & 0 & 0 & 0 & 0 & 0 & 0 \\\\\n",
       "1 & 0 & 0 & 0 & 0 & 0 & 0 & 0 & 0 & 0 & 0 & 0 & 0 & 0 & 0 \\\\\n",
       "0 & 0 & 0 & 1 & 0 & 0 & 0 & 0 & 0 & 0 & 0 & 0 & 0 & 0 & 0 \\\\\n",
       "0 & 0 & 1 & 0 & 0 & 0 & 0 & 0 & 0 & 0 & 0 & 0 & 0 & 0 & 0 \\\\\n",
       "0 & 0 & 0 & 0 & 0 & 0 & 0 & 1 & 0 & 0 & 0 & 0 & 0 & 0 & 0 \\\\\n",
       "0 & 0 & 0 & 0 & 0 & 0 & 0 & 0 & 1 & 0 & 0 & 0 & 0 & 0 & 0 \\\\\n",
       "0 & 0 & 0 & 0 & 0 & 0 & 1 & 0 & 0 & 0 & 0 & 0 & 0 & 0 & 0 \\\\\n",
       "0 & 0 & 0 & 0 & 0 & 0 & 0 & 0 & 0 & 0 & 0 & \\frac{1}{2} & \\frac{1}{2} & -\\frac{1}{2} & \\frac{1}{2} \\\\\n",
       "0 & 0 & 0 & 0 & 0 & 0 & 0 & 0 & 0 & 0 & 0 & \\frac{1}{2} & \\frac{1}{2} & \\frac{1}{2} & -\\frac{1}{2} \\\\\n",
       "0 & 0 & 0 & 0 & 0 & 0 & 0 & 0 & 0 & -\\frac{1}{2} & \\frac{1}{2} & 0 & 0 & \\frac{1}{2} & \\frac{1}{2} \\\\\n",
       "0 & 0 & 0 & 0 & 0 & 0 & 0 & 0 & 0 & \\frac{1}{2} & -\\frac{1}{2} & 0 & 0 & \\frac{1}{2} & \\frac{1}{2} \\\\\n",
       "0 & 0 & 0 & 0 & 0 & 0 & 0 & 0 & 0 & \\frac{1}{2} & \\frac{1}{2} & -\\frac{1}{2} & \\frac{1}{2} & 0 & 0 \\\\\n",
       "0 & 0 & 0 & 0 & 0 & 0 & 0 & 0 & 0 & \\frac{1}{2} & \\frac{1}{2} & \\frac{1}{2} & -\\frac{1}{2} & 0 & 0\n",
       "\\end{array}\\right)</script></html>"
      ],
      "text/plain": [
       "[   0    0    0    0    0    1    0    0    0    0    0    0    0    0    0]\n",
       "[   0    0    0    0    1    0    0    0    0    0    0    0    0    0    0]\n",
       "[   0    1    0    0    0    0    0    0    0    0    0    0    0    0    0]\n",
       "[   1    0    0    0    0    0    0    0    0    0    0    0    0    0    0]\n",
       "[   0    0    0    1    0    0    0    0    0    0    0    0    0    0    0]\n",
       "[   0    0    1    0    0    0    0    0    0    0    0    0    0    0    0]\n",
       "[   0    0    0    0    0    0    0    1    0    0    0    0    0    0    0]\n",
       "[   0    0    0    0    0    0    0    0    1    0    0    0    0    0    0]\n",
       "[   0    0    0    0    0    0    1    0    0    0    0    0    0    0    0]\n",
       "[   0    0    0    0    0    0    0    0    0    0    0  1/2  1/2 -1/2  1/2]\n",
       "[   0    0    0    0    0    0    0    0    0    0    0  1/2  1/2  1/2 -1/2]\n",
       "[   0    0    0    0    0    0    0    0    0 -1/2  1/2    0    0  1/2  1/2]\n",
       "[   0    0    0    0    0    0    0    0    0  1/2 -1/2    0    0  1/2  1/2]\n",
       "[   0    0    0    0    0    0    0    0    0  1/2  1/2 -1/2  1/2    0    0]\n",
       "[   0    0    0    0    0    0    0    0    0  1/2  1/2  1/2 -1/2    0    0]"
      ]
     },
     "metadata": {},
     "output_type": "display_data"
    },
    {
     "data": {
      "text/html": [
       "<html><script type=\"math/tex; mode=display\">\\newcommand{\\Bold}[1]{\\mathbf{#1}}\\left(\\begin{array}{rrrrrrrrrrrrrrr}\n",
       "0 & 0 & 0 & 0 & 0 & 0 & 1 & 0 & 0 & 0 & 0 & 0 & 0 & 0 & 0 \\\\\n",
       "0 & 0 & 0 & 0 & 0 & 0 & 1 & 0 & 0 & 0 & 0 & 0 & 0 & 0 & 0 \\\\\n",
       "0 & 0 & 0 & 0 & 0 & 0 & 0 & 0 & 1 & 0 & 0 & 0 & 0 & 0 & 0 \\\\\n",
       "0 & 0 & 0 & 0 & 0 & 0 & 0 & 0 & 1 & 0 & 0 & 0 & 0 & 0 & 0 \\\\\n",
       "0 & 0 & 0 & 0 & 0 & 0 & 0 & 1 & 0 & 0 & 0 & 0 & 0 & 0 & 0 \\\\\n",
       "0 & 0 & 0 & 0 & 0 & 0 & 0 & 1 & 0 & 0 & 0 & 0 & 0 & 0 & 0 \\\\\n",
       "0 & 0 & 1 & 1 & 0 & 0 & 0 & 1 & 0 & 0 & 0 & 0 & 0 & 0 & 0 \\\\\n",
       "1 & 1 & 0 & 0 & 0 & 0 & 0 & 0 & 1 & 0 & 0 & 0 & 0 & 0 & 0 \\\\\n",
       "0 & 0 & 0 & 0 & 1 & 1 & 1 & 0 & 0 & 0 & 0 & 0 & 0 & 0 & 0 \\\\\n",
       "0 & 0 & 0 & 0 & 0 & 0 & 0 & 0 & 0 & 0 & 0 & 1 & 1 & 0 & 0 \\\\\n",
       "0 & 0 & 0 & 0 & 0 & 0 & 0 & 0 & 0 & 0 & 0 & 1 & 1 & 0 & 0 \\\\\n",
       "0 & 0 & 0 & 0 & 0 & 0 & 0 & 0 & 0 & 0 & 0 & 0 & 0 & 1 & 1 \\\\\n",
       "0 & 0 & 0 & 0 & 0 & 0 & 0 & 0 & 0 & 0 & 0 & 0 & 0 & 1 & 1 \\\\\n",
       "0 & 0 & 0 & 0 & 0 & 0 & 0 & 0 & 0 & 1 & 1 & 0 & 0 & 0 & 0 \\\\\n",
       "0 & 0 & 0 & 0 & 0 & 0 & 0 & 0 & 0 & 1 & 1 & 0 & 0 & 0 & 0\n",
       "\\end{array}\\right)</script></html>"
      ],
      "text/plain": [
       "[0 0 0 0 0 0 1 0 0 0 0 0 0 0 0]\n",
       "[0 0 0 0 0 0 1 0 0 0 0 0 0 0 0]\n",
       "[0 0 0 0 0 0 0 0 1 0 0 0 0 0 0]\n",
       "[0 0 0 0 0 0 0 0 1 0 0 0 0 0 0]\n",
       "[0 0 0 0 0 0 0 1 0 0 0 0 0 0 0]\n",
       "[0 0 0 0 0 0 0 1 0 0 0 0 0 0 0]\n",
       "[0 0 1 1 0 0 0 1 0 0 0 0 0 0 0]\n",
       "[1 1 0 0 0 0 0 0 1 0 0 0 0 0 0]\n",
       "[0 0 0 0 1 1 1 0 0 0 0 0 0 0 0]\n",
       "[0 0 0 0 0 0 0 0 0 0 0 1 1 0 0]\n",
       "[0 0 0 0 0 0 0 0 0 0 0 1 1 0 0]\n",
       "[0 0 0 0 0 0 0 0 0 0 0 0 0 1 1]\n",
       "[0 0 0 0 0 0 0 0 0 0 0 0 0 1 1]\n",
       "[0 0 0 0 0 0 0 0 0 1 1 0 0 0 0]\n",
       "[0 0 0 0 0 0 0 0 0 1 1 0 0 0 0]"
      ]
     },
     "metadata": {},
     "output_type": "display_data"
    },
    {
     "data": {
      "text/html": [
       "<html><script type=\"math/tex; mode=display\">\\newcommand{\\Bold}[1]{\\mathbf{#1}}\\left(\\begin{array}{rrrrrrrrrrrrrrr}\n",
       "0 & 0 & 0 & 0 & 0 & 0 & 0 & 1 & 0 & 0 & 0 & 0 & 0 & 0 & 0 \\\\\n",
       "0 & 0 & 0 & 0 & 0 & 0 & 0 & 1 & 0 & 0 & 0 & 0 & 0 & 0 & 0 \\\\\n",
       "0 & 0 & 0 & 0 & 0 & 0 & 1 & 0 & 0 & 0 & 0 & 0 & 0 & 0 & 0 \\\\\n",
       "0 & 0 & 0 & 0 & 0 & 0 & 1 & 0 & 0 & 0 & 0 & 0 & 0 & 0 & 0 \\\\\n",
       "0 & 0 & 0 & 0 & 0 & 0 & 0 & 0 & 1 & 0 & 0 & 0 & 0 & 0 & 0 \\\\\n",
       "0 & 0 & 0 & 0 & 0 & 0 & 0 & 0 & 1 & 0 & 0 & 0 & 0 & 0 & 0 \\\\\n",
       "1 & 1 & 0 & 0 & 0 & 0 & 0 & 0 & 1 & 0 & 0 & 0 & 0 & 0 & 0 \\\\\n",
       "0 & 0 & 0 & 0 & 1 & 1 & 1 & 0 & 0 & 0 & 0 & 0 & 0 & 0 & 0 \\\\\n",
       "0 & 0 & 1 & 1 & 0 & 0 & 0 & 1 & 0 & 0 & 0 & 0 & 0 & 0 & 0 \\\\\n",
       "0 & 0 & 0 & 0 & 0 & 0 & 0 & 0 & 0 & 0 & 0 & 0 & 0 & 1 & 1 \\\\\n",
       "0 & 0 & 0 & 0 & 0 & 0 & 0 & 0 & 0 & 0 & 0 & 0 & 0 & 1 & 1 \\\\\n",
       "0 & 0 & 0 & 0 & 0 & 0 & 0 & 0 & 0 & 1 & 1 & 0 & 0 & 0 & 0 \\\\\n",
       "0 & 0 & 0 & 0 & 0 & 0 & 0 & 0 & 0 & 1 & 1 & 0 & 0 & 0 & 0 \\\\\n",
       "0 & 0 & 0 & 0 & 0 & 0 & 0 & 0 & 0 & 0 & 0 & 1 & 1 & 0 & 0 \\\\\n",
       "0 & 0 & 0 & 0 & 0 & 0 & 0 & 0 & 0 & 0 & 0 & 1 & 1 & 0 & 0\n",
       "\\end{array}\\right)</script></html>"
      ],
      "text/plain": [
       "[0 0 0 0 0 0 0 1 0 0 0 0 0 0 0]\n",
       "[0 0 0 0 0 0 0 1 0 0 0 0 0 0 0]\n",
       "[0 0 0 0 0 0 1 0 0 0 0 0 0 0 0]\n",
       "[0 0 0 0 0 0 1 0 0 0 0 0 0 0 0]\n",
       "[0 0 0 0 0 0 0 0 1 0 0 0 0 0 0]\n",
       "[0 0 0 0 0 0 0 0 1 0 0 0 0 0 0]\n",
       "[1 1 0 0 0 0 0 0 1 0 0 0 0 0 0]\n",
       "[0 0 0 0 1 1 1 0 0 0 0 0 0 0 0]\n",
       "[0 0 1 1 0 0 0 1 0 0 0 0 0 0 0]\n",
       "[0 0 0 0 0 0 0 0 0 0 0 0 0 1 1]\n",
       "[0 0 0 0 0 0 0 0 0 0 0 0 0 1 1]\n",
       "[0 0 0 0 0 0 0 0 0 1 1 0 0 0 0]\n",
       "[0 0 0 0 0 0 0 0 0 1 1 0 0 0 0]\n",
       "[0 0 0 0 0 0 0 0 0 0 0 1 1 0 0]\n",
       "[0 0 0 0 0 0 0 0 0 0 0 1 1 0 0]"
      ]
     },
     "metadata": {},
     "output_type": "display_data"
    },
    {
     "data": {
      "text/html": [
       "<html><script type=\"math/tex; mode=display\">\\newcommand{\\Bold}[1]{\\mathbf{#1}}\\left(\\begin{array}{rrrrrrrrrrrrrrr}\n",
       "0 & 0 & 0 & 0 & 0 & 0 & 0 & 0 & 1 & 0 & 0 & 0 & 0 & 0 & 0 \\\\\n",
       "0 & 0 & 0 & 0 & 0 & 0 & 0 & 0 & 1 & 0 & 0 & 0 & 0 & 0 & 0 \\\\\n",
       "0 & 0 & 0 & 0 & 0 & 0 & 0 & 1 & 0 & 0 & 0 & 0 & 0 & 0 & 0 \\\\\n",
       "0 & 0 & 0 & 0 & 0 & 0 & 0 & 1 & 0 & 0 & 0 & 0 & 0 & 0 & 0 \\\\\n",
       "0 & 0 & 0 & 0 & 0 & 0 & 1 & 0 & 0 & 0 & 0 & 0 & 0 & 0 & 0 \\\\\n",
       "0 & 0 & 0 & 0 & 0 & 0 & 1 & 0 & 0 & 0 & 0 & 0 & 0 & 0 & 0 \\\\\n",
       "0 & 0 & 0 & 0 & 1 & 1 & 1 & 0 & 0 & 0 & 0 & 0 & 0 & 0 & 0 \\\\\n",
       "0 & 0 & 1 & 1 & 0 & 0 & 0 & 1 & 0 & 0 & 0 & 0 & 0 & 0 & 0 \\\\\n",
       "1 & 1 & 0 & 0 & 0 & 0 & 0 & 0 & 1 & 0 & 0 & 0 & 0 & 0 & 0 \\\\\n",
       "0 & 0 & 0 & 0 & 0 & 0 & 0 & 0 & 0 & 1 & 1 & 0 & 0 & 0 & 0 \\\\\n",
       "0 & 0 & 0 & 0 & 0 & 0 & 0 & 0 & 0 & 1 & 1 & 0 & 0 & 0 & 0 \\\\\n",
       "0 & 0 & 0 & 0 & 0 & 0 & 0 & 0 & 0 & 0 & 0 & 1 & 1 & 0 & 0 \\\\\n",
       "0 & 0 & 0 & 0 & 0 & 0 & 0 & 0 & 0 & 0 & 0 & 1 & 1 & 0 & 0 \\\\\n",
       "0 & 0 & 0 & 0 & 0 & 0 & 0 & 0 & 0 & 0 & 0 & 0 & 0 & 1 & 1 \\\\\n",
       "0 & 0 & 0 & 0 & 0 & 0 & 0 & 0 & 0 & 0 & 0 & 0 & 0 & 1 & 1\n",
       "\\end{array}\\right)</script></html>"
      ],
      "text/plain": [
       "[0 0 0 0 0 0 0 0 1 0 0 0 0 0 0]\n",
       "[0 0 0 0 0 0 0 0 1 0 0 0 0 0 0]\n",
       "[0 0 0 0 0 0 0 1 0 0 0 0 0 0 0]\n",
       "[0 0 0 0 0 0 0 1 0 0 0 0 0 0 0]\n",
       "[0 0 0 0 0 0 1 0 0 0 0 0 0 0 0]\n",
       "[0 0 0 0 0 0 1 0 0 0 0 0 0 0 0]\n",
       "[0 0 0 0 1 1 1 0 0 0 0 0 0 0 0]\n",
       "[0 0 1 1 0 0 0 1 0 0 0 0 0 0 0]\n",
       "[1 1 0 0 0 0 0 0 1 0 0 0 0 0 0]\n",
       "[0 0 0 0 0 0 0 0 0 1 1 0 0 0 0]\n",
       "[0 0 0 0 0 0 0 0 0 1 1 0 0 0 0]\n",
       "[0 0 0 0 0 0 0 0 0 0 0 1 1 0 0]\n",
       "[0 0 0 0 0 0 0 0 0 0 0 1 1 0 0]\n",
       "[0 0 0 0 0 0 0 0 0 0 0 0 0 1 1]\n",
       "[0 0 0 0 0 0 0 0 0 0 0 0 0 1 1]"
      ]
     },
     "metadata": {},
     "output_type": "display_data"
    },
    {
     "data": {
      "text/html": [
       "<html><script type=\"math/tex; mode=display\">\\newcommand{\\Bold}[1]{\\mathbf{#1}}\\left(\\begin{array}{rrrrrrrrrrrrrrr}\n",
       "0 & 0 & 0 & 0 & 0 & 0 & 0 & 0 & 0 & 1 & 0 & 0 & 0 & 0 & 0 \\\\\n",
       "0 & 0 & 0 & 0 & 0 & 0 & 0 & 0 & 0 & 0 & 1 & 0 & 0 & 0 & 0 \\\\\n",
       "0 & 0 & 0 & 0 & 0 & 0 & 0 & 0 & 0 & 0 & 0 & \\frac{1}{2} & -\\frac{1}{2} & \\frac{1}{2} & \\frac{1}{2} \\\\\n",
       "0 & 0 & 0 & 0 & 0 & 0 & 0 & 0 & 0 & 0 & 0 & -\\frac{1}{2} & \\frac{1}{2} & \\frac{1}{2} & \\frac{1}{2} \\\\\n",
       "0 & 0 & 0 & 0 & 0 & 0 & 0 & 0 & 0 & 0 & 0 & \\frac{1}{2} & \\frac{1}{2} & \\frac{1}{2} & -\\frac{1}{2} \\\\\n",
       "0 & 0 & 0 & 0 & 0 & 0 & 0 & 0 & 0 & 0 & 0 & \\frac{1}{2} & \\frac{1}{2} & -\\frac{1}{2} & \\frac{1}{2} \\\\\n",
       "0 & 0 & 0 & 0 & 0 & 0 & 0 & 0 & 0 & 0 & 0 & 1 & 1 & 0 & 0 \\\\\n",
       "0 & 0 & 0 & 0 & 0 & 0 & 0 & 0 & 0 & 0 & 0 & 0 & 0 & 1 & 1 \\\\\n",
       "0 & 0 & 0 & 0 & 0 & 0 & 0 & 0 & 0 & 1 & 1 & 0 & 0 & 0 & 0 \\\\\n",
       "1 & 0 & 0 & 0 & 0 & 0 & 0 & 0 & 1 & 0 & 0 & 0 & 0 & 0 & 0 \\\\\n",
       "0 & 1 & 0 & 0 & 0 & 0 & 0 & 0 & 1 & 0 & 0 & 0 & 0 & 0 & 0 \\\\\n",
       "0 & 0 & \\frac{1}{2} & -\\frac{1}{2} & \\frac{1}{2} & \\frac{1}{2} & 1 & 0 & 0 & 0 & 0 & 0 & 0 & 0 & 0 \\\\\n",
       "0 & 0 & -\\frac{1}{2} & \\frac{1}{2} & \\frac{1}{2} & \\frac{1}{2} & 1 & 0 & 0 & 0 & 0 & 0 & 0 & 0 & 0 \\\\\n",
       "0 & 0 & \\frac{1}{2} & \\frac{1}{2} & \\frac{1}{2} & -\\frac{1}{2} & 0 & 1 & 0 & 0 & 0 & 0 & 0 & 0 & 0 \\\\\n",
       "0 & 0 & \\frac{1}{2} & \\frac{1}{2} & -\\frac{1}{2} & \\frac{1}{2} & 0 & 1 & 0 & 0 & 0 & 0 & 0 & 0 & 0\n",
       "\\end{array}\\right)</script></html>"
      ],
      "text/plain": [
       "[   0    0    0    0    0    0    0    0    0    1    0    0    0    0    0]\n",
       "[   0    0    0    0    0    0    0    0    0    0    1    0    0    0    0]\n",
       "[   0    0    0    0    0    0    0    0    0    0    0  1/2 -1/2  1/2  1/2]\n",
       "[   0    0    0    0    0    0    0    0    0    0    0 -1/2  1/2  1/2  1/2]\n",
       "[   0    0    0    0    0    0    0    0    0    0    0  1/2  1/2  1/2 -1/2]\n",
       "[   0    0    0    0    0    0    0    0    0    0    0  1/2  1/2 -1/2  1/2]\n",
       "[   0    0    0    0    0    0    0    0    0    0    0    1    1    0    0]\n",
       "[   0    0    0    0    0    0    0    0    0    0    0    0    0    1    1]\n",
       "[   0    0    0    0    0    0    0    0    0    1    1    0    0    0    0]\n",
       "[   1    0    0    0    0    0    0    0    1    0    0    0    0    0    0]\n",
       "[   0    1    0    0    0    0    0    0    1    0    0    0    0    0    0]\n",
       "[   0    0  1/2 -1/2  1/2  1/2    1    0    0    0    0    0    0    0    0]\n",
       "[   0    0 -1/2  1/2  1/2  1/2    1    0    0    0    0    0    0    0    0]\n",
       "[   0    0  1/2  1/2  1/2 -1/2    0    1    0    0    0    0    0    0    0]\n",
       "[   0    0  1/2  1/2 -1/2  1/2    0    1    0    0    0    0    0    0    0]"
      ]
     },
     "metadata": {},
     "output_type": "display_data"
    },
    {
     "data": {
      "text/html": [
       "<html><script type=\"math/tex; mode=display\">\\newcommand{\\Bold}[1]{\\mathbf{#1}}\\left(\\begin{array}{rrrrrrrrrrrrrrr}\n",
       "0 & 0 & 0 & 0 & 0 & 0 & 0 & 0 & 0 & 0 & 1 & 0 & 0 & 0 & 0 \\\\\n",
       "0 & 0 & 0 & 0 & 0 & 0 & 0 & 0 & 0 & 1 & 0 & 0 & 0 & 0 & 0 \\\\\n",
       "0 & 0 & 0 & 0 & 0 & 0 & 0 & 0 & 0 & 0 & 0 & -\\frac{1}{2} & \\frac{1}{2} & \\frac{1}{2} & \\frac{1}{2} \\\\\n",
       "0 & 0 & 0 & 0 & 0 & 0 & 0 & 0 & 0 & 0 & 0 & \\frac{1}{2} & -\\frac{1}{2} & \\frac{1}{2} & \\frac{1}{2} \\\\\n",
       "0 & 0 & 0 & 0 & 0 & 0 & 0 & 0 & 0 & 0 & 0 & \\frac{1}{2} & \\frac{1}{2} & -\\frac{1}{2} & \\frac{1}{2} \\\\\n",
       "0 & 0 & 0 & 0 & 0 & 0 & 0 & 0 & 0 & 0 & 0 & \\frac{1}{2} & \\frac{1}{2} & \\frac{1}{2} & -\\frac{1}{2} \\\\\n",
       "0 & 0 & 0 & 0 & 0 & 0 & 0 & 0 & 0 & 0 & 0 & 1 & 1 & 0 & 0 \\\\\n",
       "0 & 0 & 0 & 0 & 0 & 0 & 0 & 0 & 0 & 0 & 0 & 0 & 0 & 1 & 1 \\\\\n",
       "0 & 0 & 0 & 0 & 0 & 0 & 0 & 0 & 0 & 1 & 1 & 0 & 0 & 0 & 0 \\\\\n",
       "0 & 1 & 0 & 0 & 0 & 0 & 0 & 0 & 1 & 0 & 0 & 0 & 0 & 0 & 0 \\\\\n",
       "1 & 0 & 0 & 0 & 0 & 0 & 0 & 0 & 1 & 0 & 0 & 0 & 0 & 0 & 0 \\\\\n",
       "0 & 0 & -\\frac{1}{2} & \\frac{1}{2} & \\frac{1}{2} & \\frac{1}{2} & 1 & 0 & 0 & 0 & 0 & 0 & 0 & 0 & 0 \\\\\n",
       "0 & 0 & \\frac{1}{2} & -\\frac{1}{2} & \\frac{1}{2} & \\frac{1}{2} & 1 & 0 & 0 & 0 & 0 & 0 & 0 & 0 & 0 \\\\\n",
       "0 & 0 & \\frac{1}{2} & \\frac{1}{2} & -\\frac{1}{2} & \\frac{1}{2} & 0 & 1 & 0 & 0 & 0 & 0 & 0 & 0 & 0 \\\\\n",
       "0 & 0 & \\frac{1}{2} & \\frac{1}{2} & \\frac{1}{2} & -\\frac{1}{2} & 0 & 1 & 0 & 0 & 0 & 0 & 0 & 0 & 0\n",
       "\\end{array}\\right)</script></html>"
      ],
      "text/plain": [
       "[   0    0    0    0    0    0    0    0    0    0    1    0    0    0    0]\n",
       "[   0    0    0    0    0    0    0    0    0    1    0    0    0    0    0]\n",
       "[   0    0    0    0    0    0    0    0    0    0    0 -1/2  1/2  1/2  1/2]\n",
       "[   0    0    0    0    0    0    0    0    0    0    0  1/2 -1/2  1/2  1/2]\n",
       "[   0    0    0    0    0    0    0    0    0    0    0  1/2  1/2 -1/2  1/2]\n",
       "[   0    0    0    0    0    0    0    0    0    0    0  1/2  1/2  1/2 -1/2]\n",
       "[   0    0    0    0    0    0    0    0    0    0    0    1    1    0    0]\n",
       "[   0    0    0    0    0    0    0    0    0    0    0    0    0    1    1]\n",
       "[   0    0    0    0    0    0    0    0    0    1    1    0    0    0    0]\n",
       "[   0    1    0    0    0    0    0    0    1    0    0    0    0    0    0]\n",
       "[   1    0    0    0    0    0    0    0    1    0    0    0    0    0    0]\n",
       "[   0    0 -1/2  1/2  1/2  1/2    1    0    0    0    0    0    0    0    0]\n",
       "[   0    0  1/2 -1/2  1/2  1/2    1    0    0    0    0    0    0    0    0]\n",
       "[   0    0  1/2  1/2 -1/2  1/2    0    1    0    0    0    0    0    0    0]\n",
       "[   0    0  1/2  1/2  1/2 -1/2    0    1    0    0    0    0    0    0    0]"
      ]
     },
     "metadata": {},
     "output_type": "display_data"
    },
    {
     "data": {
      "text/html": [
       "<html><script type=\"math/tex; mode=display\">\\newcommand{\\Bold}[1]{\\mathbf{#1}}\\left(\\begin{array}{rrrrrrrrrrrrrrr}\n",
       "0 & 0 & 0 & 0 & 0 & 0 & 0 & 0 & 0 & 0 & 0 & 1 & 0 & 0 & 0 \\\\\n",
       "0 & 0 & 0 & 0 & 0 & 0 & 0 & 0 & 0 & 0 & 0 & 0 & 1 & 0 & 0 \\\\\n",
       "0 & 0 & 0 & 0 & 0 & 0 & 0 & 0 & 0 & \\frac{1}{2} & \\frac{1}{2} & 0 & 0 & \\frac{1}{2} & -\\frac{1}{2} \\\\\n",
       "0 & 0 & 0 & 0 & 0 & 0 & 0 & 0 & 0 & \\frac{1}{2} & \\frac{1}{2} & 0 & 0 & -\\frac{1}{2} & \\frac{1}{2} \\\\\n",
       "0 & 0 & 0 & 0 & 0 & 0 & 0 & 0 & 0 & \\frac{1}{2} & -\\frac{1}{2} & 0 & 0 & \\frac{1}{2} & \\frac{1}{2} \\\\\n",
       "0 & 0 & 0 & 0 & 0 & 0 & 0 & 0 & 0 & -\\frac{1}{2} & \\frac{1}{2} & 0 & 0 & \\frac{1}{2} & \\frac{1}{2} \\\\\n",
       "0 & 0 & 0 & 0 & 0 & 0 & 0 & 0 & 0 & 0 & 0 & 0 & 0 & 1 & 1 \\\\\n",
       "0 & 0 & 0 & 0 & 0 & 0 & 0 & 0 & 0 & 1 & 1 & 0 & 0 & 0 & 0 \\\\\n",
       "0 & 0 & 0 & 0 & 0 & 0 & 0 & 0 & 0 & 0 & 0 & 1 & 1 & 0 & 0 \\\\\n",
       "0 & 0 & \\frac{1}{2} & -\\frac{1}{2} & \\frac{1}{2} & \\frac{1}{2} & 1 & 0 & 0 & 0 & 0 & 0 & 0 & 0 & 0 \\\\\n",
       "0 & 0 & -\\frac{1}{2} & \\frac{1}{2} & \\frac{1}{2} & \\frac{1}{2} & 1 & 0 & 0 & 0 & 0 & 0 & 0 & 0 & 0 \\\\\n",
       "0 & 0 & \\frac{1}{2} & \\frac{1}{2} & \\frac{1}{2} & -\\frac{1}{2} & 0 & 1 & 0 & 0 & 0 & 0 & 0 & 0 & 0 \\\\\n",
       "0 & 0 & \\frac{1}{2} & \\frac{1}{2} & -\\frac{1}{2} & \\frac{1}{2} & 0 & 1 & 0 & 0 & 0 & 0 & 0 & 0 & 0 \\\\\n",
       "1 & 0 & 0 & 0 & 0 & 0 & 0 & 0 & 1 & 0 & 0 & 0 & 0 & 0 & 0 \\\\\n",
       "0 & 1 & 0 & 0 & 0 & 0 & 0 & 0 & 1 & 0 & 0 & 0 & 0 & 0 & 0\n",
       "\\end{array}\\right)</script></html>"
      ],
      "text/plain": [
       "[   0    0    0    0    0    0    0    0    0    0    0    1    0    0    0]\n",
       "[   0    0    0    0    0    0    0    0    0    0    0    0    1    0    0]\n",
       "[   0    0    0    0    0    0    0    0    0  1/2  1/2    0    0  1/2 -1/2]\n",
       "[   0    0    0    0    0    0    0    0    0  1/2  1/2    0    0 -1/2  1/2]\n",
       "[   0    0    0    0    0    0    0    0    0  1/2 -1/2    0    0  1/2  1/2]\n",
       "[   0    0    0    0    0    0    0    0    0 -1/2  1/2    0    0  1/2  1/2]\n",
       "[   0    0    0    0    0    0    0    0    0    0    0    0    0    1    1]\n",
       "[   0    0    0    0    0    0    0    0    0    1    1    0    0    0    0]\n",
       "[   0    0    0    0    0    0    0    0    0    0    0    1    1    0    0]\n",
       "[   0    0  1/2 -1/2  1/2  1/2    1    0    0    0    0    0    0    0    0]\n",
       "[   0    0 -1/2  1/2  1/2  1/2    1    0    0    0    0    0    0    0    0]\n",
       "[   0    0  1/2  1/2  1/2 -1/2    0    1    0    0    0    0    0    0    0]\n",
       "[   0    0  1/2  1/2 -1/2  1/2    0    1    0    0    0    0    0    0    0]\n",
       "[   1    0    0    0    0    0    0    0    1    0    0    0    0    0    0]\n",
       "[   0    1    0    0    0    0    0    0    1    0    0    0    0    0    0]"
      ]
     },
     "metadata": {},
     "output_type": "display_data"
    },
    {
     "data": {
      "text/html": [
       "<html><script type=\"math/tex; mode=display\">\\newcommand{\\Bold}[1]{\\mathbf{#1}}\\left(\\begin{array}{rrrrrrrrrrrrrrr}\n",
       "0 & 0 & 0 & 0 & 0 & 0 & 0 & 0 & 0 & 0 & 0 & 0 & 1 & 0 & 0 \\\\\n",
       "0 & 0 & 0 & 0 & 0 & 0 & 0 & 0 & 0 & 0 & 0 & 1 & 0 & 0 & 0 \\\\\n",
       "0 & 0 & 0 & 0 & 0 & 0 & 0 & 0 & 0 & \\frac{1}{2} & \\frac{1}{2} & 0 & 0 & -\\frac{1}{2} & \\frac{1}{2} \\\\\n",
       "0 & 0 & 0 & 0 & 0 & 0 & 0 & 0 & 0 & \\frac{1}{2} & \\frac{1}{2} & 0 & 0 & \\frac{1}{2} & -\\frac{1}{2} \\\\\n",
       "0 & 0 & 0 & 0 & 0 & 0 & 0 & 0 & 0 & -\\frac{1}{2} & \\frac{1}{2} & 0 & 0 & \\frac{1}{2} & \\frac{1}{2} \\\\\n",
       "0 & 0 & 0 & 0 & 0 & 0 & 0 & 0 & 0 & \\frac{1}{2} & -\\frac{1}{2} & 0 & 0 & \\frac{1}{2} & \\frac{1}{2} \\\\\n",
       "0 & 0 & 0 & 0 & 0 & 0 & 0 & 0 & 0 & 0 & 0 & 0 & 0 & 1 & 1 \\\\\n",
       "0 & 0 & 0 & 0 & 0 & 0 & 0 & 0 & 0 & 1 & 1 & 0 & 0 & 0 & 0 \\\\\n",
       "0 & 0 & 0 & 0 & 0 & 0 & 0 & 0 & 0 & 0 & 0 & 1 & 1 & 0 & 0 \\\\\n",
       "0 & 0 & -\\frac{1}{2} & \\frac{1}{2} & \\frac{1}{2} & \\frac{1}{2} & 1 & 0 & 0 & 0 & 0 & 0 & 0 & 0 & 0 \\\\\n",
       "0 & 0 & \\frac{1}{2} & -\\frac{1}{2} & \\frac{1}{2} & \\frac{1}{2} & 1 & 0 & 0 & 0 & 0 & 0 & 0 & 0 & 0 \\\\\n",
       "0 & 0 & \\frac{1}{2} & \\frac{1}{2} & -\\frac{1}{2} & \\frac{1}{2} & 0 & 1 & 0 & 0 & 0 & 0 & 0 & 0 & 0 \\\\\n",
       "0 & 0 & \\frac{1}{2} & \\frac{1}{2} & \\frac{1}{2} & -\\frac{1}{2} & 0 & 1 & 0 & 0 & 0 & 0 & 0 & 0 & 0 \\\\\n",
       "0 & 1 & 0 & 0 & 0 & 0 & 0 & 0 & 1 & 0 & 0 & 0 & 0 & 0 & 0 \\\\\n",
       "1 & 0 & 0 & 0 & 0 & 0 & 0 & 0 & 1 & 0 & 0 & 0 & 0 & 0 & 0\n",
       "\\end{array}\\right)</script></html>"
      ],
      "text/plain": [
       "[   0    0    0    0    0    0    0    0    0    0    0    0    1    0    0]\n",
       "[   0    0    0    0    0    0    0    0    0    0    0    1    0    0    0]\n",
       "[   0    0    0    0    0    0    0    0    0  1/2  1/2    0    0 -1/2  1/2]\n",
       "[   0    0    0    0    0    0    0    0    0  1/2  1/2    0    0  1/2 -1/2]\n",
       "[   0    0    0    0    0    0    0    0    0 -1/2  1/2    0    0  1/2  1/2]\n",
       "[   0    0    0    0    0    0    0    0    0  1/2 -1/2    0    0  1/2  1/2]\n",
       "[   0    0    0    0    0    0    0    0    0    0    0    0    0    1    1]\n",
       "[   0    0    0    0    0    0    0    0    0    1    1    0    0    0    0]\n",
       "[   0    0    0    0    0    0    0    0    0    0    0    1    1    0    0]\n",
       "[   0    0 -1/2  1/2  1/2  1/2    1    0    0    0    0    0    0    0    0]\n",
       "[   0    0  1/2 -1/2  1/2  1/2    1    0    0    0    0    0    0    0    0]\n",
       "[   0    0  1/2  1/2 -1/2  1/2    0    1    0    0    0    0    0    0    0]\n",
       "[   0    0  1/2  1/2  1/2 -1/2    0    1    0    0    0    0    0    0    0]\n",
       "[   0    1    0    0    0    0    0    0    1    0    0    0    0    0    0]\n",
       "[   1    0    0    0    0    0    0    0    1    0    0    0    0    0    0]"
      ]
     },
     "metadata": {},
     "output_type": "display_data"
    },
    {
     "data": {
      "text/html": [
       "<html><script type=\"math/tex; mode=display\">\\newcommand{\\Bold}[1]{\\mathbf{#1}}\\left(\\begin{array}{rrrrrrrrrrrrrrr}\n",
       "0 & 0 & 0 & 0 & 0 & 0 & 0 & 0 & 0 & 0 & 0 & 0 & 0 & 1 & 0 \\\\\n",
       "0 & 0 & 0 & 0 & 0 & 0 & 0 & 0 & 0 & 0 & 0 & 0 & 0 & 0 & 1 \\\\\n",
       "0 & 0 & 0 & 0 & 0 & 0 & 0 & 0 & 0 & \\frac{1}{2} & -\\frac{1}{2} & \\frac{1}{2} & \\frac{1}{2} & 0 & 0 \\\\\n",
       "0 & 0 & 0 & 0 & 0 & 0 & 0 & 0 & 0 & -\\frac{1}{2} & \\frac{1}{2} & \\frac{1}{2} & \\frac{1}{2} & 0 & 0 \\\\\n",
       "0 & 0 & 0 & 0 & 0 & 0 & 0 & 0 & 0 & \\frac{1}{2} & \\frac{1}{2} & \\frac{1}{2} & -\\frac{1}{2} & 0 & 0 \\\\\n",
       "0 & 0 & 0 & 0 & 0 & 0 & 0 & 0 & 0 & \\frac{1}{2} & \\frac{1}{2} & -\\frac{1}{2} & \\frac{1}{2} & 0 & 0 \\\\\n",
       "0 & 0 & 0 & 0 & 0 & 0 & 0 & 0 & 0 & 1 & 1 & 0 & 0 & 0 & 0 \\\\\n",
       "0 & 0 & 0 & 0 & 0 & 0 & 0 & 0 & 0 & 0 & 0 & 1 & 1 & 0 & 0 \\\\\n",
       "0 & 0 & 0 & 0 & 0 & 0 & 0 & 0 & 0 & 0 & 0 & 0 & 0 & 1 & 1 \\\\\n",
       "0 & 0 & \\frac{1}{2} & \\frac{1}{2} & \\frac{1}{2} & -\\frac{1}{2} & 0 & 1 & 0 & 0 & 0 & 0 & 0 & 0 & 0 \\\\\n",
       "0 & 0 & \\frac{1}{2} & \\frac{1}{2} & -\\frac{1}{2} & \\frac{1}{2} & 0 & 1 & 0 & 0 & 0 & 0 & 0 & 0 & 0 \\\\\n",
       "1 & 0 & 0 & 0 & 0 & 0 & 0 & 0 & 1 & 0 & 0 & 0 & 0 & 0 & 0 \\\\\n",
       "0 & 1 & 0 & 0 & 0 & 0 & 0 & 0 & 1 & 0 & 0 & 0 & 0 & 0 & 0 \\\\\n",
       "0 & 0 & \\frac{1}{2} & -\\frac{1}{2} & \\frac{1}{2} & \\frac{1}{2} & 1 & 0 & 0 & 0 & 0 & 0 & 0 & 0 & 0 \\\\\n",
       "0 & 0 & -\\frac{1}{2} & \\frac{1}{2} & \\frac{1}{2} & \\frac{1}{2} & 1 & 0 & 0 & 0 & 0 & 0 & 0 & 0 & 0\n",
       "\\end{array}\\right)</script></html>"
      ],
      "text/plain": [
       "[   0    0    0    0    0    0    0    0    0    0    0    0    0    1    0]\n",
       "[   0    0    0    0    0    0    0    0    0    0    0    0    0    0    1]\n",
       "[   0    0    0    0    0    0    0    0    0  1/2 -1/2  1/2  1/2    0    0]\n",
       "[   0    0    0    0    0    0    0    0    0 -1/2  1/2  1/2  1/2    0    0]\n",
       "[   0    0    0    0    0    0    0    0    0  1/2  1/2  1/2 -1/2    0    0]\n",
       "[   0    0    0    0    0    0    0    0    0  1/2  1/2 -1/2  1/2    0    0]\n",
       "[   0    0    0    0    0    0    0    0    0    1    1    0    0    0    0]\n",
       "[   0    0    0    0    0    0    0    0    0    0    0    1    1    0    0]\n",
       "[   0    0    0    0    0    0    0    0    0    0    0    0    0    1    1]\n",
       "[   0    0  1/2  1/2  1/2 -1/2    0    1    0    0    0    0    0    0    0]\n",
       "[   0    0  1/2  1/2 -1/2  1/2    0    1    0    0    0    0    0    0    0]\n",
       "[   1    0    0    0    0    0    0    0    1    0    0    0    0    0    0]\n",
       "[   0    1    0    0    0    0    0    0    1    0    0    0    0    0    0]\n",
       "[   0    0  1/2 -1/2  1/2  1/2    1    0    0    0    0    0    0    0    0]\n",
       "[   0    0 -1/2  1/2  1/2  1/2    1    0    0    0    0    0    0    0    0]"
      ]
     },
     "metadata": {},
     "output_type": "display_data"
    },
    {
     "data": {
      "text/html": [
       "<html><script type=\"math/tex; mode=display\">\\newcommand{\\Bold}[1]{\\mathbf{#1}}\\left(\\begin{array}{rrrrrrrrrrrrrrr}\n",
       "0 & 0 & 0 & 0 & 0 & 0 & 0 & 0 & 0 & 0 & 0 & 0 & 0 & 0 & 1 \\\\\n",
       "0 & 0 & 0 & 0 & 0 & 0 & 0 & 0 & 0 & 0 & 0 & 0 & 0 & 1 & 0 \\\\\n",
       "0 & 0 & 0 & 0 & 0 & 0 & 0 & 0 & 0 & -\\frac{1}{2} & \\frac{1}{2} & \\frac{1}{2} & \\frac{1}{2} & 0 & 0 \\\\\n",
       "0 & 0 & 0 & 0 & 0 & 0 & 0 & 0 & 0 & \\frac{1}{2} & -\\frac{1}{2} & \\frac{1}{2} & \\frac{1}{2} & 0 & 0 \\\\\n",
       "0 & 0 & 0 & 0 & 0 & 0 & 0 & 0 & 0 & \\frac{1}{2} & \\frac{1}{2} & -\\frac{1}{2} & \\frac{1}{2} & 0 & 0 \\\\\n",
       "0 & 0 & 0 & 0 & 0 & 0 & 0 & 0 & 0 & \\frac{1}{2} & \\frac{1}{2} & \\frac{1}{2} & -\\frac{1}{2} & 0 & 0 \\\\\n",
       "0 & 0 & 0 & 0 & 0 & 0 & 0 & 0 & 0 & 1 & 1 & 0 & 0 & 0 & 0 \\\\\n",
       "0 & 0 & 0 & 0 & 0 & 0 & 0 & 0 & 0 & 0 & 0 & 1 & 1 & 0 & 0 \\\\\n",
       "0 & 0 & 0 & 0 & 0 & 0 & 0 & 0 & 0 & 0 & 0 & 0 & 0 & 1 & 1 \\\\\n",
       "0 & 0 & \\frac{1}{2} & \\frac{1}{2} & -\\frac{1}{2} & \\frac{1}{2} & 0 & 1 & 0 & 0 & 0 & 0 & 0 & 0 & 0 \\\\\n",
       "0 & 0 & \\frac{1}{2} & \\frac{1}{2} & \\frac{1}{2} & -\\frac{1}{2} & 0 & 1 & 0 & 0 & 0 & 0 & 0 & 0 & 0 \\\\\n",
       "0 & 1 & 0 & 0 & 0 & 0 & 0 & 0 & 1 & 0 & 0 & 0 & 0 & 0 & 0 \\\\\n",
       "1 & 0 & 0 & 0 & 0 & 0 & 0 & 0 & 1 & 0 & 0 & 0 & 0 & 0 & 0 \\\\\n",
       "0 & 0 & -\\frac{1}{2} & \\frac{1}{2} & \\frac{1}{2} & \\frac{1}{2} & 1 & 0 & 0 & 0 & 0 & 0 & 0 & 0 & 0 \\\\\n",
       "0 & 0 & \\frac{1}{2} & -\\frac{1}{2} & \\frac{1}{2} & \\frac{1}{2} & 1 & 0 & 0 & 0 & 0 & 0 & 0 & 0 & 0\n",
       "\\end{array}\\right)</script></html>"
      ],
      "text/plain": [
       "[   0    0    0    0    0    0    0    0    0    0    0    0    0    0    1]\n",
       "[   0    0    0    0    0    0    0    0    0    0    0    0    0    1    0]\n",
       "[   0    0    0    0    0    0    0    0    0 -1/2  1/2  1/2  1/2    0    0]\n",
       "[   0    0    0    0    0    0    0    0    0  1/2 -1/2  1/2  1/2    0    0]\n",
       "[   0    0    0    0    0    0    0    0    0  1/2  1/2 -1/2  1/2    0    0]\n",
       "[   0    0    0    0    0    0    0    0    0  1/2  1/2  1/2 -1/2    0    0]\n",
       "[   0    0    0    0    0    0    0    0    0    1    1    0    0    0    0]\n",
       "[   0    0    0    0    0    0    0    0    0    0    0    1    1    0    0]\n",
       "[   0    0    0    0    0    0    0    0    0    0    0    0    0    1    1]\n",
       "[   0    0  1/2  1/2 -1/2  1/2    0    1    0    0    0    0    0    0    0]\n",
       "[   0    0  1/2  1/2  1/2 -1/2    0    1    0    0    0    0    0    0    0]\n",
       "[   0    1    0    0    0    0    0    0    1    0    0    0    0    0    0]\n",
       "[   1    0    0    0    0    0    0    0    1    0    0    0    0    0    0]\n",
       "[   0    0 -1/2  1/2  1/2  1/2    1    0    0    0    0    0    0    0    0]\n",
       "[   0    0  1/2 -1/2  1/2  1/2    1    0    0    0    0    0    0    0    0]"
      ]
     },
     "metadata": {},
     "output_type": "display_data"
    }
   ],
   "source": [
    "ZC_n = 4*n + binomial(n,2)\n",
    "basis = [vector([0]*i + [1] + [0]*(ZC_n-1-i)) for i in range(ZC_n)]\n",
    "conj = [basis.index(C*b) for b in basis]\n",
    "show(conj)\n",
    "fusions = [matrix([[sum([S[i][r]*S[j][r]*S[conj[k]][r]/S[0][r] for r in range(ZC_n)]) for k in range(ZC_n)] for j in range(ZC_n)]) for i in range(ZC_n)]\n",
    "for N in fusions:\n",
    "    show(N)"
   ]
  },
  {
   "cell_type": "code",
   "execution_count": 374,
   "metadata": {},
   "outputs": [
    {
     "data": {
      "text/html": [
       "<html><script type=\"math/tex; mode=display\">\\newcommand{\\Bold}[1]{\\mathbf{#1}}\\left(\\begin{array}{rrrrrrrrrrrrrrr}\n",
       "1 & 0 & 0 & 0 & 0 & 0 & 0 & 0 & 0 & 0 & 0 & 0 & 0 & 0 & 0 \\\\\n",
       "0 & 1 & 0 & 0 & 0 & 0 & 0 & 0 & 0 & 0 & 0 & 0 & 0 & 0 & 0 \\\\\n",
       "0 & 0 & \\frac{1}{2} & \\frac{1}{2} & \\frac{1}{2} & -\\frac{1}{2} & 0 & 0 & 0 & 0 & 0 & 0 & 0 & 0 & 0 \\\\\n",
       "0 & 0 & \\frac{1}{2} & \\frac{1}{2} & -\\frac{1}{2} & \\frac{1}{2} & 0 & 0 & 0 & 0 & 0 & 0 & 0 & 0 & 0 \\\\\n",
       "0 & 0 & \\frac{1}{2} & -\\frac{1}{2} & \\frac{1}{2} & \\frac{1}{2} & 0 & 0 & 0 & 0 & 0 & 0 & 0 & 0 & 0 \\\\\n",
       "0 & 0 & -\\frac{1}{2} & \\frac{1}{2} & \\frac{1}{2} & \\frac{1}{2} & 0 & 0 & 0 & 0 & 0 & 0 & 0 & 0 & 0 \\\\\n",
       "0 & 0 & 0 & 0 & 0 & 0 & 1 & 0 & 0 & 0 & 0 & 0 & 0 & 0 & 0 \\\\\n",
       "0 & 0 & 0 & 0 & 0 & 0 & 0 & 1 & 0 & 0 & 0 & 0 & 0 & 0 & 0 \\\\\n",
       "0 & 0 & 0 & 0 & 0 & 0 & 0 & 0 & 1 & 0 & 0 & 0 & 0 & 0 & 0 \\\\\n",
       "0 & 0 & 0 & 0 & 0 & 0 & 0 & 0 & 0 & 1 & 0 & 0 & 0 & 0 & 0 \\\\\n",
       "0 & 0 & 0 & 0 & 0 & 0 & 0 & 0 & 0 & 0 & 1 & 0 & 0 & 0 & 0 \\\\\n",
       "0 & 0 & 0 & 0 & 0 & 0 & 0 & 0 & 0 & 0 & 0 & 0 & 0 & 1 & 0 \\\\\n",
       "0 & 0 & 0 & 0 & 0 & 0 & 0 & 0 & 0 & 0 & 0 & 0 & 0 & 0 & 1 \\\\\n",
       "0 & 0 & 0 & 0 & 0 & 0 & 0 & 0 & 0 & 0 & 0 & 1 & 0 & 0 & 0 \\\\\n",
       "0 & 0 & 0 & 0 & 0 & 0 & 0 & 0 & 0 & 0 & 0 & 0 & 1 & 0 & 0\n",
       "\\end{array}\\right)</script></html>"
      ],
      "text/plain": [
       "[   1    0    0    0    0    0    0    0    0    0    0    0    0    0    0]\n",
       "[   0    1    0    0    0    0    0    0    0    0    0    0    0    0    0]\n",
       "[   0    0  1/2  1/2  1/2 -1/2    0    0    0    0    0    0    0    0    0]\n",
       "[   0    0  1/2  1/2 -1/2  1/2    0    0    0    0    0    0    0    0    0]\n",
       "[   0    0  1/2 -1/2  1/2  1/2    0    0    0    0    0    0    0    0    0]\n",
       "[   0    0 -1/2  1/2  1/2  1/2    0    0    0    0    0    0    0    0    0]\n",
       "[   0    0    0    0    0    0    1    0    0    0    0    0    0    0    0]\n",
       "[   0    0    0    0    0    0    0    1    0    0    0    0    0    0    0]\n",
       "[   0    0    0    0    0    0    0    0    1    0    0    0    0    0    0]\n",
       "[   0    0    0    0    0    0    0    0    0    1    0    0    0    0    0]\n",
       "[   0    0    0    0    0    0    0    0    0    0    1    0    0    0    0]\n",
       "[   0    0    0    0    0    0    0    0    0    0    0    0    0    1    0]\n",
       "[   0    0    0    0    0    0    0    0    0    0    0    0    0    0    1]\n",
       "[   0    0    0    0    0    0    0    0    0    0    0    1    0    0    0]\n",
       "[   0    0    0    0    0    0    0    0    0    0    0    0    1    0    0]"
      ]
     },
     "metadata": {},
     "output_type": "display_data"
    }
   ],
   "source": [
    "show((S*T^(-1))^3)"
   ]
  },
  {
   "cell_type": "code",
   "execution_count": 40,
   "metadata": {},
   "outputs": [
    {
     "data": {
      "text/html": [
       "<html><script type=\"math/tex; mode=display\">\\newcommand{\\Bold}[1]{\\mathbf{#1}}\\left[\\frac{\\ZZ}{3\\ZZ} \\oplus \\frac{\\ZZ}{3\\ZZ}, \\left[\\left(3, 1, 2, 1\\right)\\right], \\left(\\begin{array}{rr}\n",
       "8 & 0 \\\\\n",
       "0 & 8\n",
       "\\end{array}\\right), \\zeta_{12}, 1\\right]</script></html>"
      ],
      "text/plain": [
       "[\n",
       "                                                                [8 0]\n",
       "Additive abelian group isomorphic to Z/3 + Z/3, [(3, 1, 2, 1)], [0 8],\n",
       "\n",
       "zeta12, 1\n",
       "]"
      ]
     },
     "metadata": {},
     "output_type": "display_data"
    }
   ],
   "source": [
    "ind = 42\n",
    "#Pick one of the TB Category input datas\n",
    "show(TB_data[ind])\n",
    "G, met, Q, z, sgn_tau = TB_data[ind]\n",
    "n = G.order()\n",
    "n3 = z.multiplicative_order()\n",
    "sqrt_n = 1\n",
    "for fac in factor(n.squarefree_part()):\n",
    "    if fac[0] == 2:\n",
    "        sqrt_n = z^(n3/8) + z^(7*n3/8)\n",
    "    else:\n",
    "        p = fac[0]\n",
    "        sqrt_n = sqrt_n * (1-z^(n3/4))/(1-z^(n3/4*legendre_symbol(-1,p))) * sum([legendre_symbol(i,p)*z^(n3*i/p) for i in range(p)])\n",
    "sqrt_n = sqrt_n * sqrt(n/n.squarefree_part())\n",
    "tau = sgn_tau * sqrt_n/n\n",
    "#GNN gauss\n",
    "#gauss = sqrt_n*sum([rho(g, Q) for g in G])/n\n",
    "#RTJ gauss\n",
    "gauss = sqrt_n*sum([rho(g, Q)^(-1) for g in G])/n"
   ]
  },
  {
   "cell_type": "code",
   "execution_count": 41,
   "metadata": {},
   "outputs": [
    {
     "name": "stdout",
     "output_type": "stream",
     "text": [
      "[(1, 0), (2, 1), (0, 0), (1, 2), (2, 0), (0, 2), (2, 2), (0, 1), (1, 1)]\n",
      "[]\n",
      "[(0, 0)]\n"
     ]
    }
   ],
   "source": [
    "H = list(Set([2*g for g in G]))\n",
    "print H\n",
    "quotient_gens = [g for g in G.gens() if g not in H]\n",
    "print quotient_gens\n",
    "coset_reps = [G.zero()] + [sum(K) for K in Set(quotient_gens).subsets()][1:]\n",
    "print coset_reps\n",
    "G_list = [c + h for c in coset_reps for h in H]"
   ]
  },
  {
   "cell_type": "code",
   "execution_count": 42,
   "metadata": {},
   "outputs": [
    {
     "data": {
      "text/html": [
       "<html><script type=\"math/tex; mode=display\">\\newcommand{\\Bold}[1]{\\mathbf{#1}}\\left[-\\zeta_{12}^{3}, \\zeta_{12}, \\zeta_{12}, \\zeta_{12}, \\zeta_{12}^{3} - \\zeta_{12}, \\zeta_{12}^{3} - \\zeta_{12}, \\zeta_{12}, \\zeta_{12}^{3} - \\zeta_{12}, \\zeta_{12}^{3} - \\zeta_{12}\\right]</script></html>"
      ],
      "text/plain": [
       "[-zeta12^3,\n",
       " zeta12,\n",
       " zeta12,\n",
       " zeta12,\n",
       " zeta12^3 - zeta12,\n",
       " zeta12^3 - zeta12,\n",
       " zeta12,\n",
       " zeta12^3 - zeta12,\n",
       " zeta12^3 - zeta12]"
      ]
     },
     "metadata": {},
     "output_type": "display_data"
    },
    {
     "data": {
      "text/html": [
       "<html><script type=\"math/tex; mode=display\">\\newcommand{\\Bold}[1]{\\mathbf{#1}}\\left[\\verb|(0,|\\phantom{\\verb!x!}\\verb|0)|\\right]</script></html>"
      ],
      "text/plain": [
       "[(0, 0)]"
      ]
     },
     "metadata": {},
     "output_type": "display_data"
    },
    {
     "data": {
      "text/html": [
       "<html><script type=\"math/tex; mode=display\">\\newcommand{\\Bold}[1]{\\mathbf{#1}}\\left[\\verb|(0,|\\phantom{\\verb!x!}\\verb|0)|, \\verb|(1,|\\phantom{\\verb!x!}\\verb|0)|, \\verb|(2,|\\phantom{\\verb!x!}\\verb|0)|, \\verb|(0,|\\phantom{\\verb!x!}\\verb|1)|, \\verb|(1,|\\phantom{\\verb!x!}\\verb|1)|, \\verb|(2,|\\phantom{\\verb!x!}\\verb|1)|, \\verb|(0,|\\phantom{\\verb!x!}\\verb|2)|, \\verb|(1,|\\phantom{\\verb!x!}\\verb|2)|, \\verb|(2,|\\phantom{\\verb!x!}\\verb|2)|\\right]</script></html>"
      ],
      "text/plain": [
       "[(0, 0), (1, 0), (2, 0), (0, 1), (1, 1), (2, 1), (0, 2), (1, 2), (2, 2)]"
      ]
     },
     "metadata": {},
     "output_type": "display_data"
    },
    {
     "data": {
      "text/html": [
       "<html><script type=\"math/tex; mode=display\">\\newcommand{\\Bold}[1]{\\mathbf{#1}}\\left[\\verb|(0,|\\phantom{\\verb!x!}\\verb|0)|, \\verb|(1,|\\phantom{\\verb!x!}\\verb|0)|, \\verb|(2,|\\phantom{\\verb!x!}\\verb|0)|, \\verb|(0,|\\phantom{\\verb!x!}\\verb|1)|, \\verb|(1,|\\phantom{\\verb!x!}\\verb|1)|, \\verb|(2,|\\phantom{\\verb!x!}\\verb|1)|, \\verb|(0,|\\phantom{\\verb!x!}\\verb|2)|, \\verb|(1,|\\phantom{\\verb!x!}\\verb|2)|, \\verb|(2,|\\phantom{\\verb!x!}\\verb|2)|\\right]</script></html>"
      ],
      "text/plain": [
       "[(0, 0), (1, 0), (2, 0), (0, 1), (1, 1), (2, 1), (0, 2), (1, 2), (2, 2)]"
      ]
     },
     "metadata": {},
     "output_type": "display_data"
    }
   ],
   "source": [
    "H = list(Set([2*g for g in G]))\n",
    "H.sort()\n",
    "quotient_gens = [g for g in G.gens() if g not in H]\n",
    "coset_reps = [G.zero()] + [sum(K) for K in Set(quotient_gens).subsets()][1:]\n",
    "#List elements of G such that they are grouped by cosets of {2g for g in G}\n",
    "G_list = [c + h for c in coset_reps for h in H]\n",
    "G_halves = zip(*[[g,2*g] for g in G_list])\n",
    "c_n = len(coset_reps)\n",
    "#Building the Deltas with correct +/- is tricky.  First, define them for the coset reps of G / {2g for g in G}\n",
    "#GNN Deltas\n",
    "#Delta_for_cos_reps = [(sgn_tau*rho(c, Q)^(-1)*gauss).nth_root(2) for c in coset_reps]\n",
    "#RTJ Deltas\n",
    "Delta_for_cos_reps = [(sgn_tau*rho(c, Q)*gauss).nth_root(2)^(-1) for c in coset_reps]\n",
    "#Then Delta_{2a+c} = Delta_c * chi(-a,a+c) where 2a in H.\n",
    "Delta = []\n",
    "for i in range(c_n):\n",
    "    D = Delta_for_cos_reps[i]\n",
    "    c = coset_reps[i]\n",
    "    for h in H:\n",
    "        #Need to divide h by 2, but Sage does not allow this in Z-modules.\n",
    "        a = G_halves[0][G_halves[1].index(h)]\n",
    "        Delta.append(D*chi(a,a+c,Q))\n",
    "show(Delta)\n",
    "show(coset_reps)\n",
    "show(H)\n",
    "show(G_list)"
   ]
  },
  {
   "cell_type": "code",
   "execution_count": 43,
   "metadata": {},
   "outputs": [
    {
     "data": {
      "text/html": [
       "<html><script type=\"math/tex; mode=display\">\\newcommand{\\Bold}[1]{\\mathbf{#1}}\\left(\\begin{array}{rrrrrrrrr}\n",
       "1 & 1 & 1 & 1 & 1 & 1 & 1 & 1 & 1 \\\\\n",
       "1 & 1 & 1 & 1 & 1 & 1 & 1 & 1 & 1 \\\\\n",
       "1 & 1 & 1 & 1 & 1 & 1 & 1 & 1 & 1 \\\\\n",
       "1 & 1 & 1 & 1 & 1 & 1 & 1 & 1 & 1 \\\\\n",
       "1 & 1 & 1 & 1 & 1 & 1 & 1 & 1 & 1 \\\\\n",
       "1 & 1 & 1 & 1 & 1 & 1 & 1 & 1 & 1 \\\\\n",
       "1 & 1 & 1 & 1 & 1 & 1 & 1 & 1 & 1 \\\\\n",
       "1 & 1 & 1 & 1 & 1 & 1 & 1 & 1 & 1 \\\\\n",
       "1 & 1 & 1 & 1 & 1 & 1 & 1 & 1 & 1\n",
       "\\end{array}\\right)</script></html>"
      ],
      "text/plain": [
       "[1 1 1 1 1 1 1 1 1]\n",
       "[1 1 1 1 1 1 1 1 1]\n",
       "[1 1 1 1 1 1 1 1 1]\n",
       "[1 1 1 1 1 1 1 1 1]\n",
       "[1 1 1 1 1 1 1 1 1]\n",
       "[1 1 1 1 1 1 1 1 1]\n",
       "[1 1 1 1 1 1 1 1 1]\n",
       "[1 1 1 1 1 1 1 1 1]\n",
       "[1 1 1 1 1 1 1 1 1]"
      ]
     },
     "metadata": {},
     "output_type": "display_data"
    }
   ],
   "source": [
    "def XZ_negation_fix(a,b, Q1, G_list1, Delta1):\n",
    "    j = G_list1.index(b)\n",
    "    k = G_list1.index(2*a+b)\n",
    "    return chi(-a,b+a,Q1)*Delta1[k]/Delta1[j]\n",
    "\n",
    "correction = []\n",
    "for a in G_list:\n",
    "    correction.append([])\n",
    "    for b in G_list:\n",
    "        correction[-1:][0].append(XZ_negation_fix(a,b, Q, G_list, Delta))\n",
    "show(matrix(correction))"
   ]
  },
  {
   "cell_type": "code",
   "execution_count": 44,
   "metadata": {},
   "outputs": [
    {
     "data": {
      "text/html": [
       "<html><script type=\"math/tex; mode=display\">\\newcommand{\\Bold}[1]{\\mathbf{#1}}\\left(\\begin{array}{rrrrrrrrrrrrrrrrrr}\n",
       "3 & 3 & 3 & 3 & 3 & 3 & 3 & 3 & 3 & 3 & 3 & 3 & 3 & 3 & 3 & 3 & 3 & 3 \\\\\n",
       "-3 & -3 & -3 & -3 & -3 & -3 & -3 & -3 & -3 & -3 & -3 & -3 & -3 & -3 & -3 & -3 & -3 & -3 \\\\\n",
       "3 & 3 & 3 \\zeta_{12}^{2} - 3 & 3 \\zeta_{12}^{2} - 3 & -3 \\zeta_{12}^{2} & -3 \\zeta_{12}^{2} & 3 & 3 & 3 \\zeta_{12}^{2} - 3 & 3 \\zeta_{12}^{2} - 3 & -3 \\zeta_{12}^{2} & -3 \\zeta_{12}^{2} & 3 & 3 & 3 \\zeta_{12}^{2} - 3 & 3 \\zeta_{12}^{2} - 3 & -3 \\zeta_{12}^{2} & -3 \\zeta_{12}^{2} \\\\\n",
       "-3 & -3 & -3 \\zeta_{12}^{2} + 3 & -3 \\zeta_{12}^{2} + 3 & 3 \\zeta_{12}^{2} & 3 \\zeta_{12}^{2} & -3 & -3 & -3 \\zeta_{12}^{2} + 3 & -3 \\zeta_{12}^{2} + 3 & 3 \\zeta_{12}^{2} & 3 \\zeta_{12}^{2} & -3 & -3 & -3 \\zeta_{12}^{2} + 3 & -3 \\zeta_{12}^{2} + 3 & 3 \\zeta_{12}^{2} & 3 \\zeta_{12}^{2} \\\\\n",
       "3 & 3 & -3 \\zeta_{12}^{2} & -3 \\zeta_{12}^{2} & 3 \\zeta_{12}^{2} - 3 & 3 \\zeta_{12}^{2} - 3 & 3 & 3 & -3 \\zeta_{12}^{2} & -3 \\zeta_{12}^{2} & 3 \\zeta_{12}^{2} - 3 & 3 \\zeta_{12}^{2} - 3 & 3 & 3 & -3 \\zeta_{12}^{2} & -3 \\zeta_{12}^{2} & 3 \\zeta_{12}^{2} - 3 & 3 \\zeta_{12}^{2} - 3 \\\\\n",
       "-3 & -3 & 3 \\zeta_{12}^{2} & 3 \\zeta_{12}^{2} & -3 \\zeta_{12}^{2} + 3 & -3 \\zeta_{12}^{2} + 3 & -3 & -3 & 3 \\zeta_{12}^{2} & 3 \\zeta_{12}^{2} & -3 \\zeta_{12}^{2} + 3 & -3 \\zeta_{12}^{2} + 3 & -3 & -3 & 3 \\zeta_{12}^{2} & 3 \\zeta_{12}^{2} & -3 \\zeta_{12}^{2} + 3 & -3 \\zeta_{12}^{2} + 3 \\\\\n",
       "3 & 3 & 3 & 3 & 3 & 3 & 3 \\zeta_{12}^{2} - 3 & 3 \\zeta_{12}^{2} - 3 & 3 \\zeta_{12}^{2} - 3 & 3 \\zeta_{12}^{2} - 3 & 3 \\zeta_{12}^{2} - 3 & 3 \\zeta_{12}^{2} - 3 & -3 \\zeta_{12}^{2} & -3 \\zeta_{12}^{2} & -3 \\zeta_{12}^{2} & -3 \\zeta_{12}^{2} & -3 \\zeta_{12}^{2} & -3 \\zeta_{12}^{2} \\\\\n",
       "-3 & -3 & -3 & -3 & -3 & -3 & -3 \\zeta_{12}^{2} + 3 & -3 \\zeta_{12}^{2} + 3 & -3 \\zeta_{12}^{2} + 3 & -3 \\zeta_{12}^{2} + 3 & -3 \\zeta_{12}^{2} + 3 & -3 \\zeta_{12}^{2} + 3 & 3 \\zeta_{12}^{2} & 3 \\zeta_{12}^{2} & 3 \\zeta_{12}^{2} & 3 \\zeta_{12}^{2} & 3 \\zeta_{12}^{2} & 3 \\zeta_{12}^{2} \\\\\n",
       "3 & 3 & 3 \\zeta_{12}^{2} - 3 & 3 \\zeta_{12}^{2} - 3 & -3 \\zeta_{12}^{2} & -3 \\zeta_{12}^{2} & 3 \\zeta_{12}^{2} - 3 & 3 \\zeta_{12}^{2} - 3 & -3 \\zeta_{12}^{2} & -3 \\zeta_{12}^{2} & 3 & 3 & -3 \\zeta_{12}^{2} & -3 \\zeta_{12}^{2} & 3 & 3 & 3 \\zeta_{12}^{2} - 3 & 3 \\zeta_{12}^{2} - 3 \\\\\n",
       "-3 & -3 & -3 \\zeta_{12}^{2} + 3 & -3 \\zeta_{12}^{2} + 3 & 3 \\zeta_{12}^{2} & 3 \\zeta_{12}^{2} & -3 \\zeta_{12}^{2} + 3 & -3 \\zeta_{12}^{2} + 3 & 3 \\zeta_{12}^{2} & 3 \\zeta_{12}^{2} & -3 & -3 & 3 \\zeta_{12}^{2} & 3 \\zeta_{12}^{2} & -3 & -3 & -3 \\zeta_{12}^{2} + 3 & -3 \\zeta_{12}^{2} + 3 \\\\\n",
       "3 & 3 & -3 \\zeta_{12}^{2} & -3 \\zeta_{12}^{2} & 3 \\zeta_{12}^{2} - 3 & 3 \\zeta_{12}^{2} - 3 & 3 \\zeta_{12}^{2} - 3 & 3 \\zeta_{12}^{2} - 3 & 3 & 3 & -3 \\zeta_{12}^{2} & -3 \\zeta_{12}^{2} & -3 \\zeta_{12}^{2} & -3 \\zeta_{12}^{2} & 3 \\zeta_{12}^{2} - 3 & 3 \\zeta_{12}^{2} - 3 & 3 & 3 \\\\\n",
       "-3 & -3 & 3 \\zeta_{12}^{2} & 3 \\zeta_{12}^{2} & -3 \\zeta_{12}^{2} + 3 & -3 \\zeta_{12}^{2} + 3 & -3 \\zeta_{12}^{2} + 3 & -3 \\zeta_{12}^{2} + 3 & -3 & -3 & 3 \\zeta_{12}^{2} & 3 \\zeta_{12}^{2} & 3 \\zeta_{12}^{2} & 3 \\zeta_{12}^{2} & -3 \\zeta_{12}^{2} + 3 & -3 \\zeta_{12}^{2} + 3 & -3 & -3 \\\\\n",
       "3 & 3 & 3 & 3 & 3 & 3 & -3 \\zeta_{12}^{2} & -3 \\zeta_{12}^{2} & -3 \\zeta_{12}^{2} & -3 \\zeta_{12}^{2} & -3 \\zeta_{12}^{2} & -3 \\zeta_{12}^{2} & 3 \\zeta_{12}^{2} - 3 & 3 \\zeta_{12}^{2} - 3 & 3 \\zeta_{12}^{2} - 3 & 3 \\zeta_{12}^{2} - 3 & 3 \\zeta_{12}^{2} - 3 & 3 \\zeta_{12}^{2} - 3 \\\\\n",
       "-3 & -3 & -3 & -3 & -3 & -3 & 3 \\zeta_{12}^{2} & 3 \\zeta_{12}^{2} & 3 \\zeta_{12}^{2} & 3 \\zeta_{12}^{2} & 3 \\zeta_{12}^{2} & 3 \\zeta_{12}^{2} & -3 \\zeta_{12}^{2} + 3 & -3 \\zeta_{12}^{2} + 3 & -3 \\zeta_{12}^{2} + 3 & -3 \\zeta_{12}^{2} + 3 & -3 \\zeta_{12}^{2} + 3 & -3 \\zeta_{12}^{2} + 3 \\\\\n",
       "3 & 3 & 3 \\zeta_{12}^{2} - 3 & 3 \\zeta_{12}^{2} - 3 & -3 \\zeta_{12}^{2} & -3 \\zeta_{12}^{2} & -3 \\zeta_{12}^{2} & -3 \\zeta_{12}^{2} & 3 & 3 & 3 \\zeta_{12}^{2} - 3 & 3 \\zeta_{12}^{2} - 3 & 3 \\zeta_{12}^{2} - 3 & 3 \\zeta_{12}^{2} - 3 & -3 \\zeta_{12}^{2} & -3 \\zeta_{12}^{2} & 3 & 3 \\\\\n",
       "-3 & -3 & -3 \\zeta_{12}^{2} + 3 & -3 \\zeta_{12}^{2} + 3 & 3 \\zeta_{12}^{2} & 3 \\zeta_{12}^{2} & 3 \\zeta_{12}^{2} & 3 \\zeta_{12}^{2} & -3 & -3 & -3 \\zeta_{12}^{2} + 3 & -3 \\zeta_{12}^{2} + 3 & -3 \\zeta_{12}^{2} + 3 & -3 \\zeta_{12}^{2} + 3 & 3 \\zeta_{12}^{2} & 3 \\zeta_{12}^{2} & -3 & -3 \\\\\n",
       "3 & 3 & -3 \\zeta_{12}^{2} & -3 \\zeta_{12}^{2} & 3 \\zeta_{12}^{2} - 3 & 3 \\zeta_{12}^{2} - 3 & -3 \\zeta_{12}^{2} & -3 \\zeta_{12}^{2} & 3 \\zeta_{12}^{2} - 3 & 3 \\zeta_{12}^{2} - 3 & 3 & 3 & 3 \\zeta_{12}^{2} - 3 & 3 \\zeta_{12}^{2} - 3 & 3 & 3 & -3 \\zeta_{12}^{2} & -3 \\zeta_{12}^{2} \\\\\n",
       "-3 & -3 & 3 \\zeta_{12}^{2} & 3 \\zeta_{12}^{2} & -3 \\zeta_{12}^{2} + 3 & -3 \\zeta_{12}^{2} + 3 & 3 \\zeta_{12}^{2} & 3 \\zeta_{12}^{2} & -3 \\zeta_{12}^{2} + 3 & -3 \\zeta_{12}^{2} + 3 & -3 & -3 & -3 \\zeta_{12}^{2} + 3 & -3 \\zeta_{12}^{2} + 3 & -3 & -3 & 3 \\zeta_{12}^{2} & 3 \\zeta_{12}^{2}\n",
       "\\end{array}\\right)</script></html>"
      ],
      "text/plain": [
       "[              3               3               3               3               3               3               3               3               3               3               3               3               3               3               3               3               3               3]\n",
       "[             -3              -3              -3              -3              -3              -3              -3              -3              -3              -3              -3              -3              -3              -3              -3              -3              -3              -3]\n",
       "[              3               3  3*zeta12^2 - 3  3*zeta12^2 - 3     -3*zeta12^2     -3*zeta12^2               3               3  3*zeta12^2 - 3  3*zeta12^2 - 3     -3*zeta12^2     -3*zeta12^2               3               3  3*zeta12^2 - 3  3*zeta12^2 - 3     -3*zeta12^2     -3*zeta12^2]\n",
       "[             -3              -3 -3*zeta12^2 + 3 -3*zeta12^2 + 3      3*zeta12^2      3*zeta12^2              -3              -3 -3*zeta12^2 + 3 -3*zeta12^2 + 3      3*zeta12^2      3*zeta12^2              -3              -3 -3*zeta12^2 + 3 -3*zeta12^2 + 3      3*zeta12^2      3*zeta12^2]\n",
       "[              3               3     -3*zeta12^2     -3*zeta12^2  3*zeta12^2 - 3  3*zeta12^2 - 3               3               3     -3*zeta12^2     -3*zeta12^2  3*zeta12^2 - 3  3*zeta12^2 - 3               3               3     -3*zeta12^2     -3*zeta12^2  3*zeta12^2 - 3  3*zeta12^2 - 3]\n",
       "[             -3              -3      3*zeta12^2      3*zeta12^2 -3*zeta12^2 + 3 -3*zeta12^2 + 3              -3              -3      3*zeta12^2      3*zeta12^2 -3*zeta12^2 + 3 -3*zeta12^2 + 3              -3              -3      3*zeta12^2      3*zeta12^2 -3*zeta12^2 + 3 -3*zeta12^2 + 3]\n",
       "[              3               3               3               3               3               3  3*zeta12^2 - 3  3*zeta12^2 - 3  3*zeta12^2 - 3  3*zeta12^2 - 3  3*zeta12^2 - 3  3*zeta12^2 - 3     -3*zeta12^2     -3*zeta12^2     -3*zeta12^2     -3*zeta12^2     -3*zeta12^2     -3*zeta12^2]\n",
       "[             -3              -3              -3              -3              -3              -3 -3*zeta12^2 + 3 -3*zeta12^2 + 3 -3*zeta12^2 + 3 -3*zeta12^2 + 3 -3*zeta12^2 + 3 -3*zeta12^2 + 3      3*zeta12^2      3*zeta12^2      3*zeta12^2      3*zeta12^2      3*zeta12^2      3*zeta12^2]\n",
       "[              3               3  3*zeta12^2 - 3  3*zeta12^2 - 3     -3*zeta12^2     -3*zeta12^2  3*zeta12^2 - 3  3*zeta12^2 - 3     -3*zeta12^2     -3*zeta12^2               3               3     -3*zeta12^2     -3*zeta12^2               3               3  3*zeta12^2 - 3  3*zeta12^2 - 3]\n",
       "[             -3              -3 -3*zeta12^2 + 3 -3*zeta12^2 + 3      3*zeta12^2      3*zeta12^2 -3*zeta12^2 + 3 -3*zeta12^2 + 3      3*zeta12^2      3*zeta12^2              -3              -3      3*zeta12^2      3*zeta12^2              -3              -3 -3*zeta12^2 + 3 -3*zeta12^2 + 3]\n",
       "[              3               3     -3*zeta12^2     -3*zeta12^2  3*zeta12^2 - 3  3*zeta12^2 - 3  3*zeta12^2 - 3  3*zeta12^2 - 3               3               3     -3*zeta12^2     -3*zeta12^2     -3*zeta12^2     -3*zeta12^2  3*zeta12^2 - 3  3*zeta12^2 - 3               3               3]\n",
       "[             -3              -3      3*zeta12^2      3*zeta12^2 -3*zeta12^2 + 3 -3*zeta12^2 + 3 -3*zeta12^2 + 3 -3*zeta12^2 + 3              -3              -3      3*zeta12^2      3*zeta12^2      3*zeta12^2      3*zeta12^2 -3*zeta12^2 + 3 -3*zeta12^2 + 3              -3              -3]\n",
       "[              3               3               3               3               3               3     -3*zeta12^2     -3*zeta12^2     -3*zeta12^2     -3*zeta12^2     -3*zeta12^2     -3*zeta12^2  3*zeta12^2 - 3  3*zeta12^2 - 3  3*zeta12^2 - 3  3*zeta12^2 - 3  3*zeta12^2 - 3  3*zeta12^2 - 3]\n",
       "[             -3              -3              -3              -3              -3              -3      3*zeta12^2      3*zeta12^2      3*zeta12^2      3*zeta12^2      3*zeta12^2      3*zeta12^2 -3*zeta12^2 + 3 -3*zeta12^2 + 3 -3*zeta12^2 + 3 -3*zeta12^2 + 3 -3*zeta12^2 + 3 -3*zeta12^2 + 3]\n",
       "[              3               3  3*zeta12^2 - 3  3*zeta12^2 - 3     -3*zeta12^2     -3*zeta12^2     -3*zeta12^2     -3*zeta12^2               3               3  3*zeta12^2 - 3  3*zeta12^2 - 3  3*zeta12^2 - 3  3*zeta12^2 - 3     -3*zeta12^2     -3*zeta12^2               3               3]\n",
       "[             -3              -3 -3*zeta12^2 + 3 -3*zeta12^2 + 3      3*zeta12^2      3*zeta12^2      3*zeta12^2      3*zeta12^2              -3              -3 -3*zeta12^2 + 3 -3*zeta12^2 + 3 -3*zeta12^2 + 3 -3*zeta12^2 + 3      3*zeta12^2      3*zeta12^2              -3              -3]\n",
       "[              3               3     -3*zeta12^2     -3*zeta12^2  3*zeta12^2 - 3  3*zeta12^2 - 3     -3*zeta12^2     -3*zeta12^2  3*zeta12^2 - 3  3*zeta12^2 - 3               3               3  3*zeta12^2 - 3  3*zeta12^2 - 3               3               3     -3*zeta12^2     -3*zeta12^2]\n",
       "[             -3              -3      3*zeta12^2      3*zeta12^2 -3*zeta12^2 + 3 -3*zeta12^2 + 3      3*zeta12^2      3*zeta12^2 -3*zeta12^2 + 3 -3*zeta12^2 + 3              -3              -3 -3*zeta12^2 + 3 -3*zeta12^2 + 3              -3              -3      3*zeta12^2      3*zeta12^2]"
      ]
     },
     "metadata": {},
     "output_type": "display_data"
    },
    {
     "data": {
      "text/html": [
       "<html><script type=\"math/tex; mode=display\">\\newcommand{\\Bold}[1]{\\mathbf{#1}}\\left(\\begin{array}{rrrrrrrrrrrrrrrrrr}\n",
       "3 & -3 & 3 & -3 & 3 & -3 & 3 & -3 & 3 & -3 & 3 & -3 & 3 & -3 & 3 & -3 & 3 & -3 \\\\\n",
       "-3 & 3 & -3 & 3 & -3 & 3 & -3 & 3 & -3 & 3 & -3 & 3 & -3 & 3 & -3 & 3 & -3 & 3 \\\\\n",
       "3 & -3 & -3 \\zeta_{12}^{2} & 3 \\zeta_{12}^{2} & 3 \\zeta_{12}^{2} - 3 & -3 \\zeta_{12}^{2} + 3 & 3 & -3 & -3 \\zeta_{12}^{2} & 3 \\zeta_{12}^{2} & 3 \\zeta_{12}^{2} - 3 & -3 \\zeta_{12}^{2} + 3 & 3 & -3 & -3 \\zeta_{12}^{2} & 3 \\zeta_{12}^{2} & 3 \\zeta_{12}^{2} - 3 & -3 \\zeta_{12}^{2} + 3 \\\\\n",
       "-3 & 3 & 3 \\zeta_{12}^{2} & -3 \\zeta_{12}^{2} & -3 \\zeta_{12}^{2} + 3 & 3 \\zeta_{12}^{2} - 3 & -3 & 3 & 3 \\zeta_{12}^{2} & -3 \\zeta_{12}^{2} & -3 \\zeta_{12}^{2} + 3 & 3 \\zeta_{12}^{2} - 3 & -3 & 3 & 3 \\zeta_{12}^{2} & -3 \\zeta_{12}^{2} & -3 \\zeta_{12}^{2} + 3 & 3 \\zeta_{12}^{2} - 3 \\\\\n",
       "3 & -3 & 3 \\zeta_{12}^{2} - 3 & -3 \\zeta_{12}^{2} + 3 & -3 \\zeta_{12}^{2} & 3 \\zeta_{12}^{2} & 3 & -3 & 3 \\zeta_{12}^{2} - 3 & -3 \\zeta_{12}^{2} + 3 & -3 \\zeta_{12}^{2} & 3 \\zeta_{12}^{2} & 3 & -3 & 3 \\zeta_{12}^{2} - 3 & -3 \\zeta_{12}^{2} + 3 & -3 \\zeta_{12}^{2} & 3 \\zeta_{12}^{2} \\\\\n",
       "-3 & 3 & -3 \\zeta_{12}^{2} + 3 & 3 \\zeta_{12}^{2} - 3 & 3 \\zeta_{12}^{2} & -3 \\zeta_{12}^{2} & -3 & 3 & -3 \\zeta_{12}^{2} + 3 & 3 \\zeta_{12}^{2} - 3 & 3 \\zeta_{12}^{2} & -3 \\zeta_{12}^{2} & -3 & 3 & -3 \\zeta_{12}^{2} + 3 & 3 \\zeta_{12}^{2} - 3 & 3 \\zeta_{12}^{2} & -3 \\zeta_{12}^{2} \\\\\n",
       "3 & -3 & 3 & -3 & 3 & -3 & -3 \\zeta_{12}^{2} & 3 \\zeta_{12}^{2} & -3 \\zeta_{12}^{2} & 3 \\zeta_{12}^{2} & -3 \\zeta_{12}^{2} & 3 \\zeta_{12}^{2} & 3 \\zeta_{12}^{2} - 3 & -3 \\zeta_{12}^{2} + 3 & 3 \\zeta_{12}^{2} - 3 & -3 \\zeta_{12}^{2} + 3 & 3 \\zeta_{12}^{2} - 3 & -3 \\zeta_{12}^{2} + 3 \\\\\n",
       "-3 & 3 & -3 & 3 & -3 & 3 & 3 \\zeta_{12}^{2} & -3 \\zeta_{12}^{2} & 3 \\zeta_{12}^{2} & -3 \\zeta_{12}^{2} & 3 \\zeta_{12}^{2} & -3 \\zeta_{12}^{2} & -3 \\zeta_{12}^{2} + 3 & 3 \\zeta_{12}^{2} - 3 & -3 \\zeta_{12}^{2} + 3 & 3 \\zeta_{12}^{2} - 3 & -3 \\zeta_{12}^{2} + 3 & 3 \\zeta_{12}^{2} - 3 \\\\\n",
       "3 & -3 & -3 \\zeta_{12}^{2} & 3 \\zeta_{12}^{2} & 3 \\zeta_{12}^{2} - 3 & -3 \\zeta_{12}^{2} + 3 & -3 \\zeta_{12}^{2} & 3 \\zeta_{12}^{2} & 3 \\zeta_{12}^{2} - 3 & -3 \\zeta_{12}^{2} + 3 & 3 & -3 & 3 \\zeta_{12}^{2} - 3 & -3 \\zeta_{12}^{2} + 3 & 3 & -3 & -3 \\zeta_{12}^{2} & 3 \\zeta_{12}^{2} \\\\\n",
       "-3 & 3 & 3 \\zeta_{12}^{2} & -3 \\zeta_{12}^{2} & -3 \\zeta_{12}^{2} + 3 & 3 \\zeta_{12}^{2} - 3 & 3 \\zeta_{12}^{2} & -3 \\zeta_{12}^{2} & -3 \\zeta_{12}^{2} + 3 & 3 \\zeta_{12}^{2} - 3 & -3 & 3 & -3 \\zeta_{12}^{2} + 3 & 3 \\zeta_{12}^{2} - 3 & -3 & 3 & 3 \\zeta_{12}^{2} & -3 \\zeta_{12}^{2} \\\\\n",
       "3 & -3 & 3 \\zeta_{12}^{2} - 3 & -3 \\zeta_{12}^{2} + 3 & -3 \\zeta_{12}^{2} & 3 \\zeta_{12}^{2} & -3 \\zeta_{12}^{2} & 3 \\zeta_{12}^{2} & 3 & -3 & 3 \\zeta_{12}^{2} - 3 & -3 \\zeta_{12}^{2} + 3 & 3 \\zeta_{12}^{2} - 3 & -3 \\zeta_{12}^{2} + 3 & -3 \\zeta_{12}^{2} & 3 \\zeta_{12}^{2} & 3 & -3 \\\\\n",
       "-3 & 3 & -3 \\zeta_{12}^{2} + 3 & 3 \\zeta_{12}^{2} - 3 & 3 \\zeta_{12}^{2} & -3 \\zeta_{12}^{2} & 3 \\zeta_{12}^{2} & -3 \\zeta_{12}^{2} & -3 & 3 & -3 \\zeta_{12}^{2} + 3 & 3 \\zeta_{12}^{2} - 3 & -3 \\zeta_{12}^{2} + 3 & 3 \\zeta_{12}^{2} - 3 & 3 \\zeta_{12}^{2} & -3 \\zeta_{12}^{2} & -3 & 3 \\\\\n",
       "3 & -3 & 3 & -3 & 3 & -3 & 3 \\zeta_{12}^{2} - 3 & -3 \\zeta_{12}^{2} + 3 & 3 \\zeta_{12}^{2} - 3 & -3 \\zeta_{12}^{2} + 3 & 3 \\zeta_{12}^{2} - 3 & -3 \\zeta_{12}^{2} + 3 & -3 \\zeta_{12}^{2} & 3 \\zeta_{12}^{2} & -3 \\zeta_{12}^{2} & 3 \\zeta_{12}^{2} & -3 \\zeta_{12}^{2} & 3 \\zeta_{12}^{2} \\\\\n",
       "-3 & 3 & -3 & 3 & -3 & 3 & -3 \\zeta_{12}^{2} + 3 & 3 \\zeta_{12}^{2} - 3 & -3 \\zeta_{12}^{2} + 3 & 3 \\zeta_{12}^{2} - 3 & -3 \\zeta_{12}^{2} + 3 & 3 \\zeta_{12}^{2} - 3 & 3 \\zeta_{12}^{2} & -3 \\zeta_{12}^{2} & 3 \\zeta_{12}^{2} & -3 \\zeta_{12}^{2} & 3 \\zeta_{12}^{2} & -3 \\zeta_{12}^{2} \\\\\n",
       "3 & -3 & -3 \\zeta_{12}^{2} & 3 \\zeta_{12}^{2} & 3 \\zeta_{12}^{2} - 3 & -3 \\zeta_{12}^{2} + 3 & 3 \\zeta_{12}^{2} - 3 & -3 \\zeta_{12}^{2} + 3 & 3 & -3 & -3 \\zeta_{12}^{2} & 3 \\zeta_{12}^{2} & -3 \\zeta_{12}^{2} & 3 \\zeta_{12}^{2} & 3 \\zeta_{12}^{2} - 3 & -3 \\zeta_{12}^{2} + 3 & 3 & -3 \\\\\n",
       "-3 & 3 & 3 \\zeta_{12}^{2} & -3 \\zeta_{12}^{2} & -3 \\zeta_{12}^{2} + 3 & 3 \\zeta_{12}^{2} - 3 & -3 \\zeta_{12}^{2} + 3 & 3 \\zeta_{12}^{2} - 3 & -3 & 3 & 3 \\zeta_{12}^{2} & -3 \\zeta_{12}^{2} & 3 \\zeta_{12}^{2} & -3 \\zeta_{12}^{2} & -3 \\zeta_{12}^{2} + 3 & 3 \\zeta_{12}^{2} - 3 & -3 & 3 \\\\\n",
       "3 & -3 & 3 \\zeta_{12}^{2} - 3 & -3 \\zeta_{12}^{2} + 3 & -3 \\zeta_{12}^{2} & 3 \\zeta_{12}^{2} & 3 \\zeta_{12}^{2} - 3 & -3 \\zeta_{12}^{2} + 3 & -3 \\zeta_{12}^{2} & 3 \\zeta_{12}^{2} & 3 & -3 & -3 \\zeta_{12}^{2} & 3 \\zeta_{12}^{2} & 3 & -3 & 3 \\zeta_{12}^{2} - 3 & -3 \\zeta_{12}^{2} + 3 \\\\\n",
       "-3 & 3 & -3 \\zeta_{12}^{2} + 3 & 3 \\zeta_{12}^{2} - 3 & 3 \\zeta_{12}^{2} & -3 \\zeta_{12}^{2} & -3 \\zeta_{12}^{2} + 3 & 3 \\zeta_{12}^{2} - 3 & 3 \\zeta_{12}^{2} & -3 \\zeta_{12}^{2} & -3 & 3 & 3 \\zeta_{12}^{2} & -3 \\zeta_{12}^{2} & -3 & 3 & -3 \\zeta_{12}^{2} + 3 & 3 \\zeta_{12}^{2} - 3\n",
       "\\end{array}\\right)</script></html>"
      ],
      "text/plain": [
       "[              3              -3               3              -3               3              -3               3              -3               3              -3               3              -3               3              -3               3              -3               3              -3]\n",
       "[             -3               3              -3               3              -3               3              -3               3              -3               3              -3               3              -3               3              -3               3              -3               3]\n",
       "[              3              -3     -3*zeta12^2      3*zeta12^2  3*zeta12^2 - 3 -3*zeta12^2 + 3               3              -3     -3*zeta12^2      3*zeta12^2  3*zeta12^2 - 3 -3*zeta12^2 + 3               3              -3     -3*zeta12^2      3*zeta12^2  3*zeta12^2 - 3 -3*zeta12^2 + 3]\n",
       "[             -3               3      3*zeta12^2     -3*zeta12^2 -3*zeta12^2 + 3  3*zeta12^2 - 3              -3               3      3*zeta12^2     -3*zeta12^2 -3*zeta12^2 + 3  3*zeta12^2 - 3              -3               3      3*zeta12^2     -3*zeta12^2 -3*zeta12^2 + 3  3*zeta12^2 - 3]\n",
       "[              3              -3  3*zeta12^2 - 3 -3*zeta12^2 + 3     -3*zeta12^2      3*zeta12^2               3              -3  3*zeta12^2 - 3 -3*zeta12^2 + 3     -3*zeta12^2      3*zeta12^2               3              -3  3*zeta12^2 - 3 -3*zeta12^2 + 3     -3*zeta12^2      3*zeta12^2]\n",
       "[             -3               3 -3*zeta12^2 + 3  3*zeta12^2 - 3      3*zeta12^2     -3*zeta12^2              -3               3 -3*zeta12^2 + 3  3*zeta12^2 - 3      3*zeta12^2     -3*zeta12^2              -3               3 -3*zeta12^2 + 3  3*zeta12^2 - 3      3*zeta12^2     -3*zeta12^2]\n",
       "[              3              -3               3              -3               3              -3     -3*zeta12^2      3*zeta12^2     -3*zeta12^2      3*zeta12^2     -3*zeta12^2      3*zeta12^2  3*zeta12^2 - 3 -3*zeta12^2 + 3  3*zeta12^2 - 3 -3*zeta12^2 + 3  3*zeta12^2 - 3 -3*zeta12^2 + 3]\n",
       "[             -3               3              -3               3              -3               3      3*zeta12^2     -3*zeta12^2      3*zeta12^2     -3*zeta12^2      3*zeta12^2     -3*zeta12^2 -3*zeta12^2 + 3  3*zeta12^2 - 3 -3*zeta12^2 + 3  3*zeta12^2 - 3 -3*zeta12^2 + 3  3*zeta12^2 - 3]\n",
       "[              3              -3     -3*zeta12^2      3*zeta12^2  3*zeta12^2 - 3 -3*zeta12^2 + 3     -3*zeta12^2      3*zeta12^2  3*zeta12^2 - 3 -3*zeta12^2 + 3               3              -3  3*zeta12^2 - 3 -3*zeta12^2 + 3               3              -3     -3*zeta12^2      3*zeta12^2]\n",
       "[             -3               3      3*zeta12^2     -3*zeta12^2 -3*zeta12^2 + 3  3*zeta12^2 - 3      3*zeta12^2     -3*zeta12^2 -3*zeta12^2 + 3  3*zeta12^2 - 3              -3               3 -3*zeta12^2 + 3  3*zeta12^2 - 3              -3               3      3*zeta12^2     -3*zeta12^2]\n",
       "[              3              -3  3*zeta12^2 - 3 -3*zeta12^2 + 3     -3*zeta12^2      3*zeta12^2     -3*zeta12^2      3*zeta12^2               3              -3  3*zeta12^2 - 3 -3*zeta12^2 + 3  3*zeta12^2 - 3 -3*zeta12^2 + 3     -3*zeta12^2      3*zeta12^2               3              -3]\n",
       "[             -3               3 -3*zeta12^2 + 3  3*zeta12^2 - 3      3*zeta12^2     -3*zeta12^2      3*zeta12^2     -3*zeta12^2              -3               3 -3*zeta12^2 + 3  3*zeta12^2 - 3 -3*zeta12^2 + 3  3*zeta12^2 - 3      3*zeta12^2     -3*zeta12^2              -3               3]\n",
       "[              3              -3               3              -3               3              -3  3*zeta12^2 - 3 -3*zeta12^2 + 3  3*zeta12^2 - 3 -3*zeta12^2 + 3  3*zeta12^2 - 3 -3*zeta12^2 + 3     -3*zeta12^2      3*zeta12^2     -3*zeta12^2      3*zeta12^2     -3*zeta12^2      3*zeta12^2]\n",
       "[             -3               3              -3               3              -3               3 -3*zeta12^2 + 3  3*zeta12^2 - 3 -3*zeta12^2 + 3  3*zeta12^2 - 3 -3*zeta12^2 + 3  3*zeta12^2 - 3      3*zeta12^2     -3*zeta12^2      3*zeta12^2     -3*zeta12^2      3*zeta12^2     -3*zeta12^2]\n",
       "[              3              -3     -3*zeta12^2      3*zeta12^2  3*zeta12^2 - 3 -3*zeta12^2 + 3  3*zeta12^2 - 3 -3*zeta12^2 + 3               3              -3     -3*zeta12^2      3*zeta12^2     -3*zeta12^2      3*zeta12^2  3*zeta12^2 - 3 -3*zeta12^2 + 3               3              -3]\n",
       "[             -3               3      3*zeta12^2     -3*zeta12^2 -3*zeta12^2 + 3  3*zeta12^2 - 3 -3*zeta12^2 + 3  3*zeta12^2 - 3              -3               3      3*zeta12^2     -3*zeta12^2      3*zeta12^2     -3*zeta12^2 -3*zeta12^2 + 3  3*zeta12^2 - 3              -3               3]\n",
       "[              3              -3  3*zeta12^2 - 3 -3*zeta12^2 + 3     -3*zeta12^2      3*zeta12^2  3*zeta12^2 - 3 -3*zeta12^2 + 3     -3*zeta12^2      3*zeta12^2               3              -3     -3*zeta12^2      3*zeta12^2               3              -3  3*zeta12^2 - 3 -3*zeta12^2 + 3]\n",
       "[             -3               3 -3*zeta12^2 + 3  3*zeta12^2 - 3      3*zeta12^2     -3*zeta12^2 -3*zeta12^2 + 3  3*zeta12^2 - 3      3*zeta12^2     -3*zeta12^2              -3               3      3*zeta12^2     -3*zeta12^2              -3               3 -3*zeta12^2 + 3  3*zeta12^2 - 3]"
      ]
     },
     "metadata": {},
     "output_type": "display_data"
    }
   ],
   "source": [
    "pows = [z^(i) for i in range(n3)]\n",
    "#Delta = [(tau*sum([rho_a(g,Q,h) for g in G])).nth_root(2)^(-1) for h in G]\n",
    "Gpairs = [(G_list[i],G_list[j]) for i in range(n) for j in range(i)]\n",
    "Theta_X = [chi(g,-g,Q) for g in G_list for i in range(2)]\n",
    "Theta_Y = [chi(g,-h,Q) for (g,h) in Gpairs]\n",
    "Theta_Z = [sgn_tau*(-1)^i*d^(-1) for d in Delta for i in range(2)]\n",
    "Theta = Theta_X + Theta_Y + Theta_Z\n",
    "#show(Theta_X)\n",
    "#show(Theta_Y)\n",
    "#show(Theta_Z)\n",
    "T = block_diagonal_matrix([diagonal_matrix(Theta_X), diagonal_matrix(Theta_Y), diagonal_matrix(Theta_Z)])\n",
    "#show(T)\n",
    "SXX = matrix([[chi(g,h,Q)^(2) for g in G_list for i in range(2)] for h in G_list for j in range(2)])\n",
    "#show(SXX)\n",
    "SXY = matrix([[2*chi(h,a+b, Q)^(1) for (a,b) in Gpairs] for h in G_list for i in range(2)])\n",
    "#show(SXY)\n",
    "#SXZ = matrix([[(-1)^(j)/tau*chi(h, g, Q)*XZ_negation_fix(h,g,Q,G_list,Delta) for g in G_list for i in range(2)] for h in G_list for j in range(2)])\n",
    "SXZ = matrix([[(-1)^(j)/tau*chi(h, g, Q) for g in G_list for i in range(2)] for h in G_list for j in range(2)])\n",
    "#GNN say SXZ = matrix([[(-1)^(j)*sqrt_n*rho(h,Q)^(-1)*rho_a(h,Q,g)^(-1) for g in G_list for i in range(2)] for h in G_list for j in range(2)])\n",
    "show(SXZ)\n",
    "SYY = matrix([[2*(chi(a,d,Q)*chi(b,c,Q)+chi(a,c,Q)*chi(b,d,Q)) for (a,b) in Gpairs] for (c,d) in Gpairs])\n",
    "#show(SYY)\n",
    "SYZ = zero_matrix(parent(z), binomial(n,2), 2*n)\n",
    "#show(SYZ)\n",
    "SZZ = matrix([[Delta[i]^(-1)*(-1)^j*Delta[k]^(-1)*(-1)^l*sum([chi(x,x+G_list[i]+G_list[k],Q)^(-1) for x in G_list]) for i in range(n) for j in range(2)] for k in range(n) for l in range(2)])\n",
    "show(SZZ)\n",
    "S = block_matrix([[SXX, SXY, SXZ],[SXY.transpose(), SYY, SYZ], [SXZ.transpose(), SYZ.transpose(), SZZ]])/(2*n)\n",
    "#show(S)\n",
    "dims = [1]*(2*n) + [2]*ZZ(n*(n-1)/2) + [sqrt_n]*(2*n)\n",
    "p_plus = sum([Theta[i]*dims[i]^2 for i in range(n*(7+n)/2)])\n",
    "p_minus = sum([Theta[i]^(-1)*dims[i]^2 for i in range(n*(7+n)/2)])"
   ]
  },
  {
   "cell_type": "code",
   "execution_count": 45,
   "metadata": {},
   "outputs": [
    {
     "data": {
      "text/html": [
       "<html><script type=\"math/tex; mode=display\">\\newcommand{\\Bold}[1]{\\mathbf{#1}}\\left(\\begin{array}{rrrrrrrrrrrrrrrrrrrrrrrrrrrrrrrrrrrrrrrrrrrrrrrrrrrrrrrrrrrrrrrrrrrrrrrr}\n",
       "1 & 0 & 0 & 0 & 0 & 0 & 0 & 0 & 0 & 0 & 0 & 0 & 0 & 0 & 0 & 0 & 0 & 0 & 0 & 0 & 0 & 0 & 0 & 0 & 0 & 0 & 0 & 0 & 0 & 0 & 0 & 0 & 0 & 0 & 0 & 0 & 0 & 0 & 0 & 0 & 0 & 0 & 0 & 0 & 0 & 0 & 0 & 0 & 0 & 0 & 0 & 0 & 0 & 0 & 0 & 0 & 0 & 0 & 0 & 0 & 0 & 0 & 0 & 0 & 0 & 0 & 0 & 0 & 0 & 0 & 0 & 0 \\\\\n",
       "0 & 1 & 0 & 0 & 0 & 0 & 0 & 0 & 0 & 0 & 0 & 0 & 0 & 0 & 0 & 0 & 0 & 0 & 0 & 0 & 0 & 0 & 0 & 0 & 0 & 0 & 0 & 0 & 0 & 0 & 0 & 0 & 0 & 0 & 0 & 0 & 0 & 0 & 0 & 0 & 0 & 0 & 0 & 0 & 0 & 0 & 0 & 0 & 0 & 0 & 0 & 0 & 0 & 0 & 0 & 0 & 0 & 0 & 0 & 0 & 0 & 0 & 0 & 0 & 0 & 0 & 0 & 0 & 0 & 0 & 0 & 0 \\\\\n",
       "0 & 0 & 0 & 0 & 1 & 0 & 0 & 0 & 0 & 0 & 0 & 0 & 0 & 0 & 0 & 0 & 0 & 0 & 0 & 0 & 0 & 0 & 0 & 0 & 0 & 0 & 0 & 0 & 0 & 0 & 0 & 0 & 0 & 0 & 0 & 0 & 0 & 0 & 0 & 0 & 0 & 0 & 0 & 0 & 0 & 0 & 0 & 0 & 0 & 0 & 0 & 0 & 0 & 0 & 0 & 0 & 0 & 0 & 0 & 0 & 0 & 0 & 0 & 0 & 0 & 0 & 0 & 0 & 0 & 0 & 0 & 0 \\\\\n",
       "0 & 0 & 0 & 0 & 0 & 1 & 0 & 0 & 0 & 0 & 0 & 0 & 0 & 0 & 0 & 0 & 0 & 0 & 0 & 0 & 0 & 0 & 0 & 0 & 0 & 0 & 0 & 0 & 0 & 0 & 0 & 0 & 0 & 0 & 0 & 0 & 0 & 0 & 0 & 0 & 0 & 0 & 0 & 0 & 0 & 0 & 0 & 0 & 0 & 0 & 0 & 0 & 0 & 0 & 0 & 0 & 0 & 0 & 0 & 0 & 0 & 0 & 0 & 0 & 0 & 0 & 0 & 0 & 0 & 0 & 0 & 0 \\\\\n",
       "0 & 0 & 1 & 0 & 0 & 0 & 0 & 0 & 0 & 0 & 0 & 0 & 0 & 0 & 0 & 0 & 0 & 0 & 0 & 0 & 0 & 0 & 0 & 0 & 0 & 0 & 0 & 0 & 0 & 0 & 0 & 0 & 0 & 0 & 0 & 0 & 0 & 0 & 0 & 0 & 0 & 0 & 0 & 0 & 0 & 0 & 0 & 0 & 0 & 0 & 0 & 0 & 0 & 0 & 0 & 0 & 0 & 0 & 0 & 0 & 0 & 0 & 0 & 0 & 0 & 0 & 0 & 0 & 0 & 0 & 0 & 0 \\\\\n",
       "0 & 0 & 0 & 1 & 0 & 0 & 0 & 0 & 0 & 0 & 0 & 0 & 0 & 0 & 0 & 0 & 0 & 0 & 0 & 0 & 0 & 0 & 0 & 0 & 0 & 0 & 0 & 0 & 0 & 0 & 0 & 0 & 0 & 0 & 0 & 0 & 0 & 0 & 0 & 0 & 0 & 0 & 0 & 0 & 0 & 0 & 0 & 0 & 0 & 0 & 0 & 0 & 0 & 0 & 0 & 0 & 0 & 0 & 0 & 0 & 0 & 0 & 0 & 0 & 0 & 0 & 0 & 0 & 0 & 0 & 0 & 0 \\\\\n",
       "0 & 0 & 0 & 0 & 0 & 0 & 0 & 0 & 0 & 0 & 0 & 0 & 1 & 0 & 0 & 0 & 0 & 0 & 0 & 0 & 0 & 0 & 0 & 0 & 0 & 0 & 0 & 0 & 0 & 0 & 0 & 0 & 0 & 0 & 0 & 0 & 0 & 0 & 0 & 0 & 0 & 0 & 0 & 0 & 0 & 0 & 0 & 0 & 0 & 0 & 0 & 0 & 0 & 0 & 0 & 0 & 0 & 0 & 0 & 0 & 0 & 0 & 0 & 0 & 0 & 0 & 0 & 0 & 0 & 0 & 0 & 0 \\\\\n",
       "0 & 0 & 0 & 0 & 0 & 0 & 0 & 0 & 0 & 0 & 0 & 0 & 0 & 1 & 0 & 0 & 0 & 0 & 0 & 0 & 0 & 0 & 0 & 0 & 0 & 0 & 0 & 0 & 0 & 0 & 0 & 0 & 0 & 0 & 0 & 0 & 0 & 0 & 0 & 0 & 0 & 0 & 0 & 0 & 0 & 0 & 0 & 0 & 0 & 0 & 0 & 0 & 0 & 0 & 0 & 0 & 0 & 0 & 0 & 0 & 0 & 0 & 0 & 0 & 0 & 0 & 0 & 0 & 0 & 0 & 0 & 0 \\\\\n",
       "0 & 0 & 0 & 0 & 0 & 0 & 0 & 0 & 0 & 0 & 0 & 0 & 0 & 0 & 0 & 0 & 1 & 0 & 0 & 0 & 0 & 0 & 0 & 0 & 0 & 0 & 0 & 0 & 0 & 0 & 0 & 0 & 0 & 0 & 0 & 0 & 0 & 0 & 0 & 0 & 0 & 0 & 0 & 0 & 0 & 0 & 0 & 0 & 0 & 0 & 0 & 0 & 0 & 0 & 0 & 0 & 0 & 0 & 0 & 0 & 0 & 0 & 0 & 0 & 0 & 0 & 0 & 0 & 0 & 0 & 0 & 0 \\\\\n",
       "0 & 0 & 0 & 0 & 0 & 0 & 0 & 0 & 0 & 0 & 0 & 0 & 0 & 0 & 0 & 0 & 0 & 1 & 0 & 0 & 0 & 0 & 0 & 0 & 0 & 0 & 0 & 0 & 0 & 0 & 0 & 0 & 0 & 0 & 0 & 0 & 0 & 0 & 0 & 0 & 0 & 0 & 0 & 0 & 0 & 0 & 0 & 0 & 0 & 0 & 0 & 0 & 0 & 0 & 0 & 0 & 0 & 0 & 0 & 0 & 0 & 0 & 0 & 0 & 0 & 0 & 0 & 0 & 0 & 0 & 0 & 0 \\\\\n",
       "0 & 0 & 0 & 0 & 0 & 0 & 0 & 0 & 0 & 0 & 0 & 0 & 0 & 0 & 1 & 0 & 0 & 0 & 0 & 0 & 0 & 0 & 0 & 0 & 0 & 0 & 0 & 0 & 0 & 0 & 0 & 0 & 0 & 0 & 0 & 0 & 0 & 0 & 0 & 0 & 0 & 0 & 0 & 0 & 0 & 0 & 0 & 0 & 0 & 0 & 0 & 0 & 0 & 0 & 0 & 0 & 0 & 0 & 0 & 0 & 0 & 0 & 0 & 0 & 0 & 0 & 0 & 0 & 0 & 0 & 0 & 0 \\\\\n",
       "0 & 0 & 0 & 0 & 0 & 0 & 0 & 0 & 0 & 0 & 0 & 0 & 0 & 0 & 0 & 1 & 0 & 0 & 0 & 0 & 0 & 0 & 0 & 0 & 0 & 0 & 0 & 0 & 0 & 0 & 0 & 0 & 0 & 0 & 0 & 0 & 0 & 0 & 0 & 0 & 0 & 0 & 0 & 0 & 0 & 0 & 0 & 0 & 0 & 0 & 0 & 0 & 0 & 0 & 0 & 0 & 0 & 0 & 0 & 0 & 0 & 0 & 0 & 0 & 0 & 0 & 0 & 0 & 0 & 0 & 0 & 0 \\\\\n",
       "0 & 0 & 0 & 0 & 0 & 0 & 1 & 0 & 0 & 0 & 0 & 0 & 0 & 0 & 0 & 0 & 0 & 0 & 0 & 0 & 0 & 0 & 0 & 0 & 0 & 0 & 0 & 0 & 0 & 0 & 0 & 0 & 0 & 0 & 0 & 0 & 0 & 0 & 0 & 0 & 0 & 0 & 0 & 0 & 0 & 0 & 0 & 0 & 0 & 0 & 0 & 0 & 0 & 0 & 0 & 0 & 0 & 0 & 0 & 0 & 0 & 0 & 0 & 0 & 0 & 0 & 0 & 0 & 0 & 0 & 0 & 0 \\\\\n",
       "0 & 0 & 0 & 0 & 0 & 0 & 0 & 1 & 0 & 0 & 0 & 0 & 0 & 0 & 0 & 0 & 0 & 0 & 0 & 0 & 0 & 0 & 0 & 0 & 0 & 0 & 0 & 0 & 0 & 0 & 0 & 0 & 0 & 0 & 0 & 0 & 0 & 0 & 0 & 0 & 0 & 0 & 0 & 0 & 0 & 0 & 0 & 0 & 0 & 0 & 0 & 0 & 0 & 0 & 0 & 0 & 0 & 0 & 0 & 0 & 0 & 0 & 0 & 0 & 0 & 0 & 0 & 0 & 0 & 0 & 0 & 0 \\\\\n",
       "0 & 0 & 0 & 0 & 0 & 0 & 0 & 0 & 0 & 0 & 1 & 0 & 0 & 0 & 0 & 0 & 0 & 0 & 0 & 0 & 0 & 0 & 0 & 0 & 0 & 0 & 0 & 0 & 0 & 0 & 0 & 0 & 0 & 0 & 0 & 0 & 0 & 0 & 0 & 0 & 0 & 0 & 0 & 0 & 0 & 0 & 0 & 0 & 0 & 0 & 0 & 0 & 0 & 0 & 0 & 0 & 0 & 0 & 0 & 0 & 0 & 0 & 0 & 0 & 0 & 0 & 0 & 0 & 0 & 0 & 0 & 0 \\\\\n",
       "0 & 0 & 0 & 0 & 0 & 0 & 0 & 0 & 0 & 0 & 0 & 1 & 0 & 0 & 0 & 0 & 0 & 0 & 0 & 0 & 0 & 0 & 0 & 0 & 0 & 0 & 0 & 0 & 0 & 0 & 0 & 0 & 0 & 0 & 0 & 0 & 0 & 0 & 0 & 0 & 0 & 0 & 0 & 0 & 0 & 0 & 0 & 0 & 0 & 0 & 0 & 0 & 0 & 0 & 0 & 0 & 0 & 0 & 0 & 0 & 0 & 0 & 0 & 0 & 0 & 0 & 0 & 0 & 0 & 0 & 0 & 0 \\\\\n",
       "0 & 0 & 0 & 0 & 0 & 0 & 0 & 0 & 1 & 0 & 0 & 0 & 0 & 0 & 0 & 0 & 0 & 0 & 0 & 0 & 0 & 0 & 0 & 0 & 0 & 0 & 0 & 0 & 0 & 0 & 0 & 0 & 0 & 0 & 0 & 0 & 0 & 0 & 0 & 0 & 0 & 0 & 0 & 0 & 0 & 0 & 0 & 0 & 0 & 0 & 0 & 0 & 0 & 0 & 0 & 0 & 0 & 0 & 0 & 0 & 0 & 0 & 0 & 0 & 0 & 0 & 0 & 0 & 0 & 0 & 0 & 0 \\\\\n",
       "0 & 0 & 0 & 0 & 0 & 0 & 0 & 0 & 0 & 1 & 0 & 0 & 0 & 0 & 0 & 0 & 0 & 0 & 0 & 0 & 0 & 0 & 0 & 0 & 0 & 0 & 0 & 0 & 0 & 0 & 0 & 0 & 0 & 0 & 0 & 0 & 0 & 0 & 0 & 0 & 0 & 0 & 0 & 0 & 0 & 0 & 0 & 0 & 0 & 0 & 0 & 0 & 0 & 0 & 0 & 0 & 0 & 0 & 0 & 0 & 0 & 0 & 0 & 0 & 0 & 0 & 0 & 0 & 0 & 0 & 0 & 0 \\\\\n",
       "0 & 0 & 0 & 0 & 0 & 0 & 0 & 0 & 0 & 0 & 0 & 0 & 0 & 0 & 0 & 0 & 0 & 0 & 0 & 1 & 0 & 0 & 0 & 0 & 0 & 0 & 0 & 0 & 0 & 0 & 0 & 0 & 0 & 0 & 0 & 0 & 0 & 0 & 0 & 0 & 0 & 0 & 0 & 0 & 0 & 0 & 0 & 0 & 0 & 0 & 0 & 0 & 0 & 0 & 0 & 0 & 0 & 0 & 0 & 0 & 0 & 0 & 0 & 0 & 0 & 0 & 0 & 0 & 0 & 0 & 0 & 0 \\\\\n",
       "0 & 0 & 0 & 0 & 0 & 0 & 0 & 0 & 0 & 0 & 0 & 0 & 0 & 0 & 0 & 0 & 0 & 0 & 1 & 0 & 0 & 0 & 0 & 0 & 0 & 0 & 0 & 0 & 0 & 0 & 0 & 0 & 0 & 0 & 0 & 0 & 0 & 0 & 0 & 0 & 0 & 0 & 0 & 0 & 0 & 0 & 0 & 0 & 0 & 0 & 0 & 0 & 0 & 0 & 0 & 0 & 0 & 0 & 0 & 0 & 0 & 0 & 0 & 0 & 0 & 0 & 0 & 0 & 0 & 0 & 0 & 0 \\\\\n",
       "0 & 0 & 0 & 0 & 0 & 0 & 0 & 0 & 0 & 0 & 0 & 0 & 0 & 0 & 0 & 0 & 0 & 0 & 0 & 0 & 1 & 0 & 0 & 0 & 0 & 0 & 0 & 0 & 0 & 0 & 0 & 0 & 0 & 0 & 0 & 0 & 0 & 0 & 0 & 0 & 0 & 0 & 0 & 0 & 0 & 0 & 0 & 0 & 0 & 0 & 0 & 0 & 0 & 0 & 0 & 0 & 0 & 0 & 0 & 0 & 0 & 0 & 0 & 0 & 0 & 0 & 0 & 0 & 0 & 0 & 0 & 0 \\\\\n",
       "0 & 0 & 0 & 0 & 0 & 0 & 0 & 0 & 0 & 0 & 0 & 0 & 0 & 0 & 0 & 0 & 0 & 0 & 0 & 0 & 0 & 0 & 0 & 0 & 0 & 0 & 0 & 0 & 0 & 0 & 0 & 0 & 0 & 1 & 0 & 0 & 0 & 0 & 0 & 0 & 0 & 0 & 0 & 0 & 0 & 0 & 0 & 0 & 0 & 0 & 0 & 0 & 0 & 0 & 0 & 0 & 0 & 0 & 0 & 0 & 0 & 0 & 0 & 0 & 0 & 0 & 0 & 0 & 0 & 0 & 0 & 0 \\\\\n",
       "0 & 0 & 0 & 0 & 0 & 0 & 0 & 0 & 0 & 0 & 0 & 0 & 0 & 0 & 0 & 0 & 0 & 0 & 0 & 0 & 0 & 0 & 0 & 0 & 0 & 0 & 0 & 0 & 0 & 0 & 0 & 0 & 0 & 0 & 0 & 1 & 0 & 0 & 0 & 0 & 0 & 0 & 0 & 0 & 0 & 0 & 0 & 0 & 0 & 0 & 0 & 0 & 0 & 0 & 0 & 0 & 0 & 0 & 0 & 0 & 0 & 0 & 0 & 0 & 0 & 0 & 0 & 0 & 0 & 0 & 0 & 0 \\\\\n",
       "0 & 0 & 0 & 0 & 0 & 0 & 0 & 0 & 0 & 0 & 0 & 0 & 0 & 0 & 0 & 0 & 0 & 0 & 0 & 0 & 0 & 0 & 0 & 0 & 0 & 0 & 0 & 0 & 0 & 0 & 0 & 0 & 0 & 0 & 1 & 0 & 0 & 0 & 0 & 0 & 0 & 0 & 0 & 0 & 0 & 0 & 0 & 0 & 0 & 0 & 0 & 0 & 0 & 0 & 0 & 0 & 0 & 0 & 0 & 0 & 0 & 0 & 0 & 0 & 0 & 0 & 0 & 0 & 0 & 0 & 0 & 0 \\\\\n",
       "0 & 0 & 0 & 0 & 0 & 0 & 0 & 0 & 0 & 0 & 0 & 0 & 0 & 0 & 0 & 0 & 0 & 0 & 0 & 0 & 0 & 0 & 0 & 0 & 0 & 0 & 0 & 0 & 0 & 0 & 0 & 0 & 0 & 0 & 0 & 0 & 0 & 0 & 0 & 0 & 0 & 0 & 0 & 0 & 0 & 0 & 1 & 0 & 0 & 0 & 0 & 0 & 0 & 0 & 0 & 0 & 0 & 0 & 0 & 0 & 0 & 0 & 0 & 0 & 0 & 0 & 0 & 0 & 0 & 0 & 0 & 0 \\\\\n",
       "0 & 0 & 0 & 0 & 0 & 0 & 0 & 0 & 0 & 0 & 0 & 0 & 0 & 0 & 0 & 0 & 0 & 0 & 0 & 0 & 0 & 0 & 0 & 0 & 0 & 0 & 0 & 0 & 0 & 0 & 0 & 0 & 0 & 0 & 0 & 0 & 0 & 0 & 0 & 0 & 0 & 0 & 0 & 0 & 0 & 0 & 0 & 0 & 1 & 0 & 0 & 0 & 0 & 0 & 0 & 0 & 0 & 0 & 0 & 0 & 0 & 0 & 0 & 0 & 0 & 0 & 0 & 0 & 0 & 0 & 0 & 0 \\\\\n",
       "0 & 0 & 0 & 0 & 0 & 0 & 0 & 0 & 0 & 0 & 0 & 0 & 0 & 0 & 0 & 0 & 0 & 0 & 0 & 0 & 0 & 0 & 0 & 0 & 0 & 0 & 0 & 0 & 0 & 0 & 0 & 0 & 0 & 0 & 0 & 0 & 0 & 0 & 0 & 0 & 0 & 0 & 0 & 0 & 0 & 0 & 0 & 1 & 0 & 0 & 0 & 0 & 0 & 0 & 0 & 0 & 0 & 0 & 0 & 0 & 0 & 0 & 0 & 0 & 0 & 0 & 0 & 0 & 0 & 0 & 0 & 0 \\\\\n",
       "0 & 0 & 0 & 0 & 0 & 0 & 0 & 0 & 0 & 0 & 0 & 0 & 0 & 0 & 0 & 0 & 0 & 0 & 0 & 0 & 0 & 0 & 0 & 0 & 0 & 0 & 0 & 0 & 0 & 0 & 0 & 0 & 0 & 0 & 0 & 0 & 0 & 0 & 0 & 0 & 0 & 0 & 0 & 0 & 0 & 0 & 0 & 0 & 0 & 0 & 0 & 0 & 1 & 0 & 0 & 0 & 0 & 0 & 0 & 0 & 0 & 0 & 0 & 0 & 0 & 0 & 0 & 0 & 0 & 0 & 0 & 0 \\\\\n",
       "0 & 0 & 0 & 0 & 0 & 0 & 0 & 0 & 0 & 0 & 0 & 0 & 0 & 0 & 0 & 0 & 0 & 0 & 0 & 0 & 0 & 0 & 0 & 0 & 0 & 0 & 0 & 0 & 0 & 0 & 0 & 0 & 0 & 0 & 0 & 0 & 0 & 0 & 0 & 1 & 0 & 0 & 0 & 0 & 0 & 0 & 0 & 0 & 0 & 0 & 0 & 0 & 0 & 0 & 0 & 0 & 0 & 0 & 0 & 0 & 0 & 0 & 0 & 0 & 0 & 0 & 0 & 0 & 0 & 0 & 0 & 0 \\\\\n",
       "0 & 0 & 0 & 0 & 0 & 0 & 0 & 0 & 0 & 0 & 0 & 0 & 0 & 0 & 0 & 0 & 0 & 0 & 0 & 0 & 0 & 0 & 0 & 0 & 0 & 0 & 0 & 0 & 0 & 0 & 0 & 0 & 0 & 0 & 0 & 0 & 0 & 0 & 0 & 0 & 0 & 1 & 0 & 0 & 0 & 0 & 0 & 0 & 0 & 0 & 0 & 0 & 0 & 0 & 0 & 0 & 0 & 0 & 0 & 0 & 0 & 0 & 0 & 0 & 0 & 0 & 0 & 0 & 0 & 0 & 0 & 0 \\\\\n",
       "0 & 0 & 0 & 0 & 0 & 0 & 0 & 0 & 0 & 0 & 0 & 0 & 0 & 0 & 0 & 0 & 0 & 0 & 0 & 0 & 0 & 0 & 0 & 0 & 0 & 0 & 0 & 0 & 0 & 0 & 0 & 0 & 0 & 0 & 0 & 0 & 0 & 0 & 0 & 0 & 1 & 0 & 0 & 0 & 0 & 0 & 0 & 0 & 0 & 0 & 0 & 0 & 0 & 0 & 0 & 0 & 0 & 0 & 0 & 0 & 0 & 0 & 0 & 0 & 0 & 0 & 0 & 0 & 0 & 0 & 0 & 0 \\\\\n",
       "0 & 0 & 0 & 0 & 0 & 0 & 0 & 0 & 0 & 0 & 0 & 0 & 0 & 0 & 0 & 0 & 0 & 0 & 0 & 0 & 0 & 0 & 0 & 0 & 0 & 0 & 0 & 0 & 0 & 0 & 0 & 0 & 0 & 0 & 0 & 0 & 0 & 0 & 0 & 0 & 0 & 0 & 0 & 0 & 0 & 1 & 0 & 0 & 0 & 0 & 0 & 0 & 0 & 0 & 0 & 0 & 0 & 0 & 0 & 0 & 0 & 0 & 0 & 0 & 0 & 0 & 0 & 0 & 0 & 0 & 0 & 0 \\\\\n",
       "0 & 0 & 0 & 0 & 0 & 0 & 0 & 0 & 0 & 0 & 0 & 0 & 0 & 0 & 0 & 0 & 0 & 0 & 0 & 0 & 0 & 0 & 0 & 0 & 0 & 0 & 0 & 0 & 0 & 0 & 0 & 0 & 0 & 0 & 0 & 0 & 0 & 0 & 0 & 0 & 0 & 0 & 0 & 0 & 0 & 0 & 0 & 0 & 0 & 0 & 0 & 0 & 0 & 1 & 0 & 0 & 0 & 0 & 0 & 0 & 0 & 0 & 0 & 0 & 0 & 0 & 0 & 0 & 0 & 0 & 0 & 0 \\\\\n",
       "0 & 0 & 0 & 0 & 0 & 0 & 0 & 0 & 0 & 0 & 0 & 0 & 0 & 0 & 0 & 0 & 0 & 0 & 0 & 0 & 0 & 1 & 0 & 0 & 0 & 0 & 0 & 0 & 0 & 0 & 0 & 0 & 0 & 0 & 0 & 0 & 0 & 0 & 0 & 0 & 0 & 0 & 0 & 0 & 0 & 0 & 0 & 0 & 0 & 0 & 0 & 0 & 0 & 0 & 0 & 0 & 0 & 0 & 0 & 0 & 0 & 0 & 0 & 0 & 0 & 0 & 0 & 0 & 0 & 0 & 0 & 0 \\\\\n",
       "0 & 0 & 0 & 0 & 0 & 0 & 0 & 0 & 0 & 0 & 0 & 0 & 0 & 0 & 0 & 0 & 0 & 0 & 0 & 0 & 0 & 0 & 0 & 1 & 0 & 0 & 0 & 0 & 0 & 0 & 0 & 0 & 0 & 0 & 0 & 0 & 0 & 0 & 0 & 0 & 0 & 0 & 0 & 0 & 0 & 0 & 0 & 0 & 0 & 0 & 0 & 0 & 0 & 0 & 0 & 0 & 0 & 0 & 0 & 0 & 0 & 0 & 0 & 0 & 0 & 0 & 0 & 0 & 0 & 0 & 0 & 0 \\\\\n",
       "0 & 0 & 0 & 0 & 0 & 0 & 0 & 0 & 0 & 0 & 0 & 0 & 0 & 0 & 0 & 0 & 0 & 0 & 0 & 0 & 0 & 0 & 1 & 0 & 0 & 0 & 0 & 0 & 0 & 0 & 0 & 0 & 0 & 0 & 0 & 0 & 0 & 0 & 0 & 0 & 0 & 0 & 0 & 0 & 0 & 0 & 0 & 0 & 0 & 0 & 0 & 0 & 0 & 0 & 0 & 0 & 0 & 0 & 0 & 0 & 0 & 0 & 0 & 0 & 0 & 0 & 0 & 0 & 0 & 0 & 0 & 0 \\\\\n",
       "0 & 0 & 0 & 0 & 0 & 0 & 0 & 0 & 0 & 0 & 0 & 0 & 0 & 0 & 0 & 0 & 0 & 0 & 0 & 0 & 0 & 0 & 0 & 0 & 0 & 0 & 0 & 0 & 0 & 0 & 0 & 0 & 0 & 0 & 0 & 0 & 1 & 0 & 0 & 0 & 0 & 0 & 0 & 0 & 0 & 0 & 0 & 0 & 0 & 0 & 0 & 0 & 0 & 0 & 0 & 0 & 0 & 0 & 0 & 0 & 0 & 0 & 0 & 0 & 0 & 0 & 0 & 0 & 0 & 0 & 0 & 0 \\\\\n",
       "0 & 0 & 0 & 0 & 0 & 0 & 0 & 0 & 0 & 0 & 0 & 0 & 0 & 0 & 0 & 0 & 0 & 0 & 0 & 0 & 0 & 0 & 0 & 0 & 0 & 0 & 0 & 0 & 0 & 0 & 0 & 0 & 0 & 0 & 0 & 0 & 0 & 0 & 0 & 0 & 0 & 0 & 0 & 0 & 0 & 0 & 0 & 0 & 0 & 1 & 0 & 0 & 0 & 0 & 0 & 0 & 0 & 0 & 0 & 0 & 0 & 0 & 0 & 0 & 0 & 0 & 0 & 0 & 0 & 0 & 0 & 0 \\\\\n",
       "0 & 0 & 0 & 0 & 0 & 0 & 0 & 0 & 0 & 0 & 0 & 0 & 0 & 0 & 0 & 0 & 0 & 0 & 0 & 0 & 0 & 0 & 0 & 0 & 0 & 0 & 0 & 0 & 0 & 0 & 0 & 0 & 0 & 0 & 0 & 0 & 0 & 0 & 0 & 0 & 0 & 0 & 1 & 0 & 0 & 0 & 0 & 0 & 0 & 0 & 0 & 0 & 0 & 0 & 0 & 0 & 0 & 0 & 0 & 0 & 0 & 0 & 0 & 0 & 0 & 0 & 0 & 0 & 0 & 0 & 0 & 0 \\\\\n",
       "0 & 0 & 0 & 0 & 0 & 0 & 0 & 0 & 0 & 0 & 0 & 0 & 0 & 0 & 0 & 0 & 0 & 0 & 0 & 0 & 0 & 0 & 0 & 0 & 0 & 0 & 0 & 0 & 1 & 0 & 0 & 0 & 0 & 0 & 0 & 0 & 0 & 0 & 0 & 0 & 0 & 0 & 0 & 0 & 0 & 0 & 0 & 0 & 0 & 0 & 0 & 0 & 0 & 0 & 0 & 0 & 0 & 0 & 0 & 0 & 0 & 0 & 0 & 0 & 0 & 0 & 0 & 0 & 0 & 0 & 0 & 0 \\\\\n",
       "0 & 0 & 0 & 0 & 0 & 0 & 0 & 0 & 0 & 0 & 0 & 0 & 0 & 0 & 0 & 0 & 0 & 0 & 0 & 0 & 0 & 0 & 0 & 0 & 0 & 0 & 0 & 0 & 0 & 0 & 1 & 0 & 0 & 0 & 0 & 0 & 0 & 0 & 0 & 0 & 0 & 0 & 0 & 0 & 0 & 0 & 0 & 0 & 0 & 0 & 0 & 0 & 0 & 0 & 0 & 0 & 0 & 0 & 0 & 0 & 0 & 0 & 0 & 0 & 0 & 0 & 0 & 0 & 0 & 0 & 0 & 0 \\\\\n",
       "0 & 0 & 0 & 0 & 0 & 0 & 0 & 0 & 0 & 0 & 0 & 0 & 0 & 0 & 0 & 0 & 0 & 0 & 0 & 0 & 0 & 0 & 0 & 0 & 0 & 0 & 0 & 0 & 0 & 1 & 0 & 0 & 0 & 0 & 0 & 0 & 0 & 0 & 0 & 0 & 0 & 0 & 0 & 0 & 0 & 0 & 0 & 0 & 0 & 0 & 0 & 0 & 0 & 0 & 0 & 0 & 0 & 0 & 0 & 0 & 0 & 0 & 0 & 0 & 0 & 0 & 0 & 0 & 0 & 0 & 0 & 0 \\\\\n",
       "0 & 0 & 0 & 0 & 0 & 0 & 0 & 0 & 0 & 0 & 0 & 0 & 0 & 0 & 0 & 0 & 0 & 0 & 0 & 0 & 0 & 0 & 0 & 0 & 0 & 0 & 0 & 0 & 0 & 0 & 0 & 0 & 0 & 0 & 0 & 0 & 0 & 0 & 1 & 0 & 0 & 0 & 0 & 0 & 0 & 0 & 0 & 0 & 0 & 0 & 0 & 0 & 0 & 0 & 0 & 0 & 0 & 0 & 0 & 0 & 0 & 0 & 0 & 0 & 0 & 0 & 0 & 0 & 0 & 0 & 0 & 0 \\\\\n",
       "0 & 0 & 0 & 0 & 0 & 0 & 0 & 0 & 0 & 0 & 0 & 0 & 0 & 0 & 0 & 0 & 0 & 0 & 0 & 0 & 0 & 0 & 0 & 0 & 0 & 0 & 0 & 0 & 0 & 0 & 0 & 0 & 0 & 0 & 0 & 0 & 0 & 0 & 0 & 0 & 0 & 0 & 0 & 0 & 0 & 0 & 0 & 0 & 0 & 0 & 0 & 1 & 0 & 0 & 0 & 0 & 0 & 0 & 0 & 0 & 0 & 0 & 0 & 0 & 0 & 0 & 0 & 0 & 0 & 0 & 0 & 0 \\\\\n",
       "0 & 0 & 0 & 0 & 0 & 0 & 0 & 0 & 0 & 0 & 0 & 0 & 0 & 0 & 0 & 0 & 0 & 0 & 0 & 0 & 0 & 0 & 0 & 0 & 0 & 0 & 0 & 0 & 0 & 0 & 0 & 0 & 0 & 0 & 0 & 0 & 0 & 0 & 0 & 0 & 0 & 0 & 0 & 0 & 1 & 0 & 0 & 0 & 0 & 0 & 0 & 0 & 0 & 0 & 0 & 0 & 0 & 0 & 0 & 0 & 0 & 0 & 0 & 0 & 0 & 0 & 0 & 0 & 0 & 0 & 0 & 0 \\\\\n",
       "0 & 0 & 0 & 0 & 0 & 0 & 0 & 0 & 0 & 0 & 0 & 0 & 0 & 0 & 0 & 0 & 0 & 0 & 0 & 0 & 0 & 0 & 0 & 0 & 0 & 0 & 0 & 0 & 0 & 0 & 0 & 1 & 0 & 0 & 0 & 0 & 0 & 0 & 0 & 0 & 0 & 0 & 0 & 0 & 0 & 0 & 0 & 0 & 0 & 0 & 0 & 0 & 0 & 0 & 0 & 0 & 0 & 0 & 0 & 0 & 0 & 0 & 0 & 0 & 0 & 0 & 0 & 0 & 0 & 0 & 0 & 0 \\\\\n",
       "0 & 0 & 0 & 0 & 0 & 0 & 0 & 0 & 0 & 0 & 0 & 0 & 0 & 0 & 0 & 0 & 0 & 0 & 0 & 0 & 0 & 0 & 0 & 0 & 1 & 0 & 0 & 0 & 0 & 0 & 0 & 0 & 0 & 0 & 0 & 0 & 0 & 0 & 0 & 0 & 0 & 0 & 0 & 0 & 0 & 0 & 0 & 0 & 0 & 0 & 0 & 0 & 0 & 0 & 0 & 0 & 0 & 0 & 0 & 0 & 0 & 0 & 0 & 0 & 0 & 0 & 0 & 0 & 0 & 0 & 0 & 0 \\\\\n",
       "0 & 0 & 0 & 0 & 0 & 0 & 0 & 0 & 0 & 0 & 0 & 0 & 0 & 0 & 0 & 0 & 0 & 0 & 0 & 0 & 0 & 0 & 0 & 0 & 0 & 0 & 1 & 0 & 0 & 0 & 0 & 0 & 0 & 0 & 0 & 0 & 0 & 0 & 0 & 0 & 0 & 0 & 0 & 0 & 0 & 0 & 0 & 0 & 0 & 0 & 0 & 0 & 0 & 0 & 0 & 0 & 0 & 0 & 0 & 0 & 0 & 0 & 0 & 0 & 0 & 0 & 0 & 0 & 0 & 0 & 0 & 0 \\\\\n",
       "0 & 0 & 0 & 0 & 0 & 0 & 0 & 0 & 0 & 0 & 0 & 0 & 0 & 0 & 0 & 0 & 0 & 0 & 0 & 0 & 0 & 0 & 0 & 0 & 0 & 1 & 0 & 0 & 0 & 0 & 0 & 0 & 0 & 0 & 0 & 0 & 0 & 0 & 0 & 0 & 0 & 0 & 0 & 0 & 0 & 0 & 0 & 0 & 0 & 0 & 0 & 0 & 0 & 0 & 0 & 0 & 0 & 0 & 0 & 0 & 0 & 0 & 0 & 0 & 0 & 0 & 0 & 0 & 0 & 0 & 0 & 0 \\\\\n",
       "0 & 0 & 0 & 0 & 0 & 0 & 0 & 0 & 0 & 0 & 0 & 0 & 0 & 0 & 0 & 0 & 0 & 0 & 0 & 0 & 0 & 0 & 0 & 0 & 0 & 0 & 0 & 0 & 0 & 0 & 0 & 0 & 0 & 0 & 0 & 0 & 0 & 1 & 0 & 0 & 0 & 0 & 0 & 0 & 0 & 0 & 0 & 0 & 0 & 0 & 0 & 0 & 0 & 0 & 0 & 0 & 0 & 0 & 0 & 0 & 0 & 0 & 0 & 0 & 0 & 0 & 0 & 0 & 0 & 0 & 0 & 0 \\\\\n",
       "0 & 0 & 0 & 0 & 0 & 0 & 0 & 0 & 0 & 0 & 0 & 0 & 0 & 0 & 0 & 0 & 0 & 0 & 0 & 0 & 0 & 0 & 0 & 0 & 0 & 0 & 0 & 0 & 0 & 0 & 0 & 0 & 0 & 0 & 0 & 0 & 0 & 0 & 0 & 0 & 0 & 0 & 0 & 0 & 0 & 0 & 0 & 0 & 0 & 0 & 1 & 0 & 0 & 0 & 0 & 0 & 0 & 0 & 0 & 0 & 0 & 0 & 0 & 0 & 0 & 0 & 0 & 0 & 0 & 0 & 0 & 0 \\\\\n",
       "0 & 0 & 0 & 0 & 0 & 0 & 0 & 0 & 0 & 0 & 0 & 0 & 0 & 0 & 0 & 0 & 0 & 0 & 0 & 0 & 0 & 0 & 0 & 0 & 0 & 0 & 0 & 0 & 0 & 0 & 0 & 0 & 0 & 0 & 0 & 0 & 0 & 0 & 0 & 0 & 0 & 0 & 0 & 1 & 0 & 0 & 0 & 0 & 0 & 0 & 0 & 0 & 0 & 0 & 0 & 0 & 0 & 0 & 0 & 0 & 0 & 0 & 0 & 0 & 0 & 0 & 0 & 0 & 0 & 0 & 0 & 0 \\\\\n",
       "0 & 0 & 0 & 0 & 0 & 0 & 0 & 0 & 0 & 0 & 0 & 0 & 0 & 0 & 0 & 0 & 0 & 0 & 0 & 0 & 0 & 0 & 0 & 0 & 0 & 0 & 0 & 1 & 0 & 0 & 0 & 0 & 0 & 0 & 0 & 0 & 0 & 0 & 0 & 0 & 0 & 0 & 0 & 0 & 0 & 0 & 0 & 0 & 0 & 0 & 0 & 0 & 0 & 0 & 0 & 0 & 0 & 0 & 0 & 0 & 0 & 0 & 0 & 0 & 0 & 0 & 0 & 0 & 0 & 0 & 0 & 0 \\\\\n",
       "0 & 0 & 0 & 0 & 0 & 0 & 0 & 0 & 0 & 0 & 0 & 0 & 0 & 0 & 0 & 0 & 0 & 0 & 0 & 0 & 0 & 0 & 0 & 0 & 0 & 0 & 0 & 0 & 0 & 0 & 0 & 0 & 1 & 0 & 0 & 0 & 0 & 0 & 0 & 0 & 0 & 0 & 0 & 0 & 0 & 0 & 0 & 0 & 0 & 0 & 0 & 0 & 0 & 0 & 0 & 0 & 0 & 0 & 0 & 0 & 0 & 0 & 0 & 0 & 0 & 0 & 0 & 0 & 0 & 0 & 0 & 0 \\\\\n",
       "0 & 0 & 0 & 0 & 0 & 0 & 0 & 0 & 0 & 0 & 0 & 0 & 0 & 0 & 0 & 0 & 0 & 0 & 0 & 0 & 0 & 0 & 0 & 0 & 0 & 0 & 0 & 0 & 0 & 0 & 0 & 0 & 0 & 0 & 0 & 0 & 0 & 0 & 0 & 0 & 0 & 0 & 0 & 0 & 0 & 0 & 0 & 0 & 0 & 0 & 0 & 0 & 0 & 0 & 1 & 0 & 0 & 0 & 0 & 0 & 0 & 0 & 0 & 0 & 0 & 0 & 0 & 0 & 0 & 0 & 0 & 0 \\\\\n",
       "0 & 0 & 0 & 0 & 0 & 0 & 0 & 0 & 0 & 0 & 0 & 0 & 0 & 0 & 0 & 0 & 0 & 0 & 0 & 0 & 0 & 0 & 0 & 0 & 0 & 0 & 0 & 0 & 0 & 0 & 0 & 0 & 0 & 0 & 0 & 0 & 0 & 0 & 0 & 0 & 0 & 0 & 0 & 0 & 0 & 0 & 0 & 0 & 0 & 0 & 0 & 0 & 0 & 0 & 0 & 1 & 0 & 0 & 0 & 0 & 0 & 0 & 0 & 0 & 0 & 0 & 0 & 0 & 0 & 0 & 0 & 0 \\\\\n",
       "0 & 0 & 0 & 0 & 0 & 0 & 0 & 0 & 0 & 0 & 0 & 0 & 0 & 0 & 0 & 0 & 0 & 0 & 0 & 0 & 0 & 0 & 0 & 0 & 0 & 0 & 0 & 0 & 0 & 0 & 0 & 0 & 0 & 0 & 0 & 0 & 0 & 0 & 0 & 0 & 0 & 0 & 0 & 0 & 0 & 0 & 0 & 0 & 0 & 0 & 0 & 0 & 0 & 0 & 0 & 0 & 0 & 0 & 1 & 0 & 0 & 0 & 0 & 0 & 0 & 0 & 0 & 0 & 0 & 0 & 0 & 0 \\\\\n",
       "0 & 0 & 0 & 0 & 0 & 0 & 0 & 0 & 0 & 0 & 0 & 0 & 0 & 0 & 0 & 0 & 0 & 0 & 0 & 0 & 0 & 0 & 0 & 0 & 0 & 0 & 0 & 0 & 0 & 0 & 0 & 0 & 0 & 0 & 0 & 0 & 0 & 0 & 0 & 0 & 0 & 0 & 0 & 0 & 0 & 0 & 0 & 0 & 0 & 0 & 0 & 0 & 0 & 0 & 0 & 0 & 0 & 0 & 0 & 1 & 0 & 0 & 0 & 0 & 0 & 0 & 0 & 0 & 0 & 0 & 0 & 0 \\\\\n",
       "0 & 0 & 0 & 0 & 0 & 0 & 0 & 0 & 0 & 0 & 0 & 0 & 0 & 0 & 0 & 0 & 0 & 0 & 0 & 0 & 0 & 0 & 0 & 0 & 0 & 0 & 0 & 0 & 0 & 0 & 0 & 0 & 0 & 0 & 0 & 0 & 0 & 0 & 0 & 0 & 0 & 0 & 0 & 0 & 0 & 0 & 0 & 0 & 0 & 0 & 0 & 0 & 0 & 0 & 0 & 0 & 1 & 0 & 0 & 0 & 0 & 0 & 0 & 0 & 0 & 0 & 0 & 0 & 0 & 0 & 0 & 0 \\\\\n",
       "0 & 0 & 0 & 0 & 0 & 0 & 0 & 0 & 0 & 0 & 0 & 0 & 0 & 0 & 0 & 0 & 0 & 0 & 0 & 0 & 0 & 0 & 0 & 0 & 0 & 0 & 0 & 0 & 0 & 0 & 0 & 0 & 0 & 0 & 0 & 0 & 0 & 0 & 0 & 0 & 0 & 0 & 0 & 0 & 0 & 0 & 0 & 0 & 0 & 0 & 0 & 0 & 0 & 0 & 0 & 0 & 0 & 1 & 0 & 0 & 0 & 0 & 0 & 0 & 0 & 0 & 0 & 0 & 0 & 0 & 0 & 0 \\\\\n",
       "0 & 0 & 0 & 0 & 0 & 0 & 0 & 0 & 0 & 0 & 0 & 0 & 0 & 0 & 0 & 0 & 0 & 0 & 0 & 0 & 0 & 0 & 0 & 0 & 0 & 0 & 0 & 0 & 0 & 0 & 0 & 0 & 0 & 0 & 0 & 0 & 0 & 0 & 0 & 0 & 0 & 0 & 0 & 0 & 0 & 0 & 0 & 0 & 0 & 0 & 0 & 0 & 0 & 0 & 0 & 0 & 0 & 0 & 0 & 0 & 0 & 0 & 0 & 0 & 0 & 0 & 1 & 0 & 0 & 0 & 0 & 0 \\\\\n",
       "0 & 0 & 0 & 0 & 0 & 0 & 0 & 0 & 0 & 0 & 0 & 0 & 0 & 0 & 0 & 0 & 0 & 0 & 0 & 0 & 0 & 0 & 0 & 0 & 0 & 0 & 0 & 0 & 0 & 0 & 0 & 0 & 0 & 0 & 0 & 0 & 0 & 0 & 0 & 0 & 0 & 0 & 0 & 0 & 0 & 0 & 0 & 0 & 0 & 0 & 0 & 0 & 0 & 0 & 0 & 0 & 0 & 0 & 0 & 0 & 0 & 0 & 0 & 0 & 0 & 0 & 0 & 1 & 0 & 0 & 0 & 0 \\\\\n",
       "0 & 0 & 0 & 0 & 0 & 0 & 0 & 0 & 0 & 0 & 0 & 0 & 0 & 0 & 0 & 0 & 0 & 0 & 0 & 0 & 0 & 0 & 0 & 0 & 0 & 0 & 0 & 0 & 0 & 0 & 0 & 0 & 0 & 0 & 0 & 0 & 0 & 0 & 0 & 0 & 0 & 0 & 0 & 0 & 0 & 0 & 0 & 0 & 0 & 0 & 0 & 0 & 0 & 0 & 0 & 0 & 0 & 0 & 0 & 0 & 0 & 0 & 0 & 0 & 0 & 0 & 0 & 0 & 0 & 0 & 1 & 0 \\\\\n",
       "0 & 0 & 0 & 0 & 0 & 0 & 0 & 0 & 0 & 0 & 0 & 0 & 0 & 0 & 0 & 0 & 0 & 0 & 0 & 0 & 0 & 0 & 0 & 0 & 0 & 0 & 0 & 0 & 0 & 0 & 0 & 0 & 0 & 0 & 0 & 0 & 0 & 0 & 0 & 0 & 0 & 0 & 0 & 0 & 0 & 0 & 0 & 0 & 0 & 0 & 0 & 0 & 0 & 0 & 0 & 0 & 0 & 0 & 0 & 0 & 0 & 0 & 0 & 0 & 0 & 0 & 0 & 0 & 0 & 0 & 0 & 1 \\\\\n",
       "0 & 0 & 0 & 0 & 0 & 0 & 0 & 0 & 0 & 0 & 0 & 0 & 0 & 0 & 0 & 0 & 0 & 0 & 0 & 0 & 0 & 0 & 0 & 0 & 0 & 0 & 0 & 0 & 0 & 0 & 0 & 0 & 0 & 0 & 0 & 0 & 0 & 0 & 0 & 0 & 0 & 0 & 0 & 0 & 0 & 0 & 0 & 0 & 0 & 0 & 0 & 0 & 0 & 0 & 0 & 0 & 0 & 0 & 0 & 0 & 0 & 0 & 0 & 0 & 0 & 0 & 0 & 0 & 1 & 0 & 0 & 0 \\\\\n",
       "0 & 0 & 0 & 0 & 0 & 0 & 0 & 0 & 0 & 0 & 0 & 0 & 0 & 0 & 0 & 0 & 0 & 0 & 0 & 0 & 0 & 0 & 0 & 0 & 0 & 0 & 0 & 0 & 0 & 0 & 0 & 0 & 0 & 0 & 0 & 0 & 0 & 0 & 0 & 0 & 0 & 0 & 0 & 0 & 0 & 0 & 0 & 0 & 0 & 0 & 0 & 0 & 0 & 0 & 0 & 0 & 0 & 0 & 0 & 0 & 0 & 0 & 0 & 0 & 0 & 0 & 0 & 0 & 0 & 1 & 0 & 0 \\\\\n",
       "0 & 0 & 0 & 0 & 0 & 0 & 0 & 0 & 0 & 0 & 0 & 0 & 0 & 0 & 0 & 0 & 0 & 0 & 0 & 0 & 0 & 0 & 0 & 0 & 0 & 0 & 0 & 0 & 0 & 0 & 0 & 0 & 0 & 0 & 0 & 0 & 0 & 0 & 0 & 0 & 0 & 0 & 0 & 0 & 0 & 0 & 0 & 0 & 0 & 0 & 0 & 0 & 0 & 0 & 0 & 0 & 0 & 0 & 0 & 0 & 1 & 0 & 0 & 0 & 0 & 0 & 0 & 0 & 0 & 0 & 0 & 0 \\\\\n",
       "0 & 0 & 0 & 0 & 0 & 0 & 0 & 0 & 0 & 0 & 0 & 0 & 0 & 0 & 0 & 0 & 0 & 0 & 0 & 0 & 0 & 0 & 0 & 0 & 0 & 0 & 0 & 0 & 0 & 0 & 0 & 0 & 0 & 0 & 0 & 0 & 0 & 0 & 0 & 0 & 0 & 0 & 0 & 0 & 0 & 0 & 0 & 0 & 0 & 0 & 0 & 0 & 0 & 0 & 0 & 0 & 0 & 0 & 0 & 0 & 0 & 1 & 0 & 0 & 0 & 0 & 0 & 0 & 0 & 0 & 0 & 0 \\\\\n",
       "0 & 0 & 0 & 0 & 0 & 0 & 0 & 0 & 0 & 0 & 0 & 0 & 0 & 0 & 0 & 0 & 0 & 0 & 0 & 0 & 0 & 0 & 0 & 0 & 0 & 0 & 0 & 0 & 0 & 0 & 0 & 0 & 0 & 0 & 0 & 0 & 0 & 0 & 0 & 0 & 0 & 0 & 0 & 0 & 0 & 0 & 0 & 0 & 0 & 0 & 0 & 0 & 0 & 0 & 0 & 0 & 0 & 0 & 0 & 0 & 0 & 0 & 0 & 0 & 1 & 0 & 0 & 0 & 0 & 0 & 0 & 0 \\\\\n",
       "0 & 0 & 0 & 0 & 0 & 0 & 0 & 0 & 0 & 0 & 0 & 0 & 0 & 0 & 0 & 0 & 0 & 0 & 0 & 0 & 0 & 0 & 0 & 0 & 0 & 0 & 0 & 0 & 0 & 0 & 0 & 0 & 0 & 0 & 0 & 0 & 0 & 0 & 0 & 0 & 0 & 0 & 0 & 0 & 0 & 0 & 0 & 0 & 0 & 0 & 0 & 0 & 0 & 0 & 0 & 0 & 0 & 0 & 0 & 0 & 0 & 0 & 0 & 0 & 0 & 1 & 0 & 0 & 0 & 0 & 0 & 0 \\\\\n",
       "0 & 0 & 0 & 0 & 0 & 0 & 0 & 0 & 0 & 0 & 0 & 0 & 0 & 0 & 0 & 0 & 0 & 0 & 0 & 0 & 0 & 0 & 0 & 0 & 0 & 0 & 0 & 0 & 0 & 0 & 0 & 0 & 0 & 0 & 0 & 0 & 0 & 0 & 0 & 0 & 0 & 0 & 0 & 0 & 0 & 0 & 0 & 0 & 0 & 0 & 0 & 0 & 0 & 0 & 0 & 0 & 0 & 0 & 0 & 0 & 0 & 0 & 1 & 0 & 0 & 0 & 0 & 0 & 0 & 0 & 0 & 0 \\\\\n",
       "0 & 0 & 0 & 0 & 0 & 0 & 0 & 0 & 0 & 0 & 0 & 0 & 0 & 0 & 0 & 0 & 0 & 0 & 0 & 0 & 0 & 0 & 0 & 0 & 0 & 0 & 0 & 0 & 0 & 0 & 0 & 0 & 0 & 0 & 0 & 0 & 0 & 0 & 0 & 0 & 0 & 0 & 0 & 0 & 0 & 0 & 0 & 0 & 0 & 0 & 0 & 0 & 0 & 0 & 0 & 0 & 0 & 0 & 0 & 0 & 0 & 0 & 0 & 1 & 0 & 0 & 0 & 0 & 0 & 0 & 0 & 0\n",
       "\\end{array}\\right)</script></html>"
      ],
      "text/plain": [
       "72 x 72 dense matrix over Cyclotomic Field of order 12 and degree 4 (use the '.str()' method to see the entries)"
      ]
     },
     "metadata": {},
     "output_type": "display_data"
    }
   ],
   "source": [
    "C = S^2\n",
    "show(C)"
   ]
  },
  {
   "cell_type": "code",
   "execution_count": 537,
   "metadata": {},
   "outputs": [
    {
     "data": {
      "text/html": [
       "<html><script type=\"math/tex; mode=display\">\\newcommand{\\Bold}[1]{\\mathbf{#1}}\\left[0, 1, 2, 3, 4, 5, 6, 7, 8\\right]</script></html>"
      ],
      "text/plain": [
       "[0, 1, 2, 3, 4, 5, 6, 7, 8]"
      ]
     },
     "metadata": {},
     "output_type": "display_data"
    },
    {
     "data": {
      "text/html": [
       "<html><script type=\"math/tex; mode=display\">\\newcommand{\\Bold}[1]{\\mathbf{#1}}\\left(\\begin{array}{rrrrrrrrr}\n",
       "1 & 0 & 0 & 0 & 0 & 0 & 0 & 0 & 0 \\\\\n",
       "0 & 1 & 0 & 0 & 0 & 0 & 0 & 0 & 0 \\\\\n",
       "0 & 0 & 1 & 0 & 0 & 0 & 0 & 0 & 0 \\\\\n",
       "0 & 0 & 0 & 1 & 0 & 0 & 0 & 0 & 0 \\\\\n",
       "0 & 0 & 0 & 0 & 1 & 0 & 0 & 0 & 0 \\\\\n",
       "0 & 0 & 0 & 0 & 0 & 1 & 0 & 0 & 0 \\\\\n",
       "0 & 0 & 0 & 0 & 0 & 0 & 1 & 0 & 0 \\\\\n",
       "0 & 0 & 0 & 0 & 0 & 0 & 0 & 1 & 0 \\\\\n",
       "0 & 0 & 0 & 0 & 0 & 0 & 0 & 0 & 1\n",
       "\\end{array}\\right)</script></html>"
      ],
      "text/plain": [
       "[1 0 0 0 0 0 0 0 0]\n",
       "[0 1 0 0 0 0 0 0 0]\n",
       "[0 0 1 0 0 0 0 0 0]\n",
       "[0 0 0 1 0 0 0 0 0]\n",
       "[0 0 0 0 1 0 0 0 0]\n",
       "[0 0 0 0 0 1 0 0 0]\n",
       "[0 0 0 0 0 0 1 0 0]\n",
       "[0 0 0 0 0 0 0 1 0]\n",
       "[0 0 0 0 0 0 0 0 1]"
      ]
     },
     "metadata": {},
     "output_type": "display_data"
    },
    {
     "data": {
      "text/html": [
       "<html><script type=\"math/tex; mode=display\">\\newcommand{\\Bold}[1]{\\mathbf{#1}}\\left(\\begin{array}{rrrrrrrrr}\n",
       "0 & 1 & 0 & 0 & 0 & 0 & 0 & 0 & 0 \\\\\n",
       "1 & 0 & 0 & 0 & 0 & 0 & 0 & 0 & 0 \\\\\n",
       "0 & 0 & 0 & 1 & 0 & 0 & 0 & 0 & 0 \\\\\n",
       "0 & 0 & 1 & 0 & 0 & 0 & 0 & 0 & 0 \\\\\n",
       "0 & 0 & 0 & 0 & 1 & 0 & 0 & 0 & 0 \\\\\n",
       "0 & 0 & 0 & 0 & 0 & 0 & 1 & 0 & 0 \\\\\n",
       "0 & 0 & 0 & 0 & 0 & 1 & 0 & 0 & 0 \\\\\n",
       "0 & 0 & 0 & 0 & 0 & 0 & 0 & 0 & 1 \\\\\n",
       "0 & 0 & 0 & 0 & 0 & 0 & 0 & 1 & 0\n",
       "\\end{array}\\right)</script></html>"
      ],
      "text/plain": [
       "[0 1 0 0 0 0 0 0 0]\n",
       "[1 0 0 0 0 0 0 0 0]\n",
       "[0 0 0 1 0 0 0 0 0]\n",
       "[0 0 1 0 0 0 0 0 0]\n",
       "[0 0 0 0 1 0 0 0 0]\n",
       "[0 0 0 0 0 0 1 0 0]\n",
       "[0 0 0 0 0 1 0 0 0]\n",
       "[0 0 0 0 0 0 0 0 1]\n",
       "[0 0 0 0 0 0 0 1 0]"
      ]
     },
     "metadata": {},
     "output_type": "display_data"
    },
    {
     "data": {
      "text/html": [
       "<html><script type=\"math/tex; mode=display\">\\newcommand{\\Bold}[1]{\\mathbf{#1}}\\left(\\begin{array}{rrrrrrrrr}\n",
       "0 & 0 & 1 & 0 & 0 & 0 & 0 & 0 & 0 \\\\\n",
       "0 & 0 & 0 & 1 & 0 & 0 & 0 & 0 & 0 \\\\\n",
       "1 & 0 & 0 & 0 & 0 & 0 & 0 & 0 & 0 \\\\\n",
       "0 & 1 & 0 & 0 & 0 & 0 & 0 & 0 & 0 \\\\\n",
       "0 & 0 & 0 & 0 & 1 & 0 & 0 & 0 & 0 \\\\\n",
       "0 & 0 & 0 & 0 & 0 & 0 & 1 & 0 & 0 \\\\\n",
       "0 & 0 & 0 & 0 & 0 & 1 & 0 & 0 & 0 \\\\\n",
       "0 & 0 & 0 & 0 & 0 & 0 & 0 & 1 & 0 \\\\\n",
       "0 & 0 & 0 & 0 & 0 & 0 & 0 & 0 & 1\n",
       "\\end{array}\\right)</script></html>"
      ],
      "text/plain": [
       "[0 0 1 0 0 0 0 0 0]\n",
       "[0 0 0 1 0 0 0 0 0]\n",
       "[1 0 0 0 0 0 0 0 0]\n",
       "[0 1 0 0 0 0 0 0 0]\n",
       "[0 0 0 0 1 0 0 0 0]\n",
       "[0 0 0 0 0 0 1 0 0]\n",
       "[0 0 0 0 0 1 0 0 0]\n",
       "[0 0 0 0 0 0 0 1 0]\n",
       "[0 0 0 0 0 0 0 0 1]"
      ]
     },
     "metadata": {},
     "output_type": "display_data"
    },
    {
     "data": {
      "text/html": [
       "<html><script type=\"math/tex; mode=display\">\\newcommand{\\Bold}[1]{\\mathbf{#1}}\\left(\\begin{array}{rrrrrrrrr}\n",
       "0 & 0 & 0 & 1 & 0 & 0 & 0 & 0 & 0 \\\\\n",
       "0 & 0 & 1 & 0 & 0 & 0 & 0 & 0 & 0 \\\\\n",
       "0 & 1 & 0 & 0 & 0 & 0 & 0 & 0 & 0 \\\\\n",
       "1 & 0 & 0 & 0 & 0 & 0 & 0 & 0 & 0 \\\\\n",
       "0 & 0 & 0 & 0 & 1 & 0 & 0 & 0 & 0 \\\\\n",
       "0 & 0 & 0 & 0 & 0 & 1 & 0 & 0 & 0 \\\\\n",
       "0 & 0 & 0 & 0 & 0 & 0 & 1 & 0 & 0 \\\\\n",
       "0 & 0 & 0 & 0 & 0 & 0 & 0 & 0 & 1 \\\\\n",
       "0 & 0 & 0 & 0 & 0 & 0 & 0 & 1 & 0\n",
       "\\end{array}\\right)</script></html>"
      ],
      "text/plain": [
       "[0 0 0 1 0 0 0 0 0]\n",
       "[0 0 1 0 0 0 0 0 0]\n",
       "[0 1 0 0 0 0 0 0 0]\n",
       "[1 0 0 0 0 0 0 0 0]\n",
       "[0 0 0 0 1 0 0 0 0]\n",
       "[0 0 0 0 0 1 0 0 0]\n",
       "[0 0 0 0 0 0 1 0 0]\n",
       "[0 0 0 0 0 0 0 0 1]\n",
       "[0 0 0 0 0 0 0 1 0]"
      ]
     },
     "metadata": {},
     "output_type": "display_data"
    },
    {
     "data": {
      "text/html": [
       "<html><script type=\"math/tex; mode=display\">\\newcommand{\\Bold}[1]{\\mathbf{#1}}\\left(\\begin{array}{rrrrrrrrr}\n",
       "0 & 0 & 0 & 0 & 1 & 0 & 0 & 0 & 0 \\\\\n",
       "0 & 0 & 0 & 0 & 1 & 0 & 0 & 0 & 0 \\\\\n",
       "0 & 0 & 0 & 0 & 1 & 0 & 0 & 0 & 0 \\\\\n",
       "0 & 0 & 0 & 0 & 1 & 0 & 0 & 0 & 0 \\\\\n",
       "1 & 1 & 1 & 1 & 0 & 0 & 0 & 0 & 0 \\\\\n",
       "0 & 0 & 0 & 0 & 0 & 0 & 0 & 1 & 1 \\\\\n",
       "0 & 0 & 0 & 0 & 0 & 0 & 0 & 1 & 1 \\\\\n",
       "0 & 0 & 0 & 0 & 0 & 1 & 1 & 0 & 0 \\\\\n",
       "0 & 0 & 0 & 0 & 0 & 1 & 1 & 0 & 0\n",
       "\\end{array}\\right)</script></html>"
      ],
      "text/plain": [
       "[0 0 0 0 1 0 0 0 0]\n",
       "[0 0 0 0 1 0 0 0 0]\n",
       "[0 0 0 0 1 0 0 0 0]\n",
       "[0 0 0 0 1 0 0 0 0]\n",
       "[1 1 1 1 0 0 0 0 0]\n",
       "[0 0 0 0 0 0 0 1 1]\n",
       "[0 0 0 0 0 0 0 1 1]\n",
       "[0 0 0 0 0 1 1 0 0]\n",
       "[0 0 0 0 0 1 1 0 0]"
      ]
     },
     "metadata": {},
     "output_type": "display_data"
    },
    {
     "data": {
      "text/html": [
       "<html><script type=\"math/tex; mode=display\">\\newcommand{\\Bold}[1]{\\mathbf{#1}}\\left(\\begin{array}{rrrrrrrrr}\n",
       "0 & 0 & 0 & 0 & 0 & 1 & 0 & 0 & 0 \\\\\n",
       "0 & 0 & 0 & 0 & 0 & 0 & 1 & 0 & 0 \\\\\n",
       "0 & 0 & 0 & 0 & 0 & 0 & 1 & 0 & 0 \\\\\n",
       "0 & 0 & 0 & 0 & 0 & 1 & 0 & 0 & 0 \\\\\n",
       "0 & 0 & 0 & 0 & 0 & 0 & 0 & 1 & 1 \\\\\n",
       "1 & 0 & 0 & 1 & 0 & 0 & 0 & 0 & 0 \\\\\n",
       "0 & 1 & 1 & 0 & 0 & 0 & 0 & 0 & 0 \\\\\n",
       "0 & 0 & 0 & 0 & 1 & 0 & 0 & 0 & 0 \\\\\n",
       "0 & 0 & 0 & 0 & 1 & 0 & 0 & 0 & 0\n",
       "\\end{array}\\right)</script></html>"
      ],
      "text/plain": [
       "[0 0 0 0 0 1 0 0 0]\n",
       "[0 0 0 0 0 0 1 0 0]\n",
       "[0 0 0 0 0 0 1 0 0]\n",
       "[0 0 0 0 0 1 0 0 0]\n",
       "[0 0 0 0 0 0 0 1 1]\n",
       "[1 0 0 1 0 0 0 0 0]\n",
       "[0 1 1 0 0 0 0 0 0]\n",
       "[0 0 0 0 1 0 0 0 0]\n",
       "[0 0 0 0 1 0 0 0 0]"
      ]
     },
     "metadata": {},
     "output_type": "display_data"
    },
    {
     "data": {
      "text/html": [
       "<html><script type=\"math/tex; mode=display\">\\newcommand{\\Bold}[1]{\\mathbf{#1}}\\left(\\begin{array}{rrrrrrrrr}\n",
       "0 & 0 & 0 & 0 & 0 & 0 & 1 & 0 & 0 \\\\\n",
       "0 & 0 & 0 & 0 & 0 & 1 & 0 & 0 & 0 \\\\\n",
       "0 & 0 & 0 & 0 & 0 & 1 & 0 & 0 & 0 \\\\\n",
       "0 & 0 & 0 & 0 & 0 & 0 & 1 & 0 & 0 \\\\\n",
       "0 & 0 & 0 & 0 & 0 & 0 & 0 & 1 & 1 \\\\\n",
       "0 & 1 & 1 & 0 & 0 & 0 & 0 & 0 & 0 \\\\\n",
       "1 & 0 & 0 & 1 & 0 & 0 & 0 & 0 & 0 \\\\\n",
       "0 & 0 & 0 & 0 & 1 & 0 & 0 & 0 & 0 \\\\\n",
       "0 & 0 & 0 & 0 & 1 & 0 & 0 & 0 & 0\n",
       "\\end{array}\\right)</script></html>"
      ],
      "text/plain": [
       "[0 0 0 0 0 0 1 0 0]\n",
       "[0 0 0 0 0 1 0 0 0]\n",
       "[0 0 0 0 0 1 0 0 0]\n",
       "[0 0 0 0 0 0 1 0 0]\n",
       "[0 0 0 0 0 0 0 1 1]\n",
       "[0 1 1 0 0 0 0 0 0]\n",
       "[1 0 0 1 0 0 0 0 0]\n",
       "[0 0 0 0 1 0 0 0 0]\n",
       "[0 0 0 0 1 0 0 0 0]"
      ]
     },
     "metadata": {},
     "output_type": "display_data"
    },
    {
     "data": {
      "text/html": [
       "<html><script type=\"math/tex; mode=display\">\\newcommand{\\Bold}[1]{\\mathbf{#1}}\\left(\\begin{array}{rrrrrrrrr}\n",
       "0 & 0 & 0 & 0 & 0 & 0 & 0 & 1 & 0 \\\\\n",
       "0 & 0 & 0 & 0 & 0 & 0 & 0 & 0 & 1 \\\\\n",
       "0 & 0 & 0 & 0 & 0 & 0 & 0 & 1 & 0 \\\\\n",
       "0 & 0 & 0 & 0 & 0 & 0 & 0 & 0 & 1 \\\\\n",
       "0 & 0 & 0 & 0 & 0 & 1 & 1 & 0 & 0 \\\\\n",
       "0 & 0 & 0 & 0 & 1 & 0 & 0 & 0 & 0 \\\\\n",
       "0 & 0 & 0 & 0 & 1 & 0 & 0 & 0 & 0 \\\\\n",
       "1 & 0 & 1 & 0 & 0 & 0 & 0 & 0 & 0 \\\\\n",
       "0 & 1 & 0 & 1 & 0 & 0 & 0 & 0 & 0\n",
       "\\end{array}\\right)</script></html>"
      ],
      "text/plain": [
       "[0 0 0 0 0 0 0 1 0]\n",
       "[0 0 0 0 0 0 0 0 1]\n",
       "[0 0 0 0 0 0 0 1 0]\n",
       "[0 0 0 0 0 0 0 0 1]\n",
       "[0 0 0 0 0 1 1 0 0]\n",
       "[0 0 0 0 1 0 0 0 0]\n",
       "[0 0 0 0 1 0 0 0 0]\n",
       "[1 0 1 0 0 0 0 0 0]\n",
       "[0 1 0 1 0 0 0 0 0]"
      ]
     },
     "metadata": {},
     "output_type": "display_data"
    },
    {
     "data": {
      "text/html": [
       "<html><script type=\"math/tex; mode=display\">\\newcommand{\\Bold}[1]{\\mathbf{#1}}\\left(\\begin{array}{rrrrrrrrr}\n",
       "0 & 0 & 0 & 0 & 0 & 0 & 0 & 0 & 1 \\\\\n",
       "0 & 0 & 0 & 0 & 0 & 0 & 0 & 1 & 0 \\\\\n",
       "0 & 0 & 0 & 0 & 0 & 0 & 0 & 0 & 1 \\\\\n",
       "0 & 0 & 0 & 0 & 0 & 0 & 0 & 1 & 0 \\\\\n",
       "0 & 0 & 0 & 0 & 0 & 1 & 1 & 0 & 0 \\\\\n",
       "0 & 0 & 0 & 0 & 1 & 0 & 0 & 0 & 0 \\\\\n",
       "0 & 0 & 0 & 0 & 1 & 0 & 0 & 0 & 0 \\\\\n",
       "0 & 1 & 0 & 1 & 0 & 0 & 0 & 0 & 0 \\\\\n",
       "1 & 0 & 1 & 0 & 0 & 0 & 0 & 0 & 0\n",
       "\\end{array}\\right)</script></html>"
      ],
      "text/plain": [
       "[0 0 0 0 0 0 0 0 1]\n",
       "[0 0 0 0 0 0 0 1 0]\n",
       "[0 0 0 0 0 0 0 0 1]\n",
       "[0 0 0 0 0 0 0 1 0]\n",
       "[0 0 0 0 0 1 1 0 0]\n",
       "[0 0 0 0 1 0 0 0 0]\n",
       "[0 0 0 0 1 0 0 0 0]\n",
       "[0 1 0 1 0 0 0 0 0]\n",
       "[1 0 1 0 0 0 0 0 0]"
      ]
     },
     "metadata": {},
     "output_type": "display_data"
    }
   ],
   "source": [
    "ZC_n = 4*n + binomial(n,2)\n",
    "basis = [vector([0]*i + [1] + [0]*(ZC_n-1-i)) for i in range(ZC_n)]\n",
    "conj = [basis.index(C*b) for b in basis]\n",
    "show(conj)\n",
    "fusions = [matrix([[sum([S[i][r]*S[j][r]*S[conj[k]][r]/S[0][r] for r in range(ZC_n)]) for j in range(ZC_n)] for k in range(ZC_n)]) for i in range(ZC_n)]\n",
    "for N in fusions:\n",
    "    show(N)"
   ]
  },
  {
   "cell_type": "code",
   "execution_count": 46,
   "metadata": {},
   "outputs": [
    {
     "data": {
      "text/html": [
       "<html><script type=\"math/tex; mode=display\">\\newcommand{\\Bold}[1]{\\mathbf{#1}}\\left(\\begin{array}{rrrrrrrrrrrrrrrrrrrrrrrrrrrrrrrrrrrrrrrrrrrrrrrrrrrrrrrrrrrrrrrrrrrrrrrr}\n",
       "1 & 0 & 0 & 0 & 0 & 0 & 0 & 0 & 0 & 0 & 0 & 0 & 0 & 0 & 0 & 0 & 0 & 0 & 0 & 0 & 0 & 0 & 0 & 0 & 0 & 0 & 0 & 0 & 0 & 0 & 0 & 0 & 0 & 0 & 0 & 0 & 0 & 0 & 0 & 0 & 0 & 0 & 0 & 0 & 0 & 0 & 0 & 0 & 0 & 0 & 0 & 0 & 0 & 0 & 0 & 0 & 0 & 0 & 0 & 0 & 0 & 0 & 0 & 0 & 0 & 0 & 0 & 0 & 0 & 0 & 0 & 0 \\\\\n",
       "0 & 1 & 0 & 0 & 0 & 0 & 0 & 0 & 0 & 0 & 0 & 0 & 0 & 0 & 0 & 0 & 0 & 0 & 0 & 0 & 0 & 0 & 0 & 0 & 0 & 0 & 0 & 0 & 0 & 0 & 0 & 0 & 0 & 0 & 0 & 0 & 0 & 0 & 0 & 0 & 0 & 0 & 0 & 0 & 0 & 0 & 0 & 0 & 0 & 0 & 0 & 0 & 0 & 0 & 0 & 0 & 0 & 0 & 0 & 0 & 0 & 0 & 0 & 0 & 0 & 0 & 0 & 0 & 0 & 0 & 0 & 0 \\\\\n",
       "0 & 0 & 0 & 0 & 1 & 0 & 0 & 0 & 0 & 0 & 0 & 0 & 0 & 0 & 0 & 0 & 0 & 0 & 0 & 0 & 0 & 0 & 0 & 0 & 0 & 0 & 0 & 0 & 0 & 0 & 0 & 0 & 0 & 0 & 0 & 0 & 0 & 0 & 0 & 0 & 0 & 0 & 0 & 0 & 0 & 0 & 0 & 0 & 0 & 0 & 0 & 0 & 0 & 0 & 0 & 0 & 0 & 0 & 0 & 0 & 0 & 0 & 0 & 0 & 0 & 0 & 0 & 0 & 0 & 0 & 0 & 0 \\\\\n",
       "0 & 0 & 0 & 0 & 0 & 1 & 0 & 0 & 0 & 0 & 0 & 0 & 0 & 0 & 0 & 0 & 0 & 0 & 0 & 0 & 0 & 0 & 0 & 0 & 0 & 0 & 0 & 0 & 0 & 0 & 0 & 0 & 0 & 0 & 0 & 0 & 0 & 0 & 0 & 0 & 0 & 0 & 0 & 0 & 0 & 0 & 0 & 0 & 0 & 0 & 0 & 0 & 0 & 0 & 0 & 0 & 0 & 0 & 0 & 0 & 0 & 0 & 0 & 0 & 0 & 0 & 0 & 0 & 0 & 0 & 0 & 0 \\\\\n",
       "0 & 0 & 1 & 0 & 0 & 0 & 0 & 0 & 0 & 0 & 0 & 0 & 0 & 0 & 0 & 0 & 0 & 0 & 0 & 0 & 0 & 0 & 0 & 0 & 0 & 0 & 0 & 0 & 0 & 0 & 0 & 0 & 0 & 0 & 0 & 0 & 0 & 0 & 0 & 0 & 0 & 0 & 0 & 0 & 0 & 0 & 0 & 0 & 0 & 0 & 0 & 0 & 0 & 0 & 0 & 0 & 0 & 0 & 0 & 0 & 0 & 0 & 0 & 0 & 0 & 0 & 0 & 0 & 0 & 0 & 0 & 0 \\\\\n",
       "0 & 0 & 0 & 1 & 0 & 0 & 0 & 0 & 0 & 0 & 0 & 0 & 0 & 0 & 0 & 0 & 0 & 0 & 0 & 0 & 0 & 0 & 0 & 0 & 0 & 0 & 0 & 0 & 0 & 0 & 0 & 0 & 0 & 0 & 0 & 0 & 0 & 0 & 0 & 0 & 0 & 0 & 0 & 0 & 0 & 0 & 0 & 0 & 0 & 0 & 0 & 0 & 0 & 0 & 0 & 0 & 0 & 0 & 0 & 0 & 0 & 0 & 0 & 0 & 0 & 0 & 0 & 0 & 0 & 0 & 0 & 0 \\\\\n",
       "0 & 0 & 0 & 0 & 0 & 0 & 0 & 0 & 0 & 0 & 0 & 0 & 1 & 0 & 0 & 0 & 0 & 0 & 0 & 0 & 0 & 0 & 0 & 0 & 0 & 0 & 0 & 0 & 0 & 0 & 0 & 0 & 0 & 0 & 0 & 0 & 0 & 0 & 0 & 0 & 0 & 0 & 0 & 0 & 0 & 0 & 0 & 0 & 0 & 0 & 0 & 0 & 0 & 0 & 0 & 0 & 0 & 0 & 0 & 0 & 0 & 0 & 0 & 0 & 0 & 0 & 0 & 0 & 0 & 0 & 0 & 0 \\\\\n",
       "0 & 0 & 0 & 0 & 0 & 0 & 0 & 0 & 0 & 0 & 0 & 0 & 0 & 1 & 0 & 0 & 0 & 0 & 0 & 0 & 0 & 0 & 0 & 0 & 0 & 0 & 0 & 0 & 0 & 0 & 0 & 0 & 0 & 0 & 0 & 0 & 0 & 0 & 0 & 0 & 0 & 0 & 0 & 0 & 0 & 0 & 0 & 0 & 0 & 0 & 0 & 0 & 0 & 0 & 0 & 0 & 0 & 0 & 0 & 0 & 0 & 0 & 0 & 0 & 0 & 0 & 0 & 0 & 0 & 0 & 0 & 0 \\\\\n",
       "0 & 0 & 0 & 0 & 0 & 0 & 0 & 0 & 0 & 0 & 0 & 0 & 0 & 0 & 0 & 0 & 1 & 0 & 0 & 0 & 0 & 0 & 0 & 0 & 0 & 0 & 0 & 0 & 0 & 0 & 0 & 0 & 0 & 0 & 0 & 0 & 0 & 0 & 0 & 0 & 0 & 0 & 0 & 0 & 0 & 0 & 0 & 0 & 0 & 0 & 0 & 0 & 0 & 0 & 0 & 0 & 0 & 0 & 0 & 0 & 0 & 0 & 0 & 0 & 0 & 0 & 0 & 0 & 0 & 0 & 0 & 0 \\\\\n",
       "0 & 0 & 0 & 0 & 0 & 0 & 0 & 0 & 0 & 0 & 0 & 0 & 0 & 0 & 0 & 0 & 0 & 1 & 0 & 0 & 0 & 0 & 0 & 0 & 0 & 0 & 0 & 0 & 0 & 0 & 0 & 0 & 0 & 0 & 0 & 0 & 0 & 0 & 0 & 0 & 0 & 0 & 0 & 0 & 0 & 0 & 0 & 0 & 0 & 0 & 0 & 0 & 0 & 0 & 0 & 0 & 0 & 0 & 0 & 0 & 0 & 0 & 0 & 0 & 0 & 0 & 0 & 0 & 0 & 0 & 0 & 0 \\\\\n",
       "0 & 0 & 0 & 0 & 0 & 0 & 0 & 0 & 0 & 0 & 0 & 0 & 0 & 0 & 1 & 0 & 0 & 0 & 0 & 0 & 0 & 0 & 0 & 0 & 0 & 0 & 0 & 0 & 0 & 0 & 0 & 0 & 0 & 0 & 0 & 0 & 0 & 0 & 0 & 0 & 0 & 0 & 0 & 0 & 0 & 0 & 0 & 0 & 0 & 0 & 0 & 0 & 0 & 0 & 0 & 0 & 0 & 0 & 0 & 0 & 0 & 0 & 0 & 0 & 0 & 0 & 0 & 0 & 0 & 0 & 0 & 0 \\\\\n",
       "0 & 0 & 0 & 0 & 0 & 0 & 0 & 0 & 0 & 0 & 0 & 0 & 0 & 0 & 0 & 1 & 0 & 0 & 0 & 0 & 0 & 0 & 0 & 0 & 0 & 0 & 0 & 0 & 0 & 0 & 0 & 0 & 0 & 0 & 0 & 0 & 0 & 0 & 0 & 0 & 0 & 0 & 0 & 0 & 0 & 0 & 0 & 0 & 0 & 0 & 0 & 0 & 0 & 0 & 0 & 0 & 0 & 0 & 0 & 0 & 0 & 0 & 0 & 0 & 0 & 0 & 0 & 0 & 0 & 0 & 0 & 0 \\\\\n",
       "0 & 0 & 0 & 0 & 0 & 0 & 1 & 0 & 0 & 0 & 0 & 0 & 0 & 0 & 0 & 0 & 0 & 0 & 0 & 0 & 0 & 0 & 0 & 0 & 0 & 0 & 0 & 0 & 0 & 0 & 0 & 0 & 0 & 0 & 0 & 0 & 0 & 0 & 0 & 0 & 0 & 0 & 0 & 0 & 0 & 0 & 0 & 0 & 0 & 0 & 0 & 0 & 0 & 0 & 0 & 0 & 0 & 0 & 0 & 0 & 0 & 0 & 0 & 0 & 0 & 0 & 0 & 0 & 0 & 0 & 0 & 0 \\\\\n",
       "0 & 0 & 0 & 0 & 0 & 0 & 0 & 1 & 0 & 0 & 0 & 0 & 0 & 0 & 0 & 0 & 0 & 0 & 0 & 0 & 0 & 0 & 0 & 0 & 0 & 0 & 0 & 0 & 0 & 0 & 0 & 0 & 0 & 0 & 0 & 0 & 0 & 0 & 0 & 0 & 0 & 0 & 0 & 0 & 0 & 0 & 0 & 0 & 0 & 0 & 0 & 0 & 0 & 0 & 0 & 0 & 0 & 0 & 0 & 0 & 0 & 0 & 0 & 0 & 0 & 0 & 0 & 0 & 0 & 0 & 0 & 0 \\\\\n",
       "0 & 0 & 0 & 0 & 0 & 0 & 0 & 0 & 0 & 0 & 1 & 0 & 0 & 0 & 0 & 0 & 0 & 0 & 0 & 0 & 0 & 0 & 0 & 0 & 0 & 0 & 0 & 0 & 0 & 0 & 0 & 0 & 0 & 0 & 0 & 0 & 0 & 0 & 0 & 0 & 0 & 0 & 0 & 0 & 0 & 0 & 0 & 0 & 0 & 0 & 0 & 0 & 0 & 0 & 0 & 0 & 0 & 0 & 0 & 0 & 0 & 0 & 0 & 0 & 0 & 0 & 0 & 0 & 0 & 0 & 0 & 0 \\\\\n",
       "0 & 0 & 0 & 0 & 0 & 0 & 0 & 0 & 0 & 0 & 0 & 1 & 0 & 0 & 0 & 0 & 0 & 0 & 0 & 0 & 0 & 0 & 0 & 0 & 0 & 0 & 0 & 0 & 0 & 0 & 0 & 0 & 0 & 0 & 0 & 0 & 0 & 0 & 0 & 0 & 0 & 0 & 0 & 0 & 0 & 0 & 0 & 0 & 0 & 0 & 0 & 0 & 0 & 0 & 0 & 0 & 0 & 0 & 0 & 0 & 0 & 0 & 0 & 0 & 0 & 0 & 0 & 0 & 0 & 0 & 0 & 0 \\\\\n",
       "0 & 0 & 0 & 0 & 0 & 0 & 0 & 0 & 1 & 0 & 0 & 0 & 0 & 0 & 0 & 0 & 0 & 0 & 0 & 0 & 0 & 0 & 0 & 0 & 0 & 0 & 0 & 0 & 0 & 0 & 0 & 0 & 0 & 0 & 0 & 0 & 0 & 0 & 0 & 0 & 0 & 0 & 0 & 0 & 0 & 0 & 0 & 0 & 0 & 0 & 0 & 0 & 0 & 0 & 0 & 0 & 0 & 0 & 0 & 0 & 0 & 0 & 0 & 0 & 0 & 0 & 0 & 0 & 0 & 0 & 0 & 0 \\\\\n",
       "0 & 0 & 0 & 0 & 0 & 0 & 0 & 0 & 0 & 1 & 0 & 0 & 0 & 0 & 0 & 0 & 0 & 0 & 0 & 0 & 0 & 0 & 0 & 0 & 0 & 0 & 0 & 0 & 0 & 0 & 0 & 0 & 0 & 0 & 0 & 0 & 0 & 0 & 0 & 0 & 0 & 0 & 0 & 0 & 0 & 0 & 0 & 0 & 0 & 0 & 0 & 0 & 0 & 0 & 0 & 0 & 0 & 0 & 0 & 0 & 0 & 0 & 0 & 0 & 0 & 0 & 0 & 0 & 0 & 0 & 0 & 0 \\\\\n",
       "0 & 0 & 0 & 0 & 0 & 0 & 0 & 0 & 0 & 0 & 0 & 0 & 0 & 0 & 0 & 0 & 0 & 0 & 0 & 1 & 0 & 0 & 0 & 0 & 0 & 0 & 0 & 0 & 0 & 0 & 0 & 0 & 0 & 0 & 0 & 0 & 0 & 0 & 0 & 0 & 0 & 0 & 0 & 0 & 0 & 0 & 0 & 0 & 0 & 0 & 0 & 0 & 0 & 0 & 0 & 0 & 0 & 0 & 0 & 0 & 0 & 0 & 0 & 0 & 0 & 0 & 0 & 0 & 0 & 0 & 0 & 0 \\\\\n",
       "0 & 0 & 0 & 0 & 0 & 0 & 0 & 0 & 0 & 0 & 0 & 0 & 0 & 0 & 0 & 0 & 0 & 0 & 1 & 0 & 0 & 0 & 0 & 0 & 0 & 0 & 0 & 0 & 0 & 0 & 0 & 0 & 0 & 0 & 0 & 0 & 0 & 0 & 0 & 0 & 0 & 0 & 0 & 0 & 0 & 0 & 0 & 0 & 0 & 0 & 0 & 0 & 0 & 0 & 0 & 0 & 0 & 0 & 0 & 0 & 0 & 0 & 0 & 0 & 0 & 0 & 0 & 0 & 0 & 0 & 0 & 0 \\\\\n",
       "0 & 0 & 0 & 0 & 0 & 0 & 0 & 0 & 0 & 0 & 0 & 0 & 0 & 0 & 0 & 0 & 0 & 0 & 0 & 0 & 1 & 0 & 0 & 0 & 0 & 0 & 0 & 0 & 0 & 0 & 0 & 0 & 0 & 0 & 0 & 0 & 0 & 0 & 0 & 0 & 0 & 0 & 0 & 0 & 0 & 0 & 0 & 0 & 0 & 0 & 0 & 0 & 0 & 0 & 0 & 0 & 0 & 0 & 0 & 0 & 0 & 0 & 0 & 0 & 0 & 0 & 0 & 0 & 0 & 0 & 0 & 0 \\\\\n",
       "0 & 0 & 0 & 0 & 0 & 0 & 0 & 0 & 0 & 0 & 0 & 0 & 0 & 0 & 0 & 0 & 0 & 0 & 0 & 0 & 0 & 0 & 0 & 0 & 0 & 0 & 0 & 0 & 0 & 0 & 0 & 0 & 0 & 1 & 0 & 0 & 0 & 0 & 0 & 0 & 0 & 0 & 0 & 0 & 0 & 0 & 0 & 0 & 0 & 0 & 0 & 0 & 0 & 0 & 0 & 0 & 0 & 0 & 0 & 0 & 0 & 0 & 0 & 0 & 0 & 0 & 0 & 0 & 0 & 0 & 0 & 0 \\\\\n",
       "0 & 0 & 0 & 0 & 0 & 0 & 0 & 0 & 0 & 0 & 0 & 0 & 0 & 0 & 0 & 0 & 0 & 0 & 0 & 0 & 0 & 0 & 0 & 0 & 0 & 0 & 0 & 0 & 0 & 0 & 0 & 0 & 0 & 0 & 0 & 1 & 0 & 0 & 0 & 0 & 0 & 0 & 0 & 0 & 0 & 0 & 0 & 0 & 0 & 0 & 0 & 0 & 0 & 0 & 0 & 0 & 0 & 0 & 0 & 0 & 0 & 0 & 0 & 0 & 0 & 0 & 0 & 0 & 0 & 0 & 0 & 0 \\\\\n",
       "0 & 0 & 0 & 0 & 0 & 0 & 0 & 0 & 0 & 0 & 0 & 0 & 0 & 0 & 0 & 0 & 0 & 0 & 0 & 0 & 0 & 0 & 0 & 0 & 0 & 0 & 0 & 0 & 0 & 0 & 0 & 0 & 0 & 0 & 1 & 0 & 0 & 0 & 0 & 0 & 0 & 0 & 0 & 0 & 0 & 0 & 0 & 0 & 0 & 0 & 0 & 0 & 0 & 0 & 0 & 0 & 0 & 0 & 0 & 0 & 0 & 0 & 0 & 0 & 0 & 0 & 0 & 0 & 0 & 0 & 0 & 0 \\\\\n",
       "0 & 0 & 0 & 0 & 0 & 0 & 0 & 0 & 0 & 0 & 0 & 0 & 0 & 0 & 0 & 0 & 0 & 0 & 0 & 0 & 0 & 0 & 0 & 0 & 0 & 0 & 0 & 0 & 0 & 0 & 0 & 0 & 0 & 0 & 0 & 0 & 0 & 0 & 0 & 0 & 0 & 0 & 0 & 0 & 0 & 0 & 1 & 0 & 0 & 0 & 0 & 0 & 0 & 0 & 0 & 0 & 0 & 0 & 0 & 0 & 0 & 0 & 0 & 0 & 0 & 0 & 0 & 0 & 0 & 0 & 0 & 0 \\\\\n",
       "0 & 0 & 0 & 0 & 0 & 0 & 0 & 0 & 0 & 0 & 0 & 0 & 0 & 0 & 0 & 0 & 0 & 0 & 0 & 0 & 0 & 0 & 0 & 0 & 0 & 0 & 0 & 0 & 0 & 0 & 0 & 0 & 0 & 0 & 0 & 0 & 0 & 0 & 0 & 0 & 0 & 0 & 0 & 0 & 0 & 0 & 0 & 0 & 1 & 0 & 0 & 0 & 0 & 0 & 0 & 0 & 0 & 0 & 0 & 0 & 0 & 0 & 0 & 0 & 0 & 0 & 0 & 0 & 0 & 0 & 0 & 0 \\\\\n",
       "0 & 0 & 0 & 0 & 0 & 0 & 0 & 0 & 0 & 0 & 0 & 0 & 0 & 0 & 0 & 0 & 0 & 0 & 0 & 0 & 0 & 0 & 0 & 0 & 0 & 0 & 0 & 0 & 0 & 0 & 0 & 0 & 0 & 0 & 0 & 0 & 0 & 0 & 0 & 0 & 0 & 0 & 0 & 0 & 0 & 0 & 0 & 1 & 0 & 0 & 0 & 0 & 0 & 0 & 0 & 0 & 0 & 0 & 0 & 0 & 0 & 0 & 0 & 0 & 0 & 0 & 0 & 0 & 0 & 0 & 0 & 0 \\\\\n",
       "0 & 0 & 0 & 0 & 0 & 0 & 0 & 0 & 0 & 0 & 0 & 0 & 0 & 0 & 0 & 0 & 0 & 0 & 0 & 0 & 0 & 0 & 0 & 0 & 0 & 0 & 0 & 0 & 0 & 0 & 0 & 0 & 0 & 0 & 0 & 0 & 0 & 0 & 0 & 0 & 0 & 0 & 0 & 0 & 0 & 0 & 0 & 0 & 0 & 0 & 0 & 0 & 1 & 0 & 0 & 0 & 0 & 0 & 0 & 0 & 0 & 0 & 0 & 0 & 0 & 0 & 0 & 0 & 0 & 0 & 0 & 0 \\\\\n",
       "0 & 0 & 0 & 0 & 0 & 0 & 0 & 0 & 0 & 0 & 0 & 0 & 0 & 0 & 0 & 0 & 0 & 0 & 0 & 0 & 0 & 0 & 0 & 0 & 0 & 0 & 0 & 0 & 0 & 0 & 0 & 0 & 0 & 0 & 0 & 0 & 0 & 0 & 0 & 1 & 0 & 0 & 0 & 0 & 0 & 0 & 0 & 0 & 0 & 0 & 0 & 0 & 0 & 0 & 0 & 0 & 0 & 0 & 0 & 0 & 0 & 0 & 0 & 0 & 0 & 0 & 0 & 0 & 0 & 0 & 0 & 0 \\\\\n",
       "0 & 0 & 0 & 0 & 0 & 0 & 0 & 0 & 0 & 0 & 0 & 0 & 0 & 0 & 0 & 0 & 0 & 0 & 0 & 0 & 0 & 0 & 0 & 0 & 0 & 0 & 0 & 0 & 0 & 0 & 0 & 0 & 0 & 0 & 0 & 0 & 0 & 0 & 0 & 0 & 0 & 1 & 0 & 0 & 0 & 0 & 0 & 0 & 0 & 0 & 0 & 0 & 0 & 0 & 0 & 0 & 0 & 0 & 0 & 0 & 0 & 0 & 0 & 0 & 0 & 0 & 0 & 0 & 0 & 0 & 0 & 0 \\\\\n",
       "0 & 0 & 0 & 0 & 0 & 0 & 0 & 0 & 0 & 0 & 0 & 0 & 0 & 0 & 0 & 0 & 0 & 0 & 0 & 0 & 0 & 0 & 0 & 0 & 0 & 0 & 0 & 0 & 0 & 0 & 0 & 0 & 0 & 0 & 0 & 0 & 0 & 0 & 0 & 0 & 1 & 0 & 0 & 0 & 0 & 0 & 0 & 0 & 0 & 0 & 0 & 0 & 0 & 0 & 0 & 0 & 0 & 0 & 0 & 0 & 0 & 0 & 0 & 0 & 0 & 0 & 0 & 0 & 0 & 0 & 0 & 0 \\\\\n",
       "0 & 0 & 0 & 0 & 0 & 0 & 0 & 0 & 0 & 0 & 0 & 0 & 0 & 0 & 0 & 0 & 0 & 0 & 0 & 0 & 0 & 0 & 0 & 0 & 0 & 0 & 0 & 0 & 0 & 0 & 0 & 0 & 0 & 0 & 0 & 0 & 0 & 0 & 0 & 0 & 0 & 0 & 0 & 0 & 0 & 1 & 0 & 0 & 0 & 0 & 0 & 0 & 0 & 0 & 0 & 0 & 0 & 0 & 0 & 0 & 0 & 0 & 0 & 0 & 0 & 0 & 0 & 0 & 0 & 0 & 0 & 0 \\\\\n",
       "0 & 0 & 0 & 0 & 0 & 0 & 0 & 0 & 0 & 0 & 0 & 0 & 0 & 0 & 0 & 0 & 0 & 0 & 0 & 0 & 0 & 0 & 0 & 0 & 0 & 0 & 0 & 0 & 0 & 0 & 0 & 0 & 0 & 0 & 0 & 0 & 0 & 0 & 0 & 0 & 0 & 0 & 0 & 0 & 0 & 0 & 0 & 0 & 0 & 0 & 0 & 0 & 0 & 1 & 0 & 0 & 0 & 0 & 0 & 0 & 0 & 0 & 0 & 0 & 0 & 0 & 0 & 0 & 0 & 0 & 0 & 0 \\\\\n",
       "0 & 0 & 0 & 0 & 0 & 0 & 0 & 0 & 0 & 0 & 0 & 0 & 0 & 0 & 0 & 0 & 0 & 0 & 0 & 0 & 0 & 1 & 0 & 0 & 0 & 0 & 0 & 0 & 0 & 0 & 0 & 0 & 0 & 0 & 0 & 0 & 0 & 0 & 0 & 0 & 0 & 0 & 0 & 0 & 0 & 0 & 0 & 0 & 0 & 0 & 0 & 0 & 0 & 0 & 0 & 0 & 0 & 0 & 0 & 0 & 0 & 0 & 0 & 0 & 0 & 0 & 0 & 0 & 0 & 0 & 0 & 0 \\\\\n",
       "0 & 0 & 0 & 0 & 0 & 0 & 0 & 0 & 0 & 0 & 0 & 0 & 0 & 0 & 0 & 0 & 0 & 0 & 0 & 0 & 0 & 0 & 0 & 1 & 0 & 0 & 0 & 0 & 0 & 0 & 0 & 0 & 0 & 0 & 0 & 0 & 0 & 0 & 0 & 0 & 0 & 0 & 0 & 0 & 0 & 0 & 0 & 0 & 0 & 0 & 0 & 0 & 0 & 0 & 0 & 0 & 0 & 0 & 0 & 0 & 0 & 0 & 0 & 0 & 0 & 0 & 0 & 0 & 0 & 0 & 0 & 0 \\\\\n",
       "0 & 0 & 0 & 0 & 0 & 0 & 0 & 0 & 0 & 0 & 0 & 0 & 0 & 0 & 0 & 0 & 0 & 0 & 0 & 0 & 0 & 0 & 1 & 0 & 0 & 0 & 0 & 0 & 0 & 0 & 0 & 0 & 0 & 0 & 0 & 0 & 0 & 0 & 0 & 0 & 0 & 0 & 0 & 0 & 0 & 0 & 0 & 0 & 0 & 0 & 0 & 0 & 0 & 0 & 0 & 0 & 0 & 0 & 0 & 0 & 0 & 0 & 0 & 0 & 0 & 0 & 0 & 0 & 0 & 0 & 0 & 0 \\\\\n",
       "0 & 0 & 0 & 0 & 0 & 0 & 0 & 0 & 0 & 0 & 0 & 0 & 0 & 0 & 0 & 0 & 0 & 0 & 0 & 0 & 0 & 0 & 0 & 0 & 0 & 0 & 0 & 0 & 0 & 0 & 0 & 0 & 0 & 0 & 0 & 0 & 1 & 0 & 0 & 0 & 0 & 0 & 0 & 0 & 0 & 0 & 0 & 0 & 0 & 0 & 0 & 0 & 0 & 0 & 0 & 0 & 0 & 0 & 0 & 0 & 0 & 0 & 0 & 0 & 0 & 0 & 0 & 0 & 0 & 0 & 0 & 0 \\\\\n",
       "0 & 0 & 0 & 0 & 0 & 0 & 0 & 0 & 0 & 0 & 0 & 0 & 0 & 0 & 0 & 0 & 0 & 0 & 0 & 0 & 0 & 0 & 0 & 0 & 0 & 0 & 0 & 0 & 0 & 0 & 0 & 0 & 0 & 0 & 0 & 0 & 0 & 0 & 0 & 0 & 0 & 0 & 0 & 0 & 0 & 0 & 0 & 0 & 0 & 1 & 0 & 0 & 0 & 0 & 0 & 0 & 0 & 0 & 0 & 0 & 0 & 0 & 0 & 0 & 0 & 0 & 0 & 0 & 0 & 0 & 0 & 0 \\\\\n",
       "0 & 0 & 0 & 0 & 0 & 0 & 0 & 0 & 0 & 0 & 0 & 0 & 0 & 0 & 0 & 0 & 0 & 0 & 0 & 0 & 0 & 0 & 0 & 0 & 0 & 0 & 0 & 0 & 0 & 0 & 0 & 0 & 0 & 0 & 0 & 0 & 0 & 0 & 0 & 0 & 0 & 0 & 1 & 0 & 0 & 0 & 0 & 0 & 0 & 0 & 0 & 0 & 0 & 0 & 0 & 0 & 0 & 0 & 0 & 0 & 0 & 0 & 0 & 0 & 0 & 0 & 0 & 0 & 0 & 0 & 0 & 0 \\\\\n",
       "0 & 0 & 0 & 0 & 0 & 0 & 0 & 0 & 0 & 0 & 0 & 0 & 0 & 0 & 0 & 0 & 0 & 0 & 0 & 0 & 0 & 0 & 0 & 0 & 0 & 0 & 0 & 0 & 1 & 0 & 0 & 0 & 0 & 0 & 0 & 0 & 0 & 0 & 0 & 0 & 0 & 0 & 0 & 0 & 0 & 0 & 0 & 0 & 0 & 0 & 0 & 0 & 0 & 0 & 0 & 0 & 0 & 0 & 0 & 0 & 0 & 0 & 0 & 0 & 0 & 0 & 0 & 0 & 0 & 0 & 0 & 0 \\\\\n",
       "0 & 0 & 0 & 0 & 0 & 0 & 0 & 0 & 0 & 0 & 0 & 0 & 0 & 0 & 0 & 0 & 0 & 0 & 0 & 0 & 0 & 0 & 0 & 0 & 0 & 0 & 0 & 0 & 0 & 0 & 1 & 0 & 0 & 0 & 0 & 0 & 0 & 0 & 0 & 0 & 0 & 0 & 0 & 0 & 0 & 0 & 0 & 0 & 0 & 0 & 0 & 0 & 0 & 0 & 0 & 0 & 0 & 0 & 0 & 0 & 0 & 0 & 0 & 0 & 0 & 0 & 0 & 0 & 0 & 0 & 0 & 0 \\\\\n",
       "0 & 0 & 0 & 0 & 0 & 0 & 0 & 0 & 0 & 0 & 0 & 0 & 0 & 0 & 0 & 0 & 0 & 0 & 0 & 0 & 0 & 0 & 0 & 0 & 0 & 0 & 0 & 0 & 0 & 1 & 0 & 0 & 0 & 0 & 0 & 0 & 0 & 0 & 0 & 0 & 0 & 0 & 0 & 0 & 0 & 0 & 0 & 0 & 0 & 0 & 0 & 0 & 0 & 0 & 0 & 0 & 0 & 0 & 0 & 0 & 0 & 0 & 0 & 0 & 0 & 0 & 0 & 0 & 0 & 0 & 0 & 0 \\\\\n",
       "0 & 0 & 0 & 0 & 0 & 0 & 0 & 0 & 0 & 0 & 0 & 0 & 0 & 0 & 0 & 0 & 0 & 0 & 0 & 0 & 0 & 0 & 0 & 0 & 0 & 0 & 0 & 0 & 0 & 0 & 0 & 0 & 0 & 0 & 0 & 0 & 0 & 0 & 1 & 0 & 0 & 0 & 0 & 0 & 0 & 0 & 0 & 0 & 0 & 0 & 0 & 0 & 0 & 0 & 0 & 0 & 0 & 0 & 0 & 0 & 0 & 0 & 0 & 0 & 0 & 0 & 0 & 0 & 0 & 0 & 0 & 0 \\\\\n",
       "0 & 0 & 0 & 0 & 0 & 0 & 0 & 0 & 0 & 0 & 0 & 0 & 0 & 0 & 0 & 0 & 0 & 0 & 0 & 0 & 0 & 0 & 0 & 0 & 0 & 0 & 0 & 0 & 0 & 0 & 0 & 0 & 0 & 0 & 0 & 0 & 0 & 0 & 0 & 0 & 0 & 0 & 0 & 0 & 0 & 0 & 0 & 0 & 0 & 0 & 0 & 1 & 0 & 0 & 0 & 0 & 0 & 0 & 0 & 0 & 0 & 0 & 0 & 0 & 0 & 0 & 0 & 0 & 0 & 0 & 0 & 0 \\\\\n",
       "0 & 0 & 0 & 0 & 0 & 0 & 0 & 0 & 0 & 0 & 0 & 0 & 0 & 0 & 0 & 0 & 0 & 0 & 0 & 0 & 0 & 0 & 0 & 0 & 0 & 0 & 0 & 0 & 0 & 0 & 0 & 0 & 0 & 0 & 0 & 0 & 0 & 0 & 0 & 0 & 0 & 0 & 0 & 0 & 1 & 0 & 0 & 0 & 0 & 0 & 0 & 0 & 0 & 0 & 0 & 0 & 0 & 0 & 0 & 0 & 0 & 0 & 0 & 0 & 0 & 0 & 0 & 0 & 0 & 0 & 0 & 0 \\\\\n",
       "0 & 0 & 0 & 0 & 0 & 0 & 0 & 0 & 0 & 0 & 0 & 0 & 0 & 0 & 0 & 0 & 0 & 0 & 0 & 0 & 0 & 0 & 0 & 0 & 0 & 0 & 0 & 0 & 0 & 0 & 0 & 1 & 0 & 0 & 0 & 0 & 0 & 0 & 0 & 0 & 0 & 0 & 0 & 0 & 0 & 0 & 0 & 0 & 0 & 0 & 0 & 0 & 0 & 0 & 0 & 0 & 0 & 0 & 0 & 0 & 0 & 0 & 0 & 0 & 0 & 0 & 0 & 0 & 0 & 0 & 0 & 0 \\\\\n",
       "0 & 0 & 0 & 0 & 0 & 0 & 0 & 0 & 0 & 0 & 0 & 0 & 0 & 0 & 0 & 0 & 0 & 0 & 0 & 0 & 0 & 0 & 0 & 0 & 1 & 0 & 0 & 0 & 0 & 0 & 0 & 0 & 0 & 0 & 0 & 0 & 0 & 0 & 0 & 0 & 0 & 0 & 0 & 0 & 0 & 0 & 0 & 0 & 0 & 0 & 0 & 0 & 0 & 0 & 0 & 0 & 0 & 0 & 0 & 0 & 0 & 0 & 0 & 0 & 0 & 0 & 0 & 0 & 0 & 0 & 0 & 0 \\\\\n",
       "0 & 0 & 0 & 0 & 0 & 0 & 0 & 0 & 0 & 0 & 0 & 0 & 0 & 0 & 0 & 0 & 0 & 0 & 0 & 0 & 0 & 0 & 0 & 0 & 0 & 0 & 1 & 0 & 0 & 0 & 0 & 0 & 0 & 0 & 0 & 0 & 0 & 0 & 0 & 0 & 0 & 0 & 0 & 0 & 0 & 0 & 0 & 0 & 0 & 0 & 0 & 0 & 0 & 0 & 0 & 0 & 0 & 0 & 0 & 0 & 0 & 0 & 0 & 0 & 0 & 0 & 0 & 0 & 0 & 0 & 0 & 0 \\\\\n",
       "0 & 0 & 0 & 0 & 0 & 0 & 0 & 0 & 0 & 0 & 0 & 0 & 0 & 0 & 0 & 0 & 0 & 0 & 0 & 0 & 0 & 0 & 0 & 0 & 0 & 1 & 0 & 0 & 0 & 0 & 0 & 0 & 0 & 0 & 0 & 0 & 0 & 0 & 0 & 0 & 0 & 0 & 0 & 0 & 0 & 0 & 0 & 0 & 0 & 0 & 0 & 0 & 0 & 0 & 0 & 0 & 0 & 0 & 0 & 0 & 0 & 0 & 0 & 0 & 0 & 0 & 0 & 0 & 0 & 0 & 0 & 0 \\\\\n",
       "0 & 0 & 0 & 0 & 0 & 0 & 0 & 0 & 0 & 0 & 0 & 0 & 0 & 0 & 0 & 0 & 0 & 0 & 0 & 0 & 0 & 0 & 0 & 0 & 0 & 0 & 0 & 0 & 0 & 0 & 0 & 0 & 0 & 0 & 0 & 0 & 0 & 1 & 0 & 0 & 0 & 0 & 0 & 0 & 0 & 0 & 0 & 0 & 0 & 0 & 0 & 0 & 0 & 0 & 0 & 0 & 0 & 0 & 0 & 0 & 0 & 0 & 0 & 0 & 0 & 0 & 0 & 0 & 0 & 0 & 0 & 0 \\\\\n",
       "0 & 0 & 0 & 0 & 0 & 0 & 0 & 0 & 0 & 0 & 0 & 0 & 0 & 0 & 0 & 0 & 0 & 0 & 0 & 0 & 0 & 0 & 0 & 0 & 0 & 0 & 0 & 0 & 0 & 0 & 0 & 0 & 0 & 0 & 0 & 0 & 0 & 0 & 0 & 0 & 0 & 0 & 0 & 0 & 0 & 0 & 0 & 0 & 0 & 0 & 1 & 0 & 0 & 0 & 0 & 0 & 0 & 0 & 0 & 0 & 0 & 0 & 0 & 0 & 0 & 0 & 0 & 0 & 0 & 0 & 0 & 0 \\\\\n",
       "0 & 0 & 0 & 0 & 0 & 0 & 0 & 0 & 0 & 0 & 0 & 0 & 0 & 0 & 0 & 0 & 0 & 0 & 0 & 0 & 0 & 0 & 0 & 0 & 0 & 0 & 0 & 0 & 0 & 0 & 0 & 0 & 0 & 0 & 0 & 0 & 0 & 0 & 0 & 0 & 0 & 0 & 0 & 1 & 0 & 0 & 0 & 0 & 0 & 0 & 0 & 0 & 0 & 0 & 0 & 0 & 0 & 0 & 0 & 0 & 0 & 0 & 0 & 0 & 0 & 0 & 0 & 0 & 0 & 0 & 0 & 0 \\\\\n",
       "0 & 0 & 0 & 0 & 0 & 0 & 0 & 0 & 0 & 0 & 0 & 0 & 0 & 0 & 0 & 0 & 0 & 0 & 0 & 0 & 0 & 0 & 0 & 0 & 0 & 0 & 0 & 1 & 0 & 0 & 0 & 0 & 0 & 0 & 0 & 0 & 0 & 0 & 0 & 0 & 0 & 0 & 0 & 0 & 0 & 0 & 0 & 0 & 0 & 0 & 0 & 0 & 0 & 0 & 0 & 0 & 0 & 0 & 0 & 0 & 0 & 0 & 0 & 0 & 0 & 0 & 0 & 0 & 0 & 0 & 0 & 0 \\\\\n",
       "0 & 0 & 0 & 0 & 0 & 0 & 0 & 0 & 0 & 0 & 0 & 0 & 0 & 0 & 0 & 0 & 0 & 0 & 0 & 0 & 0 & 0 & 0 & 0 & 0 & 0 & 0 & 0 & 0 & 0 & 0 & 0 & 1 & 0 & 0 & 0 & 0 & 0 & 0 & 0 & 0 & 0 & 0 & 0 & 0 & 0 & 0 & 0 & 0 & 0 & 0 & 0 & 0 & 0 & 0 & 0 & 0 & 0 & 0 & 0 & 0 & 0 & 0 & 0 & 0 & 0 & 0 & 0 & 0 & 0 & 0 & 0 \\\\\n",
       "0 & 0 & 0 & 0 & 0 & 0 & 0 & 0 & 0 & 0 & 0 & 0 & 0 & 0 & 0 & 0 & 0 & 0 & 0 & 0 & 0 & 0 & 0 & 0 & 0 & 0 & 0 & 0 & 0 & 0 & 0 & 0 & 0 & 0 & 0 & 0 & 0 & 0 & 0 & 0 & 0 & 0 & 0 & 0 & 0 & 0 & 0 & 0 & 0 & 0 & 0 & 0 & 0 & 0 & 1 & 0 & 0 & 0 & 0 & 0 & 0 & 0 & 0 & 0 & 0 & 0 & 0 & 0 & 0 & 0 & 0 & 0 \\\\\n",
       "0 & 0 & 0 & 0 & 0 & 0 & 0 & 0 & 0 & 0 & 0 & 0 & 0 & 0 & 0 & 0 & 0 & 0 & 0 & 0 & 0 & 0 & 0 & 0 & 0 & 0 & 0 & 0 & 0 & 0 & 0 & 0 & 0 & 0 & 0 & 0 & 0 & 0 & 0 & 0 & 0 & 0 & 0 & 0 & 0 & 0 & 0 & 0 & 0 & 0 & 0 & 0 & 0 & 0 & 0 & 1 & 0 & 0 & 0 & 0 & 0 & 0 & 0 & 0 & 0 & 0 & 0 & 0 & 0 & 0 & 0 & 0 \\\\\n",
       "0 & 0 & 0 & 0 & 0 & 0 & 0 & 0 & 0 & 0 & 0 & 0 & 0 & 0 & 0 & 0 & 0 & 0 & 0 & 0 & 0 & 0 & 0 & 0 & 0 & 0 & 0 & 0 & 0 & 0 & 0 & 0 & 0 & 0 & 0 & 0 & 0 & 0 & 0 & 0 & 0 & 0 & 0 & 0 & 0 & 0 & 0 & 0 & 0 & 0 & 0 & 0 & 0 & 0 & 0 & 0 & 0 & 0 & 1 & 0 & 0 & 0 & 0 & 0 & 0 & 0 & 0 & 0 & 0 & 0 & 0 & 0 \\\\\n",
       "0 & 0 & 0 & 0 & 0 & 0 & 0 & 0 & 0 & 0 & 0 & 0 & 0 & 0 & 0 & 0 & 0 & 0 & 0 & 0 & 0 & 0 & 0 & 0 & 0 & 0 & 0 & 0 & 0 & 0 & 0 & 0 & 0 & 0 & 0 & 0 & 0 & 0 & 0 & 0 & 0 & 0 & 0 & 0 & 0 & 0 & 0 & 0 & 0 & 0 & 0 & 0 & 0 & 0 & 0 & 0 & 0 & 0 & 0 & 1 & 0 & 0 & 0 & 0 & 0 & 0 & 0 & 0 & 0 & 0 & 0 & 0 \\\\\n",
       "0 & 0 & 0 & 0 & 0 & 0 & 0 & 0 & 0 & 0 & 0 & 0 & 0 & 0 & 0 & 0 & 0 & 0 & 0 & 0 & 0 & 0 & 0 & 0 & 0 & 0 & 0 & 0 & 0 & 0 & 0 & 0 & 0 & 0 & 0 & 0 & 0 & 0 & 0 & 0 & 0 & 0 & 0 & 0 & 0 & 0 & 0 & 0 & 0 & 0 & 0 & 0 & 0 & 0 & 0 & 0 & 1 & 0 & 0 & 0 & 0 & 0 & 0 & 0 & 0 & 0 & 0 & 0 & 0 & 0 & 0 & 0 \\\\\n",
       "0 & 0 & 0 & 0 & 0 & 0 & 0 & 0 & 0 & 0 & 0 & 0 & 0 & 0 & 0 & 0 & 0 & 0 & 0 & 0 & 0 & 0 & 0 & 0 & 0 & 0 & 0 & 0 & 0 & 0 & 0 & 0 & 0 & 0 & 0 & 0 & 0 & 0 & 0 & 0 & 0 & 0 & 0 & 0 & 0 & 0 & 0 & 0 & 0 & 0 & 0 & 0 & 0 & 0 & 0 & 0 & 0 & 1 & 0 & 0 & 0 & 0 & 0 & 0 & 0 & 0 & 0 & 0 & 0 & 0 & 0 & 0 \\\\\n",
       "0 & 0 & 0 & 0 & 0 & 0 & 0 & 0 & 0 & 0 & 0 & 0 & 0 & 0 & 0 & 0 & 0 & 0 & 0 & 0 & 0 & 0 & 0 & 0 & 0 & 0 & 0 & 0 & 0 & 0 & 0 & 0 & 0 & 0 & 0 & 0 & 0 & 0 & 0 & 0 & 0 & 0 & 0 & 0 & 0 & 0 & 0 & 0 & 0 & 0 & 0 & 0 & 0 & 0 & 0 & 0 & 0 & 0 & 0 & 0 & 0 & 0 & 0 & 0 & 0 & 0 & 1 & 0 & 0 & 0 & 0 & 0 \\\\\n",
       "0 & 0 & 0 & 0 & 0 & 0 & 0 & 0 & 0 & 0 & 0 & 0 & 0 & 0 & 0 & 0 & 0 & 0 & 0 & 0 & 0 & 0 & 0 & 0 & 0 & 0 & 0 & 0 & 0 & 0 & 0 & 0 & 0 & 0 & 0 & 0 & 0 & 0 & 0 & 0 & 0 & 0 & 0 & 0 & 0 & 0 & 0 & 0 & 0 & 0 & 0 & 0 & 0 & 0 & 0 & 0 & 0 & 0 & 0 & 0 & 0 & 0 & 0 & 0 & 0 & 0 & 0 & 1 & 0 & 0 & 0 & 0 \\\\\n",
       "0 & 0 & 0 & 0 & 0 & 0 & 0 & 0 & 0 & 0 & 0 & 0 & 0 & 0 & 0 & 0 & 0 & 0 & 0 & 0 & 0 & 0 & 0 & 0 & 0 & 0 & 0 & 0 & 0 & 0 & 0 & 0 & 0 & 0 & 0 & 0 & 0 & 0 & 0 & 0 & 0 & 0 & 0 & 0 & 0 & 0 & 0 & 0 & 0 & 0 & 0 & 0 & 0 & 0 & 0 & 0 & 0 & 0 & 0 & 0 & 0 & 0 & 0 & 0 & 0 & 0 & 0 & 0 & 0 & 0 & 1 & 0 \\\\\n",
       "0 & 0 & 0 & 0 & 0 & 0 & 0 & 0 & 0 & 0 & 0 & 0 & 0 & 0 & 0 & 0 & 0 & 0 & 0 & 0 & 0 & 0 & 0 & 0 & 0 & 0 & 0 & 0 & 0 & 0 & 0 & 0 & 0 & 0 & 0 & 0 & 0 & 0 & 0 & 0 & 0 & 0 & 0 & 0 & 0 & 0 & 0 & 0 & 0 & 0 & 0 & 0 & 0 & 0 & 0 & 0 & 0 & 0 & 0 & 0 & 0 & 0 & 0 & 0 & 0 & 0 & 0 & 0 & 0 & 0 & 0 & 1 \\\\\n",
       "0 & 0 & 0 & 0 & 0 & 0 & 0 & 0 & 0 & 0 & 0 & 0 & 0 & 0 & 0 & 0 & 0 & 0 & 0 & 0 & 0 & 0 & 0 & 0 & 0 & 0 & 0 & 0 & 0 & 0 & 0 & 0 & 0 & 0 & 0 & 0 & 0 & 0 & 0 & 0 & 0 & 0 & 0 & 0 & 0 & 0 & 0 & 0 & 0 & 0 & 0 & 0 & 0 & 0 & 0 & 0 & 0 & 0 & 0 & 0 & 0 & 0 & 0 & 0 & 0 & 0 & 0 & 0 & 1 & 0 & 0 & 0 \\\\\n",
       "0 & 0 & 0 & 0 & 0 & 0 & 0 & 0 & 0 & 0 & 0 & 0 & 0 & 0 & 0 & 0 & 0 & 0 & 0 & 0 & 0 & 0 & 0 & 0 & 0 & 0 & 0 & 0 & 0 & 0 & 0 & 0 & 0 & 0 & 0 & 0 & 0 & 0 & 0 & 0 & 0 & 0 & 0 & 0 & 0 & 0 & 0 & 0 & 0 & 0 & 0 & 0 & 0 & 0 & 0 & 0 & 0 & 0 & 0 & 0 & 0 & 0 & 0 & 0 & 0 & 0 & 0 & 0 & 0 & 1 & 0 & 0 \\\\\n",
       "0 & 0 & 0 & 0 & 0 & 0 & 0 & 0 & 0 & 0 & 0 & 0 & 0 & 0 & 0 & 0 & 0 & 0 & 0 & 0 & 0 & 0 & 0 & 0 & 0 & 0 & 0 & 0 & 0 & 0 & 0 & 0 & 0 & 0 & 0 & 0 & 0 & 0 & 0 & 0 & 0 & 0 & 0 & 0 & 0 & 0 & 0 & 0 & 0 & 0 & 0 & 0 & 0 & 0 & 0 & 0 & 0 & 0 & 0 & 0 & 1 & 0 & 0 & 0 & 0 & 0 & 0 & 0 & 0 & 0 & 0 & 0 \\\\\n",
       "0 & 0 & 0 & 0 & 0 & 0 & 0 & 0 & 0 & 0 & 0 & 0 & 0 & 0 & 0 & 0 & 0 & 0 & 0 & 0 & 0 & 0 & 0 & 0 & 0 & 0 & 0 & 0 & 0 & 0 & 0 & 0 & 0 & 0 & 0 & 0 & 0 & 0 & 0 & 0 & 0 & 0 & 0 & 0 & 0 & 0 & 0 & 0 & 0 & 0 & 0 & 0 & 0 & 0 & 0 & 0 & 0 & 0 & 0 & 0 & 0 & 1 & 0 & 0 & 0 & 0 & 0 & 0 & 0 & 0 & 0 & 0 \\\\\n",
       "0 & 0 & 0 & 0 & 0 & 0 & 0 & 0 & 0 & 0 & 0 & 0 & 0 & 0 & 0 & 0 & 0 & 0 & 0 & 0 & 0 & 0 & 0 & 0 & 0 & 0 & 0 & 0 & 0 & 0 & 0 & 0 & 0 & 0 & 0 & 0 & 0 & 0 & 0 & 0 & 0 & 0 & 0 & 0 & 0 & 0 & 0 & 0 & 0 & 0 & 0 & 0 & 0 & 0 & 0 & 0 & 0 & 0 & 0 & 0 & 0 & 0 & 0 & 0 & 1 & 0 & 0 & 0 & 0 & 0 & 0 & 0 \\\\\n",
       "0 & 0 & 0 & 0 & 0 & 0 & 0 & 0 & 0 & 0 & 0 & 0 & 0 & 0 & 0 & 0 & 0 & 0 & 0 & 0 & 0 & 0 & 0 & 0 & 0 & 0 & 0 & 0 & 0 & 0 & 0 & 0 & 0 & 0 & 0 & 0 & 0 & 0 & 0 & 0 & 0 & 0 & 0 & 0 & 0 & 0 & 0 & 0 & 0 & 0 & 0 & 0 & 0 & 0 & 0 & 0 & 0 & 0 & 0 & 0 & 0 & 0 & 0 & 0 & 0 & 1 & 0 & 0 & 0 & 0 & 0 & 0 \\\\\n",
       "0 & 0 & 0 & 0 & 0 & 0 & 0 & 0 & 0 & 0 & 0 & 0 & 0 & 0 & 0 & 0 & 0 & 0 & 0 & 0 & 0 & 0 & 0 & 0 & 0 & 0 & 0 & 0 & 0 & 0 & 0 & 0 & 0 & 0 & 0 & 0 & 0 & 0 & 0 & 0 & 0 & 0 & 0 & 0 & 0 & 0 & 0 & 0 & 0 & 0 & 0 & 0 & 0 & 0 & 0 & 0 & 0 & 0 & 0 & 0 & 0 & 0 & 1 & 0 & 0 & 0 & 0 & 0 & 0 & 0 & 0 & 0 \\\\\n",
       "0 & 0 & 0 & 0 & 0 & 0 & 0 & 0 & 0 & 0 & 0 & 0 & 0 & 0 & 0 & 0 & 0 & 0 & 0 & 0 & 0 & 0 & 0 & 0 & 0 & 0 & 0 & 0 & 0 & 0 & 0 & 0 & 0 & 0 & 0 & 0 & 0 & 0 & 0 & 0 & 0 & 0 & 0 & 0 & 0 & 0 & 0 & 0 & 0 & 0 & 0 & 0 & 0 & 0 & 0 & 0 & 0 & 0 & 0 & 0 & 0 & 0 & 0 & 1 & 0 & 0 & 0 & 0 & 0 & 0 & 0 & 0\n",
       "\\end{array}\\right)</script></html>"
      ],
      "text/plain": [
       "72 x 72 dense matrix over Cyclotomic Field of order 12 and degree 4 (use the '.str()' method to see the entries)"
      ]
     },
     "metadata": {},
     "output_type": "display_data"
    }
   ],
   "source": [
    "show((S*T)^3)"
   ]
  },
  {
   "cell_type": "code",
   "execution_count": 47,
   "metadata": {},
   "outputs": [
    {
     "data": {
      "text/plain": [
       "True"
      ]
     },
     "execution_count": 47,
     "metadata": {},
     "output_type": "execute_result"
    }
   ],
   "source": [
    "(S*T)^3 == S^2"
   ]
  },
  {
   "cell_type": "code",
   "execution_count": 48,
   "metadata": {},
   "outputs": [
    {
     "data": {
      "text/plain": [
       "\\left(\\begin{array}{rrrrrrrrrrrrrrrrrrrrrrrrrrrrrrrrrrrrrrrrrrrrrrrrrrrrrrrrrrrrrrrrrrrrrrrr}\n",
       "\\frac{1}{18} & \\frac{1}{18} & \\frac{1}{18} & \\frac{1}{18} & \\frac{1}{18} & \\frac{1}{18} & \\frac{1}{18} & \\frac{1}{18} & \\frac{1}{18} & \\frac{1}{18} & \\frac{1}{18} & \\frac{1}{18} & \\frac{1}{18} & \\frac{1}{18} & \\frac{1}{18} & \\frac{1}{18} & \\frac{1}{18} & \\frac{1}{18} & \\frac{1}{9} & \\frac{1}{9} & \\frac{1}{9} & \\frac{1}{9} & \\frac{1}{9} & \\frac{1}{9} & \\frac{1}{9} & \\frac{1}{9} & \\frac{1}{9} & \\frac{1}{9} & \\frac{1}{9} & \\frac{1}{9} & \\frac{1}{9} & \\frac{1}{9} & \\frac{1}{9} & \\frac{1}{9} & \\frac{1}{9} & \\frac{1}{9} & \\frac{1}{9} & \\frac{1}{9} & \\frac{1}{9} & \\frac{1}{9} & \\frac{1}{9} & \\frac{1}{9} & \\frac{1}{9} & \\frac{1}{9} & \\frac{1}{9} & \\frac{1}{9} & \\frac{1}{9} & \\frac{1}{9} & \\frac{1}{9} & \\frac{1}{9} & \\frac{1}{9} & \\frac{1}{9} & \\frac{1}{9} & \\frac{1}{9} & \\frac{1}{6} & \\frac{1}{6} & \\frac{1}{6} & \\frac{1}{6} & \\frac{1}{6} & \\frac{1}{6} & \\frac{1}{6} & \\frac{1}{6} & \\frac{1}{6} & \\frac{1}{6} & \\frac{1}{6} & \\frac{1}{6} & \\frac{1}{6} & \\frac{1}{6} & \\frac{1}{6} & \\frac{1}{6} & \\frac{1}{6} & \\frac{1}{6} \\\\\n",
       "\\frac{1}{18} & \\frac{1}{18} & \\frac{1}{18} & \\frac{1}{18} & \\frac{1}{18} & \\frac{1}{18} & \\frac{1}{18} & \\frac{1}{18} & \\frac{1}{18} & \\frac{1}{18} & \\frac{1}{18} & \\frac{1}{18} & \\frac{1}{18} & \\frac{1}{18} & \\frac{1}{18} & \\frac{1}{18} & \\frac{1}{18} & \\frac{1}{18} & \\frac{1}{9} & \\frac{1}{9} & \\frac{1}{9} & \\frac{1}{9} & \\frac{1}{9} & \\frac{1}{9} & \\frac{1}{9} & \\frac{1}{9} & \\frac{1}{9} & \\frac{1}{9} & \\frac{1}{9} & \\frac{1}{9} & \\frac{1}{9} & \\frac{1}{9} & \\frac{1}{9} & \\frac{1}{9} & \\frac{1}{9} & \\frac{1}{9} & \\frac{1}{9} & \\frac{1}{9} & \\frac{1}{9} & \\frac{1}{9} & \\frac{1}{9} & \\frac{1}{9} & \\frac{1}{9} & \\frac{1}{9} & \\frac{1}{9} & \\frac{1}{9} & \\frac{1}{9} & \\frac{1}{9} & \\frac{1}{9} & \\frac{1}{9} & \\frac{1}{9} & \\frac{1}{9} & \\frac{1}{9} & \\frac{1}{9} & -\\frac{1}{6} & -\\frac{1}{6} & -\\frac{1}{6} & -\\frac{1}{6} & -\\frac{1}{6} & -\\frac{1}{6} & -\\frac{1}{6} & -\\frac{1}{6} & -\\frac{1}{6} & -\\frac{1}{6} & -\\frac{1}{6} & -\\frac{1}{6} & -\\frac{1}{6} & -\\frac{1}{6} & -\\frac{1}{6} & -\\frac{1}{6} & -\\frac{1}{6} & -\\frac{1}{6} \\\\\n",
       "\\frac{1}{18} & \\frac{1}{18} & -\\frac{1}{18} \\zeta_{12}^{2} & -\\frac{1}{18} \\zeta_{12}^{2} & \\frac{1}{18} \\zeta_{12}^{2} - \\frac{1}{18} & \\frac{1}{18} \\zeta_{12}^{2} - \\frac{1}{18} & \\frac{1}{18} & \\frac{1}{18} & -\\frac{1}{18} \\zeta_{12}^{2} & -\\frac{1}{18} \\zeta_{12}^{2} & \\frac{1}{18} \\zeta_{12}^{2} - \\frac{1}{18} & \\frac{1}{18} \\zeta_{12}^{2} - \\frac{1}{18} & \\frac{1}{18} & \\frac{1}{18} & -\\frac{1}{18} \\zeta_{12}^{2} & -\\frac{1}{18} \\zeta_{12}^{2} & \\frac{1}{18} \\zeta_{12}^{2} - \\frac{1}{18} & \\frac{1}{18} \\zeta_{12}^{2} - \\frac{1}{18} & \\frac{1}{9} \\zeta_{12}^{2} - \\frac{1}{9} & -\\frac{1}{9} \\zeta_{12}^{2} & \\frac{1}{9} & \\frac{1}{9} & \\frac{1}{9} \\zeta_{12}^{2} - \\frac{1}{9} & -\\frac{1}{9} \\zeta_{12}^{2} & \\frac{1}{9} \\zeta_{12}^{2} - \\frac{1}{9} & -\\frac{1}{9} \\zeta_{12}^{2} & \\frac{1}{9} & \\frac{1}{9} \\zeta_{12}^{2} - \\frac{1}{9} & -\\frac{1}{9} \\zeta_{12}^{2} & \\frac{1}{9} & \\frac{1}{9} \\zeta_{12}^{2} - \\frac{1}{9} & -\\frac{1}{9} \\zeta_{12}^{2} & \\frac{1}{9} & \\frac{1}{9} & \\frac{1}{9} \\zeta_{12}^{2} - \\frac{1}{9} & -\\frac{1}{9} \\zeta_{12}^{2} & \\frac{1}{9} & \\frac{1}{9} \\zeta_{12}^{2} - \\frac{1}{9} & -\\frac{1}{9} \\zeta_{12}^{2} & \\frac{1}{9} \\zeta_{12}^{2} - \\frac{1}{9} & -\\frac{1}{9} \\zeta_{12}^{2} & \\frac{1}{9} & \\frac{1}{9} \\zeta_{12}^{2} - \\frac{1}{9} & -\\frac{1}{9} \\zeta_{12}^{2} & \\frac{1}{9} & \\frac{1}{9} \\zeta_{12}^{2} - \\frac{1}{9} & -\\frac{1}{9} \\zeta_{12}^{2} & \\frac{1}{9} & \\frac{1}{9} \\zeta_{12}^{2} - \\frac{1}{9} & -\\frac{1}{9} \\zeta_{12}^{2} & \\frac{1}{9} & \\frac{1}{9} \\zeta_{12}^{2} - \\frac{1}{9} & -\\frac{1}{9} \\zeta_{12}^{2} & \\frac{1}{9} & \\frac{1}{6} & \\frac{1}{6} & \\frac{1}{6} \\zeta_{12}^{2} - \\frac{1}{6} & \\frac{1}{6} \\zeta_{12}^{2} - \\frac{1}{6} & -\\frac{1}{6} \\zeta_{12}^{2} & -\\frac{1}{6} \\zeta_{12}^{2} & \\frac{1}{6} & \\frac{1}{6} & \\frac{1}{6} \\zeta_{12}^{2} - \\frac{1}{6} & \\frac{1}{6} \\zeta_{12}^{2} - \\frac{1}{6} & -\\frac{1}{6} \\zeta_{12}^{2} & -\\frac{1}{6} \\zeta_{12}^{2} & \\frac{1}{6} & \\frac{1}{6} & \\frac{1}{6} \\zeta_{12}^{2} - \\frac{1}{6} & \\frac{1}{6} \\zeta_{12}^{2} - \\frac{1}{6} & -\\frac{1}{6} \\zeta_{12}^{2} & -\\frac{1}{6} \\zeta_{12}^{2} \\\\\n",
       "\\frac{1}{18} & \\frac{1}{18} & -\\frac{1}{18} \\zeta_{12}^{2} & -\\frac{1}{18} \\zeta_{12}^{2} & \\frac{1}{18} \\zeta_{12}^{2} - \\frac{1}{18} & \\frac{1}{18} \\zeta_{12}^{2} - \\frac{1}{18} & \\frac{1}{18} & \\frac{1}{18} & -\\frac{1}{18} \\zeta_{12}^{2} & -\\frac{1}{18} \\zeta_{12}^{2} & \\frac{1}{18} \\zeta_{12}^{2} - \\frac{1}{18} & \\frac{1}{18} \\zeta_{12}^{2} - \\frac{1}{18} & \\frac{1}{18} & \\frac{1}{18} & -\\frac{1}{18} \\zeta_{12}^{2} & -\\frac{1}{18} \\zeta_{12}^{2} & \\frac{1}{18} \\zeta_{12}^{2} - \\frac{1}{18} & \\frac{1}{18} \\zeta_{12}^{2} - \\frac{1}{18} & \\frac{1}{9} \\zeta_{12}^{2} - \\frac{1}{9} & -\\frac{1}{9} \\zeta_{12}^{2} & \\frac{1}{9} & \\frac{1}{9} & \\frac{1}{9} \\zeta_{12}^{2} - \\frac{1}{9} & -\\frac{1}{9} \\zeta_{12}^{2} & \\frac{1}{9} \\zeta_{12}^{2} - \\frac{1}{9} & -\\frac{1}{9} \\zeta_{12}^{2} & \\frac{1}{9} & \\frac{1}{9} \\zeta_{12}^{2} - \\frac{1}{9} & -\\frac{1}{9} \\zeta_{12}^{2} & \\frac{1}{9} & \\frac{1}{9} \\zeta_{12}^{2} - \\frac{1}{9} & -\\frac{1}{9} \\zeta_{12}^{2} & \\frac{1}{9} & \\frac{1}{9} & \\frac{1}{9} \\zeta_{12}^{2} - \\frac{1}{9} & -\\frac{1}{9} \\zeta_{12}^{2} & \\frac{1}{9} & \\frac{1}{9} \\zeta_{12}^{2} - \\frac{1}{9} & -\\frac{1}{9} \\zeta_{12}^{2} & \\frac{1}{9} \\zeta_{12}^{2} - \\frac{1}{9} & -\\frac{1}{9} \\zeta_{12}^{2} & \\frac{1}{9} & \\frac{1}{9} \\zeta_{12}^{2} - \\frac{1}{9} & -\\frac{1}{9} \\zeta_{12}^{2} & \\frac{1}{9} & \\frac{1}{9} \\zeta_{12}^{2} - \\frac{1}{9} & -\\frac{1}{9} \\zeta_{12}^{2} & \\frac{1}{9} & \\frac{1}{9} \\zeta_{12}^{2} - \\frac{1}{9} & -\\frac{1}{9} \\zeta_{12}^{2} & \\frac{1}{9} & \\frac{1}{9} \\zeta_{12}^{2} - \\frac{1}{9} & -\\frac{1}{9} \\zeta_{12}^{2} & \\frac{1}{9} & -\\frac{1}{6} & -\\frac{1}{6} & -\\frac{1}{6} \\zeta_{12}^{2} + \\frac{1}{6} & -\\frac{1}{6} \\zeta_{12}^{2} + \\frac{1}{6} & \\frac{1}{6} \\zeta_{12}^{2} & \\frac{1}{6} \\zeta_{12}^{2} & -\\frac{1}{6} & -\\frac{1}{6} & -\\frac{1}{6} \\zeta_{12}^{2} + \\frac{1}{6} & -\\frac{1}{6} \\zeta_{12}^{2} + \\frac{1}{6} & \\frac{1}{6} \\zeta_{12}^{2} & \\frac{1}{6} \\zeta_{12}^{2} & -\\frac{1}{6} & -\\frac{1}{6} & -\\frac{1}{6} \\zeta_{12}^{2} + \\frac{1}{6} & -\\frac{1}{6} \\zeta_{12}^{2} + \\frac{1}{6} & \\frac{1}{6} \\zeta_{12}^{2} & \\frac{1}{6} \\zeta_{12}^{2} \\\\\n",
       "\\frac{1}{18} & \\frac{1}{18} & \\frac{1}{18} \\zeta_{12}^{2} - \\frac{1}{18} & \\frac{1}{18} \\zeta_{12}^{2} - \\frac{1}{18} & -\\frac{1}{18} \\zeta_{12}^{2} & -\\frac{1}{18} \\zeta_{12}^{2} & \\frac{1}{18} & \\frac{1}{18} & \\frac{1}{18} \\zeta_{12}^{2} - \\frac{1}{18} & \\frac{1}{18} \\zeta_{12}^{2} - \\frac{1}{18} & -\\frac{1}{18} \\zeta_{12}^{2} & -\\frac{1}{18} \\zeta_{12}^{2} & \\frac{1}{18} & \\frac{1}{18} & \\frac{1}{18} \\zeta_{12}^{2} - \\frac{1}{18} & \\frac{1}{18} \\zeta_{12}^{2} - \\frac{1}{18} & -\\frac{1}{18} \\zeta_{12}^{2} & -\\frac{1}{18} \\zeta_{12}^{2} & -\\frac{1}{9} \\zeta_{12}^{2} & \\frac{1}{9} \\zeta_{12}^{2} - \\frac{1}{9} & \\frac{1}{9} & \\frac{1}{9} & -\\frac{1}{9} \\zeta_{12}^{2} & \\frac{1}{9} \\zeta_{12}^{2} - \\frac{1}{9} & -\\frac{1}{9} \\zeta_{12}^{2} & \\frac{1}{9} \\zeta_{12}^{2} - \\frac{1}{9} & \\frac{1}{9} & -\\frac{1}{9} \\zeta_{12}^{2} & \\frac{1}{9} \\zeta_{12}^{2} - \\frac{1}{9} & \\frac{1}{9} & -\\frac{1}{9} \\zeta_{12}^{2} & \\frac{1}{9} \\zeta_{12}^{2} - \\frac{1}{9} & \\frac{1}{9} & \\frac{1}{9} & -\\frac{1}{9} \\zeta_{12}^{2} & \\frac{1}{9} \\zeta_{12}^{2} - \\frac{1}{9} & \\frac{1}{9} & -\\frac{1}{9} \\zeta_{12}^{2} & \\frac{1}{9} \\zeta_{12}^{2} - \\frac{1}{9} & -\\frac{1}{9} \\zeta_{12}^{2} & \\frac{1}{9} \\zeta_{12}^{2} - \\frac{1}{9} & \\frac{1}{9} & -\\frac{1}{9} \\zeta_{12}^{2} & \\frac{1}{9} \\zeta_{12}^{2} - \\frac{1}{9} & \\frac{1}{9} & -\\frac{1}{9} \\zeta_{12}^{2} & \\frac{1}{9} \\zeta_{12}^{2} - \\frac{1}{9} & \\frac{1}{9} & -\\frac{1}{9} \\zeta_{12}^{2} & \\frac{1}{9} \\zeta_{12}^{2} - \\frac{1}{9} & \\frac{1}{9} & -\\frac{1}{9} \\zeta_{12}^{2} & \\frac{1}{9} \\zeta_{12}^{2} - \\frac{1}{9} & \\frac{1}{9} & \\frac{1}{6} & \\frac{1}{6} & -\\frac{1}{6} \\zeta_{12}^{2} & -\\frac{1}{6} \\zeta_{12}^{2} & \\frac{1}{6} \\zeta_{12}^{2} - \\frac{1}{6} & \\frac{1}{6} \\zeta_{12}^{2} - \\frac{1}{6} & \\frac{1}{6} & \\frac{1}{6} & -\\frac{1}{6} \\zeta_{12}^{2} & -\\frac{1}{6} \\zeta_{12}^{2} & \\frac{1}{6} \\zeta_{12}^{2} - \\frac{1}{6} & \\frac{1}{6} \\zeta_{12}^{2} - \\frac{1}{6} & \\frac{1}{6} & \\frac{1}{6} & -\\frac{1}{6} \\zeta_{12}^{2} & -\\frac{1}{6} \\zeta_{12}^{2} & \\frac{1}{6} \\zeta_{12}^{2} - \\frac{1}{6} & \\frac{1}{6} \\zeta_{12}^{2} - \\frac{1}{6} \\\\\n",
       "\\frac{1}{18} & \\frac{1}{18} & \\frac{1}{18} \\zeta_{12}^{2} - \\frac{1}{18} & \\frac{1}{18} \\zeta_{12}^{2} - \\frac{1}{18} & -\\frac{1}{18} \\zeta_{12}^{2} & -\\frac{1}{18} \\zeta_{12}^{2} & \\frac{1}{18} & \\frac{1}{18} & \\frac{1}{18} \\zeta_{12}^{2} - \\frac{1}{18} & \\frac{1}{18} \\zeta_{12}^{2} - \\frac{1}{18} & -\\frac{1}{18} \\zeta_{12}^{2} & -\\frac{1}{18} \\zeta_{12}^{2} & \\frac{1}{18} & \\frac{1}{18} & \\frac{1}{18} \\zeta_{12}^{2} - \\frac{1}{18} & \\frac{1}{18} \\zeta_{12}^{2} - \\frac{1}{18} & -\\frac{1}{18} \\zeta_{12}^{2} & -\\frac{1}{18} \\zeta_{12}^{2} & -\\frac{1}{9} \\zeta_{12}^{2} & \\frac{1}{9} \\zeta_{12}^{2} - \\frac{1}{9} & \\frac{1}{9} & \\frac{1}{9} & -\\frac{1}{9} \\zeta_{12}^{2} & \\frac{1}{9} \\zeta_{12}^{2} - \\frac{1}{9} & -\\frac{1}{9} \\zeta_{12}^{2} & \\frac{1}{9} \\zeta_{12}^{2} - \\frac{1}{9} & \\frac{1}{9} & -\\frac{1}{9} \\zeta_{12}^{2} & \\frac{1}{9} \\zeta_{12}^{2} - \\frac{1}{9} & \\frac{1}{9} & -\\frac{1}{9} \\zeta_{12}^{2} & \\frac{1}{9} \\zeta_{12}^{2} - \\frac{1}{9} & \\frac{1}{9} & \\frac{1}{9} & -\\frac{1}{9} \\zeta_{12}^{2} & \\frac{1}{9} \\zeta_{12}^{2} - \\frac{1}{9} & \\frac{1}{9} & -\\frac{1}{9} \\zeta_{12}^{2} & \\frac{1}{9} \\zeta_{12}^{2} - \\frac{1}{9} & -\\frac{1}{9} \\zeta_{12}^{2} & \\frac{1}{9} \\zeta_{12}^{2} - \\frac{1}{9} & \\frac{1}{9} & -\\frac{1}{9} \\zeta_{12}^{2} & \\frac{1}{9} \\zeta_{12}^{2} - \\frac{1}{9} & \\frac{1}{9} & -\\frac{1}{9} \\zeta_{12}^{2} & \\frac{1}{9} \\zeta_{12}^{2} - \\frac{1}{9} & \\frac{1}{9} & -\\frac{1}{9} \\zeta_{12}^{2} & \\frac{1}{9} \\zeta_{12}^{2} - \\frac{1}{9} & \\frac{1}{9} & -\\frac{1}{9} \\zeta_{12}^{2} & \\frac{1}{9} \\zeta_{12}^{2} - \\frac{1}{9} & \\frac{1}{9} & -\\frac{1}{6} & -\\frac{1}{6} & \\frac{1}{6} \\zeta_{12}^{2} & \\frac{1}{6} \\zeta_{12}^{2} & -\\frac{1}{6} \\zeta_{12}^{2} + \\frac{1}{6} & -\\frac{1}{6} \\zeta_{12}^{2} + \\frac{1}{6} & -\\frac{1}{6} & -\\frac{1}{6} & \\frac{1}{6} \\zeta_{12}^{2} & \\frac{1}{6} \\zeta_{12}^{2} & -\\frac{1}{6} \\zeta_{12}^{2} + \\frac{1}{6} & -\\frac{1}{6} \\zeta_{12}^{2} + \\frac{1}{6} & -\\frac{1}{6} & -\\frac{1}{6} & \\frac{1}{6} \\zeta_{12}^{2} & \\frac{1}{6} \\zeta_{12}^{2} & -\\frac{1}{6} \\zeta_{12}^{2} + \\frac{1}{6} & -\\frac{1}{6} \\zeta_{12}^{2} + \\frac{1}{6} \\\\\n",
       "\\frac{1}{18} & \\frac{1}{18} & \\frac{1}{18} & \\frac{1}{18} & \\frac{1}{18} & \\frac{1}{18} & -\\frac{1}{18} \\zeta_{12}^{2} & -\\frac{1}{18} \\zeta_{12}^{2} & -\\frac{1}{18} \\zeta_{12}^{2} & -\\frac{1}{18} \\zeta_{12}^{2} & -\\frac{1}{18} \\zeta_{12}^{2} & -\\frac{1}{18} \\zeta_{12}^{2} & \\frac{1}{18} \\zeta_{12}^{2} - \\frac{1}{18} & \\frac{1}{18} \\zeta_{12}^{2} - \\frac{1}{18} & \\frac{1}{18} \\zeta_{12}^{2} - \\frac{1}{18} & \\frac{1}{18} \\zeta_{12}^{2} - \\frac{1}{18} & \\frac{1}{18} \\zeta_{12}^{2} - \\frac{1}{18} & \\frac{1}{18} \\zeta_{12}^{2} - \\frac{1}{18} & \\frac{1}{9} & \\frac{1}{9} & \\frac{1}{9} & \\frac{1}{9} \\zeta_{12}^{2} - \\frac{1}{9} & \\frac{1}{9} \\zeta_{12}^{2} - \\frac{1}{9} & \\frac{1}{9} \\zeta_{12}^{2} - \\frac{1}{9} & \\frac{1}{9} \\zeta_{12}^{2} - \\frac{1}{9} & \\frac{1}{9} \\zeta_{12}^{2} - \\frac{1}{9} & \\frac{1}{9} \\zeta_{12}^{2} - \\frac{1}{9} & -\\frac{1}{9} \\zeta_{12}^{2} & \\frac{1}{9} \\zeta_{12}^{2} - \\frac{1}{9} & \\frac{1}{9} \\zeta_{12}^{2} - \\frac{1}{9} & \\frac{1}{9} \\zeta_{12}^{2} - \\frac{1}{9} & -\\frac{1}{9} \\zeta_{12}^{2} & -\\frac{1}{9} \\zeta_{12}^{2} & -\\frac{1}{9} \\zeta_{12}^{2} & -\\frac{1}{9} \\zeta_{12}^{2} & -\\frac{1}{9} \\zeta_{12}^{2} & \\frac{1}{9} & \\frac{1}{9} & \\frac{1}{9} & -\\frac{1}{9} \\zeta_{12}^{2} & -\\frac{1}{9} \\zeta_{12}^{2} & -\\frac{1}{9} \\zeta_{12}^{2} & \\frac{1}{9} & \\frac{1}{9} & \\frac{1}{9} & \\frac{1}{9} \\zeta_{12}^{2} - \\frac{1}{9} & -\\frac{1}{9} \\zeta_{12}^{2} & -\\frac{1}{9} \\zeta_{12}^{2} & -\\frac{1}{9} \\zeta_{12}^{2} & \\frac{1}{9} & \\frac{1}{9} & \\frac{1}{9} & \\frac{1}{9} \\zeta_{12}^{2} - \\frac{1}{9} & \\frac{1}{9} \\zeta_{12}^{2} - \\frac{1}{9} & \\frac{1}{6} & \\frac{1}{6} & \\frac{1}{6} & \\frac{1}{6} & \\frac{1}{6} & \\frac{1}{6} & \\frac{1}{6} \\zeta_{12}^{2} - \\frac{1}{6} & \\frac{1}{6} \\zeta_{12}^{2} - \\frac{1}{6} & \\frac{1}{6} \\zeta_{12}^{2} - \\frac{1}{6} & \\frac{1}{6} \\zeta_{12}^{2} - \\frac{1}{6} & \\frac{1}{6} \\zeta_{12}^{2} - \\frac{1}{6} & \\frac{1}{6} \\zeta_{12}^{2} - \\frac{1}{6} & -\\frac{1}{6} \\zeta_{12}^{2} & -\\frac{1}{6} \\zeta_{12}^{2} & -\\frac{1}{6} \\zeta_{12}^{2} & -\\frac{1}{6} \\zeta_{12}^{2} & -\\frac{1}{6} \\zeta_{12}^{2} & -\\frac{1}{6} \\zeta_{12}^{2} \\\\\n",
       "\\frac{1}{18} & \\frac{1}{18} & \\frac{1}{18} & \\frac{1}{18} & \\frac{1}{18} & \\frac{1}{18} & -\\frac{1}{18} \\zeta_{12}^{2} & -\\frac{1}{18} \\zeta_{12}^{2} & -\\frac{1}{18} \\zeta_{12}^{2} & -\\frac{1}{18} \\zeta_{12}^{2} & -\\frac{1}{18} \\zeta_{12}^{2} & -\\frac{1}{18} \\zeta_{12}^{2} & \\frac{1}{18} \\zeta_{12}^{2} - \\frac{1}{18} & \\frac{1}{18} \\zeta_{12}^{2} - \\frac{1}{18} & \\frac{1}{18} \\zeta_{12}^{2} - \\frac{1}{18} & \\frac{1}{18} \\zeta_{12}^{2} - \\frac{1}{18} & \\frac{1}{18} \\zeta_{12}^{2} - \\frac{1}{18} & \\frac{1}{18} \\zeta_{12}^{2} - \\frac{1}{18} & \\frac{1}{9} & \\frac{1}{9} & \\frac{1}{9} & \\frac{1}{9} \\zeta_{12}^{2} - \\frac{1}{9} & \\frac{1}{9} \\zeta_{12}^{2} - \\frac{1}{9} & \\frac{1}{9} \\zeta_{12}^{2} - \\frac{1}{9} & \\frac{1}{9} \\zeta_{12}^{2} - \\frac{1}{9} & \\frac{1}{9} \\zeta_{12}^{2} - \\frac{1}{9} & \\frac{1}{9} \\zeta_{12}^{2} - \\frac{1}{9} & -\\frac{1}{9} \\zeta_{12}^{2} & \\frac{1}{9} \\zeta_{12}^{2} - \\frac{1}{9} & \\frac{1}{9} \\zeta_{12}^{2} - \\frac{1}{9} & \\frac{1}{9} \\zeta_{12}^{2} - \\frac{1}{9} & -\\frac{1}{9} \\zeta_{12}^{2} & -\\frac{1}{9} \\zeta_{12}^{2} & -\\frac{1}{9} \\zeta_{12}^{2} & -\\frac{1}{9} \\zeta_{12}^{2} & -\\frac{1}{9} \\zeta_{12}^{2} & \\frac{1}{9} & \\frac{1}{9} & \\frac{1}{9} & -\\frac{1}{9} \\zeta_{12}^{2} & -\\frac{1}{9} \\zeta_{12}^{2} & -\\frac{1}{9} \\zeta_{12}^{2} & \\frac{1}{9} & \\frac{1}{9} & \\frac{1}{9} & \\frac{1}{9} \\zeta_{12}^{2} - \\frac{1}{9} & -\\frac{1}{9} \\zeta_{12}^{2} & -\\frac{1}{9} \\zeta_{12}^{2} & -\\frac{1}{9} \\zeta_{12}^{2} & \\frac{1}{9} & \\frac{1}{9} & \\frac{1}{9} & \\frac{1}{9} \\zeta_{12}^{2} - \\frac{1}{9} & \\frac{1}{9} \\zeta_{12}^{2} - \\frac{1}{9} & -\\frac{1}{6} & -\\frac{1}{6} & -\\frac{1}{6} & -\\frac{1}{6} & -\\frac{1}{6} & -\\frac{1}{6} & -\\frac{1}{6} \\zeta_{12}^{2} + \\frac{1}{6} & -\\frac{1}{6} \\zeta_{12}^{2} + \\frac{1}{6} & -\\frac{1}{6} \\zeta_{12}^{2} + \\frac{1}{6} & -\\frac{1}{6} \\zeta_{12}^{2} + \\frac{1}{6} & -\\frac{1}{6} \\zeta_{12}^{2} + \\frac{1}{6} & -\\frac{1}{6} \\zeta_{12}^{2} + \\frac{1}{6} & \\frac{1}{6} \\zeta_{12}^{2} & \\frac{1}{6} \\zeta_{12}^{2} & \\frac{1}{6} \\zeta_{12}^{2} & \\frac{1}{6} \\zeta_{12}^{2} & \\frac{1}{6} \\zeta_{12}^{2} & \\frac{1}{6} \\zeta_{12}^{2} \\\\\n",
       "\\frac{1}{18} & \\frac{1}{18} & -\\frac{1}{18} \\zeta_{12}^{2} & -\\frac{1}{18} \\zeta_{12}^{2} & \\frac{1}{18} \\zeta_{12}^{2} - \\frac{1}{18} & \\frac{1}{18} \\zeta_{12}^{2} - \\frac{1}{18} & -\\frac{1}{18} \\zeta_{12}^{2} & -\\frac{1}{18} \\zeta_{12}^{2} & \\frac{1}{18} \\zeta_{12}^{2} - \\frac{1}{18} & \\frac{1}{18} \\zeta_{12}^{2} - \\frac{1}{18} & \\frac{1}{18} & \\frac{1}{18} & \\frac{1}{18} \\zeta_{12}^{2} - \\frac{1}{18} & \\frac{1}{18} \\zeta_{12}^{2} - \\frac{1}{18} & \\frac{1}{18} & \\frac{1}{18} & -\\frac{1}{18} \\zeta_{12}^{2} & -\\frac{1}{18} \\zeta_{12}^{2} & \\frac{1}{9} \\zeta_{12}^{2} - \\frac{1}{9} & -\\frac{1}{9} \\zeta_{12}^{2} & \\frac{1}{9} & \\frac{1}{9} \\zeta_{12}^{2} - \\frac{1}{9} & -\\frac{1}{9} \\zeta_{12}^{2} & \\frac{1}{9} & -\\frac{1}{9} \\zeta_{12}^{2} & \\frac{1}{9} & \\frac{1}{9} \\zeta_{12}^{2} - \\frac{1}{9} & \\frac{1}{9} & \\frac{1}{9} & \\frac{1}{9} \\zeta_{12}^{2} - \\frac{1}{9} & -\\frac{1}{9} \\zeta_{12}^{2} & \\frac{1}{9} \\zeta_{12}^{2} - \\frac{1}{9} & -\\frac{1}{9} \\zeta_{12}^{2} & -\\frac{1}{9} \\zeta_{12}^{2} & \\frac{1}{9} & \\frac{1}{9} \\zeta_{12}^{2} - \\frac{1}{9} & \\frac{1}{9} & \\frac{1}{9} \\zeta_{12}^{2} - \\frac{1}{9} & -\\frac{1}{9} \\zeta_{12}^{2} & \\frac{1}{9} & \\frac{1}{9} \\zeta_{12}^{2} - \\frac{1}{9} & -\\frac{1}{9} \\zeta_{12}^{2} & \\frac{1}{9} \\zeta_{12}^{2} - \\frac{1}{9} & -\\frac{1}{9} \\zeta_{12}^{2} & \\frac{1}{9} & -\\frac{1}{9} \\zeta_{12}^{2} & \\frac{1}{9} \\zeta_{12}^{2} - \\frac{1}{9} & -\\frac{1}{9} \\zeta_{12}^{2} & \\frac{1}{9} & -\\frac{1}{9} \\zeta_{12}^{2} & \\frac{1}{9} & \\frac{1}{9} \\zeta_{12}^{2} - \\frac{1}{9} & \\frac{1}{9} & \\frac{1}{9} \\zeta_{12}^{2} - \\frac{1}{9} & \\frac{1}{6} & \\frac{1}{6} & \\frac{1}{6} \\zeta_{12}^{2} - \\frac{1}{6} & \\frac{1}{6} \\zeta_{12}^{2} - \\frac{1}{6} & -\\frac{1}{6} \\zeta_{12}^{2} & -\\frac{1}{6} \\zeta_{12}^{2} & \\frac{1}{6} \\zeta_{12}^{2} - \\frac{1}{6} & \\frac{1}{6} \\zeta_{12}^{2} - \\frac{1}{6} & -\\frac{1}{6} \\zeta_{12}^{2} & -\\frac{1}{6} \\zeta_{12}^{2} & \\frac{1}{6} & \\frac{1}{6} & -\\frac{1}{6} \\zeta_{12}^{2} & -\\frac{1}{6} \\zeta_{12}^{2} & \\frac{1}{6} & \\frac{1}{6} & \\frac{1}{6} \\zeta_{12}^{2} - \\frac{1}{6} & \\frac{1}{6} \\zeta_{12}^{2} - \\frac{1}{6} \\\\\n",
       "\\frac{1}{18} & \\frac{1}{18} & -\\frac{1}{18} \\zeta_{12}^{2} & -\\frac{1}{18} \\zeta_{12}^{2} & \\frac{1}{18} \\zeta_{12}^{2} - \\frac{1}{18} & \\frac{1}{18} \\zeta_{12}^{2} - \\frac{1}{18} & -\\frac{1}{18} \\zeta_{12}^{2} & -\\frac{1}{18} \\zeta_{12}^{2} & \\frac{1}{18} \\zeta_{12}^{2} - \\frac{1}{18} & \\frac{1}{18} \\zeta_{12}^{2} - \\frac{1}{18} & \\frac{1}{18} & \\frac{1}{18} & \\frac{1}{18} \\zeta_{12}^{2} - \\frac{1}{18} & \\frac{1}{18} \\zeta_{12}^{2} - \\frac{1}{18} & \\frac{1}{18} & \\frac{1}{18} & -\\frac{1}{18} \\zeta_{12}^{2} & -\\frac{1}{18} \\zeta_{12}^{2} & \\frac{1}{9} \\zeta_{12}^{2} - \\frac{1}{9} & -\\frac{1}{9} \\zeta_{12}^{2} & \\frac{1}{9} & \\frac{1}{9} \\zeta_{12}^{2} - \\frac{1}{9} & -\\frac{1}{9} \\zeta_{12}^{2} & \\frac{1}{9} & -\\frac{1}{9} \\zeta_{12}^{2} & \\frac{1}{9} & \\frac{1}{9} \\zeta_{12}^{2} - \\frac{1}{9} & \\frac{1}{9} & \\frac{1}{9} & \\frac{1}{9} \\zeta_{12}^{2} - \\frac{1}{9} & -\\frac{1}{9} \\zeta_{12}^{2} & \\frac{1}{9} \\zeta_{12}^{2} - \\frac{1}{9} & -\\frac{1}{9} \\zeta_{12}^{2} & -\\frac{1}{9} \\zeta_{12}^{2} & \\frac{1}{9} & \\frac{1}{9} \\zeta_{12}^{2} - \\frac{1}{9} & \\frac{1}{9} & \\frac{1}{9} \\zeta_{12}^{2} - \\frac{1}{9} & -\\frac{1}{9} \\zeta_{12}^{2} & \\frac{1}{9} & \\frac{1}{9} \\zeta_{12}^{2} - \\frac{1}{9} & -\\frac{1}{9} \\zeta_{12}^{2} & \\frac{1}{9} \\zeta_{12}^{2} - \\frac{1}{9} & -\\frac{1}{9} \\zeta_{12}^{2} & \\frac{1}{9} & -\\frac{1}{9} \\zeta_{12}^{2} & \\frac{1}{9} \\zeta_{12}^{2} - \\frac{1}{9} & -\\frac{1}{9} \\zeta_{12}^{2} & \\frac{1}{9} & -\\frac{1}{9} \\zeta_{12}^{2} & \\frac{1}{9} & \\frac{1}{9} \\zeta_{12}^{2} - \\frac{1}{9} & \\frac{1}{9} & \\frac{1}{9} \\zeta_{12}^{2} - \\frac{1}{9} & -\\frac{1}{6} & -\\frac{1}{6} & -\\frac{1}{6} \\zeta_{12}^{2} + \\frac{1}{6} & -\\frac{1}{6} \\zeta_{12}^{2} + \\frac{1}{6} & \\frac{1}{6} \\zeta_{12}^{2} & \\frac{1}{6} \\zeta_{12}^{2} & -\\frac{1}{6} \\zeta_{12}^{2} + \\frac{1}{6} & -\\frac{1}{6} \\zeta_{12}^{2} + \\frac{1}{6} & \\frac{1}{6} \\zeta_{12}^{2} & \\frac{1}{6} \\zeta_{12}^{2} & -\\frac{1}{6} & -\\frac{1}{6} & \\frac{1}{6} \\zeta_{12}^{2} & \\frac{1}{6} \\zeta_{12}^{2} & -\\frac{1}{6} & -\\frac{1}{6} & -\\frac{1}{6} \\zeta_{12}^{2} + \\frac{1}{6} & -\\frac{1}{6} \\zeta_{12}^{2} + \\frac{1}{6} \\\\\n",
       "\\frac{1}{18} & \\frac{1}{18} & \\frac{1}{18} \\zeta_{12}^{2} - \\frac{1}{18} & \\frac{1}{18} \\zeta_{12}^{2} - \\frac{1}{18} & -\\frac{1}{18} \\zeta_{12}^{2} & -\\frac{1}{18} \\zeta_{12}^{2} & -\\frac{1}{18} \\zeta_{12}^{2} & -\\frac{1}{18} \\zeta_{12}^{2} & \\frac{1}{18} & \\frac{1}{18} & \\frac{1}{18} \\zeta_{12}^{2} - \\frac{1}{18} & \\frac{1}{18} \\zeta_{12}^{2} - \\frac{1}{18} & \\frac{1}{18} \\zeta_{12}^{2} - \\frac{1}{18} & \\frac{1}{18} \\zeta_{12}^{2} - \\frac{1}{18} & -\\frac{1}{18} \\zeta_{12}^{2} & -\\frac{1}{18} \\zeta_{12}^{2} & \\frac{1}{18} & \\frac{1}{18} & -\\frac{1}{9} \\zeta_{12}^{2} & \\frac{1}{9} \\zeta_{12}^{2} - \\frac{1}{9} & \\frac{1}{9} & \\frac{1}{9} \\zeta_{12}^{2} - \\frac{1}{9} & \\frac{1}{9} & -\\frac{1}{9} \\zeta_{12}^{2} & \\frac{1}{9} & -\\frac{1}{9} \\zeta_{12}^{2} & \\frac{1}{9} \\zeta_{12}^{2} - \\frac{1}{9} & \\frac{1}{9} \\zeta_{12}^{2} - \\frac{1}{9} & -\\frac{1}{9} \\zeta_{12}^{2} & \\frac{1}{9} \\zeta_{12}^{2} - \\frac{1}{9} & \\frac{1}{9} & \\frac{1}{9} & -\\frac{1}{9} \\zeta_{12}^{2} & -\\frac{1}{9} \\zeta_{12}^{2} & \\frac{1}{9} \\zeta_{12}^{2} - \\frac{1}{9} & \\frac{1}{9} & \\frac{1}{9} & -\\frac{1}{9} \\zeta_{12}^{2} & \\frac{1}{9} \\zeta_{12}^{2} - \\frac{1}{9} & \\frac{1}{9} \\zeta_{12}^{2} - \\frac{1}{9} & \\frac{1}{9} & -\\frac{1}{9} \\zeta_{12}^{2} & -\\frac{1}{9} \\zeta_{12}^{2} & \\frac{1}{9} \\zeta_{12}^{2} - \\frac{1}{9} & \\frac{1}{9} & \\frac{1}{9} & \\frac{1}{9} & -\\frac{1}{9} \\zeta_{12}^{2} & \\frac{1}{9} \\zeta_{12}^{2} - \\frac{1}{9} & \\frac{1}{9} \\zeta_{12}^{2} - \\frac{1}{9} & \\frac{1}{9} & -\\frac{1}{9} \\zeta_{12}^{2} & -\\frac{1}{9} \\zeta_{12}^{2} & \\frac{1}{9} \\zeta_{12}^{2} - \\frac{1}{9} & \\frac{1}{6} & \\frac{1}{6} & -\\frac{1}{6} \\zeta_{12}^{2} & -\\frac{1}{6} \\zeta_{12}^{2} & \\frac{1}{6} \\zeta_{12}^{2} - \\frac{1}{6} & \\frac{1}{6} \\zeta_{12}^{2} - \\frac{1}{6} & \\frac{1}{6} \\zeta_{12}^{2} - \\frac{1}{6} & \\frac{1}{6} \\zeta_{12}^{2} - \\frac{1}{6} & \\frac{1}{6} & \\frac{1}{6} & -\\frac{1}{6} \\zeta_{12}^{2} & -\\frac{1}{6} \\zeta_{12}^{2} & -\\frac{1}{6} \\zeta_{12}^{2} & -\\frac{1}{6} \\zeta_{12}^{2} & \\frac{1}{6} \\zeta_{12}^{2} - \\frac{1}{6} & \\frac{1}{6} \\zeta_{12}^{2} - \\frac{1}{6} & \\frac{1}{6} & \\frac{1}{6} \\\\\n",
       "\\frac{1}{18} & \\frac{1}{18} & \\frac{1}{18} \\zeta_{12}^{2} - \\frac{1}{18} & \\frac{1}{18} \\zeta_{12}^{2} - \\frac{1}{18} & -\\frac{1}{18} \\zeta_{12}^{2} & -\\frac{1}{18} \\zeta_{12}^{2} & -\\frac{1}{18} \\zeta_{12}^{2} & -\\frac{1}{18} \\zeta_{12}^{2} & \\frac{1}{18} & \\frac{1}{18} & \\frac{1}{18} \\zeta_{12}^{2} - \\frac{1}{18} & \\frac{1}{18} \\zeta_{12}^{2} - \\frac{1}{18} & \\frac{1}{18} \\zeta_{12}^{2} - \\frac{1}{18} & \\frac{1}{18} \\zeta_{12}^{2} - \\frac{1}{18} & -\\frac{1}{18} \\zeta_{12}^{2} & -\\frac{1}{18} \\zeta_{12}^{2} & \\frac{1}{18} & \\frac{1}{18} & -\\frac{1}{9} \\zeta_{12}^{2} & \\frac{1}{9} \\zeta_{12}^{2} - \\frac{1}{9} & \\frac{1}{9} & \\frac{1}{9} \\zeta_{12}^{2} - \\frac{1}{9} & \\frac{1}{9} & -\\frac{1}{9} \\zeta_{12}^{2} & \\frac{1}{9} & -\\frac{1}{9} \\zeta_{12}^{2} & \\frac{1}{9} \\zeta_{12}^{2} - \\frac{1}{9} & \\frac{1}{9} \\zeta_{12}^{2} - \\frac{1}{9} & -\\frac{1}{9} \\zeta_{12}^{2} & \\frac{1}{9} \\zeta_{12}^{2} - \\frac{1}{9} & \\frac{1}{9} & \\frac{1}{9} & -\\frac{1}{9} \\zeta_{12}^{2} & -\\frac{1}{9} \\zeta_{12}^{2} & \\frac{1}{9} \\zeta_{12}^{2} - \\frac{1}{9} & \\frac{1}{9} & \\frac{1}{9} & -\\frac{1}{9} \\zeta_{12}^{2} & \\frac{1}{9} \\zeta_{12}^{2} - \\frac{1}{9} & \\frac{1}{9} \\zeta_{12}^{2} - \\frac{1}{9} & \\frac{1}{9} & -\\frac{1}{9} \\zeta_{12}^{2} & -\\frac{1}{9} \\zeta_{12}^{2} & \\frac{1}{9} \\zeta_{12}^{2} - \\frac{1}{9} & \\frac{1}{9} & \\frac{1}{9} & \\frac{1}{9} & -\\frac{1}{9} \\zeta_{12}^{2} & \\frac{1}{9} \\zeta_{12}^{2} - \\frac{1}{9} & \\frac{1}{9} \\zeta_{12}^{2} - \\frac{1}{9} & \\frac{1}{9} & -\\frac{1}{9} \\zeta_{12}^{2} & -\\frac{1}{9} \\zeta_{12}^{2} & \\frac{1}{9} \\zeta_{12}^{2} - \\frac{1}{9} & -\\frac{1}{6} & -\\frac{1}{6} & \\frac{1}{6} \\zeta_{12}^{2} & \\frac{1}{6} \\zeta_{12}^{2} & -\\frac{1}{6} \\zeta_{12}^{2} + \\frac{1}{6} & -\\frac{1}{6} \\zeta_{12}^{2} + \\frac{1}{6} & -\\frac{1}{6} \\zeta_{12}^{2} + \\frac{1}{6} & -\\frac{1}{6} \\zeta_{12}^{2} + \\frac{1}{6} & -\\frac{1}{6} & -\\frac{1}{6} & \\frac{1}{6} \\zeta_{12}^{2} & \\frac{1}{6} \\zeta_{12}^{2} & \\frac{1}{6} \\zeta_{12}^{2} & \\frac{1}{6} \\zeta_{12}^{2} & -\\frac{1}{6} \\zeta_{12}^{2} + \\frac{1}{6} & -\\frac{1}{6} \\zeta_{12}^{2} + \\frac{1}{6} & -\\frac{1}{6} & -\\frac{1}{6} \\\\\n",
       "\\frac{1}{18} & \\frac{1}{18} & \\frac{1}{18} & \\frac{1}{18} & \\frac{1}{18} & \\frac{1}{18} & \\frac{1}{18} \\zeta_{12}^{2} - \\frac{1}{18} & \\frac{1}{18} \\zeta_{12}^{2} - \\frac{1}{18} & \\frac{1}{18} \\zeta_{12}^{2} - \\frac{1}{18} & \\frac{1}{18} \\zeta_{12}^{2} - \\frac{1}{18} & \\frac{1}{18} \\zeta_{12}^{2} - \\frac{1}{18} & \\frac{1}{18} \\zeta_{12}^{2} - \\frac{1}{18} & -\\frac{1}{18} \\zeta_{12}^{2} & -\\frac{1}{18} \\zeta_{12}^{2} & -\\frac{1}{18} \\zeta_{12}^{2} & -\\frac{1}{18} \\zeta_{12}^{2} & -\\frac{1}{18} \\zeta_{12}^{2} & -\\frac{1}{18} \\zeta_{12}^{2} & \\frac{1}{9} & \\frac{1}{9} & \\frac{1}{9} & -\\frac{1}{9} \\zeta_{12}^{2} & -\\frac{1}{9} \\zeta_{12}^{2} & -\\frac{1}{9} \\zeta_{12}^{2} & -\\frac{1}{9} \\zeta_{12}^{2} & -\\frac{1}{9} \\zeta_{12}^{2} & -\\frac{1}{9} \\zeta_{12}^{2} & \\frac{1}{9} \\zeta_{12}^{2} - \\frac{1}{9} & -\\frac{1}{9} \\zeta_{12}^{2} & -\\frac{1}{9} \\zeta_{12}^{2} & -\\frac{1}{9} \\zeta_{12}^{2} & \\frac{1}{9} \\zeta_{12}^{2} - \\frac{1}{9} & \\frac{1}{9} \\zeta_{12}^{2} - \\frac{1}{9} & \\frac{1}{9} \\zeta_{12}^{2} - \\frac{1}{9} & \\frac{1}{9} \\zeta_{12}^{2} - \\frac{1}{9} & \\frac{1}{9} \\zeta_{12}^{2} - \\frac{1}{9} & \\frac{1}{9} & \\frac{1}{9} & \\frac{1}{9} & \\frac{1}{9} \\zeta_{12}^{2} - \\frac{1}{9} & \\frac{1}{9} \\zeta_{12}^{2} - \\frac{1}{9} & \\frac{1}{9} \\zeta_{12}^{2} - \\frac{1}{9} & \\frac{1}{9} & \\frac{1}{9} & \\frac{1}{9} & -\\frac{1}{9} \\zeta_{12}^{2} & \\frac{1}{9} \\zeta_{12}^{2} - \\frac{1}{9} & \\frac{1}{9} \\zeta_{12}^{2} - \\frac{1}{9} & \\frac{1}{9} \\zeta_{12}^{2} - \\frac{1}{9} & \\frac{1}{9} & \\frac{1}{9} & \\frac{1}{9} & -\\frac{1}{9} \\zeta_{12}^{2} & -\\frac{1}{9} \\zeta_{12}^{2} & \\frac{1}{6} & \\frac{1}{6} & \\frac{1}{6} & \\frac{1}{6} & \\frac{1}{6} & \\frac{1}{6} & -\\frac{1}{6} \\zeta_{12}^{2} & -\\frac{1}{6} \\zeta_{12}^{2} & -\\frac{1}{6} \\zeta_{12}^{2} & -\\frac{1}{6} \\zeta_{12}^{2} & -\\frac{1}{6} \\zeta_{12}^{2} & -\\frac{1}{6} \\zeta_{12}^{2} & \\frac{1}{6} \\zeta_{12}^{2} - \\frac{1}{6} & \\frac{1}{6} \\zeta_{12}^{2} - \\frac{1}{6} & \\frac{1}{6} \\zeta_{12}^{2} - \\frac{1}{6} & \\frac{1}{6} \\zeta_{12}^{2} - \\frac{1}{6} & \\frac{1}{6} \\zeta_{12}^{2} - \\frac{1}{6} & \\frac{1}{6} \\zeta_{12}^{2} - \\frac{1}{6} \\\\\n",
       "\\frac{1}{18} & \\frac{1}{18} & \\frac{1}{18} & \\frac{1}{18} & \\frac{1}{18} & \\frac{1}{18} & \\frac{1}{18} \\zeta_{12}^{2} - \\frac{1}{18} & \\frac{1}{18} \\zeta_{12}^{2} - \\frac{1}{18} & \\frac{1}{18} \\zeta_{12}^{2} - \\frac{1}{18} & \\frac{1}{18} \\zeta_{12}^{2} - \\frac{1}{18} & \\frac{1}{18} \\zeta_{12}^{2} - \\frac{1}{18} & \\frac{1}{18} \\zeta_{12}^{2} - \\frac{1}{18} & -\\frac{1}{18} \\zeta_{12}^{2} & -\\frac{1}{18} \\zeta_{12}^{2} & -\\frac{1}{18} \\zeta_{12}^{2} & -\\frac{1}{18} \\zeta_{12}^{2} & -\\frac{1}{18} \\zeta_{12}^{2} & -\\frac{1}{18} \\zeta_{12}^{2} & \\frac{1}{9} & \\frac{1}{9} & \\frac{1}{9} & -\\frac{1}{9} \\zeta_{12}^{2} & -\\frac{1}{9} \\zeta_{12}^{2} & -\\frac{1}{9} \\zeta_{12}^{2} & -\\frac{1}{9} \\zeta_{12}^{2} & -\\frac{1}{9} \\zeta_{12}^{2} & -\\frac{1}{9} \\zeta_{12}^{2} & \\frac{1}{9} \\zeta_{12}^{2} - \\frac{1}{9} & -\\frac{1}{9} \\zeta_{12}^{2} & -\\frac{1}{9} \\zeta_{12}^{2} & -\\frac{1}{9} \\zeta_{12}^{2} & \\frac{1}{9} \\zeta_{12}^{2} - \\frac{1}{9} & \\frac{1}{9} \\zeta_{12}^{2} - \\frac{1}{9} & \\frac{1}{9} \\zeta_{12}^{2} - \\frac{1}{9} & \\frac{1}{9} \\zeta_{12}^{2} - \\frac{1}{9} & \\frac{1}{9} \\zeta_{12}^{2} - \\frac{1}{9} & \\frac{1}{9} & \\frac{1}{9} & \\frac{1}{9} & \\frac{1}{9} \\zeta_{12}^{2} - \\frac{1}{9} & \\frac{1}{9} \\zeta_{12}^{2} - \\frac{1}{9} & \\frac{1}{9} \\zeta_{12}^{2} - \\frac{1}{9} & \\frac{1}{9} & \\frac{1}{9} & \\frac{1}{9} & -\\frac{1}{9} \\zeta_{12}^{2} & \\frac{1}{9} \\zeta_{12}^{2} - \\frac{1}{9} & \\frac{1}{9} \\zeta_{12}^{2} - \\frac{1}{9} & \\frac{1}{9} \\zeta_{12}^{2} - \\frac{1}{9} & \\frac{1}{9} & \\frac{1}{9} & \\frac{1}{9} & -\\frac{1}{9} \\zeta_{12}^{2} & -\\frac{1}{9} \\zeta_{12}^{2} & -\\frac{1}{6} & -\\frac{1}{6} & -\\frac{1}{6} & -\\frac{1}{6} & -\\frac{1}{6} & -\\frac{1}{6} & \\frac{1}{6} \\zeta_{12}^{2} & \\frac{1}{6} \\zeta_{12}^{2} & \\frac{1}{6} \\zeta_{12}^{2} & \\frac{1}{6} \\zeta_{12}^{2} & \\frac{1}{6} \\zeta_{12}^{2} & \\frac{1}{6} \\zeta_{12}^{2} & -\\frac{1}{6} \\zeta_{12}^{2} + \\frac{1}{6} & -\\frac{1}{6} \\zeta_{12}^{2} + \\frac{1}{6} & -\\frac{1}{6} \\zeta_{12}^{2} + \\frac{1}{6} & -\\frac{1}{6} \\zeta_{12}^{2} + \\frac{1}{6} & -\\frac{1}{6} \\zeta_{12}^{2} + \\frac{1}{6} & -\\frac{1}{6} \\zeta_{12}^{2} + \\frac{1}{6} \\\\\n",
       "\\frac{1}{18} & \\frac{1}{18} & -\\frac{1}{18} \\zeta_{12}^{2} & -\\frac{1}{18} \\zeta_{12}^{2} & \\frac{1}{18} \\zeta_{12}^{2} - \\frac{1}{18} & \\frac{1}{18} \\zeta_{12}^{2} - \\frac{1}{18} & \\frac{1}{18} \\zeta_{12}^{2} - \\frac{1}{18} & \\frac{1}{18} \\zeta_{12}^{2} - \\frac{1}{18} & \\frac{1}{18} & \\frac{1}{18} & -\\frac{1}{18} \\zeta_{12}^{2} & -\\frac{1}{18} \\zeta_{12}^{2} & -\\frac{1}{18} \\zeta_{12}^{2} & -\\frac{1}{18} \\zeta_{12}^{2} & \\frac{1}{18} \\zeta_{12}^{2} - \\frac{1}{18} & \\frac{1}{18} \\zeta_{12}^{2} - \\frac{1}{18} & \\frac{1}{18} & \\frac{1}{18} & \\frac{1}{9} \\zeta_{12}^{2} - \\frac{1}{9} & -\\frac{1}{9} \\zeta_{12}^{2} & \\frac{1}{9} & -\\frac{1}{9} \\zeta_{12}^{2} & \\frac{1}{9} & \\frac{1}{9} \\zeta_{12}^{2} - \\frac{1}{9} & \\frac{1}{9} & \\frac{1}{9} \\zeta_{12}^{2} - \\frac{1}{9} & -\\frac{1}{9} \\zeta_{12}^{2} & -\\frac{1}{9} \\zeta_{12}^{2} & \\frac{1}{9} \\zeta_{12}^{2} - \\frac{1}{9} & -\\frac{1}{9} \\zeta_{12}^{2} & \\frac{1}{9} & \\frac{1}{9} & \\frac{1}{9} \\zeta_{12}^{2} - \\frac{1}{9} & \\frac{1}{9} \\zeta_{12}^{2} - \\frac{1}{9} & -\\frac{1}{9} \\zeta_{12}^{2} & \\frac{1}{9} & \\frac{1}{9} & \\frac{1}{9} \\zeta_{12}^{2} - \\frac{1}{9} & -\\frac{1}{9} \\zeta_{12}^{2} & -\\frac{1}{9} \\zeta_{12}^{2} & \\frac{1}{9} & \\frac{1}{9} \\zeta_{12}^{2} - \\frac{1}{9} & \\frac{1}{9} \\zeta_{12}^{2} - \\frac{1}{9} & -\\frac{1}{9} \\zeta_{12}^{2} & \\frac{1}{9} & \\frac{1}{9} & \\frac{1}{9} & \\frac{1}{9} \\zeta_{12}^{2} - \\frac{1}{9} & -\\frac{1}{9} \\zeta_{12}^{2} & -\\frac{1}{9} \\zeta_{12}^{2} & \\frac{1}{9} & \\frac{1}{9} \\zeta_{12}^{2} - \\frac{1}{9} & \\frac{1}{9} \\zeta_{12}^{2} - \\frac{1}{9} & -\\frac{1}{9} \\zeta_{12}^{2} & \\frac{1}{6} & \\frac{1}{6} & \\frac{1}{6} \\zeta_{12}^{2} - \\frac{1}{6} & \\frac{1}{6} \\zeta_{12}^{2} - \\frac{1}{6} & -\\frac{1}{6} \\zeta_{12}^{2} & -\\frac{1}{6} \\zeta_{12}^{2} & -\\frac{1}{6} \\zeta_{12}^{2} & -\\frac{1}{6} \\zeta_{12}^{2} & \\frac{1}{6} & \\frac{1}{6} & \\frac{1}{6} \\zeta_{12}^{2} - \\frac{1}{6} & \\frac{1}{6} \\zeta_{12}^{2} - \\frac{1}{6} & \\frac{1}{6} \\zeta_{12}^{2} - \\frac{1}{6} & \\frac{1}{6} \\zeta_{12}^{2} - \\frac{1}{6} & -\\frac{1}{6} \\zeta_{12}^{2} & -\\frac{1}{6} \\zeta_{12}^{2} & \\frac{1}{6} & \\frac{1}{6} \\\\\n",
       "\\frac{1}{18} & \\frac{1}{18} & -\\frac{1}{18} \\zeta_{12}^{2} & -\\frac{1}{18} \\zeta_{12}^{2} & \\frac{1}{18} \\zeta_{12}^{2} - \\frac{1}{18} & \\frac{1}{18} \\zeta_{12}^{2} - \\frac{1}{18} & \\frac{1}{18} \\zeta_{12}^{2} - \\frac{1}{18} & \\frac{1}{18} \\zeta_{12}^{2} - \\frac{1}{18} & \\frac{1}{18} & \\frac{1}{18} & -\\frac{1}{18} \\zeta_{12}^{2} & -\\frac{1}{18} \\zeta_{12}^{2} & -\\frac{1}{18} \\zeta_{12}^{2} & -\\frac{1}{18} \\zeta_{12}^{2} & \\frac{1}{18} \\zeta_{12}^{2} - \\frac{1}{18} & \\frac{1}{18} \\zeta_{12}^{2} - \\frac{1}{18} & \\frac{1}{18} & \\frac{1}{18} & \\frac{1}{9} \\zeta_{12}^{2} - \\frac{1}{9} & -\\frac{1}{9} \\zeta_{12}^{2} & \\frac{1}{9} & -\\frac{1}{9} \\zeta_{12}^{2} & \\frac{1}{9} & \\frac{1}{9} \\zeta_{12}^{2} - \\frac{1}{9} & \\frac{1}{9} & \\frac{1}{9} \\zeta_{12}^{2} - \\frac{1}{9} & -\\frac{1}{9} \\zeta_{12}^{2} & -\\frac{1}{9} \\zeta_{12}^{2} & \\frac{1}{9} \\zeta_{12}^{2} - \\frac{1}{9} & -\\frac{1}{9} \\zeta_{12}^{2} & \\frac{1}{9} & \\frac{1}{9} & \\frac{1}{9} \\zeta_{12}^{2} - \\frac{1}{9} & \\frac{1}{9} \\zeta_{12}^{2} - \\frac{1}{9} & -\\frac{1}{9} \\zeta_{12}^{2} & \\frac{1}{9} & \\frac{1}{9} & \\frac{1}{9} \\zeta_{12}^{2} - \\frac{1}{9} & -\\frac{1}{9} \\zeta_{12}^{2} & -\\frac{1}{9} \\zeta_{12}^{2} & \\frac{1}{9} & \\frac{1}{9} \\zeta_{12}^{2} - \\frac{1}{9} & \\frac{1}{9} \\zeta_{12}^{2} - \\frac{1}{9} & -\\frac{1}{9} \\zeta_{12}^{2} & \\frac{1}{9} & \\frac{1}{9} & \\frac{1}{9} & \\frac{1}{9} \\zeta_{12}^{2} - \\frac{1}{9} & -\\frac{1}{9} \\zeta_{12}^{2} & -\\frac{1}{9} \\zeta_{12}^{2} & \\frac{1}{9} & \\frac{1}{9} \\zeta_{12}^{2} - \\frac{1}{9} & \\frac{1}{9} \\zeta_{12}^{2} - \\frac{1}{9} & -\\frac{1}{9} \\zeta_{12}^{2} & -\\frac{1}{6} & -\\frac{1}{6} & -\\frac{1}{6} \\zeta_{12}^{2} + \\frac{1}{6} & -\\frac{1}{6} \\zeta_{12}^{2} + \\frac{1}{6} & \\frac{1}{6} \\zeta_{12}^{2} & \\frac{1}{6} \\zeta_{12}^{2} & \\frac{1}{6} \\zeta_{12}^{2} & \\frac{1}{6} \\zeta_{12}^{2} & -\\frac{1}{6} & -\\frac{1}{6} & -\\frac{1}{6} \\zeta_{12}^{2} + \\frac{1}{6} & -\\frac{1}{6} \\zeta_{12}^{2} + \\frac{1}{6} & -\\frac{1}{6} \\zeta_{12}^{2} + \\frac{1}{6} & -\\frac{1}{6} \\zeta_{12}^{2} + \\frac{1}{6} & \\frac{1}{6} \\zeta_{12}^{2} & \\frac{1}{6} \\zeta_{12}^{2} & -\\frac{1}{6} & -\\frac{1}{6} \\\\\n",
       "\\frac{1}{18} & \\frac{1}{18} & \\frac{1}{18} \\zeta_{12}^{2} - \\frac{1}{18} & \\frac{1}{18} \\zeta_{12}^{2} - \\frac{1}{18} & -\\frac{1}{18} \\zeta_{12}^{2} & -\\frac{1}{18} \\zeta_{12}^{2} & \\frac{1}{18} \\zeta_{12}^{2} - \\frac{1}{18} & \\frac{1}{18} \\zeta_{12}^{2} - \\frac{1}{18} & -\\frac{1}{18} \\zeta_{12}^{2} & -\\frac{1}{18} \\zeta_{12}^{2} & \\frac{1}{18} & \\frac{1}{18} & -\\frac{1}{18} \\zeta_{12}^{2} & -\\frac{1}{18} \\zeta_{12}^{2} & \\frac{1}{18} & \\frac{1}{18} & \\frac{1}{18} \\zeta_{12}^{2} - \\frac{1}{18} & \\frac{1}{18} \\zeta_{12}^{2} - \\frac{1}{18} & -\\frac{1}{9} \\zeta_{12}^{2} & \\frac{1}{9} \\zeta_{12}^{2} - \\frac{1}{9} & \\frac{1}{9} & -\\frac{1}{9} \\zeta_{12}^{2} & \\frac{1}{9} \\zeta_{12}^{2} - \\frac{1}{9} & \\frac{1}{9} & \\frac{1}{9} \\zeta_{12}^{2} - \\frac{1}{9} & \\frac{1}{9} & -\\frac{1}{9} \\zeta_{12}^{2} & \\frac{1}{9} & \\frac{1}{9} & -\\frac{1}{9} \\zeta_{12}^{2} & \\frac{1}{9} \\zeta_{12}^{2} - \\frac{1}{9} & -\\frac{1}{9} \\zeta_{12}^{2} & \\frac{1}{9} \\zeta_{12}^{2} - \\frac{1}{9} & \\frac{1}{9} \\zeta_{12}^{2} - \\frac{1}{9} & \\frac{1}{9} & -\\frac{1}{9} \\zeta_{12}^{2} & \\frac{1}{9} & -\\frac{1}{9} \\zeta_{12}^{2} & \\frac{1}{9} \\zeta_{12}^{2} - \\frac{1}{9} & \\frac{1}{9} & -\\frac{1}{9} \\zeta_{12}^{2} & \\frac{1}{9} \\zeta_{12}^{2} - \\frac{1}{9} & -\\frac{1}{9} \\zeta_{12}^{2} & \\frac{1}{9} \\zeta_{12}^{2} - \\frac{1}{9} & \\frac{1}{9} & \\frac{1}{9} \\zeta_{12}^{2} - \\frac{1}{9} & -\\frac{1}{9} \\zeta_{12}^{2} & \\frac{1}{9} \\zeta_{12}^{2} - \\frac{1}{9} & \\frac{1}{9} & \\frac{1}{9} \\zeta_{12}^{2} - \\frac{1}{9} & \\frac{1}{9} & -\\frac{1}{9} \\zeta_{12}^{2} & \\frac{1}{9} & -\\frac{1}{9} \\zeta_{12}^{2} & \\frac{1}{6} & \\frac{1}{6} & -\\frac{1}{6} \\zeta_{12}^{2} & -\\frac{1}{6} \\zeta_{12}^{2} & \\frac{1}{6} \\zeta_{12}^{2} - \\frac{1}{6} & \\frac{1}{6} \\zeta_{12}^{2} - \\frac{1}{6} & -\\frac{1}{6} \\zeta_{12}^{2} & -\\frac{1}{6} \\zeta_{12}^{2} & \\frac{1}{6} \\zeta_{12}^{2} - \\frac{1}{6} & \\frac{1}{6} \\zeta_{12}^{2} - \\frac{1}{6} & \\frac{1}{6} & \\frac{1}{6} & \\frac{1}{6} \\zeta_{12}^{2} - \\frac{1}{6} & \\frac{1}{6} \\zeta_{12}^{2} - \\frac{1}{6} & \\frac{1}{6} & \\frac{1}{6} & -\\frac{1}{6} \\zeta_{12}^{2} & -\\frac{1}{6} \\zeta_{12}^{2} \\\\\n",
       "\\frac{1}{18} & \\frac{1}{18} & \\frac{1}{18} \\zeta_{12}^{2} - \\frac{1}{18} & \\frac{1}{18} \\zeta_{12}^{2} - \\frac{1}{18} & -\\frac{1}{18} \\zeta_{12}^{2} & -\\frac{1}{18} \\zeta_{12}^{2} & \\frac{1}{18} \\zeta_{12}^{2} - \\frac{1}{18} & \\frac{1}{18} \\zeta_{12}^{2} - \\frac{1}{18} & -\\frac{1}{18} \\zeta_{12}^{2} & -\\frac{1}{18} \\zeta_{12}^{2} & \\frac{1}{18} & \\frac{1}{18} & -\\frac{1}{18} \\zeta_{12}^{2} & -\\frac{1}{18} \\zeta_{12}^{2} & \\frac{1}{18} & \\frac{1}{18} & \\frac{1}{18} \\zeta_{12}^{2} - \\frac{1}{18} & \\frac{1}{18} \\zeta_{12}^{2} - \\frac{1}{18} & -\\frac{1}{9} \\zeta_{12}^{2} & \\frac{1}{9} \\zeta_{12}^{2} - \\frac{1}{9} & \\frac{1}{9} & -\\frac{1}{9} \\zeta_{12}^{2} & \\frac{1}{9} \\zeta_{12}^{2} - \\frac{1}{9} & \\frac{1}{9} & \\frac{1}{9} \\zeta_{12}^{2} - \\frac{1}{9} & \\frac{1}{9} & -\\frac{1}{9} \\zeta_{12}^{2} & \\frac{1}{9} & \\frac{1}{9} & -\\frac{1}{9} \\zeta_{12}^{2} & \\frac{1}{9} \\zeta_{12}^{2} - \\frac{1}{9} & -\\frac{1}{9} \\zeta_{12}^{2} & \\frac{1}{9} \\zeta_{12}^{2} - \\frac{1}{9} & \\frac{1}{9} \\zeta_{12}^{2} - \\frac{1}{9} & \\frac{1}{9} & -\\frac{1}{9} \\zeta_{12}^{2} & \\frac{1}{9} & -\\frac{1}{9} \\zeta_{12}^{2} & \\frac{1}{9} \\zeta_{12}^{2} - \\frac{1}{9} & \\frac{1}{9} & -\\frac{1}{9} \\zeta_{12}^{2} & \\frac{1}{9} \\zeta_{12}^{2} - \\frac{1}{9} & -\\frac{1}{9} \\zeta_{12}^{2} & \\frac{1}{9} \\zeta_{12}^{2} - \\frac{1}{9} & \\frac{1}{9} & \\frac{1}{9} \\zeta_{12}^{2} - \\frac{1}{9} & -\\frac{1}{9} \\zeta_{12}^{2} & \\frac{1}{9} \\zeta_{12}^{2} - \\frac{1}{9} & \\frac{1}{9} & \\frac{1}{9} \\zeta_{12}^{2} - \\frac{1}{9} & \\frac{1}{9} & -\\frac{1}{9} \\zeta_{12}^{2} & \\frac{1}{9} & -\\frac{1}{9} \\zeta_{12}^{2} & -\\frac{1}{6} & -\\frac{1}{6} & \\frac{1}{6} \\zeta_{12}^{2} & \\frac{1}{6} \\zeta_{12}^{2} & -\\frac{1}{6} \\zeta_{12}^{2} + \\frac{1}{6} & -\\frac{1}{6} \\zeta_{12}^{2} + \\frac{1}{6} & \\frac{1}{6} \\zeta_{12}^{2} & \\frac{1}{6} \\zeta_{12}^{2} & -\\frac{1}{6} \\zeta_{12}^{2} + \\frac{1}{6} & -\\frac{1}{6} \\zeta_{12}^{2} + \\frac{1}{6} & -\\frac{1}{6} & -\\frac{1}{6} & -\\frac{1}{6} \\zeta_{12}^{2} + \\frac{1}{6} & -\\frac{1}{6} \\zeta_{12}^{2} + \\frac{1}{6} & -\\frac{1}{6} & -\\frac{1}{6} & \\frac{1}{6} \\zeta_{12}^{2} & \\frac{1}{6} \\zeta_{12}^{2} \\\\\n",
       "\\frac{1}{9} & \\frac{1}{9} & \\frac{1}{9} \\zeta_{12}^{2} - \\frac{1}{9} & \\frac{1}{9} \\zeta_{12}^{2} - \\frac{1}{9} & -\\frac{1}{9} \\zeta_{12}^{2} & -\\frac{1}{9} \\zeta_{12}^{2} & \\frac{1}{9} & \\frac{1}{9} & \\frac{1}{9} \\zeta_{12}^{2} - \\frac{1}{9} & \\frac{1}{9} \\zeta_{12}^{2} - \\frac{1}{9} & -\\frac{1}{9} \\zeta_{12}^{2} & -\\frac{1}{9} \\zeta_{12}^{2} & \\frac{1}{9} & \\frac{1}{9} & \\frac{1}{9} \\zeta_{12}^{2} - \\frac{1}{9} & \\frac{1}{9} \\zeta_{12}^{2} - \\frac{1}{9} & -\\frac{1}{9} \\zeta_{12}^{2} & -\\frac{1}{9} \\zeta_{12}^{2} & \\frac{1}{9} \\zeta_{12}^{2} & -\\frac{1}{9} \\zeta_{12}^{2} + \\frac{1}{9} & -\\frac{1}{9} & \\frac{2}{9} & \\frac{1}{9} \\zeta_{12}^{2} & -\\frac{1}{9} \\zeta_{12}^{2} + \\frac{1}{9} & \\frac{1}{9} \\zeta_{12}^{2} & \\frac{2}{9} \\zeta_{12}^{2} - \\frac{2}{9} & -\\frac{1}{9} & \\frac{1}{9} \\zeta_{12}^{2} & -\\frac{1}{9} \\zeta_{12}^{2} + \\frac{1}{9} & -\\frac{1}{9} & -\\frac{2}{9} \\zeta_{12}^{2} & -\\frac{1}{9} \\zeta_{12}^{2} + \\frac{1}{9} & -\\frac{1}{9} & \\frac{2}{9} & \\frac{1}{9} \\zeta_{12}^{2} & -\\frac{1}{9} \\zeta_{12}^{2} + \\frac{1}{9} & \\frac{2}{9} & \\frac{1}{9} \\zeta_{12}^{2} & -\\frac{1}{9} \\zeta_{12}^{2} + \\frac{1}{9} & \\frac{1}{9} \\zeta_{12}^{2} & \\frac{2}{9} \\zeta_{12}^{2} - \\frac{2}{9} & -\\frac{1}{9} & \\frac{1}{9} \\zeta_{12}^{2} & \\frac{2}{9} \\zeta_{12}^{2} - \\frac{2}{9} & -\\frac{1}{9} & \\frac{1}{9} \\zeta_{12}^{2} & -\\frac{1}{9} \\zeta_{12}^{2} + \\frac{1}{9} & -\\frac{1}{9} & -\\frac{2}{9} \\zeta_{12}^{2} & -\\frac{1}{9} \\zeta_{12}^{2} + \\frac{1}{9} & -\\frac{1}{9} & -\\frac{2}{9} \\zeta_{12}^{2} & -\\frac{1}{9} \\zeta_{12}^{2} + \\frac{1}{9} & -\\frac{1}{9} & 0 & 0 & 0 & 0 & 0 & 0 & 0 & 0 & 0 & 0 & 0 & 0 & 0 & 0 & 0 & 0 & 0 & 0 \\\\\n",
       "\\frac{1}{9} & \\frac{1}{9} & -\\frac{1}{9} \\zeta_{12}^{2} & -\\frac{1}{9} \\zeta_{12}^{2} & \\frac{1}{9} \\zeta_{12}^{2} - \\frac{1}{9} & \\frac{1}{9} \\zeta_{12}^{2} - \\frac{1}{9} & \\frac{1}{9} & \\frac{1}{9} & -\\frac{1}{9} \\zeta_{12}^{2} & -\\frac{1}{9} \\zeta_{12}^{2} & \\frac{1}{9} \\zeta_{12}^{2} - \\frac{1}{9} & \\frac{1}{9} \\zeta_{12}^{2} - \\frac{1}{9} & \\frac{1}{9} & \\frac{1}{9} & -\\frac{1}{9} \\zeta_{12}^{2} & -\\frac{1}{9} \\zeta_{12}^{2} & \\frac{1}{9} \\zeta_{12}^{2} - \\frac{1}{9} & \\frac{1}{9} \\zeta_{12}^{2} - \\frac{1}{9} & -\\frac{1}{9} \\zeta_{12}^{2} + \\frac{1}{9} & \\frac{1}{9} \\zeta_{12}^{2} & -\\frac{1}{9} & \\frac{2}{9} & -\\frac{1}{9} \\zeta_{12}^{2} + \\frac{1}{9} & \\frac{1}{9} \\zeta_{12}^{2} & -\\frac{1}{9} \\zeta_{12}^{2} + \\frac{1}{9} & -\\frac{2}{9} \\zeta_{12}^{2} & -\\frac{1}{9} & -\\frac{1}{9} \\zeta_{12}^{2} + \\frac{1}{9} & \\frac{1}{9} \\zeta_{12}^{2} & -\\frac{1}{9} & \\frac{2}{9} \\zeta_{12}^{2} - \\frac{2}{9} & \\frac{1}{9} \\zeta_{12}^{2} & -\\frac{1}{9} & \\frac{2}{9} & -\\frac{1}{9} \\zeta_{12}^{2} + \\frac{1}{9} & \\frac{1}{9} \\zeta_{12}^{2} & \\frac{2}{9} & -\\frac{1}{9} \\zeta_{12}^{2} + \\frac{1}{9} & \\frac{1}{9} \\zeta_{12}^{2} & -\\frac{1}{9} \\zeta_{12}^{2} + \\frac{1}{9} & -\\frac{2}{9} \\zeta_{12}^{2} & -\\frac{1}{9} & -\\frac{1}{9} \\zeta_{12}^{2} + \\frac{1}{9} & -\\frac{2}{9} \\zeta_{12}^{2} & -\\frac{1}{9} & -\\frac{1}{9} \\zeta_{12}^{2} + \\frac{1}{9} & \\frac{1}{9} \\zeta_{12}^{2} & -\\frac{1}{9} & \\frac{2}{9} \\zeta_{12}^{2} - \\frac{2}{9} & \\frac{1}{9} \\zeta_{12}^{2} & -\\frac{1}{9} & \\frac{2}{9} \\zeta_{12}^{2} - \\frac{2}{9} & \\frac{1}{9} \\zeta_{12}^{2} & -\\frac{1}{9} & 0 & 0 & 0 & 0 & 0 & 0 & 0 & 0 & 0 & 0 & 0 & 0 & 0 & 0 & 0 & 0 & 0 & 0 \\\\\n",
       "\\frac{1}{9} & \\frac{1}{9} & \\frac{1}{9} & \\frac{1}{9} & \\frac{1}{9} & \\frac{1}{9} & \\frac{1}{9} & \\frac{1}{9} & \\frac{1}{9} & \\frac{1}{9} & \\frac{1}{9} & \\frac{1}{9} & \\frac{1}{9} & \\frac{1}{9} & \\frac{1}{9} & \\frac{1}{9} & \\frac{1}{9} & \\frac{1}{9} & -\\frac{1}{9} & -\\frac{1}{9} & -\\frac{1}{9} & \\frac{2}{9} & -\\frac{1}{9} & -\\frac{1}{9} & -\\frac{1}{9} & \\frac{2}{9} & -\\frac{1}{9} & -\\frac{1}{9} & -\\frac{1}{9} & -\\frac{1}{9} & \\frac{2}{9} & -\\frac{1}{9} & -\\frac{1}{9} & \\frac{2}{9} & -\\frac{1}{9} & -\\frac{1}{9} & \\frac{2}{9} & -\\frac{1}{9} & -\\frac{1}{9} & -\\frac{1}{9} & \\frac{2}{9} & -\\frac{1}{9} & -\\frac{1}{9} & \\frac{2}{9} & -\\frac{1}{9} & -\\frac{1}{9} & -\\frac{1}{9} & -\\frac{1}{9} & \\frac{2}{9} & -\\frac{1}{9} & -\\frac{1}{9} & \\frac{2}{9} & -\\frac{1}{9} & -\\frac{1}{9} & 0 & 0 & 0 & 0 & 0 & 0 & 0 & 0 & 0 & 0 & 0 & 0 & 0 & 0 & 0 & 0 & 0 & 0 \\\\\n",
       "\\frac{1}{9} & \\frac{1}{9} & \\frac{1}{9} & \\frac{1}{9} & \\frac{1}{9} & \\frac{1}{9} & \\frac{1}{9} \\zeta_{12}^{2} - \\frac{1}{9} & \\frac{1}{9} \\zeta_{12}^{2} - \\frac{1}{9} & \\frac{1}{9} \\zeta_{12}^{2} - \\frac{1}{9} & \\frac{1}{9} \\zeta_{12}^{2} - \\frac{1}{9} & \\frac{1}{9} \\zeta_{12}^{2} - \\frac{1}{9} & \\frac{1}{9} \\zeta_{12}^{2} - \\frac{1}{9} & -\\frac{1}{9} \\zeta_{12}^{2} & -\\frac{1}{9} \\zeta_{12}^{2} & -\\frac{1}{9} \\zeta_{12}^{2} & -\\frac{1}{9} \\zeta_{12}^{2} & -\\frac{1}{9} \\zeta_{12}^{2} & -\\frac{1}{9} \\zeta_{12}^{2} & \\frac{2}{9} & \\frac{2}{9} & \\frac{2}{9} & \\frac{1}{9} \\zeta_{12}^{2} & \\frac{1}{9} \\zeta_{12}^{2} & \\frac{1}{9} \\zeta_{12}^{2} & \\frac{1}{9} \\zeta_{12}^{2} & \\frac{1}{9} \\zeta_{12}^{2} & \\frac{1}{9} \\zeta_{12}^{2} & \\frac{2}{9} \\zeta_{12}^{2} - \\frac{2}{9} & \\frac{1}{9} \\zeta_{12}^{2} & \\frac{1}{9} \\zeta_{12}^{2} & \\frac{1}{9} \\zeta_{12}^{2} & \\frac{2}{9} \\zeta_{12}^{2} - \\frac{2}{9} & \\frac{2}{9} \\zeta_{12}^{2} - \\frac{2}{9} & -\\frac{1}{9} \\zeta_{12}^{2} + \\frac{1}{9} & -\\frac{1}{9} \\zeta_{12}^{2} + \\frac{1}{9} & -\\frac{1}{9} \\zeta_{12}^{2} + \\frac{1}{9} & -\\frac{1}{9} & -\\frac{1}{9} & -\\frac{1}{9} & -\\frac{1}{9} \\zeta_{12}^{2} + \\frac{1}{9} & -\\frac{1}{9} \\zeta_{12}^{2} + \\frac{1}{9} & -\\frac{1}{9} \\zeta_{12}^{2} + \\frac{1}{9} & -\\frac{1}{9} & -\\frac{1}{9} & -\\frac{1}{9} & -\\frac{2}{9} \\zeta_{12}^{2} & -\\frac{1}{9} \\zeta_{12}^{2} + \\frac{1}{9} & -\\frac{1}{9} \\zeta_{12}^{2} + \\frac{1}{9} & -\\frac{1}{9} \\zeta_{12}^{2} + \\frac{1}{9} & -\\frac{1}{9} & -\\frac{1}{9} & -\\frac{1}{9} & -\\frac{2}{9} \\zeta_{12}^{2} & -\\frac{2}{9} \\zeta_{12}^{2} & 0 & 0 & 0 & 0 & 0 & 0 & 0 & 0 & 0 & 0 & 0 & 0 & 0 & 0 & 0 & 0 & 0 & 0 \\\\\n",
       "\\frac{1}{9} & \\frac{1}{9} & \\frac{1}{9} \\zeta_{12}^{2} - \\frac{1}{9} & \\frac{1}{9} \\zeta_{12}^{2} - \\frac{1}{9} & -\\frac{1}{9} \\zeta_{12}^{2} & -\\frac{1}{9} \\zeta_{12}^{2} & \\frac{1}{9} \\zeta_{12}^{2} - \\frac{1}{9} & \\frac{1}{9} \\zeta_{12}^{2} - \\frac{1}{9} & -\\frac{1}{9} \\zeta_{12}^{2} & -\\frac{1}{9} \\zeta_{12}^{2} & \\frac{1}{9} & \\frac{1}{9} & -\\frac{1}{9} \\zeta_{12}^{2} & -\\frac{1}{9} \\zeta_{12}^{2} & \\frac{1}{9} & \\frac{1}{9} & \\frac{1}{9} \\zeta_{12}^{2} - \\frac{1}{9} & \\frac{1}{9} \\zeta_{12}^{2} - \\frac{1}{9} & \\frac{1}{9} \\zeta_{12}^{2} & -\\frac{1}{9} \\zeta_{12}^{2} + \\frac{1}{9} & -\\frac{1}{9} & \\frac{1}{9} \\zeta_{12}^{2} & -\\frac{1}{9} \\zeta_{12}^{2} + \\frac{1}{9} & \\frac{2}{9} & \\frac{2}{9} \\zeta_{12}^{2} - \\frac{2}{9} & -\\frac{1}{9} & \\frac{1}{9} \\zeta_{12}^{2} & -\\frac{1}{9} & -\\frac{1}{9} & -\\frac{2}{9} \\zeta_{12}^{2} & -\\frac{1}{9} \\zeta_{12}^{2} + \\frac{1}{9} & \\frac{1}{9} \\zeta_{12}^{2} & -\\frac{1}{9} \\zeta_{12}^{2} + \\frac{1}{9} & -\\frac{1}{9} \\zeta_{12}^{2} + \\frac{1}{9} & \\frac{2}{9} & \\frac{1}{9} \\zeta_{12}^{2} & -\\frac{1}{9} & \\frac{1}{9} \\zeta_{12}^{2} & \\frac{2}{9} \\zeta_{12}^{2} - \\frac{2}{9} & -\\frac{1}{9} & \\frac{1}{9} \\zeta_{12}^{2} & \\frac{2}{9} \\zeta_{12}^{2} - \\frac{2}{9} & -\\frac{2}{9} \\zeta_{12}^{2} & -\\frac{1}{9} \\zeta_{12}^{2} + \\frac{1}{9} & -\\frac{1}{9} & -\\frac{1}{9} \\zeta_{12}^{2} + \\frac{1}{9} & -\\frac{2}{9} \\zeta_{12}^{2} & -\\frac{1}{9} \\zeta_{12}^{2} + \\frac{1}{9} & -\\frac{1}{9} & -\\frac{1}{9} \\zeta_{12}^{2} + \\frac{1}{9} & \\frac{2}{9} & \\frac{1}{9} \\zeta_{12}^{2} & -\\frac{1}{9} & \\frac{1}{9} \\zeta_{12}^{2} & 0 & 0 & 0 & 0 & 0 & 0 & 0 & 0 & 0 & 0 & 0 & 0 & 0 & 0 & 0 & 0 & 0 & 0 \\\\\n",
       "\\frac{1}{9} & \\frac{1}{9} & -\\frac{1}{9} \\zeta_{12}^{2} & -\\frac{1}{9} \\zeta_{12}^{2} & \\frac{1}{9} \\zeta_{12}^{2} - \\frac{1}{9} & \\frac{1}{9} \\zeta_{12}^{2} - \\frac{1}{9} & \\frac{1}{9} \\zeta_{12}^{2} - \\frac{1}{9} & \\frac{1}{9} \\zeta_{12}^{2} - \\frac{1}{9} & \\frac{1}{9} & \\frac{1}{9} & -\\frac{1}{9} \\zeta_{12}^{2} & -\\frac{1}{9} \\zeta_{12}^{2} & -\\frac{1}{9} \\zeta_{12}^{2} & -\\frac{1}{9} \\zeta_{12}^{2} & \\frac{1}{9} \\zeta_{12}^{2} - \\frac{1}{9} & \\frac{1}{9} \\zeta_{12}^{2} - \\frac{1}{9} & \\frac{1}{9} & \\frac{1}{9} & -\\frac{1}{9} \\zeta_{12}^{2} + \\frac{1}{9} & \\frac{1}{9} \\zeta_{12}^{2} & -\\frac{1}{9} & \\frac{1}{9} \\zeta_{12}^{2} & \\frac{2}{9} & -\\frac{1}{9} \\zeta_{12}^{2} + \\frac{1}{9} & -\\frac{1}{9} & -\\frac{1}{9} \\zeta_{12}^{2} + \\frac{1}{9} & -\\frac{2}{9} \\zeta_{12}^{2} & \\frac{1}{9} \\zeta_{12}^{2} & \\frac{2}{9} \\zeta_{12}^{2} - \\frac{2}{9} & \\frac{1}{9} \\zeta_{12}^{2} & -\\frac{1}{9} & -\\frac{1}{9} & -\\frac{1}{9} \\zeta_{12}^{2} + \\frac{1}{9} & -\\frac{1}{9} \\zeta_{12}^{2} + \\frac{1}{9} & \\frac{1}{9} \\zeta_{12}^{2} & \\frac{2}{9} & -\\frac{1}{9} & \\frac{2}{9} \\zeta_{12}^{2} - \\frac{2}{9} & \\frac{1}{9} \\zeta_{12}^{2} & -\\frac{2}{9} \\zeta_{12}^{2} & -\\frac{1}{9} & -\\frac{1}{9} \\zeta_{12}^{2} + \\frac{1}{9} & -\\frac{1}{9} \\zeta_{12}^{2} + \\frac{1}{9} & \\frac{1}{9} \\zeta_{12}^{2} & \\frac{2}{9} & -\\frac{1}{9} & -\\frac{1}{9} & \\frac{2}{9} \\zeta_{12}^{2} - \\frac{2}{9} & \\frac{1}{9} \\zeta_{12}^{2} & -\\frac{2}{9} \\zeta_{12}^{2} & -\\frac{1}{9} & -\\frac{1}{9} \\zeta_{12}^{2} + \\frac{1}{9} & -\\frac{1}{9} \\zeta_{12}^{2} + \\frac{1}{9} & \\frac{1}{9} \\zeta_{12}^{2} & 0 & 0 & 0 & 0 & 0 & 0 & 0 & 0 & 0 & 0 & 0 & 0 & 0 & 0 & 0 & 0 & 0 & 0 \\\\\n",
       "\\frac{1}{9} & \\frac{1}{9} & \\frac{1}{9} \\zeta_{12}^{2} - \\frac{1}{9} & \\frac{1}{9} \\zeta_{12}^{2} - \\frac{1}{9} & -\\frac{1}{9} \\zeta_{12}^{2} & -\\frac{1}{9} \\zeta_{12}^{2} & \\frac{1}{9} \\zeta_{12}^{2} - \\frac{1}{9} & \\frac{1}{9} \\zeta_{12}^{2} - \\frac{1}{9} & -\\frac{1}{9} \\zeta_{12}^{2} & -\\frac{1}{9} \\zeta_{12}^{2} & \\frac{1}{9} & \\frac{1}{9} & -\\frac{1}{9} \\zeta_{12}^{2} & -\\frac{1}{9} \\zeta_{12}^{2} & \\frac{1}{9} & \\frac{1}{9} & \\frac{1}{9} \\zeta_{12}^{2} - \\frac{1}{9} & \\frac{1}{9} \\zeta_{12}^{2} - \\frac{1}{9} & \\frac{1}{9} \\zeta_{12}^{2} & -\\frac{1}{9} \\zeta_{12}^{2} + \\frac{1}{9} & -\\frac{1}{9} & \\frac{1}{9} \\zeta_{12}^{2} & \\frac{2}{9} \\zeta_{12}^{2} - \\frac{2}{9} & -\\frac{1}{9} & -\\frac{1}{9} \\zeta_{12}^{2} + \\frac{1}{9} & -\\frac{1}{9} & -\\frac{2}{9} \\zeta_{12}^{2} & -\\frac{1}{9} & \\frac{2}{9} & \\frac{1}{9} \\zeta_{12}^{2} & -\\frac{1}{9} \\zeta_{12}^{2} + \\frac{1}{9} & \\frac{1}{9} \\zeta_{12}^{2} & -\\frac{1}{9} \\zeta_{12}^{2} + \\frac{1}{9} & -\\frac{1}{9} \\zeta_{12}^{2} + \\frac{1}{9} & -\\frac{1}{9} & -\\frac{2}{9} \\zeta_{12}^{2} & -\\frac{1}{9} & -\\frac{2}{9} \\zeta_{12}^{2} & -\\frac{1}{9} \\zeta_{12}^{2} + \\frac{1}{9} & \\frac{2}{9} & \\frac{1}{9} \\zeta_{12}^{2} & -\\frac{1}{9} \\zeta_{12}^{2} + \\frac{1}{9} & \\frac{1}{9} \\zeta_{12}^{2} & -\\frac{1}{9} \\zeta_{12}^{2} + \\frac{1}{9} & \\frac{2}{9} & -\\frac{1}{9} \\zeta_{12}^{2} + \\frac{1}{9} & \\frac{1}{9} \\zeta_{12}^{2} & \\frac{2}{9} \\zeta_{12}^{2} - \\frac{2}{9} & -\\frac{1}{9} & \\frac{2}{9} \\zeta_{12}^{2} - \\frac{2}{9} & -\\frac{1}{9} & \\frac{1}{9} \\zeta_{12}^{2} & -\\frac{1}{9} & \\frac{1}{9} \\zeta_{12}^{2} & 0 & 0 & 0 & 0 & 0 & 0 & 0 & 0 & 0 & 0 & 0 & 0 & 0 & 0 & 0 & 0 & 0 & 0 \\\\\n",
       "\\frac{1}{9} & \\frac{1}{9} & -\\frac{1}{9} \\zeta_{12}^{2} & -\\frac{1}{9} \\zeta_{12}^{2} & \\frac{1}{9} \\zeta_{12}^{2} - \\frac{1}{9} & \\frac{1}{9} \\zeta_{12}^{2} - \\frac{1}{9} & \\frac{1}{9} \\zeta_{12}^{2} - \\frac{1}{9} & \\frac{1}{9} \\zeta_{12}^{2} - \\frac{1}{9} & \\frac{1}{9} & \\frac{1}{9} & -\\frac{1}{9} \\zeta_{12}^{2} & -\\frac{1}{9} \\zeta_{12}^{2} & -\\frac{1}{9} \\zeta_{12}^{2} & -\\frac{1}{9} \\zeta_{12}^{2} & \\frac{1}{9} \\zeta_{12}^{2} - \\frac{1}{9} & \\frac{1}{9} \\zeta_{12}^{2} - \\frac{1}{9} & \\frac{1}{9} & \\frac{1}{9} & \\frac{2}{9} \\zeta_{12}^{2} - \\frac{2}{9} & -\\frac{2}{9} \\zeta_{12}^{2} & \\frac{2}{9} & \\frac{1}{9} \\zeta_{12}^{2} & -\\frac{1}{9} & -\\frac{1}{9} \\zeta_{12}^{2} + \\frac{1}{9} & -\\frac{1}{9} & -\\frac{1}{9} \\zeta_{12}^{2} + \\frac{1}{9} & \\frac{1}{9} \\zeta_{12}^{2} & -\\frac{2}{9} \\zeta_{12}^{2} & -\\frac{1}{9} \\zeta_{12}^{2} + \\frac{1}{9} & \\frac{1}{9} \\zeta_{12}^{2} & -\\frac{1}{9} & \\frac{2}{9} & \\frac{2}{9} \\zeta_{12}^{2} - \\frac{2}{9} & -\\frac{1}{9} \\zeta_{12}^{2} + \\frac{1}{9} & \\frac{1}{9} \\zeta_{12}^{2} & -\\frac{1}{9} & -\\frac{1}{9} & -\\frac{1}{9} \\zeta_{12}^{2} + \\frac{1}{9} & \\frac{1}{9} \\zeta_{12}^{2} & \\frac{1}{9} \\zeta_{12}^{2} & -\\frac{1}{9} & -\\frac{1}{9} \\zeta_{12}^{2} + \\frac{1}{9} & -\\frac{1}{9} \\zeta_{12}^{2} + \\frac{1}{9} & \\frac{1}{9} \\zeta_{12}^{2} & -\\frac{1}{9} & \\frac{2}{9} & -\\frac{1}{9} & -\\frac{1}{9} \\zeta_{12}^{2} + \\frac{1}{9} & \\frac{1}{9} \\zeta_{12}^{2} & \\frac{1}{9} \\zeta_{12}^{2} & -\\frac{1}{9} & -\\frac{1}{9} \\zeta_{12}^{2} + \\frac{1}{9} & \\frac{2}{9} \\zeta_{12}^{2} - \\frac{2}{9} & -\\frac{2}{9} \\zeta_{12}^{2} & 0 & 0 & 0 & 0 & 0 & 0 & 0 & 0 & 0 & 0 & 0 & 0 & 0 & 0 & 0 & 0 & 0 & 0 \\\\\n",
       "\\frac{1}{9} & \\frac{1}{9} & \\frac{1}{9} & \\frac{1}{9} & \\frac{1}{9} & \\frac{1}{9} & \\frac{1}{9} \\zeta_{12}^{2} - \\frac{1}{9} & \\frac{1}{9} \\zeta_{12}^{2} - \\frac{1}{9} & \\frac{1}{9} \\zeta_{12}^{2} - \\frac{1}{9} & \\frac{1}{9} \\zeta_{12}^{2} - \\frac{1}{9} & \\frac{1}{9} \\zeta_{12}^{2} - \\frac{1}{9} & \\frac{1}{9} \\zeta_{12}^{2} - \\frac{1}{9} & -\\frac{1}{9} \\zeta_{12}^{2} & -\\frac{1}{9} \\zeta_{12}^{2} & -\\frac{1}{9} \\zeta_{12}^{2} & -\\frac{1}{9} \\zeta_{12}^{2} & -\\frac{1}{9} \\zeta_{12}^{2} & -\\frac{1}{9} \\zeta_{12}^{2} & -\\frac{1}{9} & -\\frac{1}{9} & -\\frac{1}{9} & \\frac{1}{9} \\zeta_{12}^{2} & \\frac{1}{9} \\zeta_{12}^{2} & -\\frac{2}{9} \\zeta_{12}^{2} & -\\frac{2}{9} \\zeta_{12}^{2} & \\frac{1}{9} \\zeta_{12}^{2} & \\frac{1}{9} \\zeta_{12}^{2} & -\\frac{1}{9} \\zeta_{12}^{2} + \\frac{1}{9} & \\frac{1}{9} \\zeta_{12}^{2} & -\\frac{2}{9} \\zeta_{12}^{2} & \\frac{1}{9} \\zeta_{12}^{2} & -\\frac{1}{9} \\zeta_{12}^{2} + \\frac{1}{9} & -\\frac{1}{9} \\zeta_{12}^{2} + \\frac{1}{9} & -\\frac{1}{9} \\zeta_{12}^{2} + \\frac{1}{9} & \\frac{2}{9} \\zeta_{12}^{2} - \\frac{2}{9} & -\\frac{1}{9} \\zeta_{12}^{2} + \\frac{1}{9} & -\\frac{1}{9} & -\\frac{1}{9} & \\frac{2}{9} & -\\frac{1}{9} \\zeta_{12}^{2} + \\frac{1}{9} & -\\frac{1}{9} \\zeta_{12}^{2} + \\frac{1}{9} & \\frac{2}{9} \\zeta_{12}^{2} - \\frac{2}{9} & \\frac{2}{9} & -\\frac{1}{9} & -\\frac{1}{9} & \\frac{1}{9} \\zeta_{12}^{2} & \\frac{2}{9} \\zeta_{12}^{2} - \\frac{2}{9} & -\\frac{1}{9} \\zeta_{12}^{2} + \\frac{1}{9} & -\\frac{1}{9} \\zeta_{12}^{2} + \\frac{1}{9} & -\\frac{1}{9} & \\frac{2}{9} & -\\frac{1}{9} & \\frac{1}{9} \\zeta_{12}^{2} & \\frac{1}{9} \\zeta_{12}^{2} & 0 & 0 & 0 & 0 & 0 & 0 & 0 & 0 & 0 & 0 & 0 & 0 & 0 & 0 & 0 & 0 & 0 & 0 \\\\\n",
       "\\frac{1}{9} & \\frac{1}{9} & \\frac{1}{9} \\zeta_{12}^{2} - \\frac{1}{9} & \\frac{1}{9} \\zeta_{12}^{2} - \\frac{1}{9} & -\\frac{1}{9} \\zeta_{12}^{2} & -\\frac{1}{9} \\zeta_{12}^{2} & -\\frac{1}{9} \\zeta_{12}^{2} & -\\frac{1}{9} \\zeta_{12}^{2} & \\frac{1}{9} & \\frac{1}{9} & \\frac{1}{9} \\zeta_{12}^{2} - \\frac{1}{9} & \\frac{1}{9} \\zeta_{12}^{2} - \\frac{1}{9} & \\frac{1}{9} \\zeta_{12}^{2} - \\frac{1}{9} & \\frac{1}{9} \\zeta_{12}^{2} - \\frac{1}{9} & -\\frac{1}{9} \\zeta_{12}^{2} & -\\frac{1}{9} \\zeta_{12}^{2} & \\frac{1}{9} & \\frac{1}{9} & \\frac{1}{9} \\zeta_{12}^{2} & -\\frac{1}{9} \\zeta_{12}^{2} + \\frac{1}{9} & -\\frac{1}{9} & \\frac{2}{9} \\zeta_{12}^{2} - \\frac{2}{9} & -\\frac{1}{9} & \\frac{1}{9} \\zeta_{12}^{2} & -\\frac{1}{9} & -\\frac{2}{9} \\zeta_{12}^{2} & -\\frac{1}{9} \\zeta_{12}^{2} + \\frac{1}{9} & -\\frac{1}{9} \\zeta_{12}^{2} + \\frac{1}{9} & \\frac{1}{9} \\zeta_{12}^{2} & -\\frac{1}{9} \\zeta_{12}^{2} + \\frac{1}{9} & \\frac{2}{9} & -\\frac{1}{9} & \\frac{1}{9} \\zeta_{12}^{2} & -\\frac{2}{9} \\zeta_{12}^{2} & -\\frac{1}{9} \\zeta_{12}^{2} + \\frac{1}{9} & -\\frac{1}{9} & \\frac{2}{9} & \\frac{1}{9} \\zeta_{12}^{2} & -\\frac{1}{9} \\zeta_{12}^{2} + \\frac{1}{9} & -\\frac{1}{9} \\zeta_{12}^{2} + \\frac{1}{9} & \\frac{2}{9} & \\frac{1}{9} \\zeta_{12}^{2} & \\frac{1}{9} \\zeta_{12}^{2} & \\frac{2}{9} \\zeta_{12}^{2} - \\frac{2}{9} & -\\frac{1}{9} & -\\frac{1}{9} & -\\frac{1}{9} & \\frac{1}{9} \\zeta_{12}^{2} & \\frac{2}{9} \\zeta_{12}^{2} - \\frac{2}{9} & -\\frac{1}{9} \\zeta_{12}^{2} + \\frac{1}{9} & -\\frac{1}{9} & -\\frac{2}{9} \\zeta_{12}^{2} & \\frac{1}{9} \\zeta_{12}^{2} & -\\frac{1}{9} \\zeta_{12}^{2} + \\frac{1}{9} & 0 & 0 & 0 & 0 & 0 & 0 & 0 & 0 & 0 & 0 & 0 & 0 & 0 & 0 & 0 & 0 & 0 & 0 \\\\\n",
       "\\frac{1}{9} & \\frac{1}{9} & -\\frac{1}{9} \\zeta_{12}^{2} & -\\frac{1}{9} \\zeta_{12}^{2} & \\frac{1}{9} \\zeta_{12}^{2} - \\frac{1}{9} & \\frac{1}{9} \\zeta_{12}^{2} - \\frac{1}{9} & \\frac{1}{9} \\zeta_{12}^{2} - \\frac{1}{9} & \\frac{1}{9} \\zeta_{12}^{2} - \\frac{1}{9} & \\frac{1}{9} & \\frac{1}{9} & -\\frac{1}{9} \\zeta_{12}^{2} & -\\frac{1}{9} \\zeta_{12}^{2} & -\\frac{1}{9} \\zeta_{12}^{2} & -\\frac{1}{9} \\zeta_{12}^{2} & \\frac{1}{9} \\zeta_{12}^{2} - \\frac{1}{9} & \\frac{1}{9} \\zeta_{12}^{2} - \\frac{1}{9} & \\frac{1}{9} & \\frac{1}{9} & -\\frac{1}{9} \\zeta_{12}^{2} + \\frac{1}{9} & \\frac{1}{9} \\zeta_{12}^{2} & -\\frac{1}{9} & \\frac{1}{9} \\zeta_{12}^{2} & -\\frac{1}{9} & \\frac{2}{9} \\zeta_{12}^{2} - \\frac{2}{9} & \\frac{2}{9} & -\\frac{1}{9} \\zeta_{12}^{2} + \\frac{1}{9} & \\frac{1}{9} \\zeta_{12}^{2} & \\frac{1}{9} \\zeta_{12}^{2} & -\\frac{1}{9} \\zeta_{12}^{2} + \\frac{1}{9} & -\\frac{2}{9} \\zeta_{12}^{2} & -\\frac{1}{9} & -\\frac{1}{9} & -\\frac{1}{9} \\zeta_{12}^{2} + \\frac{1}{9} & -\\frac{1}{9} \\zeta_{12}^{2} + \\frac{1}{9} & -\\frac{2}{9} \\zeta_{12}^{2} & -\\frac{1}{9} & -\\frac{1}{9} & -\\frac{1}{9} \\zeta_{12}^{2} + \\frac{1}{9} & -\\frac{2}{9} \\zeta_{12}^{2} & \\frac{1}{9} \\zeta_{12}^{2} & -\\frac{1}{9} & \\frac{2}{9} \\zeta_{12}^{2} - \\frac{2}{9} & \\frac{2}{9} \\zeta_{12}^{2} - \\frac{2}{9} & \\frac{1}{9} \\zeta_{12}^{2} & -\\frac{1}{9} & -\\frac{1}{9} & \\frac{2}{9} & -\\frac{1}{9} \\zeta_{12}^{2} + \\frac{1}{9} & \\frac{1}{9} \\zeta_{12}^{2} & \\frac{1}{9} \\zeta_{12}^{2} & \\frac{2}{9} & -\\frac{1}{9} \\zeta_{12}^{2} + \\frac{1}{9} & -\\frac{1}{9} \\zeta_{12}^{2} + \\frac{1}{9} & \\frac{1}{9} \\zeta_{12}^{2} & 0 & 0 & 0 & 0 & 0 & 0 & 0 & 0 & 0 & 0 & 0 & 0 & 0 & 0 & 0 & 0 & 0 & 0 \\\\\n",
       "\\frac{1}{9} & \\frac{1}{9} & \\frac{1}{9} & \\frac{1}{9} & \\frac{1}{9} & \\frac{1}{9} & \\frac{1}{9} \\zeta_{12}^{2} - \\frac{1}{9} & \\frac{1}{9} \\zeta_{12}^{2} - \\frac{1}{9} & \\frac{1}{9} \\zeta_{12}^{2} - \\frac{1}{9} & \\frac{1}{9} \\zeta_{12}^{2} - \\frac{1}{9} & \\frac{1}{9} \\zeta_{12}^{2} - \\frac{1}{9} & \\frac{1}{9} \\zeta_{12}^{2} - \\frac{1}{9} & -\\frac{1}{9} \\zeta_{12}^{2} & -\\frac{1}{9} \\zeta_{12}^{2} & -\\frac{1}{9} \\zeta_{12}^{2} & -\\frac{1}{9} \\zeta_{12}^{2} & -\\frac{1}{9} \\zeta_{12}^{2} & -\\frac{1}{9} \\zeta_{12}^{2} & -\\frac{1}{9} & -\\frac{1}{9} & -\\frac{1}{9} & \\frac{1}{9} \\zeta_{12}^{2} & -\\frac{2}{9} \\zeta_{12}^{2} & \\frac{1}{9} \\zeta_{12}^{2} & \\frac{1}{9} \\zeta_{12}^{2} & \\frac{1}{9} \\zeta_{12}^{2} & -\\frac{2}{9} \\zeta_{12}^{2} & -\\frac{1}{9} \\zeta_{12}^{2} + \\frac{1}{9} & -\\frac{2}{9} \\zeta_{12}^{2} & \\frac{1}{9} \\zeta_{12}^{2} & \\frac{1}{9} \\zeta_{12}^{2} & -\\frac{1}{9} \\zeta_{12}^{2} + \\frac{1}{9} & -\\frac{1}{9} \\zeta_{12}^{2} + \\frac{1}{9} & -\\frac{1}{9} \\zeta_{12}^{2} + \\frac{1}{9} & -\\frac{1}{9} \\zeta_{12}^{2} + \\frac{1}{9} & \\frac{2}{9} \\zeta_{12}^{2} - \\frac{2}{9} & -\\frac{1}{9} & \\frac{2}{9} & -\\frac{1}{9} & \\frac{2}{9} \\zeta_{12}^{2} - \\frac{2}{9} & -\\frac{1}{9} \\zeta_{12}^{2} + \\frac{1}{9} & -\\frac{1}{9} \\zeta_{12}^{2} + \\frac{1}{9} & -\\frac{1}{9} & -\\frac{1}{9} & \\frac{2}{9} & \\frac{1}{9} \\zeta_{12}^{2} & -\\frac{1}{9} \\zeta_{12}^{2} + \\frac{1}{9} & \\frac{2}{9} \\zeta_{12}^{2} - \\frac{2}{9} & -\\frac{1}{9} \\zeta_{12}^{2} + \\frac{1}{9} & \\frac{2}{9} & -\\frac{1}{9} & -\\frac{1}{9} & \\frac{1}{9} \\zeta_{12}^{2} & \\frac{1}{9} \\zeta_{12}^{2} & 0 & 0 & 0 & 0 & 0 & 0 & 0 & 0 & 0 & 0 & 0 & 0 & 0 & 0 & 0 & 0 & 0 & 0 \\\\\n",
       "\\frac{1}{9} & \\frac{1}{9} & \\frac{1}{9} \\zeta_{12}^{2} - \\frac{1}{9} & \\frac{1}{9} \\zeta_{12}^{2} - \\frac{1}{9} & -\\frac{1}{9} \\zeta_{12}^{2} & -\\frac{1}{9} \\zeta_{12}^{2} & \\frac{1}{9} \\zeta_{12}^{2} - \\frac{1}{9} & \\frac{1}{9} \\zeta_{12}^{2} - \\frac{1}{9} & -\\frac{1}{9} \\zeta_{12}^{2} & -\\frac{1}{9} \\zeta_{12}^{2} & \\frac{1}{9} & \\frac{1}{9} & -\\frac{1}{9} \\zeta_{12}^{2} & -\\frac{1}{9} \\zeta_{12}^{2} & \\frac{1}{9} & \\frac{1}{9} & \\frac{1}{9} \\zeta_{12}^{2} - \\frac{1}{9} & \\frac{1}{9} \\zeta_{12}^{2} - \\frac{1}{9} & -\\frac{2}{9} \\zeta_{12}^{2} & \\frac{2}{9} \\zeta_{12}^{2} - \\frac{2}{9} & \\frac{2}{9} & \\frac{1}{9} \\zeta_{12}^{2} & -\\frac{1}{9} \\zeta_{12}^{2} + \\frac{1}{9} & -\\frac{1}{9} & -\\frac{1}{9} \\zeta_{12}^{2} + \\frac{1}{9} & -\\frac{1}{9} & \\frac{1}{9} \\zeta_{12}^{2} & \\frac{2}{9} & -\\frac{1}{9} & \\frac{1}{9} \\zeta_{12}^{2} & -\\frac{1}{9} \\zeta_{12}^{2} + \\frac{1}{9} & -\\frac{2}{9} \\zeta_{12}^{2} & \\frac{2}{9} \\zeta_{12}^{2} - \\frac{2}{9} & -\\frac{1}{9} \\zeta_{12}^{2} + \\frac{1}{9} & -\\frac{1}{9} & \\frac{1}{9} \\zeta_{12}^{2} & -\\frac{1}{9} & \\frac{1}{9} \\zeta_{12}^{2} & -\\frac{1}{9} \\zeta_{12}^{2} + \\frac{1}{9} & -\\frac{1}{9} & \\frac{1}{9} \\zeta_{12}^{2} & -\\frac{1}{9} \\zeta_{12}^{2} + \\frac{1}{9} & \\frac{1}{9} \\zeta_{12}^{2} & -\\frac{1}{9} \\zeta_{12}^{2} + \\frac{1}{9} & -\\frac{1}{9} & \\frac{2}{9} \\zeta_{12}^{2} - \\frac{2}{9} & \\frac{1}{9} \\zeta_{12}^{2} & -\\frac{1}{9} \\zeta_{12}^{2} + \\frac{1}{9} & -\\frac{1}{9} & -\\frac{1}{9} \\zeta_{12}^{2} + \\frac{1}{9} & -\\frac{1}{9} & \\frac{1}{9} \\zeta_{12}^{2} & \\frac{2}{9} & -\\frac{2}{9} \\zeta_{12}^{2} & 0 & 0 & 0 & 0 & 0 & 0 & 0 & 0 & 0 & 0 & 0 & 0 & 0 & 0 & 0 & 0 & 0 & 0 \\\\\n",
       "\\frac{1}{9} & \\frac{1}{9} & -\\frac{1}{9} \\zeta_{12}^{2} & -\\frac{1}{9} \\zeta_{12}^{2} & \\frac{1}{9} \\zeta_{12}^{2} - \\frac{1}{9} & \\frac{1}{9} \\zeta_{12}^{2} - \\frac{1}{9} & -\\frac{1}{9} \\zeta_{12}^{2} & -\\frac{1}{9} \\zeta_{12}^{2} & \\frac{1}{9} \\zeta_{12}^{2} - \\frac{1}{9} & \\frac{1}{9} \\zeta_{12}^{2} - \\frac{1}{9} & \\frac{1}{9} & \\frac{1}{9} & \\frac{1}{9} \\zeta_{12}^{2} - \\frac{1}{9} & \\frac{1}{9} \\zeta_{12}^{2} - \\frac{1}{9} & \\frac{1}{9} & \\frac{1}{9} & -\\frac{1}{9} \\zeta_{12}^{2} & -\\frac{1}{9} \\zeta_{12}^{2} & -\\frac{1}{9} \\zeta_{12}^{2} + \\frac{1}{9} & \\frac{1}{9} \\zeta_{12}^{2} & -\\frac{1}{9} & \\frac{2}{9} \\zeta_{12}^{2} - \\frac{2}{9} & \\frac{1}{9} \\zeta_{12}^{2} & -\\frac{1}{9} & \\frac{1}{9} \\zeta_{12}^{2} & \\frac{2}{9} & -\\frac{1}{9} \\zeta_{12}^{2} + \\frac{1}{9} & -\\frac{1}{9} & -\\frac{1}{9} & -\\frac{1}{9} \\zeta_{12}^{2} + \\frac{1}{9} & -\\frac{2}{9} \\zeta_{12}^{2} & -\\frac{1}{9} \\zeta_{12}^{2} + \\frac{1}{9} & \\frac{1}{9} \\zeta_{12}^{2} & -\\frac{2}{9} \\zeta_{12}^{2} & -\\frac{1}{9} & -\\frac{1}{9} \\zeta_{12}^{2} + \\frac{1}{9} & \\frac{2}{9} & -\\frac{1}{9} \\zeta_{12}^{2} + \\frac{1}{9} & \\frac{1}{9} \\zeta_{12}^{2} & -\\frac{1}{9} & \\frac{2}{9} \\zeta_{12}^{2} - \\frac{2}{9} & \\frac{1}{9} \\zeta_{12}^{2} & -\\frac{1}{9} \\zeta_{12}^{2} + \\frac{1}{9} & -\\frac{2}{9} \\zeta_{12}^{2} & -\\frac{1}{9} & \\frac{1}{9} \\zeta_{12}^{2} & -\\frac{1}{9} \\zeta_{12}^{2} + \\frac{1}{9} & \\frac{1}{9} \\zeta_{12}^{2} & \\frac{2}{9} & \\frac{1}{9} \\zeta_{12}^{2} & -\\frac{1}{9} & \\frac{2}{9} \\zeta_{12}^{2} - \\frac{2}{9} & -\\frac{1}{9} & -\\frac{1}{9} \\zeta_{12}^{2} + \\frac{1}{9} & 0 & 0 & 0 & 0 & 0 & 0 & 0 & 0 & 0 & 0 & 0 & 0 & 0 & 0 & 0 & 0 & 0 & 0 \\\\\n",
       "\\frac{1}{9} & \\frac{1}{9} & \\frac{1}{9} & \\frac{1}{9} & \\frac{1}{9} & \\frac{1}{9} & -\\frac{1}{9} \\zeta_{12}^{2} & -\\frac{1}{9} \\zeta_{12}^{2} & -\\frac{1}{9} \\zeta_{12}^{2} & -\\frac{1}{9} \\zeta_{12}^{2} & -\\frac{1}{9} \\zeta_{12}^{2} & -\\frac{1}{9} \\zeta_{12}^{2} & \\frac{1}{9} \\zeta_{12}^{2} - \\frac{1}{9} & \\frac{1}{9} \\zeta_{12}^{2} - \\frac{1}{9} & \\frac{1}{9} \\zeta_{12}^{2} - \\frac{1}{9} & \\frac{1}{9} \\zeta_{12}^{2} - \\frac{1}{9} & \\frac{1}{9} \\zeta_{12}^{2} - \\frac{1}{9} & \\frac{1}{9} \\zeta_{12}^{2} - \\frac{1}{9} & -\\frac{1}{9} & -\\frac{1}{9} & -\\frac{1}{9} & \\frac{2}{9} \\zeta_{12}^{2} - \\frac{2}{9} & -\\frac{1}{9} \\zeta_{12}^{2} + \\frac{1}{9} & -\\frac{1}{9} \\zeta_{12}^{2} + \\frac{1}{9} & -\\frac{1}{9} \\zeta_{12}^{2} + \\frac{1}{9} & \\frac{2}{9} \\zeta_{12}^{2} - \\frac{2}{9} & -\\frac{1}{9} \\zeta_{12}^{2} + \\frac{1}{9} & \\frac{1}{9} \\zeta_{12}^{2} & -\\frac{1}{9} \\zeta_{12}^{2} + \\frac{1}{9} & -\\frac{1}{9} \\zeta_{12}^{2} + \\frac{1}{9} & \\frac{2}{9} \\zeta_{12}^{2} - \\frac{2}{9} & \\frac{1}{9} \\zeta_{12}^{2} & \\frac{1}{9} \\zeta_{12}^{2} & -\\frac{2}{9} \\zeta_{12}^{2} & \\frac{1}{9} \\zeta_{12}^{2} & \\frac{1}{9} \\zeta_{12}^{2} & \\frac{2}{9} & -\\frac{1}{9} & -\\frac{1}{9} & \\frac{1}{9} \\zeta_{12}^{2} & -\\frac{2}{9} \\zeta_{12}^{2} & \\frac{1}{9} \\zeta_{12}^{2} & -\\frac{1}{9} & \\frac{2}{9} & -\\frac{1}{9} & -\\frac{1}{9} \\zeta_{12}^{2} + \\frac{1}{9} & \\frac{1}{9} \\zeta_{12}^{2} & \\frac{1}{9} \\zeta_{12}^{2} & -\\frac{2}{9} \\zeta_{12}^{2} & -\\frac{1}{9} & -\\frac{1}{9} & \\frac{2}{9} & -\\frac{1}{9} \\zeta_{12}^{2} + \\frac{1}{9} & -\\frac{1}{9} \\zeta_{12}^{2} + \\frac{1}{9} & 0 & 0 & 0 & 0 & 0 & 0 & 0 & 0 & 0 & 0 & 0 & 0 & 0 & 0 & 0 & 0 & 0 & 0 \\\\\n",
       "\\frac{1}{9} & \\frac{1}{9} & \\frac{1}{9} & \\frac{1}{9} & \\frac{1}{9} & \\frac{1}{9} & -\\frac{1}{9} \\zeta_{12}^{2} & -\\frac{1}{9} \\zeta_{12}^{2} & -\\frac{1}{9} \\zeta_{12}^{2} & -\\frac{1}{9} \\zeta_{12}^{2} & -\\frac{1}{9} \\zeta_{12}^{2} & -\\frac{1}{9} \\zeta_{12}^{2} & \\frac{1}{9} \\zeta_{12}^{2} - \\frac{1}{9} & \\frac{1}{9} \\zeta_{12}^{2} - \\frac{1}{9} & \\frac{1}{9} \\zeta_{12}^{2} - \\frac{1}{9} & \\frac{1}{9} \\zeta_{12}^{2} - \\frac{1}{9} & \\frac{1}{9} \\zeta_{12}^{2} - \\frac{1}{9} & \\frac{1}{9} \\zeta_{12}^{2} - \\frac{1}{9} & \\frac{2}{9} & \\frac{2}{9} & \\frac{2}{9} & -\\frac{1}{9} \\zeta_{12}^{2} + \\frac{1}{9} & -\\frac{1}{9} \\zeta_{12}^{2} + \\frac{1}{9} & -\\frac{1}{9} \\zeta_{12}^{2} + \\frac{1}{9} & -\\frac{1}{9} \\zeta_{12}^{2} + \\frac{1}{9} & -\\frac{1}{9} \\zeta_{12}^{2} + \\frac{1}{9} & -\\frac{1}{9} \\zeta_{12}^{2} + \\frac{1}{9} & -\\frac{2}{9} \\zeta_{12}^{2} & -\\frac{1}{9} \\zeta_{12}^{2} + \\frac{1}{9} & -\\frac{1}{9} \\zeta_{12}^{2} + \\frac{1}{9} & -\\frac{1}{9} \\zeta_{12}^{2} + \\frac{1}{9} & -\\frac{2}{9} \\zeta_{12}^{2} & -\\frac{2}{9} \\zeta_{12}^{2} & \\frac{1}{9} \\zeta_{12}^{2} & \\frac{1}{9} \\zeta_{12}^{2} & \\frac{1}{9} \\zeta_{12}^{2} & -\\frac{1}{9} & -\\frac{1}{9} & -\\frac{1}{9} & \\frac{1}{9} \\zeta_{12}^{2} & \\frac{1}{9} \\zeta_{12}^{2} & \\frac{1}{9} \\zeta_{12}^{2} & -\\frac{1}{9} & -\\frac{1}{9} & -\\frac{1}{9} & \\frac{2}{9} \\zeta_{12}^{2} - \\frac{2}{9} & \\frac{1}{9} \\zeta_{12}^{2} & \\frac{1}{9} \\zeta_{12}^{2} & \\frac{1}{9} \\zeta_{12}^{2} & -\\frac{1}{9} & -\\frac{1}{9} & -\\frac{1}{9} & \\frac{2}{9} \\zeta_{12}^{2} - \\frac{2}{9} & \\frac{2}{9} \\zeta_{12}^{2} - \\frac{2}{9} & 0 & 0 & 0 & 0 & 0 & 0 & 0 & 0 & 0 & 0 & 0 & 0 & 0 & 0 & 0 & 0 & 0 & 0 \\\\\n",
       "\\frac{1}{9} & \\frac{1}{9} & \\frac{1}{9} \\zeta_{12}^{2} - \\frac{1}{9} & \\frac{1}{9} \\zeta_{12}^{2} - \\frac{1}{9} & -\\frac{1}{9} \\zeta_{12}^{2} & -\\frac{1}{9} \\zeta_{12}^{2} & -\\frac{1}{9} \\zeta_{12}^{2} & -\\frac{1}{9} \\zeta_{12}^{2} & \\frac{1}{9} & \\frac{1}{9} & \\frac{1}{9} \\zeta_{12}^{2} - \\frac{1}{9} & \\frac{1}{9} \\zeta_{12}^{2} - \\frac{1}{9} & \\frac{1}{9} \\zeta_{12}^{2} - \\frac{1}{9} & \\frac{1}{9} \\zeta_{12}^{2} - \\frac{1}{9} & -\\frac{1}{9} \\zeta_{12}^{2} & -\\frac{1}{9} \\zeta_{12}^{2} & \\frac{1}{9} & \\frac{1}{9} & \\frac{1}{9} \\zeta_{12}^{2} & -\\frac{1}{9} \\zeta_{12}^{2} + \\frac{1}{9} & -\\frac{1}{9} & -\\frac{1}{9} \\zeta_{12}^{2} + \\frac{1}{9} & \\frac{2}{9} & \\frac{1}{9} \\zeta_{12}^{2} & -\\frac{1}{9} & \\frac{1}{9} \\zeta_{12}^{2} & \\frac{2}{9} \\zeta_{12}^{2} - \\frac{2}{9} & -\\frac{1}{9} \\zeta_{12}^{2} + \\frac{1}{9} & -\\frac{2}{9} \\zeta_{12}^{2} & -\\frac{1}{9} \\zeta_{12}^{2} + \\frac{1}{9} & -\\frac{1}{9} & -\\frac{1}{9} & \\frac{1}{9} \\zeta_{12}^{2} & \\frac{1}{9} \\zeta_{12}^{2} & -\\frac{1}{9} \\zeta_{12}^{2} + \\frac{1}{9} & \\frac{2}{9} & -\\frac{1}{9} & -\\frac{2}{9} \\zeta_{12}^{2} & -\\frac{1}{9} \\zeta_{12}^{2} + \\frac{1}{9} & \\frac{2}{9} \\zeta_{12}^{2} - \\frac{2}{9} & -\\frac{1}{9} & \\frac{1}{9} \\zeta_{12}^{2} & \\frac{1}{9} \\zeta_{12}^{2} & -\\frac{1}{9} \\zeta_{12}^{2} + \\frac{1}{9} & \\frac{2}{9} & -\\frac{1}{9} & -\\frac{1}{9} & -\\frac{2}{9} \\zeta_{12}^{2} & -\\frac{1}{9} \\zeta_{12}^{2} + \\frac{1}{9} & \\frac{2}{9} \\zeta_{12}^{2} - \\frac{2}{9} & -\\frac{1}{9} & \\frac{1}{9} \\zeta_{12}^{2} & \\frac{1}{9} \\zeta_{12}^{2} & -\\frac{1}{9} \\zeta_{12}^{2} + \\frac{1}{9} & 0 & 0 & 0 & 0 & 0 & 0 & 0 & 0 & 0 & 0 & 0 & 0 & 0 & 0 & 0 & 0 & 0 & 0 \\\\\n",
       "\\frac{1}{9} & \\frac{1}{9} & -\\frac{1}{9} \\zeta_{12}^{2} & -\\frac{1}{9} \\zeta_{12}^{2} & \\frac{1}{9} \\zeta_{12}^{2} - \\frac{1}{9} & \\frac{1}{9} \\zeta_{12}^{2} - \\frac{1}{9} & -\\frac{1}{9} \\zeta_{12}^{2} & -\\frac{1}{9} \\zeta_{12}^{2} & \\frac{1}{9} \\zeta_{12}^{2} - \\frac{1}{9} & \\frac{1}{9} \\zeta_{12}^{2} - \\frac{1}{9} & \\frac{1}{9} & \\frac{1}{9} & \\frac{1}{9} \\zeta_{12}^{2} - \\frac{1}{9} & \\frac{1}{9} \\zeta_{12}^{2} - \\frac{1}{9} & \\frac{1}{9} & \\frac{1}{9} & -\\frac{1}{9} \\zeta_{12}^{2} & -\\frac{1}{9} \\zeta_{12}^{2} & -\\frac{1}{9} \\zeta_{12}^{2} + \\frac{1}{9} & \\frac{1}{9} \\zeta_{12}^{2} & -\\frac{1}{9} & -\\frac{1}{9} \\zeta_{12}^{2} + \\frac{1}{9} & \\frac{1}{9} \\zeta_{12}^{2} & \\frac{2}{9} & -\\frac{2}{9} \\zeta_{12}^{2} & -\\frac{1}{9} & -\\frac{1}{9} \\zeta_{12}^{2} + \\frac{1}{9} & -\\frac{1}{9} & -\\frac{1}{9} & \\frac{2}{9} \\zeta_{12}^{2} - \\frac{2}{9} & \\frac{1}{9} \\zeta_{12}^{2} & -\\frac{1}{9} \\zeta_{12}^{2} + \\frac{1}{9} & \\frac{1}{9} \\zeta_{12}^{2} & \\frac{1}{9} \\zeta_{12}^{2} & \\frac{2}{9} & -\\frac{1}{9} \\zeta_{12}^{2} + \\frac{1}{9} & -\\frac{1}{9} & -\\frac{1}{9} \\zeta_{12}^{2} + \\frac{1}{9} & -\\frac{2}{9} \\zeta_{12}^{2} & -\\frac{1}{9} & -\\frac{1}{9} \\zeta_{12}^{2} + \\frac{1}{9} & -\\frac{2}{9} \\zeta_{12}^{2} & \\frac{2}{9} \\zeta_{12}^{2} - \\frac{2}{9} & \\frac{1}{9} \\zeta_{12}^{2} & -\\frac{1}{9} & \\frac{1}{9} \\zeta_{12}^{2} & \\frac{2}{9} \\zeta_{12}^{2} - \\frac{2}{9} & \\frac{1}{9} \\zeta_{12}^{2} & -\\frac{1}{9} & \\frac{1}{9} \\zeta_{12}^{2} & \\frac{2}{9} & -\\frac{1}{9} \\zeta_{12}^{2} + \\frac{1}{9} & -\\frac{1}{9} & -\\frac{1}{9} \\zeta_{12}^{2} + \\frac{1}{9} & 0 & 0 & 0 & 0 & 0 & 0 & 0 & 0 & 0 & 0 & 0 & 0 & 0 & 0 & 0 & 0 & 0 & 0 \\\\\n",
       "\\frac{1}{9} & \\frac{1}{9} & \\frac{1}{9} & \\frac{1}{9} & \\frac{1}{9} & \\frac{1}{9} & \\frac{1}{9} & \\frac{1}{9} & \\frac{1}{9} & \\frac{1}{9} & \\frac{1}{9} & \\frac{1}{9} & \\frac{1}{9} & \\frac{1}{9} & \\frac{1}{9} & \\frac{1}{9} & \\frac{1}{9} & \\frac{1}{9} & \\frac{2}{9} & \\frac{2}{9} & \\frac{2}{9} & -\\frac{1}{9} & -\\frac{1}{9} & -\\frac{1}{9} & -\\frac{1}{9} & -\\frac{1}{9} & -\\frac{1}{9} & \\frac{2}{9} & -\\frac{1}{9} & -\\frac{1}{9} & -\\frac{1}{9} & \\frac{2}{9} & \\frac{2}{9} & -\\frac{1}{9} & -\\frac{1}{9} & -\\frac{1}{9} & -\\frac{1}{9} & -\\frac{1}{9} & -\\frac{1}{9} & -\\frac{1}{9} & -\\frac{1}{9} & -\\frac{1}{9} & -\\frac{1}{9} & -\\frac{1}{9} & -\\frac{1}{9} & \\frac{2}{9} & -\\frac{1}{9} & -\\frac{1}{9} & -\\frac{1}{9} & -\\frac{1}{9} & -\\frac{1}{9} & -\\frac{1}{9} & \\frac{2}{9} & \\frac{2}{9} & 0 & 0 & 0 & 0 & 0 & 0 & 0 & 0 & 0 & 0 & 0 & 0 & 0 & 0 & 0 & 0 & 0 & 0 \\\\\n",
       "\\frac{1}{9} & \\frac{1}{9} & \\frac{1}{9} \\zeta_{12}^{2} - \\frac{1}{9} & \\frac{1}{9} \\zeta_{12}^{2} - \\frac{1}{9} & -\\frac{1}{9} \\zeta_{12}^{2} & -\\frac{1}{9} \\zeta_{12}^{2} & \\frac{1}{9} & \\frac{1}{9} & \\frac{1}{9} \\zeta_{12}^{2} - \\frac{1}{9} & \\frac{1}{9} \\zeta_{12}^{2} - \\frac{1}{9} & -\\frac{1}{9} \\zeta_{12}^{2} & -\\frac{1}{9} \\zeta_{12}^{2} & \\frac{1}{9} & \\frac{1}{9} & \\frac{1}{9} \\zeta_{12}^{2} - \\frac{1}{9} & \\frac{1}{9} \\zeta_{12}^{2} - \\frac{1}{9} & -\\frac{1}{9} \\zeta_{12}^{2} & -\\frac{1}{9} \\zeta_{12}^{2} & \\frac{1}{9} \\zeta_{12}^{2} & -\\frac{1}{9} \\zeta_{12}^{2} + \\frac{1}{9} & -\\frac{1}{9} & -\\frac{1}{9} & \\frac{1}{9} \\zeta_{12}^{2} & \\frac{2}{9} \\zeta_{12}^{2} - \\frac{2}{9} & -\\frac{2}{9} \\zeta_{12}^{2} & -\\frac{1}{9} \\zeta_{12}^{2} + \\frac{1}{9} & -\\frac{1}{9} & \\frac{1}{9} \\zeta_{12}^{2} & -\\frac{1}{9} \\zeta_{12}^{2} + \\frac{1}{9} & \\frac{2}{9} & \\frac{1}{9} \\zeta_{12}^{2} & -\\frac{1}{9} \\zeta_{12}^{2} + \\frac{1}{9} & -\\frac{1}{9} & -\\frac{1}{9} & -\\frac{2}{9} \\zeta_{12}^{2} & -\\frac{1}{9} \\zeta_{12}^{2} + \\frac{1}{9} & -\\frac{1}{9} & \\frac{1}{9} \\zeta_{12}^{2} & \\frac{2}{9} \\zeta_{12}^{2} - \\frac{2}{9} & \\frac{1}{9} \\zeta_{12}^{2} & -\\frac{1}{9} \\zeta_{12}^{2} + \\frac{1}{9} & \\frac{2}{9} & -\\frac{2}{9} \\zeta_{12}^{2} & -\\frac{1}{9} \\zeta_{12}^{2} + \\frac{1}{9} & -\\frac{1}{9} & \\frac{1}{9} \\zeta_{12}^{2} & \\frac{2}{9} \\zeta_{12}^{2} - \\frac{2}{9} & -\\frac{1}{9} & \\frac{1}{9} \\zeta_{12}^{2} & -\\frac{1}{9} \\zeta_{12}^{2} + \\frac{1}{9} & \\frac{2}{9} & \\frac{1}{9} \\zeta_{12}^{2} & -\\frac{1}{9} \\zeta_{12}^{2} + \\frac{1}{9} & -\\frac{1}{9} & 0 & 0 & 0 & 0 & 0 & 0 & 0 & 0 & 0 & 0 & 0 & 0 & 0 & 0 & 0 & 0 & 0 & 0 \\\\\n",
       "\\frac{1}{9} & \\frac{1}{9} & -\\frac{1}{9} \\zeta_{12}^{2} & -\\frac{1}{9} \\zeta_{12}^{2} & \\frac{1}{9} \\zeta_{12}^{2} - \\frac{1}{9} & \\frac{1}{9} \\zeta_{12}^{2} - \\frac{1}{9} & \\frac{1}{9} & \\frac{1}{9} & -\\frac{1}{9} \\zeta_{12}^{2} & -\\frac{1}{9} \\zeta_{12}^{2} & \\frac{1}{9} \\zeta_{12}^{2} - \\frac{1}{9} & \\frac{1}{9} \\zeta_{12}^{2} - \\frac{1}{9} & \\frac{1}{9} & \\frac{1}{9} & -\\frac{1}{9} \\zeta_{12}^{2} & -\\frac{1}{9} \\zeta_{12}^{2} & \\frac{1}{9} \\zeta_{12}^{2} - \\frac{1}{9} & \\frac{1}{9} \\zeta_{12}^{2} - \\frac{1}{9} & -\\frac{1}{9} \\zeta_{12}^{2} + \\frac{1}{9} & \\frac{1}{9} \\zeta_{12}^{2} & -\\frac{1}{9} & -\\frac{1}{9} & \\frac{2}{9} \\zeta_{12}^{2} - \\frac{2}{9} & \\frac{1}{9} \\zeta_{12}^{2} & -\\frac{1}{9} \\zeta_{12}^{2} + \\frac{1}{9} & \\frac{1}{9} \\zeta_{12}^{2} & \\frac{2}{9} & -\\frac{1}{9} \\zeta_{12}^{2} + \\frac{1}{9} & -\\frac{2}{9} \\zeta_{12}^{2} & -\\frac{1}{9} & -\\frac{1}{9} \\zeta_{12}^{2} + \\frac{1}{9} & \\frac{1}{9} \\zeta_{12}^{2} & -\\frac{1}{9} & -\\frac{1}{9} & -\\frac{1}{9} \\zeta_{12}^{2} + \\frac{1}{9} & -\\frac{2}{9} \\zeta_{12}^{2} & -\\frac{1}{9} & \\frac{2}{9} \\zeta_{12}^{2} - \\frac{2}{9} & \\frac{1}{9} \\zeta_{12}^{2} & \\frac{2}{9} \\zeta_{12}^{2} - \\frac{2}{9} & \\frac{1}{9} \\zeta_{12}^{2} & -\\frac{1}{9} & -\\frac{1}{9} \\zeta_{12}^{2} + \\frac{1}{9} & \\frac{1}{9} \\zeta_{12}^{2} & \\frac{2}{9} & -\\frac{1}{9} \\zeta_{12}^{2} + \\frac{1}{9} & \\frac{1}{9} \\zeta_{12}^{2} & \\frac{2}{9} & -\\frac{1}{9} \\zeta_{12}^{2} + \\frac{1}{9} & -\\frac{2}{9} \\zeta_{12}^{2} & -\\frac{1}{9} & -\\frac{1}{9} \\zeta_{12}^{2} + \\frac{1}{9} & \\frac{1}{9} \\zeta_{12}^{2} & -\\frac{1}{9} & 0 & 0 & 0 & 0 & 0 & 0 & 0 & 0 & 0 & 0 & 0 & 0 & 0 & 0 & 0 & 0 & 0 & 0 \\\\\n",
       "\\frac{1}{9} & \\frac{1}{9} & \\frac{1}{9} \\zeta_{12}^{2} - \\frac{1}{9} & \\frac{1}{9} \\zeta_{12}^{2} - \\frac{1}{9} & -\\frac{1}{9} \\zeta_{12}^{2} & -\\frac{1}{9} \\zeta_{12}^{2} & -\\frac{1}{9} \\zeta_{12}^{2} & -\\frac{1}{9} \\zeta_{12}^{2} & \\frac{1}{9} & \\frac{1}{9} & \\frac{1}{9} \\zeta_{12}^{2} - \\frac{1}{9} & \\frac{1}{9} \\zeta_{12}^{2} - \\frac{1}{9} & \\frac{1}{9} \\zeta_{12}^{2} - \\frac{1}{9} & \\frac{1}{9} \\zeta_{12}^{2} - \\frac{1}{9} & -\\frac{1}{9} \\zeta_{12}^{2} & -\\frac{1}{9} \\zeta_{12}^{2} & \\frac{1}{9} & \\frac{1}{9} & \\frac{1}{9} \\zeta_{12}^{2} & -\\frac{1}{9} \\zeta_{12}^{2} + \\frac{1}{9} & -\\frac{1}{9} & -\\frac{1}{9} \\zeta_{12}^{2} + \\frac{1}{9} & -\\frac{1}{9} & -\\frac{2}{9} \\zeta_{12}^{2} & \\frac{2}{9} & \\frac{1}{9} \\zeta_{12}^{2} & -\\frac{1}{9} \\zeta_{12}^{2} + \\frac{1}{9} & -\\frac{1}{9} \\zeta_{12}^{2} + \\frac{1}{9} & \\frac{1}{9} \\zeta_{12}^{2} & \\frac{2}{9} \\zeta_{12}^{2} - \\frac{2}{9} & -\\frac{1}{9} & -\\frac{1}{9} & \\frac{1}{9} \\zeta_{12}^{2} & \\frac{1}{9} \\zeta_{12}^{2} & \\frac{2}{9} \\zeta_{12}^{2} - \\frac{2}{9} & -\\frac{1}{9} & -\\frac{1}{9} & \\frac{1}{9} \\zeta_{12}^{2} & \\frac{2}{9} \\zeta_{12}^{2} - \\frac{2}{9} & -\\frac{1}{9} \\zeta_{12}^{2} + \\frac{1}{9} & -\\frac{1}{9} & -\\frac{2}{9} \\zeta_{12}^{2} & -\\frac{2}{9} \\zeta_{12}^{2} & -\\frac{1}{9} \\zeta_{12}^{2} + \\frac{1}{9} & -\\frac{1}{9} & -\\frac{1}{9} & \\frac{2}{9} & \\frac{1}{9} \\zeta_{12}^{2} & -\\frac{1}{9} \\zeta_{12}^{2} + \\frac{1}{9} & -\\frac{1}{9} \\zeta_{12}^{2} + \\frac{1}{9} & \\frac{2}{9} & \\frac{1}{9} \\zeta_{12}^{2} & \\frac{1}{9} \\zeta_{12}^{2} & -\\frac{1}{9} \\zeta_{12}^{2} + \\frac{1}{9} & 0 & 0 & 0 & 0 & 0 & 0 & 0 & 0 & 0 & 0 & 0 & 0 & 0 & 0 & 0 & 0 & 0 & 0 \\\\\n",
       "\\frac{1}{9} & \\frac{1}{9} & -\\frac{1}{9} \\zeta_{12}^{2} & -\\frac{1}{9} \\zeta_{12}^{2} & \\frac{1}{9} \\zeta_{12}^{2} - \\frac{1}{9} & \\frac{1}{9} \\zeta_{12}^{2} - \\frac{1}{9} & -\\frac{1}{9} \\zeta_{12}^{2} & -\\frac{1}{9} \\zeta_{12}^{2} & \\frac{1}{9} \\zeta_{12}^{2} - \\frac{1}{9} & \\frac{1}{9} \\zeta_{12}^{2} - \\frac{1}{9} & \\frac{1}{9} & \\frac{1}{9} & \\frac{1}{9} \\zeta_{12}^{2} - \\frac{1}{9} & \\frac{1}{9} \\zeta_{12}^{2} - \\frac{1}{9} & \\frac{1}{9} & \\frac{1}{9} & -\\frac{1}{9} \\zeta_{12}^{2} & -\\frac{1}{9} \\zeta_{12}^{2} & \\frac{2}{9} \\zeta_{12}^{2} - \\frac{2}{9} & -\\frac{2}{9} \\zeta_{12}^{2} & \\frac{2}{9} & -\\frac{1}{9} \\zeta_{12}^{2} + \\frac{1}{9} & \\frac{1}{9} \\zeta_{12}^{2} & -\\frac{1}{9} & \\frac{1}{9} \\zeta_{12}^{2} & -\\frac{1}{9} & -\\frac{1}{9} \\zeta_{12}^{2} + \\frac{1}{9} & \\frac{2}{9} & -\\frac{1}{9} & -\\frac{1}{9} \\zeta_{12}^{2} + \\frac{1}{9} & \\frac{1}{9} \\zeta_{12}^{2} & \\frac{2}{9} \\zeta_{12}^{2} - \\frac{2}{9} & -\\frac{2}{9} \\zeta_{12}^{2} & \\frac{1}{9} \\zeta_{12}^{2} & -\\frac{1}{9} & -\\frac{1}{9} \\zeta_{12}^{2} + \\frac{1}{9} & -\\frac{1}{9} & -\\frac{1}{9} \\zeta_{12}^{2} + \\frac{1}{9} & \\frac{1}{9} \\zeta_{12}^{2} & -\\frac{1}{9} & -\\frac{1}{9} \\zeta_{12}^{2} + \\frac{1}{9} & \\frac{1}{9} \\zeta_{12}^{2} & -\\frac{1}{9} \\zeta_{12}^{2} + \\frac{1}{9} & \\frac{1}{9} \\zeta_{12}^{2} & -\\frac{1}{9} & -\\frac{2}{9} \\zeta_{12}^{2} & -\\frac{1}{9} \\zeta_{12}^{2} + \\frac{1}{9} & \\frac{1}{9} \\zeta_{12}^{2} & -\\frac{1}{9} & \\frac{1}{9} \\zeta_{12}^{2} & -\\frac{1}{9} & -\\frac{1}{9} \\zeta_{12}^{2} + \\frac{1}{9} & \\frac{2}{9} & \\frac{2}{9} \\zeta_{12}^{2} - \\frac{2}{9} & 0 & 0 & 0 & 0 & 0 & 0 & 0 & 0 & 0 & 0 & 0 & 0 & 0 & 0 & 0 & 0 & 0 & 0 \\\\\n",
       "\\frac{1}{9} & \\frac{1}{9} & \\frac{1}{9} & \\frac{1}{9} & \\frac{1}{9} & \\frac{1}{9} & -\\frac{1}{9} \\zeta_{12}^{2} & -\\frac{1}{9} \\zeta_{12}^{2} & -\\frac{1}{9} \\zeta_{12}^{2} & -\\frac{1}{9} \\zeta_{12}^{2} & -\\frac{1}{9} \\zeta_{12}^{2} & -\\frac{1}{9} \\zeta_{12}^{2} & \\frac{1}{9} \\zeta_{12}^{2} - \\frac{1}{9} & \\frac{1}{9} \\zeta_{12}^{2} - \\frac{1}{9} & \\frac{1}{9} \\zeta_{12}^{2} - \\frac{1}{9} & \\frac{1}{9} \\zeta_{12}^{2} - \\frac{1}{9} & \\frac{1}{9} \\zeta_{12}^{2} - \\frac{1}{9} & \\frac{1}{9} \\zeta_{12}^{2} - \\frac{1}{9} & -\\frac{1}{9} & -\\frac{1}{9} & -\\frac{1}{9} & -\\frac{1}{9} \\zeta_{12}^{2} + \\frac{1}{9} & \\frac{2}{9} \\zeta_{12}^{2} - \\frac{2}{9} & -\\frac{1}{9} \\zeta_{12}^{2} + \\frac{1}{9} & -\\frac{1}{9} \\zeta_{12}^{2} + \\frac{1}{9} & -\\frac{1}{9} \\zeta_{12}^{2} + \\frac{1}{9} & \\frac{2}{9} \\zeta_{12}^{2} - \\frac{2}{9} & \\frac{1}{9} \\zeta_{12}^{2} & \\frac{2}{9} \\zeta_{12}^{2} - \\frac{2}{9} & -\\frac{1}{9} \\zeta_{12}^{2} + \\frac{1}{9} & -\\frac{1}{9} \\zeta_{12}^{2} + \\frac{1}{9} & \\frac{1}{9} \\zeta_{12}^{2} & \\frac{1}{9} \\zeta_{12}^{2} & \\frac{1}{9} \\zeta_{12}^{2} & \\frac{1}{9} \\zeta_{12}^{2} & -\\frac{2}{9} \\zeta_{12}^{2} & -\\frac{1}{9} & \\frac{2}{9} & -\\frac{1}{9} & -\\frac{2}{9} \\zeta_{12}^{2} & \\frac{1}{9} \\zeta_{12}^{2} & \\frac{1}{9} \\zeta_{12}^{2} & -\\frac{1}{9} & -\\frac{1}{9} & \\frac{2}{9} & -\\frac{1}{9} \\zeta_{12}^{2} + \\frac{1}{9} & \\frac{1}{9} \\zeta_{12}^{2} & -\\frac{2}{9} \\zeta_{12}^{2} & \\frac{1}{9} \\zeta_{12}^{2} & \\frac{2}{9} & -\\frac{1}{9} & -\\frac{1}{9} & -\\frac{1}{9} \\zeta_{12}^{2} + \\frac{1}{9} & -\\frac{1}{9} \\zeta_{12}^{2} + \\frac{1}{9} & 0 & 0 & 0 & 0 & 0 & 0 & 0 & 0 & 0 & 0 & 0 & 0 & 0 & 0 & 0 & 0 & 0 & 0 \\\\\n",
       "\\frac{1}{9} & \\frac{1}{9} & \\frac{1}{9} \\zeta_{12}^{2} - \\frac{1}{9} & \\frac{1}{9} \\zeta_{12}^{2} - \\frac{1}{9} & -\\frac{1}{9} \\zeta_{12}^{2} & -\\frac{1}{9} \\zeta_{12}^{2} & \\frac{1}{9} & \\frac{1}{9} & \\frac{1}{9} \\zeta_{12}^{2} - \\frac{1}{9} & \\frac{1}{9} \\zeta_{12}^{2} - \\frac{1}{9} & -\\frac{1}{9} \\zeta_{12}^{2} & -\\frac{1}{9} \\zeta_{12}^{2} & \\frac{1}{9} & \\frac{1}{9} & \\frac{1}{9} \\zeta_{12}^{2} - \\frac{1}{9} & \\frac{1}{9} \\zeta_{12}^{2} - \\frac{1}{9} & -\\frac{1}{9} \\zeta_{12}^{2} & -\\frac{1}{9} \\zeta_{12}^{2} & \\frac{1}{9} \\zeta_{12}^{2} & -\\frac{1}{9} \\zeta_{12}^{2} + \\frac{1}{9} & -\\frac{1}{9} & -\\frac{1}{9} & -\\frac{2}{9} \\zeta_{12}^{2} & -\\frac{1}{9} \\zeta_{12}^{2} + \\frac{1}{9} & \\frac{1}{9} \\zeta_{12}^{2} & -\\frac{1}{9} \\zeta_{12}^{2} + \\frac{1}{9} & \\frac{2}{9} & \\frac{1}{9} \\zeta_{12}^{2} & \\frac{2}{9} \\zeta_{12}^{2} - \\frac{2}{9} & -\\frac{1}{9} & \\frac{1}{9} \\zeta_{12}^{2} & -\\frac{1}{9} \\zeta_{12}^{2} + \\frac{1}{9} & -\\frac{1}{9} & -\\frac{1}{9} & \\frac{1}{9} \\zeta_{12}^{2} & \\frac{2}{9} \\zeta_{12}^{2} - \\frac{2}{9} & -\\frac{1}{9} & -\\frac{2}{9} \\zeta_{12}^{2} & -\\frac{1}{9} \\zeta_{12}^{2} + \\frac{1}{9} & -\\frac{2}{9} \\zeta_{12}^{2} & -\\frac{1}{9} \\zeta_{12}^{2} + \\frac{1}{9} & -\\frac{1}{9} & \\frac{1}{9} \\zeta_{12}^{2} & -\\frac{1}{9} \\zeta_{12}^{2} + \\frac{1}{9} & \\frac{2}{9} & \\frac{1}{9} \\zeta_{12}^{2} & -\\frac{1}{9} \\zeta_{12}^{2} + \\frac{1}{9} & \\frac{2}{9} & \\frac{1}{9} \\zeta_{12}^{2} & \\frac{2}{9} \\zeta_{12}^{2} - \\frac{2}{9} & -\\frac{1}{9} & \\frac{1}{9} \\zeta_{12}^{2} & -\\frac{1}{9} \\zeta_{12}^{2} + \\frac{1}{9} & -\\frac{1}{9} & 0 & 0 & 0 & 0 & 0 & 0 & 0 & 0 & 0 & 0 & 0 & 0 & 0 & 0 & 0 & 0 & 0 & 0 \\\\\n",
       "\\frac{1}{9} & \\frac{1}{9} & -\\frac{1}{9} \\zeta_{12}^{2} & -\\frac{1}{9} \\zeta_{12}^{2} & \\frac{1}{9} \\zeta_{12}^{2} - \\frac{1}{9} & \\frac{1}{9} \\zeta_{12}^{2} - \\frac{1}{9} & \\frac{1}{9} & \\frac{1}{9} & -\\frac{1}{9} \\zeta_{12}^{2} & -\\frac{1}{9} \\zeta_{12}^{2} & \\frac{1}{9} \\zeta_{12}^{2} - \\frac{1}{9} & \\frac{1}{9} \\zeta_{12}^{2} - \\frac{1}{9} & \\frac{1}{9} & \\frac{1}{9} & -\\frac{1}{9} \\zeta_{12}^{2} & -\\frac{1}{9} \\zeta_{12}^{2} & \\frac{1}{9} \\zeta_{12}^{2} - \\frac{1}{9} & \\frac{1}{9} \\zeta_{12}^{2} - \\frac{1}{9} & \\frac{2}{9} \\zeta_{12}^{2} - \\frac{2}{9} & -\\frac{2}{9} \\zeta_{12}^{2} & \\frac{2}{9} & -\\frac{1}{9} & -\\frac{1}{9} \\zeta_{12}^{2} + \\frac{1}{9} & \\frac{1}{9} \\zeta_{12}^{2} & -\\frac{1}{9} \\zeta_{12}^{2} + \\frac{1}{9} & \\frac{1}{9} \\zeta_{12}^{2} & -\\frac{1}{9} & \\frac{2}{9} \\zeta_{12}^{2} - \\frac{2}{9} & \\frac{1}{9} \\zeta_{12}^{2} & -\\frac{1}{9} & -\\frac{1}{9} \\zeta_{12}^{2} + \\frac{1}{9} & -\\frac{2}{9} \\zeta_{12}^{2} & \\frac{2}{9} & -\\frac{1}{9} & -\\frac{1}{9} \\zeta_{12}^{2} + \\frac{1}{9} & \\frac{1}{9} \\zeta_{12}^{2} & -\\frac{1}{9} & -\\frac{1}{9} \\zeta_{12}^{2} + \\frac{1}{9} & \\frac{1}{9} \\zeta_{12}^{2} & -\\frac{1}{9} \\zeta_{12}^{2} + \\frac{1}{9} & \\frac{1}{9} \\zeta_{12}^{2} & -\\frac{1}{9} & -\\frac{1}{9} \\zeta_{12}^{2} + \\frac{1}{9} & \\frac{1}{9} \\zeta_{12}^{2} & -\\frac{1}{9} & \\frac{2}{9} \\zeta_{12}^{2} - \\frac{2}{9} & \\frac{1}{9} \\zeta_{12}^{2} & -\\frac{1}{9} & -\\frac{1}{9} \\zeta_{12}^{2} + \\frac{1}{9} & \\frac{1}{9} \\zeta_{12}^{2} & -\\frac{1}{9} & -\\frac{1}{9} \\zeta_{12}^{2} + \\frac{1}{9} & -\\frac{2}{9} \\zeta_{12}^{2} & \\frac{2}{9} & 0 & 0 & 0 & 0 & 0 & 0 & 0 & 0 & 0 & 0 & 0 & 0 & 0 & 0 & 0 & 0 & 0 & 0 \\\\\n",
       "\\frac{1}{9} & \\frac{1}{9} & \\frac{1}{9} & \\frac{1}{9} & \\frac{1}{9} & \\frac{1}{9} & \\frac{1}{9} & \\frac{1}{9} & \\frac{1}{9} & \\frac{1}{9} & \\frac{1}{9} & \\frac{1}{9} & \\frac{1}{9} & \\frac{1}{9} & \\frac{1}{9} & \\frac{1}{9} & \\frac{1}{9} & \\frac{1}{9} & -\\frac{1}{9} & -\\frac{1}{9} & -\\frac{1}{9} & -\\frac{1}{9} & -\\frac{1}{9} & \\frac{2}{9} & \\frac{2}{9} & -\\frac{1}{9} & -\\frac{1}{9} & -\\frac{1}{9} & -\\frac{1}{9} & \\frac{2}{9} & -\\frac{1}{9} & -\\frac{1}{9} & -\\frac{1}{9} & -\\frac{1}{9} & \\frac{2}{9} & -\\frac{1}{9} & -\\frac{1}{9} & -\\frac{1}{9} & \\frac{2}{9} & -\\frac{1}{9} & -\\frac{1}{9} & \\frac{2}{9} & \\frac{2}{9} & -\\frac{1}{9} & -\\frac{1}{9} & -\\frac{1}{9} & \\frac{2}{9} & -\\frac{1}{9} & -\\frac{1}{9} & -\\frac{1}{9} & \\frac{2}{9} & -\\frac{1}{9} & -\\frac{1}{9} & -\\frac{1}{9} & 0 & 0 & 0 & 0 & 0 & 0 & 0 & 0 & 0 & 0 & 0 & 0 & 0 & 0 & 0 & 0 & 0 & 0 \\\\\n",
       "\\frac{1}{9} & \\frac{1}{9} & \\frac{1}{9} \\zeta_{12}^{2} - \\frac{1}{9} & \\frac{1}{9} \\zeta_{12}^{2} - \\frac{1}{9} & -\\frac{1}{9} \\zeta_{12}^{2} & -\\frac{1}{9} \\zeta_{12}^{2} & \\frac{1}{9} \\zeta_{12}^{2} - \\frac{1}{9} & \\frac{1}{9} \\zeta_{12}^{2} - \\frac{1}{9} & -\\frac{1}{9} \\zeta_{12}^{2} & -\\frac{1}{9} \\zeta_{12}^{2} & \\frac{1}{9} & \\frac{1}{9} & -\\frac{1}{9} \\zeta_{12}^{2} & -\\frac{1}{9} \\zeta_{12}^{2} & \\frac{1}{9} & \\frac{1}{9} & \\frac{1}{9} \\zeta_{12}^{2} - \\frac{1}{9} & \\frac{1}{9} \\zeta_{12}^{2} - \\frac{1}{9} & \\frac{1}{9} \\zeta_{12}^{2} & -\\frac{1}{9} \\zeta_{12}^{2} + \\frac{1}{9} & -\\frac{1}{9} & -\\frac{2}{9} \\zeta_{12}^{2} & -\\frac{1}{9} \\zeta_{12}^{2} + \\frac{1}{9} & -\\frac{1}{9} & -\\frac{1}{9} \\zeta_{12}^{2} + \\frac{1}{9} & \\frac{2}{9} & \\frac{1}{9} \\zeta_{12}^{2} & -\\frac{1}{9} & -\\frac{1}{9} & \\frac{1}{9} \\zeta_{12}^{2} & \\frac{2}{9} \\zeta_{12}^{2} - \\frac{2}{9} & \\frac{1}{9} \\zeta_{12}^{2} & -\\frac{1}{9} \\zeta_{12}^{2} + \\frac{1}{9} & \\frac{2}{9} \\zeta_{12}^{2} - \\frac{2}{9} & -\\frac{1}{9} & \\frac{1}{9} \\zeta_{12}^{2} & \\frac{2}{9} & \\frac{1}{9} \\zeta_{12}^{2} & -\\frac{1}{9} \\zeta_{12}^{2} + \\frac{1}{9} & -\\frac{1}{9} & -\\frac{2}{9} \\zeta_{12}^{2} & -\\frac{1}{9} \\zeta_{12}^{2} + \\frac{1}{9} & \\frac{1}{9} \\zeta_{12}^{2} & \\frac{2}{9} \\zeta_{12}^{2} - \\frac{2}{9} & -\\frac{1}{9} & -\\frac{1}{9} \\zeta_{12}^{2} + \\frac{1}{9} & \\frac{1}{9} \\zeta_{12}^{2} & -\\frac{1}{9} \\zeta_{12}^{2} + \\frac{1}{9} & \\frac{2}{9} & -\\frac{1}{9} \\zeta_{12}^{2} + \\frac{1}{9} & -\\frac{1}{9} & -\\frac{2}{9} \\zeta_{12}^{2} & -\\frac{1}{9} & \\frac{1}{9} \\zeta_{12}^{2} & 0 & 0 & 0 & 0 & 0 & 0 & 0 & 0 & 0 & 0 & 0 & 0 & 0 & 0 & 0 & 0 & 0 & 0 \\\\\n",
       "\\frac{1}{9} & \\frac{1}{9} & -\\frac{1}{9} \\zeta_{12}^{2} & -\\frac{1}{9} \\zeta_{12}^{2} & \\frac{1}{9} \\zeta_{12}^{2} - \\frac{1}{9} & \\frac{1}{9} \\zeta_{12}^{2} - \\frac{1}{9} & -\\frac{1}{9} \\zeta_{12}^{2} & -\\frac{1}{9} \\zeta_{12}^{2} & \\frac{1}{9} \\zeta_{12}^{2} - \\frac{1}{9} & \\frac{1}{9} \\zeta_{12}^{2} - \\frac{1}{9} & \\frac{1}{9} & \\frac{1}{9} & \\frac{1}{9} \\zeta_{12}^{2} - \\frac{1}{9} & \\frac{1}{9} \\zeta_{12}^{2} - \\frac{1}{9} & \\frac{1}{9} & \\frac{1}{9} & -\\frac{1}{9} \\zeta_{12}^{2} & -\\frac{1}{9} \\zeta_{12}^{2} & -\\frac{1}{9} \\zeta_{12}^{2} + \\frac{1}{9} & \\frac{1}{9} \\zeta_{12}^{2} & -\\frac{1}{9} & -\\frac{1}{9} \\zeta_{12}^{2} + \\frac{1}{9} & -\\frac{2}{9} \\zeta_{12}^{2} & -\\frac{1}{9} & \\frac{1}{9} \\zeta_{12}^{2} & -\\frac{1}{9} & \\frac{2}{9} \\zeta_{12}^{2} - \\frac{2}{9} & -\\frac{1}{9} & \\frac{2}{9} & -\\frac{1}{9} \\zeta_{12}^{2} + \\frac{1}{9} & \\frac{1}{9} \\zeta_{12}^{2} & -\\frac{1}{9} \\zeta_{12}^{2} + \\frac{1}{9} & \\frac{1}{9} \\zeta_{12}^{2} & \\frac{1}{9} \\zeta_{12}^{2} & -\\frac{1}{9} & \\frac{2}{9} \\zeta_{12}^{2} - \\frac{2}{9} & -\\frac{1}{9} & \\frac{2}{9} \\zeta_{12}^{2} - \\frac{2}{9} & \\frac{1}{9} \\zeta_{12}^{2} & \\frac{2}{9} & -\\frac{1}{9} \\zeta_{12}^{2} + \\frac{1}{9} & \\frac{1}{9} \\zeta_{12}^{2} & -\\frac{1}{9} \\zeta_{12}^{2} + \\frac{1}{9} & \\frac{1}{9} \\zeta_{12}^{2} & \\frac{2}{9} & \\frac{1}{9} \\zeta_{12}^{2} & -\\frac{1}{9} \\zeta_{12}^{2} + \\frac{1}{9} & -\\frac{2}{9} \\zeta_{12}^{2} & -\\frac{1}{9} & -\\frac{2}{9} \\zeta_{12}^{2} & -\\frac{1}{9} & -\\frac{1}{9} \\zeta_{12}^{2} + \\frac{1}{9} & -\\frac{1}{9} & -\\frac{1}{9} \\zeta_{12}^{2} + \\frac{1}{9} & 0 & 0 & 0 & 0 & 0 & 0 & 0 & 0 & 0 & 0 & 0 & 0 & 0 & 0 & 0 & 0 & 0 & 0 \\\\\n",
       "\\frac{1}{9} & \\frac{1}{9} & \\frac{1}{9} & \\frac{1}{9} & \\frac{1}{9} & \\frac{1}{9} & -\\frac{1}{9} \\zeta_{12}^{2} & -\\frac{1}{9} \\zeta_{12}^{2} & -\\frac{1}{9} \\zeta_{12}^{2} & -\\frac{1}{9} \\zeta_{12}^{2} & -\\frac{1}{9} \\zeta_{12}^{2} & -\\frac{1}{9} \\zeta_{12}^{2} & \\frac{1}{9} \\zeta_{12}^{2} - \\frac{1}{9} & \\frac{1}{9} \\zeta_{12}^{2} - \\frac{1}{9} & \\frac{1}{9} \\zeta_{12}^{2} - \\frac{1}{9} & \\frac{1}{9} \\zeta_{12}^{2} - \\frac{1}{9} & \\frac{1}{9} \\zeta_{12}^{2} - \\frac{1}{9} & \\frac{1}{9} \\zeta_{12}^{2} - \\frac{1}{9} & -\\frac{1}{9} & -\\frac{1}{9} & -\\frac{1}{9} & -\\frac{1}{9} \\zeta_{12}^{2} + \\frac{1}{9} & -\\frac{1}{9} \\zeta_{12}^{2} + \\frac{1}{9} & \\frac{2}{9} \\zeta_{12}^{2} - \\frac{2}{9} & \\frac{2}{9} \\zeta_{12}^{2} - \\frac{2}{9} & -\\frac{1}{9} \\zeta_{12}^{2} + \\frac{1}{9} & -\\frac{1}{9} \\zeta_{12}^{2} + \\frac{1}{9} & \\frac{1}{9} \\zeta_{12}^{2} & -\\frac{1}{9} \\zeta_{12}^{2} + \\frac{1}{9} & \\frac{2}{9} \\zeta_{12}^{2} - \\frac{2}{9} & -\\frac{1}{9} \\zeta_{12}^{2} + \\frac{1}{9} & \\frac{1}{9} \\zeta_{12}^{2} & \\frac{1}{9} \\zeta_{12}^{2} & \\frac{1}{9} \\zeta_{12}^{2} & -\\frac{2}{9} \\zeta_{12}^{2} & \\frac{1}{9} \\zeta_{12}^{2} & -\\frac{1}{9} & -\\frac{1}{9} & \\frac{2}{9} & \\frac{1}{9} \\zeta_{12}^{2} & \\frac{1}{9} \\zeta_{12}^{2} & -\\frac{2}{9} \\zeta_{12}^{2} & \\frac{2}{9} & -\\frac{1}{9} & -\\frac{1}{9} & -\\frac{1}{9} \\zeta_{12}^{2} + \\frac{1}{9} & -\\frac{2}{9} \\zeta_{12}^{2} & \\frac{1}{9} \\zeta_{12}^{2} & \\frac{1}{9} \\zeta_{12}^{2} & -\\frac{1}{9} & \\frac{2}{9} & -\\frac{1}{9} & -\\frac{1}{9} \\zeta_{12}^{2} + \\frac{1}{9} & -\\frac{1}{9} \\zeta_{12}^{2} + \\frac{1}{9} & 0 & 0 & 0 & 0 & 0 & 0 & 0 & 0 & 0 & 0 & 0 & 0 & 0 & 0 & 0 & 0 & 0 & 0 \\\\\n",
       "\\frac{1}{9} & \\frac{1}{9} & \\frac{1}{9} \\zeta_{12}^{2} - \\frac{1}{9} & \\frac{1}{9} \\zeta_{12}^{2} - \\frac{1}{9} & -\\frac{1}{9} \\zeta_{12}^{2} & -\\frac{1}{9} \\zeta_{12}^{2} & -\\frac{1}{9} \\zeta_{12}^{2} & -\\frac{1}{9} \\zeta_{12}^{2} & \\frac{1}{9} & \\frac{1}{9} & \\frac{1}{9} \\zeta_{12}^{2} - \\frac{1}{9} & \\frac{1}{9} \\zeta_{12}^{2} - \\frac{1}{9} & \\frac{1}{9} \\zeta_{12}^{2} - \\frac{1}{9} & \\frac{1}{9} \\zeta_{12}^{2} - \\frac{1}{9} & -\\frac{1}{9} \\zeta_{12}^{2} & -\\frac{1}{9} \\zeta_{12}^{2} & \\frac{1}{9} & \\frac{1}{9} & -\\frac{2}{9} \\zeta_{12}^{2} & \\frac{2}{9} \\zeta_{12}^{2} - \\frac{2}{9} & \\frac{2}{9} & -\\frac{1}{9} \\zeta_{12}^{2} + \\frac{1}{9} & -\\frac{1}{9} & \\frac{1}{9} \\zeta_{12}^{2} & -\\frac{1}{9} & \\frac{1}{9} \\zeta_{12}^{2} & -\\frac{1}{9} \\zeta_{12}^{2} + \\frac{1}{9} & \\frac{2}{9} \\zeta_{12}^{2} - \\frac{2}{9} & \\frac{1}{9} \\zeta_{12}^{2} & -\\frac{1}{9} \\zeta_{12}^{2} + \\frac{1}{9} & -\\frac{1}{9} & \\frac{2}{9} & -\\frac{2}{9} \\zeta_{12}^{2} & \\frac{1}{9} \\zeta_{12}^{2} & -\\frac{1}{9} \\zeta_{12}^{2} + \\frac{1}{9} & -\\frac{1}{9} & -\\frac{1}{9} & \\frac{1}{9} \\zeta_{12}^{2} & -\\frac{1}{9} \\zeta_{12}^{2} + \\frac{1}{9} & -\\frac{1}{9} \\zeta_{12}^{2} + \\frac{1}{9} & -\\frac{1}{9} & \\frac{1}{9} \\zeta_{12}^{2} & \\frac{1}{9} \\zeta_{12}^{2} & -\\frac{1}{9} \\zeta_{12}^{2} + \\frac{1}{9} & -\\frac{1}{9} & \\frac{2}{9} & -\\frac{1}{9} & \\frac{1}{9} \\zeta_{12}^{2} & -\\frac{1}{9} \\zeta_{12}^{2} + \\frac{1}{9} & -\\frac{1}{9} \\zeta_{12}^{2} + \\frac{1}{9} & -\\frac{1}{9} & \\frac{1}{9} \\zeta_{12}^{2} & -\\frac{2}{9} \\zeta_{12}^{2} & \\frac{2}{9} \\zeta_{12}^{2} - \\frac{2}{9} & 0 & 0 & 0 & 0 & 0 & 0 & 0 & 0 & 0 & 0 & 0 & 0 & 0 & 0 & 0 & 0 & 0 & 0 \\\\\n",
       "\\frac{1}{9} & \\frac{1}{9} & -\\frac{1}{9} \\zeta_{12}^{2} & -\\frac{1}{9} \\zeta_{12}^{2} & \\frac{1}{9} \\zeta_{12}^{2} - \\frac{1}{9} & \\frac{1}{9} \\zeta_{12}^{2} - \\frac{1}{9} & \\frac{1}{9} & \\frac{1}{9} & -\\frac{1}{9} \\zeta_{12}^{2} & -\\frac{1}{9} \\zeta_{12}^{2} & \\frac{1}{9} \\zeta_{12}^{2} - \\frac{1}{9} & \\frac{1}{9} \\zeta_{12}^{2} - \\frac{1}{9} & \\frac{1}{9} & \\frac{1}{9} & -\\frac{1}{9} \\zeta_{12}^{2} & -\\frac{1}{9} \\zeta_{12}^{2} & \\frac{1}{9} \\zeta_{12}^{2} - \\frac{1}{9} & \\frac{1}{9} \\zeta_{12}^{2} - \\frac{1}{9} & -\\frac{1}{9} \\zeta_{12}^{2} + \\frac{1}{9} & \\frac{1}{9} \\zeta_{12}^{2} & -\\frac{1}{9} & -\\frac{1}{9} & -\\frac{1}{9} \\zeta_{12}^{2} + \\frac{1}{9} & -\\frac{2}{9} \\zeta_{12}^{2} & \\frac{2}{9} \\zeta_{12}^{2} - \\frac{2}{9} & \\frac{1}{9} \\zeta_{12}^{2} & -\\frac{1}{9} & -\\frac{1}{9} \\zeta_{12}^{2} + \\frac{1}{9} & \\frac{1}{9} \\zeta_{12}^{2} & \\frac{2}{9} & -\\frac{1}{9} \\zeta_{12}^{2} + \\frac{1}{9} & \\frac{1}{9} \\zeta_{12}^{2} & -\\frac{1}{9} & -\\frac{1}{9} & \\frac{2}{9} \\zeta_{12}^{2} - \\frac{2}{9} & \\frac{1}{9} \\zeta_{12}^{2} & -\\frac{1}{9} & -\\frac{1}{9} \\zeta_{12}^{2} + \\frac{1}{9} & -\\frac{2}{9} \\zeta_{12}^{2} & -\\frac{1}{9} \\zeta_{12}^{2} + \\frac{1}{9} & \\frac{1}{9} \\zeta_{12}^{2} & \\frac{2}{9} & \\frac{2}{9} \\zeta_{12}^{2} - \\frac{2}{9} & \\frac{1}{9} \\zeta_{12}^{2} & -\\frac{1}{9} & -\\frac{1}{9} \\zeta_{12}^{2} + \\frac{1}{9} & -\\frac{2}{9} \\zeta_{12}^{2} & -\\frac{1}{9} & -\\frac{1}{9} \\zeta_{12}^{2} + \\frac{1}{9} & \\frac{1}{9} \\zeta_{12}^{2} & \\frac{2}{9} & -\\frac{1}{9} \\zeta_{12}^{2} + \\frac{1}{9} & \\frac{1}{9} \\zeta_{12}^{2} & -\\frac{1}{9} & 0 & 0 & 0 & 0 & 0 & 0 & 0 & 0 & 0 & 0 & 0 & 0 & 0 & 0 & 0 & 0 & 0 & 0 \\\\\n",
       "\\frac{1}{9} & \\frac{1}{9} & \\frac{1}{9} & \\frac{1}{9} & \\frac{1}{9} & \\frac{1}{9} & \\frac{1}{9} & \\frac{1}{9} & \\frac{1}{9} & \\frac{1}{9} & \\frac{1}{9} & \\frac{1}{9} & \\frac{1}{9} & \\frac{1}{9} & \\frac{1}{9} & \\frac{1}{9} & \\frac{1}{9} & \\frac{1}{9} & -\\frac{1}{9} & -\\frac{1}{9} & -\\frac{1}{9} & -\\frac{1}{9} & \\frac{2}{9} & -\\frac{1}{9} & -\\frac{1}{9} & -\\frac{1}{9} & \\frac{2}{9} & -\\frac{1}{9} & \\frac{2}{9} & -\\frac{1}{9} & -\\frac{1}{9} & -\\frac{1}{9} & -\\frac{1}{9} & -\\frac{1}{9} & -\\frac{1}{9} & \\frac{2}{9} & -\\frac{1}{9} & \\frac{2}{9} & -\\frac{1}{9} & \\frac{2}{9} & -\\frac{1}{9} & -\\frac{1}{9} & -\\frac{1}{9} & -\\frac{1}{9} & \\frac{2}{9} & -\\frac{1}{9} & -\\frac{1}{9} & \\frac{2}{9} & -\\frac{1}{9} & \\frac{2}{9} & -\\frac{1}{9} & -\\frac{1}{9} & -\\frac{1}{9} & -\\frac{1}{9} & 0 & 0 & 0 & 0 & 0 & 0 & 0 & 0 & 0 & 0 & 0 & 0 & 0 & 0 & 0 & 0 & 0 & 0 \\\\\n",
       "\\frac{1}{9} & \\frac{1}{9} & \\frac{1}{9} \\zeta_{12}^{2} - \\frac{1}{9} & \\frac{1}{9} \\zeta_{12}^{2} - \\frac{1}{9} & -\\frac{1}{9} \\zeta_{12}^{2} & -\\frac{1}{9} \\zeta_{12}^{2} & \\frac{1}{9} & \\frac{1}{9} & \\frac{1}{9} \\zeta_{12}^{2} - \\frac{1}{9} & \\frac{1}{9} \\zeta_{12}^{2} - \\frac{1}{9} & -\\frac{1}{9} \\zeta_{12}^{2} & -\\frac{1}{9} \\zeta_{12}^{2} & \\frac{1}{9} & \\frac{1}{9} & \\frac{1}{9} \\zeta_{12}^{2} - \\frac{1}{9} & \\frac{1}{9} \\zeta_{12}^{2} - \\frac{1}{9} & -\\frac{1}{9} \\zeta_{12}^{2} & -\\frac{1}{9} \\zeta_{12}^{2} & -\\frac{2}{9} \\zeta_{12}^{2} & \\frac{2}{9} \\zeta_{12}^{2} - \\frac{2}{9} & \\frac{2}{9} & -\\frac{1}{9} & \\frac{1}{9} \\zeta_{12}^{2} & -\\frac{1}{9} \\zeta_{12}^{2} + \\frac{1}{9} & \\frac{1}{9} \\zeta_{12}^{2} & -\\frac{1}{9} \\zeta_{12}^{2} + \\frac{1}{9} & -\\frac{1}{9} & -\\frac{2}{9} \\zeta_{12}^{2} & -\\frac{1}{9} \\zeta_{12}^{2} + \\frac{1}{9} & -\\frac{1}{9} & \\frac{1}{9} \\zeta_{12}^{2} & \\frac{2}{9} \\zeta_{12}^{2} - \\frac{2}{9} & \\frac{2}{9} & -\\frac{1}{9} & \\frac{1}{9} \\zeta_{12}^{2} & -\\frac{1}{9} \\zeta_{12}^{2} + \\frac{1}{9} & -\\frac{1}{9} & \\frac{1}{9} \\zeta_{12}^{2} & -\\frac{1}{9} \\zeta_{12}^{2} + \\frac{1}{9} & \\frac{1}{9} \\zeta_{12}^{2} & -\\frac{1}{9} \\zeta_{12}^{2} + \\frac{1}{9} & -\\frac{1}{9} & \\frac{1}{9} \\zeta_{12}^{2} & -\\frac{1}{9} \\zeta_{12}^{2} + \\frac{1}{9} & -\\frac{1}{9} & -\\frac{2}{9} \\zeta_{12}^{2} & -\\frac{1}{9} \\zeta_{12}^{2} + \\frac{1}{9} & -\\frac{1}{9} & \\frac{1}{9} \\zeta_{12}^{2} & -\\frac{1}{9} \\zeta_{12}^{2} + \\frac{1}{9} & -\\frac{1}{9} & \\frac{1}{9} \\zeta_{12}^{2} & \\frac{2}{9} \\zeta_{12}^{2} - \\frac{2}{9} & \\frac{2}{9} & 0 & 0 & 0 & 0 & 0 & 0 & 0 & 0 & 0 & 0 & 0 & 0 & 0 & 0 & 0 & 0 & 0 & 0 \\\\\n",
       "\\frac{1}{9} & \\frac{1}{9} & -\\frac{1}{9} \\zeta_{12}^{2} & -\\frac{1}{9} \\zeta_{12}^{2} & \\frac{1}{9} \\zeta_{12}^{2} - \\frac{1}{9} & \\frac{1}{9} \\zeta_{12}^{2} - \\frac{1}{9} & \\frac{1}{9} \\zeta_{12}^{2} - \\frac{1}{9} & \\frac{1}{9} \\zeta_{12}^{2} - \\frac{1}{9} & \\frac{1}{9} & \\frac{1}{9} & -\\frac{1}{9} \\zeta_{12}^{2} & -\\frac{1}{9} \\zeta_{12}^{2} & -\\frac{1}{9} \\zeta_{12}^{2} & -\\frac{1}{9} \\zeta_{12}^{2} & \\frac{1}{9} \\zeta_{12}^{2} - \\frac{1}{9} & \\frac{1}{9} \\zeta_{12}^{2} - \\frac{1}{9} & \\frac{1}{9} & \\frac{1}{9} & -\\frac{1}{9} \\zeta_{12}^{2} + \\frac{1}{9} & \\frac{1}{9} \\zeta_{12}^{2} & -\\frac{1}{9} & -\\frac{2}{9} \\zeta_{12}^{2} & -\\frac{1}{9} & -\\frac{1}{9} \\zeta_{12}^{2} + \\frac{1}{9} & -\\frac{1}{9} & \\frac{2}{9} \\zeta_{12}^{2} - \\frac{2}{9} & \\frac{1}{9} \\zeta_{12}^{2} & \\frac{1}{9} \\zeta_{12}^{2} & -\\frac{1}{9} \\zeta_{12}^{2} + \\frac{1}{9} & \\frac{1}{9} \\zeta_{12}^{2} & \\frac{2}{9} & -\\frac{1}{9} & -\\frac{1}{9} \\zeta_{12}^{2} + \\frac{1}{9} & \\frac{2}{9} \\zeta_{12}^{2} - \\frac{2}{9} & \\frac{1}{9} \\zeta_{12}^{2} & -\\frac{1}{9} & \\frac{2}{9} & -\\frac{1}{9} \\zeta_{12}^{2} + \\frac{1}{9} & \\frac{1}{9} \\zeta_{12}^{2} & \\frac{1}{9} \\zeta_{12}^{2} & \\frac{2}{9} & -\\frac{1}{9} \\zeta_{12}^{2} + \\frac{1}{9} & -\\frac{1}{9} \\zeta_{12}^{2} + \\frac{1}{9} & -\\frac{2}{9} \\zeta_{12}^{2} & -\\frac{1}{9} & -\\frac{1}{9} & -\\frac{1}{9} & -\\frac{1}{9} \\zeta_{12}^{2} + \\frac{1}{9} & -\\frac{2}{9} \\zeta_{12}^{2} & \\frac{1}{9} \\zeta_{12}^{2} & -\\frac{1}{9} & \\frac{2}{9} \\zeta_{12}^{2} - \\frac{2}{9} & -\\frac{1}{9} \\zeta_{12}^{2} + \\frac{1}{9} & \\frac{1}{9} \\zeta_{12}^{2} & 0 & 0 & 0 & 0 & 0 & 0 & 0 & 0 & 0 & 0 & 0 & 0 & 0 & 0 & 0 & 0 & 0 & 0 \\\\\n",
       "\\frac{1}{9} & \\frac{1}{9} & \\frac{1}{9} & \\frac{1}{9} & \\frac{1}{9} & \\frac{1}{9} & \\frac{1}{9} \\zeta_{12}^{2} - \\frac{1}{9} & \\frac{1}{9} \\zeta_{12}^{2} - \\frac{1}{9} & \\frac{1}{9} \\zeta_{12}^{2} - \\frac{1}{9} & \\frac{1}{9} \\zeta_{12}^{2} - \\frac{1}{9} & \\frac{1}{9} \\zeta_{12}^{2} - \\frac{1}{9} & \\frac{1}{9} \\zeta_{12}^{2} - \\frac{1}{9} & -\\frac{1}{9} \\zeta_{12}^{2} & -\\frac{1}{9} \\zeta_{12}^{2} & -\\frac{1}{9} \\zeta_{12}^{2} & -\\frac{1}{9} \\zeta_{12}^{2} & -\\frac{1}{9} \\zeta_{12}^{2} & -\\frac{1}{9} \\zeta_{12}^{2} & -\\frac{1}{9} & -\\frac{1}{9} & -\\frac{1}{9} & -\\frac{2}{9} \\zeta_{12}^{2} & \\frac{1}{9} \\zeta_{12}^{2} & \\frac{1}{9} \\zeta_{12}^{2} & \\frac{1}{9} \\zeta_{12}^{2} & -\\frac{2}{9} \\zeta_{12}^{2} & \\frac{1}{9} \\zeta_{12}^{2} & -\\frac{1}{9} \\zeta_{12}^{2} + \\frac{1}{9} & \\frac{1}{9} \\zeta_{12}^{2} & \\frac{1}{9} \\zeta_{12}^{2} & -\\frac{2}{9} \\zeta_{12}^{2} & -\\frac{1}{9} \\zeta_{12}^{2} + \\frac{1}{9} & -\\frac{1}{9} \\zeta_{12}^{2} + \\frac{1}{9} & \\frac{2}{9} \\zeta_{12}^{2} - \\frac{2}{9} & -\\frac{1}{9} \\zeta_{12}^{2} + \\frac{1}{9} & -\\frac{1}{9} \\zeta_{12}^{2} + \\frac{1}{9} & \\frac{2}{9} & -\\frac{1}{9} & -\\frac{1}{9} & -\\frac{1}{9} \\zeta_{12}^{2} + \\frac{1}{9} & \\frac{2}{9} \\zeta_{12}^{2} - \\frac{2}{9} & -\\frac{1}{9} \\zeta_{12}^{2} + \\frac{1}{9} & -\\frac{1}{9} & \\frac{2}{9} & -\\frac{1}{9} & \\frac{1}{9} \\zeta_{12}^{2} & -\\frac{1}{9} \\zeta_{12}^{2} + \\frac{1}{9} & -\\frac{1}{9} \\zeta_{12}^{2} + \\frac{1}{9} & \\frac{2}{9} \\zeta_{12}^{2} - \\frac{2}{9} & -\\frac{1}{9} & -\\frac{1}{9} & \\frac{2}{9} & \\frac{1}{9} \\zeta_{12}^{2} & \\frac{1}{9} \\zeta_{12}^{2} & 0 & 0 & 0 & 0 & 0 & 0 & 0 & 0 & 0 & 0 & 0 & 0 & 0 & 0 & 0 & 0 & 0 & 0 \\\\\n",
       "\\frac{1}{6} & -\\frac{1}{6} & \\frac{1}{6} & -\\frac{1}{6} & \\frac{1}{6} & -\\frac{1}{6} & \\frac{1}{6} & -\\frac{1}{6} & \\frac{1}{6} & -\\frac{1}{6} & \\frac{1}{6} & -\\frac{1}{6} & \\frac{1}{6} & -\\frac{1}{6} & \\frac{1}{6} & -\\frac{1}{6} & \\frac{1}{6} & -\\frac{1}{6} & 0 & 0 & 0 & 0 & 0 & 0 & 0 & 0 & 0 & 0 & 0 & 0 & 0 & 0 & 0 & 0 & 0 & 0 & 0 & 0 & 0 & 0 & 0 & 0 & 0 & 0 & 0 & 0 & 0 & 0 & 0 & 0 & 0 & 0 & 0 & 0 & \\frac{1}{6} & -\\frac{1}{6} & \\frac{1}{6} & -\\frac{1}{6} & \\frac{1}{6} & -\\frac{1}{6} & \\frac{1}{6} & -\\frac{1}{6} & \\frac{1}{6} & -\\frac{1}{6} & \\frac{1}{6} & -\\frac{1}{6} & \\frac{1}{6} & -\\frac{1}{6} & \\frac{1}{6} & -\\frac{1}{6} & \\frac{1}{6} & -\\frac{1}{6} \\\\\n",
       "\\frac{1}{6} & -\\frac{1}{6} & \\frac{1}{6} & -\\frac{1}{6} & \\frac{1}{6} & -\\frac{1}{6} & \\frac{1}{6} & -\\frac{1}{6} & \\frac{1}{6} & -\\frac{1}{6} & \\frac{1}{6} & -\\frac{1}{6} & \\frac{1}{6} & -\\frac{1}{6} & \\frac{1}{6} & -\\frac{1}{6} & \\frac{1}{6} & -\\frac{1}{6} & 0 & 0 & 0 & 0 & 0 & 0 & 0 & 0 & 0 & 0 & 0 & 0 & 0 & 0 & 0 & 0 & 0 & 0 & 0 & 0 & 0 & 0 & 0 & 0 & 0 & 0 & 0 & 0 & 0 & 0 & 0 & 0 & 0 & 0 & 0 & 0 & -\\frac{1}{6} & \\frac{1}{6} & -\\frac{1}{6} & \\frac{1}{6} & -\\frac{1}{6} & \\frac{1}{6} & -\\frac{1}{6} & \\frac{1}{6} & -\\frac{1}{6} & \\frac{1}{6} & -\\frac{1}{6} & \\frac{1}{6} & -\\frac{1}{6} & \\frac{1}{6} & -\\frac{1}{6} & \\frac{1}{6} & -\\frac{1}{6} & \\frac{1}{6} \\\\\n",
       "\\frac{1}{6} & -\\frac{1}{6} & \\frac{1}{6} \\zeta_{12}^{2} - \\frac{1}{6} & -\\frac{1}{6} \\zeta_{12}^{2} + \\frac{1}{6} & -\\frac{1}{6} \\zeta_{12}^{2} & \\frac{1}{6} \\zeta_{12}^{2} & \\frac{1}{6} & -\\frac{1}{6} & \\frac{1}{6} \\zeta_{12}^{2} - \\frac{1}{6} & -\\frac{1}{6} \\zeta_{12}^{2} + \\frac{1}{6} & -\\frac{1}{6} \\zeta_{12}^{2} & \\frac{1}{6} \\zeta_{12}^{2} & \\frac{1}{6} & -\\frac{1}{6} & \\frac{1}{6} \\zeta_{12}^{2} - \\frac{1}{6} & -\\frac{1}{6} \\zeta_{12}^{2} + \\frac{1}{6} & -\\frac{1}{6} \\zeta_{12}^{2} & \\frac{1}{6} \\zeta_{12}^{2} & 0 & 0 & 0 & 0 & 0 & 0 & 0 & 0 & 0 & 0 & 0 & 0 & 0 & 0 & 0 & 0 & 0 & 0 & 0 & 0 & 0 & 0 & 0 & 0 & 0 & 0 & 0 & 0 & 0 & 0 & 0 & 0 & 0 & 0 & 0 & 0 & \\frac{1}{6} & -\\frac{1}{6} & -\\frac{1}{6} \\zeta_{12}^{2} & \\frac{1}{6} \\zeta_{12}^{2} & \\frac{1}{6} \\zeta_{12}^{2} - \\frac{1}{6} & -\\frac{1}{6} \\zeta_{12}^{2} + \\frac{1}{6} & \\frac{1}{6} & -\\frac{1}{6} & -\\frac{1}{6} \\zeta_{12}^{2} & \\frac{1}{6} \\zeta_{12}^{2} & \\frac{1}{6} \\zeta_{12}^{2} - \\frac{1}{6} & -\\frac{1}{6} \\zeta_{12}^{2} + \\frac{1}{6} & \\frac{1}{6} & -\\frac{1}{6} & -\\frac{1}{6} \\zeta_{12}^{2} & \\frac{1}{6} \\zeta_{12}^{2} & \\frac{1}{6} \\zeta_{12}^{2} - \\frac{1}{6} & -\\frac{1}{6} \\zeta_{12}^{2} + \\frac{1}{6} \\\\\n",
       "\\frac{1}{6} & -\\frac{1}{6} & \\frac{1}{6} \\zeta_{12}^{2} - \\frac{1}{6} & -\\frac{1}{6} \\zeta_{12}^{2} + \\frac{1}{6} & -\\frac{1}{6} \\zeta_{12}^{2} & \\frac{1}{6} \\zeta_{12}^{2} & \\frac{1}{6} & -\\frac{1}{6} & \\frac{1}{6} \\zeta_{12}^{2} - \\frac{1}{6} & -\\frac{1}{6} \\zeta_{12}^{2} + \\frac{1}{6} & -\\frac{1}{6} \\zeta_{12}^{2} & \\frac{1}{6} \\zeta_{12}^{2} & \\frac{1}{6} & -\\frac{1}{6} & \\frac{1}{6} \\zeta_{12}^{2} - \\frac{1}{6} & -\\frac{1}{6} \\zeta_{12}^{2} + \\frac{1}{6} & -\\frac{1}{6} \\zeta_{12}^{2} & \\frac{1}{6} \\zeta_{12}^{2} & 0 & 0 & 0 & 0 & 0 & 0 & 0 & 0 & 0 & 0 & 0 & 0 & 0 & 0 & 0 & 0 & 0 & 0 & 0 & 0 & 0 & 0 & 0 & 0 & 0 & 0 & 0 & 0 & 0 & 0 & 0 & 0 & 0 & 0 & 0 & 0 & -\\frac{1}{6} & \\frac{1}{6} & \\frac{1}{6} \\zeta_{12}^{2} & -\\frac{1}{6} \\zeta_{12}^{2} & -\\frac{1}{6} \\zeta_{12}^{2} + \\frac{1}{6} & \\frac{1}{6} \\zeta_{12}^{2} - \\frac{1}{6} & -\\frac{1}{6} & \\frac{1}{6} & \\frac{1}{6} \\zeta_{12}^{2} & -\\frac{1}{6} \\zeta_{12}^{2} & -\\frac{1}{6} \\zeta_{12}^{2} + \\frac{1}{6} & \\frac{1}{6} \\zeta_{12}^{2} - \\frac{1}{6} & -\\frac{1}{6} & \\frac{1}{6} & \\frac{1}{6} \\zeta_{12}^{2} & -\\frac{1}{6} \\zeta_{12}^{2} & -\\frac{1}{6} \\zeta_{12}^{2} + \\frac{1}{6} & \\frac{1}{6} \\zeta_{12}^{2} - \\frac{1}{6} \\\\\n",
       "\\frac{1}{6} & -\\frac{1}{6} & -\\frac{1}{6} \\zeta_{12}^{2} & \\frac{1}{6} \\zeta_{12}^{2} & \\frac{1}{6} \\zeta_{12}^{2} - \\frac{1}{6} & -\\frac{1}{6} \\zeta_{12}^{2} + \\frac{1}{6} & \\frac{1}{6} & -\\frac{1}{6} & -\\frac{1}{6} \\zeta_{12}^{2} & \\frac{1}{6} \\zeta_{12}^{2} & \\frac{1}{6} \\zeta_{12}^{2} - \\frac{1}{6} & -\\frac{1}{6} \\zeta_{12}^{2} + \\frac{1}{6} & \\frac{1}{6} & -\\frac{1}{6} & -\\frac{1}{6} \\zeta_{12}^{2} & \\frac{1}{6} \\zeta_{12}^{2} & \\frac{1}{6} \\zeta_{12}^{2} - \\frac{1}{6} & -\\frac{1}{6} \\zeta_{12}^{2} + \\frac{1}{6} & 0 & 0 & 0 & 0 & 0 & 0 & 0 & 0 & 0 & 0 & 0 & 0 & 0 & 0 & 0 & 0 & 0 & 0 & 0 & 0 & 0 & 0 & 0 & 0 & 0 & 0 & 0 & 0 & 0 & 0 & 0 & 0 & 0 & 0 & 0 & 0 & \\frac{1}{6} & -\\frac{1}{6} & \\frac{1}{6} \\zeta_{12}^{2} - \\frac{1}{6} & -\\frac{1}{6} \\zeta_{12}^{2} + \\frac{1}{6} & -\\frac{1}{6} \\zeta_{12}^{2} & \\frac{1}{6} \\zeta_{12}^{2} & \\frac{1}{6} & -\\frac{1}{6} & \\frac{1}{6} \\zeta_{12}^{2} - \\frac{1}{6} & -\\frac{1}{6} \\zeta_{12}^{2} + \\frac{1}{6} & -\\frac{1}{6} \\zeta_{12}^{2} & \\frac{1}{6} \\zeta_{12}^{2} & \\frac{1}{6} & -\\frac{1}{6} & \\frac{1}{6} \\zeta_{12}^{2} - \\frac{1}{6} & -\\frac{1}{6} \\zeta_{12}^{2} + \\frac{1}{6} & -\\frac{1}{6} \\zeta_{12}^{2} & \\frac{1}{6} \\zeta_{12}^{2} \\\\\n",
       "\\frac{1}{6} & -\\frac{1}{6} & -\\frac{1}{6} \\zeta_{12}^{2} & \\frac{1}{6} \\zeta_{12}^{2} & \\frac{1}{6} \\zeta_{12}^{2} - \\frac{1}{6} & -\\frac{1}{6} \\zeta_{12}^{2} + \\frac{1}{6} & \\frac{1}{6} & -\\frac{1}{6} & -\\frac{1}{6} \\zeta_{12}^{2} & \\frac{1}{6} \\zeta_{12}^{2} & \\frac{1}{6} \\zeta_{12}^{2} - \\frac{1}{6} & -\\frac{1}{6} \\zeta_{12}^{2} + \\frac{1}{6} & \\frac{1}{6} & -\\frac{1}{6} & -\\frac{1}{6} \\zeta_{12}^{2} & \\frac{1}{6} \\zeta_{12}^{2} & \\frac{1}{6} \\zeta_{12}^{2} - \\frac{1}{6} & -\\frac{1}{6} \\zeta_{12}^{2} + \\frac{1}{6} & 0 & 0 & 0 & 0 & 0 & 0 & 0 & 0 & 0 & 0 & 0 & 0 & 0 & 0 & 0 & 0 & 0 & 0 & 0 & 0 & 0 & 0 & 0 & 0 & 0 & 0 & 0 & 0 & 0 & 0 & 0 & 0 & 0 & 0 & 0 & 0 & -\\frac{1}{6} & \\frac{1}{6} & -\\frac{1}{6} \\zeta_{12}^{2} + \\frac{1}{6} & \\frac{1}{6} \\zeta_{12}^{2} - \\frac{1}{6} & \\frac{1}{6} \\zeta_{12}^{2} & -\\frac{1}{6} \\zeta_{12}^{2} & -\\frac{1}{6} & \\frac{1}{6} & -\\frac{1}{6} \\zeta_{12}^{2} + \\frac{1}{6} & \\frac{1}{6} \\zeta_{12}^{2} - \\frac{1}{6} & \\frac{1}{6} \\zeta_{12}^{2} & -\\frac{1}{6} \\zeta_{12}^{2} & -\\frac{1}{6} & \\frac{1}{6} & -\\frac{1}{6} \\zeta_{12}^{2} + \\frac{1}{6} & \\frac{1}{6} \\zeta_{12}^{2} - \\frac{1}{6} & \\frac{1}{6} \\zeta_{12}^{2} & -\\frac{1}{6} \\zeta_{12}^{2} \\\\\n",
       "\\frac{1}{6} & -\\frac{1}{6} & \\frac{1}{6} & -\\frac{1}{6} & \\frac{1}{6} & -\\frac{1}{6} & \\frac{1}{6} \\zeta_{12}^{2} - \\frac{1}{6} & -\\frac{1}{6} \\zeta_{12}^{2} + \\frac{1}{6} & \\frac{1}{6} \\zeta_{12}^{2} - \\frac{1}{6} & -\\frac{1}{6} \\zeta_{12}^{2} + \\frac{1}{6} & \\frac{1}{6} \\zeta_{12}^{2} - \\frac{1}{6} & -\\frac{1}{6} \\zeta_{12}^{2} + \\frac{1}{6} & -\\frac{1}{6} \\zeta_{12}^{2} & \\frac{1}{6} \\zeta_{12}^{2} & -\\frac{1}{6} \\zeta_{12}^{2} & \\frac{1}{6} \\zeta_{12}^{2} & -\\frac{1}{6} \\zeta_{12}^{2} & \\frac{1}{6} \\zeta_{12}^{2} & 0 & 0 & 0 & 0 & 0 & 0 & 0 & 0 & 0 & 0 & 0 & 0 & 0 & 0 & 0 & 0 & 0 & 0 & 0 & 0 & 0 & 0 & 0 & 0 & 0 & 0 & 0 & 0 & 0 & 0 & 0 & 0 & 0 & 0 & 0 & 0 & \\frac{1}{6} & -\\frac{1}{6} & \\frac{1}{6} & -\\frac{1}{6} & \\frac{1}{6} & -\\frac{1}{6} & -\\frac{1}{6} \\zeta_{12}^{2} & \\frac{1}{6} \\zeta_{12}^{2} & -\\frac{1}{6} \\zeta_{12}^{2} & \\frac{1}{6} \\zeta_{12}^{2} & -\\frac{1}{6} \\zeta_{12}^{2} & \\frac{1}{6} \\zeta_{12}^{2} & \\frac{1}{6} \\zeta_{12}^{2} - \\frac{1}{6} & -\\frac{1}{6} \\zeta_{12}^{2} + \\frac{1}{6} & \\frac{1}{6} \\zeta_{12}^{2} - \\frac{1}{6} & -\\frac{1}{6} \\zeta_{12}^{2} + \\frac{1}{6} & \\frac{1}{6} \\zeta_{12}^{2} - \\frac{1}{6} & -\\frac{1}{6} \\zeta_{12}^{2} + \\frac{1}{6} \\\\\n",
       "\\frac{1}{6} & -\\frac{1}{6} & \\frac{1}{6} & -\\frac{1}{6} & \\frac{1}{6} & -\\frac{1}{6} & \\frac{1}{6} \\zeta_{12}^{2} - \\frac{1}{6} & -\\frac{1}{6} \\zeta_{12}^{2} + \\frac{1}{6} & \\frac{1}{6} \\zeta_{12}^{2} - \\frac{1}{6} & -\\frac{1}{6} \\zeta_{12}^{2} + \\frac{1}{6} & \\frac{1}{6} \\zeta_{12}^{2} - \\frac{1}{6} & -\\frac{1}{6} \\zeta_{12}^{2} + \\frac{1}{6} & -\\frac{1}{6} \\zeta_{12}^{2} & \\frac{1}{6} \\zeta_{12}^{2} & -\\frac{1}{6} \\zeta_{12}^{2} & \\frac{1}{6} \\zeta_{12}^{2} & -\\frac{1}{6} \\zeta_{12}^{2} & \\frac{1}{6} \\zeta_{12}^{2} & 0 & 0 & 0 & 0 & 0 & 0 & 0 & 0 & 0 & 0 & 0 & 0 & 0 & 0 & 0 & 0 & 0 & 0 & 0 & 0 & 0 & 0 & 0 & 0 & 0 & 0 & 0 & 0 & 0 & 0 & 0 & 0 & 0 & 0 & 0 & 0 & -\\frac{1}{6} & \\frac{1}{6} & -\\frac{1}{6} & \\frac{1}{6} & -\\frac{1}{6} & \\frac{1}{6} & \\frac{1}{6} \\zeta_{12}^{2} & -\\frac{1}{6} \\zeta_{12}^{2} & \\frac{1}{6} \\zeta_{12}^{2} & -\\frac{1}{6} \\zeta_{12}^{2} & \\frac{1}{6} \\zeta_{12}^{2} & -\\frac{1}{6} \\zeta_{12}^{2} & -\\frac{1}{6} \\zeta_{12}^{2} + \\frac{1}{6} & \\frac{1}{6} \\zeta_{12}^{2} - \\frac{1}{6} & -\\frac{1}{6} \\zeta_{12}^{2} + \\frac{1}{6} & \\frac{1}{6} \\zeta_{12}^{2} - \\frac{1}{6} & -\\frac{1}{6} \\zeta_{12}^{2} + \\frac{1}{6} & \\frac{1}{6} \\zeta_{12}^{2} - \\frac{1}{6} \\\\\n",
       "\\frac{1}{6} & -\\frac{1}{6} & \\frac{1}{6} \\zeta_{12}^{2} - \\frac{1}{6} & -\\frac{1}{6} \\zeta_{12}^{2} + \\frac{1}{6} & -\\frac{1}{6} \\zeta_{12}^{2} & \\frac{1}{6} \\zeta_{12}^{2} & \\frac{1}{6} \\zeta_{12}^{2} - \\frac{1}{6} & -\\frac{1}{6} \\zeta_{12}^{2} + \\frac{1}{6} & -\\frac{1}{6} \\zeta_{12}^{2} & \\frac{1}{6} \\zeta_{12}^{2} & \\frac{1}{6} & -\\frac{1}{6} & -\\frac{1}{6} \\zeta_{12}^{2} & \\frac{1}{6} \\zeta_{12}^{2} & \\frac{1}{6} & -\\frac{1}{6} & \\frac{1}{6} \\zeta_{12}^{2} - \\frac{1}{6} & -\\frac{1}{6} \\zeta_{12}^{2} + \\frac{1}{6} & 0 & 0 & 0 & 0 & 0 & 0 & 0 & 0 & 0 & 0 & 0 & 0 & 0 & 0 & 0 & 0 & 0 & 0 & 0 & 0 & 0 & 0 & 0 & 0 & 0 & 0 & 0 & 0 & 0 & 0 & 0 & 0 & 0 & 0 & 0 & 0 & \\frac{1}{6} & -\\frac{1}{6} & -\\frac{1}{6} \\zeta_{12}^{2} & \\frac{1}{6} \\zeta_{12}^{2} & \\frac{1}{6} \\zeta_{12}^{2} - \\frac{1}{6} & -\\frac{1}{6} \\zeta_{12}^{2} + \\frac{1}{6} & -\\frac{1}{6} \\zeta_{12}^{2} & \\frac{1}{6} \\zeta_{12}^{2} & \\frac{1}{6} \\zeta_{12}^{2} - \\frac{1}{6} & -\\frac{1}{6} \\zeta_{12}^{2} + \\frac{1}{6} & \\frac{1}{6} & -\\frac{1}{6} & \\frac{1}{6} \\zeta_{12}^{2} - \\frac{1}{6} & -\\frac{1}{6} \\zeta_{12}^{2} + \\frac{1}{6} & \\frac{1}{6} & -\\frac{1}{6} & -\\frac{1}{6} \\zeta_{12}^{2} & \\frac{1}{6} \\zeta_{12}^{2} \\\\\n",
       "\\frac{1}{6} & -\\frac{1}{6} & \\frac{1}{6} \\zeta_{12}^{2} - \\frac{1}{6} & -\\frac{1}{6} \\zeta_{12}^{2} + \\frac{1}{6} & -\\frac{1}{6} \\zeta_{12}^{2} & \\frac{1}{6} \\zeta_{12}^{2} & \\frac{1}{6} \\zeta_{12}^{2} - \\frac{1}{6} & -\\frac{1}{6} \\zeta_{12}^{2} + \\frac{1}{6} & -\\frac{1}{6} \\zeta_{12}^{2} & \\frac{1}{6} \\zeta_{12}^{2} & \\frac{1}{6} & -\\frac{1}{6} & -\\frac{1}{6} \\zeta_{12}^{2} & \\frac{1}{6} \\zeta_{12}^{2} & \\frac{1}{6} & -\\frac{1}{6} & \\frac{1}{6} \\zeta_{12}^{2} - \\frac{1}{6} & -\\frac{1}{6} \\zeta_{12}^{2} + \\frac{1}{6} & 0 & 0 & 0 & 0 & 0 & 0 & 0 & 0 & 0 & 0 & 0 & 0 & 0 & 0 & 0 & 0 & 0 & 0 & 0 & 0 & 0 & 0 & 0 & 0 & 0 & 0 & 0 & 0 & 0 & 0 & 0 & 0 & 0 & 0 & 0 & 0 & -\\frac{1}{6} & \\frac{1}{6} & \\frac{1}{6} \\zeta_{12}^{2} & -\\frac{1}{6} \\zeta_{12}^{2} & -\\frac{1}{6} \\zeta_{12}^{2} + \\frac{1}{6} & \\frac{1}{6} \\zeta_{12}^{2} - \\frac{1}{6} & \\frac{1}{6} \\zeta_{12}^{2} & -\\frac{1}{6} \\zeta_{12}^{2} & -\\frac{1}{6} \\zeta_{12}^{2} + \\frac{1}{6} & \\frac{1}{6} \\zeta_{12}^{2} - \\frac{1}{6} & -\\frac{1}{6} & \\frac{1}{6} & -\\frac{1}{6} \\zeta_{12}^{2} + \\frac{1}{6} & \\frac{1}{6} \\zeta_{12}^{2} - \\frac{1}{6} & -\\frac{1}{6} & \\frac{1}{6} & \\frac{1}{6} \\zeta_{12}^{2} & -\\frac{1}{6} \\zeta_{12}^{2} \\\\\n",
       "\\frac{1}{6} & -\\frac{1}{6} & -\\frac{1}{6} \\zeta_{12}^{2} & \\frac{1}{6} \\zeta_{12}^{2} & \\frac{1}{6} \\zeta_{12}^{2} - \\frac{1}{6} & -\\frac{1}{6} \\zeta_{12}^{2} + \\frac{1}{6} & \\frac{1}{6} \\zeta_{12}^{2} - \\frac{1}{6} & -\\frac{1}{6} \\zeta_{12}^{2} + \\frac{1}{6} & \\frac{1}{6} & -\\frac{1}{6} & -\\frac{1}{6} \\zeta_{12}^{2} & \\frac{1}{6} \\zeta_{12}^{2} & -\\frac{1}{6} \\zeta_{12}^{2} & \\frac{1}{6} \\zeta_{12}^{2} & \\frac{1}{6} \\zeta_{12}^{2} - \\frac{1}{6} & -\\frac{1}{6} \\zeta_{12}^{2} + \\frac{1}{6} & \\frac{1}{6} & -\\frac{1}{6} & 0 & 0 & 0 & 0 & 0 & 0 & 0 & 0 & 0 & 0 & 0 & 0 & 0 & 0 & 0 & 0 & 0 & 0 & 0 & 0 & 0 & 0 & 0 & 0 & 0 & 0 & 0 & 0 & 0 & 0 & 0 & 0 & 0 & 0 & 0 & 0 & \\frac{1}{6} & -\\frac{1}{6} & \\frac{1}{6} \\zeta_{12}^{2} - \\frac{1}{6} & -\\frac{1}{6} \\zeta_{12}^{2} + \\frac{1}{6} & -\\frac{1}{6} \\zeta_{12}^{2} & \\frac{1}{6} \\zeta_{12}^{2} & -\\frac{1}{6} \\zeta_{12}^{2} & \\frac{1}{6} \\zeta_{12}^{2} & \\frac{1}{6} & -\\frac{1}{6} & \\frac{1}{6} \\zeta_{12}^{2} - \\frac{1}{6} & -\\frac{1}{6} \\zeta_{12}^{2} + \\frac{1}{6} & \\frac{1}{6} \\zeta_{12}^{2} - \\frac{1}{6} & -\\frac{1}{6} \\zeta_{12}^{2} + \\frac{1}{6} & -\\frac{1}{6} \\zeta_{12}^{2} & \\frac{1}{6} \\zeta_{12}^{2} & \\frac{1}{6} & -\\frac{1}{6} \\\\\n",
       "\\frac{1}{6} & -\\frac{1}{6} & -\\frac{1}{6} \\zeta_{12}^{2} & \\frac{1}{6} \\zeta_{12}^{2} & \\frac{1}{6} \\zeta_{12}^{2} - \\frac{1}{6} & -\\frac{1}{6} \\zeta_{12}^{2} + \\frac{1}{6} & \\frac{1}{6} \\zeta_{12}^{2} - \\frac{1}{6} & -\\frac{1}{6} \\zeta_{12}^{2} + \\frac{1}{6} & \\frac{1}{6} & -\\frac{1}{6} & -\\frac{1}{6} \\zeta_{12}^{2} & \\frac{1}{6} \\zeta_{12}^{2} & -\\frac{1}{6} \\zeta_{12}^{2} & \\frac{1}{6} \\zeta_{12}^{2} & \\frac{1}{6} \\zeta_{12}^{2} - \\frac{1}{6} & -\\frac{1}{6} \\zeta_{12}^{2} + \\frac{1}{6} & \\frac{1}{6} & -\\frac{1}{6} & 0 & 0 & 0 & 0 & 0 & 0 & 0 & 0 & 0 & 0 & 0 & 0 & 0 & 0 & 0 & 0 & 0 & 0 & 0 & 0 & 0 & 0 & 0 & 0 & 0 & 0 & 0 & 0 & 0 & 0 & 0 & 0 & 0 & 0 & 0 & 0 & -\\frac{1}{6} & \\frac{1}{6} & -\\frac{1}{6} \\zeta_{12}^{2} + \\frac{1}{6} & \\frac{1}{6} \\zeta_{12}^{2} - \\frac{1}{6} & \\frac{1}{6} \\zeta_{12}^{2} & -\\frac{1}{6} \\zeta_{12}^{2} & \\frac{1}{6} \\zeta_{12}^{2} & -\\frac{1}{6} \\zeta_{12}^{2} & -\\frac{1}{6} & \\frac{1}{6} & -\\frac{1}{6} \\zeta_{12}^{2} + \\frac{1}{6} & \\frac{1}{6} \\zeta_{12}^{2} - \\frac{1}{6} & -\\frac{1}{6} \\zeta_{12}^{2} + \\frac{1}{6} & \\frac{1}{6} \\zeta_{12}^{2} - \\frac{1}{6} & \\frac{1}{6} \\zeta_{12}^{2} & -\\frac{1}{6} \\zeta_{12}^{2} & -\\frac{1}{6} & \\frac{1}{6} \\\\\n",
       "\\frac{1}{6} & -\\frac{1}{6} & \\frac{1}{6} & -\\frac{1}{6} & \\frac{1}{6} & -\\frac{1}{6} & -\\frac{1}{6} \\zeta_{12}^{2} & \\frac{1}{6} \\zeta_{12}^{2} & -\\frac{1}{6} \\zeta_{12}^{2} & \\frac{1}{6} \\zeta_{12}^{2} & -\\frac{1}{6} \\zeta_{12}^{2} & \\frac{1}{6} \\zeta_{12}^{2} & \\frac{1}{6} \\zeta_{12}^{2} - \\frac{1}{6} & -\\frac{1}{6} \\zeta_{12}^{2} + \\frac{1}{6} & \\frac{1}{6} \\zeta_{12}^{2} - \\frac{1}{6} & -\\frac{1}{6} \\zeta_{12}^{2} + \\frac{1}{6} & \\frac{1}{6} \\zeta_{12}^{2} - \\frac{1}{6} & -\\frac{1}{6} \\zeta_{12}^{2} + \\frac{1}{6} & 0 & 0 & 0 & 0 & 0 & 0 & 0 & 0 & 0 & 0 & 0 & 0 & 0 & 0 & 0 & 0 & 0 & 0 & 0 & 0 & 0 & 0 & 0 & 0 & 0 & 0 & 0 & 0 & 0 & 0 & 0 & 0 & 0 & 0 & 0 & 0 & \\frac{1}{6} & -\\frac{1}{6} & \\frac{1}{6} & -\\frac{1}{6} & \\frac{1}{6} & -\\frac{1}{6} & \\frac{1}{6} \\zeta_{12}^{2} - \\frac{1}{6} & -\\frac{1}{6} \\zeta_{12}^{2} + \\frac{1}{6} & \\frac{1}{6} \\zeta_{12}^{2} - \\frac{1}{6} & -\\frac{1}{6} \\zeta_{12}^{2} + \\frac{1}{6} & \\frac{1}{6} \\zeta_{12}^{2} - \\frac{1}{6} & -\\frac{1}{6} \\zeta_{12}^{2} + \\frac{1}{6} & -\\frac{1}{6} \\zeta_{12}^{2} & \\frac{1}{6} \\zeta_{12}^{2} & -\\frac{1}{6} \\zeta_{12}^{2} & \\frac{1}{6} \\zeta_{12}^{2} & -\\frac{1}{6} \\zeta_{12}^{2} & \\frac{1}{6} \\zeta_{12}^{2} \\\\\n",
       "\\frac{1}{6} & -\\frac{1}{6} & \\frac{1}{6} & -\\frac{1}{6} & \\frac{1}{6} & -\\frac{1}{6} & -\\frac{1}{6} \\zeta_{12}^{2} & \\frac{1}{6} \\zeta_{12}^{2} & -\\frac{1}{6} \\zeta_{12}^{2} & \\frac{1}{6} \\zeta_{12}^{2} & -\\frac{1}{6} \\zeta_{12}^{2} & \\frac{1}{6} \\zeta_{12}^{2} & \\frac{1}{6} \\zeta_{12}^{2} - \\frac{1}{6} & -\\frac{1}{6} \\zeta_{12}^{2} + \\frac{1}{6} & \\frac{1}{6} \\zeta_{12}^{2} - \\frac{1}{6} & -\\frac{1}{6} \\zeta_{12}^{2} + \\frac{1}{6} & \\frac{1}{6} \\zeta_{12}^{2} - \\frac{1}{6} & -\\frac{1}{6} \\zeta_{12}^{2} + \\frac{1}{6} & 0 & 0 & 0 & 0 & 0 & 0 & 0 & 0 & 0 & 0 & 0 & 0 & 0 & 0 & 0 & 0 & 0 & 0 & 0 & 0 & 0 & 0 & 0 & 0 & 0 & 0 & 0 & 0 & 0 & 0 & 0 & 0 & 0 & 0 & 0 & 0 & -\\frac{1}{6} & \\frac{1}{6} & -\\frac{1}{6} & \\frac{1}{6} & -\\frac{1}{6} & \\frac{1}{6} & -\\frac{1}{6} \\zeta_{12}^{2} + \\frac{1}{6} & \\frac{1}{6} \\zeta_{12}^{2} - \\frac{1}{6} & -\\frac{1}{6} \\zeta_{12}^{2} + \\frac{1}{6} & \\frac{1}{6} \\zeta_{12}^{2} - \\frac{1}{6} & -\\frac{1}{6} \\zeta_{12}^{2} + \\frac{1}{6} & \\frac{1}{6} \\zeta_{12}^{2} - \\frac{1}{6} & \\frac{1}{6} \\zeta_{12}^{2} & -\\frac{1}{6} \\zeta_{12}^{2} & \\frac{1}{6} \\zeta_{12}^{2} & -\\frac{1}{6} \\zeta_{12}^{2} & \\frac{1}{6} \\zeta_{12}^{2} & -\\frac{1}{6} \\zeta_{12}^{2} \\\\\n",
       "\\frac{1}{6} & -\\frac{1}{6} & \\frac{1}{6} \\zeta_{12}^{2} - \\frac{1}{6} & -\\frac{1}{6} \\zeta_{12}^{2} + \\frac{1}{6} & -\\frac{1}{6} \\zeta_{12}^{2} & \\frac{1}{6} \\zeta_{12}^{2} & -\\frac{1}{6} \\zeta_{12}^{2} & \\frac{1}{6} \\zeta_{12}^{2} & \\frac{1}{6} & -\\frac{1}{6} & \\frac{1}{6} \\zeta_{12}^{2} - \\frac{1}{6} & -\\frac{1}{6} \\zeta_{12}^{2} + \\frac{1}{6} & \\frac{1}{6} \\zeta_{12}^{2} - \\frac{1}{6} & -\\frac{1}{6} \\zeta_{12}^{2} + \\frac{1}{6} & -\\frac{1}{6} \\zeta_{12}^{2} & \\frac{1}{6} \\zeta_{12}^{2} & \\frac{1}{6} & -\\frac{1}{6} & 0 & 0 & 0 & 0 & 0 & 0 & 0 & 0 & 0 & 0 & 0 & 0 & 0 & 0 & 0 & 0 & 0 & 0 & 0 & 0 & 0 & 0 & 0 & 0 & 0 & 0 & 0 & 0 & 0 & 0 & 0 & 0 & 0 & 0 & 0 & 0 & \\frac{1}{6} & -\\frac{1}{6} & -\\frac{1}{6} \\zeta_{12}^{2} & \\frac{1}{6} \\zeta_{12}^{2} & \\frac{1}{6} \\zeta_{12}^{2} - \\frac{1}{6} & -\\frac{1}{6} \\zeta_{12}^{2} + \\frac{1}{6} & \\frac{1}{6} \\zeta_{12}^{2} - \\frac{1}{6} & -\\frac{1}{6} \\zeta_{12}^{2} + \\frac{1}{6} & \\frac{1}{6} & -\\frac{1}{6} & -\\frac{1}{6} \\zeta_{12}^{2} & \\frac{1}{6} \\zeta_{12}^{2} & -\\frac{1}{6} \\zeta_{12}^{2} & \\frac{1}{6} \\zeta_{12}^{2} & \\frac{1}{6} \\zeta_{12}^{2} - \\frac{1}{6} & -\\frac{1}{6} \\zeta_{12}^{2} + \\frac{1}{6} & \\frac{1}{6} & -\\frac{1}{6} \\\\\n",
       "\\frac{1}{6} & -\\frac{1}{6} & \\frac{1}{6} \\zeta_{12}^{2} - \\frac{1}{6} & -\\frac{1}{6} \\zeta_{12}^{2} + \\frac{1}{6} & -\\frac{1}{6} \\zeta_{12}^{2} & \\frac{1}{6} \\zeta_{12}^{2} & -\\frac{1}{6} \\zeta_{12}^{2} & \\frac{1}{6} \\zeta_{12}^{2} & \\frac{1}{6} & -\\frac{1}{6} & \\frac{1}{6} \\zeta_{12}^{2} - \\frac{1}{6} & -\\frac{1}{6} \\zeta_{12}^{2} + \\frac{1}{6} & \\frac{1}{6} \\zeta_{12}^{2} - \\frac{1}{6} & -\\frac{1}{6} \\zeta_{12}^{2} + \\frac{1}{6} & -\\frac{1}{6} \\zeta_{12}^{2} & \\frac{1}{6} \\zeta_{12}^{2} & \\frac{1}{6} & -\\frac{1}{6} & 0 & 0 & 0 & 0 & 0 & 0 & 0 & 0 & 0 & 0 & 0 & 0 & 0 & 0 & 0 & 0 & 0 & 0 & 0 & 0 & 0 & 0 & 0 & 0 & 0 & 0 & 0 & 0 & 0 & 0 & 0 & 0 & 0 & 0 & 0 & 0 & -\\frac{1}{6} & \\frac{1}{6} & \\frac{1}{6} \\zeta_{12}^{2} & -\\frac{1}{6} \\zeta_{12}^{2} & -\\frac{1}{6} \\zeta_{12}^{2} + \\frac{1}{6} & \\frac{1}{6} \\zeta_{12}^{2} - \\frac{1}{6} & -\\frac{1}{6} \\zeta_{12}^{2} + \\frac{1}{6} & \\frac{1}{6} \\zeta_{12}^{2} - \\frac{1}{6} & -\\frac{1}{6} & \\frac{1}{6} & \\frac{1}{6} \\zeta_{12}^{2} & -\\frac{1}{6} \\zeta_{12}^{2} & \\frac{1}{6} \\zeta_{12}^{2} & -\\frac{1}{6} \\zeta_{12}^{2} & -\\frac{1}{6} \\zeta_{12}^{2} + \\frac{1}{6} & \\frac{1}{6} \\zeta_{12}^{2} - \\frac{1}{6} & -\\frac{1}{6} & \\frac{1}{6} \\\\\n",
       "\\frac{1}{6} & -\\frac{1}{6} & -\\frac{1}{6} \\zeta_{12}^{2} & \\frac{1}{6} \\zeta_{12}^{2} & \\frac{1}{6} \\zeta_{12}^{2} - \\frac{1}{6} & -\\frac{1}{6} \\zeta_{12}^{2} + \\frac{1}{6} & -\\frac{1}{6} \\zeta_{12}^{2} & \\frac{1}{6} \\zeta_{12}^{2} & \\frac{1}{6} \\zeta_{12}^{2} - \\frac{1}{6} & -\\frac{1}{6} \\zeta_{12}^{2} + \\frac{1}{6} & \\frac{1}{6} & -\\frac{1}{6} & \\frac{1}{6} \\zeta_{12}^{2} - \\frac{1}{6} & -\\frac{1}{6} \\zeta_{12}^{2} + \\frac{1}{6} & \\frac{1}{6} & -\\frac{1}{6} & -\\frac{1}{6} \\zeta_{12}^{2} & \\frac{1}{6} \\zeta_{12}^{2} & 0 & 0 & 0 & 0 & 0 & 0 & 0 & 0 & 0 & 0 & 0 & 0 & 0 & 0 & 0 & 0 & 0 & 0 & 0 & 0 & 0 & 0 & 0 & 0 & 0 & 0 & 0 & 0 & 0 & 0 & 0 & 0 & 0 & 0 & 0 & 0 & \\frac{1}{6} & -\\frac{1}{6} & \\frac{1}{6} \\zeta_{12}^{2} - \\frac{1}{6} & -\\frac{1}{6} \\zeta_{12}^{2} + \\frac{1}{6} & -\\frac{1}{6} \\zeta_{12}^{2} & \\frac{1}{6} \\zeta_{12}^{2} & \\frac{1}{6} \\zeta_{12}^{2} - \\frac{1}{6} & -\\frac{1}{6} \\zeta_{12}^{2} + \\frac{1}{6} & -\\frac{1}{6} \\zeta_{12}^{2} & \\frac{1}{6} \\zeta_{12}^{2} & \\frac{1}{6} & -\\frac{1}{6} & -\\frac{1}{6} \\zeta_{12}^{2} & \\frac{1}{6} \\zeta_{12}^{2} & \\frac{1}{6} & -\\frac{1}{6} & \\frac{1}{6} \\zeta_{12}^{2} - \\frac{1}{6} & -\\frac{1}{6} \\zeta_{12}^{2} + \\frac{1}{6} \\\\\n",
       "\\frac{1}{6} & -\\frac{1}{6} & -\\frac{1}{6} \\zeta_{12}^{2} & \\frac{1}{6} \\zeta_{12}^{2} & \\frac{1}{6} \\zeta_{12}^{2} - \\frac{1}{6} & -\\frac{1}{6} \\zeta_{12}^{2} + \\frac{1}{6} & -\\frac{1}{6} \\zeta_{12}^{2} & \\frac{1}{6} \\zeta_{12}^{2} & \\frac{1}{6} \\zeta_{12}^{2} - \\frac{1}{6} & -\\frac{1}{6} \\zeta_{12}^{2} + \\frac{1}{6} & \\frac{1}{6} & -\\frac{1}{6} & \\frac{1}{6} \\zeta_{12}^{2} - \\frac{1}{6} & -\\frac{1}{6} \\zeta_{12}^{2} + \\frac{1}{6} & \\frac{1}{6} & -\\frac{1}{6} & -\\frac{1}{6} \\zeta_{12}^{2} & \\frac{1}{6} \\zeta_{12}^{2} & 0 & 0 & 0 & 0 & 0 & 0 & 0 & 0 & 0 & 0 & 0 & 0 & 0 & 0 & 0 & 0 & 0 & 0 & 0 & 0 & 0 & 0 & 0 & 0 & 0 & 0 & 0 & 0 & 0 & 0 & 0 & 0 & 0 & 0 & 0 & 0 & -\\frac{1}{6} & \\frac{1}{6} & -\\frac{1}{6} \\zeta_{12}^{2} + \\frac{1}{6} & \\frac{1}{6} \\zeta_{12}^{2} - \\frac{1}{6} & \\frac{1}{6} \\zeta_{12}^{2} & -\\frac{1}{6} \\zeta_{12}^{2} & -\\frac{1}{6} \\zeta_{12}^{2} + \\frac{1}{6} & \\frac{1}{6} \\zeta_{12}^{2} - \\frac{1}{6} & \\frac{1}{6} \\zeta_{12}^{2} & -\\frac{1}{6} \\zeta_{12}^{2} & -\\frac{1}{6} & \\frac{1}{6} & \\frac{1}{6} \\zeta_{12}^{2} & -\\frac{1}{6} \\zeta_{12}^{2} & -\\frac{1}{6} & \\frac{1}{6} & -\\frac{1}{6} \\zeta_{12}^{2} + \\frac{1}{6} & \\frac{1}{6} \\zeta_{12}^{2} - \\frac{1}{6}\n",
       "\\end{array}\\right)"
      ]
     },
     "execution_count": 48,
     "metadata": {},
     "output_type": "execute_result"
    }
   ],
   "source": [
    "latex(S)"
   ]
  },
  {
   "cell_type": "code",
   "execution_count": 49,
   "metadata": {},
   "outputs": [
    {
     "data": {
      "text/plain": [
       "\\left(\\begin{array}{rrrrrrrrrrrrrrrrrr|rrrrrrrrrrrrrrrrrrrrrrrrrrrrrrrrrrrr|rrrrrrrrrrrrrrrrrr}\n",
       "1 & 0 & 0 & 0 & 0 & 0 & 0 & 0 & 0 & 0 & 0 & 0 & 0 & 0 & 0 & 0 & 0 & 0 & 0 & 0 & 0 & 0 & 0 & 0 & 0 & 0 & 0 & 0 & 0 & 0 & 0 & 0 & 0 & 0 & 0 & 0 & 0 & 0 & 0 & 0 & 0 & 0 & 0 & 0 & 0 & 0 & 0 & 0 & 0 & 0 & 0 & 0 & 0 & 0 & 0 & 0 & 0 & 0 & 0 & 0 & 0 & 0 & 0 & 0 & 0 & 0 & 0 & 0 & 0 & 0 & 0 & 0 \\\\\n",
       "0 & 1 & 0 & 0 & 0 & 0 & 0 & 0 & 0 & 0 & 0 & 0 & 0 & 0 & 0 & 0 & 0 & 0 & 0 & 0 & 0 & 0 & 0 & 0 & 0 & 0 & 0 & 0 & 0 & 0 & 0 & 0 & 0 & 0 & 0 & 0 & 0 & 0 & 0 & 0 & 0 & 0 & 0 & 0 & 0 & 0 & 0 & 0 & 0 & 0 & 0 & 0 & 0 & 0 & 0 & 0 & 0 & 0 & 0 & 0 & 0 & 0 & 0 & 0 & 0 & 0 & 0 & 0 & 0 & 0 & 0 & 0 \\\\\n",
       "0 & 0 & -\\zeta_{12}^{2} & 0 & 0 & 0 & 0 & 0 & 0 & 0 & 0 & 0 & 0 & 0 & 0 & 0 & 0 & 0 & 0 & 0 & 0 & 0 & 0 & 0 & 0 & 0 & 0 & 0 & 0 & 0 & 0 & 0 & 0 & 0 & 0 & 0 & 0 & 0 & 0 & 0 & 0 & 0 & 0 & 0 & 0 & 0 & 0 & 0 & 0 & 0 & 0 & 0 & 0 & 0 & 0 & 0 & 0 & 0 & 0 & 0 & 0 & 0 & 0 & 0 & 0 & 0 & 0 & 0 & 0 & 0 & 0 & 0 \\\\\n",
       "0 & 0 & 0 & -\\zeta_{12}^{2} & 0 & 0 & 0 & 0 & 0 & 0 & 0 & 0 & 0 & 0 & 0 & 0 & 0 & 0 & 0 & 0 & 0 & 0 & 0 & 0 & 0 & 0 & 0 & 0 & 0 & 0 & 0 & 0 & 0 & 0 & 0 & 0 & 0 & 0 & 0 & 0 & 0 & 0 & 0 & 0 & 0 & 0 & 0 & 0 & 0 & 0 & 0 & 0 & 0 & 0 & 0 & 0 & 0 & 0 & 0 & 0 & 0 & 0 & 0 & 0 & 0 & 0 & 0 & 0 & 0 & 0 & 0 & 0 \\\\\n",
       "0 & 0 & 0 & 0 & -\\zeta_{12}^{2} & 0 & 0 & 0 & 0 & 0 & 0 & 0 & 0 & 0 & 0 & 0 & 0 & 0 & 0 & 0 & 0 & 0 & 0 & 0 & 0 & 0 & 0 & 0 & 0 & 0 & 0 & 0 & 0 & 0 & 0 & 0 & 0 & 0 & 0 & 0 & 0 & 0 & 0 & 0 & 0 & 0 & 0 & 0 & 0 & 0 & 0 & 0 & 0 & 0 & 0 & 0 & 0 & 0 & 0 & 0 & 0 & 0 & 0 & 0 & 0 & 0 & 0 & 0 & 0 & 0 & 0 & 0 \\\\\n",
       "0 & 0 & 0 & 0 & 0 & -\\zeta_{12}^{2} & 0 & 0 & 0 & 0 & 0 & 0 & 0 & 0 & 0 & 0 & 0 & 0 & 0 & 0 & 0 & 0 & 0 & 0 & 0 & 0 & 0 & 0 & 0 & 0 & 0 & 0 & 0 & 0 & 0 & 0 & 0 & 0 & 0 & 0 & 0 & 0 & 0 & 0 & 0 & 0 & 0 & 0 & 0 & 0 & 0 & 0 & 0 & 0 & 0 & 0 & 0 & 0 & 0 & 0 & 0 & 0 & 0 & 0 & 0 & 0 & 0 & 0 & 0 & 0 & 0 & 0 \\\\\n",
       "0 & 0 & 0 & 0 & 0 & 0 & -\\zeta_{12}^{2} & 0 & 0 & 0 & 0 & 0 & 0 & 0 & 0 & 0 & 0 & 0 & 0 & 0 & 0 & 0 & 0 & 0 & 0 & 0 & 0 & 0 & 0 & 0 & 0 & 0 & 0 & 0 & 0 & 0 & 0 & 0 & 0 & 0 & 0 & 0 & 0 & 0 & 0 & 0 & 0 & 0 & 0 & 0 & 0 & 0 & 0 & 0 & 0 & 0 & 0 & 0 & 0 & 0 & 0 & 0 & 0 & 0 & 0 & 0 & 0 & 0 & 0 & 0 & 0 & 0 \\\\\n",
       "0 & 0 & 0 & 0 & 0 & 0 & 0 & -\\zeta_{12}^{2} & 0 & 0 & 0 & 0 & 0 & 0 & 0 & 0 & 0 & 0 & 0 & 0 & 0 & 0 & 0 & 0 & 0 & 0 & 0 & 0 & 0 & 0 & 0 & 0 & 0 & 0 & 0 & 0 & 0 & 0 & 0 & 0 & 0 & 0 & 0 & 0 & 0 & 0 & 0 & 0 & 0 & 0 & 0 & 0 & 0 & 0 & 0 & 0 & 0 & 0 & 0 & 0 & 0 & 0 & 0 & 0 & 0 & 0 & 0 & 0 & 0 & 0 & 0 & 0 \\\\\n",
       "0 & 0 & 0 & 0 & 0 & 0 & 0 & 0 & \\zeta_{12}^{2} - 1 & 0 & 0 & 0 & 0 & 0 & 0 & 0 & 0 & 0 & 0 & 0 & 0 & 0 & 0 & 0 & 0 & 0 & 0 & 0 & 0 & 0 & 0 & 0 & 0 & 0 & 0 & 0 & 0 & 0 & 0 & 0 & 0 & 0 & 0 & 0 & 0 & 0 & 0 & 0 & 0 & 0 & 0 & 0 & 0 & 0 & 0 & 0 & 0 & 0 & 0 & 0 & 0 & 0 & 0 & 0 & 0 & 0 & 0 & 0 & 0 & 0 & 0 & 0 \\\\\n",
       "0 & 0 & 0 & 0 & 0 & 0 & 0 & 0 & 0 & \\zeta_{12}^{2} - 1 & 0 & 0 & 0 & 0 & 0 & 0 & 0 & 0 & 0 & 0 & 0 & 0 & 0 & 0 & 0 & 0 & 0 & 0 & 0 & 0 & 0 & 0 & 0 & 0 & 0 & 0 & 0 & 0 & 0 & 0 & 0 & 0 & 0 & 0 & 0 & 0 & 0 & 0 & 0 & 0 & 0 & 0 & 0 & 0 & 0 & 0 & 0 & 0 & 0 & 0 & 0 & 0 & 0 & 0 & 0 & 0 & 0 & 0 & 0 & 0 & 0 & 0 \\\\\n",
       "0 & 0 & 0 & 0 & 0 & 0 & 0 & 0 & 0 & 0 & \\zeta_{12}^{2} - 1 & 0 & 0 & 0 & 0 & 0 & 0 & 0 & 0 & 0 & 0 & 0 & 0 & 0 & 0 & 0 & 0 & 0 & 0 & 0 & 0 & 0 & 0 & 0 & 0 & 0 & 0 & 0 & 0 & 0 & 0 & 0 & 0 & 0 & 0 & 0 & 0 & 0 & 0 & 0 & 0 & 0 & 0 & 0 & 0 & 0 & 0 & 0 & 0 & 0 & 0 & 0 & 0 & 0 & 0 & 0 & 0 & 0 & 0 & 0 & 0 & 0 \\\\\n",
       "0 & 0 & 0 & 0 & 0 & 0 & 0 & 0 & 0 & 0 & 0 & \\zeta_{12}^{2} - 1 & 0 & 0 & 0 & 0 & 0 & 0 & 0 & 0 & 0 & 0 & 0 & 0 & 0 & 0 & 0 & 0 & 0 & 0 & 0 & 0 & 0 & 0 & 0 & 0 & 0 & 0 & 0 & 0 & 0 & 0 & 0 & 0 & 0 & 0 & 0 & 0 & 0 & 0 & 0 & 0 & 0 & 0 & 0 & 0 & 0 & 0 & 0 & 0 & 0 & 0 & 0 & 0 & 0 & 0 & 0 & 0 & 0 & 0 & 0 & 0 \\\\\n",
       "0 & 0 & 0 & 0 & 0 & 0 & 0 & 0 & 0 & 0 & 0 & 0 & -\\zeta_{12}^{2} & 0 & 0 & 0 & 0 & 0 & 0 & 0 & 0 & 0 & 0 & 0 & 0 & 0 & 0 & 0 & 0 & 0 & 0 & 0 & 0 & 0 & 0 & 0 & 0 & 0 & 0 & 0 & 0 & 0 & 0 & 0 & 0 & 0 & 0 & 0 & 0 & 0 & 0 & 0 & 0 & 0 & 0 & 0 & 0 & 0 & 0 & 0 & 0 & 0 & 0 & 0 & 0 & 0 & 0 & 0 & 0 & 0 & 0 & 0 \\\\\n",
       "0 & 0 & 0 & 0 & 0 & 0 & 0 & 0 & 0 & 0 & 0 & 0 & 0 & -\\zeta_{12}^{2} & 0 & 0 & 0 & 0 & 0 & 0 & 0 & 0 & 0 & 0 & 0 & 0 & 0 & 0 & 0 & 0 & 0 & 0 & 0 & 0 & 0 & 0 & 0 & 0 & 0 & 0 & 0 & 0 & 0 & 0 & 0 & 0 & 0 & 0 & 0 & 0 & 0 & 0 & 0 & 0 & 0 & 0 & 0 & 0 & 0 & 0 & 0 & 0 & 0 & 0 & 0 & 0 & 0 & 0 & 0 & 0 & 0 & 0 \\\\\n",
       "0 & 0 & 0 & 0 & 0 & 0 & 0 & 0 & 0 & 0 & 0 & 0 & 0 & 0 & \\zeta_{12}^{2} - 1 & 0 & 0 & 0 & 0 & 0 & 0 & 0 & 0 & 0 & 0 & 0 & 0 & 0 & 0 & 0 & 0 & 0 & 0 & 0 & 0 & 0 & 0 & 0 & 0 & 0 & 0 & 0 & 0 & 0 & 0 & 0 & 0 & 0 & 0 & 0 & 0 & 0 & 0 & 0 & 0 & 0 & 0 & 0 & 0 & 0 & 0 & 0 & 0 & 0 & 0 & 0 & 0 & 0 & 0 & 0 & 0 & 0 \\\\\n",
       "0 & 0 & 0 & 0 & 0 & 0 & 0 & 0 & 0 & 0 & 0 & 0 & 0 & 0 & 0 & \\zeta_{12}^{2} - 1 & 0 & 0 & 0 & 0 & 0 & 0 & 0 & 0 & 0 & 0 & 0 & 0 & 0 & 0 & 0 & 0 & 0 & 0 & 0 & 0 & 0 & 0 & 0 & 0 & 0 & 0 & 0 & 0 & 0 & 0 & 0 & 0 & 0 & 0 & 0 & 0 & 0 & 0 & 0 & 0 & 0 & 0 & 0 & 0 & 0 & 0 & 0 & 0 & 0 & 0 & 0 & 0 & 0 & 0 & 0 & 0 \\\\\n",
       "0 & 0 & 0 & 0 & 0 & 0 & 0 & 0 & 0 & 0 & 0 & 0 & 0 & 0 & 0 & 0 & \\zeta_{12}^{2} - 1 & 0 & 0 & 0 & 0 & 0 & 0 & 0 & 0 & 0 & 0 & 0 & 0 & 0 & 0 & 0 & 0 & 0 & 0 & 0 & 0 & 0 & 0 & 0 & 0 & 0 & 0 & 0 & 0 & 0 & 0 & 0 & 0 & 0 & 0 & 0 & 0 & 0 & 0 & 0 & 0 & 0 & 0 & 0 & 0 & 0 & 0 & 0 & 0 & 0 & 0 & 0 & 0 & 0 & 0 & 0 \\\\\n",
       "0 & 0 & 0 & 0 & 0 & 0 & 0 & 0 & 0 & 0 & 0 & 0 & 0 & 0 & 0 & 0 & 0 & \\zeta_{12}^{2} - 1 & 0 & 0 & 0 & 0 & 0 & 0 & 0 & 0 & 0 & 0 & 0 & 0 & 0 & 0 & 0 & 0 & 0 & 0 & 0 & 0 & 0 & 0 & 0 & 0 & 0 & 0 & 0 & 0 & 0 & 0 & 0 & 0 & 0 & 0 & 0 & 0 & 0 & 0 & 0 & 0 & 0 & 0 & 0 & 0 & 0 & 0 & 0 & 0 & 0 & 0 & 0 & 0 & 0 & 0 \\\\\n",
       "\\hline\n",
       " 0 & 0 & 0 & 0 & 0 & 0 & 0 & 0 & 0 & 0 & 0 & 0 & 0 & 0 & 0 & 0 & 0 & 0 & 1 & 0 & 0 & 0 & 0 & 0 & 0 & 0 & 0 & 0 & 0 & 0 & 0 & 0 & 0 & 0 & 0 & 0 & 0 & 0 & 0 & 0 & 0 & 0 & 0 & 0 & 0 & 0 & 0 & 0 & 0 & 0 & 0 & 0 & 0 & 0 & 0 & 0 & 0 & 0 & 0 & 0 & 0 & 0 & 0 & 0 & 0 & 0 & 0 & 0 & 0 & 0 & 0 & 0 \\\\\n",
       "0 & 0 & 0 & 0 & 0 & 0 & 0 & 0 & 0 & 0 & 0 & 0 & 0 & 0 & 0 & 0 & 0 & 0 & 0 & 1 & 0 & 0 & 0 & 0 & 0 & 0 & 0 & 0 & 0 & 0 & 0 & 0 & 0 & 0 & 0 & 0 & 0 & 0 & 0 & 0 & 0 & 0 & 0 & 0 & 0 & 0 & 0 & 0 & 0 & 0 & 0 & 0 & 0 & 0 & 0 & 0 & 0 & 0 & 0 & 0 & 0 & 0 & 0 & 0 & 0 & 0 & 0 & 0 & 0 & 0 & 0 & 0 \\\\\n",
       "0 & 0 & 0 & 0 & 0 & 0 & 0 & 0 & 0 & 0 & 0 & 0 & 0 & 0 & 0 & 0 & 0 & 0 & 0 & 0 & \\zeta_{12}^{2} - 1 & 0 & 0 & 0 & 0 & 0 & 0 & 0 & 0 & 0 & 0 & 0 & 0 & 0 & 0 & 0 & 0 & 0 & 0 & 0 & 0 & 0 & 0 & 0 & 0 & 0 & 0 & 0 & 0 & 0 & 0 & 0 & 0 & 0 & 0 & 0 & 0 & 0 & 0 & 0 & 0 & 0 & 0 & 0 & 0 & 0 & 0 & 0 & 0 & 0 & 0 & 0 \\\\\n",
       "0 & 0 & 0 & 0 & 0 & 0 & 0 & 0 & 0 & 0 & 0 & 0 & 0 & 0 & 0 & 0 & 0 & 0 & 0 & 0 & 0 & 1 & 0 & 0 & 0 & 0 & 0 & 0 & 0 & 0 & 0 & 0 & 0 & 0 & 0 & 0 & 0 & 0 & 0 & 0 & 0 & 0 & 0 & 0 & 0 & 0 & 0 & 0 & 0 & 0 & 0 & 0 & 0 & 0 & 0 & 0 & 0 & 0 & 0 & 0 & 0 & 0 & 0 & 0 & 0 & 0 & 0 & 0 & 0 & 0 & 0 & 0 \\\\\n",
       "0 & 0 & 0 & 0 & 0 & 0 & 0 & 0 & 0 & 0 & 0 & 0 & 0 & 0 & 0 & 0 & 0 & 0 & 0 & 0 & 0 & 0 & 1 & 0 & 0 & 0 & 0 & 0 & 0 & 0 & 0 & 0 & 0 & 0 & 0 & 0 & 0 & 0 & 0 & 0 & 0 & 0 & 0 & 0 & 0 & 0 & 0 & 0 & 0 & 0 & 0 & 0 & 0 & 0 & 0 & 0 & 0 & 0 & 0 & 0 & 0 & 0 & 0 & 0 & 0 & 0 & 0 & 0 & 0 & 0 & 0 & 0 \\\\\n",
       "0 & 0 & 0 & 0 & 0 & 0 & 0 & 0 & 0 & 0 & 0 & 0 & 0 & 0 & 0 & 0 & 0 & 0 & 0 & 0 & 0 & 0 & 0 & 1 & 0 & 0 & 0 & 0 & 0 & 0 & 0 & 0 & 0 & 0 & 0 & 0 & 0 & 0 & 0 & 0 & 0 & 0 & 0 & 0 & 0 & 0 & 0 & 0 & 0 & 0 & 0 & 0 & 0 & 0 & 0 & 0 & 0 & 0 & 0 & 0 & 0 & 0 & 0 & 0 & 0 & 0 & 0 & 0 & 0 & 0 & 0 & 0 \\\\\n",
       "0 & 0 & 0 & 0 & 0 & 0 & 0 & 0 & 0 & 0 & 0 & 0 & 0 & 0 & 0 & 0 & 0 & 0 & 0 & 0 & 0 & 0 & 0 & 0 & 1 & 0 & 0 & 0 & 0 & 0 & 0 & 0 & 0 & 0 & 0 & 0 & 0 & 0 & 0 & 0 & 0 & 0 & 0 & 0 & 0 & 0 & 0 & 0 & 0 & 0 & 0 & 0 & 0 & 0 & 0 & 0 & 0 & 0 & 0 & 0 & 0 & 0 & 0 & 0 & 0 & 0 & 0 & 0 & 0 & 0 & 0 & 0 \\\\\n",
       "0 & 0 & 0 & 0 & 0 & 0 & 0 & 0 & 0 & 0 & 0 & 0 & 0 & 0 & 0 & 0 & 0 & 0 & 0 & 0 & 0 & 0 & 0 & 0 & 0 & -\\zeta_{12}^{2} & 0 & 0 & 0 & 0 & 0 & 0 & 0 & 0 & 0 & 0 & 0 & 0 & 0 & 0 & 0 & 0 & 0 & 0 & 0 & 0 & 0 & 0 & 0 & 0 & 0 & 0 & 0 & 0 & 0 & 0 & 0 & 0 & 0 & 0 & 0 & 0 & 0 & 0 & 0 & 0 & 0 & 0 & 0 & 0 & 0 & 0 \\\\\n",
       "0 & 0 & 0 & 0 & 0 & 0 & 0 & 0 & 0 & 0 & 0 & 0 & 0 & 0 & 0 & 0 & 0 & 0 & 0 & 0 & 0 & 0 & 0 & 0 & 0 & 0 & \\zeta_{12}^{2} - 1 & 0 & 0 & 0 & 0 & 0 & 0 & 0 & 0 & 0 & 0 & 0 & 0 & 0 & 0 & 0 & 0 & 0 & 0 & 0 & 0 & 0 & 0 & 0 & 0 & 0 & 0 & 0 & 0 & 0 & 0 & 0 & 0 & 0 & 0 & 0 & 0 & 0 & 0 & 0 & 0 & 0 & 0 & 0 & 0 & 0 \\\\\n",
       "0 & 0 & 0 & 0 & 0 & 0 & 0 & 0 & 0 & 0 & 0 & 0 & 0 & 0 & 0 & 0 & 0 & 0 & 0 & 0 & 0 & 0 & 0 & 0 & 0 & 0 & 0 & -\\zeta_{12}^{2} & 0 & 0 & 0 & 0 & 0 & 0 & 0 & 0 & 0 & 0 & 0 & 0 & 0 & 0 & 0 & 0 & 0 & 0 & 0 & 0 & 0 & 0 & 0 & 0 & 0 & 0 & 0 & 0 & 0 & 0 & 0 & 0 & 0 & 0 & 0 & 0 & 0 & 0 & 0 & 0 & 0 & 0 & 0 & 0 \\\\\n",
       "0 & 0 & 0 & 0 & 0 & 0 & 0 & 0 & 0 & 0 & 0 & 0 & 0 & 0 & 0 & 0 & 0 & 0 & 0 & 0 & 0 & 0 & 0 & 0 & 0 & 0 & 0 & 0 & 1 & 0 & 0 & 0 & 0 & 0 & 0 & 0 & 0 & 0 & 0 & 0 & 0 & 0 & 0 & 0 & 0 & 0 & 0 & 0 & 0 & 0 & 0 & 0 & 0 & 0 & 0 & 0 & 0 & 0 & 0 & 0 & 0 & 0 & 0 & 0 & 0 & 0 & 0 & 0 & 0 & 0 & 0 & 0 \\\\\n",
       "0 & 0 & 0 & 0 & 0 & 0 & 0 & 0 & 0 & 0 & 0 & 0 & 0 & 0 & 0 & 0 & 0 & 0 & 0 & 0 & 0 & 0 & 0 & 0 & 0 & 0 & 0 & 0 & 0 & \\zeta_{12}^{2} - 1 & 0 & 0 & 0 & 0 & 0 & 0 & 0 & 0 & 0 & 0 & 0 & 0 & 0 & 0 & 0 & 0 & 0 & 0 & 0 & 0 & 0 & 0 & 0 & 0 & 0 & 0 & 0 & 0 & 0 & 0 & 0 & 0 & 0 & 0 & 0 & 0 & 0 & 0 & 0 & 0 & 0 & 0 \\\\\n",
       "0 & 0 & 0 & 0 & 0 & 0 & 0 & 0 & 0 & 0 & 0 & 0 & 0 & 0 & 0 & 0 & 0 & 0 & 0 & 0 & 0 & 0 & 0 & 0 & 0 & 0 & 0 & 0 & 0 & 0 & -\\zeta_{12}^{2} & 0 & 0 & 0 & 0 & 0 & 0 & 0 & 0 & 0 & 0 & 0 & 0 & 0 & 0 & 0 & 0 & 0 & 0 & 0 & 0 & 0 & 0 & 0 & 0 & 0 & 0 & 0 & 0 & 0 & 0 & 0 & 0 & 0 & 0 & 0 & 0 & 0 & 0 & 0 & 0 & 0 \\\\\n",
       "0 & 0 & 0 & 0 & 0 & 0 & 0 & 0 & 0 & 0 & 0 & 0 & 0 & 0 & 0 & 0 & 0 & 0 & 0 & 0 & 0 & 0 & 0 & 0 & 0 & 0 & 0 & 0 & 0 & 0 & 0 & -\\zeta_{12}^{2} & 0 & 0 & 0 & 0 & 0 & 0 & 0 & 0 & 0 & 0 & 0 & 0 & 0 & 0 & 0 & 0 & 0 & 0 & 0 & 0 & 0 & 0 & 0 & 0 & 0 & 0 & 0 & 0 & 0 & 0 & 0 & 0 & 0 & 0 & 0 & 0 & 0 & 0 & 0 & 0 \\\\\n",
       "0 & 0 & 0 & 0 & 0 & 0 & 0 & 0 & 0 & 0 & 0 & 0 & 0 & 0 & 0 & 0 & 0 & 0 & 0 & 0 & 0 & 0 & 0 & 0 & 0 & 0 & 0 & 0 & 0 & 0 & 0 & 0 & 1 & 0 & 0 & 0 & 0 & 0 & 0 & 0 & 0 & 0 & 0 & 0 & 0 & 0 & 0 & 0 & 0 & 0 & 0 & 0 & 0 & 0 & 0 & 0 & 0 & 0 & 0 & 0 & 0 & 0 & 0 & 0 & 0 & 0 & 0 & 0 & 0 & 0 & 0 & 0 \\\\\n",
       "0 & 0 & 0 & 0 & 0 & 0 & 0 & 0 & 0 & 0 & 0 & 0 & 0 & 0 & 0 & 0 & 0 & 0 & 0 & 0 & 0 & 0 & 0 & 0 & 0 & 0 & 0 & 0 & 0 & 0 & 0 & 0 & 0 & 1 & 0 & 0 & 0 & 0 & 0 & 0 & 0 & 0 & 0 & 0 & 0 & 0 & 0 & 0 & 0 & 0 & 0 & 0 & 0 & 0 & 0 & 0 & 0 & 0 & 0 & 0 & 0 & 0 & 0 & 0 & 0 & 0 & 0 & 0 & 0 & 0 & 0 & 0 \\\\\n",
       "0 & 0 & 0 & 0 & 0 & 0 & 0 & 0 & 0 & 0 & 0 & 0 & 0 & 0 & 0 & 0 & 0 & 0 & 0 & 0 & 0 & 0 & 0 & 0 & 0 & 0 & 0 & 0 & 0 & 0 & 0 & 0 & 0 & 0 & 1 & 0 & 0 & 0 & 0 & 0 & 0 & 0 & 0 & 0 & 0 & 0 & 0 & 0 & 0 & 0 & 0 & 0 & 0 & 0 & 0 & 0 & 0 & 0 & 0 & 0 & 0 & 0 & 0 & 0 & 0 & 0 & 0 & 0 & 0 & 0 & 0 & 0 \\\\\n",
       "0 & 0 & 0 & 0 & 0 & 0 & 0 & 0 & 0 & 0 & 0 & 0 & 0 & 0 & 0 & 0 & 0 & 0 & 0 & 0 & 0 & 0 & 0 & 0 & 0 & 0 & 0 & 0 & 0 & 0 & 0 & 0 & 0 & 0 & 0 & 1 & 0 & 0 & 0 & 0 & 0 & 0 & 0 & 0 & 0 & 0 & 0 & 0 & 0 & 0 & 0 & 0 & 0 & 0 & 0 & 0 & 0 & 0 & 0 & 0 & 0 & 0 & 0 & 0 & 0 & 0 & 0 & 0 & 0 & 0 & 0 & 0 \\\\\n",
       "0 & 0 & 0 & 0 & 0 & 0 & 0 & 0 & 0 & 0 & 0 & 0 & 0 & 0 & 0 & 0 & 0 & 0 & 0 & 0 & 0 & 0 & 0 & 0 & 0 & 0 & 0 & 0 & 0 & 0 & 0 & 0 & 0 & 0 & 0 & 0 & \\zeta_{12}^{2} - 1 & 0 & 0 & 0 & 0 & 0 & 0 & 0 & 0 & 0 & 0 & 0 & 0 & 0 & 0 & 0 & 0 & 0 & 0 & 0 & 0 & 0 & 0 & 0 & 0 & 0 & 0 & 0 & 0 & 0 & 0 & 0 & 0 & 0 & 0 & 0 \\\\\n",
       "0 & 0 & 0 & 0 & 0 & 0 & 0 & 0 & 0 & 0 & 0 & 0 & 0 & 0 & 0 & 0 & 0 & 0 & 0 & 0 & 0 & 0 & 0 & 0 & 0 & 0 & 0 & 0 & 0 & 0 & 0 & 0 & 0 & 0 & 0 & 0 & 0 & \\zeta_{12}^{2} - 1 & 0 & 0 & 0 & 0 & 0 & 0 & 0 & 0 & 0 & 0 & 0 & 0 & 0 & 0 & 0 & 0 & 0 & 0 & 0 & 0 & 0 & 0 & 0 & 0 & 0 & 0 & 0 & 0 & 0 & 0 & 0 & 0 & 0 & 0 \\\\\n",
       "0 & 0 & 0 & 0 & 0 & 0 & 0 & 0 & 0 & 0 & 0 & 0 & 0 & 0 & 0 & 0 & 0 & 0 & 0 & 0 & 0 & 0 & 0 & 0 & 0 & 0 & 0 & 0 & 0 & 0 & 0 & 0 & 0 & 0 & 0 & 0 & 0 & 0 & \\zeta_{12}^{2} - 1 & 0 & 0 & 0 & 0 & 0 & 0 & 0 & 0 & 0 & 0 & 0 & 0 & 0 & 0 & 0 & 0 & 0 & 0 & 0 & 0 & 0 & 0 & 0 & 0 & 0 & 0 & 0 & 0 & 0 & 0 & 0 & 0 & 0 \\\\\n",
       "0 & 0 & 0 & 0 & 0 & 0 & 0 & 0 & 0 & 0 & 0 & 0 & 0 & 0 & 0 & 0 & 0 & 0 & 0 & 0 & 0 & 0 & 0 & 0 & 0 & 0 & 0 & 0 & 0 & 0 & 0 & 0 & 0 & 0 & 0 & 0 & 0 & 0 & 0 & 1 & 0 & 0 & 0 & 0 & 0 & 0 & 0 & 0 & 0 & 0 & 0 & 0 & 0 & 0 & 0 & 0 & 0 & 0 & 0 & 0 & 0 & 0 & 0 & 0 & 0 & 0 & 0 & 0 & 0 & 0 & 0 & 0 \\\\\n",
       "0 & 0 & 0 & 0 & 0 & 0 & 0 & 0 & 0 & 0 & 0 & 0 & 0 & 0 & 0 & 0 & 0 & 0 & 0 & 0 & 0 & 0 & 0 & 0 & 0 & 0 & 0 & 0 & 0 & 0 & 0 & 0 & 0 & 0 & 0 & 0 & 0 & 0 & 0 & 0 & -\\zeta_{12}^{2} & 0 & 0 & 0 & 0 & 0 & 0 & 0 & 0 & 0 & 0 & 0 & 0 & 0 & 0 & 0 & 0 & 0 & 0 & 0 & 0 & 0 & 0 & 0 & 0 & 0 & 0 & 0 & 0 & 0 & 0 & 0 \\\\\n",
       "0 & 0 & 0 & 0 & 0 & 0 & 0 & 0 & 0 & 0 & 0 & 0 & 0 & 0 & 0 & 0 & 0 & 0 & 0 & 0 & 0 & 0 & 0 & 0 & 0 & 0 & 0 & 0 & 0 & 0 & 0 & 0 & 0 & 0 & 0 & 0 & 0 & 0 & 0 & 0 & 0 & \\zeta_{12}^{2} - 1 & 0 & 0 & 0 & 0 & 0 & 0 & 0 & 0 & 0 & 0 & 0 & 0 & 0 & 0 & 0 & 0 & 0 & 0 & 0 & 0 & 0 & 0 & 0 & 0 & 0 & 0 & 0 & 0 & 0 & 0 \\\\\n",
       "0 & 0 & 0 & 0 & 0 & 0 & 0 & 0 & 0 & 0 & 0 & 0 & 0 & 0 & 0 & 0 & 0 & 0 & 0 & 0 & 0 & 0 & 0 & 0 & 0 & 0 & 0 & 0 & 0 & 0 & 0 & 0 & 0 & 0 & 0 & 0 & 0 & 0 & 0 & 0 & 0 & 0 & \\zeta_{12}^{2} - 1 & 0 & 0 & 0 & 0 & 0 & 0 & 0 & 0 & 0 & 0 & 0 & 0 & 0 & 0 & 0 & 0 & 0 & 0 & 0 & 0 & 0 & 0 & 0 & 0 & 0 & 0 & 0 & 0 & 0 \\\\\n",
       "0 & 0 & 0 & 0 & 0 & 0 & 0 & 0 & 0 & 0 & 0 & 0 & 0 & 0 & 0 & 0 & 0 & 0 & 0 & 0 & 0 & 0 & 0 & 0 & 0 & 0 & 0 & 0 & 0 & 0 & 0 & 0 & 0 & 0 & 0 & 0 & 0 & 0 & 0 & 0 & 0 & 0 & 0 & 1 & 0 & 0 & 0 & 0 & 0 & 0 & 0 & 0 & 0 & 0 & 0 & 0 & 0 & 0 & 0 & 0 & 0 & 0 & 0 & 0 & 0 & 0 & 0 & 0 & 0 & 0 & 0 & 0 \\\\\n",
       "0 & 0 & 0 & 0 & 0 & 0 & 0 & 0 & 0 & 0 & 0 & 0 & 0 & 0 & 0 & 0 & 0 & 0 & 0 & 0 & 0 & 0 & 0 & 0 & 0 & 0 & 0 & 0 & 0 & 0 & 0 & 0 & 0 & 0 & 0 & 0 & 0 & 0 & 0 & 0 & 0 & 0 & 0 & 0 & -\\zeta_{12}^{2} & 0 & 0 & 0 & 0 & 0 & 0 & 0 & 0 & 0 & 0 & 0 & 0 & 0 & 0 & 0 & 0 & 0 & 0 & 0 & 0 & 0 & 0 & 0 & 0 & 0 & 0 & 0 \\\\\n",
       "0 & 0 & 0 & 0 & 0 & 0 & 0 & 0 & 0 & 0 & 0 & 0 & 0 & 0 & 0 & 0 & 0 & 0 & 0 & 0 & 0 & 0 & 0 & 0 & 0 & 0 & 0 & 0 & 0 & 0 & 0 & 0 & 0 & 0 & 0 & 0 & 0 & 0 & 0 & 0 & 0 & 0 & 0 & 0 & 0 & -\\zeta_{12}^{2} & 0 & 0 & 0 & 0 & 0 & 0 & 0 & 0 & 0 & 0 & 0 & 0 & 0 & 0 & 0 & 0 & 0 & 0 & 0 & 0 & 0 & 0 & 0 & 0 & 0 & 0 \\\\\n",
       "0 & 0 & 0 & 0 & 0 & 0 & 0 & 0 & 0 & 0 & 0 & 0 & 0 & 0 & 0 & 0 & 0 & 0 & 0 & 0 & 0 & 0 & 0 & 0 & 0 & 0 & 0 & 0 & 0 & 0 & 0 & 0 & 0 & 0 & 0 & 0 & 0 & 0 & 0 & 0 & 0 & 0 & 0 & 0 & 0 & 0 & 1 & 0 & 0 & 0 & 0 & 0 & 0 & 0 & 0 & 0 & 0 & 0 & 0 & 0 & 0 & 0 & 0 & 0 & 0 & 0 & 0 & 0 & 0 & 0 & 0 & 0 \\\\\n",
       "0 & 0 & 0 & 0 & 0 & 0 & 0 & 0 & 0 & 0 & 0 & 0 & 0 & 0 & 0 & 0 & 0 & 0 & 0 & 0 & 0 & 0 & 0 & 0 & 0 & 0 & 0 & 0 & 0 & 0 & 0 & 0 & 0 & 0 & 0 & 0 & 0 & 0 & 0 & 0 & 0 & 0 & 0 & 0 & 0 & 0 & 0 & \\zeta_{12}^{2} - 1 & 0 & 0 & 0 & 0 & 0 & 0 & 0 & 0 & 0 & 0 & 0 & 0 & 0 & 0 & 0 & 0 & 0 & 0 & 0 & 0 & 0 & 0 & 0 & 0 \\\\\n",
       "0 & 0 & 0 & 0 & 0 & 0 & 0 & 0 & 0 & 0 & 0 & 0 & 0 & 0 & 0 & 0 & 0 & 0 & 0 & 0 & 0 & 0 & 0 & 0 & 0 & 0 & 0 & 0 & 0 & 0 & 0 & 0 & 0 & 0 & 0 & 0 & 0 & 0 & 0 & 0 & 0 & 0 & 0 & 0 & 0 & 0 & 0 & 0 & -\\zeta_{12}^{2} & 0 & 0 & 0 & 0 & 0 & 0 & 0 & 0 & 0 & 0 & 0 & 0 & 0 & 0 & 0 & 0 & 0 & 0 & 0 & 0 & 0 & 0 & 0 \\\\\n",
       "0 & 0 & 0 & 0 & 0 & 0 & 0 & 0 & 0 & 0 & 0 & 0 & 0 & 0 & 0 & 0 & 0 & 0 & 0 & 0 & 0 & 0 & 0 & 0 & 0 & 0 & 0 & 0 & 0 & 0 & 0 & 0 & 0 & 0 & 0 & 0 & 0 & 0 & 0 & 0 & 0 & 0 & 0 & 0 & 0 & 0 & 0 & 0 & 0 & \\zeta_{12}^{2} - 1 & 0 & 0 & 0 & 0 & 0 & 0 & 0 & 0 & 0 & 0 & 0 & 0 & 0 & 0 & 0 & 0 & 0 & 0 & 0 & 0 & 0 & 0 \\\\\n",
       "0 & 0 & 0 & 0 & 0 & 0 & 0 & 0 & 0 & 0 & 0 & 0 & 0 & 0 & 0 & 0 & 0 & 0 & 0 & 0 & 0 & 0 & 0 & 0 & 0 & 0 & 0 & 0 & 0 & 0 & 0 & 0 & 0 & 0 & 0 & 0 & 0 & 0 & 0 & 0 & 0 & 0 & 0 & 0 & 0 & 0 & 0 & 0 & 0 & 0 & -\\zeta_{12}^{2} & 0 & 0 & 0 & 0 & 0 & 0 & 0 & 0 & 0 & 0 & 0 & 0 & 0 & 0 & 0 & 0 & 0 & 0 & 0 & 0 & 0 \\\\\n",
       "0 & 0 & 0 & 0 & 0 & 0 & 0 & 0 & 0 & 0 & 0 & 0 & 0 & 0 & 0 & 0 & 0 & 0 & 0 & 0 & 0 & 0 & 0 & 0 & 0 & 0 & 0 & 0 & 0 & 0 & 0 & 0 & 0 & 0 & 0 & 0 & 0 & 0 & 0 & 0 & 0 & 0 & 0 & 0 & 0 & 0 & 0 & 0 & 0 & 0 & 0 & 1 & 0 & 0 & 0 & 0 & 0 & 0 & 0 & 0 & 0 & 0 & 0 & 0 & 0 & 0 & 0 & 0 & 0 & 0 & 0 & 0 \\\\\n",
       "0 & 0 & 0 & 0 & 0 & 0 & 0 & 0 & 0 & 0 & 0 & 0 & 0 & 0 & 0 & 0 & 0 & 0 & 0 & 0 & 0 & 0 & 0 & 0 & 0 & 0 & 0 & 0 & 0 & 0 & 0 & 0 & 0 & 0 & 0 & 0 & 0 & 0 & 0 & 0 & 0 & 0 & 0 & 0 & 0 & 0 & 0 & 0 & 0 & 0 & 0 & 0 & -\\zeta_{12}^{2} & 0 & 0 & 0 & 0 & 0 & 0 & 0 & 0 & 0 & 0 & 0 & 0 & 0 & 0 & 0 & 0 & 0 & 0 & 0 \\\\\n",
       "0 & 0 & 0 & 0 & 0 & 0 & 0 & 0 & 0 & 0 & 0 & 0 & 0 & 0 & 0 & 0 & 0 & 0 & 0 & 0 & 0 & 0 & 0 & 0 & 0 & 0 & 0 & 0 & 0 & 0 & 0 & 0 & 0 & 0 & 0 & 0 & 0 & 0 & 0 & 0 & 0 & 0 & 0 & 0 & 0 & 0 & 0 & 0 & 0 & 0 & 0 & 0 & 0 & 1 & 0 & 0 & 0 & 0 & 0 & 0 & 0 & 0 & 0 & 0 & 0 & 0 & 0 & 0 & 0 & 0 & 0 & 0 \\\\\n",
       "\\hline\n",
       " 0 & 0 & 0 & 0 & 0 & 0 & 0 & 0 & 0 & 0 & 0 & 0 & 0 & 0 & 0 & 0 & 0 & 0 & 0 & 0 & 0 & 0 & 0 & 0 & 0 & 0 & 0 & 0 & 0 & 0 & 0 & 0 & 0 & 0 & 0 & 0 & 0 & 0 & 0 & 0 & 0 & 0 & 0 & 0 & 0 & 0 & 0 & 0 & 0 & 0 & 0 & 0 & 0 & 0 & \\zeta_{12}^{3} & 0 & 0 & 0 & 0 & 0 & 0 & 0 & 0 & 0 & 0 & 0 & 0 & 0 & 0 & 0 & 0 & 0 \\\\\n",
       "0 & 0 & 0 & 0 & 0 & 0 & 0 & 0 & 0 & 0 & 0 & 0 & 0 & 0 & 0 & 0 & 0 & 0 & 0 & 0 & 0 & 0 & 0 & 0 & 0 & 0 & 0 & 0 & 0 & 0 & 0 & 0 & 0 & 0 & 0 & 0 & 0 & 0 & 0 & 0 & 0 & 0 & 0 & 0 & 0 & 0 & 0 & 0 & 0 & 0 & 0 & 0 & 0 & 0 & 0 & -\\zeta_{12}^{3} & 0 & 0 & 0 & 0 & 0 & 0 & 0 & 0 & 0 & 0 & 0 & 0 & 0 & 0 & 0 & 0 \\\\\n",
       "0 & 0 & 0 & 0 & 0 & 0 & 0 & 0 & 0 & 0 & 0 & 0 & 0 & 0 & 0 & 0 & 0 & 0 & 0 & 0 & 0 & 0 & 0 & 0 & 0 & 0 & 0 & 0 & 0 & 0 & 0 & 0 & 0 & 0 & 0 & 0 & 0 & 0 & 0 & 0 & 0 & 0 & 0 & 0 & 0 & 0 & 0 & 0 & 0 & 0 & 0 & 0 & 0 & 0 & 0 & 0 & -\\zeta_{12}^{3} + \\zeta_{12} & 0 & 0 & 0 & 0 & 0 & 0 & 0 & 0 & 0 & 0 & 0 & 0 & 0 & 0 & 0 \\\\\n",
       "0 & 0 & 0 & 0 & 0 & 0 & 0 & 0 & 0 & 0 & 0 & 0 & 0 & 0 & 0 & 0 & 0 & 0 & 0 & 0 & 0 & 0 & 0 & 0 & 0 & 0 & 0 & 0 & 0 & 0 & 0 & 0 & 0 & 0 & 0 & 0 & 0 & 0 & 0 & 0 & 0 & 0 & 0 & 0 & 0 & 0 & 0 & 0 & 0 & 0 & 0 & 0 & 0 & 0 & 0 & 0 & 0 & \\zeta_{12}^{3} - \\zeta_{12} & 0 & 0 & 0 & 0 & 0 & 0 & 0 & 0 & 0 & 0 & 0 & 0 & 0 & 0 \\\\\n",
       "0 & 0 & 0 & 0 & 0 & 0 & 0 & 0 & 0 & 0 & 0 & 0 & 0 & 0 & 0 & 0 & 0 & 0 & 0 & 0 & 0 & 0 & 0 & 0 & 0 & 0 & 0 & 0 & 0 & 0 & 0 & 0 & 0 & 0 & 0 & 0 & 0 & 0 & 0 & 0 & 0 & 0 & 0 & 0 & 0 & 0 & 0 & 0 & 0 & 0 & 0 & 0 & 0 & 0 & 0 & 0 & 0 & 0 & -\\zeta_{12}^{3} + \\zeta_{12} & 0 & 0 & 0 & 0 & 0 & 0 & 0 & 0 & 0 & 0 & 0 & 0 & 0 \\\\\n",
       "0 & 0 & 0 & 0 & 0 & 0 & 0 & 0 & 0 & 0 & 0 & 0 & 0 & 0 & 0 & 0 & 0 & 0 & 0 & 0 & 0 & 0 & 0 & 0 & 0 & 0 & 0 & 0 & 0 & 0 & 0 & 0 & 0 & 0 & 0 & 0 & 0 & 0 & 0 & 0 & 0 & 0 & 0 & 0 & 0 & 0 & 0 & 0 & 0 & 0 & 0 & 0 & 0 & 0 & 0 & 0 & 0 & 0 & 0 & \\zeta_{12}^{3} - \\zeta_{12} & 0 & 0 & 0 & 0 & 0 & 0 & 0 & 0 & 0 & 0 & 0 & 0 \\\\\n",
       "0 & 0 & 0 & 0 & 0 & 0 & 0 & 0 & 0 & 0 & 0 & 0 & 0 & 0 & 0 & 0 & 0 & 0 & 0 & 0 & 0 & 0 & 0 & 0 & 0 & 0 & 0 & 0 & 0 & 0 & 0 & 0 & 0 & 0 & 0 & 0 & 0 & 0 & 0 & 0 & 0 & 0 & 0 & 0 & 0 & 0 & 0 & 0 & 0 & 0 & 0 & 0 & 0 & 0 & 0 & 0 & 0 & 0 & 0 & 0 & -\\zeta_{12}^{3} + \\zeta_{12} & 0 & 0 & 0 & 0 & 0 & 0 & 0 & 0 & 0 & 0 & 0 \\\\\n",
       "0 & 0 & 0 & 0 & 0 & 0 & 0 & 0 & 0 & 0 & 0 & 0 & 0 & 0 & 0 & 0 & 0 & 0 & 0 & 0 & 0 & 0 & 0 & 0 & 0 & 0 & 0 & 0 & 0 & 0 & 0 & 0 & 0 & 0 & 0 & 0 & 0 & 0 & 0 & 0 & 0 & 0 & 0 & 0 & 0 & 0 & 0 & 0 & 0 & 0 & 0 & 0 & 0 & 0 & 0 & 0 & 0 & 0 & 0 & 0 & 0 & \\zeta_{12}^{3} - \\zeta_{12} & 0 & 0 & 0 & 0 & 0 & 0 & 0 & 0 & 0 & 0 \\\\\n",
       "0 & 0 & 0 & 0 & 0 & 0 & 0 & 0 & 0 & 0 & 0 & 0 & 0 & 0 & 0 & 0 & 0 & 0 & 0 & 0 & 0 & 0 & 0 & 0 & 0 & 0 & 0 & 0 & 0 & 0 & 0 & 0 & 0 & 0 & 0 & 0 & 0 & 0 & 0 & 0 & 0 & 0 & 0 & 0 & 0 & 0 & 0 & 0 & 0 & 0 & 0 & 0 & 0 & 0 & 0 & 0 & 0 & 0 & 0 & 0 & 0 & 0 & -\\zeta_{12} & 0 & 0 & 0 & 0 & 0 & 0 & 0 & 0 & 0 \\\\\n",
       "0 & 0 & 0 & 0 & 0 & 0 & 0 & 0 & 0 & 0 & 0 & 0 & 0 & 0 & 0 & 0 & 0 & 0 & 0 & 0 & 0 & 0 & 0 & 0 & 0 & 0 & 0 & 0 & 0 & 0 & 0 & 0 & 0 & 0 & 0 & 0 & 0 & 0 & 0 & 0 & 0 & 0 & 0 & 0 & 0 & 0 & 0 & 0 & 0 & 0 & 0 & 0 & 0 & 0 & 0 & 0 & 0 & 0 & 0 & 0 & 0 & 0 & 0 & \\zeta_{12} & 0 & 0 & 0 & 0 & 0 & 0 & 0 & 0 \\\\\n",
       "0 & 0 & 0 & 0 & 0 & 0 & 0 & 0 & 0 & 0 & 0 & 0 & 0 & 0 & 0 & 0 & 0 & 0 & 0 & 0 & 0 & 0 & 0 & 0 & 0 & 0 & 0 & 0 & 0 & 0 & 0 & 0 & 0 & 0 & 0 & 0 & 0 & 0 & 0 & 0 & 0 & 0 & 0 & 0 & 0 & 0 & 0 & 0 & 0 & 0 & 0 & 0 & 0 & 0 & 0 & 0 & 0 & 0 & 0 & 0 & 0 & 0 & 0 & 0 & -\\zeta_{12} & 0 & 0 & 0 & 0 & 0 & 0 & 0 \\\\\n",
       "0 & 0 & 0 & 0 & 0 & 0 & 0 & 0 & 0 & 0 & 0 & 0 & 0 & 0 & 0 & 0 & 0 & 0 & 0 & 0 & 0 & 0 & 0 & 0 & 0 & 0 & 0 & 0 & 0 & 0 & 0 & 0 & 0 & 0 & 0 & 0 & 0 & 0 & 0 & 0 & 0 & 0 & 0 & 0 & 0 & 0 & 0 & 0 & 0 & 0 & 0 & 0 & 0 & 0 & 0 & 0 & 0 & 0 & 0 & 0 & 0 & 0 & 0 & 0 & 0 & \\zeta_{12} & 0 & 0 & 0 & 0 & 0 & 0 \\\\\n",
       "0 & 0 & 0 & 0 & 0 & 0 & 0 & 0 & 0 & 0 & 0 & 0 & 0 & 0 & 0 & 0 & 0 & 0 & 0 & 0 & 0 & 0 & 0 & 0 & 0 & 0 & 0 & 0 & 0 & 0 & 0 & 0 & 0 & 0 & 0 & 0 & 0 & 0 & 0 & 0 & 0 & 0 & 0 & 0 & 0 & 0 & 0 & 0 & 0 & 0 & 0 & 0 & 0 & 0 & 0 & 0 & 0 & 0 & 0 & 0 & 0 & 0 & 0 & 0 & 0 & 0 & -\\zeta_{12}^{3} + \\zeta_{12} & 0 & 0 & 0 & 0 & 0 \\\\\n",
       "0 & 0 & 0 & 0 & 0 & 0 & 0 & 0 & 0 & 0 & 0 & 0 & 0 & 0 & 0 & 0 & 0 & 0 & 0 & 0 & 0 & 0 & 0 & 0 & 0 & 0 & 0 & 0 & 0 & 0 & 0 & 0 & 0 & 0 & 0 & 0 & 0 & 0 & 0 & 0 & 0 & 0 & 0 & 0 & 0 & 0 & 0 & 0 & 0 & 0 & 0 & 0 & 0 & 0 & 0 & 0 & 0 & 0 & 0 & 0 & 0 & 0 & 0 & 0 & 0 & 0 & 0 & \\zeta_{12}^{3} - \\zeta_{12} & 0 & 0 & 0 & 0 \\\\\n",
       "0 & 0 & 0 & 0 & 0 & 0 & 0 & 0 & 0 & 0 & 0 & 0 & 0 & 0 & 0 & 0 & 0 & 0 & 0 & 0 & 0 & 0 & 0 & 0 & 0 & 0 & 0 & 0 & 0 & 0 & 0 & 0 & 0 & 0 & 0 & 0 & 0 & 0 & 0 & 0 & 0 & 0 & 0 & 0 & 0 & 0 & 0 & 0 & 0 & 0 & 0 & 0 & 0 & 0 & 0 & 0 & 0 & 0 & 0 & 0 & 0 & 0 & 0 & 0 & 0 & 0 & 0 & 0 & -\\zeta_{12} & 0 & 0 & 0 \\\\\n",
       "0 & 0 & 0 & 0 & 0 & 0 & 0 & 0 & 0 & 0 & 0 & 0 & 0 & 0 & 0 & 0 & 0 & 0 & 0 & 0 & 0 & 0 & 0 & 0 & 0 & 0 & 0 & 0 & 0 & 0 & 0 & 0 & 0 & 0 & 0 & 0 & 0 & 0 & 0 & 0 & 0 & 0 & 0 & 0 & 0 & 0 & 0 & 0 & 0 & 0 & 0 & 0 & 0 & 0 & 0 & 0 & 0 & 0 & 0 & 0 & 0 & 0 & 0 & 0 & 0 & 0 & 0 & 0 & 0 & \\zeta_{12} & 0 & 0 \\\\\n",
       "0 & 0 & 0 & 0 & 0 & 0 & 0 & 0 & 0 & 0 & 0 & 0 & 0 & 0 & 0 & 0 & 0 & 0 & 0 & 0 & 0 & 0 & 0 & 0 & 0 & 0 & 0 & 0 & 0 & 0 & 0 & 0 & 0 & 0 & 0 & 0 & 0 & 0 & 0 & 0 & 0 & 0 & 0 & 0 & 0 & 0 & 0 & 0 & 0 & 0 & 0 & 0 & 0 & 0 & 0 & 0 & 0 & 0 & 0 & 0 & 0 & 0 & 0 & 0 & 0 & 0 & 0 & 0 & 0 & 0 & -\\zeta_{12} & 0 \\\\\n",
       "0 & 0 & 0 & 0 & 0 & 0 & 0 & 0 & 0 & 0 & 0 & 0 & 0 & 0 & 0 & 0 & 0 & 0 & 0 & 0 & 0 & 0 & 0 & 0 & 0 & 0 & 0 & 0 & 0 & 0 & 0 & 0 & 0 & 0 & 0 & 0 & 0 & 0 & 0 & 0 & 0 & 0 & 0 & 0 & 0 & 0 & 0 & 0 & 0 & 0 & 0 & 0 & 0 & 0 & 0 & 0 & 0 & 0 & 0 & 0 & 0 & 0 & 0 & 0 & 0 & 0 & 0 & 0 & 0 & 0 & 0 & \\zeta_{12}\n",
       "\\end{array}\\right)"
      ]
     },
     "execution_count": 49,
     "metadata": {},
     "output_type": "execute_result"
    }
   ],
   "source": [
    "latex(T)"
   ]
  },
  {
   "cell_type": "code",
   "execution_count": 50,
   "metadata": {},
   "outputs": [
    {
     "data": {
      "text/html": [
       "<html><script type=\"math/tex; mode=display\">\\newcommand{\\Bold}[1]{\\mathbf{#1}}\\left(\\begin{array}{rrrrrrrrrrrrrrrrrr|rrrrrrrrrrrrrrrrrrrrrrrrrrrrrrrrrrrr|rrrrrrrrrrrrrrrrrr}\n",
       "1 & 0 & 0 & 0 & 0 & 0 & 0 & 0 & 0 & 0 & 0 & 0 & 0 & 0 & 0 & 0 & 0 & 0 & 0 & 0 & 0 & 0 & 0 & 0 & 0 & 0 & 0 & 0 & 0 & 0 & 0 & 0 & 0 & 0 & 0 & 0 & 0 & 0 & 0 & 0 & 0 & 0 & 0 & 0 & 0 & 0 & 0 & 0 & 0 & 0 & 0 & 0 & 0 & 0 & 0 & 0 & 0 & 0 & 0 & 0 & 0 & 0 & 0 & 0 & 0 & 0 & 0 & 0 & 0 & 0 & 0 & 0 \\\\\n",
       "0 & 1 & 0 & 0 & 0 & 0 & 0 & 0 & 0 & 0 & 0 & 0 & 0 & 0 & 0 & 0 & 0 & 0 & 0 & 0 & 0 & 0 & 0 & 0 & 0 & 0 & 0 & 0 & 0 & 0 & 0 & 0 & 0 & 0 & 0 & 0 & 0 & 0 & 0 & 0 & 0 & 0 & 0 & 0 & 0 & 0 & 0 & 0 & 0 & 0 & 0 & 0 & 0 & 0 & 0 & 0 & 0 & 0 & 0 & 0 & 0 & 0 & 0 & 0 & 0 & 0 & 0 & 0 & 0 & 0 & 0 & 0 \\\\\n",
       "0 & 0 & -\\zeta_{12}^{2} & 0 & 0 & 0 & 0 & 0 & 0 & 0 & 0 & 0 & 0 & 0 & 0 & 0 & 0 & 0 & 0 & 0 & 0 & 0 & 0 & 0 & 0 & 0 & 0 & 0 & 0 & 0 & 0 & 0 & 0 & 0 & 0 & 0 & 0 & 0 & 0 & 0 & 0 & 0 & 0 & 0 & 0 & 0 & 0 & 0 & 0 & 0 & 0 & 0 & 0 & 0 & 0 & 0 & 0 & 0 & 0 & 0 & 0 & 0 & 0 & 0 & 0 & 0 & 0 & 0 & 0 & 0 & 0 & 0 \\\\\n",
       "0 & 0 & 0 & -\\zeta_{12}^{2} & 0 & 0 & 0 & 0 & 0 & 0 & 0 & 0 & 0 & 0 & 0 & 0 & 0 & 0 & 0 & 0 & 0 & 0 & 0 & 0 & 0 & 0 & 0 & 0 & 0 & 0 & 0 & 0 & 0 & 0 & 0 & 0 & 0 & 0 & 0 & 0 & 0 & 0 & 0 & 0 & 0 & 0 & 0 & 0 & 0 & 0 & 0 & 0 & 0 & 0 & 0 & 0 & 0 & 0 & 0 & 0 & 0 & 0 & 0 & 0 & 0 & 0 & 0 & 0 & 0 & 0 & 0 & 0 \\\\\n",
       "0 & 0 & 0 & 0 & -\\zeta_{12}^{2} & 0 & 0 & 0 & 0 & 0 & 0 & 0 & 0 & 0 & 0 & 0 & 0 & 0 & 0 & 0 & 0 & 0 & 0 & 0 & 0 & 0 & 0 & 0 & 0 & 0 & 0 & 0 & 0 & 0 & 0 & 0 & 0 & 0 & 0 & 0 & 0 & 0 & 0 & 0 & 0 & 0 & 0 & 0 & 0 & 0 & 0 & 0 & 0 & 0 & 0 & 0 & 0 & 0 & 0 & 0 & 0 & 0 & 0 & 0 & 0 & 0 & 0 & 0 & 0 & 0 & 0 & 0 \\\\\n",
       "0 & 0 & 0 & 0 & 0 & -\\zeta_{12}^{2} & 0 & 0 & 0 & 0 & 0 & 0 & 0 & 0 & 0 & 0 & 0 & 0 & 0 & 0 & 0 & 0 & 0 & 0 & 0 & 0 & 0 & 0 & 0 & 0 & 0 & 0 & 0 & 0 & 0 & 0 & 0 & 0 & 0 & 0 & 0 & 0 & 0 & 0 & 0 & 0 & 0 & 0 & 0 & 0 & 0 & 0 & 0 & 0 & 0 & 0 & 0 & 0 & 0 & 0 & 0 & 0 & 0 & 0 & 0 & 0 & 0 & 0 & 0 & 0 & 0 & 0 \\\\\n",
       "0 & 0 & 0 & 0 & 0 & 0 & -\\zeta_{12}^{2} & 0 & 0 & 0 & 0 & 0 & 0 & 0 & 0 & 0 & 0 & 0 & 0 & 0 & 0 & 0 & 0 & 0 & 0 & 0 & 0 & 0 & 0 & 0 & 0 & 0 & 0 & 0 & 0 & 0 & 0 & 0 & 0 & 0 & 0 & 0 & 0 & 0 & 0 & 0 & 0 & 0 & 0 & 0 & 0 & 0 & 0 & 0 & 0 & 0 & 0 & 0 & 0 & 0 & 0 & 0 & 0 & 0 & 0 & 0 & 0 & 0 & 0 & 0 & 0 & 0 \\\\\n",
       "0 & 0 & 0 & 0 & 0 & 0 & 0 & -\\zeta_{12}^{2} & 0 & 0 & 0 & 0 & 0 & 0 & 0 & 0 & 0 & 0 & 0 & 0 & 0 & 0 & 0 & 0 & 0 & 0 & 0 & 0 & 0 & 0 & 0 & 0 & 0 & 0 & 0 & 0 & 0 & 0 & 0 & 0 & 0 & 0 & 0 & 0 & 0 & 0 & 0 & 0 & 0 & 0 & 0 & 0 & 0 & 0 & 0 & 0 & 0 & 0 & 0 & 0 & 0 & 0 & 0 & 0 & 0 & 0 & 0 & 0 & 0 & 0 & 0 & 0 \\\\\n",
       "0 & 0 & 0 & 0 & 0 & 0 & 0 & 0 & \\zeta_{12}^{2} - 1 & 0 & 0 & 0 & 0 & 0 & 0 & 0 & 0 & 0 & 0 & 0 & 0 & 0 & 0 & 0 & 0 & 0 & 0 & 0 & 0 & 0 & 0 & 0 & 0 & 0 & 0 & 0 & 0 & 0 & 0 & 0 & 0 & 0 & 0 & 0 & 0 & 0 & 0 & 0 & 0 & 0 & 0 & 0 & 0 & 0 & 0 & 0 & 0 & 0 & 0 & 0 & 0 & 0 & 0 & 0 & 0 & 0 & 0 & 0 & 0 & 0 & 0 & 0 \\\\\n",
       "0 & 0 & 0 & 0 & 0 & 0 & 0 & 0 & 0 & \\zeta_{12}^{2} - 1 & 0 & 0 & 0 & 0 & 0 & 0 & 0 & 0 & 0 & 0 & 0 & 0 & 0 & 0 & 0 & 0 & 0 & 0 & 0 & 0 & 0 & 0 & 0 & 0 & 0 & 0 & 0 & 0 & 0 & 0 & 0 & 0 & 0 & 0 & 0 & 0 & 0 & 0 & 0 & 0 & 0 & 0 & 0 & 0 & 0 & 0 & 0 & 0 & 0 & 0 & 0 & 0 & 0 & 0 & 0 & 0 & 0 & 0 & 0 & 0 & 0 & 0 \\\\\n",
       "0 & 0 & 0 & 0 & 0 & 0 & 0 & 0 & 0 & 0 & \\zeta_{12}^{2} - 1 & 0 & 0 & 0 & 0 & 0 & 0 & 0 & 0 & 0 & 0 & 0 & 0 & 0 & 0 & 0 & 0 & 0 & 0 & 0 & 0 & 0 & 0 & 0 & 0 & 0 & 0 & 0 & 0 & 0 & 0 & 0 & 0 & 0 & 0 & 0 & 0 & 0 & 0 & 0 & 0 & 0 & 0 & 0 & 0 & 0 & 0 & 0 & 0 & 0 & 0 & 0 & 0 & 0 & 0 & 0 & 0 & 0 & 0 & 0 & 0 & 0 \\\\\n",
       "0 & 0 & 0 & 0 & 0 & 0 & 0 & 0 & 0 & 0 & 0 & \\zeta_{12}^{2} - 1 & 0 & 0 & 0 & 0 & 0 & 0 & 0 & 0 & 0 & 0 & 0 & 0 & 0 & 0 & 0 & 0 & 0 & 0 & 0 & 0 & 0 & 0 & 0 & 0 & 0 & 0 & 0 & 0 & 0 & 0 & 0 & 0 & 0 & 0 & 0 & 0 & 0 & 0 & 0 & 0 & 0 & 0 & 0 & 0 & 0 & 0 & 0 & 0 & 0 & 0 & 0 & 0 & 0 & 0 & 0 & 0 & 0 & 0 & 0 & 0 \\\\\n",
       "0 & 0 & 0 & 0 & 0 & 0 & 0 & 0 & 0 & 0 & 0 & 0 & -\\zeta_{12}^{2} & 0 & 0 & 0 & 0 & 0 & 0 & 0 & 0 & 0 & 0 & 0 & 0 & 0 & 0 & 0 & 0 & 0 & 0 & 0 & 0 & 0 & 0 & 0 & 0 & 0 & 0 & 0 & 0 & 0 & 0 & 0 & 0 & 0 & 0 & 0 & 0 & 0 & 0 & 0 & 0 & 0 & 0 & 0 & 0 & 0 & 0 & 0 & 0 & 0 & 0 & 0 & 0 & 0 & 0 & 0 & 0 & 0 & 0 & 0 \\\\\n",
       "0 & 0 & 0 & 0 & 0 & 0 & 0 & 0 & 0 & 0 & 0 & 0 & 0 & -\\zeta_{12}^{2} & 0 & 0 & 0 & 0 & 0 & 0 & 0 & 0 & 0 & 0 & 0 & 0 & 0 & 0 & 0 & 0 & 0 & 0 & 0 & 0 & 0 & 0 & 0 & 0 & 0 & 0 & 0 & 0 & 0 & 0 & 0 & 0 & 0 & 0 & 0 & 0 & 0 & 0 & 0 & 0 & 0 & 0 & 0 & 0 & 0 & 0 & 0 & 0 & 0 & 0 & 0 & 0 & 0 & 0 & 0 & 0 & 0 & 0 \\\\\n",
       "0 & 0 & 0 & 0 & 0 & 0 & 0 & 0 & 0 & 0 & 0 & 0 & 0 & 0 & \\zeta_{12}^{2} - 1 & 0 & 0 & 0 & 0 & 0 & 0 & 0 & 0 & 0 & 0 & 0 & 0 & 0 & 0 & 0 & 0 & 0 & 0 & 0 & 0 & 0 & 0 & 0 & 0 & 0 & 0 & 0 & 0 & 0 & 0 & 0 & 0 & 0 & 0 & 0 & 0 & 0 & 0 & 0 & 0 & 0 & 0 & 0 & 0 & 0 & 0 & 0 & 0 & 0 & 0 & 0 & 0 & 0 & 0 & 0 & 0 & 0 \\\\\n",
       "0 & 0 & 0 & 0 & 0 & 0 & 0 & 0 & 0 & 0 & 0 & 0 & 0 & 0 & 0 & \\zeta_{12}^{2} - 1 & 0 & 0 & 0 & 0 & 0 & 0 & 0 & 0 & 0 & 0 & 0 & 0 & 0 & 0 & 0 & 0 & 0 & 0 & 0 & 0 & 0 & 0 & 0 & 0 & 0 & 0 & 0 & 0 & 0 & 0 & 0 & 0 & 0 & 0 & 0 & 0 & 0 & 0 & 0 & 0 & 0 & 0 & 0 & 0 & 0 & 0 & 0 & 0 & 0 & 0 & 0 & 0 & 0 & 0 & 0 & 0 \\\\\n",
       "0 & 0 & 0 & 0 & 0 & 0 & 0 & 0 & 0 & 0 & 0 & 0 & 0 & 0 & 0 & 0 & \\zeta_{12}^{2} - 1 & 0 & 0 & 0 & 0 & 0 & 0 & 0 & 0 & 0 & 0 & 0 & 0 & 0 & 0 & 0 & 0 & 0 & 0 & 0 & 0 & 0 & 0 & 0 & 0 & 0 & 0 & 0 & 0 & 0 & 0 & 0 & 0 & 0 & 0 & 0 & 0 & 0 & 0 & 0 & 0 & 0 & 0 & 0 & 0 & 0 & 0 & 0 & 0 & 0 & 0 & 0 & 0 & 0 & 0 & 0 \\\\\n",
       "0 & 0 & 0 & 0 & 0 & 0 & 0 & 0 & 0 & 0 & 0 & 0 & 0 & 0 & 0 & 0 & 0 & \\zeta_{12}^{2} - 1 & 0 & 0 & 0 & 0 & 0 & 0 & 0 & 0 & 0 & 0 & 0 & 0 & 0 & 0 & 0 & 0 & 0 & 0 & 0 & 0 & 0 & 0 & 0 & 0 & 0 & 0 & 0 & 0 & 0 & 0 & 0 & 0 & 0 & 0 & 0 & 0 & 0 & 0 & 0 & 0 & 0 & 0 & 0 & 0 & 0 & 0 & 0 & 0 & 0 & 0 & 0 & 0 & 0 & 0 \\\\\n",
       "\\hline\n",
       " 0 & 0 & 0 & 0 & 0 & 0 & 0 & 0 & 0 & 0 & 0 & 0 & 0 & 0 & 0 & 0 & 0 & 0 & 1 & 0 & 0 & 0 & 0 & 0 & 0 & 0 & 0 & 0 & 0 & 0 & 0 & 0 & 0 & 0 & 0 & 0 & 0 & 0 & 0 & 0 & 0 & 0 & 0 & 0 & 0 & 0 & 0 & 0 & 0 & 0 & 0 & 0 & 0 & 0 & 0 & 0 & 0 & 0 & 0 & 0 & 0 & 0 & 0 & 0 & 0 & 0 & 0 & 0 & 0 & 0 & 0 & 0 \\\\\n",
       "0 & 0 & 0 & 0 & 0 & 0 & 0 & 0 & 0 & 0 & 0 & 0 & 0 & 0 & 0 & 0 & 0 & 0 & 0 & 1 & 0 & 0 & 0 & 0 & 0 & 0 & 0 & 0 & 0 & 0 & 0 & 0 & 0 & 0 & 0 & 0 & 0 & 0 & 0 & 0 & 0 & 0 & 0 & 0 & 0 & 0 & 0 & 0 & 0 & 0 & 0 & 0 & 0 & 0 & 0 & 0 & 0 & 0 & 0 & 0 & 0 & 0 & 0 & 0 & 0 & 0 & 0 & 0 & 0 & 0 & 0 & 0 \\\\\n",
       "0 & 0 & 0 & 0 & 0 & 0 & 0 & 0 & 0 & 0 & 0 & 0 & 0 & 0 & 0 & 0 & 0 & 0 & 0 & 0 & \\zeta_{12}^{2} - 1 & 0 & 0 & 0 & 0 & 0 & 0 & 0 & 0 & 0 & 0 & 0 & 0 & 0 & 0 & 0 & 0 & 0 & 0 & 0 & 0 & 0 & 0 & 0 & 0 & 0 & 0 & 0 & 0 & 0 & 0 & 0 & 0 & 0 & 0 & 0 & 0 & 0 & 0 & 0 & 0 & 0 & 0 & 0 & 0 & 0 & 0 & 0 & 0 & 0 & 0 & 0 \\\\\n",
       "0 & 0 & 0 & 0 & 0 & 0 & 0 & 0 & 0 & 0 & 0 & 0 & 0 & 0 & 0 & 0 & 0 & 0 & 0 & 0 & 0 & 1 & 0 & 0 & 0 & 0 & 0 & 0 & 0 & 0 & 0 & 0 & 0 & 0 & 0 & 0 & 0 & 0 & 0 & 0 & 0 & 0 & 0 & 0 & 0 & 0 & 0 & 0 & 0 & 0 & 0 & 0 & 0 & 0 & 0 & 0 & 0 & 0 & 0 & 0 & 0 & 0 & 0 & 0 & 0 & 0 & 0 & 0 & 0 & 0 & 0 & 0 \\\\\n",
       "0 & 0 & 0 & 0 & 0 & 0 & 0 & 0 & 0 & 0 & 0 & 0 & 0 & 0 & 0 & 0 & 0 & 0 & 0 & 0 & 0 & 0 & 1 & 0 & 0 & 0 & 0 & 0 & 0 & 0 & 0 & 0 & 0 & 0 & 0 & 0 & 0 & 0 & 0 & 0 & 0 & 0 & 0 & 0 & 0 & 0 & 0 & 0 & 0 & 0 & 0 & 0 & 0 & 0 & 0 & 0 & 0 & 0 & 0 & 0 & 0 & 0 & 0 & 0 & 0 & 0 & 0 & 0 & 0 & 0 & 0 & 0 \\\\\n",
       "0 & 0 & 0 & 0 & 0 & 0 & 0 & 0 & 0 & 0 & 0 & 0 & 0 & 0 & 0 & 0 & 0 & 0 & 0 & 0 & 0 & 0 & 0 & 1 & 0 & 0 & 0 & 0 & 0 & 0 & 0 & 0 & 0 & 0 & 0 & 0 & 0 & 0 & 0 & 0 & 0 & 0 & 0 & 0 & 0 & 0 & 0 & 0 & 0 & 0 & 0 & 0 & 0 & 0 & 0 & 0 & 0 & 0 & 0 & 0 & 0 & 0 & 0 & 0 & 0 & 0 & 0 & 0 & 0 & 0 & 0 & 0 \\\\\n",
       "0 & 0 & 0 & 0 & 0 & 0 & 0 & 0 & 0 & 0 & 0 & 0 & 0 & 0 & 0 & 0 & 0 & 0 & 0 & 0 & 0 & 0 & 0 & 0 & 1 & 0 & 0 & 0 & 0 & 0 & 0 & 0 & 0 & 0 & 0 & 0 & 0 & 0 & 0 & 0 & 0 & 0 & 0 & 0 & 0 & 0 & 0 & 0 & 0 & 0 & 0 & 0 & 0 & 0 & 0 & 0 & 0 & 0 & 0 & 0 & 0 & 0 & 0 & 0 & 0 & 0 & 0 & 0 & 0 & 0 & 0 & 0 \\\\\n",
       "0 & 0 & 0 & 0 & 0 & 0 & 0 & 0 & 0 & 0 & 0 & 0 & 0 & 0 & 0 & 0 & 0 & 0 & 0 & 0 & 0 & 0 & 0 & 0 & 0 & -\\zeta_{12}^{2} & 0 & 0 & 0 & 0 & 0 & 0 & 0 & 0 & 0 & 0 & 0 & 0 & 0 & 0 & 0 & 0 & 0 & 0 & 0 & 0 & 0 & 0 & 0 & 0 & 0 & 0 & 0 & 0 & 0 & 0 & 0 & 0 & 0 & 0 & 0 & 0 & 0 & 0 & 0 & 0 & 0 & 0 & 0 & 0 & 0 & 0 \\\\\n",
       "0 & 0 & 0 & 0 & 0 & 0 & 0 & 0 & 0 & 0 & 0 & 0 & 0 & 0 & 0 & 0 & 0 & 0 & 0 & 0 & 0 & 0 & 0 & 0 & 0 & 0 & \\zeta_{12}^{2} - 1 & 0 & 0 & 0 & 0 & 0 & 0 & 0 & 0 & 0 & 0 & 0 & 0 & 0 & 0 & 0 & 0 & 0 & 0 & 0 & 0 & 0 & 0 & 0 & 0 & 0 & 0 & 0 & 0 & 0 & 0 & 0 & 0 & 0 & 0 & 0 & 0 & 0 & 0 & 0 & 0 & 0 & 0 & 0 & 0 & 0 \\\\\n",
       "0 & 0 & 0 & 0 & 0 & 0 & 0 & 0 & 0 & 0 & 0 & 0 & 0 & 0 & 0 & 0 & 0 & 0 & 0 & 0 & 0 & 0 & 0 & 0 & 0 & 0 & 0 & -\\zeta_{12}^{2} & 0 & 0 & 0 & 0 & 0 & 0 & 0 & 0 & 0 & 0 & 0 & 0 & 0 & 0 & 0 & 0 & 0 & 0 & 0 & 0 & 0 & 0 & 0 & 0 & 0 & 0 & 0 & 0 & 0 & 0 & 0 & 0 & 0 & 0 & 0 & 0 & 0 & 0 & 0 & 0 & 0 & 0 & 0 & 0 \\\\\n",
       "0 & 0 & 0 & 0 & 0 & 0 & 0 & 0 & 0 & 0 & 0 & 0 & 0 & 0 & 0 & 0 & 0 & 0 & 0 & 0 & 0 & 0 & 0 & 0 & 0 & 0 & 0 & 0 & 1 & 0 & 0 & 0 & 0 & 0 & 0 & 0 & 0 & 0 & 0 & 0 & 0 & 0 & 0 & 0 & 0 & 0 & 0 & 0 & 0 & 0 & 0 & 0 & 0 & 0 & 0 & 0 & 0 & 0 & 0 & 0 & 0 & 0 & 0 & 0 & 0 & 0 & 0 & 0 & 0 & 0 & 0 & 0 \\\\\n",
       "0 & 0 & 0 & 0 & 0 & 0 & 0 & 0 & 0 & 0 & 0 & 0 & 0 & 0 & 0 & 0 & 0 & 0 & 0 & 0 & 0 & 0 & 0 & 0 & 0 & 0 & 0 & 0 & 0 & \\zeta_{12}^{2} - 1 & 0 & 0 & 0 & 0 & 0 & 0 & 0 & 0 & 0 & 0 & 0 & 0 & 0 & 0 & 0 & 0 & 0 & 0 & 0 & 0 & 0 & 0 & 0 & 0 & 0 & 0 & 0 & 0 & 0 & 0 & 0 & 0 & 0 & 0 & 0 & 0 & 0 & 0 & 0 & 0 & 0 & 0 \\\\\n",
       "0 & 0 & 0 & 0 & 0 & 0 & 0 & 0 & 0 & 0 & 0 & 0 & 0 & 0 & 0 & 0 & 0 & 0 & 0 & 0 & 0 & 0 & 0 & 0 & 0 & 0 & 0 & 0 & 0 & 0 & -\\zeta_{12}^{2} & 0 & 0 & 0 & 0 & 0 & 0 & 0 & 0 & 0 & 0 & 0 & 0 & 0 & 0 & 0 & 0 & 0 & 0 & 0 & 0 & 0 & 0 & 0 & 0 & 0 & 0 & 0 & 0 & 0 & 0 & 0 & 0 & 0 & 0 & 0 & 0 & 0 & 0 & 0 & 0 & 0 \\\\\n",
       "0 & 0 & 0 & 0 & 0 & 0 & 0 & 0 & 0 & 0 & 0 & 0 & 0 & 0 & 0 & 0 & 0 & 0 & 0 & 0 & 0 & 0 & 0 & 0 & 0 & 0 & 0 & 0 & 0 & 0 & 0 & -\\zeta_{12}^{2} & 0 & 0 & 0 & 0 & 0 & 0 & 0 & 0 & 0 & 0 & 0 & 0 & 0 & 0 & 0 & 0 & 0 & 0 & 0 & 0 & 0 & 0 & 0 & 0 & 0 & 0 & 0 & 0 & 0 & 0 & 0 & 0 & 0 & 0 & 0 & 0 & 0 & 0 & 0 & 0 \\\\\n",
       "0 & 0 & 0 & 0 & 0 & 0 & 0 & 0 & 0 & 0 & 0 & 0 & 0 & 0 & 0 & 0 & 0 & 0 & 0 & 0 & 0 & 0 & 0 & 0 & 0 & 0 & 0 & 0 & 0 & 0 & 0 & 0 & 1 & 0 & 0 & 0 & 0 & 0 & 0 & 0 & 0 & 0 & 0 & 0 & 0 & 0 & 0 & 0 & 0 & 0 & 0 & 0 & 0 & 0 & 0 & 0 & 0 & 0 & 0 & 0 & 0 & 0 & 0 & 0 & 0 & 0 & 0 & 0 & 0 & 0 & 0 & 0 \\\\\n",
       "0 & 0 & 0 & 0 & 0 & 0 & 0 & 0 & 0 & 0 & 0 & 0 & 0 & 0 & 0 & 0 & 0 & 0 & 0 & 0 & 0 & 0 & 0 & 0 & 0 & 0 & 0 & 0 & 0 & 0 & 0 & 0 & 0 & 1 & 0 & 0 & 0 & 0 & 0 & 0 & 0 & 0 & 0 & 0 & 0 & 0 & 0 & 0 & 0 & 0 & 0 & 0 & 0 & 0 & 0 & 0 & 0 & 0 & 0 & 0 & 0 & 0 & 0 & 0 & 0 & 0 & 0 & 0 & 0 & 0 & 0 & 0 \\\\\n",
       "0 & 0 & 0 & 0 & 0 & 0 & 0 & 0 & 0 & 0 & 0 & 0 & 0 & 0 & 0 & 0 & 0 & 0 & 0 & 0 & 0 & 0 & 0 & 0 & 0 & 0 & 0 & 0 & 0 & 0 & 0 & 0 & 0 & 0 & 1 & 0 & 0 & 0 & 0 & 0 & 0 & 0 & 0 & 0 & 0 & 0 & 0 & 0 & 0 & 0 & 0 & 0 & 0 & 0 & 0 & 0 & 0 & 0 & 0 & 0 & 0 & 0 & 0 & 0 & 0 & 0 & 0 & 0 & 0 & 0 & 0 & 0 \\\\\n",
       "0 & 0 & 0 & 0 & 0 & 0 & 0 & 0 & 0 & 0 & 0 & 0 & 0 & 0 & 0 & 0 & 0 & 0 & 0 & 0 & 0 & 0 & 0 & 0 & 0 & 0 & 0 & 0 & 0 & 0 & 0 & 0 & 0 & 0 & 0 & 1 & 0 & 0 & 0 & 0 & 0 & 0 & 0 & 0 & 0 & 0 & 0 & 0 & 0 & 0 & 0 & 0 & 0 & 0 & 0 & 0 & 0 & 0 & 0 & 0 & 0 & 0 & 0 & 0 & 0 & 0 & 0 & 0 & 0 & 0 & 0 & 0 \\\\\n",
       "0 & 0 & 0 & 0 & 0 & 0 & 0 & 0 & 0 & 0 & 0 & 0 & 0 & 0 & 0 & 0 & 0 & 0 & 0 & 0 & 0 & 0 & 0 & 0 & 0 & 0 & 0 & 0 & 0 & 0 & 0 & 0 & 0 & 0 & 0 & 0 & \\zeta_{12}^{2} - 1 & 0 & 0 & 0 & 0 & 0 & 0 & 0 & 0 & 0 & 0 & 0 & 0 & 0 & 0 & 0 & 0 & 0 & 0 & 0 & 0 & 0 & 0 & 0 & 0 & 0 & 0 & 0 & 0 & 0 & 0 & 0 & 0 & 0 & 0 & 0 \\\\\n",
       "0 & 0 & 0 & 0 & 0 & 0 & 0 & 0 & 0 & 0 & 0 & 0 & 0 & 0 & 0 & 0 & 0 & 0 & 0 & 0 & 0 & 0 & 0 & 0 & 0 & 0 & 0 & 0 & 0 & 0 & 0 & 0 & 0 & 0 & 0 & 0 & 0 & \\zeta_{12}^{2} - 1 & 0 & 0 & 0 & 0 & 0 & 0 & 0 & 0 & 0 & 0 & 0 & 0 & 0 & 0 & 0 & 0 & 0 & 0 & 0 & 0 & 0 & 0 & 0 & 0 & 0 & 0 & 0 & 0 & 0 & 0 & 0 & 0 & 0 & 0 \\\\\n",
       "0 & 0 & 0 & 0 & 0 & 0 & 0 & 0 & 0 & 0 & 0 & 0 & 0 & 0 & 0 & 0 & 0 & 0 & 0 & 0 & 0 & 0 & 0 & 0 & 0 & 0 & 0 & 0 & 0 & 0 & 0 & 0 & 0 & 0 & 0 & 0 & 0 & 0 & \\zeta_{12}^{2} - 1 & 0 & 0 & 0 & 0 & 0 & 0 & 0 & 0 & 0 & 0 & 0 & 0 & 0 & 0 & 0 & 0 & 0 & 0 & 0 & 0 & 0 & 0 & 0 & 0 & 0 & 0 & 0 & 0 & 0 & 0 & 0 & 0 & 0 \\\\\n",
       "0 & 0 & 0 & 0 & 0 & 0 & 0 & 0 & 0 & 0 & 0 & 0 & 0 & 0 & 0 & 0 & 0 & 0 & 0 & 0 & 0 & 0 & 0 & 0 & 0 & 0 & 0 & 0 & 0 & 0 & 0 & 0 & 0 & 0 & 0 & 0 & 0 & 0 & 0 & 1 & 0 & 0 & 0 & 0 & 0 & 0 & 0 & 0 & 0 & 0 & 0 & 0 & 0 & 0 & 0 & 0 & 0 & 0 & 0 & 0 & 0 & 0 & 0 & 0 & 0 & 0 & 0 & 0 & 0 & 0 & 0 & 0 \\\\\n",
       "0 & 0 & 0 & 0 & 0 & 0 & 0 & 0 & 0 & 0 & 0 & 0 & 0 & 0 & 0 & 0 & 0 & 0 & 0 & 0 & 0 & 0 & 0 & 0 & 0 & 0 & 0 & 0 & 0 & 0 & 0 & 0 & 0 & 0 & 0 & 0 & 0 & 0 & 0 & 0 & -\\zeta_{12}^{2} & 0 & 0 & 0 & 0 & 0 & 0 & 0 & 0 & 0 & 0 & 0 & 0 & 0 & 0 & 0 & 0 & 0 & 0 & 0 & 0 & 0 & 0 & 0 & 0 & 0 & 0 & 0 & 0 & 0 & 0 & 0 \\\\\n",
       "0 & 0 & 0 & 0 & 0 & 0 & 0 & 0 & 0 & 0 & 0 & 0 & 0 & 0 & 0 & 0 & 0 & 0 & 0 & 0 & 0 & 0 & 0 & 0 & 0 & 0 & 0 & 0 & 0 & 0 & 0 & 0 & 0 & 0 & 0 & 0 & 0 & 0 & 0 & 0 & 0 & \\zeta_{12}^{2} - 1 & 0 & 0 & 0 & 0 & 0 & 0 & 0 & 0 & 0 & 0 & 0 & 0 & 0 & 0 & 0 & 0 & 0 & 0 & 0 & 0 & 0 & 0 & 0 & 0 & 0 & 0 & 0 & 0 & 0 & 0 \\\\\n",
       "0 & 0 & 0 & 0 & 0 & 0 & 0 & 0 & 0 & 0 & 0 & 0 & 0 & 0 & 0 & 0 & 0 & 0 & 0 & 0 & 0 & 0 & 0 & 0 & 0 & 0 & 0 & 0 & 0 & 0 & 0 & 0 & 0 & 0 & 0 & 0 & 0 & 0 & 0 & 0 & 0 & 0 & \\zeta_{12}^{2} - 1 & 0 & 0 & 0 & 0 & 0 & 0 & 0 & 0 & 0 & 0 & 0 & 0 & 0 & 0 & 0 & 0 & 0 & 0 & 0 & 0 & 0 & 0 & 0 & 0 & 0 & 0 & 0 & 0 & 0 \\\\\n",
       "0 & 0 & 0 & 0 & 0 & 0 & 0 & 0 & 0 & 0 & 0 & 0 & 0 & 0 & 0 & 0 & 0 & 0 & 0 & 0 & 0 & 0 & 0 & 0 & 0 & 0 & 0 & 0 & 0 & 0 & 0 & 0 & 0 & 0 & 0 & 0 & 0 & 0 & 0 & 0 & 0 & 0 & 0 & 1 & 0 & 0 & 0 & 0 & 0 & 0 & 0 & 0 & 0 & 0 & 0 & 0 & 0 & 0 & 0 & 0 & 0 & 0 & 0 & 0 & 0 & 0 & 0 & 0 & 0 & 0 & 0 & 0 \\\\\n",
       "0 & 0 & 0 & 0 & 0 & 0 & 0 & 0 & 0 & 0 & 0 & 0 & 0 & 0 & 0 & 0 & 0 & 0 & 0 & 0 & 0 & 0 & 0 & 0 & 0 & 0 & 0 & 0 & 0 & 0 & 0 & 0 & 0 & 0 & 0 & 0 & 0 & 0 & 0 & 0 & 0 & 0 & 0 & 0 & -\\zeta_{12}^{2} & 0 & 0 & 0 & 0 & 0 & 0 & 0 & 0 & 0 & 0 & 0 & 0 & 0 & 0 & 0 & 0 & 0 & 0 & 0 & 0 & 0 & 0 & 0 & 0 & 0 & 0 & 0 \\\\\n",
       "0 & 0 & 0 & 0 & 0 & 0 & 0 & 0 & 0 & 0 & 0 & 0 & 0 & 0 & 0 & 0 & 0 & 0 & 0 & 0 & 0 & 0 & 0 & 0 & 0 & 0 & 0 & 0 & 0 & 0 & 0 & 0 & 0 & 0 & 0 & 0 & 0 & 0 & 0 & 0 & 0 & 0 & 0 & 0 & 0 & -\\zeta_{12}^{2} & 0 & 0 & 0 & 0 & 0 & 0 & 0 & 0 & 0 & 0 & 0 & 0 & 0 & 0 & 0 & 0 & 0 & 0 & 0 & 0 & 0 & 0 & 0 & 0 & 0 & 0 \\\\\n",
       "0 & 0 & 0 & 0 & 0 & 0 & 0 & 0 & 0 & 0 & 0 & 0 & 0 & 0 & 0 & 0 & 0 & 0 & 0 & 0 & 0 & 0 & 0 & 0 & 0 & 0 & 0 & 0 & 0 & 0 & 0 & 0 & 0 & 0 & 0 & 0 & 0 & 0 & 0 & 0 & 0 & 0 & 0 & 0 & 0 & 0 & 1 & 0 & 0 & 0 & 0 & 0 & 0 & 0 & 0 & 0 & 0 & 0 & 0 & 0 & 0 & 0 & 0 & 0 & 0 & 0 & 0 & 0 & 0 & 0 & 0 & 0 \\\\\n",
       "0 & 0 & 0 & 0 & 0 & 0 & 0 & 0 & 0 & 0 & 0 & 0 & 0 & 0 & 0 & 0 & 0 & 0 & 0 & 0 & 0 & 0 & 0 & 0 & 0 & 0 & 0 & 0 & 0 & 0 & 0 & 0 & 0 & 0 & 0 & 0 & 0 & 0 & 0 & 0 & 0 & 0 & 0 & 0 & 0 & 0 & 0 & \\zeta_{12}^{2} - 1 & 0 & 0 & 0 & 0 & 0 & 0 & 0 & 0 & 0 & 0 & 0 & 0 & 0 & 0 & 0 & 0 & 0 & 0 & 0 & 0 & 0 & 0 & 0 & 0 \\\\\n",
       "0 & 0 & 0 & 0 & 0 & 0 & 0 & 0 & 0 & 0 & 0 & 0 & 0 & 0 & 0 & 0 & 0 & 0 & 0 & 0 & 0 & 0 & 0 & 0 & 0 & 0 & 0 & 0 & 0 & 0 & 0 & 0 & 0 & 0 & 0 & 0 & 0 & 0 & 0 & 0 & 0 & 0 & 0 & 0 & 0 & 0 & 0 & 0 & -\\zeta_{12}^{2} & 0 & 0 & 0 & 0 & 0 & 0 & 0 & 0 & 0 & 0 & 0 & 0 & 0 & 0 & 0 & 0 & 0 & 0 & 0 & 0 & 0 & 0 & 0 \\\\\n",
       "0 & 0 & 0 & 0 & 0 & 0 & 0 & 0 & 0 & 0 & 0 & 0 & 0 & 0 & 0 & 0 & 0 & 0 & 0 & 0 & 0 & 0 & 0 & 0 & 0 & 0 & 0 & 0 & 0 & 0 & 0 & 0 & 0 & 0 & 0 & 0 & 0 & 0 & 0 & 0 & 0 & 0 & 0 & 0 & 0 & 0 & 0 & 0 & 0 & \\zeta_{12}^{2} - 1 & 0 & 0 & 0 & 0 & 0 & 0 & 0 & 0 & 0 & 0 & 0 & 0 & 0 & 0 & 0 & 0 & 0 & 0 & 0 & 0 & 0 & 0 \\\\\n",
       "0 & 0 & 0 & 0 & 0 & 0 & 0 & 0 & 0 & 0 & 0 & 0 & 0 & 0 & 0 & 0 & 0 & 0 & 0 & 0 & 0 & 0 & 0 & 0 & 0 & 0 & 0 & 0 & 0 & 0 & 0 & 0 & 0 & 0 & 0 & 0 & 0 & 0 & 0 & 0 & 0 & 0 & 0 & 0 & 0 & 0 & 0 & 0 & 0 & 0 & -\\zeta_{12}^{2} & 0 & 0 & 0 & 0 & 0 & 0 & 0 & 0 & 0 & 0 & 0 & 0 & 0 & 0 & 0 & 0 & 0 & 0 & 0 & 0 & 0 \\\\\n",
       "0 & 0 & 0 & 0 & 0 & 0 & 0 & 0 & 0 & 0 & 0 & 0 & 0 & 0 & 0 & 0 & 0 & 0 & 0 & 0 & 0 & 0 & 0 & 0 & 0 & 0 & 0 & 0 & 0 & 0 & 0 & 0 & 0 & 0 & 0 & 0 & 0 & 0 & 0 & 0 & 0 & 0 & 0 & 0 & 0 & 0 & 0 & 0 & 0 & 0 & 0 & 1 & 0 & 0 & 0 & 0 & 0 & 0 & 0 & 0 & 0 & 0 & 0 & 0 & 0 & 0 & 0 & 0 & 0 & 0 & 0 & 0 \\\\\n",
       "0 & 0 & 0 & 0 & 0 & 0 & 0 & 0 & 0 & 0 & 0 & 0 & 0 & 0 & 0 & 0 & 0 & 0 & 0 & 0 & 0 & 0 & 0 & 0 & 0 & 0 & 0 & 0 & 0 & 0 & 0 & 0 & 0 & 0 & 0 & 0 & 0 & 0 & 0 & 0 & 0 & 0 & 0 & 0 & 0 & 0 & 0 & 0 & 0 & 0 & 0 & 0 & -\\zeta_{12}^{2} & 0 & 0 & 0 & 0 & 0 & 0 & 0 & 0 & 0 & 0 & 0 & 0 & 0 & 0 & 0 & 0 & 0 & 0 & 0 \\\\\n",
       "0 & 0 & 0 & 0 & 0 & 0 & 0 & 0 & 0 & 0 & 0 & 0 & 0 & 0 & 0 & 0 & 0 & 0 & 0 & 0 & 0 & 0 & 0 & 0 & 0 & 0 & 0 & 0 & 0 & 0 & 0 & 0 & 0 & 0 & 0 & 0 & 0 & 0 & 0 & 0 & 0 & 0 & 0 & 0 & 0 & 0 & 0 & 0 & 0 & 0 & 0 & 0 & 0 & 1 & 0 & 0 & 0 & 0 & 0 & 0 & 0 & 0 & 0 & 0 & 0 & 0 & 0 & 0 & 0 & 0 & 0 & 0 \\\\\n",
       "\\hline\n",
       " 0 & 0 & 0 & 0 & 0 & 0 & 0 & 0 & 0 & 0 & 0 & 0 & 0 & 0 & 0 & 0 & 0 & 0 & 0 & 0 & 0 & 0 & 0 & 0 & 0 & 0 & 0 & 0 & 0 & 0 & 0 & 0 & 0 & 0 & 0 & 0 & 0 & 0 & 0 & 0 & 0 & 0 & 0 & 0 & 0 & 0 & 0 & 0 & 0 & 0 & 0 & 0 & 0 & 0 & \\zeta_{12}^{3} & 0 & 0 & 0 & 0 & 0 & 0 & 0 & 0 & 0 & 0 & 0 & 0 & 0 & 0 & 0 & 0 & 0 \\\\\n",
       "0 & 0 & 0 & 0 & 0 & 0 & 0 & 0 & 0 & 0 & 0 & 0 & 0 & 0 & 0 & 0 & 0 & 0 & 0 & 0 & 0 & 0 & 0 & 0 & 0 & 0 & 0 & 0 & 0 & 0 & 0 & 0 & 0 & 0 & 0 & 0 & 0 & 0 & 0 & 0 & 0 & 0 & 0 & 0 & 0 & 0 & 0 & 0 & 0 & 0 & 0 & 0 & 0 & 0 & 0 & -\\zeta_{12}^{3} & 0 & 0 & 0 & 0 & 0 & 0 & 0 & 0 & 0 & 0 & 0 & 0 & 0 & 0 & 0 & 0 \\\\\n",
       "0 & 0 & 0 & 0 & 0 & 0 & 0 & 0 & 0 & 0 & 0 & 0 & 0 & 0 & 0 & 0 & 0 & 0 & 0 & 0 & 0 & 0 & 0 & 0 & 0 & 0 & 0 & 0 & 0 & 0 & 0 & 0 & 0 & 0 & 0 & 0 & 0 & 0 & 0 & 0 & 0 & 0 & 0 & 0 & 0 & 0 & 0 & 0 & 0 & 0 & 0 & 0 & 0 & 0 & 0 & 0 & -\\zeta_{12}^{3} + \\zeta_{12} & 0 & 0 & 0 & 0 & 0 & 0 & 0 & 0 & 0 & 0 & 0 & 0 & 0 & 0 & 0 \\\\\n",
       "0 & 0 & 0 & 0 & 0 & 0 & 0 & 0 & 0 & 0 & 0 & 0 & 0 & 0 & 0 & 0 & 0 & 0 & 0 & 0 & 0 & 0 & 0 & 0 & 0 & 0 & 0 & 0 & 0 & 0 & 0 & 0 & 0 & 0 & 0 & 0 & 0 & 0 & 0 & 0 & 0 & 0 & 0 & 0 & 0 & 0 & 0 & 0 & 0 & 0 & 0 & 0 & 0 & 0 & 0 & 0 & 0 & \\zeta_{12}^{3} - \\zeta_{12} & 0 & 0 & 0 & 0 & 0 & 0 & 0 & 0 & 0 & 0 & 0 & 0 & 0 & 0 \\\\\n",
       "0 & 0 & 0 & 0 & 0 & 0 & 0 & 0 & 0 & 0 & 0 & 0 & 0 & 0 & 0 & 0 & 0 & 0 & 0 & 0 & 0 & 0 & 0 & 0 & 0 & 0 & 0 & 0 & 0 & 0 & 0 & 0 & 0 & 0 & 0 & 0 & 0 & 0 & 0 & 0 & 0 & 0 & 0 & 0 & 0 & 0 & 0 & 0 & 0 & 0 & 0 & 0 & 0 & 0 & 0 & 0 & 0 & 0 & -\\zeta_{12}^{3} + \\zeta_{12} & 0 & 0 & 0 & 0 & 0 & 0 & 0 & 0 & 0 & 0 & 0 & 0 & 0 \\\\\n",
       "0 & 0 & 0 & 0 & 0 & 0 & 0 & 0 & 0 & 0 & 0 & 0 & 0 & 0 & 0 & 0 & 0 & 0 & 0 & 0 & 0 & 0 & 0 & 0 & 0 & 0 & 0 & 0 & 0 & 0 & 0 & 0 & 0 & 0 & 0 & 0 & 0 & 0 & 0 & 0 & 0 & 0 & 0 & 0 & 0 & 0 & 0 & 0 & 0 & 0 & 0 & 0 & 0 & 0 & 0 & 0 & 0 & 0 & 0 & \\zeta_{12}^{3} - \\zeta_{12} & 0 & 0 & 0 & 0 & 0 & 0 & 0 & 0 & 0 & 0 & 0 & 0 \\\\\n",
       "0 & 0 & 0 & 0 & 0 & 0 & 0 & 0 & 0 & 0 & 0 & 0 & 0 & 0 & 0 & 0 & 0 & 0 & 0 & 0 & 0 & 0 & 0 & 0 & 0 & 0 & 0 & 0 & 0 & 0 & 0 & 0 & 0 & 0 & 0 & 0 & 0 & 0 & 0 & 0 & 0 & 0 & 0 & 0 & 0 & 0 & 0 & 0 & 0 & 0 & 0 & 0 & 0 & 0 & 0 & 0 & 0 & 0 & 0 & 0 & -\\zeta_{12}^{3} + \\zeta_{12} & 0 & 0 & 0 & 0 & 0 & 0 & 0 & 0 & 0 & 0 & 0 \\\\\n",
       "0 & 0 & 0 & 0 & 0 & 0 & 0 & 0 & 0 & 0 & 0 & 0 & 0 & 0 & 0 & 0 & 0 & 0 & 0 & 0 & 0 & 0 & 0 & 0 & 0 & 0 & 0 & 0 & 0 & 0 & 0 & 0 & 0 & 0 & 0 & 0 & 0 & 0 & 0 & 0 & 0 & 0 & 0 & 0 & 0 & 0 & 0 & 0 & 0 & 0 & 0 & 0 & 0 & 0 & 0 & 0 & 0 & 0 & 0 & 0 & 0 & \\zeta_{12}^{3} - \\zeta_{12} & 0 & 0 & 0 & 0 & 0 & 0 & 0 & 0 & 0 & 0 \\\\\n",
       "0 & 0 & 0 & 0 & 0 & 0 & 0 & 0 & 0 & 0 & 0 & 0 & 0 & 0 & 0 & 0 & 0 & 0 & 0 & 0 & 0 & 0 & 0 & 0 & 0 & 0 & 0 & 0 & 0 & 0 & 0 & 0 & 0 & 0 & 0 & 0 & 0 & 0 & 0 & 0 & 0 & 0 & 0 & 0 & 0 & 0 & 0 & 0 & 0 & 0 & 0 & 0 & 0 & 0 & 0 & 0 & 0 & 0 & 0 & 0 & 0 & 0 & -\\zeta_{12} & 0 & 0 & 0 & 0 & 0 & 0 & 0 & 0 & 0 \\\\\n",
       "0 & 0 & 0 & 0 & 0 & 0 & 0 & 0 & 0 & 0 & 0 & 0 & 0 & 0 & 0 & 0 & 0 & 0 & 0 & 0 & 0 & 0 & 0 & 0 & 0 & 0 & 0 & 0 & 0 & 0 & 0 & 0 & 0 & 0 & 0 & 0 & 0 & 0 & 0 & 0 & 0 & 0 & 0 & 0 & 0 & 0 & 0 & 0 & 0 & 0 & 0 & 0 & 0 & 0 & 0 & 0 & 0 & 0 & 0 & 0 & 0 & 0 & 0 & \\zeta_{12} & 0 & 0 & 0 & 0 & 0 & 0 & 0 & 0 \\\\\n",
       "0 & 0 & 0 & 0 & 0 & 0 & 0 & 0 & 0 & 0 & 0 & 0 & 0 & 0 & 0 & 0 & 0 & 0 & 0 & 0 & 0 & 0 & 0 & 0 & 0 & 0 & 0 & 0 & 0 & 0 & 0 & 0 & 0 & 0 & 0 & 0 & 0 & 0 & 0 & 0 & 0 & 0 & 0 & 0 & 0 & 0 & 0 & 0 & 0 & 0 & 0 & 0 & 0 & 0 & 0 & 0 & 0 & 0 & 0 & 0 & 0 & 0 & 0 & 0 & -\\zeta_{12} & 0 & 0 & 0 & 0 & 0 & 0 & 0 \\\\\n",
       "0 & 0 & 0 & 0 & 0 & 0 & 0 & 0 & 0 & 0 & 0 & 0 & 0 & 0 & 0 & 0 & 0 & 0 & 0 & 0 & 0 & 0 & 0 & 0 & 0 & 0 & 0 & 0 & 0 & 0 & 0 & 0 & 0 & 0 & 0 & 0 & 0 & 0 & 0 & 0 & 0 & 0 & 0 & 0 & 0 & 0 & 0 & 0 & 0 & 0 & 0 & 0 & 0 & 0 & 0 & 0 & 0 & 0 & 0 & 0 & 0 & 0 & 0 & 0 & 0 & \\zeta_{12} & 0 & 0 & 0 & 0 & 0 & 0 \\\\\n",
       "0 & 0 & 0 & 0 & 0 & 0 & 0 & 0 & 0 & 0 & 0 & 0 & 0 & 0 & 0 & 0 & 0 & 0 & 0 & 0 & 0 & 0 & 0 & 0 & 0 & 0 & 0 & 0 & 0 & 0 & 0 & 0 & 0 & 0 & 0 & 0 & 0 & 0 & 0 & 0 & 0 & 0 & 0 & 0 & 0 & 0 & 0 & 0 & 0 & 0 & 0 & 0 & 0 & 0 & 0 & 0 & 0 & 0 & 0 & 0 & 0 & 0 & 0 & 0 & 0 & 0 & -\\zeta_{12}^{3} + \\zeta_{12} & 0 & 0 & 0 & 0 & 0 \\\\\n",
       "0 & 0 & 0 & 0 & 0 & 0 & 0 & 0 & 0 & 0 & 0 & 0 & 0 & 0 & 0 & 0 & 0 & 0 & 0 & 0 & 0 & 0 & 0 & 0 & 0 & 0 & 0 & 0 & 0 & 0 & 0 & 0 & 0 & 0 & 0 & 0 & 0 & 0 & 0 & 0 & 0 & 0 & 0 & 0 & 0 & 0 & 0 & 0 & 0 & 0 & 0 & 0 & 0 & 0 & 0 & 0 & 0 & 0 & 0 & 0 & 0 & 0 & 0 & 0 & 0 & 0 & 0 & \\zeta_{12}^{3} - \\zeta_{12} & 0 & 0 & 0 & 0 \\\\\n",
       "0 & 0 & 0 & 0 & 0 & 0 & 0 & 0 & 0 & 0 & 0 & 0 & 0 & 0 & 0 & 0 & 0 & 0 & 0 & 0 & 0 & 0 & 0 & 0 & 0 & 0 & 0 & 0 & 0 & 0 & 0 & 0 & 0 & 0 & 0 & 0 & 0 & 0 & 0 & 0 & 0 & 0 & 0 & 0 & 0 & 0 & 0 & 0 & 0 & 0 & 0 & 0 & 0 & 0 & 0 & 0 & 0 & 0 & 0 & 0 & 0 & 0 & 0 & 0 & 0 & 0 & 0 & 0 & -\\zeta_{12} & 0 & 0 & 0 \\\\\n",
       "0 & 0 & 0 & 0 & 0 & 0 & 0 & 0 & 0 & 0 & 0 & 0 & 0 & 0 & 0 & 0 & 0 & 0 & 0 & 0 & 0 & 0 & 0 & 0 & 0 & 0 & 0 & 0 & 0 & 0 & 0 & 0 & 0 & 0 & 0 & 0 & 0 & 0 & 0 & 0 & 0 & 0 & 0 & 0 & 0 & 0 & 0 & 0 & 0 & 0 & 0 & 0 & 0 & 0 & 0 & 0 & 0 & 0 & 0 & 0 & 0 & 0 & 0 & 0 & 0 & 0 & 0 & 0 & 0 & \\zeta_{12} & 0 & 0 \\\\\n",
       "0 & 0 & 0 & 0 & 0 & 0 & 0 & 0 & 0 & 0 & 0 & 0 & 0 & 0 & 0 & 0 & 0 & 0 & 0 & 0 & 0 & 0 & 0 & 0 & 0 & 0 & 0 & 0 & 0 & 0 & 0 & 0 & 0 & 0 & 0 & 0 & 0 & 0 & 0 & 0 & 0 & 0 & 0 & 0 & 0 & 0 & 0 & 0 & 0 & 0 & 0 & 0 & 0 & 0 & 0 & 0 & 0 & 0 & 0 & 0 & 0 & 0 & 0 & 0 & 0 & 0 & 0 & 0 & 0 & 0 & -\\zeta_{12} & 0 \\\\\n",
       "0 & 0 & 0 & 0 & 0 & 0 & 0 & 0 & 0 & 0 & 0 & 0 & 0 & 0 & 0 & 0 & 0 & 0 & 0 & 0 & 0 & 0 & 0 & 0 & 0 & 0 & 0 & 0 & 0 & 0 & 0 & 0 & 0 & 0 & 0 & 0 & 0 & 0 & 0 & 0 & 0 & 0 & 0 & 0 & 0 & 0 & 0 & 0 & 0 & 0 & 0 & 0 & 0 & 0 & 0 & 0 & 0 & 0 & 0 & 0 & 0 & 0 & 0 & 0 & 0 & 0 & 0 & 0 & 0 & 0 & 0 & \\zeta_{12}\n",
       "\\end{array}\\right)</script></html>"
      ],
      "text/plain": [
       "72 x 72 sparse matrix over Cyclotomic Field of order 12 and degree 4 (use the '.str()' method to see the entries)"
      ]
     },
     "metadata": {},
     "output_type": "display_data"
    }
   ],
   "source": [
    "show(T)"
   ]
  },
  {
   "cell_type": "code",
   "execution_count": 25,
   "metadata": {},
   "outputs": [
    {
     "data": {
      "text/html": [
       "<html><script type=\"math/tex; mode=display\">\\newcommand{\\Bold}[1]{\\mathbf{#1}}\\left[\\verb|(1,|\\phantom{\\verb!x!}\\verb|0)|, \\verb|(2,|\\phantom{\\verb!x!}\\verb|1)|, \\verb|(0,|\\phantom{\\verb!x!}\\verb|0)|, \\verb|(1,|\\phantom{\\verb!x!}\\verb|2)|, \\verb|(2,|\\phantom{\\verb!x!}\\verb|0)|, \\verb|(0,|\\phantom{\\verb!x!}\\verb|2)|, \\verb|(2,|\\phantom{\\verb!x!}\\verb|2)|, \\verb|(0,|\\phantom{\\verb!x!}\\verb|1)|, \\verb|(1,|\\phantom{\\verb!x!}\\verb|1)|\\right]</script></html>"
      ],
      "text/plain": [
       "[(1, 0), (2, 1), (0, 0), (1, 2), (2, 0), (0, 2), (2, 2), (0, 1), (1, 1)]"
      ]
     },
     "metadata": {},
     "output_type": "display_data"
    }
   ],
   "source": [
    "show(G_list)"
   ]
  },
  {
   "cell_type": "code",
   "execution_count": 27,
   "metadata": {},
   "outputs": [
    {
     "data": {
      "text/html": [
       "<html><script type=\"math/tex; mode=display\">\\newcommand{\\Bold}[1]{\\mathbf{#1}}\\left[\\verb|(0,|\\phantom{\\verb!x!}\\verb|0)|, \\verb|(1,|\\phantom{\\verb!x!}\\verb|0)|, \\verb|(2,|\\phantom{\\verb!x!}\\verb|0)|, \\verb|(0,|\\phantom{\\verb!x!}\\verb|1)|, \\verb|(1,|\\phantom{\\verb!x!}\\verb|1)|, \\verb|(2,|\\phantom{\\verb!x!}\\verb|1)|, \\verb|(0,|\\phantom{\\verb!x!}\\verb|2)|, \\verb|(1,|\\phantom{\\verb!x!}\\verb|2)|, \\verb|(2,|\\phantom{\\verb!x!}\\verb|2)|\\right]</script></html>"
      ],
      "text/plain": [
       "[(0, 0), (1, 0), (2, 0), (0, 1), (1, 1), (2, 1), (0, 2), (1, 2), (2, 2)]"
      ]
     },
     "metadata": {},
     "output_type": "display_data"
    }
   ],
   "source": [
    "H.sort()\n",
    "show(H)"
   ]
  },
  {
   "cell_type": "code",
   "execution_count": 9,
   "metadata": {},
   "outputs": [
    {
     "data": {
      "text/plain": [
       "[[(2, 1, 1, 1)],\n",
       " [(3, 1, 1, 1)],\n",
       " [(3, 1, 1, 2)],\n",
       " [(2, 2, 1, 1)],\n",
       " [(2, 2, 1, 2)],\n",
       " [(2, 1, 2, 1)],\n",
       " [(2, 1, 2, 5)],\n",
       " [(5, 1, 1, 1)],\n",
       " [(5, 1, 1, 2)],\n",
       " [(2, 1, 1, 1), (3, 1, 1, 1)],\n",
       " [(2, 1, 1, 1), (3, 1, 1, 2)],\n",
       " [(7, 1, 1, 1)],\n",
       " [(7, 1, 1, 2)],\n",
       " [(2, 3, 1, 1)],\n",
       " [(2, 3, 1, 2)],\n",
       " [(2, 3, 1, 3)],\n",
       " [(2, 3, 1, 4)],\n",
       " [(2, 1, 1, 1), (2, 2, 1, 1)],\n",
       " [(2, 1, 3, 1)],\n",
       " [(3, 2, 1, 1)],\n",
       " [(3, 2, 1, 2)],\n",
       " [(3, 1, 2, 1)],\n",
       " [(2, 1, 1, 1), (5, 1, 1, 1)],\n",
       " [(2, 1, 1, 1), (5, 1, 1, 2)],\n",
       " [(11, 1, 1, 1)],\n",
       " [(11, 1, 1, 2)],\n",
       " [(2, 2, 1, 1), (3, 1, 1, 1)],\n",
       " [(2, 2, 1, 2), (3, 1, 1, 1)],\n",
       " [(2, 2, 1, 1), (3, 1, 1, 2)],\n",
       " [(2, 2, 1, 2), (3, 1, 1, 2)],\n",
       " [(2, 1, 2, 1), (3, 1, 1, 1)],\n",
       " [(2, 1, 2, 5), (3, 1, 1, 1)],\n",
       " [(2, 1, 2, 1), (3, 1, 1, 2)],\n",
       " [(2, 1, 2, 5), (3, 1, 1, 2)],\n",
       " [(13, 1, 1, 1)],\n",
       " [(13, 1, 1, 2)],\n",
       " [(2, 1, 1, 1), (7, 1, 1, 1)],\n",
       " [(2, 1, 1, 1), (7, 1, 1, 2)]]"
      ]
     },
     "execution_count": 9,
     "metadata": {},
     "output_type": "execute_result"
    }
   ],
   "source": [
    "met_groups"
   ]
  },
  {
   "cell_type": "code",
   "execution_count": null,
   "metadata": {},
   "outputs": [],
   "source": []
  }
 ],
 "metadata": {
  "kernelspec": {
   "display_name": "SageMath 9.2",
   "language": "sage",
   "name": "sagemath"
  },
  "language_info": {
   "codemirror_mode": {
    "name": "ipython",
    "version": 3
   },
   "file_extension": ".py",
   "mimetype": "text/x-python",
   "name": "python",
   "nbconvert_exporter": "python",
   "pygments_lexer": "ipython3",
   "version": "3.7.7"
  }
 },
 "nbformat": 4,
 "nbformat_minor": 2
}
