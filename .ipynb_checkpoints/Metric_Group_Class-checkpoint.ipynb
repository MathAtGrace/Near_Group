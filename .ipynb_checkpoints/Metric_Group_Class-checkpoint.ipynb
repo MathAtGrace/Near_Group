{
 "cells": [
  {
   "cell_type": "code",
   "execution_count": 159,
   "metadata": {},
   "outputs": [],
   "source": [
    "r\"\"\"\n",
    "Metric Groups\n",
    "\"\"\"\n",
    "# ****************************************************************************\n",
    "#  Copyright (C) 2022      Ryan Johnson <johnsor@grace.edu>\n",
    "#\n",
    "#  Distributed under the terms of the GNU General Public License (GPL)\n",
    "#                  https://www.gnu.org/licenses/\n",
    "# *****************************************************************************\n",
    "import sage\n",
    "import itertools\n",
    "from sage.rings.integer_ring import IntegerRing, ZZ\n",
    "from sage.rings.number_field.number_field import CyclotomicField, NumberField_cyclotomic\n",
    "from sage.rings.finite_rings.integer_mod_ring import Zmod\n",
    "from sage.matrix.matrix_space import MatrixSpace\n",
    "from sage.matrix.constructor import matrix\n",
    "from sage.matrix.special import block_diagonal_matrix\n",
    "from sage.groups.additive_abelian.additive_abelian_group import *\n",
    "from sage.categories.category import Category\n",
    "from sage.categories.number_fields import NumberFields\n",
    "from sage.categories.modules import Modules\n",
    "from sage.sets.positive_integers import PositiveIntegers\n",
    "from sage.structure.unique_representation import UniqueRepresentation\n",
    "from sage.structure.element import is_Matrix\n",
    "from sage.misc.misc_c import prod\n",
    "from sage.arith.misc import factor, legendre_symbol\n",
    "from sage.arith.functions import lcm\n",
    "from sage.functions.other import sqrt\n",
    "from sage.modules.free_module_element import vector\n",
    "\n",
    "def good_prd_tuple(p,r,d):\n",
    "    if p == 2:\n",
    "        d_range = range(1,7)\n",
    "    else:\n",
    "        d_range = range(1,3)\n",
    "    return all((p.is_prime(), r>0, d in d_range))\n",
    "\n",
    "def MetricGroup(prd_tuples):\n",
    "    r\"\"\"\n",
    "    Construct a metric group given a list of tuples, each determining\n",
    "    an irreducible metric group.\n",
    "\n",
    "    INPUT:\n",
    "\n",
    "    - ``prd_tuples`` (list of tuples in \\ZZ^3): these tuples should each\n",
    "      be of the form `(p,r,d)` where `p` is a prime, `r` is a positive\n",
    "      integer, and `d` determines the type of irreduciblle metric group.\n",
    "      If `p` is an odd prime, then `d=1` or `d=2`.  If `p=2`, then\n",
    "      `d=1,2,3,4,5` or `6`.  These follow the types given in\n",
    "      https://arxiv.org/abs/1405.7950\n",
    "\n",
    "    - ``remember_generators`` (boolean): whether or not to fix a set of\n",
    "      generators (corresponding to the given invariants, which need not be in\n",
    "      Smith form).\n",
    "\n",
    "    OUTPUT:\n",
    "\n",
    "    The metric group where `G = \\bigoplus_i X_i(p,q)`, for each tuple `(p,r,d)` where\n",
    "    `X = A` if `d=1` and so on alphabetically.\n",
    "    \"\"\"\n",
    "    #check conditions on input\n",
    "    prd_tuples = [(ZZ(p), ZZ(r), ZZ(d)) for (p,r,d) in prd_tuples]\n",
    "    assert all(good_prd_tuple(p,r,d) for (p,r,d) in prd_tuples)\n",
    "    orders = [p**r for (p,r,d) in prd_tuples for i in range(int(d/5)+1)]\n",
    "    n = cyclotomic_n(orders)\n",
    "    G = AdditiveAbelianGroup(orders)\n",
    "    Z = CyclotomicField(n)\n",
    "    Q = []\n",
    "    for tup in prd_tuples:\n",
    "        p,r,d = tup\n",
    "        if p == 2 and d == 1:\n",
    "            Q.append(matrix(ZZ, [[n*p**(-r-1)]]))\n",
    "        elif p == 2 and d == 2:\n",
    "            Q.append(matrix(ZZ, [[-n*p**(-r-1)]]))\n",
    "        elif p == 2 and d == 3:\n",
    "            Q.append(matrix(ZZ, [[5*n*p**(-r-1)]]))\n",
    "        elif p == 2 and d == 4:\n",
    "            Q.append(matrix(ZZ, [[-5*n*p**(-r-1)]]))\n",
    "        elif p == 2 and d == 5:\n",
    "            Q.append(ZZ(n*p**(-r-1))*matrix(ZZ, [[0,1],[1,0]]))\n",
    "        elif p == 2 and d == 6:\n",
    "            Q.append(ZZ(n*p**(-r-1))*matrix(ZZ, [[2,1],[1,2]]))\n",
    "        elif d == 1:\n",
    "            v = (p**r + 1)/2 #v is 2^(-1) in Z/p^rZ\n",
    "            Q.append(matrix(ZZ, [[ZZ(v*n*p**(-r))]]))\n",
    "        elif d == 2:\n",
    "            v = (p**r + 1)/2 #v is 2^(-1) in Z/p^rZ\n",
    "            u = ZZ(Zmod(p).multiplicative_generator())\n",
    "            Q.append(matrix(ZZ, [[ZZ(u*v*n*p**(-r))]]))\n",
    "        else:\n",
    "            print(\"Build error: \", p, r, d)\n",
    "    return PreMetricGroup(G,block_diagonal_matrix(Q, subdivide=False),Z)\n",
    "\n",
    "#Finite Pre-Metric Group Element\n",
    "class PreMetricGroupElement(AdditiveAbelianGroupElement):\n",
    "    def rho(self):\n",
    "        G = self.parent()\n",
    "        Q = G._quadratic_matrix\n",
    "        z = G._zeta\n",
    "        x = vector(self.lift())\n",
    "        return z**(x*Q*x)\n",
    "    \n",
    "    def chi(self, other):\n",
    "        return (self+other).quadratic()/self.quadratic()/other.quadratic()\n",
    "    \n",
    "    def rho_a(self, other):\n",
    "        return self.quadratic()*self.bilinear(other)\n",
    "    \n",
    "    def quadratic(self):\n",
    "        G = self.parent()\n",
    "        Q = G._quadratic_matrix\n",
    "        n = G._modulo_n\n",
    "        R = Integers(n)\n",
    "        x = vector(self.lift())\n",
    "        return R(x*Q*x)\n",
    "    \n",
    "    def bilinear(self, other):\n",
    "        return (self+other).quadratic_additive()-self.quadratic_additive()-other.quadratic_additive()\n",
    "\n",
    "class PreMetricGroup(AdditiveAbelianGroup_fixed_gens):\n",
    "    Element = PreMetricGroupElement\n",
    "    \n",
    "    def __init__(self, invariants_or_group, coeffs_or_matrix, divisor_or_cyclotomic_field):        \n",
    "        #Deal with the case when input is (*,*,CyclotomicField)\n",
    "        if isinstance(divisor_or_cyclotomic_field, NumberField_cyclotomic):\n",
    "            self._cyclotomic_field = divisor_or_cyclotomic_field\n",
    "            self._modulo_n = divisor_or_cyclotomic_field._n()\n",
    "        #Deal with the case when input is (*,*,positive_integer)\n",
    "        elif divisor_or_cyclotomic_field in PositiveIntegers():\n",
    "            self._cyclotomic_field = CyclotomicField(divisor_or_cyclotomic_field)\n",
    "            self._modulo_n = ZZ(divisor_or_cyclotomic_field)\n",
    "        else:\n",
    "            raise TypeError(\"the third input must be a cyclotomic field or a positive integer\")\n",
    "        self._zeta = self._cyclotomic_field.zeta()\n",
    "            \n",
    "        #Deal with the case when input is (group,*,*)\n",
    "        if isinstance(invariants_or_group, AdditiveAbelianGroup_class):\n",
    "            cover = invariants_or_group.cover()\n",
    "            rels = invariants_or_group.relations()\n",
    "            gens = invariants_or_group.gens()\n",
    "        #Deal with the case when input is (invariants,*,*)\n",
    "        elif all([i in PositiveIntegers() for i in invariants_or_group]):\n",
    "            cover, rels = cover_and_relations_from_invariants(invariants_or_group)\n",
    "            gens = cover.gens()\n",
    "        else:\n",
    "            raise TypeError(\"the first input must be an additive abelian group or a list of invariants\")\n",
    "        AdditiveAbelianGroup_fixed_gens.__init__(self, cover, rels, gens)\n",
    "        \n",
    "        #The underlying set is a finite additive abelian group\n",
    "        AdditiveAbelianGroup_fixed_gens.__init__(self, cover, rels, gens)\n",
    "        assert self.is_finite()\n",
    "        \n",
    "        #Deal with the case when inputs is (*,matrix,*)\n",
    "        if is_Matrix(coeffs_or_matrix):\n",
    "            assert self._is_homogeneous_quadratic(coeffs_or_matrix)\n",
    "            self._quadratic_matrix = coeffs_or_matrix % self._modulo_n\n",
    "        #Deal with the case when inputs is (*,coefficients,*)\n",
    "        elif isinstance(coeffs_or_matrix, list):\n",
    "            n = self.ngens()\n",
    "            if len(coeffs_or_matrix) != n*(n+1)/2:\n",
    "                raise TypeError(\"need to provide n(n+1)/2 coefficients for n generators\")\n",
    "            elif not all(i in ZZ for i in coeffs_or_matrix):\n",
    "                raise TypeError(\"coefficients need to be integers\")\n",
    "            Q = matrix(ZZ, [[coeffs_or_matrix[j*n - j*(j-1)//2 + i - j] if i >=j\n",
    "                             else coeffs_or_matrix[i*n - i*(i-1)//2 + j - i]\n",
    "                             for i in range(n)] for j in range(n)])\n",
    "            assert self._is_homogeneous_quadratic(Q)\n",
    "            self._quadratic_matrix = Q % self._modulo_n\n",
    "        else:\n",
    "            raise TypeError(\"the second input must be an integer matrix or a\" +\n",
    "                            \"list of the upper triangular coefficients\")\n",
    "       \n",
    "    def _repr_(self):\n",
    "        parts = [\"Additive abelian group isomorphic to %s with quadratic form determined by \\n\"%self.short_name(),\n",
    "                str(self._quadratic_matrix), \"\\n\",\n",
    "                \"whose codomain is the %s\"%self._cyclotomic_field]\n",
    "        return \"\".join(parts)\n",
    "      \n",
    "    def sqrt(self, n):\n",
    "        #This method exists because the sqrt method from Cyclotomic Fields did not always give\n",
    "        #the positive square root in years past.\n",
    "        z = self._zeta\n",
    "        if not z.parent()(n).is_nth_power(2):\n",
    "            raise ValueError(\"n has no square root in the cyclotomic field\")\n",
    "        n3 = z.multiplicative_order()\n",
    "        sqrt_n = 1\n",
    "        for fac in factor(n.squarefree_part()):\n",
    "            if fac[0] == 2:\n",
    "                sqrt_n = z**(n3/8) + z**(7*n3/8)\n",
    "            else:\n",
    "                p = fac[0]\n",
    "                sqrt_n = sqrt_n * (1-z**(n3/4))/(1-z**(n3/4*legendre_symbol(-1,p))) * sum([legendre_symbol(i,p)*z**(n3*i/p) for i in range(p)])\n",
    "        return sqrt_n * sqrt(n/n.squarefree_part())\n",
    "    \n",
    "    def gauss(self):\n",
    "        n = self.cardinality()\n",
    "        return self.sqrt(n)/n*sum([g.quadratic() for g in self])\n",
    "    \n",
    "    def _invariants_to_prime_powers():\n",
    "        1+1\n",
    "        #NOT DONE\n",
    "    \n",
    "    def _is_homogeneous_quadratic(self, Q):\n",
    "        if Q.base_ring() != ZZ:\n",
    "            raise TypeError(\"Q must be a matrix over the integers\")\n",
    "        \n",
    "        #Check that Q maches the number of generators of G\n",
    "        invs = [g.order() for g in self.gens()]\n",
    "        l = len(invs)\n",
    "        if Q.dimensions() != (l, l):\n",
    "            print(\"invs: \", invs)\n",
    "            print(\"Q: \", Q)\n",
    "            raise TypeError(\"Q must match the number of generators of the group\")\n",
    "        \n",
    "        #Check that Q is homogeneous\n",
    "        if not Q.is_symmetric():\n",
    "            raise TypeError(\"Q must be a symmetric matrix\")\n",
    "            \n",
    "        #Test that Q yields a bilinear form\n",
    "        n = self._modulo_n\n",
    "        if not all([ZZ(n/invs[i]).divides(gcd(2*Q[i,j],n)) and\n",
    "                    ZZ(n/invs[j]).divides(gcd(2*Q[i,j],n))\n",
    "                    for i in range(l) for j in range(l)]):\n",
    "            raise TypeError(\"Q(x+y)-Q(x)-Q(y) does not yield a bilinear form modulo %s\"%n)\n",
    "        \n",
    "        return True\n",
    "\n",
    "        \n",
    "def cyclotomic_n(invariants):\n",
    "    \"\"\"\n",
    "    Given the invariants of group, return the smallest possible integer n\n",
    "    such that we can define any quadratic form on the group to ZZ/nZZ,\n",
    "    (1/n)ZZ/ZZ, or Cyclotomic(n).\n",
    "    \"\"\"\n",
    "    n1 = lcm(invariants)\n",
    "    n2 = prod(invariants).squarefree_part()\n",
    "    #n1 is even, then output of quadratic form requires\n",
    "    #the next highest power of 2\n",
    "    if n1 % 2 == 0:\n",
    "        n1 = n1*2\n",
    "    #if n1 is odd, gauss sums will exist in QQ(i)\n",
    "    else:\n",
    "        n1 = n1*4\n",
    "    #We need a cyclotomic field that contains sqrt(n)\n",
    "    if n2 % 2 == 0:\n",
    "        n2 = n2 * 4\n",
    "    n3 = lcm(n1,n2)\n",
    "    return n3"
   ]
  },
  {
   "cell_type": "code",
   "execution_count": 160,
   "metadata": {},
   "outputs": [
    {
     "data": {
      "text/plain": [
       "Additive abelian group isomorphic to Z/2 + Z/4 with quadratic form determined by \n",
       "[2 2]\n",
       "[2 1]\n",
       "whose codomain is the Cyclotomic Field of order 8 and degree 4"
      ]
     },
     "execution_count": 160,
     "metadata": {},
     "output_type": "execute_result"
    }
   ],
   "source": [
    "G = PreMetricGroup([2,4], [2,2,1], 8); G"
   ]
  },
  {
   "cell_type": "code",
   "execution_count": 161,
   "metadata": {},
   "outputs": [
    {
     "data": {
      "text/plain": [
       "Additive abelian group isomorphic to Z/4 + Z/4 + Z/3 with quadratic form determined by \n",
       "[0 3 0]\n",
       "[3 0 0]\n",
       "[0 0 8]\n",
       "whose codomain is the Cyclotomic Field of order 24 and degree 8"
      ]
     },
     "execution_count": 161,
     "metadata": {},
     "output_type": "execute_result"
    }
   ],
   "source": [
    "MetricGroup([(2,2,5),(3,1,2)])"
   ]
  },
  {
   "cell_type": "markdown",
   "metadata": {},
   "source": [
    "The code below is good at double checking the signature of a matric group, but it is slow.  It would be better to diagonalize the Q matrix and classify it's block matrices."
   ]
  },
  {
   "cell_type": "code",
   "execution_count": 162,
   "metadata": {},
   "outputs": [
    {
     "name": "stdout",
     "output_type": "stream",
     "text": [
      "Additive abelian group isomorphic to Z/4 + Z/4 + Z/3 + Z/25 with quadratic form determined by \n",
      "[ 75   0   0   0]\n",
      "[  0 525   0   0]\n",
      "[  0   0 200   0]\n",
      "[  0   0   0  24]\n",
      "whose codomain is the Cyclotomic Field of order 600 and degree 160\n",
      "2  :  [1, 1, 0]\n",
      "3  :  [zeta8^2, 1]\n",
      "5  :  [1, 1, 1]\n"
     ]
    }
   ],
   "source": [
    "G = MetricGroup([(2,2,1),(2,2,2),(3,1,2),(5,2,2)])\n",
    "Z8 = CyclotomicField(8)\n",
    "print(G)\n",
    "n = G.order()\n",
    "gens = G.gens()\n",
    "ords = [g.order() for g in G.gens()]\n",
    "primes = [p for (p,r) in factor(n)]\n",
    "l = len(gens)\n",
    "for p in primes:\n",
    "    v_p = ZZ.valuation(p)\n",
    "    ord_v = [v_p(o) for o in ords]\n",
    "    G_p_slices = [[i*gens[j] for i in range(p^(max(ord_v[j],0)))] for j in range(l)]\n",
    "    G_p = [sum(list(a)) for a in itertools.product(*G_p_slices)]\n",
    "    #determine the power of p of tuple\n",
    "    r = max(ord_v)\n",
    "    sigma = []\n",
    "    for k in range(r+1):\n",
    "        H_len = prod([p^max(ord_v[i]-k,0) for i in range(l)])\n",
    "        sqrt_H = G.sqrt(H_len)\n",
    "        sigma += [Z8(sqrt_H/len(G_p)*sum([g.rho()^(p^k) for g in G_p]))]\n",
    "    print(p, \" : \", sigma)"
   ]
  },
  {
   "cell_type": "code",
   "execution_count": 163,
   "metadata": {},
   "outputs": [
    {
     "data": {
      "text/plain": [
       "[ 675    0    0    0    0]\n",
       "[   0 4725    0    0    0]\n",
       "[   0    0 1800    0    0]\n",
       "[   0    0    0  216    0]\n",
       "[   0    0    0    0 2800]"
      ]
     },
     "execution_count": 163,
     "metadata": {},
     "output_type": "execute_result"
    }
   ],
   "source": [
    "G = MetricGroup([(2,2,1),(2,2,2),(3,1,2),(5,2,2),(3,3,1)])\n",
    "G._quadratic_matrix"
   ]
  },
  {
   "cell_type": "code",
   "execution_count": 164,
   "metadata": {},
   "outputs": [
    {
     "name": "stdout",
     "output_type": "stream",
     "text": [
      "[2, 3, 5] [4, 4, 3, 25, 27]\n"
     ]
    }
   ],
   "source": [
    "n = G.order()\n",
    "gens = G.gens()\n",
    "ords = [g.order() for g in G.gens()]\n",
    "primes = [p for (p,r) in factor(n)]\n",
    "print(primes, ords)"
   ]
  },
  {
   "cell_type": "code",
   "execution_count": 165,
   "metadata": {},
   "outputs": [],
   "source": [
    "g = G.0"
   ]
  },
  {
   "cell_type": "code",
   "execution_count": 166,
   "metadata": {},
   "outputs": [
    {
     "data": {
      "text/plain": [
       "4"
      ]
     },
     "execution_count": 166,
     "metadata": {},
     "output_type": "execute_result"
    }
   ],
   "source": [
    "g.order()"
   ]
  },
  {
   "cell_type": "markdown",
   "metadata": {},
   "source": [
    "### Working on the diagonalization"
   ]
  },
  {
   "cell_type": "code",
   "execution_count": 346,
   "metadata": {},
   "outputs": [
    {
     "name": "stdout",
     "output_type": "stream",
     "text": [
      "Additive abelian group isomorphic to Z/9 + Z/9 + Z/9 with quadratic form determined by \n",
      "[12 12 12]\n",
      "[12 12  4]\n",
      "[12  4 12]\n",
      "whose codomain is the Cyclotomic Field of order 36 and degree 12\n"
     ]
    }
   ],
   "source": [
    "ords = [9,9,9] #pick powers of an odd prime\n",
    "n = cyclotomic_n(ords)\n",
    "G = AdditiveAbelianGroup(ords)\n",
    "A = PreMetricGroup(G, [n/3,n/3,n/3,n/3,n/9,n/3], n) #change these when powers change\n",
    "print(A)\n",
    "gens = A.gens()\n",
    "Q = A._quadratic_matrix"
   ]
  },
  {
   "cell_type": "code",
   "execution_count": 340,
   "metadata": {},
   "outputs": [],
   "source": [
    "p = 3 #change this if powers change\n",
    "v_p = ZZ.valuation(p)\n",
    "u_p = ZZ(Integers(3).multiplicative_generator())\n",
    "r1 = min([v_p(x) for x in Q.list()])\n",
    "l = len(ords)\n",
    "new_gens = list(gens)"
   ]
  },
  {
   "cell_type": "code",
   "execution_count": null,
   "metadata": {},
   "outputs": [],
   "source": [
    "for k in range(A.ngens()):\n",
    "    new_Q, new_gens = min_val_to_upper_left(Q,new_gens,n,k)"
   ]
  },
  {
   "cell_type": "markdown",
   "metadata": {},
   "source": [
    "check if one of the diagonal entrys valuation matches r1, and if so, return the index.  Else, find the off-diagon entry that matches.\n",
    "\n",
    "### change this to a proper function, and zeros to k's"
   ]
  },
  {
   "cell_type": "code",
   "execution_count": 341,
   "metadata": {},
   "outputs": [
    {
     "name": "stdout",
     "output_type": "stream",
     "text": [
      "12\n",
      "12\n",
      "12\n",
      "----\n",
      "[12 12 12]\n",
      "[12 12  4]\n",
      "[12  4 12]\n",
      "[1 0 0]\n",
      "[0 1 1]\n",
      "[0 0 1]\n",
      "[12 24 12]\n",
      "[24 32 16]\n",
      "[12 16 12]\n",
      "[(1, 0, 0), (0, 1, 8), (0, 0, 1)]\n",
      "12\n",
      "12\n",
      "12\n"
     ]
    }
   ],
   "source": [
    "def min_val_to_upper_left(Q,new_gens,n,k):\n",
    "    d_indices = [(i,j) for (i,deg_i) in enumerate(Q) for (j,deg_ij) in enumerate(deg_i) if v_p(deg_ij)==r1 and i==j]\n",
    "    for h in new_gens:\n",
    "        x = vector(h.lift())\n",
    "        print(x*Q*x % n,)\n",
    "    if not d_indices:\n",
    "        i,j = [(i,j) for (i,deg_i) in enumerate(Q) for (j,deg_ij) in enumerate(deg_i) if v_p(deg_ij)==r1][0]\n",
    "        S = elementary_matrix(ZZ, l, row1=i, row2=j, scale = 1)\n",
    "        S_inv = elementary_matrix(ZZ, l, row1=i, row2=j, scale = -1)\n",
    "        print(\"----\")\n",
    "        print(Q);print(S)\n",
    "        Q = S*Q*S.transpose() % n\n",
    "        print(Q)\n",
    "        new_gens = [A(h.lift()*S_inv) for h in new_gens]\n",
    "        print(new_gens)\n",
    "        for h in new_gens:\n",
    "            x = vector(h.lift())\n",
    "            print(x*Q*x % n,)\n",
    "    else:\n",
    "        i,_ = d_indices[0]"
   ]
  },
  {
   "cell_type": "markdown",
   "metadata": {},
   "source": [
    "swap the diagonal entry whose valuation matches r1"
   ]
  },
  {
   "cell_type": "code",
   "execution_count": 342,
   "metadata": {},
   "outputs": [
    {
     "name": "stdout",
     "output_type": "stream",
     "text": [
      "----\n",
      "[12 24 12]\n",
      "[24 32 16]\n",
      "[12 16 12]\n",
      "[0 1 0]\n",
      "[1 0 0]\n",
      "[0 0 1]\n",
      "[32 24 16]\n",
      "[24 12 12]\n",
      "[16 12 12]\n",
      "[(0, 1, 0), (1, 0, 8), (0, 0, 1)]\n",
      "12\n",
      "12\n",
      "12\n"
     ]
    }
   ],
   "source": [
    "if i!=0:\n",
    "    S = elementary_matrix(ZZ, l, row1=0, row2=i)\n",
    "    print(\"----\")\n",
    "    print(Q);print(S)\n",
    "    Q = S*Q*S.transpose() % n\n",
    "    print(Q)\n",
    "    new_gens = [A(h.lift()*S) for h in new_gens]\n",
    "    print(new_gens)\n",
    "    for h in new_gens:\n",
    "        x = vector(h.lift())\n",
    "        print(x*Q*x % n,)"
   ]
  },
  {
   "cell_type": "markdown",
   "metadata": {},
   "source": [
    "scale the 0,0 entry"
   ]
  },
  {
   "cell_type": "code",
   "execution_count": 343,
   "metadata": {
    "scrolled": true
   },
   "outputs": [
    {
     "name": "stdout",
     "output_type": "stream",
     "text": [
      "----\n",
      "[32 24 16]\n",
      "[24 12 12]\n",
      "[16 12 12]\n",
      "[4 0 0]\n",
      "[0 1 0]\n",
      "[0 0 1]\n",
      "[ 8 24 28]\n",
      "[24 12 12]\n",
      "[28 12 12]\n",
      "[(0, 1, 0), (7, 0, 8), (0, 0, 1)]\n",
      "12\n",
      "12\n",
      "12\n"
     ]
    }
   ],
   "source": [
    "pr = new_gens[0].order()\n",
    "R = Integers(pr)\n",
    "x = Q[0,0]//(n//p**(v_p(pr)-r1))\n",
    "if R(x).is_square():\n",
    "    a = R(x).square_root()\n",
    "else:\n",
    "    a = R(u_p*x).square_root()\n",
    "if a != R(1):\n",
    "    S = elementary_matrix(ZZ, l, row1=0, scale = ZZ(a))\n",
    "    S_inv = elementary_matrix(ZZ, l, row1=0, scale = ZZ(a.inverse_of_unit()))\n",
    "    print(\"----\")\n",
    "    print(Q);print(S)\n",
    "    Q = S*Q*S.transpose() % n\n",
    "    print(Q)\n",
    "    new_gens = [A(h.lift()*S_inv) for h in new_gens]\n",
    "    print(new_gens)\n",
    "    for h in new_gens:\n",
    "        x = vector(h.lift())\n",
    "        print(x*Q*x % n,)"
   ]
  },
  {
   "cell_type": "markdown",
   "metadata": {},
   "source": [
    "sweep out"
   ]
  },
  {
   "cell_type": "code",
   "execution_count": 344,
   "metadata": {},
   "outputs": [
    {
     "name": "stdout",
     "output_type": "stream",
     "text": [
      "----\n",
      "[ 8 24 28]\n",
      "[24 12 12]\n",
      "[28 12 12]\n",
      "[1 0 0]\n",
      "[6 1 0]\n",
      "[0 0 1]\n",
      "[ 8  0 28]\n",
      "[ 0 12  0]\n",
      "[28  0 12]\n",
      "[(3, 1, 0), (7, 0, 8), (0, 0, 1)]\n",
      "12\n",
      "12\n",
      "12\n"
     ]
    }
   ],
   "source": [
    "x = Q[0,0]//(n//p**(v_p(pr)-r1))\n",
    "x_inv = R(x).inverse_of_unit()\n",
    "y = ZZ(-x_inv*Q[0,1]//(n//p**(v_p(pr)-r1)))\n",
    "if y != 0:\n",
    "    S = elementary_matrix(ZZ, l, row1=1, row2=0, scale = y)\n",
    "    S_inv = elementary_matrix(ZZ, l, row1=1, row2=0, scale = -y)\n",
    "    print(\"----\")\n",
    "    print(Q);print(S)\n",
    "    Q = S*Q*S.transpose() % n\n",
    "    print(Q)\n",
    "    new_gens = [A(h.lift()*S_inv) for h in new_gens]\n",
    "    print(new_gens)\n",
    "    for h in new_gens:\n",
    "        x = vector(h.lift())\n",
    "        print(x*Q*x % n,)"
   ]
  },
  {
   "cell_type": "code",
   "execution_count": 345,
   "metadata": {},
   "outputs": [
    {
     "name": "stdout",
     "output_type": "stream",
     "text": [
      "1\n",
      "----\n",
      "[ 8  0 28]\n",
      "[ 0 12  0]\n",
      "[28  0 12]\n",
      "[1 0 0]\n",
      "[0 1 0]\n",
      "[1 0 1]\n",
      "[ 8  0  0]\n",
      "[ 0 12  0]\n",
      "[ 0  0  4]\n",
      "[(3, 1, 0), (8, 0, 8), (8, 0, 1)]\n",
      "12\n",
      "12\n",
      "12\n"
     ]
    }
   ],
   "source": [
    "x = Q[0,0]//(n//p**(v_p(pr)-r1))\n",
    "x_inv = R(x).inverse_of_unit()\n",
    "y = ZZ(-x_inv*Q[0,2]//(n//p**(v_p(pr)-r1)))\n",
    "if y != 0:\n",
    "    S = elementary_matrix(ZZ, l, row1=2, row2=0, scale = y)\n",
    "    S_inv = elementary_matrix(ZZ, l, row1=2, row2=0, scale = -y)\n",
    "    print(\"----\")\n",
    "    print(Q);print(S)\n",
    "    Q = S*Q*S.transpose() % n\n",
    "    print(Q)\n",
    "    new_gens = [A(h.lift()*S_inv) for h in new_gens]\n",
    "    print(new_gens)\n",
    "    for h in new_gens:\n",
    "        x = vector(h.lift())\n",
    "        print(x*Q*x % n,)"
   ]
  },
  {
   "cell_type": "code",
   "execution_count": null,
   "metadata": {},
   "outputs": [],
   "source": []
  },
  {
   "cell_type": "code",
   "execution_count": null,
   "metadata": {},
   "outputs": [],
   "source": []
  }
 ],
 "metadata": {
  "kernelspec": {
   "display_name": "SageMath 9.2",
   "language": "sage",
   "name": "sagemath"
  }
 },
 "nbformat": 4,
 "nbformat_minor": 4
}
