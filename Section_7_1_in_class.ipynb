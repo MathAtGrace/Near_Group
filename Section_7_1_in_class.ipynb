{
 "cells": [
  {
   "cell_type": "markdown",
   "metadata": {},
   "source": [
    "# Section 7.1\n",
    "\n",
    "In single or private key cryptosystems the same key is used for both encrypting and decrypting messages. To encrypt a plaintext message, we apply to the message some function which is kept secret, say $f$.\n",
    "This function will yield an encrypted message. Given the encrypted form of the message, we can recover the original message by applying the inverse transformation $f^{-1}$.\n",
    "The transformation $f$\n",
    "must be relatively easy to compute, as must $f^{-1}$;\n",
    "however, $f$ \n",
    "must be extremely difficult to guess from available examples of coded messages.\n",
    "\n",
    "## Example 7.1\n",
    "\n",
    "The encoding function $f(p) = p + 3 \\pmod 26$ will send $A \\mapsto D$, $B \\mapsto E$, etc.\n",
    "\n",
    "So it's inverse $f^{-1}(p) = p - 3 \\pmod 26$.\n",
    "\n",
    "Say that we get an encoded message DOJHEUD.  Then we first digitize this message.\n",
    "\n"
   ]
  },
  {
   "cell_type": "code",
   "execution_count": 7,
   "metadata": {
    "collapsed": false,
    "jupyter": {
     "outputs_hidden": false
    }
   },
   "outputs": [
    {
     "name": "stdout",
     "output_type": "stream",
     "text": [
      "[3, 14, 9, 7, 4, 20, 3]\n"
     ]
    }
   ],
   "source": [
    "encoded = \"DOJHEUD\"\n",
    "digitized = [ord(x)-65 for x in encoded]\n",
    "print(digitized)"
   ]
  },
  {
   "cell_type": "markdown",
   "metadata": {},
   "source": [
    "Then apply the inverse function in order to decode. We'll create the integers mod 26 and call it _R_.  We'll do operations inside _R_, then put them back in the integers, ZZ."
   ]
  },
  {
   "cell_type": "code",
   "execution_count": 8,
   "metadata": {
    "collapsed": false,
    "jupyter": {
     "outputs_hidden": false
    }
   },
   "outputs": [
    {
     "name": "stdout",
     "output_type": "stream",
     "text": [
      "[0, 11, 6, 4, 1, 17, 0]\n",
      "['A', 'L', 'G', 'E', 'B', 'R', 'A']\n",
      "ALGEBRA\n"
     ]
    }
   ],
   "source": [
    "R = Integers(26)\n",
    "decoded = [ZZ(R(x-3)) for x in digitized]\n",
    "print(decoded)\n",
    "letters = [chr(x+65) for x in decoded]\n",
    "print(letters)\n",
    "message = ''.join(letters)\n",
    "print(message)"
   ]
  },
  {
   "cell_type": "markdown",
   "metadata": {},
   "source": [
    "## Cryptanalysis\n",
    "is concerned with deciphering a received or intercepted message. Methods from probability and statistics are great aids in deciphering an intercepted message; for example, the frequency analysis of the characters appearing in the intercepted message often makes its decryption possible.\n",
    "\n",
    "## Example\n",
    "Assume you receive the message DIJGEIJPXXGIZENLXVWJLJYZHJTKZROZCCTOZJEITENTPXWJ.\n",
    "\n",
    "We'll load the module \"Collections\" in order to count the letters, then you will try different keys for decrypting the message."
   ]
  },
  {
   "cell_type": "code",
   "execution_count": 9,
   "metadata": {
    "collapsed": false,
    "jupyter": {
     "outputs_hidden": false
    }
   },
   "outputs": [
    {
     "name": "stdout",
     "output_type": "stream",
     "text": [
      "Counter({'J': 7, 'Z': 5, 'I': 4, 'E': 4, 'X': 4, 'T': 4, 'G': 2, 'P': 2, 'N': 2, 'L': 2, 'W': 2, 'O': 2, 'C': 2, 'D': 1, 'V': 1, 'Y': 1, 'H': 1, 'K': 1, 'R': 1})\n"
     ]
    }
   ],
   "source": [
    "from collections import Counter\n",
    "\n",
    "encrypted = \"DIJGEIJPXXGIZENLXVWJLJYZHJTKZROZCCTOZJEITENTPXWJ\"\n",
    "\n",
    "print(Counter(encrypted))"
   ]
  },
  {
   "cell_type": "markdown",
   "metadata": {},
   "source": [
    "Even though \"J\" is the 10th letter, remember that we start counting at zero, so \"J\" corresponds to \"9.\""
   ]
  },
  {
   "cell_type": "code",
   "execution_count": 10,
   "metadata": {
    "collapsed": false,
    "jupyter": {
     "outputs_hidden": false
    }
   },
   "outputs": [
    {
     "data": {
      "text/plain": [
       "9"
      ]
     },
     "execution_count": 10,
     "metadata": {},
     "output_type": "execute_result"
    }
   ],
   "source": [
    "ord('J')-65"
   ]
  },
  {
   "cell_type": "code",
   "execution_count": 11,
   "metadata": {
    "collapsed": false,
    "jupyter": {
     "outputs_hidden": false
    }
   },
   "outputs": [
    {
     "name": "stdout",
     "output_type": "stream",
     "text": [
      "Encrypted digits:  [3, 8, 9, 6, 4, 8, 9, 15, 23, 23, 6, 8, 25, 4, 13, 11, 23, 21, 22, 9, 11, 9, 24, 25, 7, 9, 19, 10, 25, 17, 14, 25, 2, 2, 19, 14, 25, 9, 4, 8, 19, 4, 13, 19, 15, 23, 22, 9] \n",
      "\n",
      "Decrypted digits?:  [3, 8, 9, 6, 4, 8, 9, 15, 23, 23, 6, 8, 25, 4, 13, 11, 23, 21, 22, 9, 11, 9, 24, 25, 7, 9, 19, 10, 25, 17, 14, 25, 2, 2, 19, 14, 25, 9, 4, 8, 19, 4, 13, 19, 15, 23, 22, 9] \n",
      "\n",
      "Decrypted letters?: ['D', 'I', 'J', 'G', 'E', 'I', 'J', 'P', 'X', 'X', 'G', 'I', 'Z', 'E', 'N', 'L', 'X', 'V', 'W', 'J', 'L', 'J', 'Y', 'Z', 'H', 'J', 'T', 'K', 'Z', 'R', 'O', 'Z', 'C', 'C', 'T', 'O', 'Z', 'J', 'E', 'I', 'T', 'E', 'N', 'T', 'P', 'X', 'W', 'J'] \n",
      "\n",
      "Decrypted message?: DIJGEIJPXXGIZENLXVWJLJYZHJTKZROZCCTOZJEITENTPXWJ\n"
     ]
    }
   ],
   "source": [
    "key = 0\n",
    "\n",
    "R = Integers(26)\n",
    "encr_digit = [ord(x)-65 for x in encrypted]\n",
    "print(\"Encrypted digits: \", encr_digit, \"\\n\")\n",
    "decrypted = [ZZ(R(x-key)) for x in encr_digit]\n",
    "print(\"Decrypted digits?: \", decrypted, \"\\n\")\n",
    "letters = [chr(x+65) for x in decrypted]\n",
    "print(\"Decrypted letters?:\", letters, \"\\n\")\n",
    "message = ''.join(letters)\n",
    "print(\"Decrypted message?:\", message)"
   ]
  },
  {
   "cell_type": "markdown",
   "metadata": {},
   "source": [
    "Simple shift codes are examples of **monoalphabetic cryptosystems**. In these ciphers a character in the enciphered message represents exactly one character in the original message. Such cryptosystems are not very sophisticated and are quite easy to break. In fact, in a simple shift as described in , there are only \n",
    " possible keys. It would be quite easy to try them all rather than to use frequency analysis.\n",
    "\n",
    "Let us investigate a slightly more sophisticated cryptosystem. Suppose that the encoding function is given by\n",
    "$$f(p)= ap+b \\pmod{26}$$\n",
    "We first need to find out when a decoding function $f^{-1}$\n",
    " exists. Such a decoding function exists when we can solve the equation\n",
    " $$ c = ap + b \\pmod{26}$$\n",
    " \n",
    "for $p$.\n",
    " By Proposition 3.4, this is possible exactly when $a$\n",
    " has an inverse or, equivalently, when $\\operatorname{gcd}(a,26)$.\n",
    " In this case\n",
    " $$f^{-1}(p) = a^{-1}p - a^{-1}b \\pmod{26}$$\n",
    " Such a cryptosystem is called an **affine cryptosystem**."
   ]
  },
  {
   "cell_type": "markdown",
   "metadata": {},
   "source": [
    "## Example\n",
    "Consider the affine cryptosystem $f(p) = ap+b \\pmod{26}$ where $a$ and $b$ are the unknown key.  You receive the message\n",
    "\n",
    "NRYNLWCCKKXCIYREWZNLECENWOECMZTPMDCELKKTCKECNMXDWCLETNLMNYZDECCUEDKJENLENRYNLUEIMZZKNSZKUWNXDMWCEVMCIMD\n",
    "\n",
    "Attempt to find the key and decrypt the message"
   ]
  },
  {
   "cell_type": "code",
   "execution_count": 12,
   "metadata": {
    "collapsed": false,
    "jupyter": {
     "outputs_hidden": false
    }
   },
   "outputs": [
    {
     "name": "stdout",
     "output_type": "stream",
     "text": [
      "Counter({'C': 13, 'E': 13, 'N': 12, 'K': 8, 'M': 8, 'L': 7, 'W': 6, 'Z': 6, 'D': 6, 'Y': 4, 'R': 3, 'X': 3, 'I': 3, 'T': 3, 'U': 3, 'O': 1, 'P': 1, 'J': 1, 'S': 1, 'V': 1})\n"
     ]
    }
   ],
   "source": [
    "from collections import Counter\n",
    "\n",
    "encrypted = \"NRYNLWCCKKXCIYREWZNLECENWOECMZTPMDCELKKTCKECNMXDWCLETNLMNYZDECCUEDKJENLENRYNLUEIMZZKNSZKUWNXDMWCEVMCIMD\"\n",
    "\n",
    "print(Counter(encrypted))"
   ]
  },
  {
   "cell_type": "code",
   "execution_count": 13,
   "metadata": {
    "collapsed": false,
    "jupyter": {
     "outputs_hidden": false
    }
   },
   "outputs": [
    {
     "name": "stdout",
     "output_type": "stream",
     "text": [
      "Encrypted digits:  [13, 17, 24, 13, 11, 22, 2, 2, 10, 10, 23, 2, 8, 24, 17, 4, 22, 25, 13, 11, 4, 2, 4, 13, 22, 14, 4, 2, 12, 25, 19, 15, 12, 3, 2, 4, 11, 10, 10, 19, 2, 10, 4, 2, 13, 12, 23, 3, 22, 2, 11, 4, 19, 13, 11, 12, 13, 24, 25, 3, 4, 2, 2, 20, 4, 3, 10, 9, 4, 13, 11, 4, 13, 17, 24, 13, 11, 20, 4, 8, 12, 25, 25, 10, 13, 18, 25, 10, 20, 22, 13, 23, 3, 12, 22, 2, 4, 21, 12, 2, 8, 12, 3] \n",
      "\n",
      "Decrypted digits?:  [13, 17, 24, 13, 11, 22, 2, 2, 10, 10, 23, 2, 8, 24, 17, 4, 22, 25, 13, 11, 4, 2, 4, 13, 22, 14, 4, 2, 12, 25, 19, 15, 12, 3, 2, 4, 11, 10, 10, 19, 2, 10, 4, 2, 13, 12, 23, 3, 22, 2, 11, 4, 19, 13, 11, 12, 13, 24, 25, 3, 4, 2, 2, 20, 4, 3, 10, 9, 4, 13, 11, 4, 13, 17, 24, 13, 11, 20, 4, 8, 12, 25, 25, 10, 13, 18, 25, 10, 20, 22, 13, 23, 3, 12, 22, 2, 4, 21, 12, 2, 8, 12, 3] \n",
      "\n",
      "Decrypted letters?: ['N', 'R', 'Y', 'N', 'L', 'W', 'C', 'C', 'K', 'K', 'X', 'C', 'I', 'Y', 'R', 'E', 'W', 'Z', 'N', 'L', 'E', 'C', 'E', 'N', 'W', 'O', 'E', 'C', 'M', 'Z', 'T', 'P', 'M', 'D', 'C', 'E', 'L', 'K', 'K', 'T', 'C', 'K', 'E', 'C', 'N', 'M', 'X', 'D', 'W', 'C', 'L', 'E', 'T', 'N', 'L', 'M', 'N', 'Y', 'Z', 'D', 'E', 'C', 'C', 'U', 'E', 'D', 'K', 'J', 'E', 'N', 'L', 'E', 'N', 'R', 'Y', 'N', 'L', 'U', 'E', 'I', 'M', 'Z', 'Z', 'K', 'N', 'S', 'Z', 'K', 'U', 'W', 'N', 'X', 'D', 'M', 'W', 'C', 'E', 'V', 'M', 'C', 'I', 'M', 'D'] \n",
      "\n",
      "Decrypted message?: NRYNLWCCKKXCIYREWZNLECENWOECMZTPMDCELKKTCKECNMXDWCLETNLMNYZDECCUEDKJENLENRYNLUEIMZZKNSZKUWNXDMWCEVMCIMD\n"
     ]
    }
   ],
   "source": [
    "R = Integers(26)\n",
    "a = R(1)\n",
    "b = R(0)\n",
    "\n",
    "\n",
    "encr_digit = [ord(x)-65 for x in encrypted]\n",
    "print(\"Encrypted digits: \", encr_digit, \"\\n\")\n",
    "decrypted = [ZZ(a^(-1)*R(x)+a^(-1)*b) for x in encr_digit]\n",
    "print(\"Decrypted digits?: \", decrypted, \"\\n\")\n",
    "letters = [chr(x+65) for x in decrypted]\n",
    "print(\"Decrypted letters?:\", letters, \"\\n\")\n",
    "message = ''.join(letters)\n",
    "print(\"Decrypted message?:\", message)"
   ]
  },
  {
   "cell_type": "markdown",
   "metadata": {},
   "source": [
    ".\n",
    "\n",
    ".\n",
    "\n",
    ".\n",
    "\n",
    ".\n",
    "\n",
    ".\n",
    "\n",
    ".\n",
    "\n",
    ".\n",
    "\n",
    ".\n",
    "\n",
    ".\n",
    "\n",
    ".\n",
    "\n",
    "\n",
    ".\n",
    "\n",
    ".\n",
    "\n",
    ".\n",
    "\n",
    ".\n",
    "\n",
    ".\n",
    "\n",
    ".\n",
    "\n",
    ".\n",
    "\n",
    ".\n",
    "\n",
    ".\n",
    "\n",
    ".\n",
    "\n",
    ".\n",
    "\n",
    ".\n",
    "\n",
    ".\n",
    "\n",
    "..\n",
    "\n",
    ".\n",
    "\n",
    "## Matrix cryptosystem - not used currently"
   ]
  },
  {
   "cell_type": "code",
   "execution_count": 140,
   "metadata": {
    "collapsed": false,
    "jupyter": {
     "outputs_hidden": false
    }
   },
   "outputs": [
    {
     "data": {
      "text/plain": [
       "[(22, 7), (4, 13)]"
      ]
     },
     "execution_count": 140,
     "metadata": {},
     "output_type": "execute_result"
    }
   ],
   "source": [
    "m_n = [ord(x)-65 for x in message]\n",
    "chunks = [vector(R,m_n[x:x+2]) for x in range(0, len(m_n), 2)]\n",
    "chunks[:2]"
   ]
  },
  {
   "cell_type": "code",
   "execution_count": 141,
   "metadata": {
    "collapsed": false,
    "jupyter": {
     "outputs_hidden": false
    }
   },
   "outputs": [
    {
     "data": {
      "text/plain": [
       "[(25, 12), (1, 6)]"
      ]
     },
     "execution_count": 141,
     "metadata": {},
     "output_type": "execute_result"
    }
   ],
   "source": [
    "e_n = [(A*x+b) for x in chunks]\n",
    "e_n[:2]"
   ]
  },
  {
   "cell_type": "code",
   "execution_count": 142,
   "metadata": {
    "collapsed": false,
    "jupyter": {
     "outputs_hidden": false
    }
   },
   "outputs": [
    {
     "data": {
      "text/plain": [
       "'ZMBGKLRRBXKSAJLZTFJVOEMNECZAXDAUTZYBEWQDVIZBQDUSKLXJTFTZEQVB'"
      ]
     },
     "execution_count": 142,
     "metadata": {},
     "output_type": "execute_result"
    }
   ],
   "source": [
    "encoded = [chr(ZZ(x[0])+65)+chr(ZZ(x[1])+65) for x in e_n]\n",
    "e_message = ''.join(encoded)\n",
    "e_message"
   ]
  },
  {
   "cell_type": "code",
   "execution_count": 143,
   "metadata": {
    "collapsed": false,
    "jupyter": {
     "outputs_hidden": false
    }
   },
   "outputs": [
    {
     "data": {
      "text/plain": [
       "[(25, 12), (1, 6)]"
      ]
     },
     "execution_count": 143,
     "metadata": {},
     "output_type": "execute_result"
    }
   ],
   "source": [
    "e_n = [ord(x)-65 for x in e_message]\n",
    "e_chunks = [vector(R,e_n[x:x+2]) for x in range(0, len(e_n), 2)]\n",
    "e_chunks[:2]"
   ]
  },
  {
   "cell_type": "code",
   "execution_count": 144,
   "metadata": {
    "collapsed": false,
    "jupyter": {
     "outputs_hidden": false
    }
   },
   "outputs": [
    {
     "data": {
      "text/plain": [
       "[(22, 7), (4, 13)]"
      ]
     },
     "execution_count": 144,
     "metadata": {},
     "output_type": "execute_result"
    }
   ],
   "source": [
    "m_n = [A.inverse()*(x-b) for x in e_chunks]\n",
    "m_n[:2]"
   ]
  },
  {
   "cell_type": "code",
   "execution_count": 145,
   "metadata": {
    "collapsed": false,
    "jupyter": {
     "outputs_hidden": false
    }
   },
   "outputs": [
    {
     "data": {
      "text/plain": [
       "'WHENXTHEXMOONXHITSXYOURXEYEXLIKEXAXBIGXPIZZAXPIEXTHATSXAMORE'"
      ]
     },
     "execution_count": 145,
     "metadata": {},
     "output_type": "execute_result"
    }
   ],
   "source": [
    "message = [chr(ZZ(x[0])+65)+chr(ZZ(x[1])+65) for x in m_n]\n",
    "''.join(message)"
   ]
  },
  {
   "cell_type": "code",
   "execution_count": null,
   "metadata": {
    "collapsed": false,
    "jupyter": {
     "outputs_hidden": false
    }
   },
   "outputs": [],
   "source": []
  }
 ],
 "metadata": {
  "kernelspec": {
   "display_name": "Python 3 (ipykernel)",
   "language": "python",
   "name": "python3"
  },
  "language_info": {
   "codemirror_mode": {
    "name": "ipython",
    "version": 3
   },
   "file_extension": ".py",
   "mimetype": "text/x-python",
   "name": "python",
   "nbconvert_exporter": "python",
   "pygments_lexer": "ipython3",
   "version": "3.11.5"
  }
 },
 "nbformat": 4,
 "nbformat_minor": 4
}
